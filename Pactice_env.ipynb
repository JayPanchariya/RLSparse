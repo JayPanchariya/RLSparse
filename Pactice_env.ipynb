{
 "cells": [
  {
   "cell_type": "code",
   "execution_count": 1,
   "id": "1529fb67",
   "metadata": {},
   "outputs": [
    {
     "name": "stderr",
     "output_type": "stream",
     "text": [
      "2025-06-04 00:00:05.874096: I tensorflow/core/platform/cpu_feature_guard.cc:182] This TensorFlow binary is optimized to use available CPU instructions in performance-critical operations.\n",
      "To enable the following instructions: AVX2 FMA, in other operations, rebuild TensorFlow with the appropriate compiler flags.\n"
     ]
    }
   ],
   "source": [
    "import numpy as np\n",
    "import tensorflow as tf\n",
    "#import environment\n",
    "from tf_agents.environments import py_environment\n",
    "from tf_agents.environments import tf_py_environment #allows parallel computing for generating experiences\n",
    "from tf_agents.environments.parallel_py_environment import ParallelPyEnvironment\n",
    "\n",
    "#agent\n",
    "from tf_agents.trajectories import StepType\n",
    "\n",
    "\n",
    "#other used packages\n",
    "from tf_agents.specs import array_spec\n",
    "from tf_agents.trajectories import time_step as ts\n",
    "\n",
    "from typing import Tuple\n",
    "\n",
    "\n",
    "import collections\n",
    "import gym\n",
    "\n",
    "import numpy as np\n",
    "\n",
    "import statistics\n",
    "import tensorflow as tf\n",
    "import tqdm\n",
    "\n",
    "import function2D as fun\n",
    "\n",
    "from matplotlib import pyplot as plt\n",
    "from tensorflow.keras import layers\n",
    "from typing import Any, List, Sequence, Tuple"
   ]
  },
  {
   "cell_type": "code",
   "execution_count": 2,
   "id": "a3f046c5",
   "metadata": {},
   "outputs": [],
   "source": [
    "# !pip install tensorflow==2.15.0\n",
    "# pip install dm-reverb==0.14.0\n",
    "# pip install tf-agents==0.19.0\n",
    "\n",
    "# pip install numpy \n",
    "\n",
    "# pip install pygad==3.1.1\n",
    "\n",
    "# pip3 install -U scikit-learn\n",
    "\n",
    "# pip install pyswarms==3.10.1\n"
   ]
  },
  {
   "cell_type": "markdown",
   "id": "c46b0b43",
   "metadata": {},
   "source": [
    "r = np.random.RandomState(0) Creates a NumPy random number generator with seed 0. All random numbers generated via r will now be deterministic and repeatable.\n",
    "tf.random.set_seed(42) Sets the global seed for TensorFlow's random ops.\n",
    "\n",
    "Because many ML/RL pipelines use:NumPy for action sampling, data processing, etc.\n",
    "# TensorFlow for neural networks, gradients, agents.\n",
    "# To get full reproducibility, you need to set seeds for both libraries."
   ]
  },
  {
   "cell_type": "code",
   "execution_count": 3,
   "id": "a54bb6a8",
   "metadata": {},
   "outputs": [],
   "source": [
    "# Set seed for experiment reproducibility\n",
    "seed = 42\n",
    "tf.random.set_seed(seed)\n",
    "np.random.seed(seed)\n",
    "\n",
    "# Small epsilon value for stabilizing division operations\n",
    "eps = np.finfo(np.float32).eps.item()"
   ]
  },
  {
   "cell_type": "markdown",
   "id": "c591d282",
   "metadata": {},
   "source": [
    "Define the Environment(from original code Line 135-231) "
   ]
  },
  {
   "cell_type": "markdown",
   "id": "e3834a93",
   "metadata": {},
   "source": [
    " Building a custom environment for reinforcement learning using TF-Agents to optimize a function in continuous space, but with a discrete-like action specification. "
   ]
  },
  {
   "cell_type": "markdown",
   "id": "decb0ccf",
   "metadata": {},
   "source": [
    "Creating an optimization-style RL environment:\n",
    "\n",
    "State: a 2D vector (self._state) initialized at x0_reinforce\n",
    "Action: a vector of shape (2,) where each entry is a discrete int in [0, act_max - act_min]\n",
    "Goal: update the state using the direction defined by action to maximize a reward computed from the new state"
   ]
  },
  {
   "cell_type": "markdown",
   "id": "f44f600b",
   "metadata": {},
   "source": [
    "self._action_spec \n",
    "minimum=0, maximum=2: So each element of the action vector is an integer in {0, 1, 2}\n",
    "\n",
    "But why does the action effectively behave like it has only {0, 1}?\n",
    "normalized_act = (action - self.act_max) / np.sqrt((action - self.act_max)**2 + 1e-7)\n",
    "\n",
    "action=0     0-1=-1\n",
    "\n",
    "action=1     1-1=0\n",
    "\n",
    "action=2     2-1=1\n",
    " \n",
    " So technically, the action values can be {0, 1, 2}, but when you interpret them through normalization, they behave like directions:\n",
    "\n",
    "0 → move negative\n",
    "1 → don't move\n",
    "2 → move positive"
   ]
  },
  {
   "cell_type": "markdown",
   "id": "e22382c4",
   "metadata": {},
   "source": [
    "normalized_act ≈ [-1, 0, or 1] per dimension\n",
    "So action space is discrete with 3 choices per dimension, but the effect on the state is like choosing to move negatively, stay still, or move positively in each dimension."
   ]
  },
  {
   "cell_type": "code",
   "execution_count": 4,
   "id": "04f10db0",
   "metadata": {},
   "outputs": [],
   "source": [
    "class Env(py_environment.PyEnvironment):\n",
    "    def __init__(self, x0_reinforce, act_min = -1, act_max = 1, step_size=0.05, disc_factor = 1.0, sub_episode_length = 30, N=2):\n",
    "        '''The function to initialize an Env obj. #Initialize environment specs and parameters\n",
    "        '''\n",
    "        print(\"dddd\")\n",
    "        self.state_dim=N ### number of dim\n",
    "        self.x0_reinforce = x0_reinforce ## Initial state (starting point for each episode)\n",
    "        self.step_size = step_size  #How much each action changes the state\n",
    "        self.disc_factor = disc_factor  #Discount factor for rewards (usually 1 in optimization)\n",
    "        self.sub_episode_length = sub_episode_length #Max steps per episode\n",
    "        #Specify the requirement for the value of action, (It is a 2d-array for this case)\n",
    "        #which is an argument of _step(self, action) that is later defined.\n",
    "        #tf_agents.specs.BoundedArraySpec is a class.\n",
    "        #_action_spec.check_array( arr ) returns true if arr conforms to the specification stored in _action_spec\n",
    "        self.act_min =  act_min ## action confined\n",
    "        self.act_max = act_max #Used to define discrete action range\n",
    "        \n",
    "        #Describes the format of actions the agent can take — discrete, vectorized\n",
    "        #mapping discrete actions to continuous movement directions\n",
    "        self._action_spec = array_spec.BoundedArraySpec(\n",
    "                            shape=(self.state_dim,), dtype=np.int32, minimum=0, maximum=self.act_max-self.act_min, name='action') #a_t is an 2darray\n",
    "     \n",
    "\n",
    "        # print(self._action_spec)\n",
    "        #Specify the format requirement for observation (It is a 2d-array for this case), \n",
    "        #i.e. the observable part of S_t, and it is stored in self._state\n",
    "        \n",
    "        #Describes how the environment represents state (continuous vector)\n",
    "        self._observation_spec = array_spec.BoundedArraySpec(\n",
    "                                 shape=(self.state_dim,), dtype=np.float32, name='observation') #default max and min is None\n",
    "        \n",
    "        #Current state of the environment\n",
    "        self._state = np.array(self.x0_reinforce,dtype=np.float32)\n",
    "        #self.A = mat\n",
    "        \n",
    "        #Whether the episode is done\n",
    "        self._episode_ended = False\n",
    "        #stop_threshold is a condition for terminating the process for looking for the solution\n",
    "        #self._stop_threshold = 0.01\n",
    "        self._step_counter = 0 #Counts steps taken in this episode\n",
    "\n",
    "    def action_spec(self):\n",
    "        #return the format requirement for action\n",
    "        return self._action_spec #Returns the specification of allowed actions, required by TF-Agents.\n",
    "\n",
    "    def observation_spec(self):\n",
    "        #return the format requirement for observation\n",
    "        return self._observation_spec\n",
    "\n",
    "    def _reset(self):  #Resets the environment to its initial state (at start of each episode).\n",
    "        self._state = np.array(self.x0_reinforce,dtype=np.float32)  #Resets self._state to x0_reinforce\n",
    "        self._episode_ended = False\n",
    "        self._step_counter = 0\n",
    "        \n",
    "        #Reward\n",
    "        initial_r = np.float32(0.0)\n",
    "        \n",
    "        #return ts.restart(observation=np.array(self._state, dtype=np.float32))\n",
    "        return ts.TimeStep(step_type=StepType.FIRST,                            #Returns a TimeStep with:step_type = StepType;FIRSTreward = 0.0;observation = state\n",
    "                           reward=initial_r, \n",
    "                           discount=np.float32(self.disc_factor), \n",
    "                           observation=np.array(self._state, dtype=np.float32)\n",
    "                           )\n",
    "    \n",
    "    def set_state(self,new_state):   #set and get state Used to manually manipulate or retrieve the state — useful for testing or external control.\n",
    "        self._state = new_state \n",
    "    \n",
    "    def get_state(self):\n",
    "        return self._state\n",
    "    \n",
    "    def _step(self, action):\n",
    "        '''\n",
    "        The function for the transition from (S_t, A_t) to (R_{t+1}, S_{t+1}).\n",
    "\n",
    "        Input\n",
    "        ------\n",
    "        action: A_t (array or int)\n",
    "\n",
    "        Output\n",
    "        -------\n",
    "        Tuple: (state, reward, done, truncated, info)\n",
    "        '''\n",
    "        # If the episode ended in the previous step, reset\n",
    "        action = np.asarray(action, dtype=np.float32)\n",
    "        if self._episode_ended:\n",
    "            return self._reset()  # Should also return (state, info)\n",
    "\n",
    "        # ---------- Compute S_{t+1} ----------\n",
    "        normalized_act = (action - self.act_max) / np.sqrt((action - self.act_max)**2 + 1e-7)\n",
    "        self._state = self._state + normalized_act * self.step_size\n",
    "        self._step_counter += 1\n",
    "\n",
    "        # ---------- Compute R_{t+1} ----------\n",
    "        R = fun.compute_reward(self._state)\n",
    "\n",
    "        # ---------- Termination condition ----------\n",
    "        done = self._step_counter >= self.sub_episode_length - 1\n",
    "        self._episode_ended = done\n",
    "\n",
    "        # ---------- Return Gym-style step ----------\n",
    "        return (\n",
    "            np.array(self._state, dtype=np.float32),  # next state\n",
    "            float(R),                                 # reward\n",
    "            1,                                     # done (natural end)\n",
    "            False,                                    # truncated (optional: implement if needed)\n",
    "            {}                                        # info\n",
    "        )\n",
    "\n",
    "    \n",
    "    # def _step(self, action):   #Executes one time step: applies action, updates state, computes reward.\n",
    "    #     '''\n",
    "    #     The function for the transtion from (S_t, A_t) to (R_{t+1}, S_{t+1}).\n",
    "    \n",
    "    #     Input.\n",
    "    #     --------\n",
    "    #     self: contain S_t.\n",
    "    #     action: A_t.\n",
    "    \n",
    "    #     Output.\n",
    "    #     --------\n",
    "    #     an TimeStep obj, TimeStep(step_type_{t+1}, R_{t+1}, discount_{t+1}, observation S_{t+1})\n",
    "    #     ''' \n",
    "    #     # Suppose that we are at the beginning of time t \n",
    "        \n",
    "    #     ################## --- Determine whether we should end the episode.\n",
    "    #     if self._episode_ended:  # its time-t value is set at the end of t-1\n",
    "    #         return self.reset()\n",
    "    #     # Move on to the following if self._episode_ended=False\n",
    "        \n",
    "        \n",
    "    #     ################# --- Compute S_{t+1} \n",
    "    #     #Note that we set the action space as a set of non-negative vectors\n",
    "    #     #action-act_max converts the set to the desired set of negative vectors.\n",
    "    #     normalized_act = (action-self.act_max)/np.sqrt((action-self.act_max)**2+0.0000001)    #mapping discrete actions to continuous movement directions\n",
    "    #     self._state = self._state + normalized_act*self.step_size    \n",
    "    #     self._step_counter +=1\n",
    "        \n",
    "    #     ################# --- Compute R_{t+1}=R(S_t,A_t)\n",
    "    #     R = fun.compute_reward(self._state)\n",
    "        \n",
    "    #     #Set conditions for termination\n",
    "    #     if self._step_counter>=self.sub_episode_length-1:\n",
    "    #         self._episode_ended = True  #value for t+1\n",
    "\n",
    "    #     #Now we are at the end of time t, when self._episode_ended may have changed\n",
    "    #     if self._episode_ended:\n",
    "    #         #if self._step_counter>100:\n",
    "    #         #    reward += np.float32(-100)\n",
    "    #         #ts.termination(observation,reward,outer_dims=None): Returns a TimeStep obj with step_type set to StepType.LAST.\n",
    "    #         return ts.termination(np.array(self._state, dtype=np.float32), reward=R)\n",
    "    #     else:\n",
    "    #         #ts.transition(observation,reward,discount,outer_dims=None): Returns \n",
    "    #         #a TimeStep obj with step_type set to StepType.MID.\n",
    "    #         return ts.transition(np.array(self._state, dtype=np.float32), reward=R, discount= self.disc_factor)"
   ]
  },
  {
   "cell_type": "code",
   "execution_count": 5,
   "id": "9d0cd0a5",
   "metadata": {},
   "outputs": [],
   "source": [
    "from tensorflow.keras import layers\n",
    "from typing import Any, List, Sequence, Tuple\n",
    "class ActorCritic(tf.keras.Model):\n",
    "  \"\"\"Combined actor-critic network.\"\"\"\n",
    "\n",
    "  def __init__(\n",
    "      self,\n",
    "      num_actions: int,\n",
    "      num_hidden_units: int):\n",
    "    \"\"\"Initialize.\"\"\"\n",
    "    super().__init__()\n",
    "\n",
    "    self.common = layers.Dense(num_hidden_units, activation=\"relu\") #A fully connected (dense) layer shared by both the actor and critic and activation=\"relu\" introduces non-linearity.\n",
    "    self.actor = layers.Dense(num_actions) #Outputs raw logits for each action (not passed through softmax here).This head is used for the actor, i.e., the policy.\n",
    "    self.critic = layers.Dense(1) #Outputs a single scalar: the estimated value of the current state. This is the critic.\n",
    "\n",
    "  def call(self, inputs: tf.Tensor) -> Tuple[tf.Tensor, tf.Tensor]: #inputs: A batch of states (observations).\n",
    "    x = self.common(inputs) #Passes the input through the shared dense layer.\n",
    "    return self.actor(x) #The output x is then: Passed to the actor head → policy logits. Passed to the critic head → scalar value estimate"
   ]
  },
  {
   "cell_type": "code",
   "execution_count": 6,
   "id": "adafd9ae",
   "metadata": {},
   "outputs": [
    {
     "name": "stdout",
     "output_type": "stream",
     "text": [
      "dddd\n"
     ]
    }
   ],
   "source": [
    "\n",
    "x0_reinforce = np.array([0.5,-1.0])\n",
    "EnvTest=Env(x0_reinforce, step_size=10)"
   ]
  },
  {
   "cell_type": "code",
   "execution_count": 7,
   "id": "cbba67b9",
   "metadata": {},
   "outputs": [
    {
     "data": {
      "text/plain": [
       "TimeStep(\n",
       "{'step_type': array(0, dtype=int32),\n",
       " 'reward': 0.0,\n",
       " 'discount': 1.0,\n",
       " 'observation': array([ 0.5, -1. ], dtype=float32)})"
      ]
     },
     "execution_count": 7,
     "metadata": {},
     "output_type": "execute_result"
    }
   ],
   "source": [
    "EnvTest._reset()"
   ]
  },
  {
   "cell_type": "code",
   "execution_count": 8,
   "id": "0fce6adb",
   "metadata": {},
   "outputs": [
    {
     "data": {
      "text/plain": [
       "2"
      ]
     },
     "execution_count": 8,
     "metadata": {},
     "output_type": "execute_result"
    }
   ],
   "source": [
    "num_actions = EnvTest.action_spec().shape[0]\n",
    "num_actions"
   ]
  },
  {
   "cell_type": "code",
   "execution_count": 9,
   "id": "a95eb994",
   "metadata": {},
   "outputs": [],
   "source": [
    "num_hidden_units = 128\n",
    "\n",
    "model = ActorCritic(num_actions, num_hidden_units)"
   ]
  },
  {
   "cell_type": "code",
   "execution_count": 10,
   "id": "18c5ed9c",
   "metadata": {},
   "outputs": [
    {
     "data": {
      "text/plain": [
       "array([ 0.5, -1. ], dtype=float32)"
      ]
     },
     "execution_count": 10,
     "metadata": {},
     "output_type": "execute_result"
    }
   ],
   "source": [
    "EnvTest._reset().observation"
   ]
  },
  {
   "cell_type": "code",
   "execution_count": 11,
   "id": "7b86ebb3",
   "metadata": {},
   "outputs": [
    {
     "data": {
      "text/plain": [
       "(array([ -9.499999, -11.      ], dtype=float32),\n",
       " -0.0024938095426111527,\n",
       " 1,\n",
       " False,\n",
       " {})"
      ]
     },
     "execution_count": 11,
     "metadata": {},
     "output_type": "execute_result"
    }
   ],
   "source": [
    "EnvTest._step(EnvTest._reset().observation)"
   ]
  },
  {
   "cell_type": "code",
   "execution_count": 12,
   "id": "a33fc975",
   "metadata": {},
   "outputs": [
    {
     "data": {
      "text/plain": [
       "array([ -9.499999, -11.      ], dtype=float32)"
      ]
     },
     "execution_count": 12,
     "metadata": {},
     "output_type": "execute_result"
    }
   ],
   "source": [
    "EnvTest._state"
   ]
  },
  {
   "cell_type": "code",
   "execution_count": 13,
   "id": "76bc5bae",
   "metadata": {},
   "outputs": [],
   "source": [
    "\n",
    "# @tf.numpy_function(Tout=[tf.float32, tf.int32, tf.int32])\n",
    "def env_step(action: np.ndarray) -> Tuple[np.ndarray, np.ndarray, np.ndarray]:\n",
    "  \"\"\"Returns state, reward and done flag given an action.\"\"\"\n",
    "  state, reward, done, truncated, info = EnvTest._step(action)\n",
    "  return (state.astype(np.float32),\n",
    "          np.array(reward, np.int32),\n",
    "          np.array(done, np.int32))"
   ]
  },
  {
   "cell_type": "code",
   "execution_count": 14,
   "id": "00d41142",
   "metadata": {},
   "outputs": [],
   "source": [
    "def get_expected_return(\n",
    "    rewards: tf.Tensor,\n",
    "    standardize: bool = True) -> tf.Tensor:\n",
    "  \"\"\"Compute expected returns per timestep.\"\"\"\n",
    "\n",
    "  n = tf.shape(rewards)[0]\n",
    "  returns = tf.TensorArray(dtype=tf.float32, size=n)\n",
    "\n",
    "  # Start from the end of `rewards` and accumulate reward sums\n",
    "  # into the `returns` array\n",
    "  rewards = tf.cast(rewards[::-1], dtype=tf.float32)\n",
    "  discounted_sum = tf.constant(0.0)\n",
    "  discounted_sum_shape = discounted_sum.shape\n",
    "  for i in tf.range(n):\n",
    "    reward = rewards[i]\n",
    "    discounted_sum = reward \n",
    "    discounted_sum.set_shape(discounted_sum_shape)\n",
    "    returns = returns.write(i, discounted_sum)\n",
    "  returns = returns.stack()[::-1]\n",
    "\n",
    "  if standardize:\n",
    "    returns = ((returns - tf.math.reduce_mean(returns)) /\n",
    "               (tf.math.reduce_std(returns) + eps))\n",
    "\n",
    "  return returns"
   ]
  },
  {
   "cell_type": "code",
   "execution_count": 15,
   "id": "3128c8f5",
   "metadata": {},
   "outputs": [],
   "source": [
    "def run_episode(\n",
    "    initial_state: tf.Tensor,\n",
    "    model: tf.keras.Model,\n",
    "    max_steps: int) -> Tuple[tf.Tensor, tf.Tensor, tf.Tensor]:\n",
    "  \"\"\"Runs a single episode to collect training data.\"\"\"\n",
    "\n",
    "  action_probs = tf.TensorArray(dtype=tf.float32, size=0, dynamic_size=True)\n",
    "  # values = tf.TensorArray(dtype=tf.float32, size=0, dynamic_size=True)\n",
    "  rewards = tf.TensorArray(dtype=tf.int32, size=0, dynamic_size=True)\n",
    "\n",
    "  initial_state_shape = initial_state.shape\n",
    "  state = initial_state\n",
    "\n",
    "  for t in tf.range(max_steps):\n",
    "    # Convert state into a batched tensor (batch size = 1)\n",
    "    state = tf.expand_dims(state, 0)\n",
    "\n",
    "    # Run the model and to get action probabilities and critic value\n",
    "    action_logits_t= model(state)\n",
    "\n",
    "    # Sample next action from the action probability distribution\n",
    "    \n",
    "    action = tf.random.categorical(action_logits_t, 1)[0, 0]\n",
    "    action_probs_t = tf.nn.softmax(action_logits_t)\n",
    "\n",
    "    # Store critic values\n",
    "    # values = 0 #values.write(t, tf.squeeze(value))\n",
    "\n",
    "    # Store log probability of the action chosen\n",
    "    action_probs = action_probs.write(t, action_probs_t[0, action])\n",
    "\n",
    "    # Apply action to the environment to get next state and reward\n",
    "    state, reward, done = env_step(action)\n",
    "    state.reshape(initial_state_shape)\n",
    "\n",
    "    # Store reward\n",
    "    rewards = rewards.write(t, reward)\n",
    "\n",
    "    if tf.cast(done, tf.bool):\n",
    "      break\n",
    "\n",
    "  action_probs = action_probs.stack()\n",
    "  # values = values.stack()\n",
    "  rewards = rewards.stack()\n",
    "\n",
    "  return action_probs, rewards"
   ]
  },
  {
   "cell_type": "code",
   "execution_count": 16,
   "id": "b120f167",
   "metadata": {},
   "outputs": [],
   "source": [
    "huber_loss = tf.keras.losses.Huber(reduction=tf.keras.losses.Reduction.SUM)\n",
    "\n",
    "def compute_loss(\n",
    "    action_probs: tf.Tensor,\n",
    "    returns: tf.Tensor) -> tf.Tensor:\n",
    "  \"\"\"Computes the combined Actor-Critic loss.\"\"\"\n",
    "\n",
    "  advantage = returns\n",
    "\n",
    "  action_log_probs = tf.math.log(action_probs)\n",
    "  actor_loss = -tf.math.reduce_sum(action_log_probs * advantage)\n",
    "\n",
    "  return actor_loss "
   ]
  },
  {
   "cell_type": "code",
   "execution_count": 17,
   "id": "421286d6",
   "metadata": {},
   "outputs": [],
   "source": [
    "optimizer = tf.keras.optimizers.Adam(learning_rate=0.01)\n",
    "\n",
    "\n",
    "# @tf.function\n",
    "def train_step( initial_state: tf.Tensor,\n",
    "    model: tf.keras.Model,\n",
    "    optimizer: tf.keras.optimizers.Optimizer,\n",
    "    gamma: float,\n",
    "    max_steps_per_episode: int) : \n",
    "  \"\"\"Runs a model training step.\"\"\"\n",
    "  with tf.GradientTape() as tape:\n",
    "\n",
    "    # Run the model for one episode to collect training data\n",
    "    action_probs, rewards = run_episode(\n",
    "        initial_state, model, max_steps_per_episode)\n",
    "\n",
    "    # Calculate the expected returns\n",
    "    returns = get_expected_return(rewards,standardize=True)\n",
    "\n",
    "    # Convert training data to appropriate TF tensor shapes\n",
    "    action_probs, returns = [\n",
    "        tf.expand_dims(x, 1) for x in [action_probs, returns]]\n",
    "\n",
    "    # Calculate the loss values to update our network\n",
    "    loss = compute_loss(action_probs, returns)\n",
    "\n",
    "  # Compute the gradients from the loss\n",
    "  grads = tape.gradient(loss, model.trainable_variables)\n",
    "\n",
    "  # Apply the gradients to the model's parameters\n",
    "  optimizer.apply_gradients(zip(grads, model.trainable_variables))\n",
    "\n",
    "  episode_reward = tf.math.reduce_sum(rewards)\n",
    "\n",
    "  return episode_reward, loss"
   ]
  },
  {
   "cell_type": "code",
   "execution_count": 18,
   "id": "e368c55e",
   "metadata": {},
   "outputs": [
    {
     "name": "stderr",
     "output_type": "stream",
     "text": [
      "  0%|          | 5/10000 [00:00<10:21, 16.09it/s, episode_reward=0, running_reward=0]"
     ]
    },
    {
     "name": "stdout",
     "output_type": "stream",
     "text": [
      "loss tf.Tensor(0.0, shape=(), dtype=float32)\n",
      "loss tf.Tensor(0.0, shape=(), dtype=float32)\n",
      "loss tf.Tensor(0.0, shape=(), dtype=float32)\n",
      "loss tf.Tensor(0.0, shape=(), dtype=float32)\n",
      "loss tf.Tensor(0.0, shape=(), dtype=float32)\n",
      "loss tf.Tensor(0.0, shape=(), dtype=float32)\n",
      "loss tf.Tensor(0.0, shape=(), dtype=float32)\n"
     ]
    },
    {
     "name": "stderr",
     "output_type": "stream",
     "text": [
      "  0%|          | 13/10000 [00:00<06:04, 27.37it/s, episode_reward=0, running_reward=0]"
     ]
    },
    {
     "name": "stdout",
     "output_type": "stream",
     "text": [
      "loss tf.Tensor(0.0, shape=(), dtype=float32)\n",
      "loss tf.Tensor(0.0, shape=(), dtype=float32)\n",
      "loss tf.Tensor(0.0, shape=(), dtype=float32)\n",
      "loss tf.Tensor(0.0, shape=(), dtype=float32)\n",
      "loss tf.Tensor(0.0, shape=(), dtype=float32)\n",
      "loss tf.Tensor(0.0, shape=(), dtype=float32)\n",
      "loss tf.Tensor(0.0, shape=(), dtype=float32)\n",
      "loss tf.Tensor(0.0, shape=(), dtype=float32)\n"
     ]
    },
    {
     "name": "stderr",
     "output_type": "stream",
     "text": [
      "  0%|          | 21/10000 [00:00<05:13, 31.88it/s, episode_reward=0, running_reward=0]"
     ]
    },
    {
     "name": "stdout",
     "output_type": "stream",
     "text": [
      "loss tf.Tensor(0.0, shape=(), dtype=float32)\n",
      "loss tf.Tensor(0.0, shape=(), dtype=float32)\n",
      "loss tf.Tensor(0.0, shape=(), dtype=float32)\n",
      "loss tf.Tensor(0.0, shape=(), dtype=float32)\n",
      "loss tf.Tensor(0.0, shape=(), dtype=float32)\n",
      "loss tf.Tensor(0.0, shape=(), dtype=float32)\n",
      "loss tf.Tensor(0.0, shape=(), dtype=float32)\n",
      "loss tf.Tensor(0.0, shape=(), dtype=float32)\n"
     ]
    },
    {
     "name": "stderr",
     "output_type": "stream",
     "text": [
      "  0%|          | 29/10000 [00:01<05:00, 33.15it/s, episode_reward=0, running_reward=0]"
     ]
    },
    {
     "name": "stdout",
     "output_type": "stream",
     "text": [
      "loss tf.Tensor(0.0, shape=(), dtype=float32)\n",
      "loss tf.Tensor(0.0, shape=(), dtype=float32)\n",
      "loss tf.Tensor(0.0, shape=(), dtype=float32)\n",
      "loss tf.Tensor(0.0, shape=(), dtype=float32)\n",
      "loss tf.Tensor(0.0, shape=(), dtype=float32)\n",
      "loss tf.Tensor(0.0, shape=(), dtype=float32)\n",
      "loss tf.Tensor(0.0, shape=(), dtype=float32)\n"
     ]
    },
    {
     "name": "stderr",
     "output_type": "stream",
     "text": [
      "  0%|          | 37/10000 [00:01<04:47, 34.66it/s, episode_reward=0, running_reward=0]"
     ]
    },
    {
     "name": "stdout",
     "output_type": "stream",
     "text": [
      "loss tf.Tensor(0.0, shape=(), dtype=float32)\n",
      "loss tf.Tensor(0.0, shape=(), dtype=float32)\n",
      "loss tf.Tensor(0.0, shape=(), dtype=float32)\n",
      "loss tf.Tensor(0.0, shape=(), dtype=float32)\n",
      "loss tf.Tensor(0.0, shape=(), dtype=float32)\n",
      "loss tf.Tensor(0.0, shape=(), dtype=float32)\n",
      "loss tf.Tensor(0.0, shape=(), dtype=float32)\n",
      "loss tf.Tensor(0.0, shape=(), dtype=float32)\n"
     ]
    },
    {
     "name": "stderr",
     "output_type": "stream",
     "text": [
      "  0%|          | 45/10000 [00:01<04:42, 35.26it/s, episode_reward=0, running_reward=0]"
     ]
    },
    {
     "name": "stdout",
     "output_type": "stream",
     "text": [
      "loss tf.Tensor(0.0, shape=(), dtype=float32)\n",
      "loss tf.Tensor(0.0, shape=(), dtype=float32)\n",
      "loss tf.Tensor(0.0, shape=(), dtype=float32)\n",
      "loss tf.Tensor(0.0, shape=(), dtype=float32)\n",
      "loss tf.Tensor(0.0, shape=(), dtype=float32)\n",
      "loss tf.Tensor(0.0, shape=(), dtype=float32)\n",
      "loss tf.Tensor(0.0, shape=(), dtype=float32)\n",
      "loss tf.Tensor(0.0, shape=(), dtype=float32)\n"
     ]
    },
    {
     "name": "stderr",
     "output_type": "stream",
     "text": [
      "  1%|          | 53/10000 [00:01<04:38, 35.66it/s, episode_reward=0, running_reward=0]"
     ]
    },
    {
     "name": "stdout",
     "output_type": "stream",
     "text": [
      "loss tf.Tensor(0.0, shape=(), dtype=float32)\n",
      "loss tf.Tensor(0.0, shape=(), dtype=float32)\n",
      "loss tf.Tensor(0.0, shape=(), dtype=float32)\n",
      "loss tf.Tensor(0.0, shape=(), dtype=float32)\n",
      "loss tf.Tensor(0.0, shape=(), dtype=float32)\n",
      "loss tf.Tensor(0.0, shape=(), dtype=float32)\n",
      "loss tf.Tensor(0.0, shape=(), dtype=float32)\n",
      "loss tf.Tensor(0.0, shape=(), dtype=float32)\n"
     ]
    },
    {
     "name": "stderr",
     "output_type": "stream",
     "text": [
      "  1%|          | 61/10000 [00:01<04:39, 35.52it/s, episode_reward=0, running_reward=0]"
     ]
    },
    {
     "name": "stdout",
     "output_type": "stream",
     "text": [
      "loss tf.Tensor(0.0, shape=(), dtype=float32)\n",
      "loss tf.Tensor(0.0, shape=(), dtype=float32)\n",
      "loss tf.Tensor(0.0, shape=(), dtype=float32)\n",
      "loss tf.Tensor(0.0, shape=(), dtype=float32)\n",
      "loss tf.Tensor(0.0, shape=(), dtype=float32)\n",
      "loss tf.Tensor(0.0, shape=(), dtype=float32)\n",
      "loss tf.Tensor(0.0, shape=(), dtype=float32)\n",
      "loss tf.Tensor(0.0, shape=(), dtype=float32)\n"
     ]
    },
    {
     "name": "stderr",
     "output_type": "stream",
     "text": [
      "  1%|          | 69/10000 [00:02<04:37, 35.79it/s, episode_reward=0, running_reward=0]"
     ]
    },
    {
     "name": "stdout",
     "output_type": "stream",
     "text": [
      "loss tf.Tensor(0.0, shape=(), dtype=float32)\n",
      "loss tf.Tensor(0.0, shape=(), dtype=float32)\n",
      "loss tf.Tensor(0.0, shape=(), dtype=float32)\n",
      "loss tf.Tensor(0.0, shape=(), dtype=float32)\n",
      "loss tf.Tensor(0.0, shape=(), dtype=float32)\n",
      "loss tf.Tensor(0.0, shape=(), dtype=float32)\n",
      "loss tf.Tensor(0.0, shape=(), dtype=float32)\n",
      "loss tf.Tensor(0.0, shape=(), dtype=float32)\n"
     ]
    },
    {
     "name": "stderr",
     "output_type": "stream",
     "text": [
      "  1%|          | 77/10000 [00:02<06:06, 27.05it/s, episode_reward=0, running_reward=0]"
     ]
    },
    {
     "name": "stdout",
     "output_type": "stream",
     "text": [
      "loss tf.Tensor(0.0, shape=(), dtype=float32)\n",
      "loss tf.Tensor(0.0, shape=(), dtype=float32)\n",
      "loss tf.Tensor(0.0, shape=(), dtype=float32)\n",
      "loss tf.Tensor(0.0, shape=(), dtype=float32)\n",
      "loss tf.Tensor(0.0, shape=(), dtype=float32)\n",
      "loss tf.Tensor(0.0, shape=(), dtype=float32)\n",
      "loss tf.Tensor(0.0, shape=(), dtype=float32)\n",
      "loss tf.Tensor(0.0, shape=(), dtype=float32)\n"
     ]
    },
    {
     "name": "stderr",
     "output_type": "stream",
     "text": [
      "  1%|          | 85/10000 [00:02<05:19, 31.00it/s, episode_reward=0, running_reward=0]"
     ]
    },
    {
     "name": "stdout",
     "output_type": "stream",
     "text": [
      "loss tf.Tensor(0.0, shape=(), dtype=float32)\n",
      "loss tf.Tensor(0.0, shape=(), dtype=float32)\n",
      "loss tf.Tensor(0.0, shape=(), dtype=float32)\n",
      "loss tf.Tensor(0.0, shape=(), dtype=float32)\n",
      "loss tf.Tensor(0.0, shape=(), dtype=float32)\n",
      "loss tf.Tensor(0.0, shape=(), dtype=float32)\n",
      "loss tf.Tensor(0.0, shape=(), dtype=float32)\n",
      "loss tf.Tensor(0.0, shape=(), dtype=float32)\n"
     ]
    },
    {
     "name": "stderr",
     "output_type": "stream",
     "text": [
      "  1%|          | 93/10000 [00:03<04:57, 33.30it/s, episode_reward=0, running_reward=0]"
     ]
    },
    {
     "name": "stdout",
     "output_type": "stream",
     "text": [
      "loss tf.Tensor(0.0, shape=(), dtype=float32)\n",
      "loss tf.Tensor(0.0, shape=(), dtype=float32)\n",
      "loss tf.Tensor(0.0, shape=(), dtype=float32)\n",
      "loss tf.Tensor(0.0, shape=(), dtype=float32)\n",
      "loss tf.Tensor(0.0, shape=(), dtype=float32)\n",
      "loss tf.Tensor(0.0, shape=(), dtype=float32)\n",
      "loss tf.Tensor(0.0, shape=(), dtype=float32)\n",
      "loss tf.Tensor(0.0, shape=(), dtype=float32)\n"
     ]
    },
    {
     "name": "stderr",
     "output_type": "stream",
     "text": [
      "  1%|          | 101/10000 [00:03<04:45, 34.68it/s, episode_reward=0, running_reward=0]"
     ]
    },
    {
     "name": "stdout",
     "output_type": "stream",
     "text": [
      "loss tf.Tensor(0.0, shape=(), dtype=float32)\n",
      "loss tf.Tensor(0.0, shape=(), dtype=float32)\n",
      "loss tf.Tensor(0.0, shape=(), dtype=float32)\n",
      "loss tf.Tensor(0.0, shape=(), dtype=float32)\n",
      "loss tf.Tensor(0.0, shape=(), dtype=float32)\n",
      "loss tf.Tensor(0.0, shape=(), dtype=float32)\n",
      "loss tf.Tensor(0.0, shape=(), dtype=float32)\n",
      "loss tf.Tensor(0.0, shape=(), dtype=float32)\n"
     ]
    },
    {
     "name": "stderr",
     "output_type": "stream",
     "text": [
      "  1%|          | 109/10000 [00:03<04:39, 35.38it/s, episode_reward=0, running_reward=0]"
     ]
    },
    {
     "name": "stdout",
     "output_type": "stream",
     "text": [
      "loss tf.Tensor(0.0, shape=(), dtype=float32)\n",
      "loss tf.Tensor(0.0, shape=(), dtype=float32)\n",
      "loss tf.Tensor(0.0, shape=(), dtype=float32)\n",
      "loss tf.Tensor(0.0, shape=(), dtype=float32)\n",
      "loss tf.Tensor(0.0, shape=(), dtype=float32)\n",
      "loss tf.Tensor(0.0, shape=(), dtype=float32)\n",
      "loss tf.Tensor(0.0, shape=(), dtype=float32)\n",
      "loss tf.Tensor(0.0, shape=(), dtype=float32)\n"
     ]
    },
    {
     "name": "stderr",
     "output_type": "stream",
     "text": [
      "  1%|          | 117/10000 [00:03<04:38, 35.48it/s, episode_reward=0, running_reward=0]"
     ]
    },
    {
     "name": "stdout",
     "output_type": "stream",
     "text": [
      "loss tf.Tensor(0.0, shape=(), dtype=float32)\n",
      "loss tf.Tensor(0.0, shape=(), dtype=float32)\n",
      "loss tf.Tensor(0.0, shape=(), dtype=float32)\n",
      "loss tf.Tensor(0.0, shape=(), dtype=float32)\n",
      "loss tf.Tensor(0.0, shape=(), dtype=float32)\n",
      "loss tf.Tensor(0.0, shape=(), dtype=float32)\n",
      "loss tf.Tensor(0.0, shape=(), dtype=float32)\n",
      "loss tf.Tensor(0.0, shape=(), dtype=float32)\n"
     ]
    },
    {
     "name": "stderr",
     "output_type": "stream",
     "text": [
      "  1%|▏         | 125/10000 [00:03<04:34, 35.92it/s, episode_reward=0, running_reward=0]"
     ]
    },
    {
     "name": "stdout",
     "output_type": "stream",
     "text": [
      "loss tf.Tensor(0.0, shape=(), dtype=float32)\n",
      "loss tf.Tensor(0.0, shape=(), dtype=float32)\n",
      "loss tf.Tensor(0.0, shape=(), dtype=float32)\n",
      "loss tf.Tensor(0.0, shape=(), dtype=float32)\n",
      "loss tf.Tensor(0.0, shape=(), dtype=float32)\n",
      "loss tf.Tensor(0.0, shape=(), dtype=float32)\n",
      "loss tf.Tensor(0.0, shape=(), dtype=float32)\n",
      "loss tf.Tensor(0.0, shape=(), dtype=float32)\n"
     ]
    },
    {
     "name": "stderr",
     "output_type": "stream",
     "text": [
      "  1%|▏         | 133/10000 [00:04<04:36, 35.66it/s, episode_reward=0, running_reward=0]"
     ]
    },
    {
     "name": "stdout",
     "output_type": "stream",
     "text": [
      "loss tf.Tensor(0.0, shape=(), dtype=float32)\n",
      "loss tf.Tensor(0.0, shape=(), dtype=float32)\n",
      "loss tf.Tensor(0.0, shape=(), dtype=float32)\n",
      "loss tf.Tensor(0.0, shape=(), dtype=float32)\n",
      "loss tf.Tensor(0.0, shape=(), dtype=float32)\n",
      "loss tf.Tensor(0.0, shape=(), dtype=float32)\n",
      "loss tf.Tensor(0.0, shape=(), dtype=float32)\n",
      "loss tf.Tensor(0.0, shape=(), dtype=float32)\n"
     ]
    },
    {
     "name": "stderr",
     "output_type": "stream",
     "text": [
      "  1%|▏         | 141/10000 [00:04<04:35, 35.76it/s, episode_reward=0, running_reward=0]"
     ]
    },
    {
     "name": "stdout",
     "output_type": "stream",
     "text": [
      "loss tf.Tensor(0.0, shape=(), dtype=float32)\n",
      "loss tf.Tensor(0.0, shape=(), dtype=float32)\n",
      "loss tf.Tensor(0.0, shape=(), dtype=float32)\n",
      "loss tf.Tensor(0.0, shape=(), dtype=float32)\n",
      "loss tf.Tensor(0.0, shape=(), dtype=float32)\n",
      "loss tf.Tensor(0.0, shape=(), dtype=float32)\n",
      "loss tf.Tensor(0.0, shape=(), dtype=float32)\n",
      "loss tf.Tensor(0.0, shape=(), dtype=float32)\n"
     ]
    },
    {
     "name": "stderr",
     "output_type": "stream",
     "text": [
      "  1%|▏         | 149/10000 [00:04<04:34, 35.90it/s, episode_reward=0, running_reward=0]"
     ]
    },
    {
     "name": "stdout",
     "output_type": "stream",
     "text": [
      "loss tf.Tensor(0.0, shape=(), dtype=float32)\n",
      "loss tf.Tensor(0.0, shape=(), dtype=float32)\n",
      "loss tf.Tensor(0.0, shape=(), dtype=float32)\n",
      "loss tf.Tensor(0.0, shape=(), dtype=float32)\n",
      "loss tf.Tensor(0.0, shape=(), dtype=float32)\n",
      "loss tf.Tensor(0.0, shape=(), dtype=float32)\n",
      "loss tf.Tensor(0.0, shape=(), dtype=float32)\n",
      "loss tf.Tensor(0.0, shape=(), dtype=float32)\n"
     ]
    },
    {
     "name": "stderr",
     "output_type": "stream",
     "text": [
      "  2%|▏         | 157/10000 [00:04<04:34, 35.80it/s, episode_reward=0, running_reward=0]"
     ]
    },
    {
     "name": "stdout",
     "output_type": "stream",
     "text": [
      "loss tf.Tensor(0.0, shape=(), dtype=float32)\n",
      "loss tf.Tensor(0.0, shape=(), dtype=float32)\n",
      "loss tf.Tensor(0.0, shape=(), dtype=float32)\n",
      "loss tf.Tensor(0.0, shape=(), dtype=float32)\n",
      "loss tf.Tensor(0.0, shape=(), dtype=float32)\n",
      "loss tf.Tensor(0.0, shape=(), dtype=float32)\n",
      "loss tf.Tensor(0.0, shape=(), dtype=float32)\n",
      "loss tf.Tensor(0.0, shape=(), dtype=float32)\n"
     ]
    },
    {
     "name": "stderr",
     "output_type": "stream",
     "text": [
      "  2%|▏         | 165/10000 [00:05<04:32, 36.05it/s, episode_reward=0, running_reward=0]"
     ]
    },
    {
     "name": "stdout",
     "output_type": "stream",
     "text": [
      "loss tf.Tensor(0.0, shape=(), dtype=float32)\n",
      "loss tf.Tensor(0.0, shape=(), dtype=float32)\n",
      "loss tf.Tensor(0.0, shape=(), dtype=float32)\n",
      "loss tf.Tensor(0.0, shape=(), dtype=float32)\n",
      "loss tf.Tensor(0.0, shape=(), dtype=float32)\n",
      "loss tf.Tensor(0.0, shape=(), dtype=float32)\n",
      "loss tf.Tensor(0.0, shape=(), dtype=float32)\n",
      "loss tf.Tensor(0.0, shape=(), dtype=float32)\n"
     ]
    },
    {
     "name": "stderr",
     "output_type": "stream",
     "text": [
      "  2%|▏         | 173/10000 [00:05<04:31, 36.19it/s, episode_reward=0, running_reward=0]"
     ]
    },
    {
     "name": "stdout",
     "output_type": "stream",
     "text": [
      "loss tf.Tensor(0.0, shape=(), dtype=float32)\n",
      "loss tf.Tensor(0.0, shape=(), dtype=float32)\n",
      "loss tf.Tensor(0.0, shape=(), dtype=float32)\n",
      "loss tf.Tensor(0.0, shape=(), dtype=float32)\n",
      "loss tf.Tensor(0.0, shape=(), dtype=float32)\n",
      "loss tf.Tensor(0.0, shape=(), dtype=float32)\n",
      "loss tf.Tensor(0.0, shape=(), dtype=float32)\n",
      "loss tf.Tensor(0.0, shape=(), dtype=float32)\n"
     ]
    },
    {
     "name": "stderr",
     "output_type": "stream",
     "text": [
      "  2%|▏         | 181/10000 [00:05<04:32, 35.98it/s, episode_reward=0, running_reward=0]"
     ]
    },
    {
     "name": "stdout",
     "output_type": "stream",
     "text": [
      "loss tf.Tensor(0.0, shape=(), dtype=float32)\n",
      "loss tf.Tensor(0.0, shape=(), dtype=float32)\n",
      "loss tf.Tensor(0.0, shape=(), dtype=float32)\n",
      "loss tf.Tensor(0.0, shape=(), dtype=float32)\n",
      "loss tf.Tensor(0.0, shape=(), dtype=float32)\n",
      "loss tf.Tensor(0.0, shape=(), dtype=float32)\n",
      "loss tf.Tensor(0.0, shape=(), dtype=float32)\n",
      "loss tf.Tensor(0.0, shape=(), dtype=float32)\n"
     ]
    },
    {
     "name": "stderr",
     "output_type": "stream",
     "text": [
      "  2%|▏         | 189/10000 [00:05<04:40, 35.04it/s, episode_reward=0, running_reward=0]"
     ]
    },
    {
     "name": "stdout",
     "output_type": "stream",
     "text": [
      "loss tf.Tensor(0.0, shape=(), dtype=float32)\n",
      "loss tf.Tensor(0.0, shape=(), dtype=float32)\n",
      "loss tf.Tensor(0.0, shape=(), dtype=float32)\n",
      "loss tf.Tensor(0.0, shape=(), dtype=float32)\n",
      "loss tf.Tensor(0.0, shape=(), dtype=float32)\n",
      "loss tf.Tensor(0.0, shape=(), dtype=float32)\n",
      "loss tf.Tensor(0.0, shape=(), dtype=float32)\n"
     ]
    },
    {
     "name": "stderr",
     "output_type": "stream",
     "text": [
      "  2%|▏         | 197/10000 [00:05<04:36, 35.49it/s, episode_reward=0, running_reward=0]"
     ]
    },
    {
     "name": "stdout",
     "output_type": "stream",
     "text": [
      "loss tf.Tensor(0.0, shape=(), dtype=float32)\n",
      "loss tf.Tensor(0.0, shape=(), dtype=float32)\n",
      "loss tf.Tensor(0.0, shape=(), dtype=float32)\n",
      "loss tf.Tensor(0.0, shape=(), dtype=float32)\n",
      "loss tf.Tensor(0.0, shape=(), dtype=float32)\n",
      "loss tf.Tensor(0.0, shape=(), dtype=float32)\n",
      "loss tf.Tensor(0.0, shape=(), dtype=float32)\n",
      "loss tf.Tensor(0.0, shape=(), dtype=float32)\n"
     ]
    },
    {
     "name": "stderr",
     "output_type": "stream",
     "text": [
      "  2%|▏         | 205/10000 [00:06<04:31, 36.05it/s, episode_reward=0, running_reward=0]"
     ]
    },
    {
     "name": "stdout",
     "output_type": "stream",
     "text": [
      "loss tf.Tensor(0.0, shape=(), dtype=float32)\n",
      "loss tf.Tensor(0.0, shape=(), dtype=float32)\n",
      "loss tf.Tensor(0.0, shape=(), dtype=float32)\n",
      "loss tf.Tensor(0.0, shape=(), dtype=float32)\n",
      "loss tf.Tensor(0.0, shape=(), dtype=float32)\n",
      "loss tf.Tensor(0.0, shape=(), dtype=float32)\n",
      "loss tf.Tensor(0.0, shape=(), dtype=float32)\n",
      "loss tf.Tensor(0.0, shape=(), dtype=float32)\n"
     ]
    },
    {
     "name": "stderr",
     "output_type": "stream",
     "text": [
      "  2%|▏         | 213/10000 [00:06<04:32, 35.94it/s, episode_reward=0, running_reward=0]"
     ]
    },
    {
     "name": "stdout",
     "output_type": "stream",
     "text": [
      "loss tf.Tensor(0.0, shape=(), dtype=float32)\n",
      "loss tf.Tensor(0.0, shape=(), dtype=float32)\n",
      "loss tf.Tensor(0.0, shape=(), dtype=float32)\n",
      "loss tf.Tensor(0.0, shape=(), dtype=float32)\n",
      "loss tf.Tensor(0.0, shape=(), dtype=float32)\n",
      "loss tf.Tensor(0.0, shape=(), dtype=float32)\n",
      "loss tf.Tensor(0.0, shape=(), dtype=float32)\n",
      "loss tf.Tensor(0.0, shape=(), dtype=float32)\n"
     ]
    },
    {
     "name": "stderr",
     "output_type": "stream",
     "text": [
      "  2%|▏         | 221/10000 [00:06<04:31, 36.06it/s, episode_reward=0, running_reward=0]"
     ]
    },
    {
     "name": "stdout",
     "output_type": "stream",
     "text": [
      "loss tf.Tensor(0.0, shape=(), dtype=float32)\n",
      "loss tf.Tensor(0.0, shape=(), dtype=float32)\n",
      "loss tf.Tensor(0.0, shape=(), dtype=float32)\n",
      "loss tf.Tensor(0.0, shape=(), dtype=float32)\n",
      "loss tf.Tensor(0.0, shape=(), dtype=float32)\n",
      "loss tf.Tensor(0.0, shape=(), dtype=float32)\n",
      "loss tf.Tensor(0.0, shape=(), dtype=float32)\n",
      "loss tf.Tensor(0.0, shape=(), dtype=float32)\n"
     ]
    },
    {
     "name": "stderr",
     "output_type": "stream",
     "text": [
      "  2%|▏         | 225/10000 [00:06<04:33, 35.77it/s, episode_reward=0, running_reward=0]"
     ]
    },
    {
     "name": "stdout",
     "output_type": "stream",
     "text": [
      "loss tf.Tensor(0.0, shape=(), dtype=float32)\n",
      "loss tf.Tensor(0.0, shape=(), dtype=float32)\n",
      "loss tf.Tensor(0.0, shape=(), dtype=float32)\n",
      "loss tf.Tensor(0.0, shape=(), dtype=float32)\n",
      "loss tf.Tensor(0.0, shape=(), dtype=float32)\n",
      "loss tf.Tensor(0.0, shape=(), dtype=float32)\n"
     ]
    },
    {
     "name": "stderr",
     "output_type": "stream",
     "text": [
      "  2%|▏         | 233/10000 [00:07<05:49, 27.91it/s, episode_reward=0, running_reward=0]"
     ]
    },
    {
     "name": "stdout",
     "output_type": "stream",
     "text": [
      "loss tf.Tensor(0.0, shape=(), dtype=float32)\n",
      "loss tf.Tensor(0.0, shape=(), dtype=float32)\n",
      "loss tf.Tensor(0.0, shape=(), dtype=float32)\n",
      "loss tf.Tensor(0.0, shape=(), dtype=float32)\n",
      "loss tf.Tensor(0.0, shape=(), dtype=float32)\n",
      "loss tf.Tensor(0.0, shape=(), dtype=float32)\n",
      "loss tf.Tensor(0.0, shape=(), dtype=float32)\n"
     ]
    },
    {
     "name": "stderr",
     "output_type": "stream",
     "text": [
      "  2%|▏         | 241/10000 [00:07<05:09, 31.56it/s, episode_reward=0, running_reward=0]"
     ]
    },
    {
     "name": "stdout",
     "output_type": "stream",
     "text": [
      "loss tf.Tensor(0.0, shape=(), dtype=float32)\n",
      "loss tf.Tensor(0.0, shape=(), dtype=float32)\n",
      "loss tf.Tensor(0.0, shape=(), dtype=float32)\n",
      "loss tf.Tensor(0.0, shape=(), dtype=float32)\n",
      "loss tf.Tensor(0.0, shape=(), dtype=float32)\n",
      "loss tf.Tensor(0.0, shape=(), dtype=float32)\n",
      "loss tf.Tensor(0.0, shape=(), dtype=float32)\n",
      "loss tf.Tensor(0.0, shape=(), dtype=float32)\n"
     ]
    },
    {
     "name": "stderr",
     "output_type": "stream",
     "text": [
      "  2%|▏         | 249/10000 [00:07<04:51, 33.44it/s, episode_reward=0, running_reward=0]"
     ]
    },
    {
     "name": "stdout",
     "output_type": "stream",
     "text": [
      "loss tf.Tensor(0.0, shape=(), dtype=float32)\n",
      "loss tf.Tensor(0.0, shape=(), dtype=float32)\n",
      "loss tf.Tensor(0.0, shape=(), dtype=float32)\n",
      "loss tf.Tensor(0.0, shape=(), dtype=float32)\n",
      "loss tf.Tensor(0.0, shape=(), dtype=float32)\n",
      "loss tf.Tensor(0.0, shape=(), dtype=float32)\n",
      "loss tf.Tensor(0.0, shape=(), dtype=float32)\n",
      "loss tf.Tensor(0.0, shape=(), dtype=float32)\n"
     ]
    },
    {
     "name": "stderr",
     "output_type": "stream",
     "text": [
      "  3%|▎         | 257/10000 [00:07<04:49, 33.62it/s, episode_reward=0, running_reward=0]"
     ]
    },
    {
     "name": "stdout",
     "output_type": "stream",
     "text": [
      "loss tf.Tensor(0.0, shape=(), dtype=float32)\n",
      "loss tf.Tensor(0.0, shape=(), dtype=float32)\n",
      "loss tf.Tensor(0.0, shape=(), dtype=float32)\n",
      "loss tf.Tensor(0.0, shape=(), dtype=float32)\n",
      "loss tf.Tensor(0.0, shape=(), dtype=float32)\n",
      "loss tf.Tensor(0.0, shape=(), dtype=float32)\n",
      "loss tf.Tensor(0.0, shape=(), dtype=float32)\n"
     ]
    },
    {
     "name": "stderr",
     "output_type": "stream",
     "text": [
      "  3%|▎         | 265/10000 [00:07<04:38, 34.90it/s, episode_reward=0, running_reward=0]"
     ]
    },
    {
     "name": "stdout",
     "output_type": "stream",
     "text": [
      "loss tf.Tensor(0.0, shape=(), dtype=float32)\n",
      "loss tf.Tensor(0.0, shape=(), dtype=float32)\n",
      "loss tf.Tensor(0.0, shape=(), dtype=float32)\n",
      "loss tf.Tensor(0.0, shape=(), dtype=float32)\n",
      "loss tf.Tensor(0.0, shape=(), dtype=float32)\n",
      "loss tf.Tensor(0.0, shape=(), dtype=float32)\n",
      "loss tf.Tensor(0.0, shape=(), dtype=float32)\n",
      "loss tf.Tensor(0.0, shape=(), dtype=float32)\n"
     ]
    },
    {
     "name": "stderr",
     "output_type": "stream",
     "text": [
      "  3%|▎         | 269/10000 [00:08<04:42, 34.43it/s, episode_reward=0, running_reward=0]"
     ]
    },
    {
     "name": "stdout",
     "output_type": "stream",
     "text": [
      "loss tf.Tensor(0.0, shape=(), dtype=float32)\n",
      "loss tf.Tensor(0.0, shape=(), dtype=float32)\n",
      "loss tf.Tensor(0.0, shape=(), dtype=float32)\n",
      "loss tf.Tensor(0.0, shape=(), dtype=float32)\n",
      "loss tf.Tensor(0.0, shape=(), dtype=float32)\n",
      "loss tf.Tensor(0.0, shape=(), dtype=float32)\n",
      "loss tf.Tensor(0.0, shape=(), dtype=float32)\n",
      "loss tf.Tensor(0.0, shape=(), dtype=float32)\n"
     ]
    },
    {
     "name": "stderr",
     "output_type": "stream",
     "text": [
      "  3%|▎         | 281/10000 [00:08<04:34, 35.41it/s, episode_reward=0, running_reward=0]"
     ]
    },
    {
     "name": "stdout",
     "output_type": "stream",
     "text": [
      "loss tf.Tensor(0.0, shape=(), dtype=float32)\n",
      "loss tf.Tensor(0.0, shape=(), dtype=float32)\n",
      "loss tf.Tensor(0.0, shape=(), dtype=float32)\n",
      "loss tf.Tensor(0.0, shape=(), dtype=float32)\n",
      "loss tf.Tensor(0.0, shape=(), dtype=float32)\n",
      "loss tf.Tensor(0.0, shape=(), dtype=float32)\n",
      "loss tf.Tensor(0.0, shape=(), dtype=float32)\n",
      "loss tf.Tensor(0.0, shape=(), dtype=float32)\n"
     ]
    },
    {
     "name": "stderr",
     "output_type": "stream",
     "text": [
      "  3%|▎         | 289/10000 [00:08<04:31, 35.70it/s, episode_reward=0, running_reward=0]"
     ]
    },
    {
     "name": "stdout",
     "output_type": "stream",
     "text": [
      "loss tf.Tensor(0.0, shape=(), dtype=float32)\n",
      "loss tf.Tensor(0.0, shape=(), dtype=float32)\n",
      "loss tf.Tensor(0.0, shape=(), dtype=float32)\n",
      "loss tf.Tensor(0.0, shape=(), dtype=float32)\n",
      "loss tf.Tensor(0.0, shape=(), dtype=float32)\n",
      "loss tf.Tensor(0.0, shape=(), dtype=float32)\n",
      "loss tf.Tensor(0.0, shape=(), dtype=float32)\n",
      "loss tf.Tensor(0.0, shape=(), dtype=float32)\n"
     ]
    },
    {
     "name": "stderr",
     "output_type": "stream",
     "text": [
      "  3%|▎         | 297/10000 [00:08<04:30, 35.87it/s, episode_reward=0, running_reward=0]"
     ]
    },
    {
     "name": "stdout",
     "output_type": "stream",
     "text": [
      "loss tf.Tensor(0.0, shape=(), dtype=float32)\n",
      "loss tf.Tensor(0.0, shape=(), dtype=float32)\n",
      "loss tf.Tensor(0.0, shape=(), dtype=float32)\n",
      "loss tf.Tensor(0.0, shape=(), dtype=float32)\n",
      "loss tf.Tensor(0.0, shape=(), dtype=float32)\n",
      "loss tf.Tensor(0.0, shape=(), dtype=float32)\n",
      "loss tf.Tensor(0.0, shape=(), dtype=float32)\n",
      "loss tf.Tensor(0.0, shape=(), dtype=float32)\n"
     ]
    },
    {
     "name": "stderr",
     "output_type": "stream",
     "text": [
      "  3%|▎         | 305/10000 [00:09<04:31, 35.75it/s, episode_reward=0, running_reward=0]"
     ]
    },
    {
     "name": "stdout",
     "output_type": "stream",
     "text": [
      "loss tf.Tensor(0.0, shape=(), dtype=float32)\n",
      "loss tf.Tensor(0.0, shape=(), dtype=float32)\n",
      "loss tf.Tensor(0.0, shape=(), dtype=float32)\n",
      "loss tf.Tensor(0.0, shape=(), dtype=float32)\n",
      "loss tf.Tensor(0.0, shape=(), dtype=float32)\n",
      "loss tf.Tensor(0.0, shape=(), dtype=float32)\n",
      "loss tf.Tensor(0.0, shape=(), dtype=float32)\n",
      "loss tf.Tensor(0.0, shape=(), dtype=float32)\n"
     ]
    },
    {
     "name": "stderr",
     "output_type": "stream",
     "text": [
      "  3%|▎         | 313/10000 [00:09<04:28, 36.05it/s, episode_reward=0, running_reward=0]"
     ]
    },
    {
     "name": "stdout",
     "output_type": "stream",
     "text": [
      "loss tf.Tensor(0.0, shape=(), dtype=float32)\n",
      "loss tf.Tensor(0.0, shape=(), dtype=float32)\n",
      "loss tf.Tensor(0.0, shape=(), dtype=float32)\n",
      "loss tf.Tensor(0.0, shape=(), dtype=float32)\n",
      "loss tf.Tensor(0.0, shape=(), dtype=float32)\n",
      "loss tf.Tensor(0.0, shape=(), dtype=float32)\n",
      "loss tf.Tensor(0.0, shape=(), dtype=float32)\n",
      "loss tf.Tensor(0.0, shape=(), dtype=float32)\n"
     ]
    },
    {
     "name": "stderr",
     "output_type": "stream",
     "text": [
      "  3%|▎         | 321/10000 [00:09<04:27, 36.16it/s, episode_reward=0, running_reward=0]"
     ]
    },
    {
     "name": "stdout",
     "output_type": "stream",
     "text": [
      "loss tf.Tensor(0.0, shape=(), dtype=float32)\n",
      "loss tf.Tensor(0.0, shape=(), dtype=float32)\n",
      "loss tf.Tensor(0.0, shape=(), dtype=float32)\n",
      "loss tf.Tensor(0.0, shape=(), dtype=float32)\n",
      "loss tf.Tensor(0.0, shape=(), dtype=float32)\n",
      "loss tf.Tensor(0.0, shape=(), dtype=float32)\n",
      "loss tf.Tensor(0.0, shape=(), dtype=float32)\n",
      "loss tf.Tensor(0.0, shape=(), dtype=float32)\n"
     ]
    },
    {
     "name": "stderr",
     "output_type": "stream",
     "text": [
      "  3%|▎         | 329/10000 [00:09<04:28, 36.07it/s, episode_reward=0, running_reward=0]"
     ]
    },
    {
     "name": "stdout",
     "output_type": "stream",
     "text": [
      "loss tf.Tensor(0.0, shape=(), dtype=float32)\n",
      "loss tf.Tensor(0.0, shape=(), dtype=float32)\n",
      "loss tf.Tensor(0.0, shape=(), dtype=float32)\n",
      "loss tf.Tensor(0.0, shape=(), dtype=float32)\n",
      "loss tf.Tensor(0.0, shape=(), dtype=float32)\n",
      "loss tf.Tensor(0.0, shape=(), dtype=float32)\n",
      "loss tf.Tensor(0.0, shape=(), dtype=float32)\n",
      "loss tf.Tensor(0.0, shape=(), dtype=float32)\n"
     ]
    },
    {
     "name": "stderr",
     "output_type": "stream",
     "text": [
      "  3%|▎         | 337/10000 [00:09<04:28, 36.04it/s, episode_reward=0, running_reward=0]"
     ]
    },
    {
     "name": "stdout",
     "output_type": "stream",
     "text": [
      "loss tf.Tensor(0.0, shape=(), dtype=float32)\n",
      "loss tf.Tensor(0.0, shape=(), dtype=float32)\n",
      "loss tf.Tensor(0.0, shape=(), dtype=float32)\n",
      "loss tf.Tensor(0.0, shape=(), dtype=float32)\n",
      "loss tf.Tensor(0.0, shape=(), dtype=float32)\n",
      "loss tf.Tensor(0.0, shape=(), dtype=float32)\n",
      "loss tf.Tensor(0.0, shape=(), dtype=float32)\n",
      "loss tf.Tensor(0.0, shape=(), dtype=float32)\n"
     ]
    },
    {
     "name": "stderr",
     "output_type": "stream",
     "text": [
      "  3%|▎         | 345/10000 [00:10<04:26, 36.22it/s, episode_reward=0, running_reward=0]"
     ]
    },
    {
     "name": "stdout",
     "output_type": "stream",
     "text": [
      "loss tf.Tensor(0.0, shape=(), dtype=float32)\n",
      "loss tf.Tensor(0.0, shape=(), dtype=float32)\n",
      "loss tf.Tensor(0.0, shape=(), dtype=float32)\n",
      "loss tf.Tensor(0.0, shape=(), dtype=float32)\n",
      "loss tf.Tensor(0.0, shape=(), dtype=float32)\n",
      "loss tf.Tensor(0.0, shape=(), dtype=float32)\n",
      "loss tf.Tensor(0.0, shape=(), dtype=float32)\n",
      "loss tf.Tensor(0.0, shape=(), dtype=float32)\n"
     ]
    },
    {
     "name": "stderr",
     "output_type": "stream",
     "text": [
      "  4%|▎         | 353/10000 [00:10<04:26, 36.15it/s, episode_reward=0, running_reward=0]"
     ]
    },
    {
     "name": "stdout",
     "output_type": "stream",
     "text": [
      "loss tf.Tensor(0.0, shape=(), dtype=float32)\n",
      "loss tf.Tensor(0.0, shape=(), dtype=float32)\n",
      "loss tf.Tensor(0.0, shape=(), dtype=float32)\n",
      "loss tf.Tensor(0.0, shape=(), dtype=float32)\n",
      "loss tf.Tensor(0.0, shape=(), dtype=float32)\n",
      "loss tf.Tensor(0.0, shape=(), dtype=float32)\n",
      "loss tf.Tensor(0.0, shape=(), dtype=float32)\n",
      "loss tf.Tensor(0.0, shape=(), dtype=float32)\n"
     ]
    },
    {
     "name": "stderr",
     "output_type": "stream",
     "text": [
      "  4%|▎         | 361/10000 [00:10<04:24, 36.51it/s, episode_reward=0, running_reward=0]"
     ]
    },
    {
     "name": "stdout",
     "output_type": "stream",
     "text": [
      "loss tf.Tensor(0.0, shape=(), dtype=float32)\n",
      "loss tf.Tensor(0.0, shape=(), dtype=float32)\n",
      "loss tf.Tensor(0.0, shape=(), dtype=float32)\n",
      "loss tf.Tensor(0.0, shape=(), dtype=float32)\n",
      "loss tf.Tensor(0.0, shape=(), dtype=float32)\n",
      "loss tf.Tensor(0.0, shape=(), dtype=float32)\n",
      "loss tf.Tensor(0.0, shape=(), dtype=float32)\n",
      "loss tf.Tensor(0.0, shape=(), dtype=float32)\n"
     ]
    },
    {
     "name": "stderr",
     "output_type": "stream",
     "text": [
      "  4%|▎         | 369/10000 [00:10<04:25, 36.29it/s, episode_reward=0, running_reward=0]"
     ]
    },
    {
     "name": "stdout",
     "output_type": "stream",
     "text": [
      "loss tf.Tensor(0.0, shape=(), dtype=float32)\n",
      "loss tf.Tensor(0.0, shape=(), dtype=float32)\n",
      "loss tf.Tensor(0.0, shape=(), dtype=float32)\n",
      "loss tf.Tensor(0.0, shape=(), dtype=float32)\n",
      "loss tf.Tensor(0.0, shape=(), dtype=float32)\n",
      "loss tf.Tensor(0.0, shape=(), dtype=float32)\n",
      "loss tf.Tensor(0.0, shape=(), dtype=float32)\n",
      "loss tf.Tensor(0.0, shape=(), dtype=float32)\n"
     ]
    },
    {
     "name": "stderr",
     "output_type": "stream",
     "text": [
      "  4%|▍         | 377/10000 [00:11<04:23, 36.56it/s, episode_reward=0, running_reward=0]"
     ]
    },
    {
     "name": "stdout",
     "output_type": "stream",
     "text": [
      "loss tf.Tensor(0.0, shape=(), dtype=float32)\n",
      "loss tf.Tensor(0.0, shape=(), dtype=float32)\n",
      "loss tf.Tensor(0.0, shape=(), dtype=float32)\n",
      "loss tf.Tensor(0.0, shape=(), dtype=float32)\n",
      "loss tf.Tensor(0.0, shape=(), dtype=float32)\n",
      "loss tf.Tensor(0.0, shape=(), dtype=float32)\n",
      "loss tf.Tensor(0.0, shape=(), dtype=float32)\n",
      "loss tf.Tensor(0.0, shape=(), dtype=float32)\n"
     ]
    },
    {
     "name": "stderr",
     "output_type": "stream",
     "text": [
      "  4%|▍         | 385/10000 [00:11<04:22, 36.63it/s, episode_reward=0, running_reward=0]"
     ]
    },
    {
     "name": "stdout",
     "output_type": "stream",
     "text": [
      "loss tf.Tensor(0.0, shape=(), dtype=float32)\n",
      "loss tf.Tensor(0.0, shape=(), dtype=float32)\n",
      "loss tf.Tensor(0.0, shape=(), dtype=float32)\n",
      "loss tf.Tensor(0.0, shape=(), dtype=float32)\n",
      "loss tf.Tensor(0.0, shape=(), dtype=float32)\n",
      "loss tf.Tensor(0.0, shape=(), dtype=float32)\n",
      "loss tf.Tensor(0.0, shape=(), dtype=float32)\n",
      "loss tf.Tensor(0.0, shape=(), dtype=float32)\n"
     ]
    },
    {
     "name": "stderr",
     "output_type": "stream",
     "text": [
      "  4%|▍         | 393/10000 [00:11<04:21, 36.80it/s, episode_reward=0, running_reward=0]"
     ]
    },
    {
     "name": "stdout",
     "output_type": "stream",
     "text": [
      "loss tf.Tensor(0.0, shape=(), dtype=float32)\n",
      "loss tf.Tensor(0.0, shape=(), dtype=float32)\n",
      "loss tf.Tensor(0.0, shape=(), dtype=float32)\n",
      "loss tf.Tensor(0.0, shape=(), dtype=float32)\n",
      "loss tf.Tensor(0.0, shape=(), dtype=float32)\n",
      "loss tf.Tensor(0.0, shape=(), dtype=float32)\n",
      "loss tf.Tensor(0.0, shape=(), dtype=float32)\n",
      "loss tf.Tensor(0.0, shape=(), dtype=float32)\n"
     ]
    },
    {
     "name": "stderr",
     "output_type": "stream",
     "text": [
      "  4%|▍         | 393/10000 [00:11<04:21, 36.80it/s, episode_reward=0, running_reward=0]"
     ]
    },
    {
     "name": "stdout",
     "output_type": "stream",
     "text": [
      "loss tf.Tensor(0.0, shape=(), dtype=float32)\n",
      "loss tf.Tensor(0.0, shape=(), dtype=float32)\n",
      "loss tf.Tensor(0.0, shape=(), dtype=float32)\n"
     ]
    },
    {
     "name": "stderr",
     "output_type": "stream",
     "text": [
      "  4%|▍         | 401/10000 [00:11<05:52, 27.25it/s, episode_reward=0, running_reward=0]"
     ]
    },
    {
     "name": "stdout",
     "output_type": "stream",
     "text": [
      "loss tf.Tensor(0.0, shape=(), dtype=float32)\n",
      "loss tf.Tensor(0.0, shape=(), dtype=float32)\n",
      "loss tf.Tensor(0.0, shape=(), dtype=float32)\n",
      "loss tf.Tensor(0.0, shape=(), dtype=float32)\n",
      "loss tf.Tensor(0.0, shape=(), dtype=float32)\n",
      "loss tf.Tensor(0.0, shape=(), dtype=float32)\n",
      "loss tf.Tensor(0.0, shape=(), dtype=float32)\n",
      "loss tf.Tensor(0.0, shape=(), dtype=float32)\n"
     ]
    },
    {
     "name": "stderr",
     "output_type": "stream",
     "text": [
      "  4%|▍         | 409/10000 [00:12<05:07, 31.22it/s, episode_reward=0, running_reward=0]"
     ]
    },
    {
     "name": "stdout",
     "output_type": "stream",
     "text": [
      "loss tf.Tensor(0.0, shape=(), dtype=float32)\n",
      "loss tf.Tensor(0.0, shape=(), dtype=float32)\n",
      "loss tf.Tensor(0.0, shape=(), dtype=float32)\n",
      "loss tf.Tensor(0.0, shape=(), dtype=float32)\n",
      "loss tf.Tensor(0.0, shape=(), dtype=float32)\n",
      "loss tf.Tensor(0.0, shape=(), dtype=float32)\n",
      "loss tf.Tensor(0.0, shape=(), dtype=float32)\n",
      "loss tf.Tensor(0.0, shape=(), dtype=float32)\n"
     ]
    },
    {
     "name": "stderr",
     "output_type": "stream",
     "text": [
      "  4%|▍         | 417/10000 [00:12<04:42, 33.98it/s, episode_reward=0, running_reward=0]"
     ]
    },
    {
     "name": "stdout",
     "output_type": "stream",
     "text": [
      "loss tf.Tensor(0.0, shape=(), dtype=float32)\n",
      "loss tf.Tensor(0.0, shape=(), dtype=float32)\n",
      "loss tf.Tensor(0.0, shape=(), dtype=float32)\n",
      "loss tf.Tensor(0.0, shape=(), dtype=float32)\n",
      "loss tf.Tensor(0.0, shape=(), dtype=float32)\n",
      "loss tf.Tensor(0.0, shape=(), dtype=float32)\n",
      "loss tf.Tensor(0.0, shape=(), dtype=float32)\n",
      "loss tf.Tensor(0.0, shape=(), dtype=float32)\n"
     ]
    },
    {
     "name": "stderr",
     "output_type": "stream",
     "text": [
      "  4%|▍         | 425/10000 [00:12<04:33, 34.97it/s, episode_reward=0, running_reward=0]"
     ]
    },
    {
     "name": "stdout",
     "output_type": "stream",
     "text": [
      "loss tf.Tensor(0.0, shape=(), dtype=float32)\n",
      "loss tf.Tensor(0.0, shape=(), dtype=float32)\n",
      "loss tf.Tensor(0.0, shape=(), dtype=float32)\n",
      "loss tf.Tensor(0.0, shape=(), dtype=float32)\n",
      "loss tf.Tensor(0.0, shape=(), dtype=float32)\n",
      "loss tf.Tensor(0.0, shape=(), dtype=float32)\n",
      "loss tf.Tensor(0.0, shape=(), dtype=float32)\n",
      "loss tf.Tensor(0.0, shape=(), dtype=float32)\n"
     ]
    },
    {
     "name": "stderr",
     "output_type": "stream",
     "text": [
      "  4%|▍         | 433/10000 [00:12<04:29, 35.52it/s, episode_reward=0, running_reward=0]"
     ]
    },
    {
     "name": "stdout",
     "output_type": "stream",
     "text": [
      "loss tf.Tensor(0.0, shape=(), dtype=float32)\n",
      "loss tf.Tensor(0.0, shape=(), dtype=float32)\n",
      "loss tf.Tensor(0.0, shape=(), dtype=float32)\n",
      "loss tf.Tensor(0.0, shape=(), dtype=float32)\n",
      "loss tf.Tensor(0.0, shape=(), dtype=float32)\n",
      "loss tf.Tensor(0.0, shape=(), dtype=float32)\n",
      "loss tf.Tensor(0.0, shape=(), dtype=float32)\n",
      "loss tf.Tensor(0.0, shape=(), dtype=float32)\n"
     ]
    },
    {
     "name": "stderr",
     "output_type": "stream",
     "text": [
      "  4%|▍         | 441/10000 [00:13<04:24, 36.13it/s, episode_reward=0, running_reward=0]"
     ]
    },
    {
     "name": "stdout",
     "output_type": "stream",
     "text": [
      "loss tf.Tensor(0.0, shape=(), dtype=float32)\n",
      "loss tf.Tensor(0.0, shape=(), dtype=float32)\n",
      "loss tf.Tensor(0.0, shape=(), dtype=float32)\n",
      "loss tf.Tensor(0.0, shape=(), dtype=float32)\n",
      "loss tf.Tensor(0.0, shape=(), dtype=float32)\n",
      "loss tf.Tensor(0.0, shape=(), dtype=float32)\n",
      "loss tf.Tensor(0.0, shape=(), dtype=float32)\n",
      "loss tf.Tensor(0.0, shape=(), dtype=float32)\n"
     ]
    },
    {
     "name": "stderr",
     "output_type": "stream",
     "text": [
      "  4%|▍         | 449/10000 [00:13<04:23, 36.20it/s, episode_reward=0, running_reward=0]"
     ]
    },
    {
     "name": "stdout",
     "output_type": "stream",
     "text": [
      "loss tf.Tensor(0.0, shape=(), dtype=float32)\n",
      "loss tf.Tensor(0.0, shape=(), dtype=float32)\n",
      "loss tf.Tensor(0.0, shape=(), dtype=float32)\n",
      "loss tf.Tensor(0.0, shape=(), dtype=float32)\n",
      "loss tf.Tensor(0.0, shape=(), dtype=float32)\n",
      "loss tf.Tensor(0.0, shape=(), dtype=float32)\n",
      "loss tf.Tensor(0.0, shape=(), dtype=float32)\n",
      "loss tf.Tensor(0.0, shape=(), dtype=float32)\n"
     ]
    },
    {
     "name": "stderr",
     "output_type": "stream",
     "text": [
      "  5%|▍         | 457/10000 [00:13<04:28, 35.55it/s, episode_reward=0, running_reward=0]"
     ]
    },
    {
     "name": "stdout",
     "output_type": "stream",
     "text": [
      "loss tf.Tensor(0.0, shape=(), dtype=float32)\n",
      "loss tf.Tensor(0.0, shape=(), dtype=float32)\n",
      "loss tf.Tensor(0.0, shape=(), dtype=float32)\n",
      "loss tf.Tensor(0.0, shape=(), dtype=float32)\n",
      "loss tf.Tensor(0.0, shape=(), dtype=float32)\n",
      "loss tf.Tensor(0.0, shape=(), dtype=float32)\n",
      "loss tf.Tensor(0.0, shape=(), dtype=float32)\n",
      "loss tf.Tensor(0.0, shape=(), dtype=float32)\n"
     ]
    },
    {
     "name": "stderr",
     "output_type": "stream",
     "text": [
      "  5%|▍         | 465/10000 [00:13<04:24, 36.07it/s, episode_reward=0, running_reward=0]"
     ]
    },
    {
     "name": "stdout",
     "output_type": "stream",
     "text": [
      "loss tf.Tensor(0.0, shape=(), dtype=float32)\n",
      "loss tf.Tensor(0.0, shape=(), dtype=float32)\n",
      "loss tf.Tensor(0.0, shape=(), dtype=float32)\n",
      "loss tf.Tensor(0.0, shape=(), dtype=float32)\n",
      "loss tf.Tensor(0.0, shape=(), dtype=float32)\n",
      "loss tf.Tensor(0.0, shape=(), dtype=float32)\n",
      "loss tf.Tensor(0.0, shape=(), dtype=float32)\n",
      "loss tf.Tensor(0.0, shape=(), dtype=float32)\n"
     ]
    },
    {
     "name": "stderr",
     "output_type": "stream",
     "text": [
      "  5%|▍         | 473/10000 [00:13<04:21, 36.45it/s, episode_reward=0, running_reward=0]"
     ]
    },
    {
     "name": "stdout",
     "output_type": "stream",
     "text": [
      "loss tf.Tensor(0.0, shape=(), dtype=float32)\n",
      "loss tf.Tensor(0.0, shape=(), dtype=float32)\n",
      "loss tf.Tensor(0.0, shape=(), dtype=float32)\n",
      "loss tf.Tensor(0.0, shape=(), dtype=float32)\n",
      "loss tf.Tensor(0.0, shape=(), dtype=float32)\n",
      "loss tf.Tensor(0.0, shape=(), dtype=float32)\n",
      "loss tf.Tensor(0.0, shape=(), dtype=float32)\n",
      "loss tf.Tensor(0.0, shape=(), dtype=float32)\n"
     ]
    },
    {
     "name": "stderr",
     "output_type": "stream",
     "text": [
      "  5%|▍         | 481/10000 [00:14<04:21, 36.35it/s, episode_reward=0, running_reward=0]"
     ]
    },
    {
     "name": "stdout",
     "output_type": "stream",
     "text": [
      "loss tf.Tensor(0.0, shape=(), dtype=float32)\n",
      "loss tf.Tensor(0.0, shape=(), dtype=float32)\n",
      "loss tf.Tensor(0.0, shape=(), dtype=float32)\n",
      "loss tf.Tensor(0.0, shape=(), dtype=float32)\n",
      "loss tf.Tensor(0.0, shape=(), dtype=float32)\n",
      "loss tf.Tensor(0.0, shape=(), dtype=float32)\n",
      "loss tf.Tensor(0.0, shape=(), dtype=float32)\n",
      "loss tf.Tensor(0.0, shape=(), dtype=float32)\n"
     ]
    },
    {
     "name": "stderr",
     "output_type": "stream",
     "text": [
      "  5%|▍         | 489/10000 [00:14<04:20, 36.49it/s, episode_reward=0, running_reward=0]"
     ]
    },
    {
     "name": "stdout",
     "output_type": "stream",
     "text": [
      "loss tf.Tensor(0.0, shape=(), dtype=float32)\n",
      "loss tf.Tensor(0.0, shape=(), dtype=float32)\n",
      "loss tf.Tensor(0.0, shape=(), dtype=float32)\n",
      "loss tf.Tensor(0.0, shape=(), dtype=float32)\n",
      "loss tf.Tensor(0.0, shape=(), dtype=float32)\n",
      "loss tf.Tensor(0.0, shape=(), dtype=float32)\n",
      "loss tf.Tensor(0.0, shape=(), dtype=float32)\n",
      "loss tf.Tensor(0.0, shape=(), dtype=float32)\n"
     ]
    },
    {
     "name": "stderr",
     "output_type": "stream",
     "text": [
      "  5%|▍         | 497/10000 [00:14<04:20, 36.53it/s, episode_reward=0, running_reward=0]"
     ]
    },
    {
     "name": "stdout",
     "output_type": "stream",
     "text": [
      "loss tf.Tensor(0.0, shape=(), dtype=float32)\n",
      "loss tf.Tensor(0.0, shape=(), dtype=float32)\n",
      "loss tf.Tensor(0.0, shape=(), dtype=float32)\n",
      "loss tf.Tensor(0.0, shape=(), dtype=float32)\n",
      "loss tf.Tensor(0.0, shape=(), dtype=float32)\n",
      "loss tf.Tensor(0.0, shape=(), dtype=float32)\n",
      "loss tf.Tensor(0.0, shape=(), dtype=float32)\n",
      "loss tf.Tensor(0.0, shape=(), dtype=float32)\n"
     ]
    },
    {
     "name": "stderr",
     "output_type": "stream",
     "text": [
      "  5%|▌         | 505/10000 [00:14<04:18, 36.69it/s, episode_reward=0, running_reward=0]"
     ]
    },
    {
     "name": "stdout",
     "output_type": "stream",
     "text": [
      "loss tf.Tensor(0.0, shape=(), dtype=float32)\n",
      "loss tf.Tensor(0.0, shape=(), dtype=float32)\n",
      "loss tf.Tensor(0.0, shape=(), dtype=float32)\n",
      "loss tf.Tensor(0.0, shape=(), dtype=float32)\n",
      "loss tf.Tensor(0.0, shape=(), dtype=float32)\n",
      "loss tf.Tensor(0.0, shape=(), dtype=float32)\n",
      "loss tf.Tensor(0.0, shape=(), dtype=float32)\n",
      "loss tf.Tensor(0.0, shape=(), dtype=float32)\n"
     ]
    },
    {
     "name": "stderr",
     "output_type": "stream",
     "text": [
      "  5%|▌         | 513/10000 [00:15<04:17, 36.86it/s, episode_reward=0, running_reward=0]"
     ]
    },
    {
     "name": "stdout",
     "output_type": "stream",
     "text": [
      "loss tf.Tensor(0.0, shape=(), dtype=float32)\n",
      "loss tf.Tensor(0.0, shape=(), dtype=float32)\n",
      "loss tf.Tensor(0.0, shape=(), dtype=float32)\n",
      "loss tf.Tensor(0.0, shape=(), dtype=float32)\n",
      "loss tf.Tensor(0.0, shape=(), dtype=float32)\n",
      "loss tf.Tensor(0.0, shape=(), dtype=float32)\n",
      "loss tf.Tensor(0.0, shape=(), dtype=float32)\n",
      "loss tf.Tensor(0.0, shape=(), dtype=float32)\n"
     ]
    },
    {
     "name": "stderr",
     "output_type": "stream",
     "text": [
      "  5%|▌         | 521/10000 [00:15<04:17, 36.81it/s, episode_reward=0, running_reward=0]"
     ]
    },
    {
     "name": "stdout",
     "output_type": "stream",
     "text": [
      "loss tf.Tensor(0.0, shape=(), dtype=float32)\n",
      "loss tf.Tensor(0.0, shape=(), dtype=float32)\n",
      "loss tf.Tensor(0.0, shape=(), dtype=float32)\n",
      "loss tf.Tensor(0.0, shape=(), dtype=float32)\n",
      "loss tf.Tensor(0.0, shape=(), dtype=float32)\n",
      "loss tf.Tensor(0.0, shape=(), dtype=float32)\n",
      "loss tf.Tensor(0.0, shape=(), dtype=float32)\n",
      "loss tf.Tensor(0.0, shape=(), dtype=float32)\n"
     ]
    },
    {
     "name": "stderr",
     "output_type": "stream",
     "text": [
      "  5%|▌         | 529/10000 [00:15<04:17, 36.78it/s, episode_reward=0, running_reward=0]"
     ]
    },
    {
     "name": "stdout",
     "output_type": "stream",
     "text": [
      "loss tf.Tensor(0.0, shape=(), dtype=float32)\n",
      "loss tf.Tensor(0.0, shape=(), dtype=float32)\n",
      "loss tf.Tensor(0.0, shape=(), dtype=float32)\n",
      "loss tf.Tensor(0.0, shape=(), dtype=float32)\n",
      "loss tf.Tensor(0.0, shape=(), dtype=float32)\n",
      "loss tf.Tensor(0.0, shape=(), dtype=float32)\n",
      "loss tf.Tensor(0.0, shape=(), dtype=float32)\n",
      "loss tf.Tensor(0.0, shape=(), dtype=float32)\n"
     ]
    },
    {
     "name": "stderr",
     "output_type": "stream",
     "text": [
      "  5%|▌         | 537/10000 [00:15<04:17, 36.74it/s, episode_reward=0, running_reward=0]"
     ]
    },
    {
     "name": "stdout",
     "output_type": "stream",
     "text": [
      "loss tf.Tensor(0.0, shape=(), dtype=float32)\n",
      "loss tf.Tensor(0.0, shape=(), dtype=float32)\n",
      "loss tf.Tensor(0.0, shape=(), dtype=float32)\n",
      "loss tf.Tensor(0.0, shape=(), dtype=float32)\n",
      "loss tf.Tensor(0.0, shape=(), dtype=float32)\n",
      "loss tf.Tensor(0.0, shape=(), dtype=float32)\n",
      "loss tf.Tensor(0.0, shape=(), dtype=float32)\n",
      "loss tf.Tensor(0.0, shape=(), dtype=float32)\n"
     ]
    },
    {
     "name": "stderr",
     "output_type": "stream",
     "text": [
      "  5%|▌         | 541/10000 [00:15<04:17, 36.73it/s, episode_reward=0, running_reward=0]"
     ]
    },
    {
     "name": "stdout",
     "output_type": "stream",
     "text": [
      "loss tf.Tensor(0.0, shape=(), dtype=float32)\n",
      "loss tf.Tensor(0.0, shape=(), dtype=float32)\n",
      "loss tf.Tensor(0.0, shape=(), dtype=float32)\n",
      "loss tf.Tensor(0.0, shape=(), dtype=float32)\n",
      "loss tf.Tensor(0.0, shape=(), dtype=float32)\n"
     ]
    },
    {
     "name": "stderr",
     "output_type": "stream",
     "text": [
      "  5%|▌         | 549/10000 [00:16<05:14, 30.09it/s, episode_reward=0, running_reward=0]"
     ]
    },
    {
     "name": "stdout",
     "output_type": "stream",
     "text": [
      "loss tf.Tensor(0.0, shape=(), dtype=float32)\n",
      "loss tf.Tensor(0.0, shape=(), dtype=float32)\n",
      "loss tf.Tensor(0.0, shape=(), dtype=float32)\n",
      "loss tf.Tensor(0.0, shape=(), dtype=float32)\n",
      "loss tf.Tensor(0.0, shape=(), dtype=float32)\n",
      "loss tf.Tensor(0.0, shape=(), dtype=float32)\n",
      "loss tf.Tensor(0.0, shape=(), dtype=float32)\n"
     ]
    },
    {
     "name": "stderr",
     "output_type": "stream",
     "text": [
      "  6%|▌         | 557/10000 [00:16<04:54, 32.09it/s, episode_reward=0, running_reward=0]"
     ]
    },
    {
     "name": "stdout",
     "output_type": "stream",
     "text": [
      "loss tf.Tensor(0.0, shape=(), dtype=float32)\n",
      "loss tf.Tensor(0.0, shape=(), dtype=float32)\n",
      "loss tf.Tensor(0.0, shape=(), dtype=float32)\n",
      "loss tf.Tensor(0.0, shape=(), dtype=float32)\n",
      "loss tf.Tensor(0.0, shape=(), dtype=float32)\n",
      "loss tf.Tensor(0.0, shape=(), dtype=float32)\n",
      "loss tf.Tensor(0.0, shape=(), dtype=float32)\n"
     ]
    },
    {
     "name": "stderr",
     "output_type": "stream",
     "text": [
      "  6%|▌         | 565/10000 [00:16<04:37, 34.03it/s, episode_reward=0, running_reward=0]"
     ]
    },
    {
     "name": "stdout",
     "output_type": "stream",
     "text": [
      "loss tf.Tensor(0.0, shape=(), dtype=float32)\n",
      "loss tf.Tensor(0.0, shape=(), dtype=float32)\n",
      "loss tf.Tensor(0.0, shape=(), dtype=float32)\n",
      "loss tf.Tensor(0.0, shape=(), dtype=float32)\n",
      "loss tf.Tensor(0.0, shape=(), dtype=float32)\n",
      "loss tf.Tensor(0.0, shape=(), dtype=float32)\n",
      "loss tf.Tensor(0.0, shape=(), dtype=float32)\n",
      "loss tf.Tensor(0.0, shape=(), dtype=float32)\n"
     ]
    },
    {
     "name": "stderr",
     "output_type": "stream",
     "text": [
      "  6%|▌         | 573/10000 [00:16<04:29, 35.02it/s, episode_reward=0, running_reward=0]"
     ]
    },
    {
     "name": "stdout",
     "output_type": "stream",
     "text": [
      "loss tf.Tensor(0.0, shape=(), dtype=float32)\n",
      "loss tf.Tensor(0.0, shape=(), dtype=float32)\n",
      "loss tf.Tensor(0.0, shape=(), dtype=float32)\n",
      "loss tf.Tensor(0.0, shape=(), dtype=float32)\n",
      "loss tf.Tensor(0.0, shape=(), dtype=float32)\n",
      "loss tf.Tensor(0.0, shape=(), dtype=float32)\n",
      "loss tf.Tensor(0.0, shape=(), dtype=float32)\n",
      "loss tf.Tensor(0.0, shape=(), dtype=float32)\n"
     ]
    },
    {
     "name": "stderr",
     "output_type": "stream",
     "text": [
      "  6%|▌         | 581/10000 [00:17<04:22, 35.82it/s, episode_reward=0, running_reward=0]"
     ]
    },
    {
     "name": "stdout",
     "output_type": "stream",
     "text": [
      "loss tf.Tensor(0.0, shape=(), dtype=float32)\n",
      "loss tf.Tensor(0.0, shape=(), dtype=float32)\n",
      "loss tf.Tensor(0.0, shape=(), dtype=float32)\n",
      "loss tf.Tensor(0.0, shape=(), dtype=float32)\n",
      "loss tf.Tensor(0.0, shape=(), dtype=float32)\n",
      "loss tf.Tensor(0.0, shape=(), dtype=float32)\n",
      "loss tf.Tensor(0.0, shape=(), dtype=float32)\n",
      "loss tf.Tensor(0.0, shape=(), dtype=float32)\n"
     ]
    },
    {
     "name": "stderr",
     "output_type": "stream",
     "text": [
      "  6%|▌         | 589/10000 [00:17<04:20, 36.07it/s, episode_reward=0, running_reward=0]"
     ]
    },
    {
     "name": "stdout",
     "output_type": "stream",
     "text": [
      "loss tf.Tensor(0.0, shape=(), dtype=float32)\n",
      "loss tf.Tensor(0.0, shape=(), dtype=float32)\n",
      "loss tf.Tensor(0.0, shape=(), dtype=float32)\n",
      "loss tf.Tensor(0.0, shape=(), dtype=float32)\n",
      "loss tf.Tensor(0.0, shape=(), dtype=float32)\n",
      "loss tf.Tensor(0.0, shape=(), dtype=float32)\n",
      "loss tf.Tensor(0.0, shape=(), dtype=float32)\n",
      "loss tf.Tensor(0.0, shape=(), dtype=float32)\n"
     ]
    },
    {
     "name": "stderr",
     "output_type": "stream",
     "text": [
      "  6%|▌         | 597/10000 [00:17<04:19, 36.28it/s, episode_reward=0, running_reward=0]"
     ]
    },
    {
     "name": "stdout",
     "output_type": "stream",
     "text": [
      "loss tf.Tensor(0.0, shape=(), dtype=float32)\n",
      "loss tf.Tensor(0.0, shape=(), dtype=float32)\n",
      "loss tf.Tensor(0.0, shape=(), dtype=float32)\n",
      "loss tf.Tensor(0.0, shape=(), dtype=float32)\n",
      "loss tf.Tensor(0.0, shape=(), dtype=float32)\n",
      "loss tf.Tensor(0.0, shape=(), dtype=float32)\n",
      "loss tf.Tensor(0.0, shape=(), dtype=float32)\n",
      "loss tf.Tensor(0.0, shape=(), dtype=float32)\n"
     ]
    },
    {
     "name": "stderr",
     "output_type": "stream",
     "text": [
      "  6%|▌         | 605/10000 [00:17<04:18, 36.34it/s, episode_reward=0, running_reward=0]"
     ]
    },
    {
     "name": "stdout",
     "output_type": "stream",
     "text": [
      "loss tf.Tensor(0.0, shape=(), dtype=float32)\n",
      "loss tf.Tensor(0.0, shape=(), dtype=float32)\n",
      "loss tf.Tensor(0.0, shape=(), dtype=float32)\n",
      "loss tf.Tensor(0.0, shape=(), dtype=float32)\n",
      "loss tf.Tensor(0.0, shape=(), dtype=float32)\n",
      "loss tf.Tensor(0.0, shape=(), dtype=float32)\n",
      "loss tf.Tensor(0.0, shape=(), dtype=float32)\n",
      "loss tf.Tensor(0.0, shape=(), dtype=float32)\n"
     ]
    },
    {
     "name": "stderr",
     "output_type": "stream",
     "text": [
      "  6%|▌         | 613/10000 [00:17<04:17, 36.50it/s, episode_reward=0, running_reward=0]"
     ]
    },
    {
     "name": "stdout",
     "output_type": "stream",
     "text": [
      "loss tf.Tensor(0.0, shape=(), dtype=float32)\n",
      "loss tf.Tensor(0.0, shape=(), dtype=float32)\n",
      "loss tf.Tensor(0.0, shape=(), dtype=float32)\n",
      "loss tf.Tensor(0.0, shape=(), dtype=float32)\n",
      "loss tf.Tensor(0.0, shape=(), dtype=float32)\n",
      "loss tf.Tensor(0.0, shape=(), dtype=float32)\n",
      "loss tf.Tensor(0.0, shape=(), dtype=float32)\n",
      "loss tf.Tensor(0.0, shape=(), dtype=float32)\n"
     ]
    },
    {
     "name": "stderr",
     "output_type": "stream",
     "text": [
      "  6%|▌         | 621/10000 [00:18<04:17, 36.45it/s, episode_reward=0, running_reward=0]"
     ]
    },
    {
     "name": "stdout",
     "output_type": "stream",
     "text": [
      "loss tf.Tensor(0.0, shape=(), dtype=float32)\n",
      "loss tf.Tensor(0.0, shape=(), dtype=float32)\n",
      "loss tf.Tensor(0.0, shape=(), dtype=float32)\n",
      "loss tf.Tensor(0.0, shape=(), dtype=float32)\n",
      "loss tf.Tensor(0.0, shape=(), dtype=float32)\n",
      "loss tf.Tensor(0.0, shape=(), dtype=float32)\n",
      "loss tf.Tensor(0.0, shape=(), dtype=float32)\n",
      "loss tf.Tensor(0.0, shape=(), dtype=float32)\n"
     ]
    },
    {
     "name": "stderr",
     "output_type": "stream",
     "text": [
      "  6%|▋         | 629/10000 [00:18<04:17, 36.32it/s, episode_reward=0, running_reward=0]"
     ]
    },
    {
     "name": "stdout",
     "output_type": "stream",
     "text": [
      "loss tf.Tensor(0.0, shape=(), dtype=float32)\n",
      "loss tf.Tensor(0.0, shape=(), dtype=float32)\n",
      "loss tf.Tensor(0.0, shape=(), dtype=float32)\n",
      "loss tf.Tensor(0.0, shape=(), dtype=float32)\n",
      "loss tf.Tensor(0.0, shape=(), dtype=float32)\n",
      "loss tf.Tensor(0.0, shape=(), dtype=float32)\n",
      "loss tf.Tensor(0.0, shape=(), dtype=float32)\n",
      "loss tf.Tensor(0.0, shape=(), dtype=float32)\n"
     ]
    },
    {
     "name": "stderr",
     "output_type": "stream",
     "text": [
      "  6%|▋         | 637/10000 [00:18<04:16, 36.55it/s, episode_reward=0, running_reward=0]"
     ]
    },
    {
     "name": "stdout",
     "output_type": "stream",
     "text": [
      "loss tf.Tensor(0.0, shape=(), dtype=float32)\n",
      "loss tf.Tensor(0.0, shape=(), dtype=float32)\n",
      "loss tf.Tensor(0.0, shape=(), dtype=float32)\n",
      "loss tf.Tensor(0.0, shape=(), dtype=float32)\n",
      "loss tf.Tensor(0.0, shape=(), dtype=float32)\n",
      "loss tf.Tensor(0.0, shape=(), dtype=float32)\n",
      "loss tf.Tensor(0.0, shape=(), dtype=float32)\n",
      "loss tf.Tensor(0.0, shape=(), dtype=float32)\n"
     ]
    },
    {
     "name": "stderr",
     "output_type": "stream",
     "text": [
      "  6%|▋         | 645/10000 [00:18<04:15, 36.62it/s, episode_reward=0, running_reward=0]"
     ]
    },
    {
     "name": "stdout",
     "output_type": "stream",
     "text": [
      "loss tf.Tensor(0.0, shape=(), dtype=float32)\n",
      "loss tf.Tensor(0.0, shape=(), dtype=float32)\n",
      "loss tf.Tensor(0.0, shape=(), dtype=float32)\n",
      "loss tf.Tensor(0.0, shape=(), dtype=float32)\n",
      "loss tf.Tensor(0.0, shape=(), dtype=float32)\n",
      "loss tf.Tensor(0.0, shape=(), dtype=float32)\n",
      "loss tf.Tensor(0.0, shape=(), dtype=float32)\n",
      "loss tf.Tensor(0.0, shape=(), dtype=float32)\n"
     ]
    },
    {
     "name": "stderr",
     "output_type": "stream",
     "text": [
      "  7%|▋         | 653/10000 [00:19<04:15, 36.51it/s, episode_reward=0, running_reward=0]"
     ]
    },
    {
     "name": "stdout",
     "output_type": "stream",
     "text": [
      "loss tf.Tensor(0.0, shape=(), dtype=float32)\n",
      "loss tf.Tensor(0.0, shape=(), dtype=float32)\n",
      "loss tf.Tensor(0.0, shape=(), dtype=float32)\n",
      "loss tf.Tensor(0.0, shape=(), dtype=float32)\n",
      "loss tf.Tensor(0.0, shape=(), dtype=float32)\n",
      "loss tf.Tensor(0.0, shape=(), dtype=float32)\n",
      "loss tf.Tensor(0.0, shape=(), dtype=float32)\n",
      "loss tf.Tensor(0.0, shape=(), dtype=float32)\n"
     ]
    },
    {
     "name": "stderr",
     "output_type": "stream",
     "text": [
      "  7%|▋         | 661/10000 [00:19<04:14, 36.64it/s, episode_reward=0, running_reward=0]"
     ]
    },
    {
     "name": "stdout",
     "output_type": "stream",
     "text": [
      "loss tf.Tensor(0.0, shape=(), dtype=float32)\n",
      "loss tf.Tensor(0.0, shape=(), dtype=float32)\n",
      "loss tf.Tensor(0.0, shape=(), dtype=float32)\n",
      "loss tf.Tensor(0.0, shape=(), dtype=float32)\n",
      "loss tf.Tensor(0.0, shape=(), dtype=float32)\n",
      "loss tf.Tensor(0.0, shape=(), dtype=float32)\n",
      "loss tf.Tensor(0.0, shape=(), dtype=float32)\n",
      "loss tf.Tensor(0.0, shape=(), dtype=float32)\n"
     ]
    },
    {
     "name": "stderr",
     "output_type": "stream",
     "text": [
      "  7%|▋         | 669/10000 [00:19<04:15, 36.51it/s, episode_reward=0, running_reward=0]"
     ]
    },
    {
     "name": "stdout",
     "output_type": "stream",
     "text": [
      "loss tf.Tensor(0.0, shape=(), dtype=float32)\n",
      "loss tf.Tensor(0.0, shape=(), dtype=float32)\n",
      "loss tf.Tensor(0.0, shape=(), dtype=float32)\n",
      "loss tf.Tensor(0.0, shape=(), dtype=float32)\n",
      "loss tf.Tensor(0.0, shape=(), dtype=float32)\n",
      "loss tf.Tensor(0.0, shape=(), dtype=float32)\n",
      "loss tf.Tensor(0.0, shape=(), dtype=float32)\n",
      "loss tf.Tensor(0.0, shape=(), dtype=float32)\n"
     ]
    },
    {
     "name": "stderr",
     "output_type": "stream",
     "text": [
      "  7%|▋         | 677/10000 [00:19<04:14, 36.69it/s, episode_reward=0, running_reward=0]"
     ]
    },
    {
     "name": "stdout",
     "output_type": "stream",
     "text": [
      "loss tf.Tensor(0.0, shape=(), dtype=float32)\n",
      "loss tf.Tensor(0.0, shape=(), dtype=float32)\n",
      "loss tf.Tensor(0.0, shape=(), dtype=float32)\n",
      "loss tf.Tensor(0.0, shape=(), dtype=float32)\n",
      "loss tf.Tensor(0.0, shape=(), dtype=float32)\n",
      "loss tf.Tensor(0.0, shape=(), dtype=float32)\n",
      "loss tf.Tensor(0.0, shape=(), dtype=float32)\n",
      "loss tf.Tensor(0.0, shape=(), dtype=float32)\n"
     ]
    },
    {
     "name": "stderr",
     "output_type": "stream",
     "text": [
      "  7%|▋         | 685/10000 [00:19<04:13, 36.72it/s, episode_reward=0, running_reward=0]"
     ]
    },
    {
     "name": "stdout",
     "output_type": "stream",
     "text": [
      "loss tf.Tensor(0.0, shape=(), dtype=float32)\n",
      "loss tf.Tensor(0.0, shape=(), dtype=float32)\n",
      "loss tf.Tensor(0.0, shape=(), dtype=float32)\n",
      "loss tf.Tensor(0.0, shape=(), dtype=float32)\n",
      "loss tf.Tensor(0.0, shape=(), dtype=float32)\n",
      "loss tf.Tensor(0.0, shape=(), dtype=float32)\n",
      "loss tf.Tensor(0.0, shape=(), dtype=float32)\n",
      "loss tf.Tensor(0.0, shape=(), dtype=float32)\n"
     ]
    },
    {
     "name": "stderr",
     "output_type": "stream",
     "text": [
      "  7%|▋         | 693/10000 [00:20<04:13, 36.77it/s, episode_reward=0, running_reward=0]"
     ]
    },
    {
     "name": "stdout",
     "output_type": "stream",
     "text": [
      "loss tf.Tensor(0.0, shape=(), dtype=float32)\n",
      "loss tf.Tensor(0.0, shape=(), dtype=float32)\n",
      "loss tf.Tensor(0.0, shape=(), dtype=float32)\n",
      "loss tf.Tensor(0.0, shape=(), dtype=float32)\n",
      "loss tf.Tensor(0.0, shape=(), dtype=float32)\n",
      "loss tf.Tensor(0.0, shape=(), dtype=float32)\n"
     ]
    },
    {
     "name": "stderr",
     "output_type": "stream",
     "text": [
      "  7%|▋         | 701/10000 [00:20<05:43, 27.09it/s, episode_reward=0, running_reward=0]"
     ]
    },
    {
     "name": "stdout",
     "output_type": "stream",
     "text": [
      "loss tf.Tensor(0.0, shape=(), dtype=float32)\n",
      "loss tf.Tensor(0.0, shape=(), dtype=float32)\n",
      "loss tf.Tensor(0.0, shape=(), dtype=float32)\n",
      "loss tf.Tensor(0.0, shape=(), dtype=float32)\n",
      "loss tf.Tensor(0.0, shape=(), dtype=float32)\n",
      "loss tf.Tensor(0.0, shape=(), dtype=float32)\n",
      "loss tf.Tensor(0.0, shape=(), dtype=float32)\n",
      "loss tf.Tensor(0.0, shape=(), dtype=float32)\n"
     ]
    },
    {
     "name": "stderr",
     "output_type": "stream",
     "text": [
      "  7%|▋         | 709/10000 [00:20<04:58, 31.18it/s, episode_reward=0, running_reward=0]"
     ]
    },
    {
     "name": "stdout",
     "output_type": "stream",
     "text": [
      "loss tf.Tensor(0.0, shape=(), dtype=float32)\n",
      "loss tf.Tensor(0.0, shape=(), dtype=float32)\n",
      "loss tf.Tensor(0.0, shape=(), dtype=float32)\n",
      "loss tf.Tensor(0.0, shape=(), dtype=float32)\n",
      "loss tf.Tensor(0.0, shape=(), dtype=float32)\n",
      "loss tf.Tensor(0.0, shape=(), dtype=float32)\n",
      "loss tf.Tensor(0.0, shape=(), dtype=float32)\n",
      "loss tf.Tensor(0.0, shape=(), dtype=float32)\n"
     ]
    },
    {
     "name": "stderr",
     "output_type": "stream",
     "text": [
      "  7%|▋         | 717/10000 [00:20<04:36, 33.54it/s, episode_reward=0, running_reward=0]"
     ]
    },
    {
     "name": "stdout",
     "output_type": "stream",
     "text": [
      "loss tf.Tensor(0.0, shape=(), dtype=float32)\n",
      "loss tf.Tensor(0.0, shape=(), dtype=float32)\n",
      "loss tf.Tensor(0.0, shape=(), dtype=float32)\n",
      "loss tf.Tensor(0.0, shape=(), dtype=float32)\n",
      "loss tf.Tensor(0.0, shape=(), dtype=float32)\n",
      "loss tf.Tensor(0.0, shape=(), dtype=float32)\n",
      "loss tf.Tensor(0.0, shape=(), dtype=float32)\n",
      "loss tf.Tensor(0.0, shape=(), dtype=float32)\n"
     ]
    },
    {
     "name": "stderr",
     "output_type": "stream",
     "text": [
      "  7%|▋         | 725/10000 [00:21<04:25, 34.90it/s, episode_reward=0, running_reward=0]"
     ]
    },
    {
     "name": "stdout",
     "output_type": "stream",
     "text": [
      "loss tf.Tensor(0.0, shape=(), dtype=float32)\n",
      "loss tf.Tensor(0.0, shape=(), dtype=float32)\n",
      "loss tf.Tensor(0.0, shape=(), dtype=float32)\n",
      "loss tf.Tensor(0.0, shape=(), dtype=float32)\n",
      "loss tf.Tensor(0.0, shape=(), dtype=float32)\n",
      "loss tf.Tensor(0.0, shape=(), dtype=float32)\n",
      "loss tf.Tensor(0.0, shape=(), dtype=float32)\n",
      "loss tf.Tensor(0.0, shape=(), dtype=float32)\n"
     ]
    },
    {
     "name": "stderr",
     "output_type": "stream",
     "text": [
      "  7%|▋         | 733/10000 [00:21<04:18, 35.89it/s, episode_reward=0, running_reward=0]"
     ]
    },
    {
     "name": "stdout",
     "output_type": "stream",
     "text": [
      "loss tf.Tensor(0.0, shape=(), dtype=float32)\n",
      "loss tf.Tensor(0.0, shape=(), dtype=float32)\n",
      "loss tf.Tensor(0.0, shape=(), dtype=float32)\n",
      "loss tf.Tensor(0.0, shape=(), dtype=float32)\n",
      "loss tf.Tensor(0.0, shape=(), dtype=float32)\n",
      "loss tf.Tensor(0.0, shape=(), dtype=float32)\n",
      "loss tf.Tensor(0.0, shape=(), dtype=float32)\n",
      "loss tf.Tensor(0.0, shape=(), dtype=float32)\n"
     ]
    },
    {
     "name": "stderr",
     "output_type": "stream",
     "text": [
      "  7%|▋         | 741/10000 [00:21<04:16, 36.08it/s, episode_reward=0, running_reward=0]"
     ]
    },
    {
     "name": "stdout",
     "output_type": "stream",
     "text": [
      "loss tf.Tensor(0.0, shape=(), dtype=float32)\n",
      "loss tf.Tensor(0.0, shape=(), dtype=float32)\n",
      "loss tf.Tensor(0.0, shape=(), dtype=float32)\n",
      "loss tf.Tensor(0.0, shape=(), dtype=float32)\n",
      "loss tf.Tensor(0.0, shape=(), dtype=float32)\n",
      "loss tf.Tensor(0.0, shape=(), dtype=float32)\n",
      "loss tf.Tensor(0.0, shape=(), dtype=float32)\n",
      "loss tf.Tensor(0.0, shape=(), dtype=float32)\n"
     ]
    },
    {
     "name": "stderr",
     "output_type": "stream",
     "text": [
      "  7%|▋         | 749/10000 [00:21<04:14, 36.31it/s, episode_reward=0, running_reward=0]"
     ]
    },
    {
     "name": "stdout",
     "output_type": "stream",
     "text": [
      "loss tf.Tensor(0.0, shape=(), dtype=float32)\n",
      "loss tf.Tensor(0.0, shape=(), dtype=float32)\n",
      "loss tf.Tensor(0.0, shape=(), dtype=float32)\n",
      "loss tf.Tensor(0.0, shape=(), dtype=float32)\n",
      "loss tf.Tensor(0.0, shape=(), dtype=float32)\n",
      "loss tf.Tensor(0.0, shape=(), dtype=float32)\n",
      "loss tf.Tensor(0.0, shape=(), dtype=float32)\n",
      "loss tf.Tensor(0.0, shape=(), dtype=float32)\n"
     ]
    },
    {
     "name": "stderr",
     "output_type": "stream",
     "text": [
      "  8%|▊         | 757/10000 [00:21<04:13, 36.40it/s, episode_reward=0, running_reward=0]"
     ]
    },
    {
     "name": "stdout",
     "output_type": "stream",
     "text": [
      "loss tf.Tensor(0.0, shape=(), dtype=float32)\n",
      "loss tf.Tensor(0.0, shape=(), dtype=float32)\n",
      "loss tf.Tensor(0.0, shape=(), dtype=float32)\n",
      "loss tf.Tensor(0.0, shape=(), dtype=float32)\n",
      "loss tf.Tensor(0.0, shape=(), dtype=float32)\n",
      "loss tf.Tensor(0.0, shape=(), dtype=float32)\n",
      "loss tf.Tensor(0.0, shape=(), dtype=float32)\n",
      "loss tf.Tensor(0.0, shape=(), dtype=float32)\n"
     ]
    },
    {
     "name": "stderr",
     "output_type": "stream",
     "text": [
      "  8%|▊         | 765/10000 [00:22<04:12, 36.51it/s, episode_reward=0, running_reward=0]"
     ]
    },
    {
     "name": "stdout",
     "output_type": "stream",
     "text": [
      "loss tf.Tensor(0.0, shape=(), dtype=float32)\n",
      "loss tf.Tensor(0.0, shape=(), dtype=float32)\n",
      "loss tf.Tensor(0.0, shape=(), dtype=float32)\n",
      "loss tf.Tensor(0.0, shape=(), dtype=float32)\n",
      "loss tf.Tensor(0.0, shape=(), dtype=float32)\n",
      "loss tf.Tensor(0.0, shape=(), dtype=float32)\n",
      "loss tf.Tensor(0.0, shape=(), dtype=float32)\n",
      "loss tf.Tensor(0.0, shape=(), dtype=float32)\n"
     ]
    },
    {
     "name": "stderr",
     "output_type": "stream",
     "text": [
      "  8%|▊         | 773/10000 [00:22<04:12, 36.49it/s, episode_reward=0, running_reward=0]"
     ]
    },
    {
     "name": "stdout",
     "output_type": "stream",
     "text": [
      "loss tf.Tensor(0.0, shape=(), dtype=float32)\n",
      "loss tf.Tensor(0.0, shape=(), dtype=float32)\n",
      "loss tf.Tensor(0.0, shape=(), dtype=float32)\n",
      "loss tf.Tensor(0.0, shape=(), dtype=float32)\n",
      "loss tf.Tensor(0.0, shape=(), dtype=float32)\n",
      "loss tf.Tensor(0.0, shape=(), dtype=float32)\n",
      "loss tf.Tensor(0.0, shape=(), dtype=float32)\n",
      "loss tf.Tensor(0.0, shape=(), dtype=float32)\n"
     ]
    },
    {
     "name": "stderr",
     "output_type": "stream",
     "text": [
      "  8%|▊         | 781/10000 [00:22<04:12, 36.54it/s, episode_reward=0, running_reward=0]"
     ]
    },
    {
     "name": "stdout",
     "output_type": "stream",
     "text": [
      "loss tf.Tensor(0.0, shape=(), dtype=float32)\n",
      "loss tf.Tensor(0.0, shape=(), dtype=float32)\n",
      "loss tf.Tensor(0.0, shape=(), dtype=float32)\n",
      "loss tf.Tensor(0.0, shape=(), dtype=float32)\n",
      "loss tf.Tensor(0.0, shape=(), dtype=float32)\n",
      "loss tf.Tensor(0.0, shape=(), dtype=float32)\n",
      "loss tf.Tensor(0.0, shape=(), dtype=float32)\n",
      "loss tf.Tensor(0.0, shape=(), dtype=float32)\n"
     ]
    },
    {
     "name": "stderr",
     "output_type": "stream",
     "text": [
      "  8%|▊         | 789/10000 [00:22<04:09, 36.99it/s, episode_reward=0, running_reward=0]"
     ]
    },
    {
     "name": "stdout",
     "output_type": "stream",
     "text": [
      "loss tf.Tensor(0.0, shape=(), dtype=float32)\n",
      "loss tf.Tensor(0.0, shape=(), dtype=float32)\n",
      "loss tf.Tensor(0.0, shape=(), dtype=float32)\n",
      "loss tf.Tensor(0.0, shape=(), dtype=float32)\n",
      "loss tf.Tensor(0.0, shape=(), dtype=float32)\n",
      "loss tf.Tensor(0.0, shape=(), dtype=float32)\n",
      "loss tf.Tensor(0.0, shape=(), dtype=float32)\n",
      "loss tf.Tensor(0.0, shape=(), dtype=float32)\n"
     ]
    },
    {
     "name": "stderr",
     "output_type": "stream",
     "text": [
      "  8%|▊         | 797/10000 [00:23<04:09, 36.87it/s, episode_reward=0, running_reward=0]"
     ]
    },
    {
     "name": "stdout",
     "output_type": "stream",
     "text": [
      "loss tf.Tensor(0.0, shape=(), dtype=float32)\n",
      "loss tf.Tensor(0.0, shape=(), dtype=float32)\n",
      "loss tf.Tensor(0.0, shape=(), dtype=float32)\n",
      "loss tf.Tensor(0.0, shape=(), dtype=float32)\n",
      "loss tf.Tensor(0.0, shape=(), dtype=float32)\n",
      "loss tf.Tensor(0.0, shape=(), dtype=float32)\n",
      "loss tf.Tensor(0.0, shape=(), dtype=float32)\n",
      "loss tf.Tensor(0.0, shape=(), dtype=float32)\n"
     ]
    },
    {
     "name": "stderr",
     "output_type": "stream",
     "text": [
      "  8%|▊         | 805/10000 [00:23<04:11, 36.59it/s, episode_reward=0, running_reward=0]"
     ]
    },
    {
     "name": "stdout",
     "output_type": "stream",
     "text": [
      "loss tf.Tensor(0.0, shape=(), dtype=float32)\n",
      "loss tf.Tensor(0.0, shape=(), dtype=float32)\n",
      "loss tf.Tensor(0.0, shape=(), dtype=float32)\n",
      "loss tf.Tensor(0.0, shape=(), dtype=float32)\n",
      "loss tf.Tensor(0.0, shape=(), dtype=float32)\n",
      "loss tf.Tensor(0.0, shape=(), dtype=float32)\n",
      "loss tf.Tensor(0.0, shape=(), dtype=float32)\n",
      "loss tf.Tensor(0.0, shape=(), dtype=float32)\n"
     ]
    },
    {
     "name": "stderr",
     "output_type": "stream",
     "text": [
      "  8%|▊         | 813/10000 [00:23<04:11, 36.54it/s, episode_reward=0, running_reward=0]"
     ]
    },
    {
     "name": "stdout",
     "output_type": "stream",
     "text": [
      "loss tf.Tensor(0.0, shape=(), dtype=float32)\n",
      "loss tf.Tensor(0.0, shape=(), dtype=float32)\n",
      "loss tf.Tensor(0.0, shape=(), dtype=float32)\n",
      "loss tf.Tensor(0.0, shape=(), dtype=float32)\n",
      "loss tf.Tensor(0.0, shape=(), dtype=float32)\n",
      "loss tf.Tensor(0.0, shape=(), dtype=float32)\n",
      "loss tf.Tensor(0.0, shape=(), dtype=float32)\n",
      "loss tf.Tensor(0.0, shape=(), dtype=float32)\n"
     ]
    },
    {
     "name": "stderr",
     "output_type": "stream",
     "text": [
      "  8%|▊         | 817/10000 [00:23<04:12, 36.30it/s, episode_reward=0, running_reward=0]"
     ]
    },
    {
     "name": "stdout",
     "output_type": "stream",
     "text": [
      "loss tf.Tensor(0.0, shape=(), dtype=float32)\n",
      "loss tf.Tensor(0.0, shape=(), dtype=float32)\n",
      "loss tf.Tensor(0.0, shape=(), dtype=float32)\n",
      "loss tf.Tensor(0.0, shape=(), dtype=float32)\n",
      "loss tf.Tensor(0.0, shape=(), dtype=float32)\n",
      "loss tf.Tensor(0.0, shape=(), dtype=float32)\n"
     ]
    },
    {
     "name": "stderr",
     "output_type": "stream",
     "text": [
      "  8%|▊         | 825/10000 [00:24<05:26, 28.12it/s, episode_reward=0, running_reward=0]"
     ]
    },
    {
     "name": "stdout",
     "output_type": "stream",
     "text": [
      "loss tf.Tensor(0.0, shape=(), dtype=float32)\n",
      "loss tf.Tensor(0.0, shape=(), dtype=float32)\n",
      "loss tf.Tensor(0.0, shape=(), dtype=float32)\n",
      "loss tf.Tensor(0.0, shape=(), dtype=float32)\n",
      "loss tf.Tensor(0.0, shape=(), dtype=float32)\n",
      "loss tf.Tensor(0.0, shape=(), dtype=float32)\n",
      "loss tf.Tensor(0.0, shape=(), dtype=float32)\n",
      "loss tf.Tensor(0.0, shape=(), dtype=float32)\n"
     ]
    },
    {
     "name": "stderr",
     "output_type": "stream",
     "text": [
      "  8%|▊         | 833/10000 [00:24<04:46, 32.01it/s, episode_reward=0, running_reward=0]"
     ]
    },
    {
     "name": "stdout",
     "output_type": "stream",
     "text": [
      "loss tf.Tensor(0.0, shape=(), dtype=float32)\n",
      "loss tf.Tensor(0.0, shape=(), dtype=float32)\n",
      "loss tf.Tensor(0.0, shape=(), dtype=float32)\n",
      "loss tf.Tensor(0.0, shape=(), dtype=float32)\n",
      "loss tf.Tensor(0.0, shape=(), dtype=float32)\n",
      "loss tf.Tensor(0.0, shape=(), dtype=float32)\n",
      "loss tf.Tensor(0.0, shape=(), dtype=float32)\n",
      "loss tf.Tensor(0.0, shape=(), dtype=float32)\n"
     ]
    },
    {
     "name": "stderr",
     "output_type": "stream",
     "text": [
      "  8%|▊         | 841/10000 [00:24<04:29, 33.99it/s, episode_reward=0, running_reward=0]"
     ]
    },
    {
     "name": "stdout",
     "output_type": "stream",
     "text": [
      "loss tf.Tensor(0.0, shape=(), dtype=float32)\n",
      "loss tf.Tensor(0.0, shape=(), dtype=float32)\n",
      "loss tf.Tensor(0.0, shape=(), dtype=float32)\n",
      "loss tf.Tensor(0.0, shape=(), dtype=float32)\n",
      "loss tf.Tensor(0.0, shape=(), dtype=float32)\n",
      "loss tf.Tensor(0.0, shape=(), dtype=float32)\n",
      "loss tf.Tensor(0.0, shape=(), dtype=float32)\n",
      "loss tf.Tensor(0.0, shape=(), dtype=float32)\n"
     ]
    },
    {
     "name": "stderr",
     "output_type": "stream",
     "text": [
      "  8%|▊         | 849/10000 [00:24<04:18, 35.36it/s, episode_reward=0, running_reward=0]"
     ]
    },
    {
     "name": "stdout",
     "output_type": "stream",
     "text": [
      "loss tf.Tensor(0.0, shape=(), dtype=float32)\n",
      "loss tf.Tensor(0.0, shape=(), dtype=float32)\n",
      "loss tf.Tensor(0.0, shape=(), dtype=float32)\n",
      "loss tf.Tensor(0.0, shape=(), dtype=float32)\n",
      "loss tf.Tensor(0.0, shape=(), dtype=float32)\n",
      "loss tf.Tensor(0.0, shape=(), dtype=float32)\n",
      "loss tf.Tensor(0.0, shape=(), dtype=float32)\n",
      "loss tf.Tensor(0.0, shape=(), dtype=float32)\n"
     ]
    },
    {
     "name": "stderr",
     "output_type": "stream",
     "text": [
      "  9%|▊         | 857/10000 [00:24<04:14, 35.95it/s, episode_reward=0, running_reward=0]"
     ]
    },
    {
     "name": "stdout",
     "output_type": "stream",
     "text": [
      "loss tf.Tensor(0.0, shape=(), dtype=float32)\n",
      "loss tf.Tensor(0.0, shape=(), dtype=float32)\n",
      "loss tf.Tensor(0.0, shape=(), dtype=float32)\n",
      "loss tf.Tensor(0.0, shape=(), dtype=float32)\n",
      "loss tf.Tensor(0.0, shape=(), dtype=float32)\n",
      "loss tf.Tensor(0.0, shape=(), dtype=float32)\n",
      "loss tf.Tensor(0.0, shape=(), dtype=float32)\n",
      "loss tf.Tensor(0.0, shape=(), dtype=float32)\n"
     ]
    },
    {
     "name": "stderr",
     "output_type": "stream",
     "text": [
      "  9%|▊         | 865/10000 [00:25<04:12, 36.12it/s, episode_reward=0, running_reward=0]"
     ]
    },
    {
     "name": "stdout",
     "output_type": "stream",
     "text": [
      "loss tf.Tensor(0.0, shape=(), dtype=float32)\n",
      "loss tf.Tensor(0.0, shape=(), dtype=float32)\n",
      "loss tf.Tensor(0.0, shape=(), dtype=float32)\n",
      "loss tf.Tensor(0.0, shape=(), dtype=float32)\n",
      "loss tf.Tensor(0.0, shape=(), dtype=float32)\n",
      "loss tf.Tensor(0.0, shape=(), dtype=float32)\n",
      "loss tf.Tensor(0.0, shape=(), dtype=float32)\n",
      "loss tf.Tensor(0.0, shape=(), dtype=float32)\n"
     ]
    },
    {
     "name": "stderr",
     "output_type": "stream",
     "text": [
      "  9%|▊         | 873/10000 [00:25<04:10, 36.51it/s, episode_reward=0, running_reward=0]"
     ]
    },
    {
     "name": "stdout",
     "output_type": "stream",
     "text": [
      "loss tf.Tensor(0.0, shape=(), dtype=float32)\n",
      "loss tf.Tensor(0.0, shape=(), dtype=float32)\n",
      "loss tf.Tensor(0.0, shape=(), dtype=float32)\n",
      "loss tf.Tensor(0.0, shape=(), dtype=float32)\n",
      "loss tf.Tensor(0.0, shape=(), dtype=float32)\n",
      "loss tf.Tensor(0.0, shape=(), dtype=float32)\n",
      "loss tf.Tensor(0.0, shape=(), dtype=float32)\n",
      "loss tf.Tensor(0.0, shape=(), dtype=float32)\n"
     ]
    },
    {
     "name": "stderr",
     "output_type": "stream",
     "text": [
      "  9%|▉         | 881/10000 [00:25<04:09, 36.49it/s, episode_reward=0, running_reward=0]"
     ]
    },
    {
     "name": "stdout",
     "output_type": "stream",
     "text": [
      "loss tf.Tensor(0.0, shape=(), dtype=float32)\n",
      "loss tf.Tensor(0.0, shape=(), dtype=float32)\n",
      "loss tf.Tensor(0.0, shape=(), dtype=float32)\n",
      "loss tf.Tensor(0.0, shape=(), dtype=float32)\n",
      "loss tf.Tensor(0.0, shape=(), dtype=float32)\n",
      "loss tf.Tensor(0.0, shape=(), dtype=float32)\n",
      "loss tf.Tensor(0.0, shape=(), dtype=float32)\n",
      "loss tf.Tensor(0.0, shape=(), dtype=float32)\n"
     ]
    },
    {
     "name": "stderr",
     "output_type": "stream",
     "text": [
      "  9%|▉         | 889/10000 [00:25<04:09, 36.51it/s, episode_reward=0, running_reward=0]"
     ]
    },
    {
     "name": "stdout",
     "output_type": "stream",
     "text": [
      "loss tf.Tensor(0.0, shape=(), dtype=float32)\n",
      "loss tf.Tensor(0.0, shape=(), dtype=float32)\n",
      "loss tf.Tensor(0.0, shape=(), dtype=float32)\n",
      "loss tf.Tensor(0.0, shape=(), dtype=float32)\n",
      "loss tf.Tensor(0.0, shape=(), dtype=float32)\n",
      "loss tf.Tensor(0.0, shape=(), dtype=float32)\n",
      "loss tf.Tensor(0.0, shape=(), dtype=float32)\n",
      "loss tf.Tensor(0.0, shape=(), dtype=float32)\n"
     ]
    },
    {
     "name": "stderr",
     "output_type": "stream",
     "text": [
      "  9%|▉         | 897/10000 [00:26<04:10, 36.41it/s, episode_reward=0, running_reward=0]"
     ]
    },
    {
     "name": "stdout",
     "output_type": "stream",
     "text": [
      "loss tf.Tensor(0.0, shape=(), dtype=float32)\n",
      "loss tf.Tensor(0.0, shape=(), dtype=float32)\n",
      "loss tf.Tensor(0.0, shape=(), dtype=float32)\n",
      "loss tf.Tensor(0.0, shape=(), dtype=float32)\n",
      "loss tf.Tensor(0.0, shape=(), dtype=float32)\n",
      "loss tf.Tensor(0.0, shape=(), dtype=float32)\n",
      "loss tf.Tensor(0.0, shape=(), dtype=float32)\n",
      "loss tf.Tensor(0.0, shape=(), dtype=float32)\n"
     ]
    },
    {
     "name": "stderr",
     "output_type": "stream",
     "text": [
      "  9%|▉         | 905/10000 [00:26<04:09, 36.50it/s, episode_reward=0, running_reward=0]"
     ]
    },
    {
     "name": "stdout",
     "output_type": "stream",
     "text": [
      "loss tf.Tensor(0.0, shape=(), dtype=float32)\n",
      "loss tf.Tensor(0.0, shape=(), dtype=float32)\n",
      "loss tf.Tensor(0.0, shape=(), dtype=float32)\n",
      "loss tf.Tensor(0.0, shape=(), dtype=float32)\n",
      "loss tf.Tensor(0.0, shape=(), dtype=float32)\n",
      "loss tf.Tensor(0.0, shape=(), dtype=float32)\n",
      "loss tf.Tensor(0.0, shape=(), dtype=float32)\n",
      "loss tf.Tensor(0.0, shape=(), dtype=float32)\n"
     ]
    },
    {
     "name": "stderr",
     "output_type": "stream",
     "text": [
      "  9%|▉         | 913/10000 [00:26<04:10, 36.22it/s, episode_reward=0, running_reward=0]"
     ]
    },
    {
     "name": "stdout",
     "output_type": "stream",
     "text": [
      "loss tf.Tensor(0.0, shape=(), dtype=float32)\n",
      "loss tf.Tensor(0.0, shape=(), dtype=float32)\n",
      "loss tf.Tensor(0.0, shape=(), dtype=float32)\n",
      "loss tf.Tensor(0.0, shape=(), dtype=float32)\n",
      "loss tf.Tensor(0.0, shape=(), dtype=float32)\n",
      "loss tf.Tensor(0.0, shape=(), dtype=float32)\n",
      "loss tf.Tensor(0.0, shape=(), dtype=float32)\n",
      "loss tf.Tensor(0.0, shape=(), dtype=float32)\n"
     ]
    },
    {
     "name": "stderr",
     "output_type": "stream",
     "text": [
      "  9%|▉         | 921/10000 [00:26<04:10, 36.23it/s, episode_reward=0, running_reward=0]"
     ]
    },
    {
     "name": "stdout",
     "output_type": "stream",
     "text": [
      "loss tf.Tensor(0.0, shape=(), dtype=float32)\n",
      "loss tf.Tensor(0.0, shape=(), dtype=float32)\n",
      "loss tf.Tensor(0.0, shape=(), dtype=float32)\n",
      "loss tf.Tensor(0.0, shape=(), dtype=float32)\n",
      "loss tf.Tensor(0.0, shape=(), dtype=float32)\n",
      "loss tf.Tensor(0.0, shape=(), dtype=float32)\n",
      "loss tf.Tensor(0.0, shape=(), dtype=float32)\n",
      "loss tf.Tensor(0.0, shape=(), dtype=float32)\n"
     ]
    },
    {
     "name": "stderr",
     "output_type": "stream",
     "text": [
      "  9%|▉         | 929/10000 [00:26<04:08, 36.49it/s, episode_reward=0, running_reward=0]"
     ]
    },
    {
     "name": "stdout",
     "output_type": "stream",
     "text": [
      "loss tf.Tensor(0.0, shape=(), dtype=float32)\n",
      "loss tf.Tensor(0.0, shape=(), dtype=float32)\n",
      "loss tf.Tensor(0.0, shape=(), dtype=float32)\n",
      "loss tf.Tensor(0.0, shape=(), dtype=float32)\n",
      "loss tf.Tensor(0.0, shape=(), dtype=float32)\n",
      "loss tf.Tensor(0.0, shape=(), dtype=float32)\n",
      "loss tf.Tensor(0.0, shape=(), dtype=float32)\n",
      "loss tf.Tensor(0.0, shape=(), dtype=float32)\n"
     ]
    },
    {
     "name": "stderr",
     "output_type": "stream",
     "text": [
      "  9%|▉         | 933/10000 [00:27<05:05, 29.68it/s, episode_reward=0, running_reward=0]"
     ]
    },
    {
     "name": "stdout",
     "output_type": "stream",
     "text": [
      "loss tf.Tensor(0.0, shape=(), dtype=float32)\n",
      "loss tf.Tensor(0.0, shape=(), dtype=float32)\n",
      "loss tf.Tensor(0.0, shape=(), dtype=float32)\n",
      "loss tf.Tensor(0.0, shape=(), dtype=float32)\n"
     ]
    },
    {
     "name": "stderr",
     "output_type": "stream",
     "text": [
      "  9%|▉         | 941/10000 [00:27<04:58, 30.39it/s, episode_reward=0, running_reward=0]"
     ]
    },
    {
     "name": "stdout",
     "output_type": "stream",
     "text": [
      "loss tf.Tensor(0.0, shape=(), dtype=float32)\n",
      "loss tf.Tensor(0.0, shape=(), dtype=float32)\n",
      "loss tf.Tensor(0.0, shape=(), dtype=float32)\n",
      "loss tf.Tensor(0.0, shape=(), dtype=float32)\n",
      "loss tf.Tensor(0.0, shape=(), dtype=float32)\n",
      "loss tf.Tensor(0.0, shape=(), dtype=float32)\n",
      "loss tf.Tensor(0.0, shape=(), dtype=float32)\n"
     ]
    },
    {
     "name": "stderr",
     "output_type": "stream",
     "text": [
      "  9%|▉         | 949/10000 [00:27<04:31, 33.35it/s, episode_reward=0, running_reward=0]"
     ]
    },
    {
     "name": "stdout",
     "output_type": "stream",
     "text": [
      "loss tf.Tensor(0.0, shape=(), dtype=float32)\n",
      "loss tf.Tensor(0.0, shape=(), dtype=float32)\n",
      "loss tf.Tensor(0.0, shape=(), dtype=float32)\n",
      "loss tf.Tensor(0.0, shape=(), dtype=float32)\n",
      "loss tf.Tensor(0.0, shape=(), dtype=float32)\n",
      "loss tf.Tensor(0.0, shape=(), dtype=float32)\n",
      "loss tf.Tensor(0.0, shape=(), dtype=float32)\n",
      "loss tf.Tensor(0.0, shape=(), dtype=float32)\n"
     ]
    },
    {
     "name": "stderr",
     "output_type": "stream",
     "text": [
      " 10%|▉         | 957/10000 [00:27<04:21, 34.59it/s, episode_reward=0, running_reward=0]"
     ]
    },
    {
     "name": "stdout",
     "output_type": "stream",
     "text": [
      "loss tf.Tensor(0.0, shape=(), dtype=float32)\n",
      "loss tf.Tensor(0.0, shape=(), dtype=float32)\n",
      "loss tf.Tensor(0.0, shape=(), dtype=float32)\n",
      "loss tf.Tensor(0.0, shape=(), dtype=float32)\n",
      "loss tf.Tensor(0.0, shape=(), dtype=float32)\n",
      "loss tf.Tensor(0.0, shape=(), dtype=float32)\n",
      "loss tf.Tensor(0.0, shape=(), dtype=float32)\n",
      "loss tf.Tensor(0.0, shape=(), dtype=float32)\n"
     ]
    },
    {
     "name": "stderr",
     "output_type": "stream",
     "text": [
      " 10%|▉         | 965/10000 [00:28<04:13, 35.64it/s, episode_reward=0, running_reward=0]"
     ]
    },
    {
     "name": "stdout",
     "output_type": "stream",
     "text": [
      "loss tf.Tensor(0.0, shape=(), dtype=float32)\n",
      "loss tf.Tensor(0.0, shape=(), dtype=float32)\n",
      "loss tf.Tensor(0.0, shape=(), dtype=float32)\n",
      "loss tf.Tensor(0.0, shape=(), dtype=float32)\n",
      "loss tf.Tensor(0.0, shape=(), dtype=float32)\n",
      "loss tf.Tensor(0.0, shape=(), dtype=float32)\n",
      "loss tf.Tensor(0.0, shape=(), dtype=float32)\n",
      "loss tf.Tensor(0.0, shape=(), dtype=float32)\n"
     ]
    },
    {
     "name": "stderr",
     "output_type": "stream",
     "text": [
      " 10%|▉         | 973/10000 [00:28<04:09, 36.17it/s, episode_reward=0, running_reward=0]"
     ]
    },
    {
     "name": "stdout",
     "output_type": "stream",
     "text": [
      "loss tf.Tensor(0.0, shape=(), dtype=float32)\n",
      "loss tf.Tensor(0.0, shape=(), dtype=float32)\n",
      "loss tf.Tensor(0.0, shape=(), dtype=float32)\n",
      "loss tf.Tensor(0.0, shape=(), dtype=float32)\n",
      "loss tf.Tensor(0.0, shape=(), dtype=float32)\n",
      "loss tf.Tensor(0.0, shape=(), dtype=float32)\n",
      "loss tf.Tensor(0.0, shape=(), dtype=float32)\n",
      "loss tf.Tensor(0.0, shape=(), dtype=float32)\n"
     ]
    },
    {
     "name": "stderr",
     "output_type": "stream",
     "text": [
      " 10%|▉         | 981/10000 [00:28<04:07, 36.41it/s, episode_reward=0, running_reward=0]"
     ]
    },
    {
     "name": "stdout",
     "output_type": "stream",
     "text": [
      "loss tf.Tensor(0.0, shape=(), dtype=float32)\n",
      "loss tf.Tensor(0.0, shape=(), dtype=float32)\n",
      "loss tf.Tensor(0.0, shape=(), dtype=float32)\n",
      "loss tf.Tensor(0.0, shape=(), dtype=float32)\n",
      "loss tf.Tensor(0.0, shape=(), dtype=float32)\n",
      "loss tf.Tensor(0.0, shape=(), dtype=float32)\n",
      "loss tf.Tensor(0.0, shape=(), dtype=float32)\n",
      "loss tf.Tensor(0.0, shape=(), dtype=float32)\n"
     ]
    },
    {
     "name": "stderr",
     "output_type": "stream",
     "text": [
      " 10%|▉         | 989/10000 [00:28<04:07, 36.34it/s, episode_reward=0, running_reward=0]"
     ]
    },
    {
     "name": "stdout",
     "output_type": "stream",
     "text": [
      "loss tf.Tensor(0.0, shape=(), dtype=float32)\n",
      "loss tf.Tensor(0.0, shape=(), dtype=float32)\n",
      "loss tf.Tensor(0.0, shape=(), dtype=float32)\n",
      "loss tf.Tensor(0.0, shape=(), dtype=float32)\n",
      "loss tf.Tensor(0.0, shape=(), dtype=float32)\n",
      "loss tf.Tensor(0.0, shape=(), dtype=float32)\n",
      "loss tf.Tensor(0.0, shape=(), dtype=float32)\n",
      "loss tf.Tensor(0.0, shape=(), dtype=float32)\n"
     ]
    },
    {
     "name": "stderr",
     "output_type": "stream",
     "text": [
      " 10%|▉         | 997/10000 [00:28<04:08, 36.26it/s, episode_reward=0, running_reward=0]"
     ]
    },
    {
     "name": "stdout",
     "output_type": "stream",
     "text": [
      "loss tf.Tensor(0.0, shape=(), dtype=float32)\n",
      "loss tf.Tensor(0.0, shape=(), dtype=float32)\n",
      "loss tf.Tensor(0.0, shape=(), dtype=float32)\n",
      "loss tf.Tensor(0.0, shape=(), dtype=float32)\n",
      "loss tf.Tensor(0.0, shape=(), dtype=float32)\n",
      "loss tf.Tensor(0.0, shape=(), dtype=float32)\n",
      "loss tf.Tensor(0.0, shape=(), dtype=float32)\n",
      "loss tf.Tensor(0.0, shape=(), dtype=float32)\n"
     ]
    },
    {
     "name": "stderr",
     "output_type": "stream",
     "text": [
      " 10%|█         | 1005/10000 [00:29<04:09, 36.04it/s, episode_reward=0, running_reward=0]"
     ]
    },
    {
     "name": "stdout",
     "output_type": "stream",
     "text": [
      "loss tf.Tensor(0.0, shape=(), dtype=float32)\n",
      "loss tf.Tensor(0.0, shape=(), dtype=float32)\n",
      "loss tf.Tensor(0.0, shape=(), dtype=float32)\n",
      "loss tf.Tensor(0.0, shape=(), dtype=float32)\n",
      "loss tf.Tensor(0.0, shape=(), dtype=float32)\n",
      "loss tf.Tensor(0.0, shape=(), dtype=float32)\n",
      "loss tf.Tensor(0.0, shape=(), dtype=float32)\n",
      "loss tf.Tensor(0.0, shape=(), dtype=float32)\n"
     ]
    },
    {
     "name": "stderr",
     "output_type": "stream",
     "text": [
      " 10%|█         | 1013/10000 [00:29<04:06, 36.39it/s, episode_reward=0, running_reward=0]"
     ]
    },
    {
     "name": "stdout",
     "output_type": "stream",
     "text": [
      "loss tf.Tensor(0.0, shape=(), dtype=float32)\n",
      "loss tf.Tensor(0.0, shape=(), dtype=float32)\n",
      "loss tf.Tensor(0.0, shape=(), dtype=float32)\n",
      "loss tf.Tensor(0.0, shape=(), dtype=float32)\n",
      "loss tf.Tensor(0.0, shape=(), dtype=float32)\n",
      "loss tf.Tensor(0.0, shape=(), dtype=float32)\n",
      "loss tf.Tensor(0.0, shape=(), dtype=float32)\n",
      "loss tf.Tensor(0.0, shape=(), dtype=float32)\n"
     ]
    },
    {
     "name": "stderr",
     "output_type": "stream",
     "text": [
      " 10%|█         | 1021/10000 [00:29<04:06, 36.47it/s, episode_reward=0, running_reward=0]"
     ]
    },
    {
     "name": "stdout",
     "output_type": "stream",
     "text": [
      "loss tf.Tensor(0.0, shape=(), dtype=float32)\n",
      "loss tf.Tensor(0.0, shape=(), dtype=float32)\n",
      "loss tf.Tensor(0.0, shape=(), dtype=float32)\n",
      "loss tf.Tensor(0.0, shape=(), dtype=float32)\n",
      "loss tf.Tensor(0.0, shape=(), dtype=float32)\n",
      "loss tf.Tensor(0.0, shape=(), dtype=float32)\n",
      "loss tf.Tensor(0.0, shape=(), dtype=float32)\n",
      "loss tf.Tensor(0.0, shape=(), dtype=float32)\n"
     ]
    },
    {
     "name": "stderr",
     "output_type": "stream",
     "text": [
      " 10%|█         | 1029/10000 [00:29<04:03, 36.82it/s, episode_reward=0, running_reward=0]"
     ]
    },
    {
     "name": "stdout",
     "output_type": "stream",
     "text": [
      "loss tf.Tensor(0.0, shape=(), dtype=float32)\n",
      "loss tf.Tensor(0.0, shape=(), dtype=float32)\n",
      "loss tf.Tensor(0.0, shape=(), dtype=float32)\n",
      "loss tf.Tensor(0.0, shape=(), dtype=float32)\n",
      "loss tf.Tensor(0.0, shape=(), dtype=float32)\n",
      "loss tf.Tensor(0.0, shape=(), dtype=float32)\n",
      "loss tf.Tensor(0.0, shape=(), dtype=float32)\n",
      "loss tf.Tensor(0.0, shape=(), dtype=float32)\n"
     ]
    },
    {
     "name": "stderr",
     "output_type": "stream",
     "text": [
      " 10%|█         | 1037/10000 [00:29<04:05, 36.58it/s, episode_reward=0, running_reward=0]"
     ]
    },
    {
     "name": "stdout",
     "output_type": "stream",
     "text": [
      "loss tf.Tensor(0.0, shape=(), dtype=float32)\n",
      "loss tf.Tensor(0.0, shape=(), dtype=float32)\n",
      "loss tf.Tensor(0.0, shape=(), dtype=float32)\n",
      "loss tf.Tensor(0.0, shape=(), dtype=float32)\n",
      "loss tf.Tensor(0.0, shape=(), dtype=float32)\n",
      "loss tf.Tensor(0.0, shape=(), dtype=float32)\n",
      "loss tf.Tensor(0.0, shape=(), dtype=float32)\n",
      "loss tf.Tensor(0.0, shape=(), dtype=float32)\n"
     ]
    },
    {
     "name": "stderr",
     "output_type": "stream",
     "text": [
      " 10%|█         | 1045/10000 [00:30<04:03, 36.72it/s, episode_reward=0, running_reward=0]"
     ]
    },
    {
     "name": "stdout",
     "output_type": "stream",
     "text": [
      "loss tf.Tensor(0.0, shape=(), dtype=float32)\n",
      "loss tf.Tensor(0.0, shape=(), dtype=float32)\n",
      "loss tf.Tensor(0.0, shape=(), dtype=float32)\n",
      "loss tf.Tensor(0.0, shape=(), dtype=float32)\n",
      "loss tf.Tensor(0.0, shape=(), dtype=float32)\n",
      "loss tf.Tensor(0.0, shape=(), dtype=float32)\n",
      "loss tf.Tensor(0.0, shape=(), dtype=float32)\n",
      "loss tf.Tensor(0.0, shape=(), dtype=float32)\n"
     ]
    },
    {
     "name": "stderr",
     "output_type": "stream",
     "text": [
      " 11%|█         | 1053/10000 [00:30<04:02, 36.86it/s, episode_reward=0, running_reward=0]"
     ]
    },
    {
     "name": "stdout",
     "output_type": "stream",
     "text": [
      "loss tf.Tensor(0.0, shape=(), dtype=float32)\n",
      "loss tf.Tensor(0.0, shape=(), dtype=float32)\n",
      "loss tf.Tensor(0.0, shape=(), dtype=float32)\n",
      "loss tf.Tensor(0.0, shape=(), dtype=float32)\n",
      "loss tf.Tensor(0.0, shape=(), dtype=float32)\n",
      "loss tf.Tensor(0.0, shape=(), dtype=float32)\n",
      "loss tf.Tensor(0.0, shape=(), dtype=float32)\n",
      "loss tf.Tensor(0.0, shape=(), dtype=float32)\n"
     ]
    },
    {
     "name": "stderr",
     "output_type": "stream",
     "text": [
      " 11%|█         | 1061/10000 [00:30<04:02, 36.81it/s, episode_reward=0, running_reward=0]"
     ]
    },
    {
     "name": "stdout",
     "output_type": "stream",
     "text": [
      "loss tf.Tensor(0.0, shape=(), dtype=float32)\n",
      "loss tf.Tensor(0.0, shape=(), dtype=float32)\n",
      "loss tf.Tensor(0.0, shape=(), dtype=float32)\n",
      "loss tf.Tensor(0.0, shape=(), dtype=float32)\n",
      "loss tf.Tensor(0.0, shape=(), dtype=float32)\n",
      "loss tf.Tensor(0.0, shape=(), dtype=float32)\n",
      "loss tf.Tensor(0.0, shape=(), dtype=float32)\n",
      "loss tf.Tensor(0.0, shape=(), dtype=float32)\n"
     ]
    },
    {
     "name": "stderr",
     "output_type": "stream",
     "text": [
      " 11%|█         | 1065/10000 [00:30<05:26, 27.34it/s, episode_reward=0, running_reward=0]"
     ]
    },
    {
     "name": "stdout",
     "output_type": "stream",
     "text": [
      "loss tf.Tensor(0.0, shape=(), dtype=float32)\n",
      "loss tf.Tensor(0.0, shape=(), dtype=float32)\n",
      "loss tf.Tensor(0.0, shape=(), dtype=float32)\n"
     ]
    },
    {
     "name": "stderr",
     "output_type": "stream",
     "text": [
      " 11%|█         | 1073/10000 [00:31<04:54, 30.29it/s, episode_reward=0, running_reward=0]"
     ]
    },
    {
     "name": "stdout",
     "output_type": "stream",
     "text": [
      "loss tf.Tensor(0.0, shape=(), dtype=float32)\n",
      "loss tf.Tensor(0.0, shape=(), dtype=float32)\n",
      "loss tf.Tensor(0.0, shape=(), dtype=float32)\n",
      "loss tf.Tensor(0.0, shape=(), dtype=float32)\n",
      "loss tf.Tensor(0.0, shape=(), dtype=float32)\n",
      "loss tf.Tensor(0.0, shape=(), dtype=float32)\n",
      "loss tf.Tensor(0.0, shape=(), dtype=float32)\n",
      "loss tf.Tensor(0.0, shape=(), dtype=float32)\n"
     ]
    },
    {
     "name": "stderr",
     "output_type": "stream",
     "text": [
      " 11%|█         | 1081/10000 [00:31<04:30, 32.93it/s, episode_reward=0, running_reward=0]"
     ]
    },
    {
     "name": "stdout",
     "output_type": "stream",
     "text": [
      "loss tf.Tensor(0.0, shape=(), dtype=float32)\n",
      "loss tf.Tensor(0.0, shape=(), dtype=float32)\n",
      "loss tf.Tensor(0.0, shape=(), dtype=float32)\n",
      "loss tf.Tensor(0.0, shape=(), dtype=float32)\n",
      "loss tf.Tensor(0.0, shape=(), dtype=float32)\n",
      "loss tf.Tensor(0.0, shape=(), dtype=float32)\n",
      "loss tf.Tensor(0.0, shape=(), dtype=float32)\n",
      "loss tf.Tensor(0.0, shape=(), dtype=float32)\n"
     ]
    },
    {
     "name": "stderr",
     "output_type": "stream",
     "text": [
      " 11%|█         | 1089/10000 [00:31<04:15, 34.82it/s, episode_reward=0, running_reward=0]"
     ]
    },
    {
     "name": "stdout",
     "output_type": "stream",
     "text": [
      "loss tf.Tensor(0.0, shape=(), dtype=float32)\n",
      "loss tf.Tensor(0.0, shape=(), dtype=float32)\n",
      "loss tf.Tensor(0.0, shape=(), dtype=float32)\n",
      "loss tf.Tensor(0.0, shape=(), dtype=float32)\n",
      "loss tf.Tensor(0.0, shape=(), dtype=float32)\n",
      "loss tf.Tensor(0.0, shape=(), dtype=float32)\n",
      "loss tf.Tensor(0.0, shape=(), dtype=float32)\n",
      "loss tf.Tensor(0.0, shape=(), dtype=float32)\n"
     ]
    },
    {
     "name": "stderr",
     "output_type": "stream",
     "text": [
      " 11%|█         | 1097/10000 [00:31<04:10, 35.53it/s, episode_reward=0, running_reward=0]"
     ]
    },
    {
     "name": "stdout",
     "output_type": "stream",
     "text": [
      "loss tf.Tensor(0.0, shape=(), dtype=float32)\n",
      "loss tf.Tensor(0.0, shape=(), dtype=float32)\n",
      "loss tf.Tensor(0.0, shape=(), dtype=float32)\n",
      "loss tf.Tensor(0.0, shape=(), dtype=float32)\n",
      "loss tf.Tensor(0.0, shape=(), dtype=float32)\n",
      "loss tf.Tensor(0.0, shape=(), dtype=float32)\n",
      "loss tf.Tensor(0.0, shape=(), dtype=float32)\n",
      "loss tf.Tensor(0.0, shape=(), dtype=float32)\n"
     ]
    },
    {
     "name": "stderr",
     "output_type": "stream",
     "text": [
      " 11%|█         | 1105/10000 [00:31<04:06, 36.13it/s, episode_reward=0, running_reward=0]"
     ]
    },
    {
     "name": "stdout",
     "output_type": "stream",
     "text": [
      "loss tf.Tensor(0.0, shape=(), dtype=float32)\n",
      "loss tf.Tensor(0.0, shape=(), dtype=float32)\n",
      "loss tf.Tensor(0.0, shape=(), dtype=float32)\n",
      "loss tf.Tensor(0.0, shape=(), dtype=float32)\n",
      "loss tf.Tensor(0.0, shape=(), dtype=float32)\n",
      "loss tf.Tensor(0.0, shape=(), dtype=float32)\n",
      "loss tf.Tensor(0.0, shape=(), dtype=float32)\n",
      "loss tf.Tensor(0.0, shape=(), dtype=float32)\n"
     ]
    },
    {
     "name": "stderr",
     "output_type": "stream",
     "text": [
      " 11%|█         | 1113/10000 [00:32<04:04, 36.41it/s, episode_reward=0, running_reward=0]"
     ]
    },
    {
     "name": "stdout",
     "output_type": "stream",
     "text": [
      "loss tf.Tensor(0.0, shape=(), dtype=float32)\n",
      "loss tf.Tensor(0.0, shape=(), dtype=float32)\n",
      "loss tf.Tensor(0.0, shape=(), dtype=float32)\n",
      "loss tf.Tensor(0.0, shape=(), dtype=float32)\n",
      "loss tf.Tensor(0.0, shape=(), dtype=float32)\n",
      "loss tf.Tensor(0.0, shape=(), dtype=float32)\n",
      "loss tf.Tensor(0.0, shape=(), dtype=float32)\n",
      "loss tf.Tensor(0.0, shape=(), dtype=float32)\n"
     ]
    },
    {
     "name": "stderr",
     "output_type": "stream",
     "text": [
      " 11%|█         | 1121/10000 [00:32<04:02, 36.57it/s, episode_reward=0, running_reward=0]"
     ]
    },
    {
     "name": "stdout",
     "output_type": "stream",
     "text": [
      "loss tf.Tensor(0.0, shape=(), dtype=float32)\n",
      "loss tf.Tensor(0.0, shape=(), dtype=float32)\n",
      "loss tf.Tensor(0.0, shape=(), dtype=float32)\n",
      "loss tf.Tensor(0.0, shape=(), dtype=float32)\n",
      "loss tf.Tensor(0.0, shape=(), dtype=float32)\n",
      "loss tf.Tensor(0.0, shape=(), dtype=float32)\n",
      "loss tf.Tensor(0.0, shape=(), dtype=float32)\n",
      "loss tf.Tensor(0.0, shape=(), dtype=float32)\n"
     ]
    },
    {
     "name": "stderr",
     "output_type": "stream",
     "text": [
      " 11%|█▏        | 1129/10000 [00:32<04:03, 36.37it/s, episode_reward=0, running_reward=0]"
     ]
    },
    {
     "name": "stdout",
     "output_type": "stream",
     "text": [
      "loss tf.Tensor(0.0, shape=(), dtype=float32)\n",
      "loss tf.Tensor(0.0, shape=(), dtype=float32)\n",
      "loss tf.Tensor(0.0, shape=(), dtype=float32)\n",
      "loss tf.Tensor(0.0, shape=(), dtype=float32)\n",
      "loss tf.Tensor(0.0, shape=(), dtype=float32)\n",
      "loss tf.Tensor(0.0, shape=(), dtype=float32)\n",
      "loss tf.Tensor(0.0, shape=(), dtype=float32)\n",
      "loss tf.Tensor(0.0, shape=(), dtype=float32)\n"
     ]
    },
    {
     "name": "stderr",
     "output_type": "stream",
     "text": [
      " 11%|█▏        | 1137/10000 [00:32<04:02, 36.48it/s, episode_reward=0, running_reward=0]"
     ]
    },
    {
     "name": "stdout",
     "output_type": "stream",
     "text": [
      "loss tf.Tensor(0.0, shape=(), dtype=float32)\n",
      "loss tf.Tensor(0.0, shape=(), dtype=float32)\n",
      "loss tf.Tensor(0.0, shape=(), dtype=float32)\n",
      "loss tf.Tensor(0.0, shape=(), dtype=float32)\n",
      "loss tf.Tensor(0.0, shape=(), dtype=float32)\n",
      "loss tf.Tensor(0.0, shape=(), dtype=float32)\n",
      "loss tf.Tensor(0.0, shape=(), dtype=float32)\n",
      "loss tf.Tensor(0.0, shape=(), dtype=float32)\n"
     ]
    },
    {
     "name": "stderr",
     "output_type": "stream",
     "text": [
      " 11%|█▏        | 1145/10000 [00:33<04:02, 36.55it/s, episode_reward=0, running_reward=0]"
     ]
    },
    {
     "name": "stdout",
     "output_type": "stream",
     "text": [
      "loss tf.Tensor(0.0, shape=(), dtype=float32)\n",
      "loss tf.Tensor(0.0, shape=(), dtype=float32)\n",
      "loss tf.Tensor(0.0, shape=(), dtype=float32)\n",
      "loss tf.Tensor(0.0, shape=(), dtype=float32)\n",
      "loss tf.Tensor(0.0, shape=(), dtype=float32)\n",
      "loss tf.Tensor(0.0, shape=(), dtype=float32)\n",
      "loss tf.Tensor(0.0, shape=(), dtype=float32)\n",
      "loss tf.Tensor(0.0, shape=(), dtype=float32)\n"
     ]
    },
    {
     "name": "stderr",
     "output_type": "stream",
     "text": [
      " 12%|█▏        | 1153/10000 [00:33<04:06, 35.92it/s, episode_reward=0, running_reward=0]"
     ]
    },
    {
     "name": "stdout",
     "output_type": "stream",
     "text": [
      "loss tf.Tensor(0.0, shape=(), dtype=float32)\n",
      "loss tf.Tensor(0.0, shape=(), dtype=float32)\n",
      "loss tf.Tensor(0.0, shape=(), dtype=float32)\n",
      "loss tf.Tensor(0.0, shape=(), dtype=float32)\n",
      "loss tf.Tensor(0.0, shape=(), dtype=float32)\n",
      "loss tf.Tensor(0.0, shape=(), dtype=float32)\n",
      "loss tf.Tensor(0.0, shape=(), dtype=float32)\n",
      "loss tf.Tensor(0.0, shape=(), dtype=float32)\n"
     ]
    },
    {
     "name": "stderr",
     "output_type": "stream",
     "text": [
      " 12%|█▏        | 1161/10000 [00:33<04:02, 36.52it/s, episode_reward=0, running_reward=0]"
     ]
    },
    {
     "name": "stdout",
     "output_type": "stream",
     "text": [
      "loss tf.Tensor(0.0, shape=(), dtype=float32)\n",
      "loss tf.Tensor(0.0, shape=(), dtype=float32)\n",
      "loss tf.Tensor(0.0, shape=(), dtype=float32)\n",
      "loss tf.Tensor(0.0, shape=(), dtype=float32)\n",
      "loss tf.Tensor(0.0, shape=(), dtype=float32)\n",
      "loss tf.Tensor(0.0, shape=(), dtype=float32)\n",
      "loss tf.Tensor(0.0, shape=(), dtype=float32)\n",
      "loss tf.Tensor(0.0, shape=(), dtype=float32)\n"
     ]
    },
    {
     "name": "stderr",
     "output_type": "stream",
     "text": [
      " 12%|█▏        | 1169/10000 [00:33<04:02, 36.47it/s, episode_reward=0, running_reward=0]"
     ]
    },
    {
     "name": "stdout",
     "output_type": "stream",
     "text": [
      "loss tf.Tensor(0.0, shape=(), dtype=float32)\n",
      "loss tf.Tensor(0.0, shape=(), dtype=float32)\n",
      "loss tf.Tensor(0.0, shape=(), dtype=float32)\n",
      "loss tf.Tensor(0.0, shape=(), dtype=float32)\n",
      "loss tf.Tensor(0.0, shape=(), dtype=float32)\n",
      "loss tf.Tensor(0.0, shape=(), dtype=float32)\n",
      "loss tf.Tensor(0.0, shape=(), dtype=float32)\n",
      "loss tf.Tensor(0.0, shape=(), dtype=float32)\n"
     ]
    },
    {
     "name": "stderr",
     "output_type": "stream",
     "text": [
      " 12%|█▏        | 1177/10000 [00:33<04:00, 36.66it/s, episode_reward=0, running_reward=0]"
     ]
    },
    {
     "name": "stdout",
     "output_type": "stream",
     "text": [
      "loss tf.Tensor(0.0, shape=(), dtype=float32)\n",
      "loss tf.Tensor(0.0, shape=(), dtype=float32)\n",
      "loss tf.Tensor(0.0, shape=(), dtype=float32)\n",
      "loss tf.Tensor(0.0, shape=(), dtype=float32)\n",
      "loss tf.Tensor(0.0, shape=(), dtype=float32)\n",
      "loss tf.Tensor(0.0, shape=(), dtype=float32)\n",
      "loss tf.Tensor(0.0, shape=(), dtype=float32)\n",
      "loss tf.Tensor(0.0, shape=(), dtype=float32)\n"
     ]
    },
    {
     "name": "stderr",
     "output_type": "stream",
     "text": [
      " 12%|█▏        | 1181/10000 [00:34<05:17, 27.78it/s, episode_reward=0, running_reward=0]"
     ]
    },
    {
     "name": "stdout",
     "output_type": "stream",
     "text": [
      "loss tf.Tensor(0.0, shape=(), dtype=float32)\n",
      "loss tf.Tensor(0.0, shape=(), dtype=float32)\n",
      "loss tf.Tensor(0.0, shape=(), dtype=float32)\n",
      "loss tf.Tensor(0.0, shape=(), dtype=float32)\n"
     ]
    },
    {
     "name": "stderr",
     "output_type": "stream",
     "text": [
      " 12%|█▏        | 1189/10000 [00:34<04:44, 31.01it/s, episode_reward=0, running_reward=0]"
     ]
    },
    {
     "name": "stdout",
     "output_type": "stream",
     "text": [
      "loss tf.Tensor(0.0, shape=(), dtype=float32)\n",
      "loss tf.Tensor(0.0, shape=(), dtype=float32)\n",
      "loss tf.Tensor(0.0, shape=(), dtype=float32)\n",
      "loss tf.Tensor(0.0, shape=(), dtype=float32)\n",
      "loss tf.Tensor(0.0, shape=(), dtype=float32)\n",
      "loss tf.Tensor(0.0, shape=(), dtype=float32)\n",
      "loss tf.Tensor(0.0, shape=(), dtype=float32)\n",
      "loss tf.Tensor(0.0, shape=(), dtype=float32)\n"
     ]
    },
    {
     "name": "stderr",
     "output_type": "stream",
     "text": [
      " 12%|█▏        | 1197/10000 [00:34<04:22, 33.53it/s, episode_reward=0, running_reward=0]"
     ]
    },
    {
     "name": "stdout",
     "output_type": "stream",
     "text": [
      "loss tf.Tensor(0.0, shape=(), dtype=float32)\n",
      "loss tf.Tensor(0.0, shape=(), dtype=float32)\n",
      "loss tf.Tensor(0.0, shape=(), dtype=float32)\n",
      "loss tf.Tensor(0.0, shape=(), dtype=float32)\n",
      "loss tf.Tensor(0.0, shape=(), dtype=float32)\n",
      "loss tf.Tensor(0.0, shape=(), dtype=float32)\n",
      "loss tf.Tensor(0.0, shape=(), dtype=float32)\n",
      "loss tf.Tensor(0.0, shape=(), dtype=float32)\n"
     ]
    },
    {
     "name": "stderr",
     "output_type": "stream",
     "text": [
      " 12%|█▏        | 1205/10000 [00:34<04:18, 34.07it/s, episode_reward=0, running_reward=0]"
     ]
    },
    {
     "name": "stdout",
     "output_type": "stream",
     "text": [
      "loss tf.Tensor(0.0, shape=(), dtype=float32)\n",
      "loss tf.Tensor(0.0, shape=(), dtype=float32)\n",
      "loss tf.Tensor(0.0, shape=(), dtype=float32)\n",
      "loss tf.Tensor(0.0, shape=(), dtype=float32)\n",
      "loss tf.Tensor(0.0, shape=(), dtype=float32)\n",
      "loss tf.Tensor(0.0, shape=(), dtype=float32)\n",
      "loss tf.Tensor(0.0, shape=(), dtype=float32)\n",
      "loss tf.Tensor(0.0, shape=(), dtype=float32)\n"
     ]
    },
    {
     "name": "stderr",
     "output_type": "stream",
     "text": [
      " 12%|█▏        | 1213/10000 [00:35<04:07, 35.54it/s, episode_reward=0, running_reward=0]"
     ]
    },
    {
     "name": "stdout",
     "output_type": "stream",
     "text": [
      "loss tf.Tensor(0.0, shape=(), dtype=float32)\n",
      "loss tf.Tensor(0.0, shape=(), dtype=float32)\n",
      "loss tf.Tensor(0.0, shape=(), dtype=float32)\n",
      "loss tf.Tensor(0.0, shape=(), dtype=float32)\n",
      "loss tf.Tensor(0.0, shape=(), dtype=float32)\n",
      "loss tf.Tensor(0.0, shape=(), dtype=float32)\n",
      "loss tf.Tensor(0.0, shape=(), dtype=float32)\n",
      "loss tf.Tensor(0.0, shape=(), dtype=float32)\n"
     ]
    },
    {
     "name": "stderr",
     "output_type": "stream",
     "text": [
      " 12%|█▏        | 1221/10000 [00:35<04:03, 35.98it/s, episode_reward=0, running_reward=0]"
     ]
    },
    {
     "name": "stdout",
     "output_type": "stream",
     "text": [
      "loss tf.Tensor(0.0, shape=(), dtype=float32)\n",
      "loss tf.Tensor(0.0, shape=(), dtype=float32)\n",
      "loss tf.Tensor(0.0, shape=(), dtype=float32)\n",
      "loss tf.Tensor(0.0, shape=(), dtype=float32)\n",
      "loss tf.Tensor(0.0, shape=(), dtype=float32)\n",
      "loss tf.Tensor(0.0, shape=(), dtype=float32)\n",
      "loss tf.Tensor(0.0, shape=(), dtype=float32)\n",
      "loss tf.Tensor(0.0, shape=(), dtype=float32)\n"
     ]
    },
    {
     "name": "stderr",
     "output_type": "stream",
     "text": [
      " 12%|█▏        | 1229/10000 [00:35<04:01, 36.27it/s, episode_reward=0, running_reward=0]"
     ]
    },
    {
     "name": "stdout",
     "output_type": "stream",
     "text": [
      "loss tf.Tensor(0.0, shape=(), dtype=float32)\n",
      "loss tf.Tensor(0.0, shape=(), dtype=float32)\n",
      "loss tf.Tensor(0.0, shape=(), dtype=float32)\n",
      "loss tf.Tensor(0.0, shape=(), dtype=float32)\n",
      "loss tf.Tensor(0.0, shape=(), dtype=float32)\n",
      "loss tf.Tensor(0.0, shape=(), dtype=float32)\n",
      "loss tf.Tensor(0.0, shape=(), dtype=float32)\n",
      "loss tf.Tensor(0.0, shape=(), dtype=float32)\n"
     ]
    },
    {
     "name": "stderr",
     "output_type": "stream",
     "text": [
      " 12%|█▏        | 1237/10000 [00:35<04:02, 36.11it/s, episode_reward=0, running_reward=0]"
     ]
    },
    {
     "name": "stdout",
     "output_type": "stream",
     "text": [
      "loss tf.Tensor(0.0, shape=(), dtype=float32)\n",
      "loss tf.Tensor(0.0, shape=(), dtype=float32)\n",
      "loss tf.Tensor(0.0, shape=(), dtype=float32)\n",
      "loss tf.Tensor(0.0, shape=(), dtype=float32)\n",
      "loss tf.Tensor(0.0, shape=(), dtype=float32)\n",
      "loss tf.Tensor(0.0, shape=(), dtype=float32)\n",
      "loss tf.Tensor(0.0, shape=(), dtype=float32)\n",
      "loss tf.Tensor(0.0, shape=(), dtype=float32)\n"
     ]
    },
    {
     "name": "stderr",
     "output_type": "stream",
     "text": [
      " 12%|█▏        | 1245/10000 [00:35<03:59, 36.49it/s, episode_reward=0, running_reward=0]"
     ]
    },
    {
     "name": "stdout",
     "output_type": "stream",
     "text": [
      "loss tf.Tensor(0.0, shape=(), dtype=float32)\n",
      "loss tf.Tensor(0.0, shape=(), dtype=float32)\n",
      "loss tf.Tensor(0.0, shape=(), dtype=float32)\n",
      "loss tf.Tensor(0.0, shape=(), dtype=float32)\n",
      "loss tf.Tensor(0.0, shape=(), dtype=float32)\n",
      "loss tf.Tensor(0.0, shape=(), dtype=float32)\n",
      "loss tf.Tensor(0.0, shape=(), dtype=float32)\n",
      "loss tf.Tensor(0.0, shape=(), dtype=float32)\n"
     ]
    },
    {
     "name": "stderr",
     "output_type": "stream",
     "text": [
      " 13%|█▎        | 1253/10000 [00:36<04:00, 36.34it/s, episode_reward=0, running_reward=0]"
     ]
    },
    {
     "name": "stdout",
     "output_type": "stream",
     "text": [
      "loss tf.Tensor(0.0, shape=(), dtype=float32)\n",
      "loss tf.Tensor(0.0, shape=(), dtype=float32)\n",
      "loss tf.Tensor(0.0, shape=(), dtype=float32)\n",
      "loss tf.Tensor(0.0, shape=(), dtype=float32)\n",
      "loss tf.Tensor(0.0, shape=(), dtype=float32)\n",
      "loss tf.Tensor(0.0, shape=(), dtype=float32)\n",
      "loss tf.Tensor(0.0, shape=(), dtype=float32)\n",
      "loss tf.Tensor(0.0, shape=(), dtype=float32)\n"
     ]
    },
    {
     "name": "stderr",
     "output_type": "stream",
     "text": [
      " 13%|█▎        | 1261/10000 [00:36<04:02, 35.98it/s, episode_reward=0, running_reward=0]"
     ]
    },
    {
     "name": "stdout",
     "output_type": "stream",
     "text": [
      "loss tf.Tensor(0.0, shape=(), dtype=float32)\n",
      "loss tf.Tensor(0.0, shape=(), dtype=float32)\n",
      "loss tf.Tensor(0.0, shape=(), dtype=float32)\n",
      "loss tf.Tensor(0.0, shape=(), dtype=float32)\n",
      "loss tf.Tensor(0.0, shape=(), dtype=float32)\n",
      "loss tf.Tensor(0.0, shape=(), dtype=float32)\n",
      "loss tf.Tensor(0.0, shape=(), dtype=float32)\n",
      "loss tf.Tensor(0.0, shape=(), dtype=float32)\n"
     ]
    },
    {
     "name": "stderr",
     "output_type": "stream",
     "text": [
      " 13%|█▎        | 1269/10000 [00:36<04:00, 36.27it/s, episode_reward=0, running_reward=0]"
     ]
    },
    {
     "name": "stdout",
     "output_type": "stream",
     "text": [
      "loss tf.Tensor(0.0, shape=(), dtype=float32)\n",
      "loss tf.Tensor(0.0, shape=(), dtype=float32)\n",
      "loss tf.Tensor(0.0, shape=(), dtype=float32)\n",
      "loss tf.Tensor(0.0, shape=(), dtype=float32)\n",
      "loss tf.Tensor(0.0, shape=(), dtype=float32)\n",
      "loss tf.Tensor(0.0, shape=(), dtype=float32)\n",
      "loss tf.Tensor(0.0, shape=(), dtype=float32)\n",
      "loss tf.Tensor(0.0, shape=(), dtype=float32)\n"
     ]
    },
    {
     "name": "stderr",
     "output_type": "stream",
     "text": [
      " 13%|█▎        | 1277/10000 [00:36<03:58, 36.64it/s, episode_reward=0, running_reward=0]"
     ]
    },
    {
     "name": "stdout",
     "output_type": "stream",
     "text": [
      "loss tf.Tensor(0.0, shape=(), dtype=float32)\n",
      "loss tf.Tensor(0.0, shape=(), dtype=float32)\n",
      "loss tf.Tensor(0.0, shape=(), dtype=float32)\n",
      "loss tf.Tensor(0.0, shape=(), dtype=float32)\n",
      "loss tf.Tensor(0.0, shape=(), dtype=float32)\n",
      "loss tf.Tensor(0.0, shape=(), dtype=float32)\n",
      "loss tf.Tensor(0.0, shape=(), dtype=float32)\n",
      "loss tf.Tensor(0.0, shape=(), dtype=float32)\n"
     ]
    },
    {
     "name": "stderr",
     "output_type": "stream",
     "text": [
      " 13%|█▎        | 1285/10000 [00:37<03:57, 36.76it/s, episode_reward=0, running_reward=0]"
     ]
    },
    {
     "name": "stdout",
     "output_type": "stream",
     "text": [
      "loss tf.Tensor(0.0, shape=(), dtype=float32)\n",
      "loss tf.Tensor(0.0, shape=(), dtype=float32)\n",
      "loss tf.Tensor(0.0, shape=(), dtype=float32)\n",
      "loss tf.Tensor(0.0, shape=(), dtype=float32)\n",
      "loss tf.Tensor(0.0, shape=(), dtype=float32)\n",
      "loss tf.Tensor(0.0, shape=(), dtype=float32)\n",
      "loss tf.Tensor(0.0, shape=(), dtype=float32)\n",
      "loss tf.Tensor(0.0, shape=(), dtype=float32)\n"
     ]
    },
    {
     "name": "stderr",
     "output_type": "stream",
     "text": [
      " 13%|█▎        | 1293/10000 [00:37<03:57, 36.73it/s, episode_reward=0, running_reward=0]"
     ]
    },
    {
     "name": "stdout",
     "output_type": "stream",
     "text": [
      "loss tf.Tensor(0.0, shape=(), dtype=float32)\n",
      "loss tf.Tensor(0.0, shape=(), dtype=float32)\n",
      "loss tf.Tensor(0.0, shape=(), dtype=float32)\n",
      "loss tf.Tensor(0.0, shape=(), dtype=float32)\n",
      "loss tf.Tensor(0.0, shape=(), dtype=float32)\n",
      "loss tf.Tensor(0.0, shape=(), dtype=float32)\n",
      "loss tf.Tensor(0.0, shape=(), dtype=float32)\n",
      "loss tf.Tensor(0.0, shape=(), dtype=float32)\n"
     ]
    },
    {
     "name": "stderr",
     "output_type": "stream",
     "text": [
      " 13%|█▎        | 1301/10000 [00:37<03:57, 36.61it/s, episode_reward=0, running_reward=0]"
     ]
    },
    {
     "name": "stdout",
     "output_type": "stream",
     "text": [
      "loss tf.Tensor(0.0, shape=(), dtype=float32)\n",
      "loss tf.Tensor(0.0, shape=(), dtype=float32)\n",
      "loss tf.Tensor(0.0, shape=(), dtype=float32)\n",
      "loss tf.Tensor(0.0, shape=(), dtype=float32)\n",
      "loss tf.Tensor(0.0, shape=(), dtype=float32)\n",
      "loss tf.Tensor(0.0, shape=(), dtype=float32)\n",
      "loss tf.Tensor(0.0, shape=(), dtype=float32)\n",
      "loss tf.Tensor(0.0, shape=(), dtype=float32)\n"
     ]
    },
    {
     "name": "stderr",
     "output_type": "stream",
     "text": [
      " 13%|█▎        | 1305/10000 [00:37<05:35, 25.95it/s, episode_reward=0, running_reward=0]"
     ]
    },
    {
     "name": "stdout",
     "output_type": "stream",
     "text": [
      "loss tf.Tensor(0.0, shape=(), dtype=float32)\n",
      "loss tf.Tensor(0.0, shape=(), dtype=float32)\n",
      "loss tf.Tensor(0.0, shape=(), dtype=float32)\n",
      "loss tf.Tensor(0.0, shape=(), dtype=float32)\n",
      "loss tf.Tensor(0.0, shape=(), dtype=float32)\n",
      "loss tf.Tensor(0.0, shape=(), dtype=float32)\n",
      "loss tf.Tensor(0.0, shape=(), dtype=float32)\n"
     ]
    },
    {
     "name": "stderr",
     "output_type": "stream",
     "text": [
      " 13%|█▎        | 1313/10000 [00:38<04:47, 30.23it/s, episode_reward=0, running_reward=0]"
     ]
    },
    {
     "name": "stdout",
     "output_type": "stream",
     "text": [
      "loss tf.Tensor(0.0, shape=(), dtype=float32)\n",
      "loss tf.Tensor(0.0, shape=(), dtype=float32)\n",
      "loss tf.Tensor(0.0, shape=(), dtype=float32)\n",
      "loss tf.Tensor(0.0, shape=(), dtype=float32)\n",
      "loss tf.Tensor(0.0, shape=(), dtype=float32)\n",
      "loss tf.Tensor(0.0, shape=(), dtype=float32)\n",
      "loss tf.Tensor(0.0, shape=(), dtype=float32)\n",
      "loss tf.Tensor(0.0, shape=(), dtype=float32)\n"
     ]
    },
    {
     "name": "stderr",
     "output_type": "stream",
     "text": [
      " 13%|█▎        | 1321/10000 [00:38<04:23, 32.97it/s, episode_reward=0, running_reward=0]"
     ]
    },
    {
     "name": "stdout",
     "output_type": "stream",
     "text": [
      "loss tf.Tensor(0.0, shape=(), dtype=float32)\n",
      "loss tf.Tensor(0.0, shape=(), dtype=float32)\n",
      "loss tf.Tensor(0.0, shape=(), dtype=float32)\n",
      "loss tf.Tensor(0.0, shape=(), dtype=float32)\n",
      "loss tf.Tensor(0.0, shape=(), dtype=float32)\n",
      "loss tf.Tensor(0.0, shape=(), dtype=float32)\n",
      "loss tf.Tensor(0.0, shape=(), dtype=float32)\n",
      "loss tf.Tensor(0.0, shape=(), dtype=float32)\n"
     ]
    },
    {
     "name": "stderr",
     "output_type": "stream",
     "text": [
      " 13%|█▎        | 1329/10000 [00:38<04:09, 34.78it/s, episode_reward=0, running_reward=0]"
     ]
    },
    {
     "name": "stdout",
     "output_type": "stream",
     "text": [
      "loss tf.Tensor(0.0, shape=(), dtype=float32)\n",
      "loss tf.Tensor(0.0, shape=(), dtype=float32)\n",
      "loss tf.Tensor(0.0, shape=(), dtype=float32)\n",
      "loss tf.Tensor(0.0, shape=(), dtype=float32)\n",
      "loss tf.Tensor(0.0, shape=(), dtype=float32)\n",
      "loss tf.Tensor(0.0, shape=(), dtype=float32)\n",
      "loss tf.Tensor(0.0, shape=(), dtype=float32)\n",
      "loss tf.Tensor(0.0, shape=(), dtype=float32)\n"
     ]
    },
    {
     "name": "stderr",
     "output_type": "stream",
     "text": [
      " 13%|█▎        | 1337/10000 [00:38<04:03, 35.56it/s, episode_reward=0, running_reward=0]"
     ]
    },
    {
     "name": "stdout",
     "output_type": "stream",
     "text": [
      "loss tf.Tensor(0.0, shape=(), dtype=float32)\n",
      "loss tf.Tensor(0.0, shape=(), dtype=float32)\n",
      "loss tf.Tensor(0.0, shape=(), dtype=float32)\n",
      "loss tf.Tensor(0.0, shape=(), dtype=float32)\n",
      "loss tf.Tensor(0.0, shape=(), dtype=float32)\n",
      "loss tf.Tensor(0.0, shape=(), dtype=float32)\n",
      "loss tf.Tensor(0.0, shape=(), dtype=float32)\n",
      "loss tf.Tensor(0.0, shape=(), dtype=float32)\n"
     ]
    },
    {
     "name": "stderr",
     "output_type": "stream",
     "text": [
      " 13%|█▎        | 1345/10000 [00:38<04:00, 35.93it/s, episode_reward=0, running_reward=0]"
     ]
    },
    {
     "name": "stdout",
     "output_type": "stream",
     "text": [
      "loss tf.Tensor(0.0, shape=(), dtype=float32)\n",
      "loss tf.Tensor(0.0, shape=(), dtype=float32)\n",
      "loss tf.Tensor(0.0, shape=(), dtype=float32)\n",
      "loss tf.Tensor(0.0, shape=(), dtype=float32)\n",
      "loss tf.Tensor(0.0, shape=(), dtype=float32)\n",
      "loss tf.Tensor(0.0, shape=(), dtype=float32)\n",
      "loss tf.Tensor(0.0, shape=(), dtype=float32)\n",
      "loss tf.Tensor(0.0, shape=(), dtype=float32)\n"
     ]
    },
    {
     "name": "stderr",
     "output_type": "stream",
     "text": [
      " 14%|█▎        | 1353/10000 [00:39<03:58, 36.19it/s, episode_reward=0, running_reward=0]"
     ]
    },
    {
     "name": "stdout",
     "output_type": "stream",
     "text": [
      "loss tf.Tensor(0.0, shape=(), dtype=float32)\n",
      "loss tf.Tensor(0.0, shape=(), dtype=float32)\n",
      "loss tf.Tensor(0.0, shape=(), dtype=float32)\n",
      "loss tf.Tensor(0.0, shape=(), dtype=float32)\n",
      "loss tf.Tensor(0.0, shape=(), dtype=float32)\n",
      "loss tf.Tensor(0.0, shape=(), dtype=float32)\n",
      "loss tf.Tensor(0.0, shape=(), dtype=float32)\n",
      "loss tf.Tensor(0.0, shape=(), dtype=float32)\n"
     ]
    },
    {
     "name": "stderr",
     "output_type": "stream",
     "text": [
      " 14%|█▎        | 1361/10000 [00:39<03:56, 36.52it/s, episode_reward=0, running_reward=0]"
     ]
    },
    {
     "name": "stdout",
     "output_type": "stream",
     "text": [
      "loss tf.Tensor(0.0, shape=(), dtype=float32)\n",
      "loss tf.Tensor(0.0, shape=(), dtype=float32)\n",
      "loss tf.Tensor(0.0, shape=(), dtype=float32)\n",
      "loss tf.Tensor(0.0, shape=(), dtype=float32)\n",
      "loss tf.Tensor(0.0, shape=(), dtype=float32)\n",
      "loss tf.Tensor(0.0, shape=(), dtype=float32)\n",
      "loss tf.Tensor(0.0, shape=(), dtype=float32)\n",
      "loss tf.Tensor(0.0, shape=(), dtype=float32)\n"
     ]
    },
    {
     "name": "stderr",
     "output_type": "stream",
     "text": [
      " 14%|█▎        | 1369/10000 [00:39<03:55, 36.57it/s, episode_reward=0, running_reward=0]"
     ]
    },
    {
     "name": "stdout",
     "output_type": "stream",
     "text": [
      "loss tf.Tensor(0.0, shape=(), dtype=float32)\n",
      "loss tf.Tensor(0.0, shape=(), dtype=float32)\n",
      "loss tf.Tensor(0.0, shape=(), dtype=float32)\n",
      "loss tf.Tensor(0.0, shape=(), dtype=float32)\n",
      "loss tf.Tensor(0.0, shape=(), dtype=float32)\n",
      "loss tf.Tensor(0.0, shape=(), dtype=float32)\n",
      "loss tf.Tensor(0.0, shape=(), dtype=float32)\n",
      "loss tf.Tensor(0.0, shape=(), dtype=float32)\n"
     ]
    },
    {
     "name": "stderr",
     "output_type": "stream",
     "text": [
      " 14%|█▍        | 1377/10000 [00:39<03:56, 36.43it/s, episode_reward=0, running_reward=0]"
     ]
    },
    {
     "name": "stdout",
     "output_type": "stream",
     "text": [
      "loss tf.Tensor(0.0, shape=(), dtype=float32)\n",
      "loss tf.Tensor(0.0, shape=(), dtype=float32)\n",
      "loss tf.Tensor(0.0, shape=(), dtype=float32)\n",
      "loss tf.Tensor(0.0, shape=(), dtype=float32)\n",
      "loss tf.Tensor(0.0, shape=(), dtype=float32)\n",
      "loss tf.Tensor(0.0, shape=(), dtype=float32)\n",
      "loss tf.Tensor(0.0, shape=(), dtype=float32)\n",
      "loss tf.Tensor(0.0, shape=(), dtype=float32)\n"
     ]
    },
    {
     "name": "stderr",
     "output_type": "stream",
     "text": [
      " 14%|█▍        | 1385/10000 [00:40<03:59, 36.00it/s, episode_reward=0, running_reward=0]"
     ]
    },
    {
     "name": "stdout",
     "output_type": "stream",
     "text": [
      "loss tf.Tensor(0.0, shape=(), dtype=float32)\n",
      "loss tf.Tensor(0.0, shape=(), dtype=float32)\n",
      "loss tf.Tensor(0.0, shape=(), dtype=float32)\n",
      "loss tf.Tensor(0.0, shape=(), dtype=float32)\n",
      "loss tf.Tensor(0.0, shape=(), dtype=float32)\n",
      "loss tf.Tensor(0.0, shape=(), dtype=float32)\n",
      "loss tf.Tensor(0.0, shape=(), dtype=float32)\n",
      "loss tf.Tensor(0.0, shape=(), dtype=float32)\n"
     ]
    },
    {
     "name": "stderr",
     "output_type": "stream",
     "text": [
      " 14%|█▍        | 1393/10000 [00:40<03:57, 36.26it/s, episode_reward=0, running_reward=0]"
     ]
    },
    {
     "name": "stdout",
     "output_type": "stream",
     "text": [
      "loss tf.Tensor(0.0, shape=(), dtype=float32)\n",
      "loss tf.Tensor(0.0, shape=(), dtype=float32)\n",
      "loss tf.Tensor(0.0, shape=(), dtype=float32)\n",
      "loss tf.Tensor(0.0, shape=(), dtype=float32)\n",
      "loss tf.Tensor(0.0, shape=(), dtype=float32)\n",
      "loss tf.Tensor(0.0, shape=(), dtype=float32)\n",
      "loss tf.Tensor(0.0, shape=(), dtype=float32)\n",
      "loss tf.Tensor(0.0, shape=(), dtype=float32)\n"
     ]
    },
    {
     "name": "stderr",
     "output_type": "stream",
     "text": [
      " 14%|█▍        | 1401/10000 [00:40<03:54, 36.60it/s, episode_reward=0, running_reward=0]"
     ]
    },
    {
     "name": "stdout",
     "output_type": "stream",
     "text": [
      "loss tf.Tensor(0.0, shape=(), dtype=float32)\n",
      "loss tf.Tensor(0.0, shape=(), dtype=float32)\n",
      "loss tf.Tensor(0.0, shape=(), dtype=float32)\n",
      "loss tf.Tensor(0.0, shape=(), dtype=float32)\n",
      "loss tf.Tensor(0.0, shape=(), dtype=float32)\n",
      "loss tf.Tensor(0.0, shape=(), dtype=float32)\n",
      "loss tf.Tensor(0.0, shape=(), dtype=float32)\n",
      "loss tf.Tensor(0.0, shape=(), dtype=float32)\n"
     ]
    },
    {
     "name": "stderr",
     "output_type": "stream",
     "text": [
      " 14%|█▍        | 1409/10000 [00:40<03:56, 36.29it/s, episode_reward=0, running_reward=0]"
     ]
    },
    {
     "name": "stdout",
     "output_type": "stream",
     "text": [
      "loss tf.Tensor(0.0, shape=(), dtype=float32)\n",
      "loss tf.Tensor(0.0, shape=(), dtype=float32)\n",
      "loss tf.Tensor(0.0, shape=(), dtype=float32)\n",
      "loss tf.Tensor(0.0, shape=(), dtype=float32)\n",
      "loss tf.Tensor(0.0, shape=(), dtype=float32)\n",
      "loss tf.Tensor(0.0, shape=(), dtype=float32)\n",
      "loss tf.Tensor(0.0, shape=(), dtype=float32)\n",
      "loss tf.Tensor(0.0, shape=(), dtype=float32)\n"
     ]
    },
    {
     "name": "stderr",
     "output_type": "stream",
     "text": [
      " 14%|█▍        | 1413/10000 [00:40<03:57, 36.19it/s, episode_reward=0, running_reward=0]"
     ]
    },
    {
     "name": "stdout",
     "output_type": "stream",
     "text": [
      "loss tf.Tensor(0.0, shape=(), dtype=float32)\n",
      "loss tf.Tensor(0.0, shape=(), dtype=float32)\n",
      "loss tf.Tensor(0.0, shape=(), dtype=float32)\n"
     ]
    },
    {
     "name": "stderr",
     "output_type": "stream",
     "text": [
      " 14%|█▍        | 1421/10000 [00:41<05:07, 27.91it/s, episode_reward=0, running_reward=0]"
     ]
    },
    {
     "name": "stdout",
     "output_type": "stream",
     "text": [
      "loss tf.Tensor(0.0, shape=(), dtype=float32)\n",
      "loss tf.Tensor(0.0, shape=(), dtype=float32)\n",
      "loss tf.Tensor(0.0, shape=(), dtype=float32)\n",
      "loss tf.Tensor(0.0, shape=(), dtype=float32)\n",
      "loss tf.Tensor(0.0, shape=(), dtype=float32)\n",
      "loss tf.Tensor(0.0, shape=(), dtype=float32)\n",
      "loss tf.Tensor(0.0, shape=(), dtype=float32)\n",
      "loss tf.Tensor(0.0, shape=(), dtype=float32)\n"
     ]
    },
    {
     "name": "stderr",
     "output_type": "stream",
     "text": [
      " 14%|█▍        | 1429/10000 [00:41<04:29, 31.82it/s, episode_reward=0, running_reward=0]"
     ]
    },
    {
     "name": "stdout",
     "output_type": "stream",
     "text": [
      "loss tf.Tensor(0.0, shape=(), dtype=float32)\n",
      "loss tf.Tensor(0.0, shape=(), dtype=float32)\n",
      "loss tf.Tensor(0.0, shape=(), dtype=float32)\n",
      "loss tf.Tensor(0.0, shape=(), dtype=float32)\n",
      "loss tf.Tensor(0.0, shape=(), dtype=float32)\n",
      "loss tf.Tensor(0.0, shape=(), dtype=float32)\n",
      "loss tf.Tensor(0.0, shape=(), dtype=float32)\n",
      "loss tf.Tensor(0.0, shape=(), dtype=float32)\n"
     ]
    },
    {
     "name": "stderr",
     "output_type": "stream",
     "text": [
      " 14%|█▍        | 1437/10000 [00:41<04:10, 34.13it/s, episode_reward=0, running_reward=0]"
     ]
    },
    {
     "name": "stdout",
     "output_type": "stream",
     "text": [
      "loss tf.Tensor(0.0, shape=(), dtype=float32)\n",
      "loss tf.Tensor(0.0, shape=(), dtype=float32)\n",
      "loss tf.Tensor(0.0, shape=(), dtype=float32)\n",
      "loss tf.Tensor(0.0, shape=(), dtype=float32)\n",
      "loss tf.Tensor(0.0, shape=(), dtype=float32)\n",
      "loss tf.Tensor(0.0, shape=(), dtype=float32)\n",
      "loss tf.Tensor(0.0, shape=(), dtype=float32)\n",
      "loss tf.Tensor(0.0, shape=(), dtype=float32)\n"
     ]
    },
    {
     "name": "stderr",
     "output_type": "stream",
     "text": [
      " 14%|█▍        | 1445/10000 [00:41<04:01, 35.48it/s, episode_reward=0, running_reward=0]"
     ]
    },
    {
     "name": "stdout",
     "output_type": "stream",
     "text": [
      "loss tf.Tensor(0.0, shape=(), dtype=float32)\n",
      "loss tf.Tensor(0.0, shape=(), dtype=float32)\n",
      "loss tf.Tensor(0.0, shape=(), dtype=float32)\n",
      "loss tf.Tensor(0.0, shape=(), dtype=float32)\n",
      "loss tf.Tensor(0.0, shape=(), dtype=float32)\n",
      "loss tf.Tensor(0.0, shape=(), dtype=float32)\n",
      "loss tf.Tensor(0.0, shape=(), dtype=float32)\n",
      "loss tf.Tensor(0.0, shape=(), dtype=float32)\n"
     ]
    },
    {
     "name": "stderr",
     "output_type": "stream",
     "text": [
      " 15%|█▍        | 1453/10000 [00:42<03:56, 36.10it/s, episode_reward=0, running_reward=0]"
     ]
    },
    {
     "name": "stdout",
     "output_type": "stream",
     "text": [
      "loss tf.Tensor(0.0, shape=(), dtype=float32)\n",
      "loss tf.Tensor(0.0, shape=(), dtype=float32)\n",
      "loss tf.Tensor(0.0, shape=(), dtype=float32)\n",
      "loss tf.Tensor(0.0, shape=(), dtype=float32)\n",
      "loss tf.Tensor(0.0, shape=(), dtype=float32)\n",
      "loss tf.Tensor(0.0, shape=(), dtype=float32)\n",
      "loss tf.Tensor(0.0, shape=(), dtype=float32)\n",
      "loss tf.Tensor(0.0, shape=(), dtype=float32)\n"
     ]
    },
    {
     "name": "stderr",
     "output_type": "stream",
     "text": [
      " 15%|█▍        | 1461/10000 [00:42<03:57, 36.01it/s, episode_reward=0, running_reward=0]"
     ]
    },
    {
     "name": "stdout",
     "output_type": "stream",
     "text": [
      "loss tf.Tensor(0.0, shape=(), dtype=float32)\n",
      "loss tf.Tensor(0.0, shape=(), dtype=float32)\n",
      "loss tf.Tensor(0.0, shape=(), dtype=float32)\n",
      "loss tf.Tensor(0.0, shape=(), dtype=float32)\n",
      "loss tf.Tensor(0.0, shape=(), dtype=float32)\n",
      "loss tf.Tensor(0.0, shape=(), dtype=float32)\n",
      "loss tf.Tensor(0.0, shape=(), dtype=float32)\n",
      "loss tf.Tensor(0.0, shape=(), dtype=float32)\n"
     ]
    },
    {
     "name": "stderr",
     "output_type": "stream",
     "text": [
      " 15%|█▍        | 1469/10000 [00:42<03:55, 36.17it/s, episode_reward=0, running_reward=0]"
     ]
    },
    {
     "name": "stdout",
     "output_type": "stream",
     "text": [
      "loss tf.Tensor(0.0, shape=(), dtype=float32)\n",
      "loss tf.Tensor(0.0, shape=(), dtype=float32)\n",
      "loss tf.Tensor(0.0, shape=(), dtype=float32)\n",
      "loss tf.Tensor(0.0, shape=(), dtype=float32)\n",
      "loss tf.Tensor(0.0, shape=(), dtype=float32)\n",
      "loss tf.Tensor(0.0, shape=(), dtype=float32)\n",
      "loss tf.Tensor(0.0, shape=(), dtype=float32)\n",
      "loss tf.Tensor(0.0, shape=(), dtype=float32)\n"
     ]
    },
    {
     "name": "stderr",
     "output_type": "stream",
     "text": [
      " 15%|█▍        | 1477/10000 [00:42<03:54, 36.27it/s, episode_reward=0, running_reward=0]"
     ]
    },
    {
     "name": "stdout",
     "output_type": "stream",
     "text": [
      "loss tf.Tensor(0.0, shape=(), dtype=float32)\n",
      "loss tf.Tensor(0.0, shape=(), dtype=float32)\n",
      "loss tf.Tensor(0.0, shape=(), dtype=float32)\n",
      "loss tf.Tensor(0.0, shape=(), dtype=float32)\n",
      "loss tf.Tensor(0.0, shape=(), dtype=float32)\n",
      "loss tf.Tensor(0.0, shape=(), dtype=float32)\n",
      "loss tf.Tensor(0.0, shape=(), dtype=float32)\n",
      "loss tf.Tensor(0.0, shape=(), dtype=float32)\n"
     ]
    },
    {
     "name": "stderr",
     "output_type": "stream",
     "text": [
      " 15%|█▍        | 1485/10000 [00:42<03:54, 36.39it/s, episode_reward=0, running_reward=0]"
     ]
    },
    {
     "name": "stdout",
     "output_type": "stream",
     "text": [
      "loss tf.Tensor(0.0, shape=(), dtype=float32)\n",
      "loss tf.Tensor(0.0, shape=(), dtype=float32)\n",
      "loss tf.Tensor(0.0, shape=(), dtype=float32)\n",
      "loss tf.Tensor(0.0, shape=(), dtype=float32)\n",
      "loss tf.Tensor(0.0, shape=(), dtype=float32)\n",
      "loss tf.Tensor(0.0, shape=(), dtype=float32)\n",
      "loss tf.Tensor(0.0, shape=(), dtype=float32)\n",
      "loss tf.Tensor(0.0, shape=(), dtype=float32)\n"
     ]
    },
    {
     "name": "stderr",
     "output_type": "stream",
     "text": [
      " 15%|█▍        | 1493/10000 [00:43<03:53, 36.37it/s, episode_reward=0, running_reward=0]"
     ]
    },
    {
     "name": "stdout",
     "output_type": "stream",
     "text": [
      "loss tf.Tensor(0.0, shape=(), dtype=float32)\n",
      "loss tf.Tensor(0.0, shape=(), dtype=float32)\n",
      "loss tf.Tensor(0.0, shape=(), dtype=float32)\n",
      "loss tf.Tensor(0.0, shape=(), dtype=float32)\n",
      "loss tf.Tensor(0.0, shape=(), dtype=float32)\n",
      "loss tf.Tensor(0.0, shape=(), dtype=float32)\n",
      "loss tf.Tensor(0.0, shape=(), dtype=float32)\n",
      "loss tf.Tensor(0.0, shape=(), dtype=float32)\n"
     ]
    },
    {
     "name": "stderr",
     "output_type": "stream",
     "text": [
      " 15%|█▌        | 1501/10000 [00:43<03:52, 36.59it/s, episode_reward=0, running_reward=0]"
     ]
    },
    {
     "name": "stdout",
     "output_type": "stream",
     "text": [
      "loss tf.Tensor(0.0, shape=(), dtype=float32)\n",
      "loss tf.Tensor(0.0, shape=(), dtype=float32)\n",
      "loss tf.Tensor(0.0, shape=(), dtype=float32)\n",
      "loss tf.Tensor(0.0, shape=(), dtype=float32)\n",
      "loss tf.Tensor(0.0, shape=(), dtype=float32)\n",
      "loss tf.Tensor(0.0, shape=(), dtype=float32)\n",
      "loss tf.Tensor(0.0, shape=(), dtype=float32)\n",
      "loss tf.Tensor(0.0, shape=(), dtype=float32)\n"
     ]
    },
    {
     "name": "stderr",
     "output_type": "stream",
     "text": [
      " 15%|█▌        | 1505/10000 [00:43<05:21, 26.42it/s, episode_reward=0, running_reward=0]"
     ]
    },
    {
     "name": "stdout",
     "output_type": "stream",
     "text": [
      "loss tf.Tensor(0.0, shape=(), dtype=float32)\n",
      "loss tf.Tensor(0.0, shape=(), dtype=float32)\n"
     ]
    },
    {
     "name": "stderr",
     "output_type": "stream",
     "text": [
      " 15%|█▌        | 1513/10000 [00:43<04:44, 29.79it/s, episode_reward=0, running_reward=0]"
     ]
    },
    {
     "name": "stdout",
     "output_type": "stream",
     "text": [
      "loss tf.Tensor(0.0, shape=(), dtype=float32)\n",
      "loss tf.Tensor(0.0, shape=(), dtype=float32)\n",
      "loss tf.Tensor(0.0, shape=(), dtype=float32)\n",
      "loss tf.Tensor(0.0, shape=(), dtype=float32)\n",
      "loss tf.Tensor(0.0, shape=(), dtype=float32)\n",
      "loss tf.Tensor(0.0, shape=(), dtype=float32)\n",
      "loss tf.Tensor(0.0, shape=(), dtype=float32)\n",
      "loss tf.Tensor(0.0, shape=(), dtype=float32)\n"
     ]
    },
    {
     "name": "stderr",
     "output_type": "stream",
     "text": [
      " 15%|█▌        | 1521/10000 [00:44<04:18, 32.75it/s, episode_reward=0, running_reward=0]"
     ]
    },
    {
     "name": "stdout",
     "output_type": "stream",
     "text": [
      "loss tf.Tensor(0.0, shape=(), dtype=float32)\n",
      "loss tf.Tensor(0.0, shape=(), dtype=float32)\n",
      "loss tf.Tensor(0.0, shape=(), dtype=float32)\n",
      "loss tf.Tensor(0.0, shape=(), dtype=float32)\n",
      "loss tf.Tensor(0.0, shape=(), dtype=float32)\n",
      "loss tf.Tensor(0.0, shape=(), dtype=float32)\n",
      "loss tf.Tensor(0.0, shape=(), dtype=float32)\n",
      "loss tf.Tensor(0.0, shape=(), dtype=float32)\n"
     ]
    },
    {
     "name": "stderr",
     "output_type": "stream",
     "text": [
      " 15%|█▌        | 1529/10000 [00:44<04:05, 34.52it/s, episode_reward=0, running_reward=0]"
     ]
    },
    {
     "name": "stdout",
     "output_type": "stream",
     "text": [
      "loss tf.Tensor(0.0, shape=(), dtype=float32)\n",
      "loss tf.Tensor(0.0, shape=(), dtype=float32)\n",
      "loss tf.Tensor(0.0, shape=(), dtype=float32)\n",
      "loss tf.Tensor(0.0, shape=(), dtype=float32)\n",
      "loss tf.Tensor(0.0, shape=(), dtype=float32)\n",
      "loss tf.Tensor(0.0, shape=(), dtype=float32)\n",
      "loss tf.Tensor(0.0, shape=(), dtype=float32)\n",
      "loss tf.Tensor(0.0, shape=(), dtype=float32)\n"
     ]
    },
    {
     "name": "stderr",
     "output_type": "stream",
     "text": [
      " 15%|█▌        | 1537/10000 [00:44<03:58, 35.55it/s, episode_reward=0, running_reward=0]"
     ]
    },
    {
     "name": "stdout",
     "output_type": "stream",
     "text": [
      "loss tf.Tensor(0.0, shape=(), dtype=float32)\n",
      "loss tf.Tensor(0.0, shape=(), dtype=float32)\n",
      "loss tf.Tensor(0.0, shape=(), dtype=float32)\n",
      "loss tf.Tensor(0.0, shape=(), dtype=float32)\n",
      "loss tf.Tensor(0.0, shape=(), dtype=float32)\n",
      "loss tf.Tensor(0.0, shape=(), dtype=float32)\n",
      "loss tf.Tensor(0.0, shape=(), dtype=float32)\n",
      "loss tf.Tensor(0.0, shape=(), dtype=float32)\n"
     ]
    },
    {
     "name": "stderr",
     "output_type": "stream",
     "text": [
      " 15%|█▌        | 1545/10000 [00:44<03:54, 36.07it/s, episode_reward=0, running_reward=0]"
     ]
    },
    {
     "name": "stdout",
     "output_type": "stream",
     "text": [
      "loss tf.Tensor(0.0, shape=(), dtype=float32)\n",
      "loss tf.Tensor(0.0, shape=(), dtype=float32)\n",
      "loss tf.Tensor(0.0, shape=(), dtype=float32)\n",
      "loss tf.Tensor(0.0, shape=(), dtype=float32)\n",
      "loss tf.Tensor(0.0, shape=(), dtype=float32)\n",
      "loss tf.Tensor(0.0, shape=(), dtype=float32)\n",
      "loss tf.Tensor(0.0, shape=(), dtype=float32)\n",
      "loss tf.Tensor(0.0, shape=(), dtype=float32)\n"
     ]
    },
    {
     "name": "stderr",
     "output_type": "stream",
     "text": [
      " 16%|█▌        | 1553/10000 [00:44<03:52, 36.33it/s, episode_reward=0, running_reward=0]"
     ]
    },
    {
     "name": "stdout",
     "output_type": "stream",
     "text": [
      "loss tf.Tensor(0.0, shape=(), dtype=float32)\n",
      "loss tf.Tensor(0.0, shape=(), dtype=float32)\n",
      "loss tf.Tensor(0.0, shape=(), dtype=float32)\n",
      "loss tf.Tensor(0.0, shape=(), dtype=float32)\n",
      "loss tf.Tensor(0.0, shape=(), dtype=float32)\n",
      "loss tf.Tensor(0.0, shape=(), dtype=float32)\n",
      "loss tf.Tensor(0.0, shape=(), dtype=float32)\n",
      "loss tf.Tensor(0.0, shape=(), dtype=float32)\n"
     ]
    },
    {
     "name": "stderr",
     "output_type": "stream",
     "text": [
      " 16%|█▌        | 1561/10000 [00:45<03:49, 36.72it/s, episode_reward=0, running_reward=0]"
     ]
    },
    {
     "name": "stdout",
     "output_type": "stream",
     "text": [
      "loss tf.Tensor(0.0, shape=(), dtype=float32)\n",
      "loss tf.Tensor(0.0, shape=(), dtype=float32)\n",
      "loss tf.Tensor(0.0, shape=(), dtype=float32)\n",
      "loss tf.Tensor(0.0, shape=(), dtype=float32)\n",
      "loss tf.Tensor(0.0, shape=(), dtype=float32)\n",
      "loss tf.Tensor(0.0, shape=(), dtype=float32)\n",
      "loss tf.Tensor(0.0, shape=(), dtype=float32)\n",
      "loss tf.Tensor(0.0, shape=(), dtype=float32)\n"
     ]
    },
    {
     "name": "stderr",
     "output_type": "stream",
     "text": [
      " 16%|█▌        | 1569/10000 [00:45<03:49, 36.70it/s, episode_reward=0, running_reward=0]"
     ]
    },
    {
     "name": "stdout",
     "output_type": "stream",
     "text": [
      "loss tf.Tensor(0.0, shape=(), dtype=float32)\n",
      "loss tf.Tensor(0.0, shape=(), dtype=float32)\n",
      "loss tf.Tensor(0.0, shape=(), dtype=float32)\n",
      "loss tf.Tensor(0.0, shape=(), dtype=float32)\n",
      "loss tf.Tensor(0.0, shape=(), dtype=float32)\n",
      "loss tf.Tensor(0.0, shape=(), dtype=float32)\n",
      "loss tf.Tensor(0.0, shape=(), dtype=float32)\n",
      "loss tf.Tensor(0.0, shape=(), dtype=float32)\n"
     ]
    },
    {
     "name": "stderr",
     "output_type": "stream",
     "text": [
      " 16%|█▌        | 1577/10000 [00:45<03:51, 36.40it/s, episode_reward=0, running_reward=0]"
     ]
    },
    {
     "name": "stdout",
     "output_type": "stream",
     "text": [
      "loss tf.Tensor(0.0, shape=(), dtype=float32)\n",
      "loss tf.Tensor(0.0, shape=(), dtype=float32)\n",
      "loss tf.Tensor(0.0, shape=(), dtype=float32)\n",
      "loss tf.Tensor(0.0, shape=(), dtype=float32)\n",
      "loss tf.Tensor(0.0, shape=(), dtype=float32)\n",
      "loss tf.Tensor(0.0, shape=(), dtype=float32)\n",
      "loss tf.Tensor(0.0, shape=(), dtype=float32)\n",
      "loss tf.Tensor(0.0, shape=(), dtype=float32)\n"
     ]
    },
    {
     "name": "stderr",
     "output_type": "stream",
     "text": [
      " 16%|█▌        | 1585/10000 [00:45<03:52, 36.24it/s, episode_reward=0, running_reward=0]"
     ]
    },
    {
     "name": "stdout",
     "output_type": "stream",
     "text": [
      "loss tf.Tensor(0.0, shape=(), dtype=float32)\n",
      "loss tf.Tensor(0.0, shape=(), dtype=float32)\n",
      "loss tf.Tensor(0.0, shape=(), dtype=float32)\n",
      "loss tf.Tensor(0.0, shape=(), dtype=float32)\n",
      "loss tf.Tensor(0.0, shape=(), dtype=float32)\n",
      "loss tf.Tensor(0.0, shape=(), dtype=float32)\n",
      "loss tf.Tensor(0.0, shape=(), dtype=float32)\n",
      "loss tf.Tensor(0.0, shape=(), dtype=float32)\n"
     ]
    },
    {
     "name": "stderr",
     "output_type": "stream",
     "text": [
      " 16%|█▌        | 1593/10000 [00:46<03:50, 36.55it/s, episode_reward=0, running_reward=0]"
     ]
    },
    {
     "name": "stdout",
     "output_type": "stream",
     "text": [
      "loss tf.Tensor(0.0, shape=(), dtype=float32)\n",
      "loss tf.Tensor(0.0, shape=(), dtype=float32)\n",
      "loss tf.Tensor(0.0, shape=(), dtype=float32)\n",
      "loss tf.Tensor(0.0, shape=(), dtype=float32)\n",
      "loss tf.Tensor(0.0, shape=(), dtype=float32)\n",
      "loss tf.Tensor(0.0, shape=(), dtype=float32)\n",
      "loss tf.Tensor(0.0, shape=(), dtype=float32)\n",
      "loss tf.Tensor(0.0, shape=(), dtype=float32)\n"
     ]
    },
    {
     "name": "stderr",
     "output_type": "stream",
     "text": [
      " 16%|█▌        | 1601/10000 [00:46<03:53, 35.96it/s, episode_reward=0, running_reward=0]"
     ]
    },
    {
     "name": "stdout",
     "output_type": "stream",
     "text": [
      "loss tf.Tensor(0.0, shape=(), dtype=float32)\n",
      "loss tf.Tensor(0.0, shape=(), dtype=float32)\n",
      "loss tf.Tensor(0.0, shape=(), dtype=float32)\n",
      "loss tf.Tensor(0.0, shape=(), dtype=float32)\n",
      "loss tf.Tensor(0.0, shape=(), dtype=float32)\n",
      "loss tf.Tensor(0.0, shape=(), dtype=float32)\n",
      "loss tf.Tensor(0.0, shape=(), dtype=float32)\n",
      "loss tf.Tensor(0.0, shape=(), dtype=float32)\n"
     ]
    },
    {
     "name": "stderr",
     "output_type": "stream",
     "text": [
      " 16%|█▌        | 1609/10000 [00:46<03:54, 35.81it/s, episode_reward=0, running_reward=0]"
     ]
    },
    {
     "name": "stdout",
     "output_type": "stream",
     "text": [
      "loss tf.Tensor(0.0, shape=(), dtype=float32)\n",
      "loss tf.Tensor(0.0, shape=(), dtype=float32)\n",
      "loss tf.Tensor(0.0, shape=(), dtype=float32)\n",
      "loss tf.Tensor(0.0, shape=(), dtype=float32)\n",
      "loss tf.Tensor(0.0, shape=(), dtype=float32)\n",
      "loss tf.Tensor(0.0, shape=(), dtype=float32)\n",
      "loss tf.Tensor(0.0, shape=(), dtype=float32)\n",
      "loss tf.Tensor(0.0, shape=(), dtype=float32)\n"
     ]
    },
    {
     "name": "stderr",
     "output_type": "stream",
     "text": [
      " 16%|█▌        | 1617/10000 [00:46<03:53, 35.96it/s, episode_reward=0, running_reward=0]"
     ]
    },
    {
     "name": "stdout",
     "output_type": "stream",
     "text": [
      "loss tf.Tensor(0.0, shape=(), dtype=float32)\n",
      "loss tf.Tensor(0.0, shape=(), dtype=float32)\n",
      "loss tf.Tensor(0.0, shape=(), dtype=float32)\n",
      "loss tf.Tensor(0.0, shape=(), dtype=float32)\n",
      "loss tf.Tensor(0.0, shape=(), dtype=float32)\n",
      "loss tf.Tensor(0.0, shape=(), dtype=float32)\n",
      "loss tf.Tensor(0.0, shape=(), dtype=float32)\n",
      "loss tf.Tensor(0.0, shape=(), dtype=float32)\n"
     ]
    },
    {
     "name": "stderr",
     "output_type": "stream",
     "text": [
      " 16%|█▌        | 1617/10000 [00:46<03:53, 35.96it/s, episode_reward=0, running_reward=0]"
     ]
    },
    {
     "name": "stdout",
     "output_type": "stream",
     "text": [
      "loss tf.Tensor(0.0, shape=(), dtype=float32)\n",
      "loss tf.Tensor(0.0, shape=(), dtype=float32)\n",
      "loss tf.Tensor(0.0, shape=(), dtype=float32)\n"
     ]
    },
    {
     "name": "stderr",
     "output_type": "stream",
     "text": [
      " 16%|█▋        | 1625/10000 [00:47<05:02, 27.65it/s, episode_reward=0, running_reward=0]"
     ]
    },
    {
     "name": "stdout",
     "output_type": "stream",
     "text": [
      "loss tf.Tensor(0.0, shape=(), dtype=float32)\n",
      "loss tf.Tensor(0.0, shape=(), dtype=float32)\n",
      "loss tf.Tensor(0.0, shape=(), dtype=float32)\n",
      "loss tf.Tensor(0.0, shape=(), dtype=float32)\n",
      "loss tf.Tensor(0.0, shape=(), dtype=float32)\n",
      "loss tf.Tensor(0.0, shape=(), dtype=float32)\n",
      "loss tf.Tensor(0.0, shape=(), dtype=float32)\n"
     ]
    },
    {
     "name": "stderr",
     "output_type": "stream",
     "text": [
      " 16%|█▋        | 1633/10000 [00:47<04:24, 31.69it/s, episode_reward=0, running_reward=0]"
     ]
    },
    {
     "name": "stdout",
     "output_type": "stream",
     "text": [
      "loss tf.Tensor(0.0, shape=(), dtype=float32)\n",
      "loss tf.Tensor(0.0, shape=(), dtype=float32)\n",
      "loss tf.Tensor(0.0, shape=(), dtype=float32)\n",
      "loss tf.Tensor(0.0, shape=(), dtype=float32)\n",
      "loss tf.Tensor(0.0, shape=(), dtype=float32)\n",
      "loss tf.Tensor(0.0, shape=(), dtype=float32)\n",
      "loss tf.Tensor(0.0, shape=(), dtype=float32)\n",
      "loss tf.Tensor(0.0, shape=(), dtype=float32)\n"
     ]
    },
    {
     "name": "stderr",
     "output_type": "stream",
     "text": [
      " 16%|█▋        | 1641/10000 [00:47<04:05, 34.10it/s, episode_reward=0, running_reward=0]"
     ]
    },
    {
     "name": "stdout",
     "output_type": "stream",
     "text": [
      "loss tf.Tensor(0.0, shape=(), dtype=float32)\n",
      "loss tf.Tensor(0.0, shape=(), dtype=float32)\n",
      "loss tf.Tensor(0.0, shape=(), dtype=float32)\n",
      "loss tf.Tensor(0.0, shape=(), dtype=float32)\n",
      "loss tf.Tensor(0.0, shape=(), dtype=float32)\n",
      "loss tf.Tensor(0.0, shape=(), dtype=float32)\n",
      "loss tf.Tensor(0.0, shape=(), dtype=float32)\n",
      "loss tf.Tensor(0.0, shape=(), dtype=float32)\n"
     ]
    },
    {
     "name": "stderr",
     "output_type": "stream",
     "text": [
      " 16%|█▋        | 1649/10000 [00:47<03:57, 35.21it/s, episode_reward=0, running_reward=0]"
     ]
    },
    {
     "name": "stdout",
     "output_type": "stream",
     "text": [
      "loss tf.Tensor(0.0, shape=(), dtype=float32)\n",
      "loss tf.Tensor(0.0, shape=(), dtype=float32)\n",
      "loss tf.Tensor(0.0, shape=(), dtype=float32)\n",
      "loss tf.Tensor(0.0, shape=(), dtype=float32)\n",
      "loss tf.Tensor(0.0, shape=(), dtype=float32)\n",
      "loss tf.Tensor(0.0, shape=(), dtype=float32)\n",
      "loss tf.Tensor(0.0, shape=(), dtype=float32)\n",
      "loss tf.Tensor(0.0, shape=(), dtype=float32)\n"
     ]
    },
    {
     "name": "stderr",
     "output_type": "stream",
     "text": [
      " 17%|█▋        | 1657/10000 [00:47<03:50, 36.21it/s, episode_reward=0, running_reward=0]"
     ]
    },
    {
     "name": "stdout",
     "output_type": "stream",
     "text": [
      "loss tf.Tensor(0.0, shape=(), dtype=float32)\n",
      "loss tf.Tensor(0.0, shape=(), dtype=float32)\n",
      "loss tf.Tensor(0.0, shape=(), dtype=float32)\n",
      "loss tf.Tensor(0.0, shape=(), dtype=float32)\n",
      "loss tf.Tensor(0.0, shape=(), dtype=float32)\n",
      "loss tf.Tensor(0.0, shape=(), dtype=float32)\n",
      "loss tf.Tensor(0.0, shape=(), dtype=float32)\n",
      "loss tf.Tensor(0.0, shape=(), dtype=float32)\n"
     ]
    },
    {
     "name": "stderr",
     "output_type": "stream",
     "text": [
      " 17%|█▋        | 1665/10000 [00:48<03:49, 36.31it/s, episode_reward=0, running_reward=0]"
     ]
    },
    {
     "name": "stdout",
     "output_type": "stream",
     "text": [
      "loss tf.Tensor(0.0, shape=(), dtype=float32)\n",
      "loss tf.Tensor(0.0, shape=(), dtype=float32)\n",
      "loss tf.Tensor(0.0, shape=(), dtype=float32)\n",
      "loss tf.Tensor(0.0, shape=(), dtype=float32)\n",
      "loss tf.Tensor(0.0, shape=(), dtype=float32)\n",
      "loss tf.Tensor(0.0, shape=(), dtype=float32)\n",
      "loss tf.Tensor(0.0, shape=(), dtype=float32)\n",
      "loss tf.Tensor(0.0, shape=(), dtype=float32)\n"
     ]
    },
    {
     "name": "stderr",
     "output_type": "stream",
     "text": [
      " 17%|█▋        | 1673/10000 [00:48<03:48, 36.49it/s, episode_reward=0, running_reward=0]"
     ]
    },
    {
     "name": "stdout",
     "output_type": "stream",
     "text": [
      "loss tf.Tensor(0.0, shape=(), dtype=float32)\n",
      "loss tf.Tensor(0.0, shape=(), dtype=float32)\n",
      "loss tf.Tensor(0.0, shape=(), dtype=float32)\n",
      "loss tf.Tensor(0.0, shape=(), dtype=float32)\n",
      "loss tf.Tensor(0.0, shape=(), dtype=float32)\n",
      "loss tf.Tensor(0.0, shape=(), dtype=float32)\n",
      "loss tf.Tensor(0.0, shape=(), dtype=float32)\n",
      "loss tf.Tensor(0.0, shape=(), dtype=float32)\n"
     ]
    },
    {
     "name": "stderr",
     "output_type": "stream",
     "text": [
      " 17%|█▋        | 1681/10000 [00:48<03:48, 36.36it/s, episode_reward=0, running_reward=0]"
     ]
    },
    {
     "name": "stdout",
     "output_type": "stream",
     "text": [
      "loss tf.Tensor(0.0, shape=(), dtype=float32)\n",
      "loss tf.Tensor(0.0, shape=(), dtype=float32)\n",
      "loss tf.Tensor(0.0, shape=(), dtype=float32)\n",
      "loss tf.Tensor(0.0, shape=(), dtype=float32)\n",
      "loss tf.Tensor(0.0, shape=(), dtype=float32)\n",
      "loss tf.Tensor(0.0, shape=(), dtype=float32)\n",
      "loss tf.Tensor(0.0, shape=(), dtype=float32)\n",
      "loss tf.Tensor(0.0, shape=(), dtype=float32)\n"
     ]
    },
    {
     "name": "stderr",
     "output_type": "stream",
     "text": [
      " 17%|█▋        | 1689/10000 [00:48<03:50, 36.00it/s, episode_reward=0, running_reward=0]"
     ]
    },
    {
     "name": "stdout",
     "output_type": "stream",
     "text": [
      "loss tf.Tensor(0.0, shape=(), dtype=float32)\n",
      "loss tf.Tensor(0.0, shape=(), dtype=float32)\n",
      "loss tf.Tensor(0.0, shape=(), dtype=float32)\n",
      "loss tf.Tensor(0.0, shape=(), dtype=float32)\n",
      "loss tf.Tensor(0.0, shape=(), dtype=float32)\n",
      "loss tf.Tensor(0.0, shape=(), dtype=float32)\n",
      "loss tf.Tensor(0.0, shape=(), dtype=float32)\n",
      "loss tf.Tensor(0.0, shape=(), dtype=float32)\n"
     ]
    },
    {
     "name": "stderr",
     "output_type": "stream",
     "text": [
      " 17%|█▋        | 1697/10000 [00:49<03:47, 36.49it/s, episode_reward=0, running_reward=0]"
     ]
    },
    {
     "name": "stdout",
     "output_type": "stream",
     "text": [
      "loss tf.Tensor(0.0, shape=(), dtype=float32)\n",
      "loss tf.Tensor(0.0, shape=(), dtype=float32)\n",
      "loss tf.Tensor(0.0, shape=(), dtype=float32)\n",
      "loss tf.Tensor(0.0, shape=(), dtype=float32)\n",
      "loss tf.Tensor(0.0, shape=(), dtype=float32)\n",
      "loss tf.Tensor(0.0, shape=(), dtype=float32)\n",
      "loss tf.Tensor(0.0, shape=(), dtype=float32)\n",
      "loss tf.Tensor(0.0, shape=(), dtype=float32)\n"
     ]
    },
    {
     "name": "stderr",
     "output_type": "stream",
     "text": [
      " 17%|█▋        | 1705/10000 [00:49<03:47, 36.46it/s, episode_reward=0, running_reward=0]"
     ]
    },
    {
     "name": "stdout",
     "output_type": "stream",
     "text": [
      "loss tf.Tensor(0.0, shape=(), dtype=float32)\n",
      "loss tf.Tensor(0.0, shape=(), dtype=float32)\n",
      "loss tf.Tensor(0.0, shape=(), dtype=float32)\n",
      "loss tf.Tensor(0.0, shape=(), dtype=float32)\n",
      "loss tf.Tensor(0.0, shape=(), dtype=float32)\n",
      "loss tf.Tensor(0.0, shape=(), dtype=float32)\n",
      "loss tf.Tensor(0.0, shape=(), dtype=float32)\n",
      "loss tf.Tensor(0.0, shape=(), dtype=float32)\n"
     ]
    },
    {
     "name": "stderr",
     "output_type": "stream",
     "text": [
      " 17%|█▋        | 1713/10000 [00:49<03:46, 36.52it/s, episode_reward=0, running_reward=0]"
     ]
    },
    {
     "name": "stdout",
     "output_type": "stream",
     "text": [
      "loss tf.Tensor(0.0, shape=(), dtype=float32)\n",
      "loss tf.Tensor(0.0, shape=(), dtype=float32)\n",
      "loss tf.Tensor(0.0, shape=(), dtype=float32)\n",
      "loss tf.Tensor(0.0, shape=(), dtype=float32)\n",
      "loss tf.Tensor(0.0, shape=(), dtype=float32)\n",
      "loss tf.Tensor(0.0, shape=(), dtype=float32)\n",
      "loss tf.Tensor(0.0, shape=(), dtype=float32)\n",
      "loss tf.Tensor(0.0, shape=(), dtype=float32)\n"
     ]
    },
    {
     "name": "stderr",
     "output_type": "stream",
     "text": [
      " 17%|█▋        | 1721/10000 [00:49<03:48, 36.31it/s, episode_reward=0, running_reward=0]"
     ]
    },
    {
     "name": "stdout",
     "output_type": "stream",
     "text": [
      "loss tf.Tensor(0.0, shape=(), dtype=float32)\n",
      "loss tf.Tensor(0.0, shape=(), dtype=float32)\n",
      "loss tf.Tensor(0.0, shape=(), dtype=float32)\n",
      "loss tf.Tensor(0.0, shape=(), dtype=float32)\n",
      "loss tf.Tensor(0.0, shape=(), dtype=float32)\n",
      "loss tf.Tensor(0.0, shape=(), dtype=float32)\n",
      "loss tf.Tensor(0.0, shape=(), dtype=float32)\n",
      "loss tf.Tensor(0.0, shape=(), dtype=float32)\n"
     ]
    },
    {
     "name": "stderr",
     "output_type": "stream",
     "text": [
      " 17%|█▋        | 1729/10000 [00:49<03:49, 36.11it/s, episode_reward=0, running_reward=0]"
     ]
    },
    {
     "name": "stdout",
     "output_type": "stream",
     "text": [
      "loss tf.Tensor(0.0, shape=(), dtype=float32)\n",
      "loss tf.Tensor(0.0, shape=(), dtype=float32)\n",
      "loss tf.Tensor(0.0, shape=(), dtype=float32)\n",
      "loss tf.Tensor(0.0, shape=(), dtype=float32)\n",
      "loss tf.Tensor(0.0, shape=(), dtype=float32)\n",
      "loss tf.Tensor(0.0, shape=(), dtype=float32)\n",
      "loss tf.Tensor(0.0, shape=(), dtype=float32)\n",
      "loss tf.Tensor(0.0, shape=(), dtype=float32)\n"
     ]
    },
    {
     "name": "stderr",
     "output_type": "stream",
     "text": [
      " 17%|█▋        | 1737/10000 [00:50<03:46, 36.50it/s, episode_reward=0, running_reward=0]"
     ]
    },
    {
     "name": "stdout",
     "output_type": "stream",
     "text": [
      "loss tf.Tensor(0.0, shape=(), dtype=float32)\n",
      "loss tf.Tensor(0.0, shape=(), dtype=float32)\n",
      "loss tf.Tensor(0.0, shape=(), dtype=float32)\n",
      "loss tf.Tensor(0.0, shape=(), dtype=float32)\n",
      "loss tf.Tensor(0.0, shape=(), dtype=float32)\n",
      "loss tf.Tensor(0.0, shape=(), dtype=float32)\n",
      "loss tf.Tensor(0.0, shape=(), dtype=float32)\n",
      "loss tf.Tensor(0.0, shape=(), dtype=float32)\n"
     ]
    },
    {
     "name": "stderr",
     "output_type": "stream",
     "text": [
      " 17%|█▋        | 1745/10000 [00:50<03:45, 36.69it/s, episode_reward=0, running_reward=0]"
     ]
    },
    {
     "name": "stdout",
     "output_type": "stream",
     "text": [
      "loss tf.Tensor(0.0, shape=(), dtype=float32)\n",
      "loss tf.Tensor(0.0, shape=(), dtype=float32)\n",
      "loss tf.Tensor(0.0, shape=(), dtype=float32)\n",
      "loss tf.Tensor(0.0, shape=(), dtype=float32)\n",
      "loss tf.Tensor(0.0, shape=(), dtype=float32)\n",
      "loss tf.Tensor(0.0, shape=(), dtype=float32)\n",
      "loss tf.Tensor(0.0, shape=(), dtype=float32)\n",
      "loss tf.Tensor(0.0, shape=(), dtype=float32)\n"
     ]
    },
    {
     "name": "stderr",
     "output_type": "stream",
     "text": [
      " 17%|█▋        | 1749/10000 [00:50<03:47, 36.20it/s, episode_reward=0, running_reward=0]"
     ]
    },
    {
     "name": "stdout",
     "output_type": "stream",
     "text": [
      "loss tf.Tensor(0.0, shape=(), dtype=float32)\n",
      "loss tf.Tensor(0.0, shape=(), dtype=float32)\n",
      "loss tf.Tensor(0.0, shape=(), dtype=float32)\n"
     ]
    },
    {
     "name": "stderr",
     "output_type": "stream",
     "text": [
      " 18%|█▊        | 1757/10000 [00:50<05:06, 26.87it/s, episode_reward=0, running_reward=0]"
     ]
    },
    {
     "name": "stdout",
     "output_type": "stream",
     "text": [
      "loss tf.Tensor(0.0, shape=(), dtype=float32)\n",
      "loss tf.Tensor(0.0, shape=(), dtype=float32)\n",
      "loss tf.Tensor(0.0, shape=(), dtype=float32)\n",
      "loss tf.Tensor(0.0, shape=(), dtype=float32)\n",
      "loss tf.Tensor(0.0, shape=(), dtype=float32)\n",
      "loss tf.Tensor(0.0, shape=(), dtype=float32)\n",
      "loss tf.Tensor(0.0, shape=(), dtype=float32)\n"
     ]
    },
    {
     "name": "stderr",
     "output_type": "stream",
     "text": [
      " 18%|█▊        | 1765/10000 [00:51<04:24, 31.13it/s, episode_reward=0, running_reward=0]"
     ]
    },
    {
     "name": "stdout",
     "output_type": "stream",
     "text": [
      "loss tf.Tensor(0.0, shape=(), dtype=float32)\n",
      "loss tf.Tensor(0.0, shape=(), dtype=float32)\n",
      "loss tf.Tensor(0.0, shape=(), dtype=float32)\n",
      "loss tf.Tensor(0.0, shape=(), dtype=float32)\n",
      "loss tf.Tensor(0.0, shape=(), dtype=float32)\n",
      "loss tf.Tensor(0.0, shape=(), dtype=float32)\n",
      "loss tf.Tensor(0.0, shape=(), dtype=float32)\n",
      "loss tf.Tensor(0.0, shape=(), dtype=float32)\n"
     ]
    },
    {
     "name": "stderr",
     "output_type": "stream",
     "text": [
      " 18%|█▊        | 1773/10000 [00:51<04:04, 33.68it/s, episode_reward=0, running_reward=0]"
     ]
    },
    {
     "name": "stdout",
     "output_type": "stream",
     "text": [
      "loss tf.Tensor(0.0, shape=(), dtype=float32)\n",
      "loss tf.Tensor(0.0, shape=(), dtype=float32)\n",
      "loss tf.Tensor(0.0, shape=(), dtype=float32)\n",
      "loss tf.Tensor(0.0, shape=(), dtype=float32)\n",
      "loss tf.Tensor(0.0, shape=(), dtype=float32)\n",
      "loss tf.Tensor(0.0, shape=(), dtype=float32)\n",
      "loss tf.Tensor(0.0, shape=(), dtype=float32)\n",
      "loss tf.Tensor(0.0, shape=(), dtype=float32)\n"
     ]
    },
    {
     "name": "stderr",
     "output_type": "stream",
     "text": [
      " 18%|█▊        | 1781/10000 [00:51<03:56, 34.69it/s, episode_reward=0, running_reward=0]"
     ]
    },
    {
     "name": "stdout",
     "output_type": "stream",
     "text": [
      "loss tf.Tensor(0.0, shape=(), dtype=float32)\n",
      "loss tf.Tensor(0.0, shape=(), dtype=float32)\n",
      "loss tf.Tensor(0.0, shape=(), dtype=float32)\n",
      "loss tf.Tensor(0.0, shape=(), dtype=float32)\n",
      "loss tf.Tensor(0.0, shape=(), dtype=float32)\n",
      "loss tf.Tensor(0.0, shape=(), dtype=float32)\n",
      "loss tf.Tensor(0.0, shape=(), dtype=float32)\n",
      "loss tf.Tensor(0.0, shape=(), dtype=float32)\n"
     ]
    },
    {
     "name": "stderr",
     "output_type": "stream",
     "text": [
      " 18%|█▊        | 1789/10000 [00:51<03:53, 35.21it/s, episode_reward=0, running_reward=0]"
     ]
    },
    {
     "name": "stdout",
     "output_type": "stream",
     "text": [
      "loss tf.Tensor(0.0, shape=(), dtype=float32)\n",
      "loss tf.Tensor(0.0, shape=(), dtype=float32)\n",
      "loss tf.Tensor(0.0, shape=(), dtype=float32)\n",
      "loss tf.Tensor(0.0, shape=(), dtype=float32)\n",
      "loss tf.Tensor(0.0, shape=(), dtype=float32)\n",
      "loss tf.Tensor(0.0, shape=(), dtype=float32)\n",
      "loss tf.Tensor(0.0, shape=(), dtype=float32)\n",
      "loss tf.Tensor(0.0, shape=(), dtype=float32)\n"
     ]
    },
    {
     "name": "stderr",
     "output_type": "stream",
     "text": [
      " 18%|█▊        | 1797/10000 [00:51<03:50, 35.58it/s, episode_reward=0, running_reward=0]"
     ]
    },
    {
     "name": "stdout",
     "output_type": "stream",
     "text": [
      "loss tf.Tensor(0.0, shape=(), dtype=float32)\n",
      "loss tf.Tensor(0.0, shape=(), dtype=float32)\n",
      "loss tf.Tensor(0.0, shape=(), dtype=float32)\n",
      "loss tf.Tensor(0.0, shape=(), dtype=float32)\n",
      "loss tf.Tensor(0.0, shape=(), dtype=float32)\n",
      "loss tf.Tensor(0.0, shape=(), dtype=float32)\n",
      "loss tf.Tensor(0.0, shape=(), dtype=float32)\n",
      "loss tf.Tensor(0.0, shape=(), dtype=float32)\n"
     ]
    },
    {
     "name": "stderr",
     "output_type": "stream",
     "text": [
      " 18%|█▊        | 1805/10000 [00:52<03:47, 36.08it/s, episode_reward=0, running_reward=0]"
     ]
    },
    {
     "name": "stdout",
     "output_type": "stream",
     "text": [
      "loss tf.Tensor(0.0, shape=(), dtype=float32)\n",
      "loss tf.Tensor(0.0, shape=(), dtype=float32)\n",
      "loss tf.Tensor(0.0, shape=(), dtype=float32)\n",
      "loss tf.Tensor(0.0, shape=(), dtype=float32)\n",
      "loss tf.Tensor(0.0, shape=(), dtype=float32)\n",
      "loss tf.Tensor(0.0, shape=(), dtype=float32)\n",
      "loss tf.Tensor(0.0, shape=(), dtype=float32)\n",
      "loss tf.Tensor(0.0, shape=(), dtype=float32)\n"
     ]
    },
    {
     "name": "stderr",
     "output_type": "stream",
     "text": [
      " 18%|█▊        | 1813/10000 [00:52<03:44, 36.51it/s, episode_reward=0, running_reward=0]"
     ]
    },
    {
     "name": "stdout",
     "output_type": "stream",
     "text": [
      "loss tf.Tensor(0.0, shape=(), dtype=float32)\n",
      "loss tf.Tensor(0.0, shape=(), dtype=float32)\n",
      "loss tf.Tensor(0.0, shape=(), dtype=float32)\n",
      "loss tf.Tensor(0.0, shape=(), dtype=float32)\n",
      "loss tf.Tensor(0.0, shape=(), dtype=float32)\n",
      "loss tf.Tensor(0.0, shape=(), dtype=float32)\n",
      "loss tf.Tensor(0.0, shape=(), dtype=float32)\n",
      "loss tf.Tensor(0.0, shape=(), dtype=float32)\n"
     ]
    },
    {
     "name": "stderr",
     "output_type": "stream",
     "text": [
      " 18%|█▊        | 1821/10000 [00:52<03:42, 36.77it/s, episode_reward=0, running_reward=0]"
     ]
    },
    {
     "name": "stdout",
     "output_type": "stream",
     "text": [
      "loss tf.Tensor(0.0, shape=(), dtype=float32)\n",
      "loss tf.Tensor(0.0, shape=(), dtype=float32)\n",
      "loss tf.Tensor(0.0, shape=(), dtype=float32)\n",
      "loss tf.Tensor(0.0, shape=(), dtype=float32)\n",
      "loss tf.Tensor(0.0, shape=(), dtype=float32)\n",
      "loss tf.Tensor(0.0, shape=(), dtype=float32)\n",
      "loss tf.Tensor(0.0, shape=(), dtype=float32)\n",
      "loss tf.Tensor(0.0, shape=(), dtype=float32)\n"
     ]
    },
    {
     "name": "stderr",
     "output_type": "stream",
     "text": [
      " 18%|█▊        | 1829/10000 [00:52<03:42, 36.72it/s, episode_reward=0, running_reward=0]"
     ]
    },
    {
     "name": "stdout",
     "output_type": "stream",
     "text": [
      "loss tf.Tensor(0.0, shape=(), dtype=float32)\n",
      "loss tf.Tensor(0.0, shape=(), dtype=float32)\n",
      "loss tf.Tensor(0.0, shape=(), dtype=float32)\n",
      "loss tf.Tensor(0.0, shape=(), dtype=float32)\n",
      "loss tf.Tensor(0.0, shape=(), dtype=float32)\n",
      "loss tf.Tensor(0.0, shape=(), dtype=float32)\n",
      "loss tf.Tensor(0.0, shape=(), dtype=float32)\n",
      "loss tf.Tensor(0.0, shape=(), dtype=float32)\n"
     ]
    },
    {
     "name": "stderr",
     "output_type": "stream",
     "text": [
      " 18%|█▊        | 1837/10000 [00:53<03:44, 36.39it/s, episode_reward=0, running_reward=0]"
     ]
    },
    {
     "name": "stdout",
     "output_type": "stream",
     "text": [
      "loss tf.Tensor(0.0, shape=(), dtype=float32)\n",
      "loss tf.Tensor(0.0, shape=(), dtype=float32)\n",
      "loss tf.Tensor(0.0, shape=(), dtype=float32)\n",
      "loss tf.Tensor(0.0, shape=(), dtype=float32)\n",
      "loss tf.Tensor(0.0, shape=(), dtype=float32)\n",
      "loss tf.Tensor(0.0, shape=(), dtype=float32)\n",
      "loss tf.Tensor(0.0, shape=(), dtype=float32)\n",
      "loss tf.Tensor(0.0, shape=(), dtype=float32)\n"
     ]
    },
    {
     "name": "stderr",
     "output_type": "stream",
     "text": [
      " 18%|█▊        | 1845/10000 [00:53<03:44, 36.38it/s, episode_reward=0, running_reward=0]"
     ]
    },
    {
     "name": "stdout",
     "output_type": "stream",
     "text": [
      "loss tf.Tensor(0.0, shape=(), dtype=float32)\n",
      "loss tf.Tensor(0.0, shape=(), dtype=float32)\n",
      "loss tf.Tensor(0.0, shape=(), dtype=float32)\n",
      "loss tf.Tensor(0.0, shape=(), dtype=float32)\n",
      "loss tf.Tensor(0.0, shape=(), dtype=float32)\n",
      "loss tf.Tensor(0.0, shape=(), dtype=float32)\n",
      "loss tf.Tensor(0.0, shape=(), dtype=float32)\n",
      "loss tf.Tensor(0.0, shape=(), dtype=float32)\n"
     ]
    },
    {
     "name": "stderr",
     "output_type": "stream",
     "text": [
      " 18%|█▊        | 1849/10000 [00:53<05:19, 25.54it/s, episode_reward=0, running_reward=0]"
     ]
    },
    {
     "name": "stdout",
     "output_type": "stream",
     "text": [
      "loss tf.Tensor(0.0, shape=(), dtype=float32)\n",
      "loss tf.Tensor(0.0, shape=(), dtype=float32)\n",
      "loss tf.Tensor(0.0, shape=(), dtype=float32)\n",
      "loss tf.Tensor(0.0, shape=(), dtype=float32)\n",
      "loss tf.Tensor(0.0, shape=(), dtype=float32)\n",
      "loss tf.Tensor(0.0, shape=(), dtype=float32)\n",
      "loss tf.Tensor(0.0, shape=(), dtype=float32)\n"
     ]
    },
    {
     "name": "stderr",
     "output_type": "stream",
     "text": [
      " 19%|█▊        | 1857/10000 [00:53<04:30, 30.12it/s, episode_reward=0, running_reward=0]"
     ]
    },
    {
     "name": "stdout",
     "output_type": "stream",
     "text": [
      "loss tf.Tensor(0.0, shape=(), dtype=float32)\n",
      "loss tf.Tensor(0.0, shape=(), dtype=float32)\n",
      "loss tf.Tensor(0.0, shape=(), dtype=float32)\n",
      "loss tf.Tensor(0.0, shape=(), dtype=float32)\n",
      "loss tf.Tensor(0.0, shape=(), dtype=float32)\n",
      "loss tf.Tensor(0.0, shape=(), dtype=float32)\n",
      "loss tf.Tensor(0.0, shape=(), dtype=float32)\n",
      "loss tf.Tensor(0.0, shape=(), dtype=float32)\n"
     ]
    },
    {
     "name": "stderr",
     "output_type": "stream",
     "text": [
      " 19%|█▊        | 1865/10000 [00:54<04:06, 33.00it/s, episode_reward=0, running_reward=0]"
     ]
    },
    {
     "name": "stdout",
     "output_type": "stream",
     "text": [
      "loss tf.Tensor(0.0, shape=(), dtype=float32)\n",
      "loss tf.Tensor(0.0, shape=(), dtype=float32)\n",
      "loss tf.Tensor(0.0, shape=(), dtype=float32)\n",
      "loss tf.Tensor(0.0, shape=(), dtype=float32)\n",
      "loss tf.Tensor(0.0, shape=(), dtype=float32)\n",
      "loss tf.Tensor(0.0, shape=(), dtype=float32)\n",
      "loss tf.Tensor(0.0, shape=(), dtype=float32)\n",
      "loss tf.Tensor(0.0, shape=(), dtype=float32)\n"
     ]
    },
    {
     "name": "stderr",
     "output_type": "stream",
     "text": [
      " 19%|█▊        | 1873/10000 [00:54<03:53, 34.81it/s, episode_reward=0, running_reward=0]"
     ]
    },
    {
     "name": "stdout",
     "output_type": "stream",
     "text": [
      "loss tf.Tensor(0.0, shape=(), dtype=float32)\n",
      "loss tf.Tensor(0.0, shape=(), dtype=float32)\n",
      "loss tf.Tensor(0.0, shape=(), dtype=float32)\n",
      "loss tf.Tensor(0.0, shape=(), dtype=float32)\n",
      "loss tf.Tensor(0.0, shape=(), dtype=float32)\n",
      "loss tf.Tensor(0.0, shape=(), dtype=float32)\n",
      "loss tf.Tensor(0.0, shape=(), dtype=float32)\n",
      "loss tf.Tensor(0.0, shape=(), dtype=float32)\n"
     ]
    },
    {
     "name": "stderr",
     "output_type": "stream",
     "text": [
      " 19%|█▉        | 1881/10000 [00:54<03:45, 35.96it/s, episode_reward=0, running_reward=0]"
     ]
    },
    {
     "name": "stdout",
     "output_type": "stream",
     "text": [
      "loss tf.Tensor(0.0, shape=(), dtype=float32)\n",
      "loss tf.Tensor(0.0, shape=(), dtype=float32)\n",
      "loss tf.Tensor(0.0, shape=(), dtype=float32)\n",
      "loss tf.Tensor(0.0, shape=(), dtype=float32)\n",
      "loss tf.Tensor(0.0, shape=(), dtype=float32)\n",
      "loss tf.Tensor(0.0, shape=(), dtype=float32)\n",
      "loss tf.Tensor(0.0, shape=(), dtype=float32)\n",
      "loss tf.Tensor(0.0, shape=(), dtype=float32)\n"
     ]
    },
    {
     "name": "stderr",
     "output_type": "stream",
     "text": [
      " 19%|█▉        | 1889/10000 [00:54<03:43, 36.21it/s, episode_reward=0, running_reward=0]"
     ]
    },
    {
     "name": "stdout",
     "output_type": "stream",
     "text": [
      "loss tf.Tensor(0.0, shape=(), dtype=float32)\n",
      "loss tf.Tensor(0.0, shape=(), dtype=float32)\n",
      "loss tf.Tensor(0.0, shape=(), dtype=float32)\n",
      "loss tf.Tensor(0.0, shape=(), dtype=float32)\n",
      "loss tf.Tensor(0.0, shape=(), dtype=float32)\n",
      "loss tf.Tensor(0.0, shape=(), dtype=float32)\n",
      "loss tf.Tensor(0.0, shape=(), dtype=float32)\n",
      "loss tf.Tensor(0.0, shape=(), dtype=float32)\n"
     ]
    },
    {
     "name": "stderr",
     "output_type": "stream",
     "text": [
      " 19%|█▉        | 1897/10000 [00:54<03:43, 36.18it/s, episode_reward=0, running_reward=0]"
     ]
    },
    {
     "name": "stdout",
     "output_type": "stream",
     "text": [
      "loss tf.Tensor(0.0, shape=(), dtype=float32)\n",
      "loss tf.Tensor(0.0, shape=(), dtype=float32)\n",
      "loss tf.Tensor(0.0, shape=(), dtype=float32)\n",
      "loss tf.Tensor(0.0, shape=(), dtype=float32)\n",
      "loss tf.Tensor(0.0, shape=(), dtype=float32)\n",
      "loss tf.Tensor(0.0, shape=(), dtype=float32)\n",
      "loss tf.Tensor(0.0, shape=(), dtype=float32)\n",
      "loss tf.Tensor(0.0, shape=(), dtype=float32)\n"
     ]
    },
    {
     "name": "stderr",
     "output_type": "stream",
     "text": [
      " 19%|█▉        | 1905/10000 [00:55<03:44, 36.14it/s, episode_reward=0, running_reward=0]"
     ]
    },
    {
     "name": "stdout",
     "output_type": "stream",
     "text": [
      "loss tf.Tensor(0.0, shape=(), dtype=float32)\n",
      "loss tf.Tensor(0.0, shape=(), dtype=float32)\n",
      "loss tf.Tensor(0.0, shape=(), dtype=float32)\n",
      "loss tf.Tensor(0.0, shape=(), dtype=float32)\n",
      "loss tf.Tensor(0.0, shape=(), dtype=float32)\n",
      "loss tf.Tensor(0.0, shape=(), dtype=float32)\n",
      "loss tf.Tensor(0.0, shape=(), dtype=float32)\n",
      "loss tf.Tensor(0.0, shape=(), dtype=float32)\n"
     ]
    },
    {
     "name": "stderr",
     "output_type": "stream",
     "text": [
      " 19%|█▉        | 1913/10000 [00:55<03:42, 36.33it/s, episode_reward=0, running_reward=0]"
     ]
    },
    {
     "name": "stdout",
     "output_type": "stream",
     "text": [
      "loss tf.Tensor(0.0, shape=(), dtype=float32)\n",
      "loss tf.Tensor(0.0, shape=(), dtype=float32)\n",
      "loss tf.Tensor(0.0, shape=(), dtype=float32)\n",
      "loss tf.Tensor(0.0, shape=(), dtype=float32)\n",
      "loss tf.Tensor(0.0, shape=(), dtype=float32)\n",
      "loss tf.Tensor(0.0, shape=(), dtype=float32)\n",
      "loss tf.Tensor(0.0, shape=(), dtype=float32)\n",
      "loss tf.Tensor(0.0, shape=(), dtype=float32)\n"
     ]
    },
    {
     "name": "stderr",
     "output_type": "stream",
     "text": [
      " 19%|█▉        | 1921/10000 [00:55<03:41, 36.48it/s, episode_reward=0, running_reward=0]"
     ]
    },
    {
     "name": "stdout",
     "output_type": "stream",
     "text": [
      "loss tf.Tensor(0.0, shape=(), dtype=float32)\n",
      "loss tf.Tensor(0.0, shape=(), dtype=float32)\n",
      "loss tf.Tensor(0.0, shape=(), dtype=float32)\n",
      "loss tf.Tensor(0.0, shape=(), dtype=float32)\n",
      "loss tf.Tensor(0.0, shape=(), dtype=float32)\n",
      "loss tf.Tensor(0.0, shape=(), dtype=float32)\n",
      "loss tf.Tensor(0.0, shape=(), dtype=float32)\n",
      "loss tf.Tensor(0.0, shape=(), dtype=float32)\n"
     ]
    },
    {
     "name": "stderr",
     "output_type": "stream",
     "text": [
      " 19%|█▉        | 1929/10000 [00:55<03:41, 36.44it/s, episode_reward=0, running_reward=0]"
     ]
    },
    {
     "name": "stdout",
     "output_type": "stream",
     "text": [
      "loss tf.Tensor(0.0, shape=(), dtype=float32)\n",
      "loss tf.Tensor(0.0, shape=(), dtype=float32)\n",
      "loss tf.Tensor(0.0, shape=(), dtype=float32)\n",
      "loss tf.Tensor(0.0, shape=(), dtype=float32)\n",
      "loss tf.Tensor(0.0, shape=(), dtype=float32)\n",
      "loss tf.Tensor(0.0, shape=(), dtype=float32)\n",
      "loss tf.Tensor(0.0, shape=(), dtype=float32)\n",
      "loss tf.Tensor(0.0, shape=(), dtype=float32)\n"
     ]
    },
    {
     "name": "stderr",
     "output_type": "stream",
     "text": [
      " 19%|█▉        | 1937/10000 [00:56<03:38, 36.83it/s, episode_reward=0, running_reward=0]"
     ]
    },
    {
     "name": "stdout",
     "output_type": "stream",
     "text": [
      "loss tf.Tensor(0.0, shape=(), dtype=float32)\n",
      "loss tf.Tensor(0.0, shape=(), dtype=float32)\n",
      "loss tf.Tensor(0.0, shape=(), dtype=float32)\n",
      "loss tf.Tensor(0.0, shape=(), dtype=float32)\n",
      "loss tf.Tensor(0.0, shape=(), dtype=float32)\n",
      "loss tf.Tensor(0.0, shape=(), dtype=float32)\n",
      "loss tf.Tensor(0.0, shape=(), dtype=float32)\n",
      "loss tf.Tensor(0.0, shape=(), dtype=float32)\n"
     ]
    },
    {
     "name": "stderr",
     "output_type": "stream",
     "text": [
      " 19%|█▉        | 1945/10000 [00:56<03:40, 36.61it/s, episode_reward=0, running_reward=0]"
     ]
    },
    {
     "name": "stdout",
     "output_type": "stream",
     "text": [
      "loss tf.Tensor(0.0, shape=(), dtype=float32)\n",
      "loss tf.Tensor(0.0, shape=(), dtype=float32)\n",
      "loss tf.Tensor(0.0, shape=(), dtype=float32)\n",
      "loss tf.Tensor(0.0, shape=(), dtype=float32)\n",
      "loss tf.Tensor(0.0, shape=(), dtype=float32)\n",
      "loss tf.Tensor(0.0, shape=(), dtype=float32)\n",
      "loss tf.Tensor(0.0, shape=(), dtype=float32)\n",
      "loss tf.Tensor(0.0, shape=(), dtype=float32)\n"
     ]
    },
    {
     "name": "stderr",
     "output_type": "stream",
     "text": [
      " 20%|█▉        | 1953/10000 [00:56<03:41, 36.33it/s, episode_reward=0, running_reward=0]"
     ]
    },
    {
     "name": "stdout",
     "output_type": "stream",
     "text": [
      "loss tf.Tensor(0.0, shape=(), dtype=float32)\n",
      "loss tf.Tensor(0.0, shape=(), dtype=float32)\n",
      "loss tf.Tensor(0.0, shape=(), dtype=float32)\n",
      "loss tf.Tensor(0.0, shape=(), dtype=float32)\n",
      "loss tf.Tensor(0.0, shape=(), dtype=float32)\n",
      "loss tf.Tensor(0.0, shape=(), dtype=float32)\n",
      "loss tf.Tensor(0.0, shape=(), dtype=float32)\n",
      "loss tf.Tensor(0.0, shape=(), dtype=float32)\n"
     ]
    },
    {
     "name": "stderr",
     "output_type": "stream",
     "text": [
      " 20%|█▉        | 1961/10000 [00:56<04:44, 28.22it/s, episode_reward=0, running_reward=0]"
     ]
    },
    {
     "name": "stdout",
     "output_type": "stream",
     "text": [
      "loss tf.Tensor(0.0, shape=(), dtype=float32)\n",
      "loss tf.Tensor(0.0, shape=(), dtype=float32)\n",
      "loss tf.Tensor(0.0, shape=(), dtype=float32)\n",
      "loss tf.Tensor(0.0, shape=(), dtype=float32)\n",
      "loss tf.Tensor(0.0, shape=(), dtype=float32)\n",
      "loss tf.Tensor(0.0, shape=(), dtype=float32)\n",
      "loss tf.Tensor(0.0, shape=(), dtype=float32)\n"
     ]
    },
    {
     "name": "stderr",
     "output_type": "stream",
     "text": [
      " 20%|█▉        | 1969/10000 [00:57<04:12, 31.87it/s, episode_reward=0, running_reward=0]"
     ]
    },
    {
     "name": "stdout",
     "output_type": "stream",
     "text": [
      "loss tf.Tensor(0.0, shape=(), dtype=float32)\n",
      "loss tf.Tensor(0.0, shape=(), dtype=float32)\n",
      "loss tf.Tensor(0.0, shape=(), dtype=float32)\n",
      "loss tf.Tensor(0.0, shape=(), dtype=float32)\n",
      "loss tf.Tensor(0.0, shape=(), dtype=float32)\n",
      "loss tf.Tensor(0.0, shape=(), dtype=float32)\n",
      "loss tf.Tensor(0.0, shape=(), dtype=float32)\n",
      "loss tf.Tensor(0.0, shape=(), dtype=float32)\n"
     ]
    },
    {
     "name": "stderr",
     "output_type": "stream",
     "text": [
      " 20%|█▉        | 1977/10000 [00:57<03:55, 34.12it/s, episode_reward=0, running_reward=0]"
     ]
    },
    {
     "name": "stdout",
     "output_type": "stream",
     "text": [
      "loss tf.Tensor(0.0, shape=(), dtype=float32)\n",
      "loss tf.Tensor(0.0, shape=(), dtype=float32)\n",
      "loss tf.Tensor(0.0, shape=(), dtype=float32)\n",
      "loss tf.Tensor(0.0, shape=(), dtype=float32)\n",
      "loss tf.Tensor(0.0, shape=(), dtype=float32)\n",
      "loss tf.Tensor(0.0, shape=(), dtype=float32)\n",
      "loss tf.Tensor(0.0, shape=(), dtype=float32)\n",
      "loss tf.Tensor(0.0, shape=(), dtype=float32)\n"
     ]
    },
    {
     "name": "stderr",
     "output_type": "stream",
     "text": [
      " 20%|█▉        | 1985/10000 [00:57<03:47, 35.21it/s, episode_reward=0, running_reward=0]"
     ]
    },
    {
     "name": "stdout",
     "output_type": "stream",
     "text": [
      "loss tf.Tensor(0.0, shape=(), dtype=float32)\n",
      "loss tf.Tensor(0.0, shape=(), dtype=float32)\n",
      "loss tf.Tensor(0.0, shape=(), dtype=float32)\n",
      "loss tf.Tensor(0.0, shape=(), dtype=float32)\n",
      "loss tf.Tensor(0.0, shape=(), dtype=float32)\n",
      "loss tf.Tensor(0.0, shape=(), dtype=float32)\n",
      "loss tf.Tensor(0.0, shape=(), dtype=float32)\n",
      "loss tf.Tensor(0.0, shape=(), dtype=float32)\n"
     ]
    },
    {
     "name": "stderr",
     "output_type": "stream",
     "text": [
      " 20%|█▉        | 1993/10000 [00:57<03:44, 35.62it/s, episode_reward=0, running_reward=0]"
     ]
    },
    {
     "name": "stdout",
     "output_type": "stream",
     "text": [
      "loss tf.Tensor(0.0, shape=(), dtype=float32)\n",
      "loss tf.Tensor(0.0, shape=(), dtype=float32)\n",
      "loss tf.Tensor(0.0, shape=(), dtype=float32)\n",
      "loss tf.Tensor(0.0, shape=(), dtype=float32)\n",
      "loss tf.Tensor(0.0, shape=(), dtype=float32)\n",
      "loss tf.Tensor(0.0, shape=(), dtype=float32)\n",
      "loss tf.Tensor(0.0, shape=(), dtype=float32)\n",
      "loss tf.Tensor(0.0, shape=(), dtype=float32)\n"
     ]
    },
    {
     "name": "stderr",
     "output_type": "stream",
     "text": [
      " 20%|██        | 2001/10000 [00:57<03:41, 36.05it/s, episode_reward=0, running_reward=0]"
     ]
    },
    {
     "name": "stdout",
     "output_type": "stream",
     "text": [
      "loss tf.Tensor(0.0, shape=(), dtype=float32)\n",
      "loss tf.Tensor(0.0, shape=(), dtype=float32)\n",
      "loss tf.Tensor(0.0, shape=(), dtype=float32)\n",
      "loss tf.Tensor(0.0, shape=(), dtype=float32)\n",
      "loss tf.Tensor(0.0, shape=(), dtype=float32)\n",
      "loss tf.Tensor(0.0, shape=(), dtype=float32)\n",
      "loss tf.Tensor(0.0, shape=(), dtype=float32)\n",
      "loss tf.Tensor(0.0, shape=(), dtype=float32)\n"
     ]
    },
    {
     "name": "stderr",
     "output_type": "stream",
     "text": [
      " 20%|██        | 2009/10000 [00:58<03:40, 36.31it/s, episode_reward=0, running_reward=0]"
     ]
    },
    {
     "name": "stdout",
     "output_type": "stream",
     "text": [
      "loss tf.Tensor(0.0, shape=(), dtype=float32)\n",
      "loss tf.Tensor(0.0, shape=(), dtype=float32)\n",
      "loss tf.Tensor(0.0, shape=(), dtype=float32)\n",
      "loss tf.Tensor(0.0, shape=(), dtype=float32)\n",
      "loss tf.Tensor(0.0, shape=(), dtype=float32)\n",
      "loss tf.Tensor(0.0, shape=(), dtype=float32)\n",
      "loss tf.Tensor(0.0, shape=(), dtype=float32)\n",
      "loss tf.Tensor(0.0, shape=(), dtype=float32)\n"
     ]
    },
    {
     "name": "stderr",
     "output_type": "stream",
     "text": [
      " 20%|██        | 2017/10000 [00:58<03:39, 36.39it/s, episode_reward=0, running_reward=0]"
     ]
    },
    {
     "name": "stdout",
     "output_type": "stream",
     "text": [
      "loss tf.Tensor(0.0, shape=(), dtype=float32)\n",
      "loss tf.Tensor(0.0, shape=(), dtype=float32)\n",
      "loss tf.Tensor(0.0, shape=(), dtype=float32)\n",
      "loss tf.Tensor(0.0, shape=(), dtype=float32)\n",
      "loss tf.Tensor(0.0, shape=(), dtype=float32)\n",
      "loss tf.Tensor(0.0, shape=(), dtype=float32)\n",
      "loss tf.Tensor(0.0, shape=(), dtype=float32)\n",
      "loss tf.Tensor(0.0, shape=(), dtype=float32)\n"
     ]
    },
    {
     "name": "stderr",
     "output_type": "stream",
     "text": [
      " 20%|██        | 2025/10000 [00:58<03:39, 36.26it/s, episode_reward=0, running_reward=0]"
     ]
    },
    {
     "name": "stdout",
     "output_type": "stream",
     "text": [
      "loss tf.Tensor(0.0, shape=(), dtype=float32)\n",
      "loss tf.Tensor(0.0, shape=(), dtype=float32)\n",
      "loss tf.Tensor(0.0, shape=(), dtype=float32)\n",
      "loss tf.Tensor(0.0, shape=(), dtype=float32)\n",
      "loss tf.Tensor(0.0, shape=(), dtype=float32)\n",
      "loss tf.Tensor(0.0, shape=(), dtype=float32)\n",
      "loss tf.Tensor(0.0, shape=(), dtype=float32)\n",
      "loss tf.Tensor(0.0, shape=(), dtype=float32)\n"
     ]
    },
    {
     "name": "stderr",
     "output_type": "stream",
     "text": [
      " 20%|██        | 2033/10000 [00:58<03:39, 36.36it/s, episode_reward=0, running_reward=0]"
     ]
    },
    {
     "name": "stdout",
     "output_type": "stream",
     "text": [
      "loss tf.Tensor(0.0, shape=(), dtype=float32)\n",
      "loss tf.Tensor(0.0, shape=(), dtype=float32)\n",
      "loss tf.Tensor(0.0, shape=(), dtype=float32)\n",
      "loss tf.Tensor(0.0, shape=(), dtype=float32)\n",
      "loss tf.Tensor(0.0, shape=(), dtype=float32)\n",
      "loss tf.Tensor(0.0, shape=(), dtype=float32)\n",
      "loss tf.Tensor(0.0, shape=(), dtype=float32)\n",
      "loss tf.Tensor(0.0, shape=(), dtype=float32)\n"
     ]
    },
    {
     "name": "stderr",
     "output_type": "stream",
     "text": [
      " 20%|██        | 2041/10000 [00:59<03:37, 36.61it/s, episode_reward=0, running_reward=0]"
     ]
    },
    {
     "name": "stdout",
     "output_type": "stream",
     "text": [
      "loss tf.Tensor(0.0, shape=(), dtype=float32)\n",
      "loss tf.Tensor(0.0, shape=(), dtype=float32)\n",
      "loss tf.Tensor(0.0, shape=(), dtype=float32)\n",
      "loss tf.Tensor(0.0, shape=(), dtype=float32)\n",
      "loss tf.Tensor(0.0, shape=(), dtype=float32)\n",
      "loss tf.Tensor(0.0, shape=(), dtype=float32)\n",
      "loss tf.Tensor(0.0, shape=(), dtype=float32)\n",
      "loss tf.Tensor(0.0, shape=(), dtype=float32)\n"
     ]
    },
    {
     "name": "stderr",
     "output_type": "stream",
     "text": [
      " 20%|██        | 2049/10000 [00:59<03:36, 36.65it/s, episode_reward=0, running_reward=0]"
     ]
    },
    {
     "name": "stdout",
     "output_type": "stream",
     "text": [
      "loss tf.Tensor(0.0, shape=(), dtype=float32)\n",
      "loss tf.Tensor(0.0, shape=(), dtype=float32)\n",
      "loss tf.Tensor(0.0, shape=(), dtype=float32)\n",
      "loss tf.Tensor(0.0, shape=(), dtype=float32)\n",
      "loss tf.Tensor(0.0, shape=(), dtype=float32)\n",
      "loss tf.Tensor(0.0, shape=(), dtype=float32)\n",
      "loss tf.Tensor(0.0, shape=(), dtype=float32)\n",
      "loss tf.Tensor(0.0, shape=(), dtype=float32)\n"
     ]
    },
    {
     "name": "stderr",
     "output_type": "stream",
     "text": [
      " 21%|██        | 2057/10000 [00:59<03:37, 36.54it/s, episode_reward=0, running_reward=0]"
     ]
    },
    {
     "name": "stdout",
     "output_type": "stream",
     "text": [
      "loss tf.Tensor(0.0, shape=(), dtype=float32)\n",
      "loss tf.Tensor(0.0, shape=(), dtype=float32)\n",
      "loss tf.Tensor(0.0, shape=(), dtype=float32)\n",
      "loss tf.Tensor(0.0, shape=(), dtype=float32)\n",
      "loss tf.Tensor(0.0, shape=(), dtype=float32)\n",
      "loss tf.Tensor(0.0, shape=(), dtype=float32)\n",
      "loss tf.Tensor(0.0, shape=(), dtype=float32)\n",
      "loss tf.Tensor(0.0, shape=(), dtype=float32)\n"
     ]
    },
    {
     "name": "stderr",
     "output_type": "stream",
     "text": [
      " 21%|██        | 2065/10000 [00:59<03:36, 36.57it/s, episode_reward=0, running_reward=0]"
     ]
    },
    {
     "name": "stdout",
     "output_type": "stream",
     "text": [
      "loss tf.Tensor(0.0, shape=(), dtype=float32)\n",
      "loss tf.Tensor(0.0, shape=(), dtype=float32)\n",
      "loss tf.Tensor(0.0, shape=(), dtype=float32)\n",
      "loss tf.Tensor(0.0, shape=(), dtype=float32)\n",
      "loss tf.Tensor(0.0, shape=(), dtype=float32)\n",
      "loss tf.Tensor(0.0, shape=(), dtype=float32)\n",
      "loss tf.Tensor(0.0, shape=(), dtype=float32)\n",
      "loss tf.Tensor(0.0, shape=(), dtype=float32)\n"
     ]
    },
    {
     "name": "stderr",
     "output_type": "stream",
     "text": [
      " 21%|██        | 2073/10000 [01:00<04:46, 27.71it/s, episode_reward=0, running_reward=0]"
     ]
    },
    {
     "name": "stdout",
     "output_type": "stream",
     "text": [
      "loss tf.Tensor(0.0, shape=(), dtype=float32)\n",
      "loss tf.Tensor(0.0, shape=(), dtype=float32)\n",
      "loss tf.Tensor(0.0, shape=(), dtype=float32)\n",
      "loss tf.Tensor(0.0, shape=(), dtype=float32)\n",
      "loss tf.Tensor(0.0, shape=(), dtype=float32)\n",
      "loss tf.Tensor(0.0, shape=(), dtype=float32)\n",
      "loss tf.Tensor(0.0, shape=(), dtype=float32)\n",
      "loss tf.Tensor(0.0, shape=(), dtype=float32)\n"
     ]
    },
    {
     "name": "stderr",
     "output_type": "stream",
     "text": [
      " 21%|██        | 2081/10000 [01:00<04:10, 31.67it/s, episode_reward=0, running_reward=0]"
     ]
    },
    {
     "name": "stdout",
     "output_type": "stream",
     "text": [
      "loss tf.Tensor(0.0, shape=(), dtype=float32)\n",
      "loss tf.Tensor(0.0, shape=(), dtype=float32)\n",
      "loss tf.Tensor(0.0, shape=(), dtype=float32)\n",
      "loss tf.Tensor(0.0, shape=(), dtype=float32)\n",
      "loss tf.Tensor(0.0, shape=(), dtype=float32)\n",
      "loss tf.Tensor(0.0, shape=(), dtype=float32)\n",
      "loss tf.Tensor(0.0, shape=(), dtype=float32)\n",
      "loss tf.Tensor(0.0, shape=(), dtype=float32)\n"
     ]
    },
    {
     "name": "stderr",
     "output_type": "stream",
     "text": [
      " 21%|██        | 2089/10000 [01:00<04:00, 32.83it/s, episode_reward=0, running_reward=0]"
     ]
    },
    {
     "name": "stdout",
     "output_type": "stream",
     "text": [
      "loss tf.Tensor(0.0, shape=(), dtype=float32)\n",
      "loss tf.Tensor(0.0, shape=(), dtype=float32)\n",
      "loss tf.Tensor(0.0, shape=(), dtype=float32)\n",
      "loss tf.Tensor(0.0, shape=(), dtype=float32)\n",
      "loss tf.Tensor(0.0, shape=(), dtype=float32)\n",
      "loss tf.Tensor(0.0, shape=(), dtype=float32)\n",
      "loss tf.Tensor(0.0, shape=(), dtype=float32)\n"
     ]
    },
    {
     "name": "stderr",
     "output_type": "stream",
     "text": [
      " 21%|██        | 2097/10000 [01:00<03:46, 34.84it/s, episode_reward=0, running_reward=0]"
     ]
    },
    {
     "name": "stdout",
     "output_type": "stream",
     "text": [
      "loss tf.Tensor(0.0, shape=(), dtype=float32)\n",
      "loss tf.Tensor(0.0, shape=(), dtype=float32)\n",
      "loss tf.Tensor(0.0, shape=(), dtype=float32)\n",
      "loss tf.Tensor(0.0, shape=(), dtype=float32)\n",
      "loss tf.Tensor(0.0, shape=(), dtype=float32)\n",
      "loss tf.Tensor(0.0, shape=(), dtype=float32)\n",
      "loss tf.Tensor(0.0, shape=(), dtype=float32)\n",
      "loss tf.Tensor(0.0, shape=(), dtype=float32)\n"
     ]
    },
    {
     "name": "stderr",
     "output_type": "stream",
     "text": [
      " 21%|██        | 2105/10000 [01:00<03:41, 35.72it/s, episode_reward=0, running_reward=0]"
     ]
    },
    {
     "name": "stdout",
     "output_type": "stream",
     "text": [
      "loss tf.Tensor(0.0, shape=(), dtype=float32)\n",
      "loss tf.Tensor(0.0, shape=(), dtype=float32)\n",
      "loss tf.Tensor(0.0, shape=(), dtype=float32)\n",
      "loss tf.Tensor(0.0, shape=(), dtype=float32)\n",
      "loss tf.Tensor(0.0, shape=(), dtype=float32)\n",
      "loss tf.Tensor(0.0, shape=(), dtype=float32)\n",
      "loss tf.Tensor(0.0, shape=(), dtype=float32)\n",
      "loss tf.Tensor(0.0, shape=(), dtype=float32)\n"
     ]
    },
    {
     "name": "stderr",
     "output_type": "stream",
     "text": [
      " 21%|██        | 2113/10000 [01:01<03:36, 36.39it/s, episode_reward=0, running_reward=0]"
     ]
    },
    {
     "name": "stdout",
     "output_type": "stream",
     "text": [
      "loss tf.Tensor(0.0, shape=(), dtype=float32)\n",
      "loss tf.Tensor(0.0, shape=(), dtype=float32)\n",
      "loss tf.Tensor(0.0, shape=(), dtype=float32)\n",
      "loss tf.Tensor(0.0, shape=(), dtype=float32)\n",
      "loss tf.Tensor(0.0, shape=(), dtype=float32)\n",
      "loss tf.Tensor(0.0, shape=(), dtype=float32)\n",
      "loss tf.Tensor(0.0, shape=(), dtype=float32)\n",
      "loss tf.Tensor(0.0, shape=(), dtype=float32)\n"
     ]
    },
    {
     "name": "stderr",
     "output_type": "stream",
     "text": [
      " 21%|██        | 2121/10000 [01:01<03:51, 34.10it/s, episode_reward=0, running_reward=0]"
     ]
    },
    {
     "name": "stdout",
     "output_type": "stream",
     "text": [
      "loss tf.Tensor(0.0, shape=(), dtype=float32)\n",
      "loss tf.Tensor(0.0, shape=(), dtype=float32)\n",
      "loss tf.Tensor(0.0, shape=(), dtype=float32)\n",
      "loss tf.Tensor(0.0, shape=(), dtype=float32)\n",
      "loss tf.Tensor(0.0, shape=(), dtype=float32)\n",
      "loss tf.Tensor(0.0, shape=(), dtype=float32)\n",
      "loss tf.Tensor(0.0, shape=(), dtype=float32)\n"
     ]
    },
    {
     "name": "stderr",
     "output_type": "stream",
     "text": [
      " 21%|██▏       | 2125/10000 [01:01<04:01, 32.66it/s, episode_reward=0, running_reward=0]"
     ]
    },
    {
     "name": "stdout",
     "output_type": "stream",
     "text": [
      "loss tf.Tensor(0.0, shape=(), dtype=float32)\n",
      "loss tf.Tensor(0.0, shape=(), dtype=float32)\n",
      "loss tf.Tensor(0.0, shape=(), dtype=float32)\n",
      "loss tf.Tensor(0.0, shape=(), dtype=float32)\n",
      "loss tf.Tensor(0.0, shape=(), dtype=float32)\n",
      "loss tf.Tensor(0.0, shape=(), dtype=float32)\n",
      "loss tf.Tensor(0.0, shape=(), dtype=float32)\n"
     ]
    },
    {
     "name": "stderr",
     "output_type": "stream",
     "text": [
      " 21%|██▏       | 2133/10000 [01:01<04:09, 31.59it/s, episode_reward=0, running_reward=0]"
     ]
    },
    {
     "name": "stdout",
     "output_type": "stream",
     "text": [
      "loss tf.Tensor(0.0, shape=(), dtype=float32)\n",
      "loss tf.Tensor(0.0, shape=(), dtype=float32)\n",
      "loss tf.Tensor(0.0, shape=(), dtype=float32)\n",
      "loss tf.Tensor(0.0, shape=(), dtype=float32)\n",
      "loss tf.Tensor(0.0, shape=(), dtype=float32)\n",
      "loss tf.Tensor(0.0, shape=(), dtype=float32)\n",
      "loss tf.Tensor(0.0, shape=(), dtype=float32)\n"
     ]
    },
    {
     "name": "stderr",
     "output_type": "stream",
     "text": [
      " 21%|██▏       | 2141/10000 [01:02<04:12, 31.18it/s, episode_reward=0, running_reward=0]"
     ]
    },
    {
     "name": "stdout",
     "output_type": "stream",
     "text": [
      "loss tf.Tensor(0.0, shape=(), dtype=float32)\n",
      "loss tf.Tensor(0.0, shape=(), dtype=float32)\n",
      "loss tf.Tensor(0.0, shape=(), dtype=float32)\n",
      "loss tf.Tensor(0.0, shape=(), dtype=float32)\n",
      "loss tf.Tensor(0.0, shape=(), dtype=float32)\n",
      "loss tf.Tensor(0.0, shape=(), dtype=float32)\n",
      "loss tf.Tensor(0.0, shape=(), dtype=float32)\n"
     ]
    },
    {
     "name": "stderr",
     "output_type": "stream",
     "text": [
      " 21%|██▏       | 2149/10000 [01:02<04:14, 30.83it/s, episode_reward=0, running_reward=0]"
     ]
    },
    {
     "name": "stdout",
     "output_type": "stream",
     "text": [
      "loss tf.Tensor(0.0, shape=(), dtype=float32)\n",
      "loss tf.Tensor(0.0, shape=(), dtype=float32)\n",
      "loss tf.Tensor(0.0, shape=(), dtype=float32)\n",
      "loss tf.Tensor(0.0, shape=(), dtype=float32)\n",
      "loss tf.Tensor(0.0, shape=(), dtype=float32)\n",
      "loss tf.Tensor(0.0, shape=(), dtype=float32)\n",
      "loss tf.Tensor(0.0, shape=(), dtype=float32)\n"
     ]
    },
    {
     "name": "stderr",
     "output_type": "stream",
     "text": [
      " 22%|██▏       | 2153/10000 [01:02<04:17, 30.44it/s, episode_reward=0, running_reward=0]"
     ]
    },
    {
     "name": "stdout",
     "output_type": "stream",
     "text": [
      "loss tf.Tensor(0.0, shape=(), dtype=float32)\n",
      "loss tf.Tensor(0.0, shape=(), dtype=float32)\n",
      "loss tf.Tensor(0.0, shape=(), dtype=float32)\n",
      "loss tf.Tensor(0.0, shape=(), dtype=float32)\n",
      "loss tf.Tensor(0.0, shape=(), dtype=float32)\n",
      "loss tf.Tensor(0.0, shape=(), dtype=float32)\n",
      "loss tf.Tensor(0.0, shape=(), dtype=float32)\n"
     ]
    },
    {
     "name": "stderr",
     "output_type": "stream",
     "text": [
      " 22%|██▏       | 2157/10000 [01:02<04:19, 30.19it/s, episode_reward=0, running_reward=0]"
     ]
    },
    {
     "name": "stdout",
     "output_type": "stream",
     "text": [
      "loss tf.Tensor(0.0, shape=(), dtype=float32)\n",
      "loss tf.Tensor(0.0, shape=(), dtype=float32)\n"
     ]
    },
    {
     "name": "stderr",
     "output_type": "stream",
     "text": [
      " 22%|██▏       | 2161/10000 [01:02<05:53, 22.17it/s, episode_reward=0, running_reward=0]"
     ]
    },
    {
     "name": "stdout",
     "output_type": "stream",
     "text": [
      "loss tf.Tensor(0.0, shape=(), dtype=float32)\n",
      "loss tf.Tensor(0.0, shape=(), dtype=float32)\n",
      "loss tf.Tensor(0.0, shape=(), dtype=float32)\n",
      "loss tf.Tensor(0.0, shape=(), dtype=float32)\n",
      "loss tf.Tensor(0.0, shape=(), dtype=float32)\n",
      "loss tf.Tensor(0.0, shape=(), dtype=float32)\n"
     ]
    },
    {
     "name": "stderr",
     "output_type": "stream",
     "text": [
      " 22%|██▏       | 2169/10000 [01:03<05:00, 26.06it/s, episode_reward=0, running_reward=0]"
     ]
    },
    {
     "name": "stdout",
     "output_type": "stream",
     "text": [
      "loss tf.Tensor(0.0, shape=(), dtype=float32)\n",
      "loss tf.Tensor(0.0, shape=(), dtype=float32)\n",
      "loss tf.Tensor(0.0, shape=(), dtype=float32)\n",
      "loss tf.Tensor(0.0, shape=(), dtype=float32)\n",
      "loss tf.Tensor(0.0, shape=(), dtype=float32)\n",
      "loss tf.Tensor(0.0, shape=(), dtype=float32)\n"
     ]
    },
    {
     "name": "stderr",
     "output_type": "stream",
     "text": [
      " 22%|██▏       | 2175/10000 [01:03<05:03, 25.82it/s, episode_reward=0, running_reward=0]"
     ]
    },
    {
     "name": "stdout",
     "output_type": "stream",
     "text": [
      "loss tf.Tensor(0.0, shape=(), dtype=float32)\n",
      "loss tf.Tensor(0.0, shape=(), dtype=float32)\n",
      "loss tf.Tensor(0.0, shape=(), dtype=float32)\n",
      "loss tf.Tensor(0.0, shape=(), dtype=float32)\n",
      "loss tf.Tensor(0.0, shape=(), dtype=float32)\n",
      "loss tf.Tensor(0.0, shape=(), dtype=float32)\n"
     ]
    },
    {
     "name": "stderr",
     "output_type": "stream",
     "text": [
      " 22%|██▏       | 2181/10000 [01:03<05:03, 25.77it/s, episode_reward=0, running_reward=0]"
     ]
    },
    {
     "name": "stdout",
     "output_type": "stream",
     "text": [
      "loss tf.Tensor(0.0, shape=(), dtype=float32)\n",
      "loss tf.Tensor(0.0, shape=(), dtype=float32)\n",
      "loss tf.Tensor(0.0, shape=(), dtype=float32)\n",
      "loss tf.Tensor(0.0, shape=(), dtype=float32)\n",
      "loss tf.Tensor(0.0, shape=(), dtype=float32)\n",
      "loss tf.Tensor(0.0, shape=(), dtype=float32)\n"
     ]
    },
    {
     "name": "stderr",
     "output_type": "stream",
     "text": [
      " 22%|██▏       | 2188/10000 [01:03<04:49, 26.97it/s, episode_reward=0, running_reward=0]"
     ]
    },
    {
     "name": "stdout",
     "output_type": "stream",
     "text": [
      "loss tf.Tensor(0.0, shape=(), dtype=float32)\n",
      "loss tf.Tensor(0.0, shape=(), dtype=float32)\n",
      "loss tf.Tensor(0.0, shape=(), dtype=float32)\n",
      "loss tf.Tensor(0.0, shape=(), dtype=float32)\n",
      "loss tf.Tensor(0.0, shape=(), dtype=float32)\n",
      "loss tf.Tensor(0.0, shape=(), dtype=float32)\n"
     ]
    },
    {
     "name": "stderr",
     "output_type": "stream",
     "text": [
      " 22%|██▏       | 2195/10000 [01:04<04:26, 29.26it/s, episode_reward=0, running_reward=0]"
     ]
    },
    {
     "name": "stdout",
     "output_type": "stream",
     "text": [
      "loss tf.Tensor(0.0, shape=(), dtype=float32)\n",
      "loss tf.Tensor(0.0, shape=(), dtype=float32)\n",
      "loss tf.Tensor(0.0, shape=(), dtype=float32)\n",
      "loss tf.Tensor(0.0, shape=(), dtype=float32)\n",
      "loss tf.Tensor(0.0, shape=(), dtype=float32)\n",
      "loss tf.Tensor(0.0, shape=(), dtype=float32)\n",
      "loss tf.Tensor(0.0, shape=(), dtype=float32)\n"
     ]
    },
    {
     "name": "stderr",
     "output_type": "stream",
     "text": [
      " 22%|██▏       | 2203/10000 [01:04<03:57, 32.89it/s, episode_reward=0, running_reward=0]"
     ]
    },
    {
     "name": "stdout",
     "output_type": "stream",
     "text": [
      "loss tf.Tensor(0.0, shape=(), dtype=float32)\n",
      "loss tf.Tensor(0.0, shape=(), dtype=float32)\n",
      "loss tf.Tensor(0.0, shape=(), dtype=float32)\n",
      "loss tf.Tensor(0.0, shape=(), dtype=float32)\n",
      "loss tf.Tensor(0.0, shape=(), dtype=float32)\n",
      "loss tf.Tensor(0.0, shape=(), dtype=float32)\n",
      "loss tf.Tensor(0.0, shape=(), dtype=float32)\n",
      "loss tf.Tensor(0.0, shape=(), dtype=float32)\n"
     ]
    },
    {
     "name": "stderr",
     "output_type": "stream",
     "text": [
      " 22%|██▏       | 2211/10000 [01:04<03:44, 34.74it/s, episode_reward=0, running_reward=0]"
     ]
    },
    {
     "name": "stdout",
     "output_type": "stream",
     "text": [
      "loss tf.Tensor(0.0, shape=(), dtype=float32)\n",
      "loss tf.Tensor(0.0, shape=(), dtype=float32)\n",
      "loss tf.Tensor(0.0, shape=(), dtype=float32)\n",
      "loss tf.Tensor(0.0, shape=(), dtype=float32)\n",
      "loss tf.Tensor(0.0, shape=(), dtype=float32)\n",
      "loss tf.Tensor(0.0, shape=(), dtype=float32)\n",
      "loss tf.Tensor(0.0, shape=(), dtype=float32)\n",
      "loss tf.Tensor(0.0, shape=(), dtype=float32)\n"
     ]
    },
    {
     "name": "stderr",
     "output_type": "stream",
     "text": [
      " 22%|██▏       | 2219/10000 [01:04<03:40, 35.35it/s, episode_reward=0, running_reward=0]"
     ]
    },
    {
     "name": "stdout",
     "output_type": "stream",
     "text": [
      "loss tf.Tensor(0.0, shape=(), dtype=float32)\n",
      "loss tf.Tensor(0.0, shape=(), dtype=float32)\n",
      "loss tf.Tensor(0.0, shape=(), dtype=float32)\n",
      "loss tf.Tensor(0.0, shape=(), dtype=float32)\n",
      "loss tf.Tensor(0.0, shape=(), dtype=float32)\n",
      "loss tf.Tensor(0.0, shape=(), dtype=float32)\n",
      "loss tf.Tensor(0.0, shape=(), dtype=float32)\n",
      "loss tf.Tensor(0.0, shape=(), dtype=float32)\n"
     ]
    },
    {
     "name": "stderr",
     "output_type": "stream",
     "text": [
      " 22%|██▏       | 2227/10000 [01:04<03:37, 35.77it/s, episode_reward=0, running_reward=0]"
     ]
    },
    {
     "name": "stdout",
     "output_type": "stream",
     "text": [
      "loss tf.Tensor(0.0, shape=(), dtype=float32)\n",
      "loss tf.Tensor(0.0, shape=(), dtype=float32)\n",
      "loss tf.Tensor(0.0, shape=(), dtype=float32)\n",
      "loss tf.Tensor(0.0, shape=(), dtype=float32)\n",
      "loss tf.Tensor(0.0, shape=(), dtype=float32)\n",
      "loss tf.Tensor(0.0, shape=(), dtype=float32)\n",
      "loss tf.Tensor(0.0, shape=(), dtype=float32)\n",
      "loss tf.Tensor(0.0, shape=(), dtype=float32)\n"
     ]
    },
    {
     "name": "stderr",
     "output_type": "stream",
     "text": [
      " 22%|██▏       | 2235/10000 [01:05<03:36, 35.94it/s, episode_reward=0, running_reward=0]"
     ]
    },
    {
     "name": "stdout",
     "output_type": "stream",
     "text": [
      "loss tf.Tensor(0.0, shape=(), dtype=float32)\n",
      "loss tf.Tensor(0.0, shape=(), dtype=float32)\n",
      "loss tf.Tensor(0.0, shape=(), dtype=float32)\n",
      "loss tf.Tensor(0.0, shape=(), dtype=float32)\n",
      "loss tf.Tensor(0.0, shape=(), dtype=float32)\n",
      "loss tf.Tensor(0.0, shape=(), dtype=float32)\n",
      "loss tf.Tensor(0.0, shape=(), dtype=float32)\n",
      "loss tf.Tensor(0.0, shape=(), dtype=float32)\n"
     ]
    },
    {
     "name": "stderr",
     "output_type": "stream",
     "text": [
      " 22%|██▏       | 2243/10000 [01:05<03:35, 36.04it/s, episode_reward=0, running_reward=0]"
     ]
    },
    {
     "name": "stdout",
     "output_type": "stream",
     "text": [
      "loss tf.Tensor(0.0, shape=(), dtype=float32)\n",
      "loss tf.Tensor(0.0, shape=(), dtype=float32)\n",
      "loss tf.Tensor(0.0, shape=(), dtype=float32)\n",
      "loss tf.Tensor(0.0, shape=(), dtype=float32)\n",
      "loss tf.Tensor(0.0, shape=(), dtype=float32)\n",
      "loss tf.Tensor(0.0, shape=(), dtype=float32)\n",
      "loss tf.Tensor(0.0, shape=(), dtype=float32)\n",
      "loss tf.Tensor(0.0, shape=(), dtype=float32)\n"
     ]
    },
    {
     "name": "stderr",
     "output_type": "stream",
     "text": [
      " 23%|██▎       | 2251/10000 [01:05<03:33, 36.21it/s, episode_reward=0, running_reward=0]"
     ]
    },
    {
     "name": "stdout",
     "output_type": "stream",
     "text": [
      "loss tf.Tensor(0.0, shape=(), dtype=float32)\n",
      "loss tf.Tensor(0.0, shape=(), dtype=float32)\n",
      "loss tf.Tensor(0.0, shape=(), dtype=float32)\n",
      "loss tf.Tensor(0.0, shape=(), dtype=float32)\n",
      "loss tf.Tensor(0.0, shape=(), dtype=float32)\n",
      "loss tf.Tensor(0.0, shape=(), dtype=float32)\n",
      "loss tf.Tensor(0.0, shape=(), dtype=float32)\n",
      "loss tf.Tensor(0.0, shape=(), dtype=float32)\n"
     ]
    },
    {
     "name": "stderr",
     "output_type": "stream",
     "text": [
      " 23%|██▎       | 2259/10000 [01:05<03:34, 36.04it/s, episode_reward=0, running_reward=0]"
     ]
    },
    {
     "name": "stdout",
     "output_type": "stream",
     "text": [
      "loss tf.Tensor(0.0, shape=(), dtype=float32)\n",
      "loss tf.Tensor(0.0, shape=(), dtype=float32)\n",
      "loss tf.Tensor(0.0, shape=(), dtype=float32)\n",
      "loss tf.Tensor(0.0, shape=(), dtype=float32)\n",
      "loss tf.Tensor(0.0, shape=(), dtype=float32)\n",
      "loss tf.Tensor(0.0, shape=(), dtype=float32)\n",
      "loss tf.Tensor(0.0, shape=(), dtype=float32)\n",
      "loss tf.Tensor(0.0, shape=(), dtype=float32)\n"
     ]
    },
    {
     "name": "stderr",
     "output_type": "stream",
     "text": [
      " 23%|██▎       | 2263/10000 [01:06<04:29, 28.71it/s, episode_reward=0, running_reward=0]"
     ]
    },
    {
     "name": "stdout",
     "output_type": "stream",
     "text": [
      "loss tf.Tensor(0.0, shape=(), dtype=float32)\n",
      "loss tf.Tensor(0.0, shape=(), dtype=float32)\n",
      "loss tf.Tensor(0.0, shape=(), dtype=float32)\n",
      "loss tf.Tensor(0.0, shape=(), dtype=float32)\n"
     ]
    },
    {
     "name": "stderr",
     "output_type": "stream",
     "text": [
      " 23%|██▎       | 2267/10000 [01:06<04:36, 27.93it/s, episode_reward=0, running_reward=0]"
     ]
    },
    {
     "name": "stdout",
     "output_type": "stream",
     "text": [
      "loss tf.Tensor(0.0, shape=(), dtype=float32)\n",
      "loss tf.Tensor(0.0, shape=(), dtype=float32)\n",
      "loss tf.Tensor(0.0, shape=(), dtype=float32)\n",
      "loss tf.Tensor(0.0, shape=(), dtype=float32)\n",
      "loss tf.Tensor(0.0, shape=(), dtype=float32)\n",
      "loss tf.Tensor(0.0, shape=(), dtype=float32)\n",
      "loss tf.Tensor(0.0, shape=(), dtype=float32)\n"
     ]
    },
    {
     "name": "stderr",
     "output_type": "stream",
     "text": [
      " 23%|██▎       | 2275/10000 [01:06<04:07, 31.17it/s, episode_reward=0, running_reward=0]"
     ]
    },
    {
     "name": "stdout",
     "output_type": "stream",
     "text": [
      "loss tf.Tensor(0.0, shape=(), dtype=float32)\n",
      "loss tf.Tensor(0.0, shape=(), dtype=float32)\n",
      "loss tf.Tensor(0.0, shape=(), dtype=float32)\n",
      "loss tf.Tensor(0.0, shape=(), dtype=float32)\n",
      "loss tf.Tensor(0.0, shape=(), dtype=float32)\n",
      "loss tf.Tensor(0.0, shape=(), dtype=float32)\n",
      "loss tf.Tensor(0.0, shape=(), dtype=float32)\n"
     ]
    },
    {
     "name": "stderr",
     "output_type": "stream",
     "text": [
      " 23%|██▎       | 2279/10000 [01:06<04:50, 26.54it/s, episode_reward=0, running_reward=0]"
     ]
    },
    {
     "name": "stdout",
     "output_type": "stream",
     "text": [
      "loss tf.Tensor(0.0, shape=(), dtype=float32)\n",
      "loss tf.Tensor(0.0, shape=(), dtype=float32)\n",
      "loss tf.Tensor(0.0, shape=(), dtype=float32)\n",
      "loss tf.Tensor(0.0, shape=(), dtype=float32)\n"
     ]
    },
    {
     "name": "stderr",
     "output_type": "stream",
     "text": [
      " 23%|██▎       | 2285/10000 [01:07<05:39, 22.74it/s, episode_reward=0, running_reward=0]"
     ]
    },
    {
     "name": "stdout",
     "output_type": "stream",
     "text": [
      "loss tf.Tensor(0.0, shape=(), dtype=float32)\n",
      "loss tf.Tensor(0.0, shape=(), dtype=float32)\n",
      "loss tf.Tensor(0.0, shape=(), dtype=float32)\n",
      "loss tf.Tensor(0.0, shape=(), dtype=float32)\n",
      "loss tf.Tensor(0.0, shape=(), dtype=float32)\n"
     ]
    },
    {
     "name": "stderr",
     "output_type": "stream",
     "text": [
      " 23%|██▎       | 2292/10000 [01:07<04:42, 27.30it/s, episode_reward=0, running_reward=0]"
     ]
    },
    {
     "name": "stdout",
     "output_type": "stream",
     "text": [
      "loss tf.Tensor(0.0, shape=(), dtype=float32)\n",
      "loss tf.Tensor(0.0, shape=(), dtype=float32)\n",
      "loss tf.Tensor(0.0, shape=(), dtype=float32)\n",
      "loss tf.Tensor(0.0, shape=(), dtype=float32)\n",
      "loss tf.Tensor(0.0, shape=(), dtype=float32)\n",
      "loss tf.Tensor(0.0, shape=(), dtype=float32)\n",
      "loss tf.Tensor(0.0, shape=(), dtype=float32)\n",
      "loss tf.Tensor(0.0, shape=(), dtype=float32)\n"
     ]
    },
    {
     "name": "stderr",
     "output_type": "stream",
     "text": [
      " 23%|██▎       | 2300/10000 [01:07<04:03, 31.62it/s, episode_reward=0, running_reward=0]"
     ]
    },
    {
     "name": "stdout",
     "output_type": "stream",
     "text": [
      "loss tf.Tensor(0.0, shape=(), dtype=float32)\n",
      "loss tf.Tensor(0.0, shape=(), dtype=float32)\n",
      "loss tf.Tensor(0.0, shape=(), dtype=float32)\n",
      "loss tf.Tensor(0.0, shape=(), dtype=float32)\n",
      "loss tf.Tensor(0.0, shape=(), dtype=float32)\n",
      "loss tf.Tensor(0.0, shape=(), dtype=float32)\n",
      "loss tf.Tensor(0.0, shape=(), dtype=float32)\n",
      "loss tf.Tensor(0.0, shape=(), dtype=float32)\n"
     ]
    },
    {
     "name": "stderr",
     "output_type": "stream",
     "text": [
      " 23%|██▎       | 2308/10000 [01:07<03:45, 34.10it/s, episode_reward=0, running_reward=0]"
     ]
    },
    {
     "name": "stdout",
     "output_type": "stream",
     "text": [
      "loss tf.Tensor(0.0, shape=(), dtype=float32)\n",
      "loss tf.Tensor(0.0, shape=(), dtype=float32)\n",
      "loss tf.Tensor(0.0, shape=(), dtype=float32)\n",
      "loss tf.Tensor(0.0, shape=(), dtype=float32)\n",
      "loss tf.Tensor(0.0, shape=(), dtype=float32)\n",
      "loss tf.Tensor(0.0, shape=(), dtype=float32)\n",
      "loss tf.Tensor(0.0, shape=(), dtype=float32)\n",
      "loss tf.Tensor(0.0, shape=(), dtype=float32)\n"
     ]
    },
    {
     "name": "stderr",
     "output_type": "stream",
     "text": [
      " 23%|██▎       | 2316/10000 [01:07<03:44, 34.30it/s, episode_reward=0, running_reward=0]"
     ]
    },
    {
     "name": "stdout",
     "output_type": "stream",
     "text": [
      "loss tf.Tensor(0.0, shape=(), dtype=float32)\n",
      "loss tf.Tensor(0.0, shape=(), dtype=float32)\n",
      "loss tf.Tensor(0.0, shape=(), dtype=float32)\n",
      "loss tf.Tensor(0.0, shape=(), dtype=float32)\n",
      "loss tf.Tensor(0.0, shape=(), dtype=float32)\n",
      "loss tf.Tensor(0.0, shape=(), dtype=float32)\n",
      "loss tf.Tensor(0.0, shape=(), dtype=float32)\n",
      "loss tf.Tensor(0.0, shape=(), dtype=float32)\n"
     ]
    },
    {
     "name": "stderr",
     "output_type": "stream",
     "text": [
      " 23%|██▎       | 2324/10000 [01:08<03:37, 35.34it/s, episode_reward=0, running_reward=0]"
     ]
    },
    {
     "name": "stdout",
     "output_type": "stream",
     "text": [
      "loss tf.Tensor(0.0, shape=(), dtype=float32)\n",
      "loss tf.Tensor(0.0, shape=(), dtype=float32)\n",
      "loss tf.Tensor(0.0, shape=(), dtype=float32)\n",
      "loss tf.Tensor(0.0, shape=(), dtype=float32)\n",
      "loss tf.Tensor(0.0, shape=(), dtype=float32)\n",
      "loss tf.Tensor(0.0, shape=(), dtype=float32)\n",
      "loss tf.Tensor(0.0, shape=(), dtype=float32)\n",
      "loss tf.Tensor(0.0, shape=(), dtype=float32)\n"
     ]
    },
    {
     "name": "stderr",
     "output_type": "stream",
     "text": [
      " 23%|██▎       | 2332/10000 [01:08<03:34, 35.75it/s, episode_reward=0, running_reward=0]"
     ]
    },
    {
     "name": "stdout",
     "output_type": "stream",
     "text": [
      "loss tf.Tensor(0.0, shape=(), dtype=float32)\n",
      "loss tf.Tensor(0.0, shape=(), dtype=float32)\n",
      "loss tf.Tensor(0.0, shape=(), dtype=float32)\n",
      "loss tf.Tensor(0.0, shape=(), dtype=float32)\n",
      "loss tf.Tensor(0.0, shape=(), dtype=float32)\n",
      "loss tf.Tensor(0.0, shape=(), dtype=float32)\n",
      "loss tf.Tensor(0.0, shape=(), dtype=float32)\n",
      "loss tf.Tensor(0.0, shape=(), dtype=float32)\n"
     ]
    },
    {
     "name": "stderr",
     "output_type": "stream",
     "text": [
      " 23%|██▎       | 2340/10000 [01:08<03:30, 36.38it/s, episode_reward=0, running_reward=0]"
     ]
    },
    {
     "name": "stdout",
     "output_type": "stream",
     "text": [
      "loss tf.Tensor(0.0, shape=(), dtype=float32)\n",
      "loss tf.Tensor(0.0, shape=(), dtype=float32)\n",
      "loss tf.Tensor(0.0, shape=(), dtype=float32)\n",
      "loss tf.Tensor(0.0, shape=(), dtype=float32)\n",
      "loss tf.Tensor(0.0, shape=(), dtype=float32)\n",
      "loss tf.Tensor(0.0, shape=(), dtype=float32)\n",
      "loss tf.Tensor(0.0, shape=(), dtype=float32)\n",
      "loss tf.Tensor(0.0, shape=(), dtype=float32)\n"
     ]
    },
    {
     "name": "stderr",
     "output_type": "stream",
     "text": [
      " 23%|██▎       | 2348/10000 [01:08<03:29, 36.57it/s, episode_reward=0, running_reward=0]"
     ]
    },
    {
     "name": "stdout",
     "output_type": "stream",
     "text": [
      "loss tf.Tensor(0.0, shape=(), dtype=float32)\n",
      "loss tf.Tensor(0.0, shape=(), dtype=float32)\n",
      "loss tf.Tensor(0.0, shape=(), dtype=float32)\n",
      "loss tf.Tensor(0.0, shape=(), dtype=float32)\n",
      "loss tf.Tensor(0.0, shape=(), dtype=float32)\n",
      "loss tf.Tensor(0.0, shape=(), dtype=float32)\n",
      "loss tf.Tensor(0.0, shape=(), dtype=float32)\n",
      "loss tf.Tensor(0.0, shape=(), dtype=float32)\n"
     ]
    },
    {
     "name": "stderr",
     "output_type": "stream",
     "text": [
      " 24%|██▎       | 2356/10000 [01:09<03:29, 36.48it/s, episode_reward=0, running_reward=0]"
     ]
    },
    {
     "name": "stdout",
     "output_type": "stream",
     "text": [
      "loss tf.Tensor(0.0, shape=(), dtype=float32)\n",
      "loss tf.Tensor(0.0, shape=(), dtype=float32)\n",
      "loss tf.Tensor(0.0, shape=(), dtype=float32)\n",
      "loss tf.Tensor(0.0, shape=(), dtype=float32)\n",
      "loss tf.Tensor(0.0, shape=(), dtype=float32)\n",
      "loss tf.Tensor(0.0, shape=(), dtype=float32)\n",
      "loss tf.Tensor(0.0, shape=(), dtype=float32)\n",
      "loss tf.Tensor(0.0, shape=(), dtype=float32)\n"
     ]
    },
    {
     "name": "stderr",
     "output_type": "stream",
     "text": [
      " 24%|██▎       | 2364/10000 [01:09<03:29, 36.41it/s, episode_reward=0, running_reward=0]"
     ]
    },
    {
     "name": "stdout",
     "output_type": "stream",
     "text": [
      "loss tf.Tensor(0.0, shape=(), dtype=float32)\n",
      "loss tf.Tensor(0.0, shape=(), dtype=float32)\n",
      "loss tf.Tensor(0.0, shape=(), dtype=float32)\n",
      "loss tf.Tensor(0.0, shape=(), dtype=float32)\n",
      "loss tf.Tensor(0.0, shape=(), dtype=float32)\n",
      "loss tf.Tensor(0.0, shape=(), dtype=float32)\n",
      "loss tf.Tensor(0.0, shape=(), dtype=float32)\n",
      "loss tf.Tensor(0.0, shape=(), dtype=float32)\n"
     ]
    },
    {
     "name": "stderr",
     "output_type": "stream",
     "text": [
      " 24%|██▎       | 2368/10000 [01:09<03:32, 35.85it/s, episode_reward=0, running_reward=0]"
     ]
    },
    {
     "name": "stdout",
     "output_type": "stream",
     "text": [
      "loss tf.Tensor(0.0, shape=(), dtype=float32)\n",
      "loss tf.Tensor(0.0, shape=(), dtype=float32)\n",
      "loss tf.Tensor(0.0, shape=(), dtype=float32)\n",
      "loss tf.Tensor(0.0, shape=(), dtype=float32)\n",
      "loss tf.Tensor(0.0, shape=(), dtype=float32)\n"
     ]
    },
    {
     "name": "stderr",
     "output_type": "stream",
     "text": [
      " 24%|██▍       | 2376/10000 [01:09<04:41, 27.09it/s, episode_reward=0, running_reward=0]"
     ]
    },
    {
     "name": "stdout",
     "output_type": "stream",
     "text": [
      "loss tf.Tensor(0.0, shape=(), dtype=float32)\n",
      "loss tf.Tensor(0.0, shape=(), dtype=float32)\n",
      "loss tf.Tensor(0.0, shape=(), dtype=float32)\n",
      "loss tf.Tensor(0.0, shape=(), dtype=float32)\n",
      "loss tf.Tensor(0.0, shape=(), dtype=float32)\n",
      "loss tf.Tensor(0.0, shape=(), dtype=float32)\n",
      "loss tf.Tensor(0.0, shape=(), dtype=float32)\n",
      "loss tf.Tensor(0.0, shape=(), dtype=float32)\n"
     ]
    },
    {
     "name": "stderr",
     "output_type": "stream",
     "text": [
      " 24%|██▍       | 2384/10000 [01:09<04:06, 30.89it/s, episode_reward=0, running_reward=0]"
     ]
    },
    {
     "name": "stdout",
     "output_type": "stream",
     "text": [
      "loss tf.Tensor(0.0, shape=(), dtype=float32)\n",
      "loss tf.Tensor(0.0, shape=(), dtype=float32)\n",
      "loss tf.Tensor(0.0, shape=(), dtype=float32)\n",
      "loss tf.Tensor(0.0, shape=(), dtype=float32)\n",
      "loss tf.Tensor(0.0, shape=(), dtype=float32)\n",
      "loss tf.Tensor(0.0, shape=(), dtype=float32)\n",
      "loss tf.Tensor(0.0, shape=(), dtype=float32)\n",
      "loss tf.Tensor(0.0, shape=(), dtype=float32)\n"
     ]
    },
    {
     "name": "stderr",
     "output_type": "stream",
     "text": [
      " 24%|██▍       | 2392/10000 [01:10<03:45, 33.69it/s, episode_reward=0, running_reward=0]"
     ]
    },
    {
     "name": "stdout",
     "output_type": "stream",
     "text": [
      "loss tf.Tensor(0.0, shape=(), dtype=float32)\n",
      "loss tf.Tensor(0.0, shape=(), dtype=float32)\n",
      "loss tf.Tensor(0.0, shape=(), dtype=float32)\n",
      "loss tf.Tensor(0.0, shape=(), dtype=float32)\n",
      "loss tf.Tensor(0.0, shape=(), dtype=float32)\n",
      "loss tf.Tensor(0.0, shape=(), dtype=float32)\n",
      "loss tf.Tensor(0.0, shape=(), dtype=float32)\n",
      "loss tf.Tensor(0.0, shape=(), dtype=float32)\n"
     ]
    },
    {
     "name": "stderr",
     "output_type": "stream",
     "text": [
      " 24%|██▍       | 2400/10000 [01:10<03:36, 35.03it/s, episode_reward=0, running_reward=0]"
     ]
    },
    {
     "name": "stdout",
     "output_type": "stream",
     "text": [
      "loss tf.Tensor(0.0, shape=(), dtype=float32)\n",
      "loss tf.Tensor(0.0, shape=(), dtype=float32)\n",
      "loss tf.Tensor(0.0, shape=(), dtype=float32)\n",
      "loss tf.Tensor(0.0, shape=(), dtype=float32)\n",
      "loss tf.Tensor(0.0, shape=(), dtype=float32)\n",
      "loss tf.Tensor(0.0, shape=(), dtype=float32)\n",
      "loss tf.Tensor(0.0, shape=(), dtype=float32)\n",
      "loss tf.Tensor(0.0, shape=(), dtype=float32)\n"
     ]
    },
    {
     "name": "stderr",
     "output_type": "stream",
     "text": [
      " 24%|██▍       | 2408/10000 [01:10<03:33, 35.58it/s, episode_reward=0, running_reward=0]"
     ]
    },
    {
     "name": "stdout",
     "output_type": "stream",
     "text": [
      "loss tf.Tensor(0.0, shape=(), dtype=float32)\n",
      "loss tf.Tensor(0.0, shape=(), dtype=float32)\n",
      "loss tf.Tensor(0.0, shape=(), dtype=float32)\n",
      "loss tf.Tensor(0.0, shape=(), dtype=float32)\n",
      "loss tf.Tensor(0.0, shape=(), dtype=float32)\n",
      "loss tf.Tensor(0.0, shape=(), dtype=float32)\n",
      "loss tf.Tensor(0.0, shape=(), dtype=float32)\n",
      "loss tf.Tensor(0.0, shape=(), dtype=float32)\n"
     ]
    },
    {
     "name": "stderr",
     "output_type": "stream",
     "text": [
      " 24%|██▍       | 2416/10000 [01:10<03:31, 35.86it/s, episode_reward=0, running_reward=0]"
     ]
    },
    {
     "name": "stdout",
     "output_type": "stream",
     "text": [
      "loss tf.Tensor(0.0, shape=(), dtype=float32)\n",
      "loss tf.Tensor(0.0, shape=(), dtype=float32)\n",
      "loss tf.Tensor(0.0, shape=(), dtype=float32)\n",
      "loss tf.Tensor(0.0, shape=(), dtype=float32)\n",
      "loss tf.Tensor(0.0, shape=(), dtype=float32)\n",
      "loss tf.Tensor(0.0, shape=(), dtype=float32)\n",
      "loss tf.Tensor(0.0, shape=(), dtype=float32)\n",
      "loss tf.Tensor(0.0, shape=(), dtype=float32)\n"
     ]
    },
    {
     "name": "stderr",
     "output_type": "stream",
     "text": [
      " 24%|██▍       | 2424/10000 [01:11<03:29, 36.13it/s, episode_reward=0, running_reward=0]"
     ]
    },
    {
     "name": "stdout",
     "output_type": "stream",
     "text": [
      "loss tf.Tensor(0.0, shape=(), dtype=float32)\n",
      "loss tf.Tensor(0.0, shape=(), dtype=float32)\n",
      "loss tf.Tensor(0.0, shape=(), dtype=float32)\n",
      "loss tf.Tensor(0.0, shape=(), dtype=float32)\n",
      "loss tf.Tensor(0.0, shape=(), dtype=float32)\n",
      "loss tf.Tensor(0.0, shape=(), dtype=float32)\n",
      "loss tf.Tensor(0.0, shape=(), dtype=float32)\n",
      "loss tf.Tensor(0.0, shape=(), dtype=float32)\n"
     ]
    },
    {
     "name": "stderr",
     "output_type": "stream",
     "text": [
      " 24%|██▍       | 2432/10000 [01:11<03:27, 36.49it/s, episode_reward=0, running_reward=0]"
     ]
    },
    {
     "name": "stdout",
     "output_type": "stream",
     "text": [
      "loss tf.Tensor(0.0, shape=(), dtype=float32)\n",
      "loss tf.Tensor(0.0, shape=(), dtype=float32)\n",
      "loss tf.Tensor(0.0, shape=(), dtype=float32)\n",
      "loss tf.Tensor(0.0, shape=(), dtype=float32)\n",
      "loss tf.Tensor(0.0, shape=(), dtype=float32)\n",
      "loss tf.Tensor(0.0, shape=(), dtype=float32)\n",
      "loss tf.Tensor(0.0, shape=(), dtype=float32)\n",
      "loss tf.Tensor(0.0, shape=(), dtype=float32)\n"
     ]
    },
    {
     "name": "stderr",
     "output_type": "stream",
     "text": [
      " 24%|██▍       | 2440/10000 [01:11<03:28, 36.31it/s, episode_reward=0, running_reward=0]"
     ]
    },
    {
     "name": "stdout",
     "output_type": "stream",
     "text": [
      "loss tf.Tensor(0.0, shape=(), dtype=float32)\n",
      "loss tf.Tensor(0.0, shape=(), dtype=float32)\n",
      "loss tf.Tensor(0.0, shape=(), dtype=float32)\n",
      "loss tf.Tensor(0.0, shape=(), dtype=float32)\n",
      "loss tf.Tensor(0.0, shape=(), dtype=float32)\n",
      "loss tf.Tensor(0.0, shape=(), dtype=float32)\n",
      "loss tf.Tensor(0.0, shape=(), dtype=float32)\n",
      "loss tf.Tensor(0.0, shape=(), dtype=float32)\n"
     ]
    },
    {
     "name": "stderr",
     "output_type": "stream",
     "text": [
      " 24%|██▍       | 2448/10000 [01:11<03:28, 36.19it/s, episode_reward=0, running_reward=0]"
     ]
    },
    {
     "name": "stdout",
     "output_type": "stream",
     "text": [
      "loss tf.Tensor(0.0, shape=(), dtype=float32)\n",
      "loss tf.Tensor(0.0, shape=(), dtype=float32)\n",
      "loss tf.Tensor(0.0, shape=(), dtype=float32)\n",
      "loss tf.Tensor(0.0, shape=(), dtype=float32)\n",
      "loss tf.Tensor(0.0, shape=(), dtype=float32)\n",
      "loss tf.Tensor(0.0, shape=(), dtype=float32)\n",
      "loss tf.Tensor(0.0, shape=(), dtype=float32)\n",
      "loss tf.Tensor(0.0, shape=(), dtype=float32)\n"
     ]
    },
    {
     "name": "stderr",
     "output_type": "stream",
     "text": [
      " 25%|██▍       | 2456/10000 [01:11<03:29, 36.06it/s, episode_reward=0, running_reward=0]"
     ]
    },
    {
     "name": "stdout",
     "output_type": "stream",
     "text": [
      "loss tf.Tensor(0.0, shape=(), dtype=float32)\n",
      "loss tf.Tensor(0.0, shape=(), dtype=float32)\n",
      "loss tf.Tensor(0.0, shape=(), dtype=float32)\n",
      "loss tf.Tensor(0.0, shape=(), dtype=float32)\n",
      "loss tf.Tensor(0.0, shape=(), dtype=float32)\n",
      "loss tf.Tensor(0.0, shape=(), dtype=float32)\n",
      "loss tf.Tensor(0.0, shape=(), dtype=float32)\n",
      "loss tf.Tensor(0.0, shape=(), dtype=float32)\n"
     ]
    },
    {
     "name": "stderr",
     "output_type": "stream",
     "text": [
      " 25%|██▍       | 2464/10000 [01:12<03:27, 36.37it/s, episode_reward=0, running_reward=0]"
     ]
    },
    {
     "name": "stdout",
     "output_type": "stream",
     "text": [
      "loss tf.Tensor(0.0, shape=(), dtype=float32)\n",
      "loss tf.Tensor(0.0, shape=(), dtype=float32)\n",
      "loss tf.Tensor(0.0, shape=(), dtype=float32)\n",
      "loss tf.Tensor(0.0, shape=(), dtype=float32)\n",
      "loss tf.Tensor(0.0, shape=(), dtype=float32)\n",
      "loss tf.Tensor(0.0, shape=(), dtype=float32)\n",
      "loss tf.Tensor(0.0, shape=(), dtype=float32)\n",
      "loss tf.Tensor(0.0, shape=(), dtype=float32)\n"
     ]
    },
    {
     "name": "stderr",
     "output_type": "stream",
     "text": [
      " 25%|██▍       | 2472/10000 [01:12<03:27, 36.22it/s, episode_reward=0, running_reward=0]"
     ]
    },
    {
     "name": "stdout",
     "output_type": "stream",
     "text": [
      "loss tf.Tensor(0.0, shape=(), dtype=float32)\n",
      "loss tf.Tensor(0.0, shape=(), dtype=float32)\n",
      "loss tf.Tensor(0.0, shape=(), dtype=float32)\n",
      "loss tf.Tensor(0.0, shape=(), dtype=float32)\n",
      "loss tf.Tensor(0.0, shape=(), dtype=float32)\n"
     ]
    },
    {
     "name": "stderr",
     "output_type": "stream",
     "text": [
      " 25%|██▍       | 2476/10000 [01:12<04:43, 26.52it/s, episode_reward=0, running_reward=0]"
     ]
    },
    {
     "name": "stdout",
     "output_type": "stream",
     "text": [
      "loss tf.Tensor(0.0, shape=(), dtype=float32)\n",
      "loss tf.Tensor(0.0, shape=(), dtype=float32)\n",
      "loss tf.Tensor(0.0, shape=(), dtype=float32)\n",
      "loss tf.Tensor(0.0, shape=(), dtype=float32)\n",
      "loss tf.Tensor(0.0, shape=(), dtype=float32)\n",
      "loss tf.Tensor(0.0, shape=(), dtype=float32)\n",
      "loss tf.Tensor(0.0, shape=(), dtype=float32)\n"
     ]
    },
    {
     "name": "stderr",
     "output_type": "stream",
     "text": [
      " 25%|██▍       | 2484/10000 [01:12<04:07, 30.39it/s, episode_reward=0, running_reward=0]"
     ]
    },
    {
     "name": "stdout",
     "output_type": "stream",
     "text": [
      "loss tf.Tensor(0.0, shape=(), dtype=float32)\n",
      "loss tf.Tensor(0.0, shape=(), dtype=float32)\n",
      "loss tf.Tensor(0.0, shape=(), dtype=float32)\n",
      "loss tf.Tensor(0.0, shape=(), dtype=float32)\n",
      "loss tf.Tensor(0.0, shape=(), dtype=float32)\n",
      "loss tf.Tensor(0.0, shape=(), dtype=float32)\n",
      "loss tf.Tensor(0.0, shape=(), dtype=float32)\n",
      "loss tf.Tensor(0.0, shape=(), dtype=float32)\n"
     ]
    },
    {
     "name": "stderr",
     "output_type": "stream",
     "text": [
      " 25%|██▍       | 2492/10000 [01:13<03:48, 32.85it/s, episode_reward=0, running_reward=0]"
     ]
    },
    {
     "name": "stdout",
     "output_type": "stream",
     "text": [
      "loss tf.Tensor(0.0, shape=(), dtype=float32)\n",
      "loss tf.Tensor(0.0, shape=(), dtype=float32)\n",
      "loss tf.Tensor(0.0, shape=(), dtype=float32)\n",
      "loss tf.Tensor(0.0, shape=(), dtype=float32)\n",
      "loss tf.Tensor(0.0, shape=(), dtype=float32)\n",
      "loss tf.Tensor(0.0, shape=(), dtype=float32)\n",
      "loss tf.Tensor(0.0, shape=(), dtype=float32)\n",
      "loss tf.Tensor(0.0, shape=(), dtype=float32)\n"
     ]
    },
    {
     "name": "stderr",
     "output_type": "stream",
     "text": [
      " 25%|██▌       | 2500/10000 [01:13<03:34, 34.91it/s, episode_reward=0, running_reward=0]"
     ]
    },
    {
     "name": "stdout",
     "output_type": "stream",
     "text": [
      "loss tf.Tensor(0.0, shape=(), dtype=float32)\n",
      "loss tf.Tensor(0.0, shape=(), dtype=float32)\n",
      "loss tf.Tensor(0.0, shape=(), dtype=float32)\n",
      "loss tf.Tensor(0.0, shape=(), dtype=float32)\n",
      "loss tf.Tensor(0.0, shape=(), dtype=float32)\n",
      "loss tf.Tensor(0.0, shape=(), dtype=float32)\n",
      "loss tf.Tensor(0.0, shape=(), dtype=float32)\n",
      "loss tf.Tensor(0.0, shape=(), dtype=float32)\n"
     ]
    },
    {
     "name": "stderr",
     "output_type": "stream",
     "text": [
      " 25%|██▌       | 2508/10000 [01:13<03:32, 35.19it/s, episode_reward=0, running_reward=0]"
     ]
    },
    {
     "name": "stdout",
     "output_type": "stream",
     "text": [
      "loss tf.Tensor(0.0, shape=(), dtype=float32)\n",
      "loss tf.Tensor(0.0, shape=(), dtype=float32)\n",
      "loss tf.Tensor(0.0, shape=(), dtype=float32)\n",
      "loss tf.Tensor(0.0, shape=(), dtype=float32)\n",
      "loss tf.Tensor(0.0, shape=(), dtype=float32)\n",
      "loss tf.Tensor(0.0, shape=(), dtype=float32)\n",
      "loss tf.Tensor(0.0, shape=(), dtype=float32)\n",
      "loss tf.Tensor(0.0, shape=(), dtype=float32)\n"
     ]
    },
    {
     "name": "stderr",
     "output_type": "stream",
     "text": [
      " 25%|██▌       | 2516/10000 [01:13<03:27, 36.11it/s, episode_reward=0, running_reward=0]"
     ]
    },
    {
     "name": "stdout",
     "output_type": "stream",
     "text": [
      "loss tf.Tensor(0.0, shape=(), dtype=float32)\n",
      "loss tf.Tensor(0.0, shape=(), dtype=float32)\n",
      "loss tf.Tensor(0.0, shape=(), dtype=float32)\n",
      "loss tf.Tensor(0.0, shape=(), dtype=float32)\n",
      "loss tf.Tensor(0.0, shape=(), dtype=float32)\n",
      "loss tf.Tensor(0.0, shape=(), dtype=float32)\n",
      "loss tf.Tensor(0.0, shape=(), dtype=float32)\n",
      "loss tf.Tensor(0.0, shape=(), dtype=float32)\n"
     ]
    },
    {
     "name": "stderr",
     "output_type": "stream",
     "text": [
      " 25%|██▌       | 2524/10000 [01:13<03:26, 36.22it/s, episode_reward=0, running_reward=0]"
     ]
    },
    {
     "name": "stdout",
     "output_type": "stream",
     "text": [
      "loss tf.Tensor(0.0, shape=(), dtype=float32)\n",
      "loss tf.Tensor(0.0, shape=(), dtype=float32)\n",
      "loss tf.Tensor(0.0, shape=(), dtype=float32)\n",
      "loss tf.Tensor(0.0, shape=(), dtype=float32)\n",
      "loss tf.Tensor(0.0, shape=(), dtype=float32)\n",
      "loss tf.Tensor(0.0, shape=(), dtype=float32)\n",
      "loss tf.Tensor(0.0, shape=(), dtype=float32)\n",
      "loss tf.Tensor(0.0, shape=(), dtype=float32)\n"
     ]
    },
    {
     "name": "stderr",
     "output_type": "stream",
     "text": [
      " 25%|██▌       | 2532/10000 [01:14<03:25, 36.42it/s, episode_reward=0, running_reward=0]"
     ]
    },
    {
     "name": "stdout",
     "output_type": "stream",
     "text": [
      "loss tf.Tensor(0.0, shape=(), dtype=float32)\n",
      "loss tf.Tensor(0.0, shape=(), dtype=float32)\n",
      "loss tf.Tensor(0.0, shape=(), dtype=float32)\n",
      "loss tf.Tensor(0.0, shape=(), dtype=float32)\n",
      "loss tf.Tensor(0.0, shape=(), dtype=float32)\n",
      "loss tf.Tensor(0.0, shape=(), dtype=float32)\n",
      "loss tf.Tensor(0.0, shape=(), dtype=float32)\n",
      "loss tf.Tensor(0.0, shape=(), dtype=float32)\n"
     ]
    },
    {
     "name": "stderr",
     "output_type": "stream",
     "text": [
      " 25%|██▌       | 2540/10000 [01:14<03:25, 36.36it/s, episode_reward=0, running_reward=0]"
     ]
    },
    {
     "name": "stdout",
     "output_type": "stream",
     "text": [
      "loss tf.Tensor(0.0, shape=(), dtype=float32)\n",
      "loss tf.Tensor(0.0, shape=(), dtype=float32)\n",
      "loss tf.Tensor(0.0, shape=(), dtype=float32)\n",
      "loss tf.Tensor(0.0, shape=(), dtype=float32)\n",
      "loss tf.Tensor(0.0, shape=(), dtype=float32)\n",
      "loss tf.Tensor(0.0, shape=(), dtype=float32)\n",
      "loss tf.Tensor(0.0, shape=(), dtype=float32)\n",
      "loss tf.Tensor(0.0, shape=(), dtype=float32)\n"
     ]
    },
    {
     "name": "stderr",
     "output_type": "stream",
     "text": [
      " 25%|██▌       | 2548/10000 [01:14<03:25, 36.34it/s, episode_reward=0, running_reward=0]"
     ]
    },
    {
     "name": "stdout",
     "output_type": "stream",
     "text": [
      "loss tf.Tensor(0.0, shape=(), dtype=float32)\n",
      "loss tf.Tensor(0.0, shape=(), dtype=float32)\n",
      "loss tf.Tensor(0.0, shape=(), dtype=float32)\n",
      "loss tf.Tensor(0.0, shape=(), dtype=float32)\n",
      "loss tf.Tensor(0.0, shape=(), dtype=float32)\n",
      "loss tf.Tensor(0.0, shape=(), dtype=float32)\n",
      "loss tf.Tensor(0.0, shape=(), dtype=float32)\n",
      "loss tf.Tensor(0.0, shape=(), dtype=float32)\n"
     ]
    },
    {
     "name": "stderr",
     "output_type": "stream",
     "text": [
      " 26%|██▌       | 2556/10000 [01:14<03:26, 36.12it/s, episode_reward=0, running_reward=0]"
     ]
    },
    {
     "name": "stdout",
     "output_type": "stream",
     "text": [
      "loss tf.Tensor(0.0, shape=(), dtype=float32)\n",
      "loss tf.Tensor(0.0, shape=(), dtype=float32)\n",
      "loss tf.Tensor(0.0, shape=(), dtype=float32)\n",
      "loss tf.Tensor(0.0, shape=(), dtype=float32)\n",
      "loss tf.Tensor(0.0, shape=(), dtype=float32)\n",
      "loss tf.Tensor(0.0, shape=(), dtype=float32)\n",
      "loss tf.Tensor(0.0, shape=(), dtype=float32)\n",
      "loss tf.Tensor(0.0, shape=(), dtype=float32)\n"
     ]
    },
    {
     "name": "stderr",
     "output_type": "stream",
     "text": [
      " 26%|██▌       | 2564/10000 [01:15<03:26, 36.00it/s, episode_reward=0, running_reward=0]"
     ]
    },
    {
     "name": "stdout",
     "output_type": "stream",
     "text": [
      "loss tf.Tensor(0.0, shape=(), dtype=float32)\n",
      "loss tf.Tensor(0.0, shape=(), dtype=float32)\n",
      "loss tf.Tensor(0.0, shape=(), dtype=float32)\n",
      "loss tf.Tensor(0.0, shape=(), dtype=float32)\n",
      "loss tf.Tensor(0.0, shape=(), dtype=float32)\n",
      "loss tf.Tensor(0.0, shape=(), dtype=float32)\n",
      "loss tf.Tensor(0.0, shape=(), dtype=float32)\n",
      "loss tf.Tensor(0.0, shape=(), dtype=float32)\n"
     ]
    },
    {
     "name": "stderr",
     "output_type": "stream",
     "text": [
      " 26%|██▌       | 2572/10000 [01:15<03:24, 36.37it/s, episode_reward=0, running_reward=0]"
     ]
    },
    {
     "name": "stdout",
     "output_type": "stream",
     "text": [
      "loss tf.Tensor(0.0, shape=(), dtype=float32)\n",
      "loss tf.Tensor(0.0, shape=(), dtype=float32)\n",
      "loss tf.Tensor(0.0, shape=(), dtype=float32)\n",
      "loss tf.Tensor(0.0, shape=(), dtype=float32)\n",
      "loss tf.Tensor(0.0, shape=(), dtype=float32)\n"
     ]
    },
    {
     "name": "stderr",
     "output_type": "stream",
     "text": [
      " 26%|██▌       | 2576/10000 [01:15<04:57, 24.94it/s, episode_reward=0, running_reward=0]"
     ]
    },
    {
     "name": "stdout",
     "output_type": "stream",
     "text": [
      "loss tf.Tensor(0.0, shape=(), dtype=float32)\n",
      "loss tf.Tensor(0.0, shape=(), dtype=float32)\n",
      "loss tf.Tensor(0.0, shape=(), dtype=float32)\n",
      "loss tf.Tensor(0.0, shape=(), dtype=float32)\n",
      "loss tf.Tensor(0.0, shape=(), dtype=float32)\n",
      "loss tf.Tensor(0.0, shape=(), dtype=float32)\n",
      "loss tf.Tensor(0.0, shape=(), dtype=float32)\n"
     ]
    },
    {
     "name": "stderr",
     "output_type": "stream",
     "text": [
      " 26%|██▌       | 2584/10000 [01:15<04:10, 29.63it/s, episode_reward=0, running_reward=0]"
     ]
    },
    {
     "name": "stdout",
     "output_type": "stream",
     "text": [
      "loss tf.Tensor(0.0, shape=(), dtype=float32)\n",
      "loss tf.Tensor(0.0, shape=(), dtype=float32)\n",
      "loss tf.Tensor(0.0, shape=(), dtype=float32)\n",
      "loss tf.Tensor(0.0, shape=(), dtype=float32)\n",
      "loss tf.Tensor(0.0, shape=(), dtype=float32)\n",
      "loss tf.Tensor(0.0, shape=(), dtype=float32)\n",
      "loss tf.Tensor(0.0, shape=(), dtype=float32)\n",
      "loss tf.Tensor(0.0, shape=(), dtype=float32)\n"
     ]
    },
    {
     "name": "stderr",
     "output_type": "stream",
     "text": [
      " 26%|██▌       | 2592/10000 [01:16<03:45, 32.82it/s, episode_reward=0, running_reward=0]"
     ]
    },
    {
     "name": "stdout",
     "output_type": "stream",
     "text": [
      "loss tf.Tensor(0.0, shape=(), dtype=float32)\n",
      "loss tf.Tensor(0.0, shape=(), dtype=float32)\n",
      "loss tf.Tensor(0.0, shape=(), dtype=float32)\n",
      "loss tf.Tensor(0.0, shape=(), dtype=float32)\n",
      "loss tf.Tensor(0.0, shape=(), dtype=float32)\n",
      "loss tf.Tensor(0.0, shape=(), dtype=float32)\n",
      "loss tf.Tensor(0.0, shape=(), dtype=float32)\n",
      "loss tf.Tensor(0.0, shape=(), dtype=float32)\n"
     ]
    },
    {
     "name": "stderr",
     "output_type": "stream",
     "text": [
      " 26%|██▌       | 2600/10000 [01:16<03:34, 34.47it/s, episode_reward=0, running_reward=0]"
     ]
    },
    {
     "name": "stdout",
     "output_type": "stream",
     "text": [
      "loss tf.Tensor(0.0, shape=(), dtype=float32)\n",
      "loss tf.Tensor(0.0, shape=(), dtype=float32)\n",
      "loss tf.Tensor(0.0, shape=(), dtype=float32)\n",
      "loss tf.Tensor(0.0, shape=(), dtype=float32)\n",
      "loss tf.Tensor(0.0, shape=(), dtype=float32)\n",
      "loss tf.Tensor(0.0, shape=(), dtype=float32)\n",
      "loss tf.Tensor(0.0, shape=(), dtype=float32)\n",
      "loss tf.Tensor(0.0, shape=(), dtype=float32)\n"
     ]
    },
    {
     "name": "stderr",
     "output_type": "stream",
     "text": [
      " 26%|██▌       | 2608/10000 [01:16<03:32, 34.77it/s, episode_reward=0, running_reward=0]"
     ]
    },
    {
     "name": "stdout",
     "output_type": "stream",
     "text": [
      "loss tf.Tensor(0.0, shape=(), dtype=float32)\n",
      "loss tf.Tensor(0.0, shape=(), dtype=float32)\n",
      "loss tf.Tensor(0.0, shape=(), dtype=float32)\n",
      "loss tf.Tensor(0.0, shape=(), dtype=float32)\n",
      "loss tf.Tensor(0.0, shape=(), dtype=float32)\n",
      "loss tf.Tensor(0.0, shape=(), dtype=float32)\n",
      "loss tf.Tensor(0.0, shape=(), dtype=float32)\n",
      "loss tf.Tensor(0.0, shape=(), dtype=float32)\n"
     ]
    },
    {
     "name": "stderr",
     "output_type": "stream",
     "text": [
      " 26%|██▌       | 2616/10000 [01:16<03:27, 35.64it/s, episode_reward=0, running_reward=0]"
     ]
    },
    {
     "name": "stdout",
     "output_type": "stream",
     "text": [
      "loss tf.Tensor(0.0, shape=(), dtype=float32)\n",
      "loss tf.Tensor(0.0, shape=(), dtype=float32)\n",
      "loss tf.Tensor(0.0, shape=(), dtype=float32)\n",
      "loss tf.Tensor(0.0, shape=(), dtype=float32)\n",
      "loss tf.Tensor(0.0, shape=(), dtype=float32)\n",
      "loss tf.Tensor(0.0, shape=(), dtype=float32)\n",
      "loss tf.Tensor(0.0, shape=(), dtype=float32)\n",
      "loss tf.Tensor(0.0, shape=(), dtype=float32)\n"
     ]
    },
    {
     "name": "stderr",
     "output_type": "stream",
     "text": [
      " 26%|██▌       | 2624/10000 [01:16<03:26, 35.65it/s, episode_reward=0, running_reward=0]"
     ]
    },
    {
     "name": "stdout",
     "output_type": "stream",
     "text": [
      "loss tf.Tensor(0.0, shape=(), dtype=float32)\n",
      "loss tf.Tensor(0.0, shape=(), dtype=float32)\n",
      "loss tf.Tensor(0.0, shape=(), dtype=float32)\n",
      "loss tf.Tensor(0.0, shape=(), dtype=float32)\n",
      "loss tf.Tensor(0.0, shape=(), dtype=float32)\n",
      "loss tf.Tensor(0.0, shape=(), dtype=float32)\n",
      "loss tf.Tensor(0.0, shape=(), dtype=float32)\n",
      "loss tf.Tensor(0.0, shape=(), dtype=float32)\n"
     ]
    },
    {
     "name": "stderr",
     "output_type": "stream",
     "text": [
      " 26%|██▋       | 2632/10000 [01:17<03:28, 35.35it/s, episode_reward=0, running_reward=0]"
     ]
    },
    {
     "name": "stdout",
     "output_type": "stream",
     "text": [
      "loss tf.Tensor(0.0, shape=(), dtype=float32)\n",
      "loss tf.Tensor(0.0, shape=(), dtype=float32)\n",
      "loss tf.Tensor(0.0, shape=(), dtype=float32)\n",
      "loss tf.Tensor(0.0, shape=(), dtype=float32)\n",
      "loss tf.Tensor(0.0, shape=(), dtype=float32)\n",
      "loss tf.Tensor(0.0, shape=(), dtype=float32)\n",
      "loss tf.Tensor(0.0, shape=(), dtype=float32)\n",
      "loss tf.Tensor(0.0, shape=(), dtype=float32)\n"
     ]
    },
    {
     "name": "stderr",
     "output_type": "stream",
     "text": [
      " 26%|██▋       | 2640/10000 [01:17<03:23, 36.19it/s, episode_reward=0, running_reward=0]"
     ]
    },
    {
     "name": "stdout",
     "output_type": "stream",
     "text": [
      "loss tf.Tensor(0.0, shape=(), dtype=float32)\n",
      "loss tf.Tensor(0.0, shape=(), dtype=float32)\n",
      "loss tf.Tensor(0.0, shape=(), dtype=float32)\n",
      "loss tf.Tensor(0.0, shape=(), dtype=float32)\n",
      "loss tf.Tensor(0.0, shape=(), dtype=float32)\n",
      "loss tf.Tensor(0.0, shape=(), dtype=float32)\n",
      "loss tf.Tensor(0.0, shape=(), dtype=float32)\n",
      "loss tf.Tensor(0.0, shape=(), dtype=float32)\n"
     ]
    },
    {
     "name": "stderr",
     "output_type": "stream",
     "text": [
      " 26%|██▋       | 2648/10000 [01:17<03:24, 35.92it/s, episode_reward=0, running_reward=0]"
     ]
    },
    {
     "name": "stdout",
     "output_type": "stream",
     "text": [
      "loss tf.Tensor(0.0, shape=(), dtype=float32)\n",
      "loss tf.Tensor(0.0, shape=(), dtype=float32)\n",
      "loss tf.Tensor(0.0, shape=(), dtype=float32)\n",
      "loss tf.Tensor(0.0, shape=(), dtype=float32)\n",
      "loss tf.Tensor(0.0, shape=(), dtype=float32)\n",
      "loss tf.Tensor(0.0, shape=(), dtype=float32)\n",
      "loss tf.Tensor(0.0, shape=(), dtype=float32)\n",
      "loss tf.Tensor(0.0, shape=(), dtype=float32)\n"
     ]
    },
    {
     "name": "stderr",
     "output_type": "stream",
     "text": [
      " 27%|██▋       | 2656/10000 [01:17<03:23, 36.02it/s, episode_reward=0, running_reward=0]"
     ]
    },
    {
     "name": "stdout",
     "output_type": "stream",
     "text": [
      "loss tf.Tensor(0.0, shape=(), dtype=float32)\n",
      "loss tf.Tensor(0.0, shape=(), dtype=float32)\n",
      "loss tf.Tensor(0.0, shape=(), dtype=float32)\n",
      "loss tf.Tensor(0.0, shape=(), dtype=float32)\n",
      "loss tf.Tensor(0.0, shape=(), dtype=float32)\n",
      "loss tf.Tensor(0.0, shape=(), dtype=float32)\n",
      "loss tf.Tensor(0.0, shape=(), dtype=float32)\n",
      "loss tf.Tensor(0.0, shape=(), dtype=float32)\n"
     ]
    },
    {
     "name": "stderr",
     "output_type": "stream",
     "text": [
      " 27%|██▋       | 2664/10000 [01:18<03:23, 36.07it/s, episode_reward=0, running_reward=0]"
     ]
    },
    {
     "name": "stdout",
     "output_type": "stream",
     "text": [
      "loss tf.Tensor(0.0, shape=(), dtype=float32)\n",
      "loss tf.Tensor(0.0, shape=(), dtype=float32)\n",
      "loss tf.Tensor(0.0, shape=(), dtype=float32)\n",
      "loss tf.Tensor(0.0, shape=(), dtype=float32)\n",
      "loss tf.Tensor(0.0, shape=(), dtype=float32)\n",
      "loss tf.Tensor(0.0, shape=(), dtype=float32)\n",
      "loss tf.Tensor(0.0, shape=(), dtype=float32)\n",
      "loss tf.Tensor(0.0, shape=(), dtype=float32)\n"
     ]
    },
    {
     "name": "stderr",
     "output_type": "stream",
     "text": [
      " 27%|██▋       | 2672/10000 [01:18<04:30, 27.13it/s, episode_reward=0, running_reward=0]"
     ]
    },
    {
     "name": "stdout",
     "output_type": "stream",
     "text": [
      "loss tf.Tensor(0.0, shape=(), dtype=float32)\n",
      "loss tf.Tensor(0.0, shape=(), dtype=float32)\n",
      "loss tf.Tensor(0.0, shape=(), dtype=float32)\n",
      "loss tf.Tensor(0.0, shape=(), dtype=float32)\n",
      "loss tf.Tensor(0.0, shape=(), dtype=float32)\n",
      "loss tf.Tensor(0.0, shape=(), dtype=float32)\n"
     ]
    },
    {
     "name": "stderr",
     "output_type": "stream",
     "text": [
      " 27%|██▋       | 2680/10000 [01:18<03:54, 31.16it/s, episode_reward=0, running_reward=0]"
     ]
    },
    {
     "name": "stdout",
     "output_type": "stream",
     "text": [
      "loss tf.Tensor(0.0, shape=(), dtype=float32)\n",
      "loss tf.Tensor(0.0, shape=(), dtype=float32)\n",
      "loss tf.Tensor(0.0, shape=(), dtype=float32)\n",
      "loss tf.Tensor(0.0, shape=(), dtype=float32)\n",
      "loss tf.Tensor(0.0, shape=(), dtype=float32)\n",
      "loss tf.Tensor(0.0, shape=(), dtype=float32)\n",
      "loss tf.Tensor(0.0, shape=(), dtype=float32)\n",
      "loss tf.Tensor(0.0, shape=(), dtype=float32)\n"
     ]
    },
    {
     "name": "stderr",
     "output_type": "stream",
     "text": [
      " 27%|██▋       | 2688/10000 [01:18<03:37, 33.58it/s, episode_reward=0, running_reward=0]"
     ]
    },
    {
     "name": "stdout",
     "output_type": "stream",
     "text": [
      "loss tf.Tensor(0.0, shape=(), dtype=float32)\n",
      "loss tf.Tensor(0.0, shape=(), dtype=float32)\n",
      "loss tf.Tensor(0.0, shape=(), dtype=float32)\n",
      "loss tf.Tensor(0.0, shape=(), dtype=float32)\n",
      "loss tf.Tensor(0.0, shape=(), dtype=float32)\n",
      "loss tf.Tensor(0.0, shape=(), dtype=float32)\n",
      "loss tf.Tensor(0.0, shape=(), dtype=float32)\n",
      "loss tf.Tensor(0.0, shape=(), dtype=float32)\n"
     ]
    },
    {
     "name": "stderr",
     "output_type": "stream",
     "text": [
      " 27%|██▋       | 2696/10000 [01:19<03:27, 35.21it/s, episode_reward=0, running_reward=0]"
     ]
    },
    {
     "name": "stdout",
     "output_type": "stream",
     "text": [
      "loss tf.Tensor(0.0, shape=(), dtype=float32)\n",
      "loss tf.Tensor(0.0, shape=(), dtype=float32)\n",
      "loss tf.Tensor(0.0, shape=(), dtype=float32)\n",
      "loss tf.Tensor(0.0, shape=(), dtype=float32)\n",
      "loss tf.Tensor(0.0, shape=(), dtype=float32)\n",
      "loss tf.Tensor(0.0, shape=(), dtype=float32)\n",
      "loss tf.Tensor(0.0, shape=(), dtype=float32)\n",
      "loss tf.Tensor(0.0, shape=(), dtype=float32)\n"
     ]
    },
    {
     "name": "stderr",
     "output_type": "stream",
     "text": [
      " 27%|██▋       | 2704/10000 [01:19<03:22, 35.99it/s, episode_reward=0, running_reward=0]"
     ]
    },
    {
     "name": "stdout",
     "output_type": "stream",
     "text": [
      "loss tf.Tensor(0.0, shape=(), dtype=float32)\n",
      "loss tf.Tensor(0.0, shape=(), dtype=float32)\n",
      "loss tf.Tensor(0.0, shape=(), dtype=float32)\n",
      "loss tf.Tensor(0.0, shape=(), dtype=float32)\n",
      "loss tf.Tensor(0.0, shape=(), dtype=float32)\n",
      "loss tf.Tensor(0.0, shape=(), dtype=float32)\n",
      "loss tf.Tensor(0.0, shape=(), dtype=float32)\n",
      "loss tf.Tensor(0.0, shape=(), dtype=float32)\n"
     ]
    },
    {
     "name": "stderr",
     "output_type": "stream",
     "text": [
      " 27%|██▋       | 2712/10000 [01:19<03:20, 36.29it/s, episode_reward=0, running_reward=0]"
     ]
    },
    {
     "name": "stdout",
     "output_type": "stream",
     "text": [
      "loss tf.Tensor(0.0, shape=(), dtype=float32)\n",
      "loss tf.Tensor(0.0, shape=(), dtype=float32)\n",
      "loss tf.Tensor(0.0, shape=(), dtype=float32)\n",
      "loss tf.Tensor(0.0, shape=(), dtype=float32)\n",
      "loss tf.Tensor(0.0, shape=(), dtype=float32)\n",
      "loss tf.Tensor(0.0, shape=(), dtype=float32)\n",
      "loss tf.Tensor(0.0, shape=(), dtype=float32)\n",
      "loss tf.Tensor(0.0, shape=(), dtype=float32)\n"
     ]
    },
    {
     "name": "stderr",
     "output_type": "stream",
     "text": [
      " 27%|██▋       | 2720/10000 [01:19<03:20, 36.38it/s, episode_reward=0, running_reward=0]"
     ]
    },
    {
     "name": "stdout",
     "output_type": "stream",
     "text": [
      "loss tf.Tensor(0.0, shape=(), dtype=float32)\n",
      "loss tf.Tensor(0.0, shape=(), dtype=float32)\n",
      "loss tf.Tensor(0.0, shape=(), dtype=float32)\n",
      "loss tf.Tensor(0.0, shape=(), dtype=float32)\n",
      "loss tf.Tensor(0.0, shape=(), dtype=float32)\n",
      "loss tf.Tensor(0.0, shape=(), dtype=float32)\n",
      "loss tf.Tensor(0.0, shape=(), dtype=float32)\n",
      "loss tf.Tensor(0.0, shape=(), dtype=float32)\n"
     ]
    },
    {
     "name": "stderr",
     "output_type": "stream",
     "text": [
      " 27%|██▋       | 2728/10000 [01:19<03:19, 36.47it/s, episode_reward=0, running_reward=0]"
     ]
    },
    {
     "name": "stdout",
     "output_type": "stream",
     "text": [
      "loss tf.Tensor(0.0, shape=(), dtype=float32)\n",
      "loss tf.Tensor(0.0, shape=(), dtype=float32)\n",
      "loss tf.Tensor(0.0, shape=(), dtype=float32)\n",
      "loss tf.Tensor(0.0, shape=(), dtype=float32)\n",
      "loss tf.Tensor(0.0, shape=(), dtype=float32)\n",
      "loss tf.Tensor(0.0, shape=(), dtype=float32)\n",
      "loss tf.Tensor(0.0, shape=(), dtype=float32)\n",
      "loss tf.Tensor(0.0, shape=(), dtype=float32)\n"
     ]
    },
    {
     "name": "stderr",
     "output_type": "stream",
     "text": [
      " 27%|██▋       | 2736/10000 [01:20<03:17, 36.72it/s, episode_reward=0, running_reward=0]"
     ]
    },
    {
     "name": "stdout",
     "output_type": "stream",
     "text": [
      "loss tf.Tensor(0.0, shape=(), dtype=float32)\n",
      "loss tf.Tensor(0.0, shape=(), dtype=float32)\n",
      "loss tf.Tensor(0.0, shape=(), dtype=float32)\n",
      "loss tf.Tensor(0.0, shape=(), dtype=float32)\n",
      "loss tf.Tensor(0.0, shape=(), dtype=float32)\n",
      "loss tf.Tensor(0.0, shape=(), dtype=float32)\n",
      "loss tf.Tensor(0.0, shape=(), dtype=float32)\n",
      "loss tf.Tensor(0.0, shape=(), dtype=float32)\n"
     ]
    },
    {
     "name": "stderr",
     "output_type": "stream",
     "text": [
      " 27%|██▋       | 2744/10000 [01:20<03:18, 36.58it/s, episode_reward=0, running_reward=0]"
     ]
    },
    {
     "name": "stdout",
     "output_type": "stream",
     "text": [
      "loss tf.Tensor(0.0, shape=(), dtype=float32)\n",
      "loss tf.Tensor(0.0, shape=(), dtype=float32)\n",
      "loss tf.Tensor(0.0, shape=(), dtype=float32)\n",
      "loss tf.Tensor(0.0, shape=(), dtype=float32)\n",
      "loss tf.Tensor(0.0, shape=(), dtype=float32)\n",
      "loss tf.Tensor(0.0, shape=(), dtype=float32)\n",
      "loss tf.Tensor(0.0, shape=(), dtype=float32)\n",
      "loss tf.Tensor(0.0, shape=(), dtype=float32)\n"
     ]
    },
    {
     "name": "stderr",
     "output_type": "stream",
     "text": [
      " 27%|██▋       | 2748/10000 [01:20<04:02, 29.91it/s, episode_reward=0, running_reward=0]"
     ]
    },
    {
     "name": "stdout",
     "output_type": "stream",
     "text": [
      "loss tf.Tensor(0.0, shape=(), dtype=float32)\n",
      "loss tf.Tensor(0.0, shape=(), dtype=float32)\n",
      "loss tf.Tensor(0.0, shape=(), dtype=float32)\n",
      "loss tf.Tensor(0.0, shape=(), dtype=float32)\n",
      "loss tf.Tensor(0.0, shape=(), dtype=float32)\n",
      "loss tf.Tensor(0.0, shape=(), dtype=float32)\n"
     ]
    },
    {
     "name": "stderr",
     "output_type": "stream",
     "text": [
      " 28%|██▊       | 2756/10000 [01:20<03:54, 30.88it/s, episode_reward=0, running_reward=0]"
     ]
    },
    {
     "name": "stdout",
     "output_type": "stream",
     "text": [
      "loss tf.Tensor(0.0, shape=(), dtype=float32)\n",
      "loss tf.Tensor(0.0, shape=(), dtype=float32)\n",
      "loss tf.Tensor(0.0, shape=(), dtype=float32)\n",
      "loss tf.Tensor(0.0, shape=(), dtype=float32)\n",
      "loss tf.Tensor(0.0, shape=(), dtype=float32)\n",
      "loss tf.Tensor(0.0, shape=(), dtype=float32)\n",
      "loss tf.Tensor(0.0, shape=(), dtype=float32)\n",
      "loss tf.Tensor(0.0, shape=(), dtype=float32)\n"
     ]
    },
    {
     "name": "stderr",
     "output_type": "stream",
     "text": [
      " 28%|██▊       | 2764/10000 [01:21<03:37, 33.32it/s, episode_reward=0, running_reward=0]"
     ]
    },
    {
     "name": "stdout",
     "output_type": "stream",
     "text": [
      "loss tf.Tensor(0.0, shape=(), dtype=float32)\n",
      "loss tf.Tensor(0.0, shape=(), dtype=float32)\n",
      "loss tf.Tensor(0.0, shape=(), dtype=float32)\n",
      "loss tf.Tensor(0.0, shape=(), dtype=float32)\n",
      "loss tf.Tensor(0.0, shape=(), dtype=float32)\n",
      "loss tf.Tensor(0.0, shape=(), dtype=float32)\n",
      "loss tf.Tensor(0.0, shape=(), dtype=float32)\n",
      "loss tf.Tensor(0.0, shape=(), dtype=float32)\n"
     ]
    },
    {
     "name": "stderr",
     "output_type": "stream",
     "text": [
      " 28%|██▊       | 2772/10000 [01:21<03:28, 34.62it/s, episode_reward=0, running_reward=0]"
     ]
    },
    {
     "name": "stdout",
     "output_type": "stream",
     "text": [
      "loss tf.Tensor(0.0, shape=(), dtype=float32)\n",
      "loss tf.Tensor(0.0, shape=(), dtype=float32)\n",
      "loss tf.Tensor(0.0, shape=(), dtype=float32)\n",
      "loss tf.Tensor(0.0, shape=(), dtype=float32)\n",
      "loss tf.Tensor(0.0, shape=(), dtype=float32)\n",
      "loss tf.Tensor(0.0, shape=(), dtype=float32)\n",
      "loss tf.Tensor(0.0, shape=(), dtype=float32)\n",
      "loss tf.Tensor(0.0, shape=(), dtype=float32)\n"
     ]
    },
    {
     "name": "stderr",
     "output_type": "stream",
     "text": [
      " 28%|██▊       | 2780/10000 [01:21<03:22, 35.70it/s, episode_reward=0, running_reward=0]"
     ]
    },
    {
     "name": "stdout",
     "output_type": "stream",
     "text": [
      "loss tf.Tensor(0.0, shape=(), dtype=float32)\n",
      "loss tf.Tensor(0.0, shape=(), dtype=float32)\n",
      "loss tf.Tensor(0.0, shape=(), dtype=float32)\n",
      "loss tf.Tensor(0.0, shape=(), dtype=float32)\n",
      "loss tf.Tensor(0.0, shape=(), dtype=float32)\n",
      "loss tf.Tensor(0.0, shape=(), dtype=float32)\n",
      "loss tf.Tensor(0.0, shape=(), dtype=float32)\n",
      "loss tf.Tensor(0.0, shape=(), dtype=float32)\n"
     ]
    },
    {
     "name": "stderr",
     "output_type": "stream",
     "text": [
      " 28%|██▊       | 2788/10000 [01:21<03:19, 36.19it/s, episode_reward=0, running_reward=0]"
     ]
    },
    {
     "name": "stdout",
     "output_type": "stream",
     "text": [
      "loss tf.Tensor(0.0, shape=(), dtype=float32)\n",
      "loss tf.Tensor(0.0, shape=(), dtype=float32)\n",
      "loss tf.Tensor(0.0, shape=(), dtype=float32)\n",
      "loss tf.Tensor(0.0, shape=(), dtype=float32)\n",
      "loss tf.Tensor(0.0, shape=(), dtype=float32)\n",
      "loss tf.Tensor(0.0, shape=(), dtype=float32)\n",
      "loss tf.Tensor(0.0, shape=(), dtype=float32)\n",
      "loss tf.Tensor(0.0, shape=(), dtype=float32)\n"
     ]
    },
    {
     "name": "stderr",
     "output_type": "stream",
     "text": [
      " 28%|██▊       | 2796/10000 [01:21<03:19, 36.02it/s, episode_reward=0, running_reward=0]"
     ]
    },
    {
     "name": "stdout",
     "output_type": "stream",
     "text": [
      "loss tf.Tensor(0.0, shape=(), dtype=float32)\n",
      "loss tf.Tensor(0.0, shape=(), dtype=float32)\n",
      "loss tf.Tensor(0.0, shape=(), dtype=float32)\n",
      "loss tf.Tensor(0.0, shape=(), dtype=float32)\n",
      "loss tf.Tensor(0.0, shape=(), dtype=float32)\n",
      "loss tf.Tensor(0.0, shape=(), dtype=float32)\n",
      "loss tf.Tensor(0.0, shape=(), dtype=float32)\n",
      "loss tf.Tensor(0.0, shape=(), dtype=float32)\n"
     ]
    },
    {
     "name": "stderr",
     "output_type": "stream",
     "text": [
      " 28%|██▊       | 2804/10000 [01:22<03:19, 36.00it/s, episode_reward=0, running_reward=0]"
     ]
    },
    {
     "name": "stdout",
     "output_type": "stream",
     "text": [
      "loss tf.Tensor(0.0, shape=(), dtype=float32)\n",
      "loss tf.Tensor(0.0, shape=(), dtype=float32)\n",
      "loss tf.Tensor(0.0, shape=(), dtype=float32)\n",
      "loss tf.Tensor(0.0, shape=(), dtype=float32)\n",
      "loss tf.Tensor(0.0, shape=(), dtype=float32)\n",
      "loss tf.Tensor(0.0, shape=(), dtype=float32)\n",
      "loss tf.Tensor(0.0, shape=(), dtype=float32)\n",
      "loss tf.Tensor(0.0, shape=(), dtype=float32)\n"
     ]
    },
    {
     "name": "stderr",
     "output_type": "stream",
     "text": [
      " 28%|██▊       | 2812/10000 [01:22<03:19, 35.99it/s, episode_reward=0, running_reward=0]"
     ]
    },
    {
     "name": "stdout",
     "output_type": "stream",
     "text": [
      "loss tf.Tensor(0.0, shape=(), dtype=float32)\n",
      "loss tf.Tensor(0.0, shape=(), dtype=float32)\n",
      "loss tf.Tensor(0.0, shape=(), dtype=float32)\n",
      "loss tf.Tensor(0.0, shape=(), dtype=float32)\n",
      "loss tf.Tensor(0.0, shape=(), dtype=float32)\n",
      "loss tf.Tensor(0.0, shape=(), dtype=float32)\n",
      "loss tf.Tensor(0.0, shape=(), dtype=float32)\n",
      "loss tf.Tensor(0.0, shape=(), dtype=float32)\n"
     ]
    },
    {
     "name": "stderr",
     "output_type": "stream",
     "text": [
      " 28%|██▊       | 2820/10000 [01:22<03:19, 35.97it/s, episode_reward=0, running_reward=0]"
     ]
    },
    {
     "name": "stdout",
     "output_type": "stream",
     "text": [
      "loss tf.Tensor(0.0, shape=(), dtype=float32)\n",
      "loss tf.Tensor(0.0, shape=(), dtype=float32)\n",
      "loss tf.Tensor(0.0, shape=(), dtype=float32)\n",
      "loss tf.Tensor(0.0, shape=(), dtype=float32)\n",
      "loss tf.Tensor(0.0, shape=(), dtype=float32)\n",
      "loss tf.Tensor(0.0, shape=(), dtype=float32)\n",
      "loss tf.Tensor(0.0, shape=(), dtype=float32)\n",
      "loss tf.Tensor(0.0, shape=(), dtype=float32)\n"
     ]
    },
    {
     "name": "stderr",
     "output_type": "stream",
     "text": [
      " 28%|██▊       | 2828/10000 [01:22<03:17, 36.23it/s, episode_reward=0, running_reward=0]"
     ]
    },
    {
     "name": "stdout",
     "output_type": "stream",
     "text": [
      "loss tf.Tensor(0.0, shape=(), dtype=float32)\n",
      "loss tf.Tensor(0.0, shape=(), dtype=float32)\n",
      "loss tf.Tensor(0.0, shape=(), dtype=float32)\n",
      "loss tf.Tensor(0.0, shape=(), dtype=float32)\n",
      "loss tf.Tensor(0.0, shape=(), dtype=float32)\n",
      "loss tf.Tensor(0.0, shape=(), dtype=float32)\n",
      "loss tf.Tensor(0.0, shape=(), dtype=float32)\n",
      "loss tf.Tensor(0.0, shape=(), dtype=float32)\n"
     ]
    },
    {
     "name": "stderr",
     "output_type": "stream",
     "text": [
      " 28%|██▊       | 2836/10000 [01:23<04:04, 29.30it/s, episode_reward=0, running_reward=0]"
     ]
    },
    {
     "name": "stdout",
     "output_type": "stream",
     "text": [
      "loss tf.Tensor(0.0, shape=(), dtype=float32)\n",
      "loss tf.Tensor(0.0, shape=(), dtype=float32)\n",
      "loss tf.Tensor(0.0, shape=(), dtype=float32)\n",
      "loss tf.Tensor(0.0, shape=(), dtype=float32)\n",
      "loss tf.Tensor(0.0, shape=(), dtype=float32)\n"
     ]
    },
    {
     "name": "stderr",
     "output_type": "stream",
     "text": [
      " 28%|██▊       | 2840/10000 [01:23<03:59, 29.84it/s, episode_reward=0, running_reward=0]"
     ]
    },
    {
     "name": "stdout",
     "output_type": "stream",
     "text": [
      "loss tf.Tensor(0.0, shape=(), dtype=float32)\n",
      "loss tf.Tensor(0.0, shape=(), dtype=float32)\n",
      "loss tf.Tensor(0.0, shape=(), dtype=float32)\n",
      "loss tf.Tensor(0.0, shape=(), dtype=float32)\n",
      "loss tf.Tensor(0.0, shape=(), dtype=float32)\n",
      "loss tf.Tensor(0.0, shape=(), dtype=float32)\n",
      "loss tf.Tensor(0.0, shape=(), dtype=float32)\n",
      "loss tf.Tensor(0.0, shape=(), dtype=float32)\n"
     ]
    },
    {
     "name": "stderr",
     "output_type": "stream",
     "text": [
      " 29%|██▊       | 2852/10000 [01:23<03:30, 33.91it/s, episode_reward=0, running_reward=0]"
     ]
    },
    {
     "name": "stdout",
     "output_type": "stream",
     "text": [
      "loss tf.Tensor(0.0, shape=(), dtype=float32)\n",
      "loss tf.Tensor(0.0, shape=(), dtype=float32)\n",
      "loss tf.Tensor(0.0, shape=(), dtype=float32)\n",
      "loss tf.Tensor(0.0, shape=(), dtype=float32)\n",
      "loss tf.Tensor(0.0, shape=(), dtype=float32)\n",
      "loss tf.Tensor(0.0, shape=(), dtype=float32)\n",
      "loss tf.Tensor(0.0, shape=(), dtype=float32)\n",
      "loss tf.Tensor(0.0, shape=(), dtype=float32)\n"
     ]
    },
    {
     "name": "stderr",
     "output_type": "stream",
     "text": [
      " 29%|██▊       | 2860/10000 [01:23<03:24, 34.94it/s, episode_reward=0, running_reward=0]"
     ]
    },
    {
     "name": "stdout",
     "output_type": "stream",
     "text": [
      "loss tf.Tensor(0.0, shape=(), dtype=float32)\n",
      "loss tf.Tensor(0.0, shape=(), dtype=float32)\n",
      "loss tf.Tensor(0.0, shape=(), dtype=float32)\n",
      "loss tf.Tensor(0.0, shape=(), dtype=float32)\n",
      "loss tf.Tensor(0.0, shape=(), dtype=float32)\n",
      "loss tf.Tensor(0.0, shape=(), dtype=float32)\n",
      "loss tf.Tensor(0.0, shape=(), dtype=float32)\n",
      "loss tf.Tensor(0.0, shape=(), dtype=float32)\n"
     ]
    },
    {
     "name": "stderr",
     "output_type": "stream",
     "text": [
      " 29%|██▊       | 2868/10000 [01:23<03:18, 35.86it/s, episode_reward=0, running_reward=0]"
     ]
    },
    {
     "name": "stdout",
     "output_type": "stream",
     "text": [
      "loss tf.Tensor(0.0, shape=(), dtype=float32)\n",
      "loss tf.Tensor(0.0, shape=(), dtype=float32)\n",
      "loss tf.Tensor(0.0, shape=(), dtype=float32)\n",
      "loss tf.Tensor(0.0, shape=(), dtype=float32)\n",
      "loss tf.Tensor(0.0, shape=(), dtype=float32)\n",
      "loss tf.Tensor(0.0, shape=(), dtype=float32)\n",
      "loss tf.Tensor(0.0, shape=(), dtype=float32)\n",
      "loss tf.Tensor(0.0, shape=(), dtype=float32)\n"
     ]
    },
    {
     "name": "stderr",
     "output_type": "stream",
     "text": [
      " 29%|██▉       | 2876/10000 [01:24<03:18, 35.81it/s, episode_reward=0, running_reward=0]"
     ]
    },
    {
     "name": "stdout",
     "output_type": "stream",
     "text": [
      "loss tf.Tensor(0.0, shape=(), dtype=float32)\n",
      "loss tf.Tensor(0.0, shape=(), dtype=float32)\n",
      "loss tf.Tensor(0.0, shape=(), dtype=float32)\n",
      "loss tf.Tensor(0.0, shape=(), dtype=float32)\n",
      "loss tf.Tensor(0.0, shape=(), dtype=float32)\n",
      "loss tf.Tensor(0.0, shape=(), dtype=float32)\n",
      "loss tf.Tensor(0.0, shape=(), dtype=float32)\n",
      "loss tf.Tensor(0.0, shape=(), dtype=float32)\n"
     ]
    },
    {
     "name": "stderr",
     "output_type": "stream",
     "text": [
      " 29%|██▉       | 2884/10000 [01:24<03:15, 36.32it/s, episode_reward=0, running_reward=0]"
     ]
    },
    {
     "name": "stdout",
     "output_type": "stream",
     "text": [
      "loss tf.Tensor(0.0, shape=(), dtype=float32)\n",
      "loss tf.Tensor(0.0, shape=(), dtype=float32)\n",
      "loss tf.Tensor(0.0, shape=(), dtype=float32)\n",
      "loss tf.Tensor(0.0, shape=(), dtype=float32)\n",
      "loss tf.Tensor(0.0, shape=(), dtype=float32)\n",
      "loss tf.Tensor(0.0, shape=(), dtype=float32)\n",
      "loss tf.Tensor(0.0, shape=(), dtype=float32)\n",
      "loss tf.Tensor(0.0, shape=(), dtype=float32)\n"
     ]
    },
    {
     "name": "stderr",
     "output_type": "stream",
     "text": [
      " 29%|██▉       | 2892/10000 [01:24<03:14, 36.63it/s, episode_reward=0, running_reward=0]"
     ]
    },
    {
     "name": "stdout",
     "output_type": "stream",
     "text": [
      "loss tf.Tensor(0.0, shape=(), dtype=float32)\n",
      "loss tf.Tensor(0.0, shape=(), dtype=float32)\n",
      "loss tf.Tensor(0.0, shape=(), dtype=float32)\n",
      "loss tf.Tensor(0.0, shape=(), dtype=float32)\n",
      "loss tf.Tensor(0.0, shape=(), dtype=float32)\n",
      "loss tf.Tensor(0.0, shape=(), dtype=float32)\n",
      "loss tf.Tensor(0.0, shape=(), dtype=float32)\n",
      "loss tf.Tensor(0.0, shape=(), dtype=float32)\n"
     ]
    },
    {
     "name": "stderr",
     "output_type": "stream",
     "text": [
      " 29%|██▉       | 2900/10000 [01:24<03:14, 36.48it/s, episode_reward=0, running_reward=0]"
     ]
    },
    {
     "name": "stdout",
     "output_type": "stream",
     "text": [
      "loss tf.Tensor(0.0, shape=(), dtype=float32)\n",
      "loss tf.Tensor(0.0, shape=(), dtype=float32)\n",
      "loss tf.Tensor(0.0, shape=(), dtype=float32)\n",
      "loss tf.Tensor(0.0, shape=(), dtype=float32)\n",
      "loss tf.Tensor(0.0, shape=(), dtype=float32)\n",
      "loss tf.Tensor(0.0, shape=(), dtype=float32)\n",
      "loss tf.Tensor(0.0, shape=(), dtype=float32)\n",
      "loss tf.Tensor(0.0, shape=(), dtype=float32)\n"
     ]
    },
    {
     "name": "stderr",
     "output_type": "stream",
     "text": [
      " 29%|██▉       | 2908/10000 [01:25<03:15, 36.36it/s, episode_reward=0, running_reward=0]"
     ]
    },
    {
     "name": "stdout",
     "output_type": "stream",
     "text": [
      "loss tf.Tensor(0.0, shape=(), dtype=float32)\n",
      "loss tf.Tensor(0.0, shape=(), dtype=float32)\n",
      "loss tf.Tensor(0.0, shape=(), dtype=float32)\n",
      "loss tf.Tensor(0.0, shape=(), dtype=float32)\n",
      "loss tf.Tensor(0.0, shape=(), dtype=float32)\n",
      "loss tf.Tensor(0.0, shape=(), dtype=float32)\n",
      "loss tf.Tensor(0.0, shape=(), dtype=float32)\n",
      "loss tf.Tensor(0.0, shape=(), dtype=float32)\n"
     ]
    },
    {
     "name": "stderr",
     "output_type": "stream",
     "text": [
      " 29%|██▉       | 2916/10000 [01:25<03:15, 36.30it/s, episode_reward=0, running_reward=0]"
     ]
    },
    {
     "name": "stdout",
     "output_type": "stream",
     "text": [
      "loss tf.Tensor(0.0, shape=(), dtype=float32)\n",
      "loss tf.Tensor(0.0, shape=(), dtype=float32)\n",
      "loss tf.Tensor(0.0, shape=(), dtype=float32)\n",
      "loss tf.Tensor(0.0, shape=(), dtype=float32)\n",
      "loss tf.Tensor(0.0, shape=(), dtype=float32)\n",
      "loss tf.Tensor(0.0, shape=(), dtype=float32)\n",
      "loss tf.Tensor(0.0, shape=(), dtype=float32)\n",
      "loss tf.Tensor(0.0, shape=(), dtype=float32)\n"
     ]
    },
    {
     "name": "stderr",
     "output_type": "stream",
     "text": [
      " 29%|██▉       | 2916/10000 [01:25<03:15, 36.30it/s, episode_reward=0, running_reward=0]"
     ]
    },
    {
     "name": "stdout",
     "output_type": "stream",
     "text": [
      "loss tf.Tensor(0.0, shape=(), dtype=float32)\n",
      "loss tf.Tensor(0.0, shape=(), dtype=float32)\n",
      "loss tf.Tensor(0.0, shape=(), dtype=float32)\n"
     ]
    },
    {
     "name": "stderr",
     "output_type": "stream",
     "text": [
      " 29%|██▉       | 2924/10000 [01:25<04:12, 27.99it/s, episode_reward=0, running_reward=0]"
     ]
    },
    {
     "name": "stdout",
     "output_type": "stream",
     "text": [
      "loss tf.Tensor(0.0, shape=(), dtype=float32)\n",
      "loss tf.Tensor(0.0, shape=(), dtype=float32)\n",
      "loss tf.Tensor(0.0, shape=(), dtype=float32)\n",
      "loss tf.Tensor(0.0, shape=(), dtype=float32)\n",
      "loss tf.Tensor(0.0, shape=(), dtype=float32)\n",
      "loss tf.Tensor(0.0, shape=(), dtype=float32)\n",
      "loss tf.Tensor(0.0, shape=(), dtype=float32)\n"
     ]
    },
    {
     "name": "stderr",
     "output_type": "stream",
     "text": [
      " 29%|██▉       | 2932/10000 [01:25<03:44, 31.55it/s, episode_reward=0, running_reward=0]"
     ]
    },
    {
     "name": "stdout",
     "output_type": "stream",
     "text": [
      "loss tf.Tensor(0.0, shape=(), dtype=float32)\n",
      "loss tf.Tensor(0.0, shape=(), dtype=float32)\n",
      "loss tf.Tensor(0.0, shape=(), dtype=float32)\n",
      "loss tf.Tensor(0.0, shape=(), dtype=float32)\n",
      "loss tf.Tensor(0.0, shape=(), dtype=float32)\n",
      "loss tf.Tensor(0.0, shape=(), dtype=float32)\n",
      "loss tf.Tensor(0.0, shape=(), dtype=float32)\n",
      "loss tf.Tensor(0.0, shape=(), dtype=float32)\n"
     ]
    },
    {
     "name": "stderr",
     "output_type": "stream",
     "text": [
      " 29%|██▉       | 2940/10000 [01:26<03:29, 33.71it/s, episode_reward=0, running_reward=0]"
     ]
    },
    {
     "name": "stdout",
     "output_type": "stream",
     "text": [
      "loss tf.Tensor(0.0, shape=(), dtype=float32)\n",
      "loss tf.Tensor(0.0, shape=(), dtype=float32)\n",
      "loss tf.Tensor(0.0, shape=(), dtype=float32)\n",
      "loss tf.Tensor(0.0, shape=(), dtype=float32)\n",
      "loss tf.Tensor(0.0, shape=(), dtype=float32)\n",
      "loss tf.Tensor(0.0, shape=(), dtype=float32)\n",
      "loss tf.Tensor(0.0, shape=(), dtype=float32)\n",
      "loss tf.Tensor(0.0, shape=(), dtype=float32)\n"
     ]
    },
    {
     "name": "stderr",
     "output_type": "stream",
     "text": [
      " 29%|██▉       | 2948/10000 [01:26<03:20, 35.19it/s, episode_reward=0, running_reward=0]"
     ]
    },
    {
     "name": "stdout",
     "output_type": "stream",
     "text": [
      "loss tf.Tensor(0.0, shape=(), dtype=float32)\n",
      "loss tf.Tensor(0.0, shape=(), dtype=float32)\n",
      "loss tf.Tensor(0.0, shape=(), dtype=float32)\n",
      "loss tf.Tensor(0.0, shape=(), dtype=float32)\n",
      "loss tf.Tensor(0.0, shape=(), dtype=float32)\n",
      "loss tf.Tensor(0.0, shape=(), dtype=float32)\n",
      "loss tf.Tensor(0.0, shape=(), dtype=float32)\n",
      "loss tf.Tensor(0.0, shape=(), dtype=float32)\n"
     ]
    },
    {
     "name": "stderr",
     "output_type": "stream",
     "text": [
      " 30%|██▉       | 2956/10000 [01:26<03:16, 35.78it/s, episode_reward=0, running_reward=0]"
     ]
    },
    {
     "name": "stdout",
     "output_type": "stream",
     "text": [
      "loss tf.Tensor(0.0, shape=(), dtype=float32)\n",
      "loss tf.Tensor(0.0, shape=(), dtype=float32)\n",
      "loss tf.Tensor(0.0, shape=(), dtype=float32)\n",
      "loss tf.Tensor(0.0, shape=(), dtype=float32)\n",
      "loss tf.Tensor(0.0, shape=(), dtype=float32)\n",
      "loss tf.Tensor(0.0, shape=(), dtype=float32)\n",
      "loss tf.Tensor(0.0, shape=(), dtype=float32)\n",
      "loss tf.Tensor(0.0, shape=(), dtype=float32)\n"
     ]
    },
    {
     "name": "stderr",
     "output_type": "stream",
     "text": [
      " 30%|██▉       | 2964/10000 [01:26<03:16, 35.74it/s, episode_reward=0, running_reward=0]"
     ]
    },
    {
     "name": "stdout",
     "output_type": "stream",
     "text": [
      "loss tf.Tensor(0.0, shape=(), dtype=float32)\n",
      "loss tf.Tensor(0.0, shape=(), dtype=float32)\n",
      "loss tf.Tensor(0.0, shape=(), dtype=float32)\n",
      "loss tf.Tensor(0.0, shape=(), dtype=float32)\n",
      "loss tf.Tensor(0.0, shape=(), dtype=float32)\n",
      "loss tf.Tensor(0.0, shape=(), dtype=float32)\n",
      "loss tf.Tensor(0.0, shape=(), dtype=float32)\n",
      "loss tf.Tensor(0.0, shape=(), dtype=float32)\n"
     ]
    },
    {
     "name": "stderr",
     "output_type": "stream",
     "text": [
      " 30%|██▉       | 2972/10000 [01:27<03:14, 36.09it/s, episode_reward=0, running_reward=0]"
     ]
    },
    {
     "name": "stdout",
     "output_type": "stream",
     "text": [
      "loss tf.Tensor(0.0, shape=(), dtype=float32)\n",
      "loss tf.Tensor(0.0, shape=(), dtype=float32)\n",
      "loss tf.Tensor(0.0, shape=(), dtype=float32)\n",
      "loss tf.Tensor(0.0, shape=(), dtype=float32)\n",
      "loss tf.Tensor(0.0, shape=(), dtype=float32)\n",
      "loss tf.Tensor(0.0, shape=(), dtype=float32)\n",
      "loss tf.Tensor(0.0, shape=(), dtype=float32)\n",
      "loss tf.Tensor(0.0, shape=(), dtype=float32)\n"
     ]
    },
    {
     "name": "stderr",
     "output_type": "stream",
     "text": [
      " 30%|██▉       | 2980/10000 [01:27<03:13, 36.37it/s, episode_reward=0, running_reward=0]"
     ]
    },
    {
     "name": "stdout",
     "output_type": "stream",
     "text": [
      "loss tf.Tensor(0.0, shape=(), dtype=float32)\n",
      "loss tf.Tensor(0.0, shape=(), dtype=float32)\n",
      "loss tf.Tensor(0.0, shape=(), dtype=float32)\n",
      "loss tf.Tensor(0.0, shape=(), dtype=float32)\n",
      "loss tf.Tensor(0.0, shape=(), dtype=float32)\n",
      "loss tf.Tensor(0.0, shape=(), dtype=float32)\n",
      "loss tf.Tensor(0.0, shape=(), dtype=float32)\n",
      "loss tf.Tensor(0.0, shape=(), dtype=float32)\n"
     ]
    },
    {
     "name": "stderr",
     "output_type": "stream",
     "text": [
      " 30%|██▉       | 2988/10000 [01:27<03:12, 36.33it/s, episode_reward=0, running_reward=0]"
     ]
    },
    {
     "name": "stdout",
     "output_type": "stream",
     "text": [
      "loss tf.Tensor(0.0, shape=(), dtype=float32)\n",
      "loss tf.Tensor(0.0, shape=(), dtype=float32)\n",
      "loss tf.Tensor(0.0, shape=(), dtype=float32)\n",
      "loss tf.Tensor(0.0, shape=(), dtype=float32)\n",
      "loss tf.Tensor(0.0, shape=(), dtype=float32)\n",
      "loss tf.Tensor(0.0, shape=(), dtype=float32)\n",
      "loss tf.Tensor(0.0, shape=(), dtype=float32)\n",
      "loss tf.Tensor(0.0, shape=(), dtype=float32)\n"
     ]
    },
    {
     "name": "stderr",
     "output_type": "stream",
     "text": [
      " 30%|██▉       | 2996/10000 [01:27<03:12, 36.33it/s, episode_reward=0, running_reward=0]"
     ]
    },
    {
     "name": "stdout",
     "output_type": "stream",
     "text": [
      "loss tf.Tensor(0.0, shape=(), dtype=float32)\n",
      "loss tf.Tensor(0.0, shape=(), dtype=float32)\n",
      "loss tf.Tensor(0.0, shape=(), dtype=float32)\n",
      "loss tf.Tensor(0.0, shape=(), dtype=float32)\n",
      "loss tf.Tensor(0.0, shape=(), dtype=float32)\n",
      "loss tf.Tensor(0.0, shape=(), dtype=float32)\n",
      "loss tf.Tensor(0.0, shape=(), dtype=float32)\n",
      "loss tf.Tensor(0.0, shape=(), dtype=float32)\n"
     ]
    },
    {
     "name": "stderr",
     "output_type": "stream",
     "text": [
      " 30%|███       | 3004/10000 [01:28<04:11, 27.85it/s, episode_reward=0, running_reward=0]"
     ]
    },
    {
     "name": "stdout",
     "output_type": "stream",
     "text": [
      "loss tf.Tensor(0.0, shape=(), dtype=float32)\n",
      "loss tf.Tensor(0.0, shape=(), dtype=float32)\n",
      "loss tf.Tensor(0.0, shape=(), dtype=float32)\n",
      "loss tf.Tensor(0.0, shape=(), dtype=float32)\n",
      "loss tf.Tensor(0.0, shape=(), dtype=float32)\n",
      "loss tf.Tensor(0.0, shape=(), dtype=float32)\n",
      "loss tf.Tensor(0.0, shape=(), dtype=float32)\n"
     ]
    },
    {
     "name": "stderr",
     "output_type": "stream",
     "text": [
      " 30%|███       | 3012/10000 [01:28<03:42, 31.40it/s, episode_reward=0, running_reward=0]"
     ]
    },
    {
     "name": "stdout",
     "output_type": "stream",
     "text": [
      "loss tf.Tensor(0.0, shape=(), dtype=float32)\n",
      "loss tf.Tensor(0.0, shape=(), dtype=float32)\n",
      "loss tf.Tensor(0.0, shape=(), dtype=float32)\n",
      "loss tf.Tensor(0.0, shape=(), dtype=float32)\n",
      "loss tf.Tensor(0.0, shape=(), dtype=float32)\n",
      "loss tf.Tensor(0.0, shape=(), dtype=float32)\n",
      "loss tf.Tensor(0.0, shape=(), dtype=float32)\n",
      "loss tf.Tensor(0.0, shape=(), dtype=float32)\n"
     ]
    },
    {
     "name": "stderr",
     "output_type": "stream",
     "text": [
      " 30%|███       | 3020/10000 [01:28<03:26, 33.88it/s, episode_reward=0, running_reward=0]"
     ]
    },
    {
     "name": "stdout",
     "output_type": "stream",
     "text": [
      "loss tf.Tensor(0.0, shape=(), dtype=float32)\n",
      "loss tf.Tensor(0.0, shape=(), dtype=float32)\n",
      "loss tf.Tensor(0.0, shape=(), dtype=float32)\n",
      "loss tf.Tensor(0.0, shape=(), dtype=float32)\n",
      "loss tf.Tensor(0.0, shape=(), dtype=float32)\n",
      "loss tf.Tensor(0.0, shape=(), dtype=float32)\n",
      "loss tf.Tensor(0.0, shape=(), dtype=float32)\n",
      "loss tf.Tensor(0.0, shape=(), dtype=float32)\n"
     ]
    },
    {
     "name": "stderr",
     "output_type": "stream",
     "text": [
      " 30%|███       | 3028/10000 [01:28<03:17, 35.39it/s, episode_reward=0, running_reward=0]"
     ]
    },
    {
     "name": "stdout",
     "output_type": "stream",
     "text": [
      "loss tf.Tensor(0.0, shape=(), dtype=float32)\n",
      "loss tf.Tensor(0.0, shape=(), dtype=float32)\n",
      "loss tf.Tensor(0.0, shape=(), dtype=float32)\n",
      "loss tf.Tensor(0.0, shape=(), dtype=float32)\n",
      "loss tf.Tensor(0.0, shape=(), dtype=float32)\n",
      "loss tf.Tensor(0.0, shape=(), dtype=float32)\n",
      "loss tf.Tensor(0.0, shape=(), dtype=float32)\n",
      "loss tf.Tensor(0.0, shape=(), dtype=float32)\n"
     ]
    },
    {
     "name": "stderr",
     "output_type": "stream",
     "text": [
      " 30%|███       | 3036/10000 [01:28<03:14, 35.74it/s, episode_reward=0, running_reward=0]"
     ]
    },
    {
     "name": "stdout",
     "output_type": "stream",
     "text": [
      "loss tf.Tensor(0.0, shape=(), dtype=float32)\n",
      "loss tf.Tensor(0.0, shape=(), dtype=float32)\n",
      "loss tf.Tensor(0.0, shape=(), dtype=float32)\n",
      "loss tf.Tensor(0.0, shape=(), dtype=float32)\n",
      "loss tf.Tensor(0.0, shape=(), dtype=float32)\n",
      "loss tf.Tensor(0.0, shape=(), dtype=float32)\n",
      "loss tf.Tensor(0.0, shape=(), dtype=float32)\n",
      "loss tf.Tensor(0.0, shape=(), dtype=float32)\n"
     ]
    },
    {
     "name": "stderr",
     "output_type": "stream",
     "text": [
      " 30%|███       | 3044/10000 [01:29<03:13, 36.03it/s, episode_reward=0, running_reward=0]"
     ]
    },
    {
     "name": "stdout",
     "output_type": "stream",
     "text": [
      "loss tf.Tensor(0.0, shape=(), dtype=float32)\n",
      "loss tf.Tensor(0.0, shape=(), dtype=float32)\n",
      "loss tf.Tensor(0.0, shape=(), dtype=float32)\n",
      "loss tf.Tensor(0.0, shape=(), dtype=float32)\n",
      "loss tf.Tensor(0.0, shape=(), dtype=float32)\n",
      "loss tf.Tensor(0.0, shape=(), dtype=float32)\n",
      "loss tf.Tensor(0.0, shape=(), dtype=float32)\n",
      "loss tf.Tensor(0.0, shape=(), dtype=float32)\n"
     ]
    },
    {
     "name": "stderr",
     "output_type": "stream",
     "text": [
      " 31%|███       | 3052/10000 [01:29<03:11, 36.23it/s, episode_reward=0, running_reward=0]"
     ]
    },
    {
     "name": "stdout",
     "output_type": "stream",
     "text": [
      "loss tf.Tensor(0.0, shape=(), dtype=float32)\n",
      "loss tf.Tensor(0.0, shape=(), dtype=float32)\n",
      "loss tf.Tensor(0.0, shape=(), dtype=float32)\n",
      "loss tf.Tensor(0.0, shape=(), dtype=float32)\n",
      "loss tf.Tensor(0.0, shape=(), dtype=float32)\n",
      "loss tf.Tensor(0.0, shape=(), dtype=float32)\n",
      "loss tf.Tensor(0.0, shape=(), dtype=float32)\n",
      "loss tf.Tensor(0.0, shape=(), dtype=float32)\n"
     ]
    },
    {
     "name": "stderr",
     "output_type": "stream",
     "text": [
      " 31%|███       | 3056/10000 [01:29<03:14, 35.64it/s, episode_reward=0, running_reward=0]"
     ]
    },
    {
     "name": "stdout",
     "output_type": "stream",
     "text": [
      "loss tf.Tensor(0.0, shape=(), dtype=float32)\n",
      "loss tf.Tensor(0.0, shape=(), dtype=float32)\n",
      "loss tf.Tensor(0.0, shape=(), dtype=float32)\n"
     ]
    },
    {
     "name": "stderr",
     "output_type": "stream",
     "text": [
      " 31%|███       | 3060/10000 [01:29<04:37, 25.05it/s, episode_reward=0, running_reward=0]"
     ]
    },
    {
     "name": "stdout",
     "output_type": "stream",
     "text": [
      "loss tf.Tensor(0.0, shape=(), dtype=float32)\n",
      "loss tf.Tensor(0.0, shape=(), dtype=float32)\n",
      "loss tf.Tensor(0.0, shape=(), dtype=float32)\n",
      "loss tf.Tensor(0.0, shape=(), dtype=float32)\n",
      "loss tf.Tensor(0.0, shape=(), dtype=float32)\n",
      "loss tf.Tensor(0.0, shape=(), dtype=float32)\n",
      "loss tf.Tensor(0.0, shape=(), dtype=float32)\n"
     ]
    },
    {
     "name": "stderr",
     "output_type": "stream",
     "text": [
      " 31%|███       | 3068/10000 [01:30<03:56, 29.37it/s, episode_reward=0, running_reward=0]"
     ]
    },
    {
     "name": "stdout",
     "output_type": "stream",
     "text": [
      "loss tf.Tensor(0.0, shape=(), dtype=float32)\n",
      "loss tf.Tensor(0.0, shape=(), dtype=float32)\n",
      "loss tf.Tensor(0.0, shape=(), dtype=float32)\n",
      "loss tf.Tensor(0.0, shape=(), dtype=float32)\n",
      "loss tf.Tensor(0.0, shape=(), dtype=float32)\n",
      "loss tf.Tensor(0.0, shape=(), dtype=float32)\n",
      "loss tf.Tensor(0.0, shape=(), dtype=float32)\n",
      "loss tf.Tensor(0.0, shape=(), dtype=float32)\n"
     ]
    },
    {
     "name": "stderr",
     "output_type": "stream",
     "text": [
      " 31%|███       | 3076/10000 [01:30<03:33, 32.46it/s, episode_reward=0, running_reward=0]"
     ]
    },
    {
     "name": "stdout",
     "output_type": "stream",
     "text": [
      "loss tf.Tensor(0.0, shape=(), dtype=float32)\n",
      "loss tf.Tensor(0.0, shape=(), dtype=float32)\n",
      "loss tf.Tensor(0.0, shape=(), dtype=float32)\n",
      "loss tf.Tensor(0.0, shape=(), dtype=float32)\n",
      "loss tf.Tensor(0.0, shape=(), dtype=float32)\n",
      "loss tf.Tensor(0.0, shape=(), dtype=float32)\n",
      "loss tf.Tensor(0.0, shape=(), dtype=float32)\n",
      "loss tf.Tensor(0.0, shape=(), dtype=float32)\n"
     ]
    },
    {
     "name": "stderr",
     "output_type": "stream",
     "text": [
      " 31%|███       | 3084/10000 [01:30<03:21, 34.35it/s, episode_reward=0, running_reward=0]"
     ]
    },
    {
     "name": "stdout",
     "output_type": "stream",
     "text": [
      "loss tf.Tensor(0.0, shape=(), dtype=float32)\n",
      "loss tf.Tensor(0.0, shape=(), dtype=float32)\n",
      "loss tf.Tensor(0.0, shape=(), dtype=float32)\n",
      "loss tf.Tensor(0.0, shape=(), dtype=float32)\n",
      "loss tf.Tensor(0.0, shape=(), dtype=float32)\n",
      "loss tf.Tensor(0.0, shape=(), dtype=float32)\n",
      "loss tf.Tensor(0.0, shape=(), dtype=float32)\n",
      "loss tf.Tensor(0.0, shape=(), dtype=float32)\n"
     ]
    },
    {
     "name": "stderr",
     "output_type": "stream",
     "text": [
      " 31%|███       | 3092/10000 [01:30<03:16, 35.18it/s, episode_reward=0, running_reward=0]"
     ]
    },
    {
     "name": "stdout",
     "output_type": "stream",
     "text": [
      "loss tf.Tensor(0.0, shape=(), dtype=float32)\n",
      "loss tf.Tensor(0.0, shape=(), dtype=float32)\n",
      "loss tf.Tensor(0.0, shape=(), dtype=float32)\n",
      "loss tf.Tensor(0.0, shape=(), dtype=float32)\n",
      "loss tf.Tensor(0.0, shape=(), dtype=float32)\n",
      "loss tf.Tensor(0.0, shape=(), dtype=float32)\n",
      "loss tf.Tensor(0.0, shape=(), dtype=float32)\n",
      "loss tf.Tensor(0.0, shape=(), dtype=float32)\n"
     ]
    },
    {
     "name": "stderr",
     "output_type": "stream",
     "text": [
      " 31%|███       | 3100/10000 [01:30<03:12, 35.81it/s, episode_reward=0, running_reward=0]"
     ]
    },
    {
     "name": "stdout",
     "output_type": "stream",
     "text": [
      "loss tf.Tensor(0.0, shape=(), dtype=float32)\n",
      "loss tf.Tensor(0.0, shape=(), dtype=float32)\n",
      "loss tf.Tensor(0.0, shape=(), dtype=float32)\n",
      "loss tf.Tensor(0.0, shape=(), dtype=float32)\n",
      "loss tf.Tensor(0.0, shape=(), dtype=float32)\n",
      "loss tf.Tensor(0.0, shape=(), dtype=float32)\n",
      "loss tf.Tensor(0.0, shape=(), dtype=float32)\n",
      "loss tf.Tensor(0.0, shape=(), dtype=float32)\n"
     ]
    },
    {
     "name": "stderr",
     "output_type": "stream",
     "text": [
      " 31%|███       | 3108/10000 [01:31<03:15, 35.26it/s, episode_reward=0, running_reward=0]"
     ]
    },
    {
     "name": "stdout",
     "output_type": "stream",
     "text": [
      "loss tf.Tensor(0.0, shape=(), dtype=float32)\n",
      "loss tf.Tensor(0.0, shape=(), dtype=float32)\n",
      "loss tf.Tensor(0.0, shape=(), dtype=float32)\n",
      "loss tf.Tensor(0.0, shape=(), dtype=float32)\n",
      "loss tf.Tensor(0.0, shape=(), dtype=float32)\n",
      "loss tf.Tensor(0.0, shape=(), dtype=float32)\n",
      "loss tf.Tensor(0.0, shape=(), dtype=float32)\n",
      "loss tf.Tensor(0.0, shape=(), dtype=float32)\n"
     ]
    },
    {
     "name": "stderr",
     "output_type": "stream",
     "text": [
      " 31%|███       | 3116/10000 [01:31<03:15, 35.24it/s, episode_reward=0, running_reward=0]"
     ]
    },
    {
     "name": "stdout",
     "output_type": "stream",
     "text": [
      "loss tf.Tensor(0.0, shape=(), dtype=float32)\n",
      "loss tf.Tensor(0.0, shape=(), dtype=float32)\n",
      "loss tf.Tensor(0.0, shape=(), dtype=float32)\n",
      "loss tf.Tensor(0.0, shape=(), dtype=float32)\n",
      "loss tf.Tensor(0.0, shape=(), dtype=float32)\n",
      "loss tf.Tensor(0.0, shape=(), dtype=float32)\n",
      "loss tf.Tensor(0.0, shape=(), dtype=float32)\n",
      "loss tf.Tensor(0.0, shape=(), dtype=float32)\n"
     ]
    },
    {
     "name": "stderr",
     "output_type": "stream",
     "text": [
      " 31%|███       | 3124/10000 [01:31<03:13, 35.55it/s, episode_reward=0, running_reward=0]"
     ]
    },
    {
     "name": "stdout",
     "output_type": "stream",
     "text": [
      "loss tf.Tensor(0.0, shape=(), dtype=float32)\n",
      "loss tf.Tensor(0.0, shape=(), dtype=float32)\n",
      "loss tf.Tensor(0.0, shape=(), dtype=float32)\n",
      "loss tf.Tensor(0.0, shape=(), dtype=float32)\n",
      "loss tf.Tensor(0.0, shape=(), dtype=float32)\n",
      "loss tf.Tensor(0.0, shape=(), dtype=float32)\n",
      "loss tf.Tensor(0.0, shape=(), dtype=float32)\n",
      "loss tf.Tensor(0.0, shape=(), dtype=float32)\n"
     ]
    },
    {
     "name": "stderr",
     "output_type": "stream",
     "text": [
      " 31%|███▏      | 3128/10000 [01:31<03:11, 35.82it/s, episode_reward=0, running_reward=0]"
     ]
    },
    {
     "name": "stdout",
     "output_type": "stream",
     "text": [
      "loss tf.Tensor(0.0, shape=(), dtype=float32)\n",
      "loss tf.Tensor(0.0, shape=(), dtype=float32)\n",
      "loss tf.Tensor(0.0, shape=(), dtype=float32)\n"
     ]
    },
    {
     "name": "stderr",
     "output_type": "stream",
     "text": [
      " 31%|███▏      | 3136/10000 [01:32<04:12, 27.14it/s, episode_reward=0, running_reward=0]"
     ]
    },
    {
     "name": "stdout",
     "output_type": "stream",
     "text": [
      "loss tf.Tensor(0.0, shape=(), dtype=float32)\n",
      "loss tf.Tensor(0.0, shape=(), dtype=float32)\n",
      "loss tf.Tensor(0.0, shape=(), dtype=float32)\n",
      "loss tf.Tensor(0.0, shape=(), dtype=float32)\n",
      "loss tf.Tensor(0.0, shape=(), dtype=float32)\n",
      "loss tf.Tensor(0.0, shape=(), dtype=float32)\n",
      "loss tf.Tensor(0.0, shape=(), dtype=float32)\n",
      "loss tf.Tensor(0.0, shape=(), dtype=float32)\n"
     ]
    },
    {
     "name": "stderr",
     "output_type": "stream",
     "text": [
      " 31%|███▏      | 3144/10000 [01:32<03:39, 31.30it/s, episode_reward=0, running_reward=0]"
     ]
    },
    {
     "name": "stdout",
     "output_type": "stream",
     "text": [
      "loss tf.Tensor(0.0, shape=(), dtype=float32)\n",
      "loss tf.Tensor(0.0, shape=(), dtype=float32)\n",
      "loss tf.Tensor(0.0, shape=(), dtype=float32)\n",
      "loss tf.Tensor(0.0, shape=(), dtype=float32)\n",
      "loss tf.Tensor(0.0, shape=(), dtype=float32)\n",
      "loss tf.Tensor(0.0, shape=(), dtype=float32)\n",
      "loss tf.Tensor(0.0, shape=(), dtype=float32)\n",
      "loss tf.Tensor(0.0, shape=(), dtype=float32)\n"
     ]
    },
    {
     "name": "stderr",
     "output_type": "stream",
     "text": [
      " 32%|███▏      | 3152/10000 [01:32<03:22, 33.85it/s, episode_reward=0, running_reward=0]"
     ]
    },
    {
     "name": "stdout",
     "output_type": "stream",
     "text": [
      "loss tf.Tensor(0.0, shape=(), dtype=float32)\n",
      "loss tf.Tensor(0.0, shape=(), dtype=float32)\n",
      "loss tf.Tensor(0.0, shape=(), dtype=float32)\n",
      "loss tf.Tensor(0.0, shape=(), dtype=float32)\n",
      "loss tf.Tensor(0.0, shape=(), dtype=float32)\n",
      "loss tf.Tensor(0.0, shape=(), dtype=float32)\n",
      "loss tf.Tensor(0.0, shape=(), dtype=float32)\n",
      "loss tf.Tensor(0.0, shape=(), dtype=float32)\n"
     ]
    },
    {
     "name": "stderr",
     "output_type": "stream",
     "text": [
      " 32%|███▏      | 3160/10000 [01:32<03:14, 35.10it/s, episode_reward=0, running_reward=0]"
     ]
    },
    {
     "name": "stdout",
     "output_type": "stream",
     "text": [
      "loss tf.Tensor(0.0, shape=(), dtype=float32)\n",
      "loss tf.Tensor(0.0, shape=(), dtype=float32)\n",
      "loss tf.Tensor(0.0, shape=(), dtype=float32)\n",
      "loss tf.Tensor(0.0, shape=(), dtype=float32)\n",
      "loss tf.Tensor(0.0, shape=(), dtype=float32)\n",
      "loss tf.Tensor(0.0, shape=(), dtype=float32)\n",
      "loss tf.Tensor(0.0, shape=(), dtype=float32)\n",
      "loss tf.Tensor(0.0, shape=(), dtype=float32)\n"
     ]
    },
    {
     "name": "stderr",
     "output_type": "stream",
     "text": [
      " 32%|███▏      | 3168/10000 [01:32<03:10, 35.78it/s, episode_reward=0, running_reward=0]"
     ]
    },
    {
     "name": "stdout",
     "output_type": "stream",
     "text": [
      "loss tf.Tensor(0.0, shape=(), dtype=float32)\n",
      "loss tf.Tensor(0.0, shape=(), dtype=float32)\n",
      "loss tf.Tensor(0.0, shape=(), dtype=float32)\n",
      "loss tf.Tensor(0.0, shape=(), dtype=float32)\n",
      "loss tf.Tensor(0.0, shape=(), dtype=float32)\n",
      "loss tf.Tensor(0.0, shape=(), dtype=float32)\n",
      "loss tf.Tensor(0.0, shape=(), dtype=float32)\n",
      "loss tf.Tensor(0.0, shape=(), dtype=float32)\n"
     ]
    },
    {
     "name": "stderr",
     "output_type": "stream",
     "text": [
      " 32%|███▏      | 3176/10000 [01:33<03:08, 36.24it/s, episode_reward=0, running_reward=0]"
     ]
    },
    {
     "name": "stdout",
     "output_type": "stream",
     "text": [
      "loss tf.Tensor(0.0, shape=(), dtype=float32)\n",
      "loss tf.Tensor(0.0, shape=(), dtype=float32)\n",
      "loss tf.Tensor(0.0, shape=(), dtype=float32)\n",
      "loss tf.Tensor(0.0, shape=(), dtype=float32)\n",
      "loss tf.Tensor(0.0, shape=(), dtype=float32)\n",
      "loss tf.Tensor(0.0, shape=(), dtype=float32)\n",
      "loss tf.Tensor(0.0, shape=(), dtype=float32)\n",
      "loss tf.Tensor(0.0, shape=(), dtype=float32)\n"
     ]
    },
    {
     "name": "stderr",
     "output_type": "stream",
     "text": [
      " 32%|███▏      | 3184/10000 [01:33<03:07, 36.26it/s, episode_reward=0, running_reward=0]"
     ]
    },
    {
     "name": "stdout",
     "output_type": "stream",
     "text": [
      "loss tf.Tensor(0.0, shape=(), dtype=float32)\n",
      "loss tf.Tensor(0.0, shape=(), dtype=float32)\n",
      "loss tf.Tensor(0.0, shape=(), dtype=float32)\n",
      "loss tf.Tensor(0.0, shape=(), dtype=float32)\n",
      "loss tf.Tensor(0.0, shape=(), dtype=float32)\n",
      "loss tf.Tensor(0.0, shape=(), dtype=float32)\n",
      "loss tf.Tensor(0.0, shape=(), dtype=float32)\n",
      "loss tf.Tensor(0.0, shape=(), dtype=float32)\n"
     ]
    },
    {
     "name": "stderr",
     "output_type": "stream",
     "text": [
      " 32%|███▏      | 3192/10000 [01:33<03:07, 36.24it/s, episode_reward=0, running_reward=0]"
     ]
    },
    {
     "name": "stdout",
     "output_type": "stream",
     "text": [
      "loss tf.Tensor(0.0, shape=(), dtype=float32)\n",
      "loss tf.Tensor(0.0, shape=(), dtype=float32)\n",
      "loss tf.Tensor(0.0, shape=(), dtype=float32)\n",
      "loss tf.Tensor(0.0, shape=(), dtype=float32)\n",
      "loss tf.Tensor(0.0, shape=(), dtype=float32)\n",
      "loss tf.Tensor(0.0, shape=(), dtype=float32)\n",
      "loss tf.Tensor(0.0, shape=(), dtype=float32)\n",
      "loss tf.Tensor(0.0, shape=(), dtype=float32)\n"
     ]
    },
    {
     "name": "stderr",
     "output_type": "stream",
     "text": [
      " 32%|███▏      | 3200/10000 [01:33<03:07, 36.32it/s, episode_reward=0, running_reward=0]"
     ]
    },
    {
     "name": "stdout",
     "output_type": "stream",
     "text": [
      "loss tf.Tensor(0.0, shape=(), dtype=float32)\n",
      "loss tf.Tensor(0.0, shape=(), dtype=float32)\n",
      "loss tf.Tensor(0.0, shape=(), dtype=float32)\n",
      "loss tf.Tensor(0.0, shape=(), dtype=float32)\n",
      "loss tf.Tensor(0.0, shape=(), dtype=float32)\n",
      "loss tf.Tensor(0.0, shape=(), dtype=float32)\n"
     ]
    },
    {
     "name": "stderr",
     "output_type": "stream",
     "text": [
      " 32%|███▏      | 3204/10000 [01:34<04:10, 27.13it/s, episode_reward=0, running_reward=0]"
     ]
    },
    {
     "name": "stdout",
     "output_type": "stream",
     "text": [
      "loss tf.Tensor(0.0, shape=(), dtype=float32)\n",
      "loss tf.Tensor(0.0, shape=(), dtype=float32)\n",
      "loss tf.Tensor(0.0, shape=(), dtype=float32)\n",
      "loss tf.Tensor(0.0, shape=(), dtype=float32)\n",
      "loss tf.Tensor(0.0, shape=(), dtype=float32)\n",
      "loss tf.Tensor(0.0, shape=(), dtype=float32)\n"
     ]
    },
    {
     "name": "stderr",
     "output_type": "stream",
     "text": [
      " 32%|███▏      | 3212/10000 [01:34<03:43, 30.36it/s, episode_reward=0, running_reward=0]"
     ]
    },
    {
     "name": "stdout",
     "output_type": "stream",
     "text": [
      "loss tf.Tensor(0.0, shape=(), dtype=float32)\n",
      "loss tf.Tensor(0.0, shape=(), dtype=float32)\n",
      "loss tf.Tensor(0.0, shape=(), dtype=float32)\n",
      "loss tf.Tensor(0.0, shape=(), dtype=float32)\n",
      "loss tf.Tensor(0.0, shape=(), dtype=float32)\n",
      "loss tf.Tensor(0.0, shape=(), dtype=float32)\n",
      "loss tf.Tensor(0.0, shape=(), dtype=float32)\n",
      "loss tf.Tensor(0.0, shape=(), dtype=float32)\n"
     ]
    },
    {
     "name": "stderr",
     "output_type": "stream",
     "text": [
      " 32%|███▏      | 3220/10000 [01:34<03:24, 33.09it/s, episode_reward=0, running_reward=0]"
     ]
    },
    {
     "name": "stdout",
     "output_type": "stream",
     "text": [
      "loss tf.Tensor(0.0, shape=(), dtype=float32)\n",
      "loss tf.Tensor(0.0, shape=(), dtype=float32)\n",
      "loss tf.Tensor(0.0, shape=(), dtype=float32)\n",
      "loss tf.Tensor(0.0, shape=(), dtype=float32)\n",
      "loss tf.Tensor(0.0, shape=(), dtype=float32)\n",
      "loss tf.Tensor(0.0, shape=(), dtype=float32)\n",
      "loss tf.Tensor(0.0, shape=(), dtype=float32)\n",
      "loss tf.Tensor(0.0, shape=(), dtype=float32)\n"
     ]
    },
    {
     "name": "stderr",
     "output_type": "stream",
     "text": [
      " 32%|███▏      | 3228/10000 [01:34<03:18, 34.20it/s, episode_reward=0, running_reward=0]"
     ]
    },
    {
     "name": "stdout",
     "output_type": "stream",
     "text": [
      "loss tf.Tensor(0.0, shape=(), dtype=float32)\n",
      "loss tf.Tensor(0.0, shape=(), dtype=float32)\n",
      "loss tf.Tensor(0.0, shape=(), dtype=float32)\n",
      "loss tf.Tensor(0.0, shape=(), dtype=float32)\n",
      "loss tf.Tensor(0.0, shape=(), dtype=float32)\n",
      "loss tf.Tensor(0.0, shape=(), dtype=float32)\n",
      "loss tf.Tensor(0.0, shape=(), dtype=float32)\n",
      "loss tf.Tensor(0.0, shape=(), dtype=float32)\n"
     ]
    },
    {
     "name": "stderr",
     "output_type": "stream",
     "text": [
      " 32%|███▏      | 3236/10000 [01:34<03:12, 35.16it/s, episode_reward=0, running_reward=0]"
     ]
    },
    {
     "name": "stdout",
     "output_type": "stream",
     "text": [
      "loss tf.Tensor(0.0, shape=(), dtype=float32)\n",
      "loss tf.Tensor(0.0, shape=(), dtype=float32)\n",
      "loss tf.Tensor(0.0, shape=(), dtype=float32)\n",
      "loss tf.Tensor(0.0, shape=(), dtype=float32)\n",
      "loss tf.Tensor(0.0, shape=(), dtype=float32)\n",
      "loss tf.Tensor(0.0, shape=(), dtype=float32)\n",
      "loss tf.Tensor(0.0, shape=(), dtype=float32)\n",
      "loss tf.Tensor(0.0, shape=(), dtype=float32)\n"
     ]
    },
    {
     "name": "stderr",
     "output_type": "stream",
     "text": [
      " 32%|███▏      | 3244/10000 [01:35<03:08, 35.93it/s, episode_reward=0, running_reward=0]"
     ]
    },
    {
     "name": "stdout",
     "output_type": "stream",
     "text": [
      "loss tf.Tensor(0.0, shape=(), dtype=float32)\n",
      "loss tf.Tensor(0.0, shape=(), dtype=float32)\n",
      "loss tf.Tensor(0.0, shape=(), dtype=float32)\n",
      "loss tf.Tensor(0.0, shape=(), dtype=float32)\n",
      "loss tf.Tensor(0.0, shape=(), dtype=float32)\n",
      "loss tf.Tensor(0.0, shape=(), dtype=float32)\n",
      "loss tf.Tensor(0.0, shape=(), dtype=float32)\n",
      "loss tf.Tensor(0.0, shape=(), dtype=float32)\n"
     ]
    },
    {
     "name": "stderr",
     "output_type": "stream",
     "text": [
      " 33%|███▎      | 3252/10000 [01:35<03:06, 36.09it/s, episode_reward=0, running_reward=0]"
     ]
    },
    {
     "name": "stdout",
     "output_type": "stream",
     "text": [
      "loss tf.Tensor(0.0, shape=(), dtype=float32)\n",
      "loss tf.Tensor(0.0, shape=(), dtype=float32)\n",
      "loss tf.Tensor(0.0, shape=(), dtype=float32)\n",
      "loss tf.Tensor(0.0, shape=(), dtype=float32)\n",
      "loss tf.Tensor(0.0, shape=(), dtype=float32)\n",
      "loss tf.Tensor(0.0, shape=(), dtype=float32)\n",
      "loss tf.Tensor(0.0, shape=(), dtype=float32)\n",
      "loss tf.Tensor(0.0, shape=(), dtype=float32)\n"
     ]
    },
    {
     "name": "stderr",
     "output_type": "stream",
     "text": [
      " 33%|███▎      | 3260/10000 [01:35<03:06, 36.12it/s, episode_reward=0, running_reward=0]"
     ]
    },
    {
     "name": "stdout",
     "output_type": "stream",
     "text": [
      "loss tf.Tensor(0.0, shape=(), dtype=float32)\n",
      "loss tf.Tensor(0.0, shape=(), dtype=float32)\n",
      "loss tf.Tensor(0.0, shape=(), dtype=float32)\n",
      "loss tf.Tensor(0.0, shape=(), dtype=float32)\n",
      "loss tf.Tensor(0.0, shape=(), dtype=float32)\n",
      "loss tf.Tensor(0.0, shape=(), dtype=float32)\n",
      "loss tf.Tensor(0.0, shape=(), dtype=float32)\n",
      "loss tf.Tensor(0.0, shape=(), dtype=float32)\n"
     ]
    },
    {
     "name": "stderr",
     "output_type": "stream",
     "text": [
      " 33%|███▎      | 3268/10000 [01:35<03:06, 36.18it/s, episode_reward=0, running_reward=0]"
     ]
    },
    {
     "name": "stdout",
     "output_type": "stream",
     "text": [
      "loss tf.Tensor(0.0, shape=(), dtype=float32)\n",
      "loss tf.Tensor(0.0, shape=(), dtype=float32)\n",
      "loss tf.Tensor(0.0, shape=(), dtype=float32)\n",
      "loss tf.Tensor(0.0, shape=(), dtype=float32)\n",
      "loss tf.Tensor(0.0, shape=(), dtype=float32)\n",
      "loss tf.Tensor(0.0, shape=(), dtype=float32)\n",
      "loss tf.Tensor(0.0, shape=(), dtype=float32)\n",
      "loss tf.Tensor(0.0, shape=(), dtype=float32)\n"
     ]
    },
    {
     "name": "stderr",
     "output_type": "stream",
     "text": [
      " 33%|███▎      | 3276/10000 [01:36<03:05, 36.31it/s, episode_reward=0, running_reward=0]"
     ]
    },
    {
     "name": "stdout",
     "output_type": "stream",
     "text": [
      "loss tf.Tensor(0.0, shape=(), dtype=float32)\n",
      "loss tf.Tensor(0.0, shape=(), dtype=float32)\n",
      "loss tf.Tensor(0.0, shape=(), dtype=float32)\n",
      "loss tf.Tensor(0.0, shape=(), dtype=float32)\n",
      "loss tf.Tensor(0.0, shape=(), dtype=float32)\n",
      "loss tf.Tensor(0.0, shape=(), dtype=float32)\n",
      "loss tf.Tensor(0.0, shape=(), dtype=float32)\n",
      "loss tf.Tensor(0.0, shape=(), dtype=float32)\n"
     ]
    },
    {
     "name": "stderr",
     "output_type": "stream",
     "text": [
      " 33%|███▎      | 3284/10000 [01:36<03:46, 29.71it/s, episode_reward=0, running_reward=0]"
     ]
    },
    {
     "name": "stdout",
     "output_type": "stream",
     "text": [
      "loss tf.Tensor(0.0, shape=(), dtype=float32)\n",
      "loss tf.Tensor(0.0, shape=(), dtype=float32)\n",
      "loss tf.Tensor(0.0, shape=(), dtype=float32)\n",
      "loss tf.Tensor(0.0, shape=(), dtype=float32)\n",
      "loss tf.Tensor(0.0, shape=(), dtype=float32)\n",
      "loss tf.Tensor(0.0, shape=(), dtype=float32)\n"
     ]
    },
    {
     "name": "stderr",
     "output_type": "stream",
     "text": [
      " 33%|███▎      | 3292/10000 [01:36<03:29, 32.05it/s, episode_reward=0, running_reward=0]"
     ]
    },
    {
     "name": "stdout",
     "output_type": "stream",
     "text": [
      "loss tf.Tensor(0.0, shape=(), dtype=float32)\n",
      "loss tf.Tensor(0.0, shape=(), dtype=float32)\n",
      "loss tf.Tensor(0.0, shape=(), dtype=float32)\n",
      "loss tf.Tensor(0.0, shape=(), dtype=float32)\n",
      "loss tf.Tensor(0.0, shape=(), dtype=float32)\n",
      "loss tf.Tensor(0.0, shape=(), dtype=float32)\n",
      "loss tf.Tensor(0.0, shape=(), dtype=float32)\n",
      "loss tf.Tensor(0.0, shape=(), dtype=float32)\n"
     ]
    },
    {
     "name": "stderr",
     "output_type": "stream",
     "text": [
      " 33%|███▎      | 3300/10000 [01:36<03:16, 34.05it/s, episode_reward=0, running_reward=0]"
     ]
    },
    {
     "name": "stdout",
     "output_type": "stream",
     "text": [
      "loss tf.Tensor(0.0, shape=(), dtype=float32)\n",
      "loss tf.Tensor(0.0, shape=(), dtype=float32)\n",
      "loss tf.Tensor(0.0, shape=(), dtype=float32)\n",
      "loss tf.Tensor(0.0, shape=(), dtype=float32)\n",
      "loss tf.Tensor(0.0, shape=(), dtype=float32)\n",
      "loss tf.Tensor(0.0, shape=(), dtype=float32)\n",
      "loss tf.Tensor(0.0, shape=(), dtype=float32)\n",
      "loss tf.Tensor(0.0, shape=(), dtype=float32)\n"
     ]
    },
    {
     "name": "stderr",
     "output_type": "stream",
     "text": [
      " 33%|███▎      | 3308/10000 [01:37<03:09, 35.26it/s, episode_reward=0, running_reward=0]"
     ]
    },
    {
     "name": "stdout",
     "output_type": "stream",
     "text": [
      "loss tf.Tensor(0.0, shape=(), dtype=float32)\n",
      "loss tf.Tensor(0.0, shape=(), dtype=float32)\n",
      "loss tf.Tensor(0.0, shape=(), dtype=float32)\n",
      "loss tf.Tensor(0.0, shape=(), dtype=float32)\n",
      "loss tf.Tensor(0.0, shape=(), dtype=float32)\n",
      "loss tf.Tensor(0.0, shape=(), dtype=float32)\n",
      "loss tf.Tensor(0.0, shape=(), dtype=float32)\n",
      "loss tf.Tensor(0.0, shape=(), dtype=float32)\n"
     ]
    },
    {
     "name": "stderr",
     "output_type": "stream",
     "text": [
      " 33%|███▎      | 3316/10000 [01:37<03:06, 35.90it/s, episode_reward=0, running_reward=0]"
     ]
    },
    {
     "name": "stdout",
     "output_type": "stream",
     "text": [
      "loss tf.Tensor(0.0, shape=(), dtype=float32)\n",
      "loss tf.Tensor(0.0, shape=(), dtype=float32)\n",
      "loss tf.Tensor(0.0, shape=(), dtype=float32)\n",
      "loss tf.Tensor(0.0, shape=(), dtype=float32)\n",
      "loss tf.Tensor(0.0, shape=(), dtype=float32)\n",
      "loss tf.Tensor(0.0, shape=(), dtype=float32)\n",
      "loss tf.Tensor(0.0, shape=(), dtype=float32)\n",
      "loss tf.Tensor(0.0, shape=(), dtype=float32)\n"
     ]
    },
    {
     "name": "stderr",
     "output_type": "stream",
     "text": [
      " 33%|███▎      | 3324/10000 [01:37<03:05, 35.99it/s, episode_reward=0, running_reward=0]"
     ]
    },
    {
     "name": "stdout",
     "output_type": "stream",
     "text": [
      "loss tf.Tensor(0.0, shape=(), dtype=float32)\n",
      "loss tf.Tensor(0.0, shape=(), dtype=float32)\n",
      "loss tf.Tensor(0.0, shape=(), dtype=float32)\n",
      "loss tf.Tensor(0.0, shape=(), dtype=float32)\n",
      "loss tf.Tensor(0.0, shape=(), dtype=float32)\n",
      "loss tf.Tensor(0.0, shape=(), dtype=float32)\n",
      "loss tf.Tensor(0.0, shape=(), dtype=float32)\n",
      "loss tf.Tensor(0.0, shape=(), dtype=float32)\n"
     ]
    },
    {
     "name": "stderr",
     "output_type": "stream",
     "text": [
      " 33%|███▎      | 3332/10000 [01:37<03:08, 35.30it/s, episode_reward=0, running_reward=0]"
     ]
    },
    {
     "name": "stdout",
     "output_type": "stream",
     "text": [
      "loss tf.Tensor(0.0, shape=(), dtype=float32)\n",
      "loss tf.Tensor(0.0, shape=(), dtype=float32)\n",
      "loss tf.Tensor(0.0, shape=(), dtype=float32)\n",
      "loss tf.Tensor(0.0, shape=(), dtype=float32)\n",
      "loss tf.Tensor(0.0, shape=(), dtype=float32)\n",
      "loss tf.Tensor(0.0, shape=(), dtype=float32)\n",
      "loss tf.Tensor(0.0, shape=(), dtype=float32)\n",
      "loss tf.Tensor(0.0, shape=(), dtype=float32)\n"
     ]
    },
    {
     "name": "stderr",
     "output_type": "stream",
     "text": [
      " 33%|███▎      | 3340/10000 [01:37<03:06, 35.72it/s, episode_reward=0, running_reward=0]"
     ]
    },
    {
     "name": "stdout",
     "output_type": "stream",
     "text": [
      "loss tf.Tensor(0.0, shape=(), dtype=float32)\n",
      "loss tf.Tensor(0.0, shape=(), dtype=float32)\n",
      "loss tf.Tensor(0.0, shape=(), dtype=float32)\n",
      "loss tf.Tensor(0.0, shape=(), dtype=float32)\n",
      "loss tf.Tensor(0.0, shape=(), dtype=float32)\n",
      "loss tf.Tensor(0.0, shape=(), dtype=float32)\n",
      "loss tf.Tensor(0.0, shape=(), dtype=float32)\n",
      "loss tf.Tensor(0.0, shape=(), dtype=float32)\n"
     ]
    },
    {
     "name": "stderr",
     "output_type": "stream",
     "text": [
      " 33%|███▎      | 3348/10000 [01:38<03:03, 36.16it/s, episode_reward=0, running_reward=0]"
     ]
    },
    {
     "name": "stdout",
     "output_type": "stream",
     "text": [
      "loss tf.Tensor(0.0, shape=(), dtype=float32)\n",
      "loss tf.Tensor(0.0, shape=(), dtype=float32)\n",
      "loss tf.Tensor(0.0, shape=(), dtype=float32)\n",
      "loss tf.Tensor(0.0, shape=(), dtype=float32)\n",
      "loss tf.Tensor(0.0, shape=(), dtype=float32)\n",
      "loss tf.Tensor(0.0, shape=(), dtype=float32)\n",
      "loss tf.Tensor(0.0, shape=(), dtype=float32)\n",
      "loss tf.Tensor(0.0, shape=(), dtype=float32)\n"
     ]
    },
    {
     "name": "stderr",
     "output_type": "stream",
     "text": [
      " 34%|███▎      | 3352/10000 [01:38<04:25, 25.06it/s, episode_reward=0, running_reward=0]"
     ]
    },
    {
     "name": "stdout",
     "output_type": "stream",
     "text": [
      "loss tf.Tensor(0.0, shape=(), dtype=float32)\n",
      "loss tf.Tensor(0.0, shape=(), dtype=float32)\n",
      "loss tf.Tensor(0.0, shape=(), dtype=float32)\n",
      "loss tf.Tensor(0.0, shape=(), dtype=float32)\n",
      "loss tf.Tensor(0.0, shape=(), dtype=float32)\n",
      "loss tf.Tensor(0.0, shape=(), dtype=float32)\n",
      "loss tf.Tensor(0.0, shape=(), dtype=float32)\n"
     ]
    },
    {
     "name": "stderr",
     "output_type": "stream",
     "text": [
      " 34%|███▎      | 3360/10000 [01:38<03:47, 29.18it/s, episode_reward=0, running_reward=0]"
     ]
    },
    {
     "name": "stdout",
     "output_type": "stream",
     "text": [
      "loss tf.Tensor(0.0, shape=(), dtype=float32)\n",
      "loss tf.Tensor(0.0, shape=(), dtype=float32)\n",
      "loss tf.Tensor(0.0, shape=(), dtype=float32)\n",
      "loss tf.Tensor(0.0, shape=(), dtype=float32)\n",
      "loss tf.Tensor(0.0, shape=(), dtype=float32)\n",
      "loss tf.Tensor(0.0, shape=(), dtype=float32)\n",
      "loss tf.Tensor(0.0, shape=(), dtype=float32)\n",
      "loss tf.Tensor(0.0, shape=(), dtype=float32)\n"
     ]
    },
    {
     "name": "stderr",
     "output_type": "stream",
     "text": [
      " 34%|███▎      | 3368/10000 [01:38<03:24, 32.39it/s, episode_reward=0, running_reward=0]"
     ]
    },
    {
     "name": "stdout",
     "output_type": "stream",
     "text": [
      "loss tf.Tensor(0.0, shape=(), dtype=float32)\n",
      "loss tf.Tensor(0.0, shape=(), dtype=float32)\n",
      "loss tf.Tensor(0.0, shape=(), dtype=float32)\n",
      "loss tf.Tensor(0.0, shape=(), dtype=float32)\n",
      "loss tf.Tensor(0.0, shape=(), dtype=float32)\n",
      "loss tf.Tensor(0.0, shape=(), dtype=float32)\n",
      "loss tf.Tensor(0.0, shape=(), dtype=float32)\n",
      "loss tf.Tensor(0.0, shape=(), dtype=float32)\n"
     ]
    },
    {
     "name": "stderr",
     "output_type": "stream",
     "text": [
      " 34%|███▍      | 3376/10000 [01:39<03:14, 34.02it/s, episode_reward=0, running_reward=0]"
     ]
    },
    {
     "name": "stdout",
     "output_type": "stream",
     "text": [
      "loss tf.Tensor(0.0, shape=(), dtype=float32)\n",
      "loss tf.Tensor(0.0, shape=(), dtype=float32)\n",
      "loss tf.Tensor(0.0, shape=(), dtype=float32)\n",
      "loss tf.Tensor(0.0, shape=(), dtype=float32)\n",
      "loss tf.Tensor(0.0, shape=(), dtype=float32)\n",
      "loss tf.Tensor(0.0, shape=(), dtype=float32)\n",
      "loss tf.Tensor(0.0, shape=(), dtype=float32)\n",
      "loss tf.Tensor(0.0, shape=(), dtype=float32)\n"
     ]
    },
    {
     "name": "stderr",
     "output_type": "stream",
     "text": [
      " 34%|███▍      | 3384/10000 [01:39<03:08, 35.11it/s, episode_reward=0, running_reward=0]"
     ]
    },
    {
     "name": "stdout",
     "output_type": "stream",
     "text": [
      "loss tf.Tensor(0.0, shape=(), dtype=float32)\n",
      "loss tf.Tensor(0.0, shape=(), dtype=float32)\n",
      "loss tf.Tensor(0.0, shape=(), dtype=float32)\n",
      "loss tf.Tensor(0.0, shape=(), dtype=float32)\n",
      "loss tf.Tensor(0.0, shape=(), dtype=float32)\n",
      "loss tf.Tensor(0.0, shape=(), dtype=float32)\n",
      "loss tf.Tensor(0.0, shape=(), dtype=float32)\n",
      "loss tf.Tensor(0.0, shape=(), dtype=float32)\n"
     ]
    },
    {
     "name": "stderr",
     "output_type": "stream",
     "text": [
      " 34%|███▍      | 3392/10000 [01:39<03:04, 35.87it/s, episode_reward=0, running_reward=0]"
     ]
    },
    {
     "name": "stdout",
     "output_type": "stream",
     "text": [
      "loss tf.Tensor(0.0, shape=(), dtype=float32)\n",
      "loss tf.Tensor(0.0, shape=(), dtype=float32)\n",
      "loss tf.Tensor(0.0, shape=(), dtype=float32)\n",
      "loss tf.Tensor(0.0, shape=(), dtype=float32)\n",
      "loss tf.Tensor(0.0, shape=(), dtype=float32)\n",
      "loss tf.Tensor(0.0, shape=(), dtype=float32)\n",
      "loss tf.Tensor(0.0, shape=(), dtype=float32)\n",
      "loss tf.Tensor(0.0, shape=(), dtype=float32)\n"
     ]
    },
    {
     "name": "stderr",
     "output_type": "stream",
     "text": [
      " 34%|███▍      | 3400/10000 [01:39<03:02, 36.10it/s, episode_reward=0, running_reward=0]"
     ]
    },
    {
     "name": "stdout",
     "output_type": "stream",
     "text": [
      "loss tf.Tensor(0.0, shape=(), dtype=float32)\n",
      "loss tf.Tensor(0.0, shape=(), dtype=float32)\n",
      "loss tf.Tensor(0.0, shape=(), dtype=float32)\n",
      "loss tf.Tensor(0.0, shape=(), dtype=float32)\n",
      "loss tf.Tensor(0.0, shape=(), dtype=float32)\n",
      "loss tf.Tensor(0.0, shape=(), dtype=float32)\n",
      "loss tf.Tensor(0.0, shape=(), dtype=float32)\n",
      "loss tf.Tensor(0.0, shape=(), dtype=float32)\n"
     ]
    },
    {
     "name": "stderr",
     "output_type": "stream",
     "text": [
      " 34%|███▍      | 3408/10000 [01:40<03:04, 35.69it/s, episode_reward=0, running_reward=0]"
     ]
    },
    {
     "name": "stdout",
     "output_type": "stream",
     "text": [
      "loss tf.Tensor(0.0, shape=(), dtype=float32)\n",
      "loss tf.Tensor(0.0, shape=(), dtype=float32)\n",
      "loss tf.Tensor(0.0, shape=(), dtype=float32)\n",
      "loss tf.Tensor(0.0, shape=(), dtype=float32)\n",
      "loss tf.Tensor(0.0, shape=(), dtype=float32)\n",
      "loss tf.Tensor(0.0, shape=(), dtype=float32)\n",
      "loss tf.Tensor(0.0, shape=(), dtype=float32)\n",
      "loss tf.Tensor(0.0, shape=(), dtype=float32)\n"
     ]
    },
    {
     "name": "stderr",
     "output_type": "stream",
     "text": [
      " 34%|███▍      | 3416/10000 [01:40<03:04, 35.61it/s, episode_reward=0, running_reward=0]"
     ]
    },
    {
     "name": "stdout",
     "output_type": "stream",
     "text": [
      "loss tf.Tensor(0.0, shape=(), dtype=float32)\n",
      "loss tf.Tensor(0.0, shape=(), dtype=float32)\n",
      "loss tf.Tensor(0.0, shape=(), dtype=float32)\n",
      "loss tf.Tensor(0.0, shape=(), dtype=float32)\n",
      "loss tf.Tensor(0.0, shape=(), dtype=float32)\n",
      "loss tf.Tensor(0.0, shape=(), dtype=float32)\n",
      "loss tf.Tensor(0.0, shape=(), dtype=float32)\n",
      "loss tf.Tensor(0.0, shape=(), dtype=float32)\n"
     ]
    },
    {
     "name": "stderr",
     "output_type": "stream",
     "text": [
      " 34%|███▍      | 3424/10000 [01:40<03:04, 35.67it/s, episode_reward=0, running_reward=0]"
     ]
    },
    {
     "name": "stdout",
     "output_type": "stream",
     "text": [
      "loss tf.Tensor(0.0, shape=(), dtype=float32)\n",
      "loss tf.Tensor(0.0, shape=(), dtype=float32)\n",
      "loss tf.Tensor(0.0, shape=(), dtype=float32)\n",
      "loss tf.Tensor(0.0, shape=(), dtype=float32)\n",
      "loss tf.Tensor(0.0, shape=(), dtype=float32)\n",
      "loss tf.Tensor(0.0, shape=(), dtype=float32)\n",
      "loss tf.Tensor(0.0, shape=(), dtype=float32)\n",
      "loss tf.Tensor(0.0, shape=(), dtype=float32)\n"
     ]
    },
    {
     "name": "stderr",
     "output_type": "stream",
     "text": [
      " 34%|███▍      | 3432/10000 [01:40<03:01, 36.22it/s, episode_reward=0, running_reward=0]"
     ]
    },
    {
     "name": "stdout",
     "output_type": "stream",
     "text": [
      "loss tf.Tensor(0.0, shape=(), dtype=float32)\n",
      "loss tf.Tensor(0.0, shape=(), dtype=float32)\n",
      "loss tf.Tensor(0.0, shape=(), dtype=float32)\n",
      "loss tf.Tensor(0.0, shape=(), dtype=float32)\n",
      "loss tf.Tensor(0.0, shape=(), dtype=float32)\n",
      "loss tf.Tensor(0.0, shape=(), dtype=float32)\n",
      "loss tf.Tensor(0.0, shape=(), dtype=float32)\n",
      "loss tf.Tensor(0.0, shape=(), dtype=float32)\n"
     ]
    },
    {
     "name": "stderr",
     "output_type": "stream",
     "text": [
      " 34%|███▍      | 3440/10000 [01:40<03:01, 36.09it/s, episode_reward=0, running_reward=0]"
     ]
    },
    {
     "name": "stdout",
     "output_type": "stream",
     "text": [
      "loss tf.Tensor(0.0, shape=(), dtype=float32)\n",
      "loss tf.Tensor(0.0, shape=(), dtype=float32)\n",
      "loss tf.Tensor(0.0, shape=(), dtype=float32)\n",
      "loss tf.Tensor(0.0, shape=(), dtype=float32)\n",
      "loss tf.Tensor(0.0, shape=(), dtype=float32)\n",
      "loss tf.Tensor(0.0, shape=(), dtype=float32)\n",
      "loss tf.Tensor(0.0, shape=(), dtype=float32)\n",
      "loss tf.Tensor(0.0, shape=(), dtype=float32)\n"
     ]
    },
    {
     "name": "stderr",
     "output_type": "stream",
     "text": [
      " 34%|███▍      | 3448/10000 [01:41<03:54, 27.98it/s, episode_reward=0, running_reward=0]"
     ]
    },
    {
     "name": "stdout",
     "output_type": "stream",
     "text": [
      "loss tf.Tensor(0.0, shape=(), dtype=float32)\n",
      "loss tf.Tensor(0.0, shape=(), dtype=float32)\n",
      "loss tf.Tensor(0.0, shape=(), dtype=float32)\n",
      "loss tf.Tensor(0.0, shape=(), dtype=float32)\n",
      "loss tf.Tensor(0.0, shape=(), dtype=float32)\n",
      "loss tf.Tensor(0.0, shape=(), dtype=float32)\n"
     ]
    },
    {
     "name": "stderr",
     "output_type": "stream",
     "text": [
      " 35%|███▍      | 3456/10000 [01:41<03:25, 31.88it/s, episode_reward=0, running_reward=0]"
     ]
    },
    {
     "name": "stdout",
     "output_type": "stream",
     "text": [
      "loss tf.Tensor(0.0, shape=(), dtype=float32)\n",
      "loss tf.Tensor(0.0, shape=(), dtype=float32)\n",
      "loss tf.Tensor(0.0, shape=(), dtype=float32)\n",
      "loss tf.Tensor(0.0, shape=(), dtype=float32)\n",
      "loss tf.Tensor(0.0, shape=(), dtype=float32)\n",
      "loss tf.Tensor(0.0, shape=(), dtype=float32)\n",
      "loss tf.Tensor(0.0, shape=(), dtype=float32)\n",
      "loss tf.Tensor(0.0, shape=(), dtype=float32)\n"
     ]
    },
    {
     "name": "stderr",
     "output_type": "stream",
     "text": [
      " 35%|███▍      | 3464/10000 [01:41<03:13, 33.80it/s, episode_reward=0, running_reward=0]"
     ]
    },
    {
     "name": "stdout",
     "output_type": "stream",
     "text": [
      "loss tf.Tensor(0.0, shape=(), dtype=float32)\n",
      "loss tf.Tensor(0.0, shape=(), dtype=float32)\n",
      "loss tf.Tensor(0.0, shape=(), dtype=float32)\n",
      "loss tf.Tensor(0.0, shape=(), dtype=float32)\n",
      "loss tf.Tensor(0.0, shape=(), dtype=float32)\n",
      "loss tf.Tensor(0.0, shape=(), dtype=float32)\n",
      "loss tf.Tensor(0.0, shape=(), dtype=float32)\n",
      "loss tf.Tensor(0.0, shape=(), dtype=float32)\n"
     ]
    },
    {
     "name": "stderr",
     "output_type": "stream",
     "text": [
      " 35%|███▍      | 3472/10000 [01:41<03:05, 35.15it/s, episode_reward=0, running_reward=0]"
     ]
    },
    {
     "name": "stdout",
     "output_type": "stream",
     "text": [
      "loss tf.Tensor(0.0, shape=(), dtype=float32)\n",
      "loss tf.Tensor(0.0, shape=(), dtype=float32)\n",
      "loss tf.Tensor(0.0, shape=(), dtype=float32)\n",
      "loss tf.Tensor(0.0, shape=(), dtype=float32)\n",
      "loss tf.Tensor(0.0, shape=(), dtype=float32)\n",
      "loss tf.Tensor(0.0, shape=(), dtype=float32)\n",
      "loss tf.Tensor(0.0, shape=(), dtype=float32)\n",
      "loss tf.Tensor(0.0, shape=(), dtype=float32)\n"
     ]
    },
    {
     "name": "stderr",
     "output_type": "stream",
     "text": [
      " 35%|███▍      | 3480/10000 [01:42<03:02, 35.78it/s, episode_reward=0, running_reward=0]"
     ]
    },
    {
     "name": "stdout",
     "output_type": "stream",
     "text": [
      "loss tf.Tensor(0.0, shape=(), dtype=float32)\n",
      "loss tf.Tensor(0.0, shape=(), dtype=float32)\n",
      "loss tf.Tensor(0.0, shape=(), dtype=float32)\n",
      "loss tf.Tensor(0.0, shape=(), dtype=float32)\n",
      "loss tf.Tensor(0.0, shape=(), dtype=float32)\n",
      "loss tf.Tensor(0.0, shape=(), dtype=float32)\n",
      "loss tf.Tensor(0.0, shape=(), dtype=float32)\n",
      "loss tf.Tensor(0.0, shape=(), dtype=float32)\n"
     ]
    },
    {
     "name": "stderr",
     "output_type": "stream",
     "text": [
      " 35%|███▍      | 3488/10000 [01:42<02:59, 36.18it/s, episode_reward=0, running_reward=0]"
     ]
    },
    {
     "name": "stdout",
     "output_type": "stream",
     "text": [
      "loss tf.Tensor(0.0, shape=(), dtype=float32)\n",
      "loss tf.Tensor(0.0, shape=(), dtype=float32)\n",
      "loss tf.Tensor(0.0, shape=(), dtype=float32)\n",
      "loss tf.Tensor(0.0, shape=(), dtype=float32)\n",
      "loss tf.Tensor(0.0, shape=(), dtype=float32)\n",
      "loss tf.Tensor(0.0, shape=(), dtype=float32)\n",
      "loss tf.Tensor(0.0, shape=(), dtype=float32)\n",
      "loss tf.Tensor(0.0, shape=(), dtype=float32)\n"
     ]
    },
    {
     "name": "stderr",
     "output_type": "stream",
     "text": [
      " 35%|███▍      | 3496/10000 [01:42<02:58, 36.41it/s, episode_reward=0, running_reward=0]"
     ]
    },
    {
     "name": "stdout",
     "output_type": "stream",
     "text": [
      "loss tf.Tensor(0.0, shape=(), dtype=float32)\n",
      "loss tf.Tensor(0.0, shape=(), dtype=float32)\n",
      "loss tf.Tensor(0.0, shape=(), dtype=float32)\n",
      "loss tf.Tensor(0.0, shape=(), dtype=float32)\n",
      "loss tf.Tensor(0.0, shape=(), dtype=float32)\n",
      "loss tf.Tensor(0.0, shape=(), dtype=float32)\n",
      "loss tf.Tensor(0.0, shape=(), dtype=float32)\n",
      "loss tf.Tensor(0.0, shape=(), dtype=float32)\n"
     ]
    },
    {
     "name": "stderr",
     "output_type": "stream",
     "text": [
      " 35%|███▌      | 3504/10000 [01:42<03:00, 36.06it/s, episode_reward=0, running_reward=0]"
     ]
    },
    {
     "name": "stdout",
     "output_type": "stream",
     "text": [
      "loss tf.Tensor(0.0, shape=(), dtype=float32)\n",
      "loss tf.Tensor(0.0, shape=(), dtype=float32)\n",
      "loss tf.Tensor(0.0, shape=(), dtype=float32)\n",
      "loss tf.Tensor(0.0, shape=(), dtype=float32)\n",
      "loss tf.Tensor(0.0, shape=(), dtype=float32)\n",
      "loss tf.Tensor(0.0, shape=(), dtype=float32)\n",
      "loss tf.Tensor(0.0, shape=(), dtype=float32)\n",
      "loss tf.Tensor(0.0, shape=(), dtype=float32)\n"
     ]
    },
    {
     "name": "stderr",
     "output_type": "stream",
     "text": [
      " 35%|███▌      | 3512/10000 [01:43<02:58, 36.40it/s, episode_reward=0, running_reward=0]"
     ]
    },
    {
     "name": "stdout",
     "output_type": "stream",
     "text": [
      "loss tf.Tensor(0.0, shape=(), dtype=float32)\n",
      "loss tf.Tensor(0.0, shape=(), dtype=float32)\n",
      "loss tf.Tensor(0.0, shape=(), dtype=float32)\n",
      "loss tf.Tensor(0.0, shape=(), dtype=float32)\n",
      "loss tf.Tensor(0.0, shape=(), dtype=float32)\n",
      "loss tf.Tensor(0.0, shape=(), dtype=float32)\n",
      "loss tf.Tensor(0.0, shape=(), dtype=float32)\n",
      "loss tf.Tensor(0.0, shape=(), dtype=float32)\n"
     ]
    },
    {
     "name": "stderr",
     "output_type": "stream",
     "text": [
      " 35%|███▌      | 3516/10000 [01:43<03:15, 33.20it/s, episode_reward=0, running_reward=0]"
     ]
    },
    {
     "name": "stdout",
     "output_type": "stream",
     "text": [
      "loss tf.Tensor(0.0, shape=(), dtype=float32)\n",
      "loss tf.Tensor(0.0, shape=(), dtype=float32)\n",
      "loss tf.Tensor(0.0, shape=(), dtype=float32)\n"
     ]
    },
    {
     "name": "stderr",
     "output_type": "stream",
     "text": [
      " 35%|███▌      | 3520/10000 [01:43<04:40, 23.13it/s, episode_reward=0, running_reward=0]"
     ]
    },
    {
     "name": "stdout",
     "output_type": "stream",
     "text": [
      "loss tf.Tensor(0.0, shape=(), dtype=float32)\n",
      "loss tf.Tensor(0.0, shape=(), dtype=float32)\n",
      "loss tf.Tensor(0.0, shape=(), dtype=float32)\n",
      "loss tf.Tensor(0.0, shape=(), dtype=float32)\n",
      "loss tf.Tensor(0.0, shape=(), dtype=float32)\n",
      "loss tf.Tensor(0.0, shape=(), dtype=float32)\n"
     ]
    },
    {
     "name": "stderr",
     "output_type": "stream",
     "text": [
      " 35%|███▌      | 3528/10000 [01:43<03:50, 28.09it/s, episode_reward=0, running_reward=0]"
     ]
    },
    {
     "name": "stdout",
     "output_type": "stream",
     "text": [
      "loss tf.Tensor(0.0, shape=(), dtype=float32)\n",
      "loss tf.Tensor(0.0, shape=(), dtype=float32)\n",
      "loss tf.Tensor(0.0, shape=(), dtype=float32)\n",
      "loss tf.Tensor(0.0, shape=(), dtype=float32)\n",
      "loss tf.Tensor(0.0, shape=(), dtype=float32)\n",
      "loss tf.Tensor(0.0, shape=(), dtype=float32)\n",
      "loss tf.Tensor(0.0, shape=(), dtype=float32)\n",
      "loss tf.Tensor(0.0, shape=(), dtype=float32)\n"
     ]
    },
    {
     "name": "stderr",
     "output_type": "stream",
     "text": [
      " 35%|███▌      | 3536/10000 [01:43<03:22, 31.97it/s, episode_reward=0, running_reward=0]"
     ]
    },
    {
     "name": "stdout",
     "output_type": "stream",
     "text": [
      "loss tf.Tensor(0.0, shape=(), dtype=float32)\n",
      "loss tf.Tensor(0.0, shape=(), dtype=float32)\n",
      "loss tf.Tensor(0.0, shape=(), dtype=float32)\n",
      "loss tf.Tensor(0.0, shape=(), dtype=float32)\n",
      "loss tf.Tensor(0.0, shape=(), dtype=float32)\n",
      "loss tf.Tensor(0.0, shape=(), dtype=float32)\n",
      "loss tf.Tensor(0.0, shape=(), dtype=float32)\n",
      "loss tf.Tensor(0.0, shape=(), dtype=float32)\n"
     ]
    },
    {
     "name": "stderr",
     "output_type": "stream",
     "text": [
      " 35%|███▌      | 3544/10000 [01:44<03:07, 34.35it/s, episode_reward=0, running_reward=0]"
     ]
    },
    {
     "name": "stdout",
     "output_type": "stream",
     "text": [
      "loss tf.Tensor(0.0, shape=(), dtype=float32)\n",
      "loss tf.Tensor(0.0, shape=(), dtype=float32)\n",
      "loss tf.Tensor(0.0, shape=(), dtype=float32)\n",
      "loss tf.Tensor(0.0, shape=(), dtype=float32)\n",
      "loss tf.Tensor(0.0, shape=(), dtype=float32)\n",
      "loss tf.Tensor(0.0, shape=(), dtype=float32)\n",
      "loss tf.Tensor(0.0, shape=(), dtype=float32)\n",
      "loss tf.Tensor(0.0, shape=(), dtype=float32)\n"
     ]
    },
    {
     "name": "stderr",
     "output_type": "stream",
     "text": [
      " 36%|███▌      | 3552/10000 [01:44<03:02, 35.37it/s, episode_reward=0, running_reward=0]"
     ]
    },
    {
     "name": "stdout",
     "output_type": "stream",
     "text": [
      "loss tf.Tensor(0.0, shape=(), dtype=float32)\n",
      "loss tf.Tensor(0.0, shape=(), dtype=float32)\n",
      "loss tf.Tensor(0.0, shape=(), dtype=float32)\n",
      "loss tf.Tensor(0.0, shape=(), dtype=float32)\n",
      "loss tf.Tensor(0.0, shape=(), dtype=float32)\n",
      "loss tf.Tensor(0.0, shape=(), dtype=float32)\n",
      "loss tf.Tensor(0.0, shape=(), dtype=float32)\n",
      "loss tf.Tensor(0.0, shape=(), dtype=float32)\n"
     ]
    },
    {
     "name": "stderr",
     "output_type": "stream",
     "text": [
      " 36%|███▌      | 3560/10000 [01:44<02:58, 36.09it/s, episode_reward=0, running_reward=0]"
     ]
    },
    {
     "name": "stdout",
     "output_type": "stream",
     "text": [
      "loss tf.Tensor(0.0, shape=(), dtype=float32)\n",
      "loss tf.Tensor(0.0, shape=(), dtype=float32)\n",
      "loss tf.Tensor(0.0, shape=(), dtype=float32)\n",
      "loss tf.Tensor(0.0, shape=(), dtype=float32)\n",
      "loss tf.Tensor(0.0, shape=(), dtype=float32)\n",
      "loss tf.Tensor(0.0, shape=(), dtype=float32)\n",
      "loss tf.Tensor(0.0, shape=(), dtype=float32)\n",
      "loss tf.Tensor(0.0, shape=(), dtype=float32)\n"
     ]
    },
    {
     "name": "stderr",
     "output_type": "stream",
     "text": [
      " 36%|███▌      | 3568/10000 [01:44<02:58, 36.12it/s, episode_reward=0, running_reward=0]"
     ]
    },
    {
     "name": "stdout",
     "output_type": "stream",
     "text": [
      "loss tf.Tensor(0.0, shape=(), dtype=float32)\n",
      "loss tf.Tensor(0.0, shape=(), dtype=float32)\n",
      "loss tf.Tensor(0.0, shape=(), dtype=float32)\n",
      "loss tf.Tensor(0.0, shape=(), dtype=float32)\n",
      "loss tf.Tensor(0.0, shape=(), dtype=float32)\n",
      "loss tf.Tensor(0.0, shape=(), dtype=float32)\n",
      "loss tf.Tensor(0.0, shape=(), dtype=float32)\n",
      "loss tf.Tensor(0.0, shape=(), dtype=float32)\n"
     ]
    },
    {
     "name": "stderr",
     "output_type": "stream",
     "text": [
      " 36%|███▌      | 3576/10000 [01:44<02:55, 36.57it/s, episode_reward=0, running_reward=0]"
     ]
    },
    {
     "name": "stdout",
     "output_type": "stream",
     "text": [
      "loss tf.Tensor(0.0, shape=(), dtype=float32)\n",
      "loss tf.Tensor(0.0, shape=(), dtype=float32)\n",
      "loss tf.Tensor(0.0, shape=(), dtype=float32)\n",
      "loss tf.Tensor(0.0, shape=(), dtype=float32)\n",
      "loss tf.Tensor(0.0, shape=(), dtype=float32)\n",
      "loss tf.Tensor(0.0, shape=(), dtype=float32)\n"
     ]
    },
    {
     "name": "stderr",
     "output_type": "stream",
     "text": [
      " 36%|███▌      | 3580/10000 [01:45<04:10, 25.59it/s, episode_reward=0, running_reward=0]"
     ]
    },
    {
     "name": "stdout",
     "output_type": "stream",
     "text": [
      "loss tf.Tensor(0.0, shape=(), dtype=float32)\n",
      "loss tf.Tensor(0.0, shape=(), dtype=float32)\n",
      "loss tf.Tensor(0.0, shape=(), dtype=float32)\n",
      "loss tf.Tensor(0.0, shape=(), dtype=float32)\n",
      "loss tf.Tensor(0.0, shape=(), dtype=float32)\n",
      "loss tf.Tensor(0.0, shape=(), dtype=float32)\n",
      "loss tf.Tensor(0.0, shape=(), dtype=float32)\n"
     ]
    },
    {
     "name": "stderr",
     "output_type": "stream",
     "text": [
      " 36%|███▌      | 3588/10000 [01:45<03:33, 29.97it/s, episode_reward=0, running_reward=0]"
     ]
    },
    {
     "name": "stdout",
     "output_type": "stream",
     "text": [
      "loss tf.Tensor(0.0, shape=(), dtype=float32)\n",
      "loss tf.Tensor(0.0, shape=(), dtype=float32)\n",
      "loss tf.Tensor(0.0, shape=(), dtype=float32)\n",
      "loss tf.Tensor(0.0, shape=(), dtype=float32)\n",
      "loss tf.Tensor(0.0, shape=(), dtype=float32)\n",
      "loss tf.Tensor(0.0, shape=(), dtype=float32)\n",
      "loss tf.Tensor(0.0, shape=(), dtype=float32)\n",
      "loss tf.Tensor(0.0, shape=(), dtype=float32)\n"
     ]
    },
    {
     "name": "stderr",
     "output_type": "stream",
     "text": [
      " 36%|███▌      | 3596/10000 [01:45<03:19, 32.13it/s, episode_reward=0, running_reward=0]"
     ]
    },
    {
     "name": "stdout",
     "output_type": "stream",
     "text": [
      "loss tf.Tensor(0.0, shape=(), dtype=float32)\n",
      "loss tf.Tensor(0.0, shape=(), dtype=float32)\n",
      "loss tf.Tensor(0.0, shape=(), dtype=float32)\n",
      "loss tf.Tensor(0.0, shape=(), dtype=float32)\n",
      "loss tf.Tensor(0.0, shape=(), dtype=float32)\n",
      "loss tf.Tensor(0.0, shape=(), dtype=float32)\n",
      "loss tf.Tensor(0.0, shape=(), dtype=float32)\n",
      "loss tf.Tensor(0.0, shape=(), dtype=float32)\n"
     ]
    },
    {
     "name": "stderr",
     "output_type": "stream",
     "text": [
      " 36%|███▌      | 3604/10000 [01:46<03:14, 32.93it/s, episode_reward=0, running_reward=0]"
     ]
    },
    {
     "name": "stdout",
     "output_type": "stream",
     "text": [
      "loss tf.Tensor(0.0, shape=(), dtype=float32)\n",
      "loss tf.Tensor(0.0, shape=(), dtype=float32)\n",
      "loss tf.Tensor(0.0, shape=(), dtype=float32)\n",
      "loss tf.Tensor(0.0, shape=(), dtype=float32)\n",
      "loss tf.Tensor(0.0, shape=(), dtype=float32)\n",
      "loss tf.Tensor(0.0, shape=(), dtype=float32)\n",
      "loss tf.Tensor(0.0, shape=(), dtype=float32)\n",
      "loss tf.Tensor(0.0, shape=(), dtype=float32)\n"
     ]
    },
    {
     "name": "stderr",
     "output_type": "stream",
     "text": [
      " 36%|███▌      | 3612/10000 [01:46<03:12, 33.12it/s, episode_reward=0, running_reward=0]"
     ]
    },
    {
     "name": "stdout",
     "output_type": "stream",
     "text": [
      "loss tf.Tensor(0.0, shape=(), dtype=float32)\n",
      "loss tf.Tensor(0.0, shape=(), dtype=float32)\n",
      "loss tf.Tensor(0.0, shape=(), dtype=float32)\n",
      "loss tf.Tensor(0.0, shape=(), dtype=float32)\n",
      "loss tf.Tensor(0.0, shape=(), dtype=float32)\n",
      "loss tf.Tensor(0.0, shape=(), dtype=float32)\n",
      "loss tf.Tensor(0.0, shape=(), dtype=float32)\n"
     ]
    },
    {
     "name": "stderr",
     "output_type": "stream",
     "text": [
      " 36%|███▌      | 3620/10000 [01:46<03:03, 34.81it/s, episode_reward=0, running_reward=0]"
     ]
    },
    {
     "name": "stdout",
     "output_type": "stream",
     "text": [
      "loss tf.Tensor(0.0, shape=(), dtype=float32)\n",
      "loss tf.Tensor(0.0, shape=(), dtype=float32)\n",
      "loss tf.Tensor(0.0, shape=(), dtype=float32)\n",
      "loss tf.Tensor(0.0, shape=(), dtype=float32)\n",
      "loss tf.Tensor(0.0, shape=(), dtype=float32)\n",
      "loss tf.Tensor(0.0, shape=(), dtype=float32)\n",
      "loss tf.Tensor(0.0, shape=(), dtype=float32)\n",
      "loss tf.Tensor(0.0, shape=(), dtype=float32)\n"
     ]
    },
    {
     "name": "stderr",
     "output_type": "stream",
     "text": [
      " 36%|███▋      | 3628/10000 [01:46<02:59, 35.53it/s, episode_reward=0, running_reward=0]"
     ]
    },
    {
     "name": "stdout",
     "output_type": "stream",
     "text": [
      "loss tf.Tensor(0.0, shape=(), dtype=float32)\n",
      "loss tf.Tensor(0.0, shape=(), dtype=float32)\n",
      "loss tf.Tensor(0.0, shape=(), dtype=float32)\n",
      "loss tf.Tensor(0.0, shape=(), dtype=float32)\n",
      "loss tf.Tensor(0.0, shape=(), dtype=float32)\n",
      "loss tf.Tensor(0.0, shape=(), dtype=float32)\n",
      "loss tf.Tensor(0.0, shape=(), dtype=float32)\n",
      "loss tf.Tensor(0.0, shape=(), dtype=float32)\n"
     ]
    },
    {
     "name": "stderr",
     "output_type": "stream",
     "text": [
      " 36%|███▋      | 3636/10000 [01:46<03:25, 31.03it/s, episode_reward=0, running_reward=0]"
     ]
    },
    {
     "name": "stdout",
     "output_type": "stream",
     "text": [
      "loss tf.Tensor(0.0, shape=(), dtype=float32)\n",
      "loss tf.Tensor(0.0, shape=(), dtype=float32)\n",
      "loss tf.Tensor(0.0, shape=(), dtype=float32)\n",
      "loss tf.Tensor(0.0, shape=(), dtype=float32)\n",
      "loss tf.Tensor(0.0, shape=(), dtype=float32)\n",
      "loss tf.Tensor(0.0, shape=(), dtype=float32)\n"
     ]
    },
    {
     "name": "stderr",
     "output_type": "stream",
     "text": [
      " 36%|███▋      | 3640/10000 [01:47<03:37, 29.27it/s, episode_reward=0, running_reward=0]"
     ]
    },
    {
     "name": "stdout",
     "output_type": "stream",
     "text": [
      "loss tf.Tensor(0.0, shape=(), dtype=float32)\n",
      "loss tf.Tensor(0.0, shape=(), dtype=float32)\n",
      "loss tf.Tensor(0.0, shape=(), dtype=float32)\n",
      "loss tf.Tensor(0.0, shape=(), dtype=float32)\n",
      "loss tf.Tensor(0.0, shape=(), dtype=float32)\n",
      "loss tf.Tensor(0.0, shape=(), dtype=float32)\n"
     ]
    },
    {
     "name": "stderr",
     "output_type": "stream",
     "text": [
      " 36%|███▋      | 3648/10000 [01:47<03:21, 31.59it/s, episode_reward=0, running_reward=0]"
     ]
    },
    {
     "name": "stdout",
     "output_type": "stream",
     "text": [
      "loss tf.Tensor(0.0, shape=(), dtype=float32)\n",
      "loss tf.Tensor(0.0, shape=(), dtype=float32)\n",
      "loss tf.Tensor(0.0, shape=(), dtype=float32)\n",
      "loss tf.Tensor(0.0, shape=(), dtype=float32)\n",
      "loss tf.Tensor(0.0, shape=(), dtype=float32)\n",
      "loss tf.Tensor(0.0, shape=(), dtype=float32)\n",
      "loss tf.Tensor(0.0, shape=(), dtype=float32)\n",
      "loss tf.Tensor(0.0, shape=(), dtype=float32)\n"
     ]
    },
    {
     "name": "stderr",
     "output_type": "stream",
     "text": [
      " 37%|███▋      | 3656/10000 [01:47<03:07, 33.91it/s, episode_reward=0, running_reward=0]"
     ]
    },
    {
     "name": "stdout",
     "output_type": "stream",
     "text": [
      "loss tf.Tensor(0.0, shape=(), dtype=float32)\n",
      "loss tf.Tensor(0.0, shape=(), dtype=float32)\n",
      "loss tf.Tensor(0.0, shape=(), dtype=float32)\n",
      "loss tf.Tensor(0.0, shape=(), dtype=float32)\n",
      "loss tf.Tensor(0.0, shape=(), dtype=float32)\n",
      "loss tf.Tensor(0.0, shape=(), dtype=float32)\n",
      "loss tf.Tensor(0.0, shape=(), dtype=float32)\n",
      "loss tf.Tensor(0.0, shape=(), dtype=float32)\n"
     ]
    },
    {
     "name": "stderr",
     "output_type": "stream",
     "text": [
      " 37%|███▋      | 3664/10000 [01:47<02:59, 35.30it/s, episode_reward=0, running_reward=0]"
     ]
    },
    {
     "name": "stdout",
     "output_type": "stream",
     "text": [
      "loss tf.Tensor(0.0, shape=(), dtype=float32)\n",
      "loss tf.Tensor(0.0, shape=(), dtype=float32)\n",
      "loss tf.Tensor(0.0, shape=(), dtype=float32)\n",
      "loss tf.Tensor(0.0, shape=(), dtype=float32)\n",
      "loss tf.Tensor(0.0, shape=(), dtype=float32)\n",
      "loss tf.Tensor(0.0, shape=(), dtype=float32)\n",
      "loss tf.Tensor(0.0, shape=(), dtype=float32)\n",
      "loss tf.Tensor(0.0, shape=(), dtype=float32)\n"
     ]
    },
    {
     "name": "stderr",
     "output_type": "stream",
     "text": [
      " 37%|███▋      | 3672/10000 [01:48<02:56, 35.93it/s, episode_reward=0, running_reward=0]"
     ]
    },
    {
     "name": "stdout",
     "output_type": "stream",
     "text": [
      "loss tf.Tensor(0.0, shape=(), dtype=float32)\n",
      "loss tf.Tensor(0.0, shape=(), dtype=float32)\n",
      "loss tf.Tensor(0.0, shape=(), dtype=float32)\n",
      "loss tf.Tensor(0.0, shape=(), dtype=float32)\n",
      "loss tf.Tensor(0.0, shape=(), dtype=float32)\n",
      "loss tf.Tensor(0.0, shape=(), dtype=float32)\n",
      "loss tf.Tensor(0.0, shape=(), dtype=float32)\n",
      "loss tf.Tensor(0.0, shape=(), dtype=float32)\n"
     ]
    },
    {
     "name": "stderr",
     "output_type": "stream",
     "text": [
      " 37%|███▋      | 3680/10000 [01:48<02:54, 36.31it/s, episode_reward=0, running_reward=0]"
     ]
    },
    {
     "name": "stdout",
     "output_type": "stream",
     "text": [
      "loss tf.Tensor(0.0, shape=(), dtype=float32)\n",
      "loss tf.Tensor(0.0, shape=(), dtype=float32)\n",
      "loss tf.Tensor(0.0, shape=(), dtype=float32)\n",
      "loss tf.Tensor(0.0, shape=(), dtype=float32)\n",
      "loss tf.Tensor(0.0, shape=(), dtype=float32)\n",
      "loss tf.Tensor(0.0, shape=(), dtype=float32)\n",
      "loss tf.Tensor(0.0, shape=(), dtype=float32)\n",
      "loss tf.Tensor(0.0, shape=(), dtype=float32)\n"
     ]
    },
    {
     "name": "stderr",
     "output_type": "stream",
     "text": [
      " 37%|███▋      | 3684/10000 [01:48<02:56, 35.88it/s, episode_reward=0, running_reward=0]"
     ]
    },
    {
     "name": "stdout",
     "output_type": "stream",
     "text": [
      "loss tf.Tensor(0.0, shape=(), dtype=float32)\n",
      "loss tf.Tensor(0.0, shape=(), dtype=float32)\n",
      "loss tf.Tensor(0.0, shape=(), dtype=float32)\n",
      "loss tf.Tensor(0.0, shape=(), dtype=float32)\n",
      "loss tf.Tensor(0.0, shape=(), dtype=float32)\n"
     ]
    },
    {
     "name": "stderr",
     "output_type": "stream",
     "text": [
      " 37%|███▋      | 3691/10000 [01:48<04:01, 26.12it/s, episode_reward=0, running_reward=0]"
     ]
    },
    {
     "name": "stdout",
     "output_type": "stream",
     "text": [
      "loss tf.Tensor(0.0, shape=(), dtype=float32)\n",
      "loss tf.Tensor(0.0, shape=(), dtype=float32)\n",
      "loss tf.Tensor(0.0, shape=(), dtype=float32)\n",
      "loss tf.Tensor(0.0, shape=(), dtype=float32)\n",
      "loss tf.Tensor(0.0, shape=(), dtype=float32)\n",
      "loss tf.Tensor(0.0, shape=(), dtype=float32)\n",
      "loss tf.Tensor(0.0, shape=(), dtype=float32)\n"
     ]
    },
    {
     "name": "stderr",
     "output_type": "stream",
     "text": [
      " 37%|███▋      | 3699/10000 [01:48<03:27, 30.42it/s, episode_reward=0, running_reward=0]"
     ]
    },
    {
     "name": "stdout",
     "output_type": "stream",
     "text": [
      "loss tf.Tensor(0.0, shape=(), dtype=float32)\n",
      "loss tf.Tensor(0.0, shape=(), dtype=float32)\n",
      "loss tf.Tensor(0.0, shape=(), dtype=float32)\n",
      "loss tf.Tensor(0.0, shape=(), dtype=float32)\n",
      "loss tf.Tensor(0.0, shape=(), dtype=float32)\n",
      "loss tf.Tensor(0.0, shape=(), dtype=float32)\n",
      "loss tf.Tensor(0.0, shape=(), dtype=float32)\n",
      "loss tf.Tensor(0.0, shape=(), dtype=float32)\n"
     ]
    },
    {
     "name": "stderr",
     "output_type": "stream",
     "text": [
      " 37%|███▋      | 3707/10000 [01:49<03:10, 33.08it/s, episode_reward=0, running_reward=0]"
     ]
    },
    {
     "name": "stdout",
     "output_type": "stream",
     "text": [
      "loss tf.Tensor(0.0, shape=(), dtype=float32)\n",
      "loss tf.Tensor(0.0, shape=(), dtype=float32)\n",
      "loss tf.Tensor(0.0, shape=(), dtype=float32)\n",
      "loss tf.Tensor(0.0, shape=(), dtype=float32)\n",
      "loss tf.Tensor(0.0, shape=(), dtype=float32)\n",
      "loss tf.Tensor(0.0, shape=(), dtype=float32)\n",
      "loss tf.Tensor(0.0, shape=(), dtype=float32)\n",
      "loss tf.Tensor(0.0, shape=(), dtype=float32)\n"
     ]
    },
    {
     "name": "stderr",
     "output_type": "stream",
     "text": [
      " 37%|███▋      | 3715/10000 [01:49<03:00, 34.77it/s, episode_reward=0, running_reward=0]"
     ]
    },
    {
     "name": "stdout",
     "output_type": "stream",
     "text": [
      "loss tf.Tensor(0.0, shape=(), dtype=float32)\n",
      "loss tf.Tensor(0.0, shape=(), dtype=float32)\n",
      "loss tf.Tensor(0.0, shape=(), dtype=float32)\n",
      "loss tf.Tensor(0.0, shape=(), dtype=float32)\n",
      "loss tf.Tensor(0.0, shape=(), dtype=float32)\n",
      "loss tf.Tensor(0.0, shape=(), dtype=float32)\n",
      "loss tf.Tensor(0.0, shape=(), dtype=float32)\n",
      "loss tf.Tensor(0.0, shape=(), dtype=float32)\n"
     ]
    },
    {
     "name": "stderr",
     "output_type": "stream",
     "text": [
      " 37%|███▋      | 3723/10000 [01:49<02:57, 35.28it/s, episode_reward=0, running_reward=0]"
     ]
    },
    {
     "name": "stdout",
     "output_type": "stream",
     "text": [
      "loss tf.Tensor(0.0, shape=(), dtype=float32)\n",
      "loss tf.Tensor(0.0, shape=(), dtype=float32)\n",
      "loss tf.Tensor(0.0, shape=(), dtype=float32)\n",
      "loss tf.Tensor(0.0, shape=(), dtype=float32)\n",
      "loss tf.Tensor(0.0, shape=(), dtype=float32)\n",
      "loss tf.Tensor(0.0, shape=(), dtype=float32)\n",
      "loss tf.Tensor(0.0, shape=(), dtype=float32)\n",
      "loss tf.Tensor(0.0, shape=(), dtype=float32)\n"
     ]
    },
    {
     "name": "stderr",
     "output_type": "stream",
     "text": [
      " 37%|███▋      | 3731/10000 [01:49<02:55, 35.81it/s, episode_reward=0, running_reward=0]"
     ]
    },
    {
     "name": "stdout",
     "output_type": "stream",
     "text": [
      "loss tf.Tensor(0.0, shape=(), dtype=float32)\n",
      "loss tf.Tensor(0.0, shape=(), dtype=float32)\n",
      "loss tf.Tensor(0.0, shape=(), dtype=float32)\n",
      "loss tf.Tensor(0.0, shape=(), dtype=float32)\n",
      "loss tf.Tensor(0.0, shape=(), dtype=float32)\n",
      "loss tf.Tensor(0.0, shape=(), dtype=float32)\n",
      "loss tf.Tensor(0.0, shape=(), dtype=float32)\n",
      "loss tf.Tensor(0.0, shape=(), dtype=float32)\n"
     ]
    },
    {
     "name": "stderr",
     "output_type": "stream",
     "text": [
      " 37%|███▋      | 3739/10000 [01:50<02:54, 35.90it/s, episode_reward=0, running_reward=0]"
     ]
    },
    {
     "name": "stdout",
     "output_type": "stream",
     "text": [
      "loss tf.Tensor(0.0, shape=(), dtype=float32)\n",
      "loss tf.Tensor(0.0, shape=(), dtype=float32)\n",
      "loss tf.Tensor(0.0, shape=(), dtype=float32)\n",
      "loss tf.Tensor(0.0, shape=(), dtype=float32)\n",
      "loss tf.Tensor(0.0, shape=(), dtype=float32)\n",
      "loss tf.Tensor(0.0, shape=(), dtype=float32)\n",
      "loss tf.Tensor(0.0, shape=(), dtype=float32)\n",
      "loss tf.Tensor(0.0, shape=(), dtype=float32)\n"
     ]
    },
    {
     "name": "stderr",
     "output_type": "stream",
     "text": [
      " 37%|███▋      | 3747/10000 [01:50<02:52, 36.32it/s, episode_reward=0, running_reward=0]"
     ]
    },
    {
     "name": "stdout",
     "output_type": "stream",
     "text": [
      "loss tf.Tensor(0.0, shape=(), dtype=float32)\n",
      "loss tf.Tensor(0.0, shape=(), dtype=float32)\n",
      "loss tf.Tensor(0.0, shape=(), dtype=float32)\n",
      "loss tf.Tensor(0.0, shape=(), dtype=float32)\n",
      "loss tf.Tensor(0.0, shape=(), dtype=float32)\n",
      "loss tf.Tensor(0.0, shape=(), dtype=float32)\n",
      "loss tf.Tensor(0.0, shape=(), dtype=float32)\n",
      "loss tf.Tensor(0.0, shape=(), dtype=float32)\n"
     ]
    },
    {
     "name": "stderr",
     "output_type": "stream",
     "text": [
      " 38%|███▊      | 3751/10000 [01:50<02:52, 36.30it/s, episode_reward=0, running_reward=0]"
     ]
    },
    {
     "name": "stdout",
     "output_type": "stream",
     "text": [
      "loss tf.Tensor(0.0, shape=(), dtype=float32)\n",
      "loss tf.Tensor(0.0, shape=(), dtype=float32)\n"
     ]
    },
    {
     "name": "stderr",
     "output_type": "stream",
     "text": [
      " 38%|███▊      | 3759/10000 [01:50<03:48, 27.33it/s, episode_reward=0, running_reward=0]"
     ]
    },
    {
     "name": "stdout",
     "output_type": "stream",
     "text": [
      "loss tf.Tensor(0.0, shape=(), dtype=float32)\n",
      "loss tf.Tensor(0.0, shape=(), dtype=float32)\n",
      "loss tf.Tensor(0.0, shape=(), dtype=float32)\n",
      "loss tf.Tensor(0.0, shape=(), dtype=float32)\n",
      "loss tf.Tensor(0.0, shape=(), dtype=float32)\n",
      "loss tf.Tensor(0.0, shape=(), dtype=float32)\n",
      "loss tf.Tensor(0.0, shape=(), dtype=float32)\n",
      "loss tf.Tensor(0.0, shape=(), dtype=float32)\n"
     ]
    },
    {
     "name": "stderr",
     "output_type": "stream",
     "text": [
      " 38%|███▊      | 3767/10000 [01:50<03:20, 31.07it/s, episode_reward=0, running_reward=0]"
     ]
    },
    {
     "name": "stdout",
     "output_type": "stream",
     "text": [
      "loss tf.Tensor(0.0, shape=(), dtype=float32)\n",
      "loss tf.Tensor(0.0, shape=(), dtype=float32)\n",
      "loss tf.Tensor(0.0, shape=(), dtype=float32)\n",
      "loss tf.Tensor(0.0, shape=(), dtype=float32)\n",
      "loss tf.Tensor(0.0, shape=(), dtype=float32)\n",
      "loss tf.Tensor(0.0, shape=(), dtype=float32)\n",
      "loss tf.Tensor(0.0, shape=(), dtype=float32)\n",
      "loss tf.Tensor(0.0, shape=(), dtype=float32)\n"
     ]
    },
    {
     "name": "stderr",
     "output_type": "stream",
     "text": [
      " 38%|███▊      | 3775/10000 [01:51<03:05, 33.62it/s, episode_reward=0, running_reward=0]"
     ]
    },
    {
     "name": "stdout",
     "output_type": "stream",
     "text": [
      "loss tf.Tensor(0.0, shape=(), dtype=float32)\n",
      "loss tf.Tensor(0.0, shape=(), dtype=float32)\n",
      "loss tf.Tensor(0.0, shape=(), dtype=float32)\n",
      "loss tf.Tensor(0.0, shape=(), dtype=float32)\n",
      "loss tf.Tensor(0.0, shape=(), dtype=float32)\n",
      "loss tf.Tensor(0.0, shape=(), dtype=float32)\n",
      "loss tf.Tensor(0.0, shape=(), dtype=float32)\n",
      "loss tf.Tensor(0.0, shape=(), dtype=float32)\n"
     ]
    },
    {
     "name": "stderr",
     "output_type": "stream",
     "text": [
      " 38%|███▊      | 3783/10000 [01:51<02:56, 35.29it/s, episode_reward=0, running_reward=0]"
     ]
    },
    {
     "name": "stdout",
     "output_type": "stream",
     "text": [
      "loss tf.Tensor(0.0, shape=(), dtype=float32)\n",
      "loss tf.Tensor(0.0, shape=(), dtype=float32)\n",
      "loss tf.Tensor(0.0, shape=(), dtype=float32)\n",
      "loss tf.Tensor(0.0, shape=(), dtype=float32)\n",
      "loss tf.Tensor(0.0, shape=(), dtype=float32)\n",
      "loss tf.Tensor(0.0, shape=(), dtype=float32)\n",
      "loss tf.Tensor(0.0, shape=(), dtype=float32)\n",
      "loss tf.Tensor(0.0, shape=(), dtype=float32)\n"
     ]
    },
    {
     "name": "stderr",
     "output_type": "stream",
     "text": [
      " 38%|███▊      | 3791/10000 [01:51<02:52, 35.94it/s, episode_reward=0, running_reward=0]"
     ]
    },
    {
     "name": "stdout",
     "output_type": "stream",
     "text": [
      "loss tf.Tensor(0.0, shape=(), dtype=float32)\n",
      "loss tf.Tensor(0.0, shape=(), dtype=float32)\n",
      "loss tf.Tensor(0.0, shape=(), dtype=float32)\n",
      "loss tf.Tensor(0.0, shape=(), dtype=float32)\n",
      "loss tf.Tensor(0.0, shape=(), dtype=float32)\n",
      "loss tf.Tensor(0.0, shape=(), dtype=float32)\n",
      "loss tf.Tensor(0.0, shape=(), dtype=float32)\n",
      "loss tf.Tensor(0.0, shape=(), dtype=float32)\n"
     ]
    },
    {
     "name": "stderr",
     "output_type": "stream",
     "text": [
      " 38%|███▊      | 3799/10000 [01:51<02:53, 35.67it/s, episode_reward=0, running_reward=0]"
     ]
    },
    {
     "name": "stdout",
     "output_type": "stream",
     "text": [
      "loss tf.Tensor(0.0, shape=(), dtype=float32)\n",
      "loss tf.Tensor(0.0, shape=(), dtype=float32)\n",
      "loss tf.Tensor(0.0, shape=(), dtype=float32)\n",
      "loss tf.Tensor(0.0, shape=(), dtype=float32)\n",
      "loss tf.Tensor(0.0, shape=(), dtype=float32)\n",
      "loss tf.Tensor(0.0, shape=(), dtype=float32)\n",
      "loss tf.Tensor(0.0, shape=(), dtype=float32)\n",
      "loss tf.Tensor(0.0, shape=(), dtype=float32)\n"
     ]
    },
    {
     "name": "stderr",
     "output_type": "stream",
     "text": [
      " 38%|███▊      | 3807/10000 [01:52<02:51, 36.04it/s, episode_reward=0, running_reward=0]"
     ]
    },
    {
     "name": "stdout",
     "output_type": "stream",
     "text": [
      "loss tf.Tensor(0.0, shape=(), dtype=float32)\n",
      "loss tf.Tensor(0.0, shape=(), dtype=float32)\n",
      "loss tf.Tensor(0.0, shape=(), dtype=float32)\n",
      "loss tf.Tensor(0.0, shape=(), dtype=float32)\n",
      "loss tf.Tensor(0.0, shape=(), dtype=float32)\n",
      "loss tf.Tensor(0.0, shape=(), dtype=float32)\n",
      "loss tf.Tensor(0.0, shape=(), dtype=float32)\n",
      "loss tf.Tensor(0.0, shape=(), dtype=float32)\n"
     ]
    },
    {
     "name": "stderr",
     "output_type": "stream",
     "text": [
      " 38%|███▊      | 3811/10000 [01:52<03:50, 26.84it/s, episode_reward=0, running_reward=0]"
     ]
    },
    {
     "name": "stdout",
     "output_type": "stream",
     "text": [
      "loss tf.Tensor(0.0, shape=(), dtype=float32)\n",
      "loss tf.Tensor(0.0, shape=(), dtype=float32)\n",
      "loss tf.Tensor(0.0, shape=(), dtype=float32)\n"
     ]
    },
    {
     "name": "stderr",
     "output_type": "stream",
     "text": [
      " 38%|███▊      | 3815/10000 [01:52<03:43, 27.69it/s, episode_reward=0, running_reward=0]"
     ]
    },
    {
     "name": "stdout",
     "output_type": "stream",
     "text": [
      "loss tf.Tensor(0.0, shape=(), dtype=float32)\n",
      "loss tf.Tensor(0.0, shape=(), dtype=float32)\n",
      "loss tf.Tensor(0.0, shape=(), dtype=float32)\n",
      "loss tf.Tensor(0.0, shape=(), dtype=float32)\n",
      "loss tf.Tensor(0.0, shape=(), dtype=float32)\n",
      "loss tf.Tensor(0.0, shape=(), dtype=float32)\n",
      "loss tf.Tensor(0.0, shape=(), dtype=float32)\n"
     ]
    },
    {
     "name": "stderr",
     "output_type": "stream",
     "text": [
      " 38%|███▊      | 3823/10000 [01:52<03:15, 31.52it/s, episode_reward=0, running_reward=0]"
     ]
    },
    {
     "name": "stdout",
     "output_type": "stream",
     "text": [
      "loss tf.Tensor(0.0, shape=(), dtype=float32)\n",
      "loss tf.Tensor(0.0, shape=(), dtype=float32)\n",
      "loss tf.Tensor(0.0, shape=(), dtype=float32)\n",
      "loss tf.Tensor(0.0, shape=(), dtype=float32)\n",
      "loss tf.Tensor(0.0, shape=(), dtype=float32)\n",
      "loss tf.Tensor(0.0, shape=(), dtype=float32)\n",
      "loss tf.Tensor(0.0, shape=(), dtype=float32)\n",
      "loss tf.Tensor(0.0, shape=(), dtype=float32)\n"
     ]
    },
    {
     "name": "stderr",
     "output_type": "stream",
     "text": [
      " 38%|███▊      | 3831/10000 [01:52<03:03, 33.56it/s, episode_reward=0, running_reward=0]"
     ]
    },
    {
     "name": "stdout",
     "output_type": "stream",
     "text": [
      "loss tf.Tensor(0.0, shape=(), dtype=float32)\n",
      "loss tf.Tensor(0.0, shape=(), dtype=float32)\n",
      "loss tf.Tensor(0.0, shape=(), dtype=float32)\n",
      "loss tf.Tensor(0.0, shape=(), dtype=float32)\n",
      "loss tf.Tensor(0.0, shape=(), dtype=float32)\n",
      "loss tf.Tensor(0.0, shape=(), dtype=float32)\n",
      "loss tf.Tensor(0.0, shape=(), dtype=float32)\n",
      "loss tf.Tensor(0.0, shape=(), dtype=float32)\n"
     ]
    },
    {
     "name": "stderr",
     "output_type": "stream",
     "text": [
      " 38%|███▊      | 3839/10000 [01:53<02:57, 34.68it/s, episode_reward=0, running_reward=0]"
     ]
    },
    {
     "name": "stdout",
     "output_type": "stream",
     "text": [
      "loss tf.Tensor(0.0, shape=(), dtype=float32)\n",
      "loss tf.Tensor(0.0, shape=(), dtype=float32)\n",
      "loss tf.Tensor(0.0, shape=(), dtype=float32)\n",
      "loss tf.Tensor(0.0, shape=(), dtype=float32)\n",
      "loss tf.Tensor(0.0, shape=(), dtype=float32)\n",
      "loss tf.Tensor(0.0, shape=(), dtype=float32)\n",
      "loss tf.Tensor(0.0, shape=(), dtype=float32)\n",
      "loss tf.Tensor(0.0, shape=(), dtype=float32)\n"
     ]
    },
    {
     "name": "stderr",
     "output_type": "stream",
     "text": [
      " 38%|███▊      | 3847/10000 [01:53<02:53, 35.36it/s, episode_reward=0, running_reward=0]"
     ]
    },
    {
     "name": "stdout",
     "output_type": "stream",
     "text": [
      "loss tf.Tensor(0.0, shape=(), dtype=float32)\n",
      "loss tf.Tensor(0.0, shape=(), dtype=float32)\n",
      "loss tf.Tensor(0.0, shape=(), dtype=float32)\n",
      "loss tf.Tensor(0.0, shape=(), dtype=float32)\n",
      "loss tf.Tensor(0.0, shape=(), dtype=float32)\n",
      "loss tf.Tensor(0.0, shape=(), dtype=float32)\n",
      "loss tf.Tensor(0.0, shape=(), dtype=float32)\n",
      "loss tf.Tensor(0.0, shape=(), dtype=float32)\n"
     ]
    },
    {
     "name": "stderr",
     "output_type": "stream",
     "text": [
      " 39%|███▊      | 3855/10000 [01:53<02:53, 35.40it/s, episode_reward=0, running_reward=0]"
     ]
    },
    {
     "name": "stdout",
     "output_type": "stream",
     "text": [
      "loss tf.Tensor(0.0, shape=(), dtype=float32)\n",
      "loss tf.Tensor(0.0, shape=(), dtype=float32)\n",
      "loss tf.Tensor(0.0, shape=(), dtype=float32)\n",
      "loss tf.Tensor(0.0, shape=(), dtype=float32)\n",
      "loss tf.Tensor(0.0, shape=(), dtype=float32)\n",
      "loss tf.Tensor(0.0, shape=(), dtype=float32)\n",
      "loss tf.Tensor(0.0, shape=(), dtype=float32)\n",
      "loss tf.Tensor(0.0, shape=(), dtype=float32)\n"
     ]
    },
    {
     "name": "stderr",
     "output_type": "stream",
     "text": [
      " 39%|███▊      | 3863/10000 [01:53<02:53, 35.41it/s, episode_reward=0, running_reward=0]"
     ]
    },
    {
     "name": "stdout",
     "output_type": "stream",
     "text": [
      "loss tf.Tensor(0.0, shape=(), dtype=float32)\n",
      "loss tf.Tensor(0.0, shape=(), dtype=float32)\n",
      "loss tf.Tensor(0.0, shape=(), dtype=float32)\n",
      "loss tf.Tensor(0.0, shape=(), dtype=float32)\n",
      "loss tf.Tensor(0.0, shape=(), dtype=float32)\n"
     ]
    },
    {
     "name": "stderr",
     "output_type": "stream",
     "text": [
      " 39%|███▊      | 3871/10000 [01:54<03:48, 26.77it/s, episode_reward=0, running_reward=0]"
     ]
    },
    {
     "name": "stdout",
     "output_type": "stream",
     "text": [
      "loss tf.Tensor(0.0, shape=(), dtype=float32)\n",
      "loss tf.Tensor(0.0, shape=(), dtype=float32)\n",
      "loss tf.Tensor(0.0, shape=(), dtype=float32)\n",
      "loss tf.Tensor(0.0, shape=(), dtype=float32)\n",
      "loss tf.Tensor(0.0, shape=(), dtype=float32)\n",
      "loss tf.Tensor(0.0, shape=(), dtype=float32)\n",
      "loss tf.Tensor(0.0, shape=(), dtype=float32)\n",
      "loss tf.Tensor(0.0, shape=(), dtype=float32)\n"
     ]
    },
    {
     "name": "stderr",
     "output_type": "stream",
     "text": [
      " 39%|███▉      | 3879/10000 [01:54<03:17, 31.01it/s, episode_reward=0, running_reward=0]"
     ]
    },
    {
     "name": "stdout",
     "output_type": "stream",
     "text": [
      "loss tf.Tensor(0.0, shape=(), dtype=float32)\n",
      "loss tf.Tensor(0.0, shape=(), dtype=float32)\n",
      "loss tf.Tensor(0.0, shape=(), dtype=float32)\n",
      "loss tf.Tensor(0.0, shape=(), dtype=float32)\n",
      "loss tf.Tensor(0.0, shape=(), dtype=float32)\n",
      "loss tf.Tensor(0.0, shape=(), dtype=float32)\n",
      "loss tf.Tensor(0.0, shape=(), dtype=float32)\n",
      "loss tf.Tensor(0.0, shape=(), dtype=float32)\n"
     ]
    },
    {
     "name": "stderr",
     "output_type": "stream",
     "text": [
      " 39%|███▉      | 3887/10000 [01:54<03:02, 33.58it/s, episode_reward=0, running_reward=0]"
     ]
    },
    {
     "name": "stdout",
     "output_type": "stream",
     "text": [
      "loss tf.Tensor(0.0, shape=(), dtype=float32)\n",
      "loss tf.Tensor(0.0, shape=(), dtype=float32)\n",
      "loss tf.Tensor(0.0, shape=(), dtype=float32)\n",
      "loss tf.Tensor(0.0, shape=(), dtype=float32)\n",
      "loss tf.Tensor(0.0, shape=(), dtype=float32)\n",
      "loss tf.Tensor(0.0, shape=(), dtype=float32)\n",
      "loss tf.Tensor(0.0, shape=(), dtype=float32)\n",
      "loss tf.Tensor(0.0, shape=(), dtype=float32)\n"
     ]
    },
    {
     "name": "stderr",
     "output_type": "stream",
     "text": [
      " 39%|███▉      | 3895/10000 [01:54<02:54, 34.97it/s, episode_reward=0, running_reward=0]"
     ]
    },
    {
     "name": "stdout",
     "output_type": "stream",
     "text": [
      "loss tf.Tensor(0.0, shape=(), dtype=float32)\n",
      "loss tf.Tensor(0.0, shape=(), dtype=float32)\n",
      "loss tf.Tensor(0.0, shape=(), dtype=float32)\n",
      "loss tf.Tensor(0.0, shape=(), dtype=float32)\n",
      "loss tf.Tensor(0.0, shape=(), dtype=float32)\n",
      "loss tf.Tensor(0.0, shape=(), dtype=float32)\n",
      "loss tf.Tensor(0.0, shape=(), dtype=float32)\n",
      "loss tf.Tensor(0.0, shape=(), dtype=float32)\n"
     ]
    },
    {
     "name": "stderr",
     "output_type": "stream",
     "text": [
      " 39%|███▉      | 3903/10000 [01:55<02:52, 35.43it/s, episode_reward=0, running_reward=0]"
     ]
    },
    {
     "name": "stdout",
     "output_type": "stream",
     "text": [
      "loss tf.Tensor(0.0, shape=(), dtype=float32)\n",
      "loss tf.Tensor(0.0, shape=(), dtype=float32)\n",
      "loss tf.Tensor(0.0, shape=(), dtype=float32)\n",
      "loss tf.Tensor(0.0, shape=(), dtype=float32)\n",
      "loss tf.Tensor(0.0, shape=(), dtype=float32)\n",
      "loss tf.Tensor(0.0, shape=(), dtype=float32)\n",
      "loss tf.Tensor(0.0, shape=(), dtype=float32)\n",
      "loss tf.Tensor(0.0, shape=(), dtype=float32)\n"
     ]
    },
    {
     "name": "stderr",
     "output_type": "stream",
     "text": [
      " 39%|███▉      | 3907/10000 [01:55<03:39, 27.79it/s, episode_reward=0, running_reward=0]"
     ]
    },
    {
     "name": "stdout",
     "output_type": "stream",
     "text": [
      "loss tf.Tensor(0.0, shape=(), dtype=float32)\n",
      "loss tf.Tensor(0.0, shape=(), dtype=float32)\n",
      "loss tf.Tensor(0.0, shape=(), dtype=float32)\n",
      "loss tf.Tensor(0.0, shape=(), dtype=float32)\n"
     ]
    },
    {
     "name": "stderr",
     "output_type": "stream",
     "text": [
      " 39%|███▉      | 3911/10000 [01:55<03:49, 26.56it/s, episode_reward=0, running_reward=0]"
     ]
    },
    {
     "name": "stdout",
     "output_type": "stream",
     "text": [
      "loss tf.Tensor(0.0, shape=(), dtype=float32)\n",
      "loss tf.Tensor(0.0, shape=(), dtype=float32)\n",
      "loss tf.Tensor(0.0, shape=(), dtype=float32)\n",
      "loss tf.Tensor(0.0, shape=(), dtype=float32)\n",
      "loss tf.Tensor(0.0, shape=(), dtype=float32)\n",
      "loss tf.Tensor(0.0, shape=(), dtype=float32)\n",
      "loss tf.Tensor(0.0, shape=(), dtype=float32)\n"
     ]
    },
    {
     "name": "stderr",
     "output_type": "stream",
     "text": [
      " 39%|███▉      | 3919/10000 [01:55<03:16, 30.88it/s, episode_reward=0, running_reward=0]"
     ]
    },
    {
     "name": "stdout",
     "output_type": "stream",
     "text": [
      "loss tf.Tensor(0.0, shape=(), dtype=float32)\n",
      "loss tf.Tensor(0.0, shape=(), dtype=float32)\n",
      "loss tf.Tensor(0.0, shape=(), dtype=float32)\n",
      "loss tf.Tensor(0.0, shape=(), dtype=float32)\n",
      "loss tf.Tensor(0.0, shape=(), dtype=float32)\n",
      "loss tf.Tensor(0.0, shape=(), dtype=float32)\n",
      "loss tf.Tensor(0.0, shape=(), dtype=float32)\n",
      "loss tf.Tensor(0.0, shape=(), dtype=float32)\n"
     ]
    },
    {
     "name": "stderr",
     "output_type": "stream",
     "text": [
      " 39%|███▉      | 3927/10000 [01:55<03:03, 33.17it/s, episode_reward=0, running_reward=0]"
     ]
    },
    {
     "name": "stdout",
     "output_type": "stream",
     "text": [
      "loss tf.Tensor(0.0, shape=(), dtype=float32)\n",
      "loss tf.Tensor(0.0, shape=(), dtype=float32)\n",
      "loss tf.Tensor(0.0, shape=(), dtype=float32)\n",
      "loss tf.Tensor(0.0, shape=(), dtype=float32)\n",
      "loss tf.Tensor(0.0, shape=(), dtype=float32)\n",
      "loss tf.Tensor(0.0, shape=(), dtype=float32)\n",
      "loss tf.Tensor(0.0, shape=(), dtype=float32)\n",
      "loss tf.Tensor(0.0, shape=(), dtype=float32)\n"
     ]
    },
    {
     "name": "stderr",
     "output_type": "stream",
     "text": [
      " 39%|███▉      | 3935/10000 [01:56<02:55, 34.61it/s, episode_reward=0, running_reward=0]"
     ]
    },
    {
     "name": "stdout",
     "output_type": "stream",
     "text": [
      "loss tf.Tensor(0.0, shape=(), dtype=float32)\n",
      "loss tf.Tensor(0.0, shape=(), dtype=float32)\n",
      "loss tf.Tensor(0.0, shape=(), dtype=float32)\n",
      "loss tf.Tensor(0.0, shape=(), dtype=float32)\n",
      "loss tf.Tensor(0.0, shape=(), dtype=float32)\n",
      "loss tf.Tensor(0.0, shape=(), dtype=float32)\n",
      "loss tf.Tensor(0.0, shape=(), dtype=float32)\n",
      "loss tf.Tensor(0.0, shape=(), dtype=float32)\n"
     ]
    },
    {
     "name": "stderr",
     "output_type": "stream",
     "text": [
      " 39%|███▉      | 3943/10000 [01:56<02:52, 35.07it/s, episode_reward=0, running_reward=0]"
     ]
    },
    {
     "name": "stdout",
     "output_type": "stream",
     "text": [
      "loss tf.Tensor(0.0, shape=(), dtype=float32)\n",
      "loss tf.Tensor(0.0, shape=(), dtype=float32)\n",
      "loss tf.Tensor(0.0, shape=(), dtype=float32)\n",
      "loss tf.Tensor(0.0, shape=(), dtype=float32)\n",
      "loss tf.Tensor(0.0, shape=(), dtype=float32)\n",
      "loss tf.Tensor(0.0, shape=(), dtype=float32)\n",
      "loss tf.Tensor(0.0, shape=(), dtype=float32)\n",
      "loss tf.Tensor(0.0, shape=(), dtype=float32)\n"
     ]
    },
    {
     "name": "stderr",
     "output_type": "stream",
     "text": [
      " 40%|███▉      | 3951/10000 [01:56<02:51, 35.33it/s, episode_reward=0, running_reward=0]"
     ]
    },
    {
     "name": "stdout",
     "output_type": "stream",
     "text": [
      "loss tf.Tensor(0.0, shape=(), dtype=float32)\n",
      "loss tf.Tensor(0.0, shape=(), dtype=float32)\n",
      "loss tf.Tensor(0.0, shape=(), dtype=float32)\n",
      "loss tf.Tensor(0.0, shape=(), dtype=float32)\n",
      "loss tf.Tensor(0.0, shape=(), dtype=float32)\n",
      "loss tf.Tensor(0.0, shape=(), dtype=float32)\n",
      "loss tf.Tensor(0.0, shape=(), dtype=float32)\n",
      "loss tf.Tensor(0.0, shape=(), dtype=float32)\n"
     ]
    },
    {
     "name": "stderr",
     "output_type": "stream",
     "text": [
      " 40%|███▉      | 3955/10000 [01:56<02:49, 35.66it/s, episode_reward=0, running_reward=0]"
     ]
    },
    {
     "name": "stdout",
     "output_type": "stream",
     "text": [
      "loss tf.Tensor(0.0, shape=(), dtype=float32)\n",
      "loss tf.Tensor(0.0, shape=(), dtype=float32)\n",
      "loss tf.Tensor(0.0, shape=(), dtype=float32)\n",
      "loss tf.Tensor(0.0, shape=(), dtype=float32)\n"
     ]
    },
    {
     "name": "stderr",
     "output_type": "stream",
     "text": [
      " 40%|███▉      | 3963/10000 [01:57<03:47, 26.48it/s, episode_reward=0, running_reward=0]"
     ]
    },
    {
     "name": "stdout",
     "output_type": "stream",
     "text": [
      "loss tf.Tensor(0.0, shape=(), dtype=float32)\n",
      "loss tf.Tensor(0.0, shape=(), dtype=float32)\n",
      "loss tf.Tensor(0.0, shape=(), dtype=float32)\n",
      "loss tf.Tensor(0.0, shape=(), dtype=float32)\n",
      "loss tf.Tensor(0.0, shape=(), dtype=float32)\n",
      "loss tf.Tensor(0.0, shape=(), dtype=float32)\n"
     ]
    },
    {
     "name": "stderr",
     "output_type": "stream",
     "text": [
      " 40%|███▉      | 3971/10000 [01:57<03:14, 30.92it/s, episode_reward=0, running_reward=0]"
     ]
    },
    {
     "name": "stdout",
     "output_type": "stream",
     "text": [
      "loss tf.Tensor(0.0, shape=(), dtype=float32)\n",
      "loss tf.Tensor(0.0, shape=(), dtype=float32)\n",
      "loss tf.Tensor(0.0, shape=(), dtype=float32)\n",
      "loss tf.Tensor(0.0, shape=(), dtype=float32)\n",
      "loss tf.Tensor(0.0, shape=(), dtype=float32)\n",
      "loss tf.Tensor(0.0, shape=(), dtype=float32)\n",
      "loss tf.Tensor(0.0, shape=(), dtype=float32)\n",
      "loss tf.Tensor(0.0, shape=(), dtype=float32)\n"
     ]
    },
    {
     "name": "stderr",
     "output_type": "stream",
     "text": [
      " 40%|███▉      | 3979/10000 [01:57<02:59, 33.46it/s, episode_reward=0, running_reward=0]"
     ]
    },
    {
     "name": "stdout",
     "output_type": "stream",
     "text": [
      "loss tf.Tensor(0.0, shape=(), dtype=float32)\n",
      "loss tf.Tensor(0.0, shape=(), dtype=float32)\n",
      "loss tf.Tensor(0.0, shape=(), dtype=float32)\n",
      "loss tf.Tensor(0.0, shape=(), dtype=float32)\n",
      "loss tf.Tensor(0.0, shape=(), dtype=float32)\n",
      "loss tf.Tensor(0.0, shape=(), dtype=float32)\n",
      "loss tf.Tensor(0.0, shape=(), dtype=float32)\n",
      "loss tf.Tensor(0.0, shape=(), dtype=float32)\n"
     ]
    },
    {
     "name": "stderr",
     "output_type": "stream",
     "text": [
      " 40%|███▉      | 3987/10000 [01:57<02:53, 34.60it/s, episode_reward=0, running_reward=0]"
     ]
    },
    {
     "name": "stdout",
     "output_type": "stream",
     "text": [
      "loss tf.Tensor(0.0, shape=(), dtype=float32)\n",
      "loss tf.Tensor(0.0, shape=(), dtype=float32)\n",
      "loss tf.Tensor(0.0, shape=(), dtype=float32)\n",
      "loss tf.Tensor(0.0, shape=(), dtype=float32)\n",
      "loss tf.Tensor(0.0, shape=(), dtype=float32)\n",
      "loss tf.Tensor(0.0, shape=(), dtype=float32)\n",
      "loss tf.Tensor(0.0, shape=(), dtype=float32)\n",
      "loss tf.Tensor(0.0, shape=(), dtype=float32)\n"
     ]
    },
    {
     "name": "stderr",
     "output_type": "stream",
     "text": [
      " 40%|███▉      | 3995/10000 [01:57<02:49, 35.48it/s, episode_reward=0, running_reward=0]"
     ]
    },
    {
     "name": "stdout",
     "output_type": "stream",
     "text": [
      "loss tf.Tensor(0.0, shape=(), dtype=float32)\n",
      "loss tf.Tensor(0.0, shape=(), dtype=float32)\n",
      "loss tf.Tensor(0.0, shape=(), dtype=float32)\n",
      "loss tf.Tensor(0.0, shape=(), dtype=float32)\n",
      "loss tf.Tensor(0.0, shape=(), dtype=float32)\n",
      "loss tf.Tensor(0.0, shape=(), dtype=float32)\n",
      "loss tf.Tensor(0.0, shape=(), dtype=float32)\n",
      "loss tf.Tensor(0.0, shape=(), dtype=float32)\n"
     ]
    },
    {
     "name": "stderr",
     "output_type": "stream",
     "text": [
      " 40%|████      | 4003/10000 [01:58<02:47, 35.83it/s, episode_reward=0, running_reward=0]"
     ]
    },
    {
     "name": "stdout",
     "output_type": "stream",
     "text": [
      "loss tf.Tensor(0.0, shape=(), dtype=float32)\n",
      "loss tf.Tensor(0.0, shape=(), dtype=float32)\n",
      "loss tf.Tensor(0.0, shape=(), dtype=float32)\n",
      "loss tf.Tensor(0.0, shape=(), dtype=float32)\n",
      "loss tf.Tensor(0.0, shape=(), dtype=float32)\n",
      "loss tf.Tensor(0.0, shape=(), dtype=float32)\n",
      "loss tf.Tensor(0.0, shape=(), dtype=float32)\n",
      "loss tf.Tensor(0.0, shape=(), dtype=float32)\n"
     ]
    },
    {
     "name": "stderr",
     "output_type": "stream",
     "text": [
      " 40%|████      | 4011/10000 [01:58<02:46, 36.05it/s, episode_reward=0, running_reward=0]"
     ]
    },
    {
     "name": "stdout",
     "output_type": "stream",
     "text": [
      "loss tf.Tensor(0.0, shape=(), dtype=float32)\n",
      "loss tf.Tensor(0.0, shape=(), dtype=float32)\n",
      "loss tf.Tensor(0.0, shape=(), dtype=float32)\n",
      "loss tf.Tensor(0.0, shape=(), dtype=float32)\n",
      "loss tf.Tensor(0.0, shape=(), dtype=float32)\n",
      "loss tf.Tensor(0.0, shape=(), dtype=float32)\n",
      "loss tf.Tensor(0.0, shape=(), dtype=float32)\n",
      "loss tf.Tensor(0.0, shape=(), dtype=float32)\n"
     ]
    },
    {
     "name": "stderr",
     "output_type": "stream",
     "text": [
      " 40%|████      | 4015/10000 [01:58<02:48, 35.61it/s, episode_reward=0, running_reward=0]"
     ]
    },
    {
     "name": "stdout",
     "output_type": "stream",
     "text": [
      "loss tf.Tensor(0.0, shape=(), dtype=float32)\n",
      "loss tf.Tensor(0.0, shape=(), dtype=float32)\n",
      "loss tf.Tensor(0.0, shape=(), dtype=float32)\n"
     ]
    },
    {
     "name": "stderr",
     "output_type": "stream",
     "text": [
      " 40%|████      | 4019/10000 [01:58<03:56, 25.33it/s, episode_reward=0, running_reward=0]"
     ]
    },
    {
     "name": "stdout",
     "output_type": "stream",
     "text": [
      "loss tf.Tensor(0.0, shape=(), dtype=float32)\n",
      "loss tf.Tensor(0.0, shape=(), dtype=float32)\n",
      "loss tf.Tensor(0.0, shape=(), dtype=float32)\n",
      "loss tf.Tensor(0.0, shape=(), dtype=float32)\n",
      "loss tf.Tensor(0.0, shape=(), dtype=float32)\n",
      "loss tf.Tensor(0.0, shape=(), dtype=float32)\n",
      "loss tf.Tensor(0.0, shape=(), dtype=float32)\n"
     ]
    },
    {
     "name": "stderr",
     "output_type": "stream",
     "text": [
      " 40%|████      | 4027/10000 [01:59<03:20, 29.83it/s, episode_reward=0, running_reward=0]"
     ]
    },
    {
     "name": "stdout",
     "output_type": "stream",
     "text": [
      "loss tf.Tensor(0.0, shape=(), dtype=float32)\n",
      "loss tf.Tensor(0.0, shape=(), dtype=float32)\n",
      "loss tf.Tensor(0.0, shape=(), dtype=float32)\n",
      "loss tf.Tensor(0.0, shape=(), dtype=float32)\n",
      "loss tf.Tensor(0.0, shape=(), dtype=float32)\n",
      "loss tf.Tensor(0.0, shape=(), dtype=float32)\n",
      "loss tf.Tensor(0.0, shape=(), dtype=float32)\n",
      "loss tf.Tensor(0.0, shape=(), dtype=float32)\n"
     ]
    },
    {
     "name": "stderr",
     "output_type": "stream",
     "text": [
      " 40%|████      | 4035/10000 [01:59<03:02, 32.69it/s, episode_reward=0, running_reward=0]"
     ]
    },
    {
     "name": "stdout",
     "output_type": "stream",
     "text": [
      "loss tf.Tensor(0.0, shape=(), dtype=float32)\n",
      "loss tf.Tensor(0.0, shape=(), dtype=float32)\n",
      "loss tf.Tensor(0.0, shape=(), dtype=float32)\n",
      "loss tf.Tensor(0.0, shape=(), dtype=float32)\n",
      "loss tf.Tensor(0.0, shape=(), dtype=float32)\n",
      "loss tf.Tensor(0.0, shape=(), dtype=float32)\n",
      "loss tf.Tensor(0.0, shape=(), dtype=float32)\n",
      "loss tf.Tensor(0.0, shape=(), dtype=float32)\n"
     ]
    },
    {
     "name": "stderr",
     "output_type": "stream",
     "text": [
      " 40%|████      | 4043/10000 [01:59<02:54, 34.22it/s, episode_reward=0, running_reward=0]"
     ]
    },
    {
     "name": "stdout",
     "output_type": "stream",
     "text": [
      "loss tf.Tensor(0.0, shape=(), dtype=float32)\n",
      "loss tf.Tensor(0.0, shape=(), dtype=float32)\n",
      "loss tf.Tensor(0.0, shape=(), dtype=float32)\n",
      "loss tf.Tensor(0.0, shape=(), dtype=float32)\n",
      "loss tf.Tensor(0.0, shape=(), dtype=float32)\n",
      "loss tf.Tensor(0.0, shape=(), dtype=float32)\n",
      "loss tf.Tensor(0.0, shape=(), dtype=float32)\n",
      "loss tf.Tensor(0.0, shape=(), dtype=float32)\n"
     ]
    },
    {
     "name": "stderr",
     "output_type": "stream",
     "text": [
      " 41%|████      | 4051/10000 [01:59<02:49, 35.11it/s, episode_reward=0, running_reward=0]"
     ]
    },
    {
     "name": "stdout",
     "output_type": "stream",
     "text": [
      "loss tf.Tensor(0.0, shape=(), dtype=float32)\n",
      "loss tf.Tensor(0.0, shape=(), dtype=float32)\n",
      "loss tf.Tensor(0.0, shape=(), dtype=float32)\n",
      "loss tf.Tensor(0.0, shape=(), dtype=float32)\n",
      "loss tf.Tensor(0.0, shape=(), dtype=float32)\n",
      "loss tf.Tensor(0.0, shape=(), dtype=float32)\n",
      "loss tf.Tensor(0.0, shape=(), dtype=float32)\n",
      "loss tf.Tensor(0.0, shape=(), dtype=float32)\n"
     ]
    },
    {
     "name": "stderr",
     "output_type": "stream",
     "text": [
      " 41%|████      | 4059/10000 [01:59<02:46, 35.72it/s, episode_reward=0, running_reward=0]"
     ]
    },
    {
     "name": "stdout",
     "output_type": "stream",
     "text": [
      "loss tf.Tensor(0.0, shape=(), dtype=float32)\n",
      "loss tf.Tensor(0.0, shape=(), dtype=float32)\n",
      "loss tf.Tensor(0.0, shape=(), dtype=float32)\n",
      "loss tf.Tensor(0.0, shape=(), dtype=float32)\n",
      "loss tf.Tensor(0.0, shape=(), dtype=float32)\n",
      "loss tf.Tensor(0.0, shape=(), dtype=float32)\n",
      "loss tf.Tensor(0.0, shape=(), dtype=float32)\n",
      "loss tf.Tensor(0.0, shape=(), dtype=float32)\n"
     ]
    },
    {
     "name": "stderr",
     "output_type": "stream",
     "text": [
      " 41%|████      | 4067/10000 [02:00<02:46, 35.67it/s, episode_reward=0, running_reward=0]"
     ]
    },
    {
     "name": "stdout",
     "output_type": "stream",
     "text": [
      "loss tf.Tensor(0.0, shape=(), dtype=float32)\n",
      "loss tf.Tensor(0.0, shape=(), dtype=float32)\n",
      "loss tf.Tensor(0.0, shape=(), dtype=float32)\n",
      "loss tf.Tensor(0.0, shape=(), dtype=float32)\n",
      "loss tf.Tensor(0.0, shape=(), dtype=float32)\n",
      "loss tf.Tensor(0.0, shape=(), dtype=float32)\n",
      "loss tf.Tensor(0.0, shape=(), dtype=float32)\n",
      "loss tf.Tensor(0.0, shape=(), dtype=float32)\n"
     ]
    },
    {
     "name": "stderr",
     "output_type": "stream",
     "text": [
      " 41%|████      | 4071/10000 [02:00<02:45, 35.92it/s, episode_reward=0, running_reward=0]"
     ]
    },
    {
     "name": "stdout",
     "output_type": "stream",
     "text": [
      "loss tf.Tensor(0.0, shape=(), dtype=float32)\n",
      "loss tf.Tensor(0.0, shape=(), dtype=float32)\n"
     ]
    },
    {
     "name": "stderr",
     "output_type": "stream",
     "text": [
      " 41%|████      | 4079/10000 [02:00<03:38, 27.09it/s, episode_reward=0, running_reward=0]"
     ]
    },
    {
     "name": "stdout",
     "output_type": "stream",
     "text": [
      "loss tf.Tensor(0.0, shape=(), dtype=float32)\n",
      "loss tf.Tensor(0.0, shape=(), dtype=float32)\n",
      "loss tf.Tensor(0.0, shape=(), dtype=float32)\n",
      "loss tf.Tensor(0.0, shape=(), dtype=float32)\n",
      "loss tf.Tensor(0.0, shape=(), dtype=float32)\n",
      "loss tf.Tensor(0.0, shape=(), dtype=float32)\n",
      "loss tf.Tensor(0.0, shape=(), dtype=float32)\n",
      "loss tf.Tensor(0.0, shape=(), dtype=float32)\n"
     ]
    },
    {
     "name": "stderr",
     "output_type": "stream",
     "text": [
      " 41%|████      | 4087/10000 [02:00<03:10, 31.11it/s, episode_reward=0, running_reward=0]"
     ]
    },
    {
     "name": "stdout",
     "output_type": "stream",
     "text": [
      "loss tf.Tensor(0.0, shape=(), dtype=float32)\n",
      "loss tf.Tensor(0.0, shape=(), dtype=float32)\n",
      "loss tf.Tensor(0.0, shape=(), dtype=float32)\n",
      "loss tf.Tensor(0.0, shape=(), dtype=float32)\n",
      "loss tf.Tensor(0.0, shape=(), dtype=float32)\n",
      "loss tf.Tensor(0.0, shape=(), dtype=float32)\n",
      "loss tf.Tensor(0.0, shape=(), dtype=float32)\n",
      "loss tf.Tensor(0.0, shape=(), dtype=float32)\n"
     ]
    },
    {
     "name": "stderr",
     "output_type": "stream",
     "text": [
      " 41%|████      | 4095/10000 [02:01<03:00, 32.65it/s, episode_reward=0, running_reward=0]"
     ]
    },
    {
     "name": "stdout",
     "output_type": "stream",
     "text": [
      "loss tf.Tensor(0.0, shape=(), dtype=float32)\n",
      "loss tf.Tensor(0.0, shape=(), dtype=float32)\n",
      "loss tf.Tensor(0.0, shape=(), dtype=float32)\n",
      "loss tf.Tensor(0.0, shape=(), dtype=float32)\n",
      "loss tf.Tensor(0.0, shape=(), dtype=float32)\n",
      "loss tf.Tensor(0.0, shape=(), dtype=float32)\n",
      "loss tf.Tensor(0.0, shape=(), dtype=float32)\n",
      "loss tf.Tensor(0.0, shape=(), dtype=float32)\n"
     ]
    },
    {
     "name": "stderr",
     "output_type": "stream",
     "text": [
      " 41%|████      | 4103/10000 [02:01<02:49, 34.85it/s, episode_reward=0, running_reward=0]"
     ]
    },
    {
     "name": "stdout",
     "output_type": "stream",
     "text": [
      "loss tf.Tensor(0.0, shape=(), dtype=float32)\n",
      "loss tf.Tensor(0.0, shape=(), dtype=float32)\n",
      "loss tf.Tensor(0.0, shape=(), dtype=float32)\n",
      "loss tf.Tensor(0.0, shape=(), dtype=float32)\n",
      "loss tf.Tensor(0.0, shape=(), dtype=float32)\n",
      "loss tf.Tensor(0.0, shape=(), dtype=float32)\n",
      "loss tf.Tensor(0.0, shape=(), dtype=float32)\n",
      "loss tf.Tensor(0.0, shape=(), dtype=float32)\n"
     ]
    },
    {
     "name": "stderr",
     "output_type": "stream",
     "text": [
      " 41%|████      | 4111/10000 [02:01<02:45, 35.58it/s, episode_reward=0, running_reward=0]"
     ]
    },
    {
     "name": "stdout",
     "output_type": "stream",
     "text": [
      "loss tf.Tensor(0.0, shape=(), dtype=float32)\n",
      "loss tf.Tensor(0.0, shape=(), dtype=float32)\n",
      "loss tf.Tensor(0.0, shape=(), dtype=float32)\n",
      "loss tf.Tensor(0.0, shape=(), dtype=float32)\n",
      "loss tf.Tensor(0.0, shape=(), dtype=float32)\n",
      "loss tf.Tensor(0.0, shape=(), dtype=float32)\n",
      "loss tf.Tensor(0.0, shape=(), dtype=float32)\n",
      "loss tf.Tensor(0.0, shape=(), dtype=float32)\n"
     ]
    },
    {
     "name": "stderr",
     "output_type": "stream",
     "text": [
      " 41%|████      | 4119/10000 [02:01<02:47, 35.05it/s, episode_reward=0, running_reward=0]"
     ]
    },
    {
     "name": "stdout",
     "output_type": "stream",
     "text": [
      "loss tf.Tensor(0.0, shape=(), dtype=float32)\n",
      "loss tf.Tensor(0.0, shape=(), dtype=float32)\n",
      "loss tf.Tensor(0.0, shape=(), dtype=float32)\n",
      "loss tf.Tensor(0.0, shape=(), dtype=float32)\n",
      "loss tf.Tensor(0.0, shape=(), dtype=float32)\n",
      "loss tf.Tensor(0.0, shape=(), dtype=float32)\n",
      "loss tf.Tensor(0.0, shape=(), dtype=float32)\n",
      "loss tf.Tensor(0.0, shape=(), dtype=float32)\n"
     ]
    },
    {
     "name": "stderr",
     "output_type": "stream",
     "text": [
      " 41%|████      | 4123/10000 [02:01<03:37, 27.07it/s, episode_reward=0, running_reward=0]"
     ]
    },
    {
     "name": "stdout",
     "output_type": "stream",
     "text": [
      "loss tf.Tensor(0.0, shape=(), dtype=float32)\n",
      "loss tf.Tensor(0.0, shape=(), dtype=float32)\n",
      "loss tf.Tensor(0.0, shape=(), dtype=float32)\n"
     ]
    },
    {
     "name": "stderr",
     "output_type": "stream",
     "text": [
      " 41%|████▏     | 4131/10000 [02:02<03:15, 30.06it/s, episode_reward=0, running_reward=0]"
     ]
    },
    {
     "name": "stdout",
     "output_type": "stream",
     "text": [
      "loss tf.Tensor(0.0, shape=(), dtype=float32)\n",
      "loss tf.Tensor(0.0, shape=(), dtype=float32)\n",
      "loss tf.Tensor(0.0, shape=(), dtype=float32)\n",
      "loss tf.Tensor(0.0, shape=(), dtype=float32)\n",
      "loss tf.Tensor(0.0, shape=(), dtype=float32)\n",
      "loss tf.Tensor(0.0, shape=(), dtype=float32)\n",
      "loss tf.Tensor(0.0, shape=(), dtype=float32)\n",
      "loss tf.Tensor(0.0, shape=(), dtype=float32)\n"
     ]
    },
    {
     "name": "stderr",
     "output_type": "stream",
     "text": [
      " 41%|████▏     | 4139/10000 [02:02<02:59, 32.72it/s, episode_reward=0, running_reward=0]"
     ]
    },
    {
     "name": "stdout",
     "output_type": "stream",
     "text": [
      "loss tf.Tensor(0.0, shape=(), dtype=float32)\n",
      "loss tf.Tensor(0.0, shape=(), dtype=float32)\n",
      "loss tf.Tensor(0.0, shape=(), dtype=float32)\n",
      "loss tf.Tensor(0.0, shape=(), dtype=float32)\n",
      "loss tf.Tensor(0.0, shape=(), dtype=float32)\n",
      "loss tf.Tensor(0.0, shape=(), dtype=float32)\n",
      "loss tf.Tensor(0.0, shape=(), dtype=float32)\n",
      "loss tf.Tensor(0.0, shape=(), dtype=float32)\n"
     ]
    },
    {
     "name": "stderr",
     "output_type": "stream",
     "text": [
      " 41%|████▏     | 4147/10000 [02:02<02:49, 34.50it/s, episode_reward=0, running_reward=0]"
     ]
    },
    {
     "name": "stdout",
     "output_type": "stream",
     "text": [
      "loss tf.Tensor(0.0, shape=(), dtype=float32)\n",
      "loss tf.Tensor(0.0, shape=(), dtype=float32)\n",
      "loss tf.Tensor(0.0, shape=(), dtype=float32)\n",
      "loss tf.Tensor(0.0, shape=(), dtype=float32)\n",
      "loss tf.Tensor(0.0, shape=(), dtype=float32)\n",
      "loss tf.Tensor(0.0, shape=(), dtype=float32)\n",
      "loss tf.Tensor(0.0, shape=(), dtype=float32)\n",
      "loss tf.Tensor(0.0, shape=(), dtype=float32)\n"
     ]
    },
    {
     "name": "stderr",
     "output_type": "stream",
     "text": [
      " 42%|████▏     | 4155/10000 [02:02<02:45, 35.37it/s, episode_reward=0, running_reward=0]"
     ]
    },
    {
     "name": "stdout",
     "output_type": "stream",
     "text": [
      "loss tf.Tensor(0.0, shape=(), dtype=float32)\n",
      "loss tf.Tensor(0.0, shape=(), dtype=float32)\n",
      "loss tf.Tensor(0.0, shape=(), dtype=float32)\n",
      "loss tf.Tensor(0.0, shape=(), dtype=float32)\n",
      "loss tf.Tensor(0.0, shape=(), dtype=float32)\n",
      "loss tf.Tensor(0.0, shape=(), dtype=float32)\n",
      "loss tf.Tensor(0.0, shape=(), dtype=float32)\n",
      "loss tf.Tensor(0.0, shape=(), dtype=float32)\n"
     ]
    },
    {
     "name": "stderr",
     "output_type": "stream",
     "text": [
      " 42%|████▏     | 4163/10000 [02:03<02:44, 35.54it/s, episode_reward=0, running_reward=0]"
     ]
    },
    {
     "name": "stdout",
     "output_type": "stream",
     "text": [
      "loss tf.Tensor(0.0, shape=(), dtype=float32)\n",
      "loss tf.Tensor(0.0, shape=(), dtype=float32)\n",
      "loss tf.Tensor(0.0, shape=(), dtype=float32)\n",
      "loss tf.Tensor(0.0, shape=(), dtype=float32)\n",
      "loss tf.Tensor(0.0, shape=(), dtype=float32)\n",
      "loss tf.Tensor(0.0, shape=(), dtype=float32)\n",
      "loss tf.Tensor(0.0, shape=(), dtype=float32)\n",
      "loss tf.Tensor(0.0, shape=(), dtype=float32)\n"
     ]
    },
    {
     "name": "stderr",
     "output_type": "stream",
     "text": [
      " 42%|████▏     | 4171/10000 [02:03<02:42, 35.95it/s, episode_reward=0, running_reward=0]"
     ]
    },
    {
     "name": "stdout",
     "output_type": "stream",
     "text": [
      "loss tf.Tensor(0.0, shape=(), dtype=float32)\n",
      "loss tf.Tensor(0.0, shape=(), dtype=float32)\n",
      "loss tf.Tensor(0.0, shape=(), dtype=float32)\n",
      "loss tf.Tensor(0.0, shape=(), dtype=float32)\n",
      "loss tf.Tensor(0.0, shape=(), dtype=float32)\n",
      "loss tf.Tensor(0.0, shape=(), dtype=float32)\n",
      "loss tf.Tensor(0.0, shape=(), dtype=float32)\n",
      "loss tf.Tensor(0.0, shape=(), dtype=float32)\n"
     ]
    },
    {
     "name": "stderr",
     "output_type": "stream",
     "text": [
      " 42%|████▏     | 4179/10000 [02:03<02:40, 36.29it/s, episode_reward=0, running_reward=0]"
     ]
    },
    {
     "name": "stdout",
     "output_type": "stream",
     "text": [
      "loss tf.Tensor(0.0, shape=(), dtype=float32)\n",
      "loss tf.Tensor(0.0, shape=(), dtype=float32)\n",
      "loss tf.Tensor(0.0, shape=(), dtype=float32)\n",
      "loss tf.Tensor(0.0, shape=(), dtype=float32)\n",
      "loss tf.Tensor(0.0, shape=(), dtype=float32)\n",
      "loss tf.Tensor(0.0, shape=(), dtype=float32)\n",
      "loss tf.Tensor(0.0, shape=(), dtype=float32)\n",
      "loss tf.Tensor(0.0, shape=(), dtype=float32)\n"
     ]
    },
    {
     "name": "stderr",
     "output_type": "stream",
     "text": [
      " 42%|████▏     | 4183/10000 [02:03<03:45, 25.78it/s, episode_reward=0, running_reward=0]"
     ]
    },
    {
     "name": "stdout",
     "output_type": "stream",
     "text": [
      "loss tf.Tensor(0.0, shape=(), dtype=float32)\n",
      "loss tf.Tensor(0.0, shape=(), dtype=float32)\n",
      "loss tf.Tensor(0.0, shape=(), dtype=float32)\n",
      "loss tf.Tensor(0.0, shape=(), dtype=float32)\n",
      "loss tf.Tensor(0.0, shape=(), dtype=float32)\n",
      "loss tf.Tensor(0.0, shape=(), dtype=float32)\n",
      "loss tf.Tensor(0.0, shape=(), dtype=float32)\n"
     ]
    },
    {
     "name": "stderr",
     "output_type": "stream",
     "text": [
      " 42%|████▏     | 4191/10000 [02:04<03:11, 30.31it/s, episode_reward=0, running_reward=0]"
     ]
    },
    {
     "name": "stdout",
     "output_type": "stream",
     "text": [
      "loss tf.Tensor(0.0, shape=(), dtype=float32)\n",
      "loss tf.Tensor(0.0, shape=(), dtype=float32)\n",
      "loss tf.Tensor(0.0, shape=(), dtype=float32)\n",
      "loss tf.Tensor(0.0, shape=(), dtype=float32)\n",
      "loss tf.Tensor(0.0, shape=(), dtype=float32)\n",
      "loss tf.Tensor(0.0, shape=(), dtype=float32)\n",
      "loss tf.Tensor(0.0, shape=(), dtype=float32)\n",
      "loss tf.Tensor(0.0, shape=(), dtype=float32)\n"
     ]
    },
    {
     "name": "stderr",
     "output_type": "stream",
     "text": [
      " 42%|████▏     | 4199/10000 [02:04<02:55, 33.13it/s, episode_reward=0, running_reward=0]"
     ]
    },
    {
     "name": "stdout",
     "output_type": "stream",
     "text": [
      "loss tf.Tensor(0.0, shape=(), dtype=float32)\n",
      "loss tf.Tensor(0.0, shape=(), dtype=float32)\n",
      "loss tf.Tensor(0.0, shape=(), dtype=float32)\n",
      "loss tf.Tensor(0.0, shape=(), dtype=float32)\n",
      "loss tf.Tensor(0.0, shape=(), dtype=float32)\n",
      "loss tf.Tensor(0.0, shape=(), dtype=float32)\n",
      "loss tf.Tensor(0.0, shape=(), dtype=float32)\n",
      "loss tf.Tensor(0.0, shape=(), dtype=float32)\n"
     ]
    },
    {
     "name": "stderr",
     "output_type": "stream",
     "text": [
      " 42%|████▏     | 4207/10000 [02:04<02:47, 34.68it/s, episode_reward=0, running_reward=0]"
     ]
    },
    {
     "name": "stdout",
     "output_type": "stream",
     "text": [
      "loss tf.Tensor(0.0, shape=(), dtype=float32)\n",
      "loss tf.Tensor(0.0, shape=(), dtype=float32)\n",
      "loss tf.Tensor(0.0, shape=(), dtype=float32)\n",
      "loss tf.Tensor(0.0, shape=(), dtype=float32)\n",
      "loss tf.Tensor(0.0, shape=(), dtype=float32)\n",
      "loss tf.Tensor(0.0, shape=(), dtype=float32)\n",
      "loss tf.Tensor(0.0, shape=(), dtype=float32)\n",
      "loss tf.Tensor(0.0, shape=(), dtype=float32)\n"
     ]
    },
    {
     "name": "stderr",
     "output_type": "stream",
     "text": [
      " 42%|████▏     | 4215/10000 [02:04<02:45, 34.91it/s, episode_reward=0, running_reward=0]"
     ]
    },
    {
     "name": "stdout",
     "output_type": "stream",
     "text": [
      "loss tf.Tensor(0.0, shape=(), dtype=float32)\n",
      "loss tf.Tensor(0.0, shape=(), dtype=float32)\n",
      "loss tf.Tensor(0.0, shape=(), dtype=float32)\n",
      "loss tf.Tensor(0.0, shape=(), dtype=float32)\n",
      "loss tf.Tensor(0.0, shape=(), dtype=float32)\n",
      "loss tf.Tensor(0.0, shape=(), dtype=float32)\n",
      "loss tf.Tensor(0.0, shape=(), dtype=float32)\n"
     ]
    },
    {
     "name": "stderr",
     "output_type": "stream",
     "text": [
      " 42%|████▏     | 4223/10000 [02:04<02:50, 33.87it/s, episode_reward=0, running_reward=0]"
     ]
    },
    {
     "name": "stdout",
     "output_type": "stream",
     "text": [
      "loss tf.Tensor(0.0, shape=(), dtype=float32)\n",
      "loss tf.Tensor(0.0, shape=(), dtype=float32)\n",
      "loss tf.Tensor(0.0, shape=(), dtype=float32)\n",
      "loss tf.Tensor(0.0, shape=(), dtype=float32)\n",
      "loss tf.Tensor(0.0, shape=(), dtype=float32)\n",
      "loss tf.Tensor(0.0, shape=(), dtype=float32)\n",
      "loss tf.Tensor(0.0, shape=(), dtype=float32)\n"
     ]
    },
    {
     "name": "stderr",
     "output_type": "stream",
     "text": [
      " 42%|████▏     | 4231/10000 [02:05<02:46, 34.73it/s, episode_reward=0, running_reward=0]"
     ]
    },
    {
     "name": "stdout",
     "output_type": "stream",
     "text": [
      "loss tf.Tensor(0.0, shape=(), dtype=float32)\n",
      "loss tf.Tensor(0.0, shape=(), dtype=float32)\n",
      "loss tf.Tensor(0.0, shape=(), dtype=float32)\n",
      "loss tf.Tensor(0.0, shape=(), dtype=float32)\n",
      "loss tf.Tensor(0.0, shape=(), dtype=float32)\n",
      "loss tf.Tensor(0.0, shape=(), dtype=float32)\n",
      "loss tf.Tensor(0.0, shape=(), dtype=float32)\n",
      "loss tf.Tensor(0.0, shape=(), dtype=float32)\n"
     ]
    },
    {
     "name": "stderr",
     "output_type": "stream",
     "text": [
      " 42%|████▏     | 4235/10000 [02:05<02:50, 33.77it/s, episode_reward=0, running_reward=0]"
     ]
    },
    {
     "name": "stdout",
     "output_type": "stream",
     "text": [
      "loss tf.Tensor(0.0, shape=(), dtype=float32)\n",
      "loss tf.Tensor(0.0, shape=(), dtype=float32)\n",
      "loss tf.Tensor(0.0, shape=(), dtype=float32)\n",
      "loss tf.Tensor(0.0, shape=(), dtype=float32)\n",
      "loss tf.Tensor(0.0, shape=(), dtype=float32)\n"
     ]
    },
    {
     "name": "stderr",
     "output_type": "stream",
     "text": [
      " 42%|████▏     | 4239/10000 [02:05<03:58, 24.11it/s, episode_reward=0, running_reward=0]"
     ]
    },
    {
     "name": "stdout",
     "output_type": "stream",
     "text": [
      "loss tf.Tensor(0.0, shape=(), dtype=float32)\n",
      "loss tf.Tensor(0.0, shape=(), dtype=float32)\n",
      "loss tf.Tensor(0.0, shape=(), dtype=float32)\n",
      "loss tf.Tensor(0.0, shape=(), dtype=float32)\n",
      "loss tf.Tensor(0.0, shape=(), dtype=float32)\n"
     ]
    },
    {
     "name": "stderr",
     "output_type": "stream",
     "text": [
      " 42%|████▎     | 4250/10000 [02:05<03:22, 28.44it/s, episode_reward=0, running_reward=0]"
     ]
    },
    {
     "name": "stdout",
     "output_type": "stream",
     "text": [
      "loss tf.Tensor(0.0, shape=(), dtype=float32)\n",
      "loss tf.Tensor(0.0, shape=(), dtype=float32)\n",
      "loss tf.Tensor(0.0, shape=(), dtype=float32)\n",
      "loss tf.Tensor(0.0, shape=(), dtype=float32)\n",
      "loss tf.Tensor(0.0, shape=(), dtype=float32)\n",
      "loss tf.Tensor(0.0, shape=(), dtype=float32)\n",
      "loss tf.Tensor(0.0, shape=(), dtype=float32)\n",
      "loss tf.Tensor(0.0, shape=(), dtype=float32)\n"
     ]
    },
    {
     "name": "stderr",
     "output_type": "stream",
     "text": [
      " 43%|████▎     | 4258/10000 [02:06<02:59, 32.07it/s, episode_reward=0, running_reward=0]"
     ]
    },
    {
     "name": "stdout",
     "output_type": "stream",
     "text": [
      "loss tf.Tensor(0.0, shape=(), dtype=float32)\n",
      "loss tf.Tensor(0.0, shape=(), dtype=float32)\n",
      "loss tf.Tensor(0.0, shape=(), dtype=float32)\n",
      "loss tf.Tensor(0.0, shape=(), dtype=float32)\n",
      "loss tf.Tensor(0.0, shape=(), dtype=float32)\n",
      "loss tf.Tensor(0.0, shape=(), dtype=float32)\n",
      "loss tf.Tensor(0.0, shape=(), dtype=float32)\n",
      "loss tf.Tensor(0.0, shape=(), dtype=float32)\n"
     ]
    },
    {
     "name": "stderr",
     "output_type": "stream",
     "text": [
      " 43%|████▎     | 4266/10000 [02:06<02:50, 33.63it/s, episode_reward=0, running_reward=0]"
     ]
    },
    {
     "name": "stdout",
     "output_type": "stream",
     "text": [
      "loss tf.Tensor(0.0, shape=(), dtype=float32)\n",
      "loss tf.Tensor(0.0, shape=(), dtype=float32)\n",
      "loss tf.Tensor(0.0, shape=(), dtype=float32)\n",
      "loss tf.Tensor(0.0, shape=(), dtype=float32)\n",
      "loss tf.Tensor(0.0, shape=(), dtype=float32)\n",
      "loss tf.Tensor(0.0, shape=(), dtype=float32)\n",
      "loss tf.Tensor(0.0, shape=(), dtype=float32)\n",
      "loss tf.Tensor(0.0, shape=(), dtype=float32)\n"
     ]
    },
    {
     "name": "stderr",
     "output_type": "stream",
     "text": [
      " 43%|████▎     | 4274/10000 [02:06<02:43, 34.98it/s, episode_reward=0, running_reward=0]"
     ]
    },
    {
     "name": "stdout",
     "output_type": "stream",
     "text": [
      "loss tf.Tensor(0.0, shape=(), dtype=float32)\n",
      "loss tf.Tensor(0.0, shape=(), dtype=float32)\n",
      "loss tf.Tensor(0.0, shape=(), dtype=float32)\n",
      "loss tf.Tensor(0.0, shape=(), dtype=float32)\n",
      "loss tf.Tensor(0.0, shape=(), dtype=float32)\n",
      "loss tf.Tensor(0.0, shape=(), dtype=float32)\n",
      "loss tf.Tensor(0.0, shape=(), dtype=float32)\n",
      "loss tf.Tensor(0.0, shape=(), dtype=float32)\n"
     ]
    },
    {
     "name": "stderr",
     "output_type": "stream",
     "text": [
      " 43%|████▎     | 4282/10000 [02:06<02:41, 35.32it/s, episode_reward=0, running_reward=0]"
     ]
    },
    {
     "name": "stdout",
     "output_type": "stream",
     "text": [
      "loss tf.Tensor(0.0, shape=(), dtype=float32)\n",
      "loss tf.Tensor(0.0, shape=(), dtype=float32)\n",
      "loss tf.Tensor(0.0, shape=(), dtype=float32)\n",
      "loss tf.Tensor(0.0, shape=(), dtype=float32)\n",
      "loss tf.Tensor(0.0, shape=(), dtype=float32)\n",
      "loss tf.Tensor(0.0, shape=(), dtype=float32)\n",
      "loss tf.Tensor(0.0, shape=(), dtype=float32)\n",
      "loss tf.Tensor(0.0, shape=(), dtype=float32)\n"
     ]
    },
    {
     "name": "stderr",
     "output_type": "stream",
     "text": [
      " 43%|████▎     | 4290/10000 [02:07<02:39, 35.76it/s, episode_reward=0, running_reward=0]"
     ]
    },
    {
     "name": "stdout",
     "output_type": "stream",
     "text": [
      "loss tf.Tensor(0.0, shape=(), dtype=float32)\n",
      "loss tf.Tensor(0.0, shape=(), dtype=float32)\n",
      "loss tf.Tensor(0.0, shape=(), dtype=float32)\n",
      "loss tf.Tensor(0.0, shape=(), dtype=float32)\n",
      "loss tf.Tensor(0.0, shape=(), dtype=float32)\n",
      "loss tf.Tensor(0.0, shape=(), dtype=float32)\n",
      "loss tf.Tensor(0.0, shape=(), dtype=float32)\n",
      "loss tf.Tensor(0.0, shape=(), dtype=float32)\n"
     ]
    },
    {
     "name": "stderr",
     "output_type": "stream",
     "text": [
      " 43%|████▎     | 4298/10000 [02:07<02:37, 36.24it/s, episode_reward=0, running_reward=0]"
     ]
    },
    {
     "name": "stdout",
     "output_type": "stream",
     "text": [
      "loss tf.Tensor(0.0, shape=(), dtype=float32)\n",
      "loss tf.Tensor(0.0, shape=(), dtype=float32)\n",
      "loss tf.Tensor(0.0, shape=(), dtype=float32)\n",
      "loss tf.Tensor(0.0, shape=(), dtype=float32)\n",
      "loss tf.Tensor(0.0, shape=(), dtype=float32)\n",
      "loss tf.Tensor(0.0, shape=(), dtype=float32)\n",
      "loss tf.Tensor(0.0, shape=(), dtype=float32)\n",
      "loss tf.Tensor(0.0, shape=(), dtype=float32)\n"
     ]
    },
    {
     "name": "stderr",
     "output_type": "stream",
     "text": [
      " 43%|████▎     | 4302/10000 [02:07<03:24, 27.81it/s, episode_reward=0, running_reward=0]"
     ]
    },
    {
     "name": "stdout",
     "output_type": "stream",
     "text": [
      "loss tf.Tensor(0.0, shape=(), dtype=float32)\n",
      "loss tf.Tensor(0.0, shape=(), dtype=float32)\n",
      "loss tf.Tensor(0.0, shape=(), dtype=float32)\n",
      "loss tf.Tensor(0.0, shape=(), dtype=float32)\n"
     ]
    },
    {
     "name": "stderr",
     "output_type": "stream",
     "text": [
      " 43%|████▎     | 4310/10000 [02:07<03:13, 29.42it/s, episode_reward=0, running_reward=0]"
     ]
    },
    {
     "name": "stdout",
     "output_type": "stream",
     "text": [
      "loss tf.Tensor(0.0, shape=(), dtype=float32)\n",
      "loss tf.Tensor(0.0, shape=(), dtype=float32)\n",
      "loss tf.Tensor(0.0, shape=(), dtype=float32)\n",
      "loss tf.Tensor(0.0, shape=(), dtype=float32)\n",
      "loss tf.Tensor(0.0, shape=(), dtype=float32)\n",
      "loss tf.Tensor(0.0, shape=(), dtype=float32)\n",
      "loss tf.Tensor(0.0, shape=(), dtype=float32)\n",
      "loss tf.Tensor(0.0, shape=(), dtype=float32)\n"
     ]
    },
    {
     "name": "stderr",
     "output_type": "stream",
     "text": [
      " 43%|████▎     | 4318/10000 [02:07<02:58, 31.82it/s, episode_reward=0, running_reward=0]"
     ]
    },
    {
     "name": "stdout",
     "output_type": "stream",
     "text": [
      "loss tf.Tensor(0.0, shape=(), dtype=float32)\n",
      "loss tf.Tensor(0.0, shape=(), dtype=float32)\n",
      "loss tf.Tensor(0.0, shape=(), dtype=float32)\n",
      "loss tf.Tensor(0.0, shape=(), dtype=float32)\n",
      "loss tf.Tensor(0.0, shape=(), dtype=float32)\n",
      "loss tf.Tensor(0.0, shape=(), dtype=float32)\n",
      "loss tf.Tensor(0.0, shape=(), dtype=float32)\n",
      "loss tf.Tensor(0.0, shape=(), dtype=float32)\n"
     ]
    },
    {
     "name": "stderr",
     "output_type": "stream",
     "text": [
      " 43%|████▎     | 4326/10000 [02:08<02:46, 34.16it/s, episode_reward=0, running_reward=0]"
     ]
    },
    {
     "name": "stdout",
     "output_type": "stream",
     "text": [
      "loss tf.Tensor(0.0, shape=(), dtype=float32)\n",
      "loss tf.Tensor(0.0, shape=(), dtype=float32)\n",
      "loss tf.Tensor(0.0, shape=(), dtype=float32)\n",
      "loss tf.Tensor(0.0, shape=(), dtype=float32)\n",
      "loss tf.Tensor(0.0, shape=(), dtype=float32)\n",
      "loss tf.Tensor(0.0, shape=(), dtype=float32)\n",
      "loss tf.Tensor(0.0, shape=(), dtype=float32)\n",
      "loss tf.Tensor(0.0, shape=(), dtype=float32)\n"
     ]
    },
    {
     "name": "stderr",
     "output_type": "stream",
     "text": [
      " 43%|████▎     | 4334/10000 [02:08<02:41, 35.18it/s, episode_reward=0, running_reward=0]"
     ]
    },
    {
     "name": "stdout",
     "output_type": "stream",
     "text": [
      "loss tf.Tensor(0.0, shape=(), dtype=float32)\n",
      "loss tf.Tensor(0.0, shape=(), dtype=float32)\n",
      "loss tf.Tensor(0.0, shape=(), dtype=float32)\n",
      "loss tf.Tensor(0.0, shape=(), dtype=float32)\n",
      "loss tf.Tensor(0.0, shape=(), dtype=float32)\n",
      "loss tf.Tensor(0.0, shape=(), dtype=float32)\n",
      "loss tf.Tensor(0.0, shape=(), dtype=float32)\n",
      "loss tf.Tensor(0.0, shape=(), dtype=float32)\n"
     ]
    },
    {
     "name": "stderr",
     "output_type": "stream",
     "text": [
      " 43%|████▎     | 4342/10000 [02:08<02:37, 35.87it/s, episode_reward=0, running_reward=0]"
     ]
    },
    {
     "name": "stdout",
     "output_type": "stream",
     "text": [
      "loss tf.Tensor(0.0, shape=(), dtype=float32)\n",
      "loss tf.Tensor(0.0, shape=(), dtype=float32)\n",
      "loss tf.Tensor(0.0, shape=(), dtype=float32)\n",
      "loss tf.Tensor(0.0, shape=(), dtype=float32)\n",
      "loss tf.Tensor(0.0, shape=(), dtype=float32)\n",
      "loss tf.Tensor(0.0, shape=(), dtype=float32)\n",
      "loss tf.Tensor(0.0, shape=(), dtype=float32)\n",
      "loss tf.Tensor(0.0, shape=(), dtype=float32)\n"
     ]
    },
    {
     "name": "stderr",
     "output_type": "stream",
     "text": [
      " 44%|████▎     | 4350/10000 [02:08<02:37, 35.90it/s, episode_reward=0, running_reward=0]"
     ]
    },
    {
     "name": "stdout",
     "output_type": "stream",
     "text": [
      "loss tf.Tensor(0.0, shape=(), dtype=float32)\n",
      "loss tf.Tensor(0.0, shape=(), dtype=float32)\n",
      "loss tf.Tensor(0.0, shape=(), dtype=float32)\n",
      "loss tf.Tensor(0.0, shape=(), dtype=float32)\n",
      "loss tf.Tensor(0.0, shape=(), dtype=float32)\n",
      "loss tf.Tensor(0.0, shape=(), dtype=float32)\n",
      "loss tf.Tensor(0.0, shape=(), dtype=float32)\n",
      "loss tf.Tensor(0.0, shape=(), dtype=float32)\n"
     ]
    },
    {
     "name": "stderr",
     "output_type": "stream",
     "text": [
      " 44%|████▎     | 4354/10000 [02:09<03:16, 28.71it/s, episode_reward=0, running_reward=0]"
     ]
    },
    {
     "name": "stdout",
     "output_type": "stream",
     "text": [
      "loss tf.Tensor(0.0, shape=(), dtype=float32)\n",
      "loss tf.Tensor(0.0, shape=(), dtype=float32)\n",
      "loss tf.Tensor(0.0, shape=(), dtype=float32)\n",
      "loss tf.Tensor(0.0, shape=(), dtype=float32)\n"
     ]
    },
    {
     "name": "stderr",
     "output_type": "stream",
     "text": [
      " 44%|████▎     | 4354/10000 [02:09<03:16, 28.71it/s, episode_reward=0, running_reward=0]"
     ]
    },
    {
     "name": "stdout",
     "output_type": "stream",
     "text": [
      "loss tf.Tensor(0.0, shape=(), dtype=float32)\n",
      "loss tf.Tensor(0.0, shape=(), dtype=float32)\n",
      "loss tf.Tensor(0.0, shape=(), dtype=float32)\n"
     ]
    },
    {
     "name": "stderr",
     "output_type": "stream",
     "text": [
      " 44%|████▎     | 4361/10000 [02:09<04:26, 21.12it/s, episode_reward=0, running_reward=0]"
     ]
    },
    {
     "name": "stdout",
     "output_type": "stream",
     "text": [
      "loss tf.Tensor(0.0, shape=(), dtype=float32)\n",
      "loss tf.Tensor(0.0, shape=(), dtype=float32)\n",
      "loss tf.Tensor(0.0, shape=(), dtype=float32)\n",
      "loss tf.Tensor(0.0, shape=(), dtype=float32)\n",
      "loss tf.Tensor(0.0, shape=(), dtype=float32)\n",
      "loss tf.Tensor(0.0, shape=(), dtype=float32)\n",
      "loss tf.Tensor(0.0, shape=(), dtype=float32)\n"
     ]
    },
    {
     "name": "stderr",
     "output_type": "stream",
     "text": [
      " 44%|████▎     | 4369/10000 [02:09<03:30, 26.77it/s, episode_reward=0, running_reward=0]"
     ]
    },
    {
     "name": "stdout",
     "output_type": "stream",
     "text": [
      "loss tf.Tensor(0.0, shape=(), dtype=float32)\n",
      "loss tf.Tensor(0.0, shape=(), dtype=float32)\n",
      "loss tf.Tensor(0.0, shape=(), dtype=float32)\n",
      "loss tf.Tensor(0.0, shape=(), dtype=float32)\n",
      "loss tf.Tensor(0.0, shape=(), dtype=float32)\n",
      "loss tf.Tensor(0.0, shape=(), dtype=float32)\n",
      "loss tf.Tensor(0.0, shape=(), dtype=float32)\n",
      "loss tf.Tensor(0.0, shape=(), dtype=float32)\n"
     ]
    },
    {
     "name": "stderr",
     "output_type": "stream",
     "text": [
      " 44%|████▍     | 4377/10000 [02:10<03:01, 30.96it/s, episode_reward=0, running_reward=0]"
     ]
    },
    {
     "name": "stdout",
     "output_type": "stream",
     "text": [
      "loss tf.Tensor(0.0, shape=(), dtype=float32)\n",
      "loss tf.Tensor(0.0, shape=(), dtype=float32)\n",
      "loss tf.Tensor(0.0, shape=(), dtype=float32)\n",
      "loss tf.Tensor(0.0, shape=(), dtype=float32)\n",
      "loss tf.Tensor(0.0, shape=(), dtype=float32)\n",
      "loss tf.Tensor(0.0, shape=(), dtype=float32)\n",
      "loss tf.Tensor(0.0, shape=(), dtype=float32)\n",
      "loss tf.Tensor(0.0, shape=(), dtype=float32)\n"
     ]
    },
    {
     "name": "stderr",
     "output_type": "stream",
     "text": [
      " 44%|████▍     | 4385/10000 [02:10<02:47, 33.47it/s, episode_reward=0, running_reward=0]"
     ]
    },
    {
     "name": "stdout",
     "output_type": "stream",
     "text": [
      "loss tf.Tensor(0.0, shape=(), dtype=float32)\n",
      "loss tf.Tensor(0.0, shape=(), dtype=float32)\n",
      "loss tf.Tensor(0.0, shape=(), dtype=float32)\n",
      "loss tf.Tensor(0.0, shape=(), dtype=float32)\n",
      "loss tf.Tensor(0.0, shape=(), dtype=float32)\n",
      "loss tf.Tensor(0.0, shape=(), dtype=float32)\n",
      "loss tf.Tensor(0.0, shape=(), dtype=float32)\n",
      "loss tf.Tensor(0.0, shape=(), dtype=float32)\n"
     ]
    },
    {
     "name": "stderr",
     "output_type": "stream",
     "text": [
      " 44%|████▍     | 4393/10000 [02:10<02:40, 35.02it/s, episode_reward=0, running_reward=0]"
     ]
    },
    {
     "name": "stdout",
     "output_type": "stream",
     "text": [
      "loss tf.Tensor(0.0, shape=(), dtype=float32)\n",
      "loss tf.Tensor(0.0, shape=(), dtype=float32)\n",
      "loss tf.Tensor(0.0, shape=(), dtype=float32)\n",
      "loss tf.Tensor(0.0, shape=(), dtype=float32)\n",
      "loss tf.Tensor(0.0, shape=(), dtype=float32)\n",
      "loss tf.Tensor(0.0, shape=(), dtype=float32)\n",
      "loss tf.Tensor(0.0, shape=(), dtype=float32)\n",
      "loss tf.Tensor(0.0, shape=(), dtype=float32)\n"
     ]
    },
    {
     "name": "stderr",
     "output_type": "stream",
     "text": [
      " 44%|████▍     | 4401/10000 [02:10<02:37, 35.54it/s, episode_reward=0, running_reward=0]"
     ]
    },
    {
     "name": "stdout",
     "output_type": "stream",
     "text": [
      "loss tf.Tensor(0.0, shape=(), dtype=float32)\n",
      "loss tf.Tensor(0.0, shape=(), dtype=float32)\n",
      "loss tf.Tensor(0.0, shape=(), dtype=float32)\n",
      "loss tf.Tensor(0.0, shape=(), dtype=float32)\n",
      "loss tf.Tensor(0.0, shape=(), dtype=float32)\n",
      "loss tf.Tensor(0.0, shape=(), dtype=float32)\n",
      "loss tf.Tensor(0.0, shape=(), dtype=float32)\n",
      "loss tf.Tensor(0.0, shape=(), dtype=float32)\n"
     ]
    },
    {
     "name": "stderr",
     "output_type": "stream",
     "text": [
      " 44%|████▍     | 4409/10000 [02:10<02:36, 35.70it/s, episode_reward=0, running_reward=0]"
     ]
    },
    {
     "name": "stdout",
     "output_type": "stream",
     "text": [
      "loss tf.Tensor(0.0, shape=(), dtype=float32)\n",
      "loss tf.Tensor(0.0, shape=(), dtype=float32)\n",
      "loss tf.Tensor(0.0, shape=(), dtype=float32)\n",
      "loss tf.Tensor(0.0, shape=(), dtype=float32)\n",
      "loss tf.Tensor(0.0, shape=(), dtype=float32)\n",
      "loss tf.Tensor(0.0, shape=(), dtype=float32)\n",
      "loss tf.Tensor(0.0, shape=(), dtype=float32)\n",
      "loss tf.Tensor(0.0, shape=(), dtype=float32)\n"
     ]
    },
    {
     "name": "stderr",
     "output_type": "stream",
     "text": [
      " 44%|████▍     | 4417/10000 [02:11<02:36, 35.66it/s, episode_reward=0, running_reward=0]"
     ]
    },
    {
     "name": "stdout",
     "output_type": "stream",
     "text": [
      "loss tf.Tensor(0.0, shape=(), dtype=float32)\n",
      "loss tf.Tensor(0.0, shape=(), dtype=float32)\n",
      "loss tf.Tensor(0.0, shape=(), dtype=float32)\n",
      "loss tf.Tensor(0.0, shape=(), dtype=float32)\n",
      "loss tf.Tensor(0.0, shape=(), dtype=float32)\n",
      "loss tf.Tensor(0.0, shape=(), dtype=float32)\n",
      "loss tf.Tensor(0.0, shape=(), dtype=float32)\n",
      "loss tf.Tensor(0.0, shape=(), dtype=float32)\n"
     ]
    },
    {
     "name": "stderr",
     "output_type": "stream",
     "text": [
      " 44%|████▍     | 4424/10000 [02:11<03:26, 27.01it/s, episode_reward=0, running_reward=0]"
     ]
    },
    {
     "name": "stdout",
     "output_type": "stream",
     "text": [
      "loss tf.Tensor(0.0, shape=(), dtype=float32)\n",
      "loss tf.Tensor(0.0, shape=(), dtype=float32)\n",
      "loss tf.Tensor(0.0, shape=(), dtype=float32)\n",
      "loss tf.Tensor(0.0, shape=(), dtype=float32)\n",
      "loss tf.Tensor(0.0, shape=(), dtype=float32)\n",
      "loss tf.Tensor(0.0, shape=(), dtype=float32)\n",
      "loss tf.Tensor(0.0, shape=(), dtype=float32)\n"
     ]
    },
    {
     "name": "stderr",
     "output_type": "stream",
     "text": [
      " 44%|████▍     | 4432/10000 [02:11<02:58, 31.26it/s, episode_reward=0, running_reward=0]"
     ]
    },
    {
     "name": "stdout",
     "output_type": "stream",
     "text": [
      "loss tf.Tensor(0.0, shape=(), dtype=float32)\n",
      "loss tf.Tensor(0.0, shape=(), dtype=float32)\n",
      "loss tf.Tensor(0.0, shape=(), dtype=float32)\n",
      "loss tf.Tensor(0.0, shape=(), dtype=float32)\n",
      "loss tf.Tensor(0.0, shape=(), dtype=float32)\n",
      "loss tf.Tensor(0.0, shape=(), dtype=float32)\n",
      "loss tf.Tensor(0.0, shape=(), dtype=float32)\n",
      "loss tf.Tensor(0.0, shape=(), dtype=float32)\n"
     ]
    },
    {
     "name": "stderr",
     "output_type": "stream",
     "text": [
      " 44%|████▍     | 4440/10000 [02:11<02:46, 33.34it/s, episode_reward=0, running_reward=0]"
     ]
    },
    {
     "name": "stdout",
     "output_type": "stream",
     "text": [
      "loss tf.Tensor(0.0, shape=(), dtype=float32)\n",
      "loss tf.Tensor(0.0, shape=(), dtype=float32)\n",
      "loss tf.Tensor(0.0, shape=(), dtype=float32)\n",
      "loss tf.Tensor(0.0, shape=(), dtype=float32)\n",
      "loss tf.Tensor(0.0, shape=(), dtype=float32)\n",
      "loss tf.Tensor(0.0, shape=(), dtype=float32)\n",
      "loss tf.Tensor(0.0, shape=(), dtype=float32)\n",
      "loss tf.Tensor(0.0, shape=(), dtype=float32)\n"
     ]
    },
    {
     "name": "stderr",
     "output_type": "stream",
     "text": [
      " 44%|████▍     | 4448/10000 [02:12<02:41, 34.43it/s, episode_reward=0, running_reward=0]"
     ]
    },
    {
     "name": "stdout",
     "output_type": "stream",
     "text": [
      "loss tf.Tensor(0.0, shape=(), dtype=float32)\n",
      "loss tf.Tensor(0.0, shape=(), dtype=float32)\n",
      "loss tf.Tensor(0.0, shape=(), dtype=float32)\n",
      "loss tf.Tensor(0.0, shape=(), dtype=float32)\n",
      "loss tf.Tensor(0.0, shape=(), dtype=float32)\n",
      "loss tf.Tensor(0.0, shape=(), dtype=float32)\n",
      "loss tf.Tensor(0.0, shape=(), dtype=float32)\n",
      "loss tf.Tensor(0.0, shape=(), dtype=float32)\n"
     ]
    },
    {
     "name": "stderr",
     "output_type": "stream",
     "text": [
      " 45%|████▍     | 4456/10000 [02:12<02:38, 34.90it/s, episode_reward=0, running_reward=0]"
     ]
    },
    {
     "name": "stdout",
     "output_type": "stream",
     "text": [
      "loss tf.Tensor(0.0, shape=(), dtype=float32)\n",
      "loss tf.Tensor(0.0, shape=(), dtype=float32)\n",
      "loss tf.Tensor(0.0, shape=(), dtype=float32)\n",
      "loss tf.Tensor(0.0, shape=(), dtype=float32)\n",
      "loss tf.Tensor(0.0, shape=(), dtype=float32)\n",
      "loss tf.Tensor(0.0, shape=(), dtype=float32)\n",
      "loss tf.Tensor(0.0, shape=(), dtype=float32)\n",
      "loss tf.Tensor(0.0, shape=(), dtype=float32)\n"
     ]
    },
    {
     "name": "stderr",
     "output_type": "stream",
     "text": [
      " 45%|████▍     | 4464/10000 [02:12<02:36, 35.47it/s, episode_reward=0, running_reward=0]"
     ]
    },
    {
     "name": "stdout",
     "output_type": "stream",
     "text": [
      "loss tf.Tensor(0.0, shape=(), dtype=float32)\n",
      "loss tf.Tensor(0.0, shape=(), dtype=float32)\n",
      "loss tf.Tensor(0.0, shape=(), dtype=float32)\n",
      "loss tf.Tensor(0.0, shape=(), dtype=float32)\n",
      "loss tf.Tensor(0.0, shape=(), dtype=float32)\n",
      "loss tf.Tensor(0.0, shape=(), dtype=float32)\n",
      "loss tf.Tensor(0.0, shape=(), dtype=float32)\n",
      "loss tf.Tensor(0.0, shape=(), dtype=float32)\n"
     ]
    },
    {
     "name": "stderr",
     "output_type": "stream",
     "text": [
      " 45%|████▍     | 4472/10000 [02:12<02:34, 35.72it/s, episode_reward=0, running_reward=0]"
     ]
    },
    {
     "name": "stdout",
     "output_type": "stream",
     "text": [
      "loss tf.Tensor(0.0, shape=(), dtype=float32)\n",
      "loss tf.Tensor(0.0, shape=(), dtype=float32)\n",
      "loss tf.Tensor(0.0, shape=(), dtype=float32)\n",
      "loss tf.Tensor(0.0, shape=(), dtype=float32)\n",
      "loss tf.Tensor(0.0, shape=(), dtype=float32)\n",
      "loss tf.Tensor(0.0, shape=(), dtype=float32)\n",
      "loss tf.Tensor(0.0, shape=(), dtype=float32)\n",
      "loss tf.Tensor(0.0, shape=(), dtype=float32)\n"
     ]
    },
    {
     "name": "stderr",
     "output_type": "stream",
     "text": [
      " 45%|████▍     | 4480/10000 [02:13<02:35, 35.49it/s, episode_reward=0, running_reward=0]"
     ]
    },
    {
     "name": "stdout",
     "output_type": "stream",
     "text": [
      "loss tf.Tensor(0.0, shape=(), dtype=float32)\n",
      "loss tf.Tensor(0.0, shape=(), dtype=float32)\n",
      "loss tf.Tensor(0.0, shape=(), dtype=float32)\n",
      "loss tf.Tensor(0.0, shape=(), dtype=float32)\n",
      "loss tf.Tensor(0.0, shape=(), dtype=float32)\n",
      "loss tf.Tensor(0.0, shape=(), dtype=float32)\n",
      "loss tf.Tensor(0.0, shape=(), dtype=float32)\n",
      "loss tf.Tensor(0.0, shape=(), dtype=float32)\n"
     ]
    },
    {
     "name": "stderr",
     "output_type": "stream",
     "text": [
      " 45%|████▍     | 4484/10000 [02:13<02:33, 35.84it/s, episode_reward=0, running_reward=0]"
     ]
    },
    {
     "name": "stdout",
     "output_type": "stream",
     "text": [
      "loss tf.Tensor(0.0, shape=(), dtype=float32)\n",
      "loss tf.Tensor(0.0, shape=(), dtype=float32)\n",
      "loss tf.Tensor(0.0, shape=(), dtype=float32)\n"
     ]
    },
    {
     "name": "stderr",
     "output_type": "stream",
     "text": [
      " 45%|████▍     | 4492/10000 [02:13<03:21, 27.40it/s, episode_reward=0, running_reward=0]"
     ]
    },
    {
     "name": "stdout",
     "output_type": "stream",
     "text": [
      "loss tf.Tensor(0.0, shape=(), dtype=float32)\n",
      "loss tf.Tensor(0.0, shape=(), dtype=float32)\n",
      "loss tf.Tensor(0.0, shape=(), dtype=float32)\n",
      "loss tf.Tensor(0.0, shape=(), dtype=float32)\n",
      "loss tf.Tensor(0.0, shape=(), dtype=float32)\n",
      "loss tf.Tensor(0.0, shape=(), dtype=float32)\n",
      "loss tf.Tensor(0.0, shape=(), dtype=float32)\n",
      "loss tf.Tensor(0.0, shape=(), dtype=float32)\n"
     ]
    },
    {
     "name": "stderr",
     "output_type": "stream",
     "text": [
      " 45%|████▌     | 4500/10000 [02:13<02:56, 31.16it/s, episode_reward=0, running_reward=0]"
     ]
    },
    {
     "name": "stdout",
     "output_type": "stream",
     "text": [
      "loss tf.Tensor(0.0, shape=(), dtype=float32)\n",
      "loss tf.Tensor(0.0, shape=(), dtype=float32)\n",
      "loss tf.Tensor(0.0, shape=(), dtype=float32)\n",
      "loss tf.Tensor(0.0, shape=(), dtype=float32)\n",
      "loss tf.Tensor(0.0, shape=(), dtype=float32)\n",
      "loss tf.Tensor(0.0, shape=(), dtype=float32)\n",
      "loss tf.Tensor(0.0, shape=(), dtype=float32)\n",
      "loss tf.Tensor(0.0, shape=(), dtype=float32)\n"
     ]
    },
    {
     "name": "stderr",
     "output_type": "stream",
     "text": [
      " 45%|████▌     | 4508/10000 [02:13<02:43, 33.68it/s, episode_reward=0, running_reward=0]"
     ]
    },
    {
     "name": "stdout",
     "output_type": "stream",
     "text": [
      "loss tf.Tensor(0.0, shape=(), dtype=float32)\n",
      "loss tf.Tensor(0.0, shape=(), dtype=float32)\n",
      "loss tf.Tensor(0.0, shape=(), dtype=float32)\n",
      "loss tf.Tensor(0.0, shape=(), dtype=float32)\n",
      "loss tf.Tensor(0.0, shape=(), dtype=float32)\n",
      "loss tf.Tensor(0.0, shape=(), dtype=float32)\n",
      "loss tf.Tensor(0.0, shape=(), dtype=float32)\n",
      "loss tf.Tensor(0.0, shape=(), dtype=float32)\n"
     ]
    },
    {
     "name": "stderr",
     "output_type": "stream",
     "text": [
      " 45%|████▌     | 4516/10000 [02:14<02:37, 34.91it/s, episode_reward=0, running_reward=0]"
     ]
    },
    {
     "name": "stdout",
     "output_type": "stream",
     "text": [
      "loss tf.Tensor(0.0, shape=(), dtype=float32)\n",
      "loss tf.Tensor(0.0, shape=(), dtype=float32)\n",
      "loss tf.Tensor(0.0, shape=(), dtype=float32)\n",
      "loss tf.Tensor(0.0, shape=(), dtype=float32)\n",
      "loss tf.Tensor(0.0, shape=(), dtype=float32)\n",
      "loss tf.Tensor(0.0, shape=(), dtype=float32)\n",
      "loss tf.Tensor(0.0, shape=(), dtype=float32)\n",
      "loss tf.Tensor(0.0, shape=(), dtype=float32)\n"
     ]
    },
    {
     "name": "stderr",
     "output_type": "stream",
     "text": [
      " 45%|████▌     | 4524/10000 [02:14<02:33, 35.63it/s, episode_reward=0, running_reward=0]"
     ]
    },
    {
     "name": "stdout",
     "output_type": "stream",
     "text": [
      "loss tf.Tensor(0.0, shape=(), dtype=float32)\n",
      "loss tf.Tensor(0.0, shape=(), dtype=float32)\n",
      "loss tf.Tensor(0.0, shape=(), dtype=float32)\n",
      "loss tf.Tensor(0.0, shape=(), dtype=float32)\n",
      "loss tf.Tensor(0.0, shape=(), dtype=float32)\n",
      "loss tf.Tensor(0.0, shape=(), dtype=float32)\n",
      "loss tf.Tensor(0.0, shape=(), dtype=float32)\n",
      "loss tf.Tensor(0.0, shape=(), dtype=float32)\n"
     ]
    },
    {
     "name": "stderr",
     "output_type": "stream",
     "text": [
      " 45%|████▌     | 4532/10000 [02:14<02:33, 35.58it/s, episode_reward=0, running_reward=0]"
     ]
    },
    {
     "name": "stdout",
     "output_type": "stream",
     "text": [
      "loss tf.Tensor(0.0, shape=(), dtype=float32)\n",
      "loss tf.Tensor(0.0, shape=(), dtype=float32)\n",
      "loss tf.Tensor(0.0, shape=(), dtype=float32)\n",
      "loss tf.Tensor(0.0, shape=(), dtype=float32)\n",
      "loss tf.Tensor(0.0, shape=(), dtype=float32)\n",
      "loss tf.Tensor(0.0, shape=(), dtype=float32)\n",
      "loss tf.Tensor(0.0, shape=(), dtype=float32)\n",
      "loss tf.Tensor(0.0, shape=(), dtype=float32)\n"
     ]
    },
    {
     "name": "stderr",
     "output_type": "stream",
     "text": [
      " 45%|████▌     | 4540/10000 [02:14<02:31, 36.05it/s, episode_reward=0, running_reward=0]"
     ]
    },
    {
     "name": "stdout",
     "output_type": "stream",
     "text": [
      "loss tf.Tensor(0.0, shape=(), dtype=float32)\n",
      "loss tf.Tensor(0.0, shape=(), dtype=float32)\n",
      "loss tf.Tensor(0.0, shape=(), dtype=float32)\n",
      "loss tf.Tensor(0.0, shape=(), dtype=float32)\n",
      "loss tf.Tensor(0.0, shape=(), dtype=float32)\n",
      "loss tf.Tensor(0.0, shape=(), dtype=float32)\n",
      "loss tf.Tensor(0.0, shape=(), dtype=float32)\n",
      "loss tf.Tensor(0.0, shape=(), dtype=float32)\n"
     ]
    },
    {
     "name": "stderr",
     "output_type": "stream",
     "text": [
      " 45%|████▌     | 4548/10000 [02:15<03:20, 27.14it/s, episode_reward=0, running_reward=0]"
     ]
    },
    {
     "name": "stdout",
     "output_type": "stream",
     "text": [
      "loss tf.Tensor(0.0, shape=(), dtype=float32)\n",
      "loss tf.Tensor(0.0, shape=(), dtype=float32)\n",
      "loss tf.Tensor(0.0, shape=(), dtype=float32)\n",
      "loss tf.Tensor(0.0, shape=(), dtype=float32)\n",
      "loss tf.Tensor(0.0, shape=(), dtype=float32)\n",
      "loss tf.Tensor(0.0, shape=(), dtype=float32)\n",
      "loss tf.Tensor(0.0, shape=(), dtype=float32)\n",
      "loss tf.Tensor(0.0, shape=(), dtype=float32)\n"
     ]
    },
    {
     "name": "stderr",
     "output_type": "stream",
     "text": [
      " 46%|████▌     | 4556/10000 [02:15<02:55, 31.09it/s, episode_reward=0, running_reward=0]"
     ]
    },
    {
     "name": "stdout",
     "output_type": "stream",
     "text": [
      "loss tf.Tensor(0.0, shape=(), dtype=float32)\n",
      "loss tf.Tensor(0.0, shape=(), dtype=float32)\n",
      "loss tf.Tensor(0.0, shape=(), dtype=float32)\n",
      "loss tf.Tensor(0.0, shape=(), dtype=float32)\n",
      "loss tf.Tensor(0.0, shape=(), dtype=float32)\n",
      "loss tf.Tensor(0.0, shape=(), dtype=float32)\n",
      "loss tf.Tensor(0.0, shape=(), dtype=float32)\n",
      "loss tf.Tensor(0.0, shape=(), dtype=float32)\n"
     ]
    },
    {
     "name": "stderr",
     "output_type": "stream",
     "text": [
      " 46%|████▌     | 4564/10000 [02:15<02:42, 33.38it/s, episode_reward=0, running_reward=0]"
     ]
    },
    {
     "name": "stdout",
     "output_type": "stream",
     "text": [
      "loss tf.Tensor(0.0, shape=(), dtype=float32)\n",
      "loss tf.Tensor(0.0, shape=(), dtype=float32)\n",
      "loss tf.Tensor(0.0, shape=(), dtype=float32)\n",
      "loss tf.Tensor(0.0, shape=(), dtype=float32)\n",
      "loss tf.Tensor(0.0, shape=(), dtype=float32)\n",
      "loss tf.Tensor(0.0, shape=(), dtype=float32)\n",
      "loss tf.Tensor(0.0, shape=(), dtype=float32)\n",
      "loss tf.Tensor(0.0, shape=(), dtype=float32)\n"
     ]
    },
    {
     "name": "stderr",
     "output_type": "stream",
     "text": [
      " 46%|████▌     | 4572/10000 [02:15<02:40, 33.87it/s, episode_reward=0, running_reward=0]"
     ]
    },
    {
     "name": "stdout",
     "output_type": "stream",
     "text": [
      "loss tf.Tensor(0.0, shape=(), dtype=float32)\n",
      "loss tf.Tensor(0.0, shape=(), dtype=float32)\n",
      "loss tf.Tensor(0.0, shape=(), dtype=float32)\n",
      "loss tf.Tensor(0.0, shape=(), dtype=float32)\n",
      "loss tf.Tensor(0.0, shape=(), dtype=float32)\n",
      "loss tf.Tensor(0.0, shape=(), dtype=float32)\n",
      "loss tf.Tensor(0.0, shape=(), dtype=float32)\n",
      "loss tf.Tensor(0.0, shape=(), dtype=float32)\n"
     ]
    },
    {
     "name": "stderr",
     "output_type": "stream",
     "text": [
      " 46%|████▌     | 4580/10000 [02:16<02:33, 35.38it/s, episode_reward=0, running_reward=0]"
     ]
    },
    {
     "name": "stdout",
     "output_type": "stream",
     "text": [
      "loss tf.Tensor(0.0, shape=(), dtype=float32)\n",
      "loss tf.Tensor(0.0, shape=(), dtype=float32)\n",
      "loss tf.Tensor(0.0, shape=(), dtype=float32)\n",
      "loss tf.Tensor(0.0, shape=(), dtype=float32)\n",
      "loss tf.Tensor(0.0, shape=(), dtype=float32)\n",
      "loss tf.Tensor(0.0, shape=(), dtype=float32)\n",
      "loss tf.Tensor(0.0, shape=(), dtype=float32)\n",
      "loss tf.Tensor(0.0, shape=(), dtype=float32)\n"
     ]
    },
    {
     "name": "stderr",
     "output_type": "stream",
     "text": [
      " 46%|████▌     | 4588/10000 [02:16<02:31, 35.81it/s, episode_reward=0, running_reward=0]"
     ]
    },
    {
     "name": "stdout",
     "output_type": "stream",
     "text": [
      "loss tf.Tensor(0.0, shape=(), dtype=float32)\n",
      "loss tf.Tensor(0.0, shape=(), dtype=float32)\n",
      "loss tf.Tensor(0.0, shape=(), dtype=float32)\n",
      "loss tf.Tensor(0.0, shape=(), dtype=float32)\n",
      "loss tf.Tensor(0.0, shape=(), dtype=float32)\n",
      "loss tf.Tensor(0.0, shape=(), dtype=float32)\n",
      "loss tf.Tensor(0.0, shape=(), dtype=float32)\n",
      "loss tf.Tensor(0.0, shape=(), dtype=float32)\n"
     ]
    },
    {
     "name": "stderr",
     "output_type": "stream",
     "text": [
      " 46%|████▌     | 4596/10000 [02:16<02:30, 35.91it/s, episode_reward=0, running_reward=0]"
     ]
    },
    {
     "name": "stdout",
     "output_type": "stream",
     "text": [
      "loss tf.Tensor(0.0, shape=(), dtype=float32)\n",
      "loss tf.Tensor(0.0, shape=(), dtype=float32)\n",
      "loss tf.Tensor(0.0, shape=(), dtype=float32)\n",
      "loss tf.Tensor(0.0, shape=(), dtype=float32)\n",
      "loss tf.Tensor(0.0, shape=(), dtype=float32)\n",
      "loss tf.Tensor(0.0, shape=(), dtype=float32)\n",
      "loss tf.Tensor(0.0, shape=(), dtype=float32)\n",
      "loss tf.Tensor(0.0, shape=(), dtype=float32)\n"
     ]
    },
    {
     "name": "stderr",
     "output_type": "stream",
     "text": [
      " 46%|████▌     | 4604/10000 [02:16<02:30, 35.88it/s, episode_reward=0, running_reward=0]"
     ]
    },
    {
     "name": "stdout",
     "output_type": "stream",
     "text": [
      "loss tf.Tensor(0.0, shape=(), dtype=float32)\n",
      "loss tf.Tensor(0.0, shape=(), dtype=float32)\n",
      "loss tf.Tensor(0.0, shape=(), dtype=float32)\n",
      "loss tf.Tensor(0.0, shape=(), dtype=float32)\n",
      "loss tf.Tensor(0.0, shape=(), dtype=float32)\n",
      "loss tf.Tensor(0.0, shape=(), dtype=float32)\n",
      "loss tf.Tensor(0.0, shape=(), dtype=float32)\n",
      "loss tf.Tensor(0.0, shape=(), dtype=float32)\n"
     ]
    },
    {
     "name": "stderr",
     "output_type": "stream",
     "text": [
      " 46%|████▌     | 4608/10000 [02:17<02:59, 29.99it/s, episode_reward=0, running_reward=0]"
     ]
    },
    {
     "name": "stdout",
     "output_type": "stream",
     "text": [
      "loss tf.Tensor(0.0, shape=(), dtype=float32)\n",
      "loss tf.Tensor(0.0, shape=(), dtype=float32)\n",
      "loss tf.Tensor(0.0, shape=(), dtype=float32)\n",
      "loss tf.Tensor(0.0, shape=(), dtype=float32)\n"
     ]
    },
    {
     "name": "stderr",
     "output_type": "stream",
     "text": [
      " 46%|████▌     | 4616/10000 [02:17<02:58, 30.13it/s, episode_reward=0, running_reward=0]"
     ]
    },
    {
     "name": "stdout",
     "output_type": "stream",
     "text": [
      "loss tf.Tensor(0.0, shape=(), dtype=float32)\n",
      "loss tf.Tensor(0.0, shape=(), dtype=float32)\n",
      "loss tf.Tensor(0.0, shape=(), dtype=float32)\n",
      "loss tf.Tensor(0.0, shape=(), dtype=float32)\n",
      "loss tf.Tensor(0.0, shape=(), dtype=float32)\n",
      "loss tf.Tensor(0.0, shape=(), dtype=float32)\n",
      "loss tf.Tensor(0.0, shape=(), dtype=float32)\n"
     ]
    },
    {
     "name": "stderr",
     "output_type": "stream",
     "text": [
      " 46%|████▌     | 4624/10000 [02:17<02:44, 32.65it/s, episode_reward=0, running_reward=0]"
     ]
    },
    {
     "name": "stdout",
     "output_type": "stream",
     "text": [
      "loss tf.Tensor(0.0, shape=(), dtype=float32)\n",
      "loss tf.Tensor(0.0, shape=(), dtype=float32)\n",
      "loss tf.Tensor(0.0, shape=(), dtype=float32)\n",
      "loss tf.Tensor(0.0, shape=(), dtype=float32)\n",
      "loss tf.Tensor(0.0, shape=(), dtype=float32)\n",
      "loss tf.Tensor(0.0, shape=(), dtype=float32)\n",
      "loss tf.Tensor(0.0, shape=(), dtype=float32)\n",
      "loss tf.Tensor(0.0, shape=(), dtype=float32)\n"
     ]
    },
    {
     "name": "stderr",
     "output_type": "stream",
     "text": [
      " 46%|████▋     | 4632/10000 [02:17<02:36, 34.41it/s, episode_reward=0, running_reward=0]"
     ]
    },
    {
     "name": "stdout",
     "output_type": "stream",
     "text": [
      "loss tf.Tensor(0.0, shape=(), dtype=float32)\n",
      "loss tf.Tensor(0.0, shape=(), dtype=float32)\n",
      "loss tf.Tensor(0.0, shape=(), dtype=float32)\n",
      "loss tf.Tensor(0.0, shape=(), dtype=float32)\n",
      "loss tf.Tensor(0.0, shape=(), dtype=float32)\n",
      "loss tf.Tensor(0.0, shape=(), dtype=float32)\n",
      "loss tf.Tensor(0.0, shape=(), dtype=float32)\n",
      "loss tf.Tensor(0.0, shape=(), dtype=float32)\n"
     ]
    },
    {
     "name": "stderr",
     "output_type": "stream",
     "text": [
      " 46%|████▋     | 4640/10000 [02:17<02:31, 35.41it/s, episode_reward=0, running_reward=0]"
     ]
    },
    {
     "name": "stdout",
     "output_type": "stream",
     "text": [
      "loss tf.Tensor(0.0, shape=(), dtype=float32)\n",
      "loss tf.Tensor(0.0, shape=(), dtype=float32)\n",
      "loss tf.Tensor(0.0, shape=(), dtype=float32)\n",
      "loss tf.Tensor(0.0, shape=(), dtype=float32)\n",
      "loss tf.Tensor(0.0, shape=(), dtype=float32)\n",
      "loss tf.Tensor(0.0, shape=(), dtype=float32)\n",
      "loss tf.Tensor(0.0, shape=(), dtype=float32)\n",
      "loss tf.Tensor(0.0, shape=(), dtype=float32)\n"
     ]
    },
    {
     "name": "stderr",
     "output_type": "stream",
     "text": [
      " 46%|████▋     | 4648/10000 [02:18<02:29, 35.75it/s, episode_reward=0, running_reward=0]"
     ]
    },
    {
     "name": "stdout",
     "output_type": "stream",
     "text": [
      "loss tf.Tensor(0.0, shape=(), dtype=float32)\n",
      "loss tf.Tensor(0.0, shape=(), dtype=float32)\n",
      "loss tf.Tensor(0.0, shape=(), dtype=float32)\n",
      "loss tf.Tensor(0.0, shape=(), dtype=float32)\n",
      "loss tf.Tensor(0.0, shape=(), dtype=float32)\n",
      "loss tf.Tensor(0.0, shape=(), dtype=float32)\n",
      "loss tf.Tensor(0.0, shape=(), dtype=float32)\n",
      "loss tf.Tensor(0.0, shape=(), dtype=float32)\n"
     ]
    },
    {
     "name": "stderr",
     "output_type": "stream",
     "text": [
      " 47%|████▋     | 4656/10000 [02:18<02:35, 34.37it/s, episode_reward=0, running_reward=0]"
     ]
    },
    {
     "name": "stdout",
     "output_type": "stream",
     "text": [
      "loss tf.Tensor(0.0, shape=(), dtype=float32)\n",
      "loss tf.Tensor(0.0, shape=(), dtype=float32)\n",
      "loss tf.Tensor(0.0, shape=(), dtype=float32)\n",
      "loss tf.Tensor(0.0, shape=(), dtype=float32)\n",
      "loss tf.Tensor(0.0, shape=(), dtype=float32)\n",
      "loss tf.Tensor(0.0, shape=(), dtype=float32)\n",
      "loss tf.Tensor(0.0, shape=(), dtype=float32)\n"
     ]
    },
    {
     "name": "stderr",
     "output_type": "stream",
     "text": [
      " 47%|████▋     | 4664/10000 [02:18<02:31, 35.24it/s, episode_reward=0, running_reward=0]"
     ]
    },
    {
     "name": "stdout",
     "output_type": "stream",
     "text": [
      "loss tf.Tensor(0.0, shape=(), dtype=float32)\n",
      "loss tf.Tensor(0.0, shape=(), dtype=float32)\n",
      "loss tf.Tensor(0.0, shape=(), dtype=float32)\n",
      "loss tf.Tensor(0.0, shape=(), dtype=float32)\n",
      "loss tf.Tensor(0.0, shape=(), dtype=float32)\n",
      "loss tf.Tensor(0.0, shape=(), dtype=float32)\n",
      "loss tf.Tensor(0.0, shape=(), dtype=float32)\n",
      "loss tf.Tensor(0.0, shape=(), dtype=float32)\n"
     ]
    },
    {
     "name": "stderr",
     "output_type": "stream",
     "text": [
      " 47%|████▋     | 4672/10000 [02:18<02:29, 35.70it/s, episode_reward=0, running_reward=0]"
     ]
    },
    {
     "name": "stdout",
     "output_type": "stream",
     "text": [
      "loss tf.Tensor(0.0, shape=(), dtype=float32)\n",
      "loss tf.Tensor(0.0, shape=(), dtype=float32)\n",
      "loss tf.Tensor(0.0, shape=(), dtype=float32)\n",
      "loss tf.Tensor(0.0, shape=(), dtype=float32)\n",
      "loss tf.Tensor(0.0, shape=(), dtype=float32)\n",
      "loss tf.Tensor(0.0, shape=(), dtype=float32)\n",
      "loss tf.Tensor(0.0, shape=(), dtype=float32)\n",
      "loss tf.Tensor(0.0, shape=(), dtype=float32)\n"
     ]
    },
    {
     "name": "stderr",
     "output_type": "stream",
     "text": [
      " 47%|████▋     | 4680/10000 [02:19<02:28, 35.77it/s, episode_reward=0, running_reward=0]"
     ]
    },
    {
     "name": "stdout",
     "output_type": "stream",
     "text": [
      "loss tf.Tensor(0.0, shape=(), dtype=float32)\n",
      "loss tf.Tensor(0.0, shape=(), dtype=float32)\n",
      "loss tf.Tensor(0.0, shape=(), dtype=float32)\n",
      "loss tf.Tensor(0.0, shape=(), dtype=float32)\n",
      "loss tf.Tensor(0.0, shape=(), dtype=float32)\n",
      "loss tf.Tensor(0.0, shape=(), dtype=float32)\n",
      "loss tf.Tensor(0.0, shape=(), dtype=float32)\n",
      "loss tf.Tensor(0.0, shape=(), dtype=float32)\n"
     ]
    },
    {
     "name": "stderr",
     "output_type": "stream",
     "text": [
      " 47%|████▋     | 4688/10000 [02:19<02:28, 35.87it/s, episode_reward=0, running_reward=0]"
     ]
    },
    {
     "name": "stdout",
     "output_type": "stream",
     "text": [
      "loss tf.Tensor(0.0, shape=(), dtype=float32)\n",
      "loss tf.Tensor(0.0, shape=(), dtype=float32)\n",
      "loss tf.Tensor(0.0, shape=(), dtype=float32)\n",
      "loss tf.Tensor(0.0, shape=(), dtype=float32)\n",
      "loss tf.Tensor(0.0, shape=(), dtype=float32)\n",
      "loss tf.Tensor(0.0, shape=(), dtype=float32)\n",
      "loss tf.Tensor(0.0, shape=(), dtype=float32)\n",
      "loss tf.Tensor(0.0, shape=(), dtype=float32)\n"
     ]
    },
    {
     "name": "stderr",
     "output_type": "stream",
     "text": [
      " 47%|████▋     | 4688/10000 [02:19<02:28, 35.87it/s, episode_reward=0, running_reward=0]"
     ]
    },
    {
     "name": "stdout",
     "output_type": "stream",
     "text": [
      "loss tf.Tensor(0.0, shape=(), dtype=float32)\n",
      "loss tf.Tensor(0.0, shape=(), dtype=float32)\n",
      "loss tf.Tensor(0.0, shape=(), dtype=float32)\n"
     ]
    },
    {
     "name": "stderr",
     "output_type": "stream",
     "text": [
      " 47%|████▋     | 4696/10000 [02:19<03:17, 26.87it/s, episode_reward=0, running_reward=0]"
     ]
    },
    {
     "name": "stdout",
     "output_type": "stream",
     "text": [
      "loss tf.Tensor(0.0, shape=(), dtype=float32)\n",
      "loss tf.Tensor(0.0, shape=(), dtype=float32)\n",
      "loss tf.Tensor(0.0, shape=(), dtype=float32)\n",
      "loss tf.Tensor(0.0, shape=(), dtype=float32)\n",
      "loss tf.Tensor(0.0, shape=(), dtype=float32)\n",
      "loss tf.Tensor(0.0, shape=(), dtype=float32)\n",
      "loss tf.Tensor(0.0, shape=(), dtype=float32)\n",
      "loss tf.Tensor(0.0, shape=(), dtype=float32)\n"
     ]
    },
    {
     "name": "stderr",
     "output_type": "stream",
     "text": [
      " 47%|████▋     | 4704/10000 [02:19<02:52, 30.71it/s, episode_reward=0, running_reward=0]"
     ]
    },
    {
     "name": "stdout",
     "output_type": "stream",
     "text": [
      "loss tf.Tensor(0.0, shape=(), dtype=float32)\n",
      "loss tf.Tensor(0.0, shape=(), dtype=float32)\n",
      "loss tf.Tensor(0.0, shape=(), dtype=float32)\n",
      "loss tf.Tensor(0.0, shape=(), dtype=float32)\n",
      "loss tf.Tensor(0.0, shape=(), dtype=float32)\n",
      "loss tf.Tensor(0.0, shape=(), dtype=float32)\n",
      "loss tf.Tensor(0.0, shape=(), dtype=float32)\n",
      "loss tf.Tensor(0.0, shape=(), dtype=float32)\n"
     ]
    },
    {
     "name": "stderr",
     "output_type": "stream",
     "text": [
      " 47%|████▋     | 4712/10000 [02:20<02:39, 33.10it/s, episode_reward=0, running_reward=0]"
     ]
    },
    {
     "name": "stdout",
     "output_type": "stream",
     "text": [
      "loss tf.Tensor(0.0, shape=(), dtype=float32)\n",
      "loss tf.Tensor(0.0, shape=(), dtype=float32)\n",
      "loss tf.Tensor(0.0, shape=(), dtype=float32)\n",
      "loss tf.Tensor(0.0, shape=(), dtype=float32)\n",
      "loss tf.Tensor(0.0, shape=(), dtype=float32)\n",
      "loss tf.Tensor(0.0, shape=(), dtype=float32)\n",
      "loss tf.Tensor(0.0, shape=(), dtype=float32)\n",
      "loss tf.Tensor(0.0, shape=(), dtype=float32)\n"
     ]
    },
    {
     "name": "stderr",
     "output_type": "stream",
     "text": [
      " 47%|████▋     | 4720/10000 [02:20<02:32, 34.63it/s, episode_reward=0, running_reward=0]"
     ]
    },
    {
     "name": "stdout",
     "output_type": "stream",
     "text": [
      "loss tf.Tensor(0.0, shape=(), dtype=float32)\n",
      "loss tf.Tensor(0.0, shape=(), dtype=float32)\n",
      "loss tf.Tensor(0.0, shape=(), dtype=float32)\n",
      "loss tf.Tensor(0.0, shape=(), dtype=float32)\n",
      "loss tf.Tensor(0.0, shape=(), dtype=float32)\n",
      "loss tf.Tensor(0.0, shape=(), dtype=float32)\n",
      "loss tf.Tensor(0.0, shape=(), dtype=float32)\n",
      "loss tf.Tensor(0.0, shape=(), dtype=float32)\n"
     ]
    },
    {
     "name": "stderr",
     "output_type": "stream",
     "text": [
      " 47%|████▋     | 4728/10000 [02:20<02:30, 34.94it/s, episode_reward=0, running_reward=0]"
     ]
    },
    {
     "name": "stdout",
     "output_type": "stream",
     "text": [
      "loss tf.Tensor(0.0, shape=(), dtype=float32)\n",
      "loss tf.Tensor(0.0, shape=(), dtype=float32)\n",
      "loss tf.Tensor(0.0, shape=(), dtype=float32)\n",
      "loss tf.Tensor(0.0, shape=(), dtype=float32)\n",
      "loss tf.Tensor(0.0, shape=(), dtype=float32)\n",
      "loss tf.Tensor(0.0, shape=(), dtype=float32)\n",
      "loss tf.Tensor(0.0, shape=(), dtype=float32)\n",
      "loss tf.Tensor(0.0, shape=(), dtype=float32)\n"
     ]
    },
    {
     "name": "stderr",
     "output_type": "stream",
     "text": [
      " 47%|████▋     | 4736/10000 [02:20<02:32, 34.62it/s, episode_reward=0, running_reward=0]"
     ]
    },
    {
     "name": "stdout",
     "output_type": "stream",
     "text": [
      "loss tf.Tensor(0.0, shape=(), dtype=float32)\n",
      "loss tf.Tensor(0.0, shape=(), dtype=float32)\n",
      "loss tf.Tensor(0.0, shape=(), dtype=float32)\n",
      "loss tf.Tensor(0.0, shape=(), dtype=float32)\n",
      "loss tf.Tensor(0.0, shape=(), dtype=float32)\n",
      "loss tf.Tensor(0.0, shape=(), dtype=float32)\n",
      "loss tf.Tensor(0.0, shape=(), dtype=float32)\n"
     ]
    },
    {
     "name": "stderr",
     "output_type": "stream",
     "text": [
      " 47%|████▋     | 4744/10000 [02:21<02:26, 35.76it/s, episode_reward=0, running_reward=0]"
     ]
    },
    {
     "name": "stdout",
     "output_type": "stream",
     "text": [
      "loss tf.Tensor(0.0, shape=(), dtype=float32)\n",
      "loss tf.Tensor(0.0, shape=(), dtype=float32)\n",
      "loss tf.Tensor(0.0, shape=(), dtype=float32)\n",
      "loss tf.Tensor(0.0, shape=(), dtype=float32)\n",
      "loss tf.Tensor(0.0, shape=(), dtype=float32)\n",
      "loss tf.Tensor(0.0, shape=(), dtype=float32)\n",
      "loss tf.Tensor(0.0, shape=(), dtype=float32)\n",
      "loss tf.Tensor(0.0, shape=(), dtype=float32)\n"
     ]
    },
    {
     "name": "stderr",
     "output_type": "stream",
     "text": [
      " 48%|████▊     | 4752/10000 [02:21<02:25, 36.13it/s, episode_reward=0, running_reward=0]"
     ]
    },
    {
     "name": "stdout",
     "output_type": "stream",
     "text": [
      "loss tf.Tensor(0.0, shape=(), dtype=float32)\n",
      "loss tf.Tensor(0.0, shape=(), dtype=float32)\n",
      "loss tf.Tensor(0.0, shape=(), dtype=float32)\n",
      "loss tf.Tensor(0.0, shape=(), dtype=float32)\n",
      "loss tf.Tensor(0.0, shape=(), dtype=float32)\n",
      "loss tf.Tensor(0.0, shape=(), dtype=float32)\n",
      "loss tf.Tensor(0.0, shape=(), dtype=float32)\n",
      "loss tf.Tensor(0.0, shape=(), dtype=float32)\n"
     ]
    },
    {
     "name": "stderr",
     "output_type": "stream",
     "text": [
      " 48%|████▊     | 4760/10000 [02:21<02:24, 36.31it/s, episode_reward=0, running_reward=0]"
     ]
    },
    {
     "name": "stdout",
     "output_type": "stream",
     "text": [
      "loss tf.Tensor(0.0, shape=(), dtype=float32)\n",
      "loss tf.Tensor(0.0, shape=(), dtype=float32)\n",
      "loss tf.Tensor(0.0, shape=(), dtype=float32)\n",
      "loss tf.Tensor(0.0, shape=(), dtype=float32)\n",
      "loss tf.Tensor(0.0, shape=(), dtype=float32)\n",
      "loss tf.Tensor(0.0, shape=(), dtype=float32)\n",
      "loss tf.Tensor(0.0, shape=(), dtype=float32)\n",
      "loss tf.Tensor(0.0, shape=(), dtype=float32)\n"
     ]
    },
    {
     "name": "stderr",
     "output_type": "stream",
     "text": [
      " 48%|████▊     | 4768/10000 [02:21<02:24, 36.10it/s, episode_reward=0, running_reward=0]"
     ]
    },
    {
     "name": "stdout",
     "output_type": "stream",
     "text": [
      "loss tf.Tensor(0.0, shape=(), dtype=float32)\n",
      "loss tf.Tensor(0.0, shape=(), dtype=float32)\n",
      "loss tf.Tensor(0.0, shape=(), dtype=float32)\n",
      "loss tf.Tensor(0.0, shape=(), dtype=float32)\n",
      "loss tf.Tensor(0.0, shape=(), dtype=float32)\n",
      "loss tf.Tensor(0.0, shape=(), dtype=float32)\n"
     ]
    },
    {
     "name": "stderr",
     "output_type": "stream",
     "text": [
      " 48%|████▊     | 4776/10000 [02:22<03:10, 27.40it/s, episode_reward=0, running_reward=0]"
     ]
    },
    {
     "name": "stdout",
     "output_type": "stream",
     "text": [
      "loss tf.Tensor(0.0, shape=(), dtype=float32)\n",
      "loss tf.Tensor(0.0, shape=(), dtype=float32)\n",
      "loss tf.Tensor(0.0, shape=(), dtype=float32)\n",
      "loss tf.Tensor(0.0, shape=(), dtype=float32)\n",
      "loss tf.Tensor(0.0, shape=(), dtype=float32)\n",
      "loss tf.Tensor(0.0, shape=(), dtype=float32)\n",
      "loss tf.Tensor(0.0, shape=(), dtype=float32)\n",
      "loss tf.Tensor(0.0, shape=(), dtype=float32)\n"
     ]
    },
    {
     "name": "stderr",
     "output_type": "stream",
     "text": [
      " 48%|████▊     | 4784/10000 [02:22<02:47, 31.17it/s, episode_reward=0, running_reward=0]"
     ]
    },
    {
     "name": "stdout",
     "output_type": "stream",
     "text": [
      "loss tf.Tensor(0.0, shape=(), dtype=float32)\n",
      "loss tf.Tensor(0.0, shape=(), dtype=float32)\n",
      "loss tf.Tensor(0.0, shape=(), dtype=float32)\n",
      "loss tf.Tensor(0.0, shape=(), dtype=float32)\n",
      "loss tf.Tensor(0.0, shape=(), dtype=float32)\n",
      "loss tf.Tensor(0.0, shape=(), dtype=float32)\n",
      "loss tf.Tensor(0.0, shape=(), dtype=float32)\n",
      "loss tf.Tensor(0.0, shape=(), dtype=float32)\n"
     ]
    },
    {
     "name": "stderr",
     "output_type": "stream",
     "text": [
      " 48%|████▊     | 4792/10000 [02:22<02:35, 33.52it/s, episode_reward=0, running_reward=0]"
     ]
    },
    {
     "name": "stdout",
     "output_type": "stream",
     "text": [
      "loss tf.Tensor(0.0, shape=(), dtype=float32)\n",
      "loss tf.Tensor(0.0, shape=(), dtype=float32)\n",
      "loss tf.Tensor(0.0, shape=(), dtype=float32)\n",
      "loss tf.Tensor(0.0, shape=(), dtype=float32)\n",
      "loss tf.Tensor(0.0, shape=(), dtype=float32)\n",
      "loss tf.Tensor(0.0, shape=(), dtype=float32)\n",
      "loss tf.Tensor(0.0, shape=(), dtype=float32)\n",
      "loss tf.Tensor(0.0, shape=(), dtype=float32)\n"
     ]
    },
    {
     "name": "stderr",
     "output_type": "stream",
     "text": [
      " 48%|████▊     | 4800/10000 [02:22<02:29, 34.76it/s, episode_reward=0, running_reward=0]"
     ]
    },
    {
     "name": "stdout",
     "output_type": "stream",
     "text": [
      "loss tf.Tensor(0.0, shape=(), dtype=float32)\n",
      "loss tf.Tensor(0.0, shape=(), dtype=float32)\n",
      "loss tf.Tensor(0.0, shape=(), dtype=float32)\n",
      "loss tf.Tensor(0.0, shape=(), dtype=float32)\n",
      "loss tf.Tensor(0.0, shape=(), dtype=float32)\n",
      "loss tf.Tensor(0.0, shape=(), dtype=float32)\n",
      "loss tf.Tensor(0.0, shape=(), dtype=float32)\n",
      "loss tf.Tensor(0.0, shape=(), dtype=float32)\n"
     ]
    },
    {
     "name": "stderr",
     "output_type": "stream",
     "text": [
      " 48%|████▊     | 4808/10000 [02:22<02:26, 35.47it/s, episode_reward=0, running_reward=0]"
     ]
    },
    {
     "name": "stdout",
     "output_type": "stream",
     "text": [
      "loss tf.Tensor(0.0, shape=(), dtype=float32)\n",
      "loss tf.Tensor(0.0, shape=(), dtype=float32)\n",
      "loss tf.Tensor(0.0, shape=(), dtype=float32)\n",
      "loss tf.Tensor(0.0, shape=(), dtype=float32)\n",
      "loss tf.Tensor(0.0, shape=(), dtype=float32)\n",
      "loss tf.Tensor(0.0, shape=(), dtype=float32)\n",
      "loss tf.Tensor(0.0, shape=(), dtype=float32)\n",
      "loss tf.Tensor(0.0, shape=(), dtype=float32)\n"
     ]
    },
    {
     "name": "stderr",
     "output_type": "stream",
     "text": [
      " 48%|████▊     | 4816/10000 [02:23<02:24, 35.75it/s, episode_reward=0, running_reward=0]"
     ]
    },
    {
     "name": "stdout",
     "output_type": "stream",
     "text": [
      "loss tf.Tensor(0.0, shape=(), dtype=float32)\n",
      "loss tf.Tensor(0.0, shape=(), dtype=float32)\n",
      "loss tf.Tensor(0.0, shape=(), dtype=float32)\n",
      "loss tf.Tensor(0.0, shape=(), dtype=float32)\n",
      "loss tf.Tensor(0.0, shape=(), dtype=float32)\n",
      "loss tf.Tensor(0.0, shape=(), dtype=float32)\n",
      "loss tf.Tensor(0.0, shape=(), dtype=float32)\n",
      "loss tf.Tensor(0.0, shape=(), dtype=float32)\n"
     ]
    },
    {
     "name": "stderr",
     "output_type": "stream",
     "text": [
      " 48%|████▊     | 4824/10000 [02:23<02:24, 35.88it/s, episode_reward=0, running_reward=0]"
     ]
    },
    {
     "name": "stdout",
     "output_type": "stream",
     "text": [
      "loss tf.Tensor(0.0, shape=(), dtype=float32)\n",
      "loss tf.Tensor(0.0, shape=(), dtype=float32)\n",
      "loss tf.Tensor(0.0, shape=(), dtype=float32)\n",
      "loss tf.Tensor(0.0, shape=(), dtype=float32)\n",
      "loss tf.Tensor(0.0, shape=(), dtype=float32)\n",
      "loss tf.Tensor(0.0, shape=(), dtype=float32)\n",
      "loss tf.Tensor(0.0, shape=(), dtype=float32)\n",
      "loss tf.Tensor(0.0, shape=(), dtype=float32)\n"
     ]
    },
    {
     "name": "stderr",
     "output_type": "stream",
     "text": [
      " 48%|████▊     | 4832/10000 [02:23<02:25, 35.41it/s, episode_reward=0, running_reward=0]"
     ]
    },
    {
     "name": "stdout",
     "output_type": "stream",
     "text": [
      "loss tf.Tensor(0.0, shape=(), dtype=float32)\n",
      "loss tf.Tensor(0.0, shape=(), dtype=float32)\n",
      "loss tf.Tensor(0.0, shape=(), dtype=float32)\n",
      "loss tf.Tensor(0.0, shape=(), dtype=float32)\n",
      "loss tf.Tensor(0.0, shape=(), dtype=float32)\n",
      "loss tf.Tensor(0.0, shape=(), dtype=float32)\n",
      "loss tf.Tensor(0.0, shape=(), dtype=float32)\n",
      "loss tf.Tensor(0.0, shape=(), dtype=float32)\n"
     ]
    },
    {
     "name": "stderr",
     "output_type": "stream",
     "text": [
      " 48%|████▊     | 4840/10000 [02:23<02:25, 35.53it/s, episode_reward=0, running_reward=0]"
     ]
    },
    {
     "name": "stdout",
     "output_type": "stream",
     "text": [
      "loss tf.Tensor(0.0, shape=(), dtype=float32)\n",
      "loss tf.Tensor(0.0, shape=(), dtype=float32)\n",
      "loss tf.Tensor(0.0, shape=(), dtype=float32)\n",
      "loss tf.Tensor(0.0, shape=(), dtype=float32)\n",
      "loss tf.Tensor(0.0, shape=(), dtype=float32)\n",
      "loss tf.Tensor(0.0, shape=(), dtype=float32)\n",
      "loss tf.Tensor(0.0, shape=(), dtype=float32)\n",
      "loss tf.Tensor(0.0, shape=(), dtype=float32)\n"
     ]
    },
    {
     "name": "stderr",
     "output_type": "stream",
     "text": [
      " 48%|████▊     | 4848/10000 [02:24<02:22, 36.04it/s, episode_reward=0, running_reward=0]"
     ]
    },
    {
     "name": "stdout",
     "output_type": "stream",
     "text": [
      "loss tf.Tensor(0.0, shape=(), dtype=float32)\n",
      "loss tf.Tensor(0.0, shape=(), dtype=float32)\n",
      "loss tf.Tensor(0.0, shape=(), dtype=float32)\n",
      "loss tf.Tensor(0.0, shape=(), dtype=float32)\n",
      "loss tf.Tensor(0.0, shape=(), dtype=float32)\n",
      "loss tf.Tensor(0.0, shape=(), dtype=float32)\n",
      "loss tf.Tensor(0.0, shape=(), dtype=float32)\n",
      "loss tf.Tensor(0.0, shape=(), dtype=float32)\n"
     ]
    },
    {
     "name": "stderr",
     "output_type": "stream",
     "text": [
      " 48%|████▊     | 4848/10000 [02:24<02:22, 36.04it/s, episode_reward=0, running_reward=0]"
     ]
    },
    {
     "name": "stdout",
     "output_type": "stream",
     "text": [
      "loss tf.Tensor(0.0, shape=(), dtype=float32)\n",
      "loss tf.Tensor(0.0, shape=(), dtype=float32)\n",
      "loss tf.Tensor(0.0, shape=(), dtype=float32)\n"
     ]
    },
    {
     "name": "stderr",
     "output_type": "stream",
     "text": [
      " 49%|████▊     | 4856/10000 [02:24<03:05, 27.71it/s, episode_reward=0, running_reward=0]"
     ]
    },
    {
     "name": "stdout",
     "output_type": "stream",
     "text": [
      "loss tf.Tensor(0.0, shape=(), dtype=float32)\n",
      "loss tf.Tensor(0.0, shape=(), dtype=float32)\n",
      "loss tf.Tensor(0.0, shape=(), dtype=float32)\n",
      "loss tf.Tensor(0.0, shape=(), dtype=float32)\n",
      "loss tf.Tensor(0.0, shape=(), dtype=float32)\n",
      "loss tf.Tensor(0.0, shape=(), dtype=float32)\n",
      "loss tf.Tensor(0.0, shape=(), dtype=float32)\n",
      "loss tf.Tensor(0.0, shape=(), dtype=float32)\n"
     ]
    },
    {
     "name": "stderr",
     "output_type": "stream",
     "text": [
      " 49%|████▊     | 4864/10000 [02:24<02:42, 31.60it/s, episode_reward=0, running_reward=0]"
     ]
    },
    {
     "name": "stdout",
     "output_type": "stream",
     "text": [
      "loss tf.Tensor(0.0, shape=(), dtype=float32)\n",
      "loss tf.Tensor(0.0, shape=(), dtype=float32)\n",
      "loss tf.Tensor(0.0, shape=(), dtype=float32)\n",
      "loss tf.Tensor(0.0, shape=(), dtype=float32)\n",
      "loss tf.Tensor(0.0, shape=(), dtype=float32)\n",
      "loss tf.Tensor(0.0, shape=(), dtype=float32)\n",
      "loss tf.Tensor(0.0, shape=(), dtype=float32)\n",
      "loss tf.Tensor(0.0, shape=(), dtype=float32)\n"
     ]
    },
    {
     "name": "stderr",
     "output_type": "stream",
     "text": [
      " 49%|████▊     | 4872/10000 [02:25<02:33, 33.46it/s, episode_reward=0, running_reward=0]"
     ]
    },
    {
     "name": "stdout",
     "output_type": "stream",
     "text": [
      "loss tf.Tensor(0.0, shape=(), dtype=float32)\n",
      "loss tf.Tensor(0.0, shape=(), dtype=float32)\n",
      "loss tf.Tensor(0.0, shape=(), dtype=float32)\n",
      "loss tf.Tensor(0.0, shape=(), dtype=float32)\n",
      "loss tf.Tensor(0.0, shape=(), dtype=float32)\n",
      "loss tf.Tensor(0.0, shape=(), dtype=float32)\n",
      "loss tf.Tensor(0.0, shape=(), dtype=float32)\n",
      "loss tf.Tensor(0.0, shape=(), dtype=float32)\n"
     ]
    },
    {
     "name": "stderr",
     "output_type": "stream",
     "text": [
      " 49%|████▉     | 4880/10000 [02:25<02:27, 34.69it/s, episode_reward=0, running_reward=0]"
     ]
    },
    {
     "name": "stdout",
     "output_type": "stream",
     "text": [
      "loss tf.Tensor(0.0, shape=(), dtype=float32)\n",
      "loss tf.Tensor(0.0, shape=(), dtype=float32)\n",
      "loss tf.Tensor(0.0, shape=(), dtype=float32)\n",
      "loss tf.Tensor(0.0, shape=(), dtype=float32)\n",
      "loss tf.Tensor(0.0, shape=(), dtype=float32)\n",
      "loss tf.Tensor(0.0, shape=(), dtype=float32)\n",
      "loss tf.Tensor(0.0, shape=(), dtype=float32)\n",
      "loss tf.Tensor(0.0, shape=(), dtype=float32)\n"
     ]
    },
    {
     "name": "stderr",
     "output_type": "stream",
     "text": [
      " 49%|████▉     | 4888/10000 [02:25<02:23, 35.56it/s, episode_reward=0, running_reward=0]"
     ]
    },
    {
     "name": "stdout",
     "output_type": "stream",
     "text": [
      "loss tf.Tensor(0.0, shape=(), dtype=float32)\n",
      "loss tf.Tensor(0.0, shape=(), dtype=float32)\n",
      "loss tf.Tensor(0.0, shape=(), dtype=float32)\n",
      "loss tf.Tensor(0.0, shape=(), dtype=float32)\n",
      "loss tf.Tensor(0.0, shape=(), dtype=float32)\n",
      "loss tf.Tensor(0.0, shape=(), dtype=float32)\n",
      "loss tf.Tensor(0.0, shape=(), dtype=float32)\n",
      "loss tf.Tensor(0.0, shape=(), dtype=float32)\n"
     ]
    },
    {
     "name": "stderr",
     "output_type": "stream",
     "text": [
      " 49%|████▉     | 4896/10000 [02:25<02:24, 35.42it/s, episode_reward=0, running_reward=0]"
     ]
    },
    {
     "name": "stdout",
     "output_type": "stream",
     "text": [
      "loss tf.Tensor(0.0, shape=(), dtype=float32)\n",
      "loss tf.Tensor(0.0, shape=(), dtype=float32)\n",
      "loss tf.Tensor(0.0, shape=(), dtype=float32)\n",
      "loss tf.Tensor(0.0, shape=(), dtype=float32)\n",
      "loss tf.Tensor(0.0, shape=(), dtype=float32)\n",
      "loss tf.Tensor(0.0, shape=(), dtype=float32)\n",
      "loss tf.Tensor(0.0, shape=(), dtype=float32)\n",
      "loss tf.Tensor(0.0, shape=(), dtype=float32)\n"
     ]
    },
    {
     "name": "stderr",
     "output_type": "stream",
     "text": [
      " 49%|████▉     | 4900/10000 [02:25<02:23, 35.45it/s, episode_reward=0, running_reward=0]"
     ]
    },
    {
     "name": "stdout",
     "output_type": "stream",
     "text": [
      "loss tf.Tensor(0.0, shape=(), dtype=float32)\n",
      "loss tf.Tensor(0.0, shape=(), dtype=float32)\n",
      "loss tf.Tensor(0.0, shape=(), dtype=float32)\n"
     ]
    },
    {
     "name": "stderr",
     "output_type": "stream",
     "text": [
      " 49%|████▉     | 4908/10000 [02:26<03:09, 26.84it/s, episode_reward=0, running_reward=0]"
     ]
    },
    {
     "name": "stdout",
     "output_type": "stream",
     "text": [
      "loss tf.Tensor(0.0, shape=(), dtype=float32)\n",
      "loss tf.Tensor(0.0, shape=(), dtype=float32)\n",
      "loss tf.Tensor(0.0, shape=(), dtype=float32)\n",
      "loss tf.Tensor(0.0, shape=(), dtype=float32)\n",
      "loss tf.Tensor(0.0, shape=(), dtype=float32)\n",
      "loss tf.Tensor(0.0, shape=(), dtype=float32)\n",
      "loss tf.Tensor(0.0, shape=(), dtype=float32)\n"
     ]
    },
    {
     "name": "stderr",
     "output_type": "stream",
     "text": [
      " 49%|████▉     | 4916/10000 [02:26<02:46, 30.57it/s, episode_reward=0, running_reward=0]"
     ]
    },
    {
     "name": "stdout",
     "output_type": "stream",
     "text": [
      "loss tf.Tensor(0.0, shape=(), dtype=float32)\n",
      "loss tf.Tensor(0.0, shape=(), dtype=float32)\n",
      "loss tf.Tensor(0.0, shape=(), dtype=float32)\n",
      "loss tf.Tensor(0.0, shape=(), dtype=float32)\n",
      "loss tf.Tensor(0.0, shape=(), dtype=float32)\n",
      "loss tf.Tensor(0.0, shape=(), dtype=float32)\n",
      "loss tf.Tensor(0.0, shape=(), dtype=float32)\n",
      "loss tf.Tensor(0.0, shape=(), dtype=float32)\n"
     ]
    },
    {
     "name": "stderr",
     "output_type": "stream",
     "text": [
      " 49%|████▉     | 4924/10000 [02:26<02:32, 33.27it/s, episode_reward=0, running_reward=0]"
     ]
    },
    {
     "name": "stdout",
     "output_type": "stream",
     "text": [
      "loss tf.Tensor(0.0, shape=(), dtype=float32)\n",
      "loss tf.Tensor(0.0, shape=(), dtype=float32)\n",
      "loss tf.Tensor(0.0, shape=(), dtype=float32)\n",
      "loss tf.Tensor(0.0, shape=(), dtype=float32)\n",
      "loss tf.Tensor(0.0, shape=(), dtype=float32)\n",
      "loss tf.Tensor(0.0, shape=(), dtype=float32)\n",
      "loss tf.Tensor(0.0, shape=(), dtype=float32)\n",
      "loss tf.Tensor(0.0, shape=(), dtype=float32)\n"
     ]
    },
    {
     "name": "stderr",
     "output_type": "stream",
     "text": [
      " 49%|████▉     | 4932/10000 [02:26<02:25, 34.72it/s, episode_reward=0, running_reward=0]"
     ]
    },
    {
     "name": "stdout",
     "output_type": "stream",
     "text": [
      "loss tf.Tensor(0.0, shape=(), dtype=float32)\n",
      "loss tf.Tensor(0.0, shape=(), dtype=float32)\n",
      "loss tf.Tensor(0.0, shape=(), dtype=float32)\n",
      "loss tf.Tensor(0.0, shape=(), dtype=float32)\n",
      "loss tf.Tensor(0.0, shape=(), dtype=float32)\n",
      "loss tf.Tensor(0.0, shape=(), dtype=float32)\n",
      "loss tf.Tensor(0.0, shape=(), dtype=float32)\n",
      "loss tf.Tensor(0.0, shape=(), dtype=float32)\n"
     ]
    },
    {
     "name": "stderr",
     "output_type": "stream",
     "text": [
      " 49%|████▉     | 4940/10000 [02:27<02:23, 35.34it/s, episode_reward=0, running_reward=0]"
     ]
    },
    {
     "name": "stdout",
     "output_type": "stream",
     "text": [
      "loss tf.Tensor(0.0, shape=(), dtype=float32)\n",
      "loss tf.Tensor(0.0, shape=(), dtype=float32)\n",
      "loss tf.Tensor(0.0, shape=(), dtype=float32)\n",
      "loss tf.Tensor(0.0, shape=(), dtype=float32)\n",
      "loss tf.Tensor(0.0, shape=(), dtype=float32)\n",
      "loss tf.Tensor(0.0, shape=(), dtype=float32)\n",
      "loss tf.Tensor(0.0, shape=(), dtype=float32)\n",
      "loss tf.Tensor(0.0, shape=(), dtype=float32)\n"
     ]
    },
    {
     "name": "stderr",
     "output_type": "stream",
     "text": [
      " 49%|████▉     | 4948/10000 [02:27<02:21, 35.79it/s, episode_reward=0, running_reward=0]"
     ]
    },
    {
     "name": "stdout",
     "output_type": "stream",
     "text": [
      "loss tf.Tensor(0.0, shape=(), dtype=float32)\n",
      "loss tf.Tensor(0.0, shape=(), dtype=float32)\n",
      "loss tf.Tensor(0.0, shape=(), dtype=float32)\n",
      "loss tf.Tensor(0.0, shape=(), dtype=float32)\n",
      "loss tf.Tensor(0.0, shape=(), dtype=float32)\n",
      "loss tf.Tensor(0.0, shape=(), dtype=float32)\n",
      "loss tf.Tensor(0.0, shape=(), dtype=float32)\n",
      "loss tf.Tensor(0.0, shape=(), dtype=float32)\n"
     ]
    },
    {
     "name": "stderr",
     "output_type": "stream",
     "text": [
      " 50%|████▉     | 4956/10000 [02:27<02:19, 36.09it/s, episode_reward=0, running_reward=0]"
     ]
    },
    {
     "name": "stdout",
     "output_type": "stream",
     "text": [
      "loss tf.Tensor(0.0, shape=(), dtype=float32)\n",
      "loss tf.Tensor(0.0, shape=(), dtype=float32)\n",
      "loss tf.Tensor(0.0, shape=(), dtype=float32)\n",
      "loss tf.Tensor(0.0, shape=(), dtype=float32)\n",
      "loss tf.Tensor(0.0, shape=(), dtype=float32)\n",
      "loss tf.Tensor(0.0, shape=(), dtype=float32)\n",
      "loss tf.Tensor(0.0, shape=(), dtype=float32)\n",
      "loss tf.Tensor(0.0, shape=(), dtype=float32)\n"
     ]
    },
    {
     "name": "stderr",
     "output_type": "stream",
     "text": [
      " 50%|████▉     | 4964/10000 [02:27<02:18, 36.41it/s, episode_reward=0, running_reward=0]"
     ]
    },
    {
     "name": "stdout",
     "output_type": "stream",
     "text": [
      "loss tf.Tensor(0.0, shape=(), dtype=float32)\n",
      "loss tf.Tensor(0.0, shape=(), dtype=float32)\n",
      "loss tf.Tensor(0.0, shape=(), dtype=float32)\n",
      "loss tf.Tensor(0.0, shape=(), dtype=float32)\n",
      "loss tf.Tensor(0.0, shape=(), dtype=float32)\n",
      "loss tf.Tensor(0.0, shape=(), dtype=float32)\n",
      "loss tf.Tensor(0.0, shape=(), dtype=float32)\n",
      "loss tf.Tensor(0.0, shape=(), dtype=float32)\n"
     ]
    },
    {
     "name": "stderr",
     "output_type": "stream",
     "text": [
      " 50%|████▉     | 4964/10000 [02:27<02:18, 36.41it/s, episode_reward=0, running_reward=0]"
     ]
    },
    {
     "name": "stdout",
     "output_type": "stream",
     "text": [
      "loss tf.Tensor(0.0, shape=(), dtype=float32)\n",
      "loss tf.Tensor(0.0, shape=(), dtype=float32)\n"
     ]
    },
    {
     "name": "stderr",
     "output_type": "stream",
     "text": [
      " 50%|████▉     | 4972/10000 [02:28<03:07, 26.80it/s, episode_reward=0, running_reward=0]"
     ]
    },
    {
     "name": "stdout",
     "output_type": "stream",
     "text": [
      "loss tf.Tensor(0.0, shape=(), dtype=float32)\n",
      "loss tf.Tensor(0.0, shape=(), dtype=float32)\n",
      "loss tf.Tensor(0.0, shape=(), dtype=float32)\n",
      "loss tf.Tensor(0.0, shape=(), dtype=float32)\n",
      "loss tf.Tensor(0.0, shape=(), dtype=float32)\n",
      "loss tf.Tensor(0.0, shape=(), dtype=float32)\n",
      "loss tf.Tensor(0.0, shape=(), dtype=float32)\n",
      "loss tf.Tensor(0.0, shape=(), dtype=float32)\n"
     ]
    },
    {
     "name": "stderr",
     "output_type": "stream",
     "text": [
      " 50%|████▉     | 4980/10000 [02:28<02:44, 30.58it/s, episode_reward=0, running_reward=0]"
     ]
    },
    {
     "name": "stdout",
     "output_type": "stream",
     "text": [
      "loss tf.Tensor(0.0, shape=(), dtype=float32)\n",
      "loss tf.Tensor(0.0, shape=(), dtype=float32)\n",
      "loss tf.Tensor(0.0, shape=(), dtype=float32)\n",
      "loss tf.Tensor(0.0, shape=(), dtype=float32)\n",
      "loss tf.Tensor(0.0, shape=(), dtype=float32)\n",
      "loss tf.Tensor(0.0, shape=(), dtype=float32)\n",
      "loss tf.Tensor(0.0, shape=(), dtype=float32)\n",
      "loss tf.Tensor(0.0, shape=(), dtype=float32)\n"
     ]
    },
    {
     "name": "stderr",
     "output_type": "stream",
     "text": [
      " 50%|████▉     | 4988/10000 [02:28<02:32, 32.90it/s, episode_reward=0, running_reward=0]"
     ]
    },
    {
     "name": "stdout",
     "output_type": "stream",
     "text": [
      "loss tf.Tensor(0.0, shape=(), dtype=float32)\n",
      "loss tf.Tensor(0.0, shape=(), dtype=float32)\n",
      "loss tf.Tensor(0.0, shape=(), dtype=float32)\n",
      "loss tf.Tensor(0.0, shape=(), dtype=float32)\n",
      "loss tf.Tensor(0.0, shape=(), dtype=float32)\n",
      "loss tf.Tensor(0.0, shape=(), dtype=float32)\n",
      "loss tf.Tensor(0.0, shape=(), dtype=float32)\n",
      "loss tf.Tensor(0.0, shape=(), dtype=float32)\n"
     ]
    },
    {
     "name": "stderr",
     "output_type": "stream",
     "text": [
      " 50%|████▉     | 4996/10000 [02:28<02:25, 34.41it/s, episode_reward=0, running_reward=0]"
     ]
    },
    {
     "name": "stdout",
     "output_type": "stream",
     "text": [
      "loss tf.Tensor(0.0, shape=(), dtype=float32)\n",
      "loss tf.Tensor(0.0, shape=(), dtype=float32)\n",
      "loss tf.Tensor(0.0, shape=(), dtype=float32)\n",
      "loss tf.Tensor(0.0, shape=(), dtype=float32)\n",
      "loss tf.Tensor(0.0, shape=(), dtype=float32)\n",
      "loss tf.Tensor(0.0, shape=(), dtype=float32)\n",
      "loss tf.Tensor(0.0, shape=(), dtype=float32)\n",
      "loss tf.Tensor(0.0, shape=(), dtype=float32)\n"
     ]
    },
    {
     "name": "stderr",
     "output_type": "stream",
     "text": [
      " 50%|█████     | 5004/10000 [02:29<02:21, 35.22it/s, episode_reward=0, running_reward=0]"
     ]
    },
    {
     "name": "stdout",
     "output_type": "stream",
     "text": [
      "loss tf.Tensor(0.0, shape=(), dtype=float32)\n",
      "loss tf.Tensor(0.0, shape=(), dtype=float32)\n",
      "loss tf.Tensor(0.0, shape=(), dtype=float32)\n",
      "loss tf.Tensor(0.0, shape=(), dtype=float32)\n",
      "loss tf.Tensor(0.0, shape=(), dtype=float32)\n",
      "loss tf.Tensor(0.0, shape=(), dtype=float32)\n",
      "loss tf.Tensor(0.0, shape=(), dtype=float32)\n",
      "loss tf.Tensor(0.0, shape=(), dtype=float32)\n"
     ]
    },
    {
     "name": "stderr",
     "output_type": "stream",
     "text": [
      " 50%|█████     | 5012/10000 [02:29<02:19, 35.74it/s, episode_reward=0, running_reward=0]"
     ]
    },
    {
     "name": "stdout",
     "output_type": "stream",
     "text": [
      "loss tf.Tensor(0.0, shape=(), dtype=float32)\n",
      "loss tf.Tensor(0.0, shape=(), dtype=float32)\n",
      "loss tf.Tensor(0.0, shape=(), dtype=float32)\n",
      "loss tf.Tensor(0.0, shape=(), dtype=float32)\n",
      "loss tf.Tensor(0.0, shape=(), dtype=float32)\n",
      "loss tf.Tensor(0.0, shape=(), dtype=float32)\n",
      "loss tf.Tensor(0.0, shape=(), dtype=float32)\n",
      "loss tf.Tensor(0.0, shape=(), dtype=float32)\n"
     ]
    },
    {
     "name": "stderr",
     "output_type": "stream",
     "text": [
      " 50%|█████     | 5016/10000 [02:29<02:19, 35.74it/s, episode_reward=0, running_reward=0]"
     ]
    },
    {
     "name": "stdout",
     "output_type": "stream",
     "text": [
      "loss tf.Tensor(0.0, shape=(), dtype=float32)\n",
      "loss tf.Tensor(0.0, shape=(), dtype=float32)\n",
      "loss tf.Tensor(0.0, shape=(), dtype=float32)\n"
     ]
    },
    {
     "name": "stderr",
     "output_type": "stream",
     "text": [
      " 50%|█████     | 5024/10000 [02:29<02:58, 27.81it/s, episode_reward=0, running_reward=0]"
     ]
    },
    {
     "name": "stdout",
     "output_type": "stream",
     "text": [
      "loss tf.Tensor(0.0, shape=(), dtype=float32)\n",
      "loss tf.Tensor(0.0, shape=(), dtype=float32)\n",
      "loss tf.Tensor(0.0, shape=(), dtype=float32)\n",
      "loss tf.Tensor(0.0, shape=(), dtype=float32)\n",
      "loss tf.Tensor(0.0, shape=(), dtype=float32)\n",
      "loss tf.Tensor(0.0, shape=(), dtype=float32)\n",
      "loss tf.Tensor(0.0, shape=(), dtype=float32)\n",
      "loss tf.Tensor(0.0, shape=(), dtype=float32)\n"
     ]
    },
    {
     "name": "stderr",
     "output_type": "stream",
     "text": [
      " 50%|█████     | 5032/10000 [02:29<02:40, 30.98it/s, episode_reward=0, running_reward=0]"
     ]
    },
    {
     "name": "stdout",
     "output_type": "stream",
     "text": [
      "loss tf.Tensor(0.0, shape=(), dtype=float32)\n",
      "loss tf.Tensor(0.0, shape=(), dtype=float32)\n",
      "loss tf.Tensor(0.0, shape=(), dtype=float32)\n",
      "loss tf.Tensor(0.0, shape=(), dtype=float32)\n",
      "loss tf.Tensor(0.0, shape=(), dtype=float32)\n",
      "loss tf.Tensor(0.0, shape=(), dtype=float32)\n",
      "loss tf.Tensor(0.0, shape=(), dtype=float32)\n"
     ]
    },
    {
     "name": "stderr",
     "output_type": "stream",
     "text": [
      " 50%|█████     | 5040/10000 [02:30<02:27, 33.68it/s, episode_reward=0, running_reward=0]"
     ]
    },
    {
     "name": "stdout",
     "output_type": "stream",
     "text": [
      "loss tf.Tensor(0.0, shape=(), dtype=float32)\n",
      "loss tf.Tensor(0.0, shape=(), dtype=float32)\n",
      "loss tf.Tensor(0.0, shape=(), dtype=float32)\n",
      "loss tf.Tensor(0.0, shape=(), dtype=float32)\n",
      "loss tf.Tensor(0.0, shape=(), dtype=float32)\n",
      "loss tf.Tensor(0.0, shape=(), dtype=float32)\n",
      "loss tf.Tensor(0.0, shape=(), dtype=float32)\n",
      "loss tf.Tensor(0.0, shape=(), dtype=float32)\n"
     ]
    },
    {
     "name": "stderr",
     "output_type": "stream",
     "text": [
      " 50%|█████     | 5048/10000 [02:30<02:21, 34.88it/s, episode_reward=0, running_reward=0]"
     ]
    },
    {
     "name": "stdout",
     "output_type": "stream",
     "text": [
      "loss tf.Tensor(0.0, shape=(), dtype=float32)\n",
      "loss tf.Tensor(0.0, shape=(), dtype=float32)\n",
      "loss tf.Tensor(0.0, shape=(), dtype=float32)\n",
      "loss tf.Tensor(0.0, shape=(), dtype=float32)\n",
      "loss tf.Tensor(0.0, shape=(), dtype=float32)\n",
      "loss tf.Tensor(0.0, shape=(), dtype=float32)\n",
      "loss tf.Tensor(0.0, shape=(), dtype=float32)\n",
      "loss tf.Tensor(0.0, shape=(), dtype=float32)\n"
     ]
    },
    {
     "name": "stderr",
     "output_type": "stream",
     "text": [
      " 51%|█████     | 5056/10000 [02:30<02:19, 35.55it/s, episode_reward=0, running_reward=0]"
     ]
    },
    {
     "name": "stdout",
     "output_type": "stream",
     "text": [
      "loss tf.Tensor(0.0, shape=(), dtype=float32)\n",
      "loss tf.Tensor(0.0, shape=(), dtype=float32)\n",
      "loss tf.Tensor(0.0, shape=(), dtype=float32)\n",
      "loss tf.Tensor(0.0, shape=(), dtype=float32)\n",
      "loss tf.Tensor(0.0, shape=(), dtype=float32)\n",
      "loss tf.Tensor(0.0, shape=(), dtype=float32)\n",
      "loss tf.Tensor(0.0, shape=(), dtype=float32)\n",
      "loss tf.Tensor(0.0, shape=(), dtype=float32)\n"
     ]
    },
    {
     "name": "stderr",
     "output_type": "stream",
     "text": [
      " 51%|█████     | 5064/10000 [02:30<02:20, 35.17it/s, episode_reward=0, running_reward=0]"
     ]
    },
    {
     "name": "stdout",
     "output_type": "stream",
     "text": [
      "loss tf.Tensor(0.0, shape=(), dtype=float32)\n",
      "loss tf.Tensor(0.0, shape=(), dtype=float32)\n",
      "loss tf.Tensor(0.0, shape=(), dtype=float32)\n",
      "loss tf.Tensor(0.0, shape=(), dtype=float32)\n",
      "loss tf.Tensor(0.0, shape=(), dtype=float32)\n",
      "loss tf.Tensor(0.0, shape=(), dtype=float32)\n",
      "loss tf.Tensor(0.0, shape=(), dtype=float32)\n",
      "loss tf.Tensor(0.0, shape=(), dtype=float32)\n"
     ]
    },
    {
     "name": "stderr",
     "output_type": "stream",
     "text": [
      " 51%|█████     | 5068/10000 [02:30<02:22, 34.70it/s, episode_reward=0, running_reward=0]"
     ]
    },
    {
     "name": "stdout",
     "output_type": "stream",
     "text": [
      "loss tf.Tensor(0.0, shape=(), dtype=float32)\n",
      "loss tf.Tensor(0.0, shape=(), dtype=float32)\n",
      "loss tf.Tensor(0.0, shape=(), dtype=float32)\n",
      "loss tf.Tensor(0.0, shape=(), dtype=float32)\n"
     ]
    },
    {
     "name": "stderr",
     "output_type": "stream",
     "text": [
      " 51%|█████     | 5076/10000 [02:31<02:54, 28.20it/s, episode_reward=0, running_reward=0]"
     ]
    },
    {
     "name": "stdout",
     "output_type": "stream",
     "text": [
      "loss tf.Tensor(0.0, shape=(), dtype=float32)\n",
      "loss tf.Tensor(0.0, shape=(), dtype=float32)\n",
      "loss tf.Tensor(0.0, shape=(), dtype=float32)\n",
      "loss tf.Tensor(0.0, shape=(), dtype=float32)\n",
      "loss tf.Tensor(0.0, shape=(), dtype=float32)\n",
      "loss tf.Tensor(0.0, shape=(), dtype=float32)\n",
      "loss tf.Tensor(0.0, shape=(), dtype=float32)\n"
     ]
    },
    {
     "name": "stderr",
     "output_type": "stream",
     "text": [
      " 51%|█████     | 5084/10000 [02:31<02:34, 31.79it/s, episode_reward=0, running_reward=0]"
     ]
    },
    {
     "name": "stdout",
     "output_type": "stream",
     "text": [
      "loss tf.Tensor(0.0, shape=(), dtype=float32)\n",
      "loss tf.Tensor(0.0, shape=(), dtype=float32)\n",
      "loss tf.Tensor(0.0, shape=(), dtype=float32)\n",
      "loss tf.Tensor(0.0, shape=(), dtype=float32)\n",
      "loss tf.Tensor(0.0, shape=(), dtype=float32)\n",
      "loss tf.Tensor(0.0, shape=(), dtype=float32)\n",
      "loss tf.Tensor(0.0, shape=(), dtype=float32)\n",
      "loss tf.Tensor(0.0, shape=(), dtype=float32)\n"
     ]
    },
    {
     "name": "stderr",
     "output_type": "stream",
     "text": [
      " 51%|█████     | 5092/10000 [02:31<02:25, 33.75it/s, episode_reward=0, running_reward=0]"
     ]
    },
    {
     "name": "stdout",
     "output_type": "stream",
     "text": [
      "loss tf.Tensor(0.0, shape=(), dtype=float32)\n",
      "loss tf.Tensor(0.0, shape=(), dtype=float32)\n",
      "loss tf.Tensor(0.0, shape=(), dtype=float32)\n",
      "loss tf.Tensor(0.0, shape=(), dtype=float32)\n",
      "loss tf.Tensor(0.0, shape=(), dtype=float32)\n",
      "loss tf.Tensor(0.0, shape=(), dtype=float32)\n",
      "loss tf.Tensor(0.0, shape=(), dtype=float32)\n",
      "loss tf.Tensor(0.0, shape=(), dtype=float32)\n"
     ]
    },
    {
     "name": "stderr",
     "output_type": "stream",
     "text": [
      " 51%|█████     | 5100/10000 [02:31<02:20, 34.87it/s, episode_reward=0, running_reward=0]"
     ]
    },
    {
     "name": "stdout",
     "output_type": "stream",
     "text": [
      "loss tf.Tensor(0.0, shape=(), dtype=float32)\n",
      "loss tf.Tensor(0.0, shape=(), dtype=float32)\n",
      "loss tf.Tensor(0.0, shape=(), dtype=float32)\n",
      "loss tf.Tensor(0.0, shape=(), dtype=float32)\n",
      "loss tf.Tensor(0.0, shape=(), dtype=float32)\n",
      "loss tf.Tensor(0.0, shape=(), dtype=float32)\n",
      "loss tf.Tensor(0.0, shape=(), dtype=float32)\n",
      "loss tf.Tensor(0.0, shape=(), dtype=float32)\n"
     ]
    },
    {
     "name": "stderr",
     "output_type": "stream",
     "text": [
      " 51%|█████     | 5108/10000 [02:32<02:18, 35.36it/s, episode_reward=0, running_reward=0]"
     ]
    },
    {
     "name": "stdout",
     "output_type": "stream",
     "text": [
      "loss tf.Tensor(0.0, shape=(), dtype=float32)\n",
      "loss tf.Tensor(0.0, shape=(), dtype=float32)\n",
      "loss tf.Tensor(0.0, shape=(), dtype=float32)\n",
      "loss tf.Tensor(0.0, shape=(), dtype=float32)\n",
      "loss tf.Tensor(0.0, shape=(), dtype=float32)\n",
      "loss tf.Tensor(0.0, shape=(), dtype=float32)\n",
      "loss tf.Tensor(0.0, shape=(), dtype=float32)\n",
      "loss tf.Tensor(0.0, shape=(), dtype=float32)\n"
     ]
    },
    {
     "name": "stderr",
     "output_type": "stream",
     "text": [
      " 51%|█████     | 5116/10000 [02:32<02:16, 35.87it/s, episode_reward=0, running_reward=0]"
     ]
    },
    {
     "name": "stdout",
     "output_type": "stream",
     "text": [
      "loss tf.Tensor(0.0, shape=(), dtype=float32)\n",
      "loss tf.Tensor(0.0, shape=(), dtype=float32)\n",
      "loss tf.Tensor(0.0, shape=(), dtype=float32)\n",
      "loss tf.Tensor(0.0, shape=(), dtype=float32)\n",
      "loss tf.Tensor(0.0, shape=(), dtype=float32)\n",
      "loss tf.Tensor(0.0, shape=(), dtype=float32)\n",
      "loss tf.Tensor(0.0, shape=(), dtype=float32)\n",
      "loss tf.Tensor(0.0, shape=(), dtype=float32)\n"
     ]
    },
    {
     "name": "stderr",
     "output_type": "stream",
     "text": [
      " 51%|█████     | 5124/10000 [02:32<02:16, 35.73it/s, episode_reward=0, running_reward=0]"
     ]
    },
    {
     "name": "stdout",
     "output_type": "stream",
     "text": [
      "loss tf.Tensor(0.0, shape=(), dtype=float32)\n",
      "loss tf.Tensor(0.0, shape=(), dtype=float32)\n",
      "loss tf.Tensor(0.0, shape=(), dtype=float32)\n",
      "loss tf.Tensor(0.0, shape=(), dtype=float32)\n",
      "loss tf.Tensor(0.0, shape=(), dtype=float32)\n",
      "loss tf.Tensor(0.0, shape=(), dtype=float32)\n",
      "loss tf.Tensor(0.0, shape=(), dtype=float32)\n",
      "loss tf.Tensor(0.0, shape=(), dtype=float32)\n"
     ]
    },
    {
     "name": "stderr",
     "output_type": "stream",
     "text": [
      " 51%|█████     | 5124/10000 [02:32<02:16, 35.73it/s, episode_reward=0, running_reward=0]"
     ]
    },
    {
     "name": "stdout",
     "output_type": "stream",
     "text": [
      "loss tf.Tensor(0.0, shape=(), dtype=float32)\n",
      "loss tf.Tensor(0.0, shape=(), dtype=float32)\n"
     ]
    },
    {
     "name": "stderr",
     "output_type": "stream",
     "text": [
      " 51%|█████▏    | 5132/10000 [02:33<03:01, 26.76it/s, episode_reward=0, running_reward=0]"
     ]
    },
    {
     "name": "stdout",
     "output_type": "stream",
     "text": [
      "loss tf.Tensor(0.0, shape=(), dtype=float32)\n",
      "loss tf.Tensor(0.0, shape=(), dtype=float32)\n",
      "loss tf.Tensor(0.0, shape=(), dtype=float32)\n",
      "loss tf.Tensor(0.0, shape=(), dtype=float32)\n",
      "loss tf.Tensor(0.0, shape=(), dtype=float32)\n",
      "loss tf.Tensor(0.0, shape=(), dtype=float32)\n",
      "loss tf.Tensor(0.0, shape=(), dtype=float32)\n"
     ]
    },
    {
     "name": "stderr",
     "output_type": "stream",
     "text": [
      " 51%|█████▏    | 5140/10000 [02:33<02:41, 30.18it/s, episode_reward=0, running_reward=0]"
     ]
    },
    {
     "name": "stdout",
     "output_type": "stream",
     "text": [
      "loss tf.Tensor(0.0, shape=(), dtype=float32)\n",
      "loss tf.Tensor(0.0, shape=(), dtype=float32)\n",
      "loss tf.Tensor(0.0, shape=(), dtype=float32)\n",
      "loss tf.Tensor(0.0, shape=(), dtype=float32)\n",
      "loss tf.Tensor(0.0, shape=(), dtype=float32)\n",
      "loss tf.Tensor(0.0, shape=(), dtype=float32)\n",
      "loss tf.Tensor(0.0, shape=(), dtype=float32)\n"
     ]
    },
    {
     "name": "stderr",
     "output_type": "stream",
     "text": [
      " 51%|█████▏    | 5148/10000 [02:33<02:26, 33.20it/s, episode_reward=0, running_reward=0]"
     ]
    },
    {
     "name": "stdout",
     "output_type": "stream",
     "text": [
      "loss tf.Tensor(0.0, shape=(), dtype=float32)\n",
      "loss tf.Tensor(0.0, shape=(), dtype=float32)\n",
      "loss tf.Tensor(0.0, shape=(), dtype=float32)\n",
      "loss tf.Tensor(0.0, shape=(), dtype=float32)\n",
      "loss tf.Tensor(0.0, shape=(), dtype=float32)\n",
      "loss tf.Tensor(0.0, shape=(), dtype=float32)\n",
      "loss tf.Tensor(0.0, shape=(), dtype=float32)\n",
      "loss tf.Tensor(0.0, shape=(), dtype=float32)\n"
     ]
    },
    {
     "name": "stderr",
     "output_type": "stream",
     "text": [
      " 52%|█████▏    | 5156/10000 [02:33<02:20, 34.37it/s, episode_reward=0, running_reward=0]"
     ]
    },
    {
     "name": "stdout",
     "output_type": "stream",
     "text": [
      "loss tf.Tensor(0.0, shape=(), dtype=float32)\n",
      "loss tf.Tensor(0.0, shape=(), dtype=float32)\n",
      "loss tf.Tensor(0.0, shape=(), dtype=float32)\n",
      "loss tf.Tensor(0.0, shape=(), dtype=float32)\n",
      "loss tf.Tensor(0.0, shape=(), dtype=float32)\n",
      "loss tf.Tensor(0.0, shape=(), dtype=float32)\n",
      "loss tf.Tensor(0.0, shape=(), dtype=float32)\n",
      "loss tf.Tensor(0.0, shape=(), dtype=float32)\n"
     ]
    },
    {
     "name": "stderr",
     "output_type": "stream",
     "text": [
      " 52%|█████▏    | 5164/10000 [02:33<02:16, 35.44it/s, episode_reward=0, running_reward=0]"
     ]
    },
    {
     "name": "stdout",
     "output_type": "stream",
     "text": [
      "loss tf.Tensor(0.0, shape=(), dtype=float32)\n",
      "loss tf.Tensor(0.0, shape=(), dtype=float32)\n",
      "loss tf.Tensor(0.0, shape=(), dtype=float32)\n",
      "loss tf.Tensor(0.0, shape=(), dtype=float32)\n",
      "loss tf.Tensor(0.0, shape=(), dtype=float32)\n",
      "loss tf.Tensor(0.0, shape=(), dtype=float32)\n",
      "loss tf.Tensor(0.0, shape=(), dtype=float32)\n",
      "loss tf.Tensor(0.0, shape=(), dtype=float32)\n"
     ]
    },
    {
     "name": "stderr",
     "output_type": "stream",
     "text": [
      " 52%|█████▏    | 5172/10000 [02:34<02:14, 35.99it/s, episode_reward=0, running_reward=0]"
     ]
    },
    {
     "name": "stdout",
     "output_type": "stream",
     "text": [
      "loss tf.Tensor(0.0, shape=(), dtype=float32)\n",
      "loss tf.Tensor(0.0, shape=(), dtype=float32)\n",
      "loss tf.Tensor(0.0, shape=(), dtype=float32)\n",
      "loss tf.Tensor(0.0, shape=(), dtype=float32)\n",
      "loss tf.Tensor(0.0, shape=(), dtype=float32)\n",
      "loss tf.Tensor(0.0, shape=(), dtype=float32)\n",
      "loss tf.Tensor(0.0, shape=(), dtype=float32)\n",
      "loss tf.Tensor(0.0, shape=(), dtype=float32)\n"
     ]
    },
    {
     "name": "stderr",
     "output_type": "stream",
     "text": [
      " 52%|█████▏    | 5180/10000 [02:34<02:13, 36.06it/s, episode_reward=0, running_reward=0]"
     ]
    },
    {
     "name": "stdout",
     "output_type": "stream",
     "text": [
      "loss tf.Tensor(0.0, shape=(), dtype=float32)\n",
      "loss tf.Tensor(0.0, shape=(), dtype=float32)\n",
      "loss tf.Tensor(0.0, shape=(), dtype=float32)\n",
      "loss tf.Tensor(0.0, shape=(), dtype=float32)\n",
      "loss tf.Tensor(0.0, shape=(), dtype=float32)\n",
      "loss tf.Tensor(0.0, shape=(), dtype=float32)\n",
      "loss tf.Tensor(0.0, shape=(), dtype=float32)\n",
      "loss tf.Tensor(0.0, shape=(), dtype=float32)\n"
     ]
    },
    {
     "name": "stderr",
     "output_type": "stream",
     "text": [
      " 52%|█████▏    | 5188/10000 [02:34<02:12, 36.25it/s, episode_reward=0, running_reward=0]"
     ]
    },
    {
     "name": "stdout",
     "output_type": "stream",
     "text": [
      "loss tf.Tensor(0.0, shape=(), dtype=float32)\n",
      "loss tf.Tensor(0.0, shape=(), dtype=float32)\n",
      "loss tf.Tensor(0.0, shape=(), dtype=float32)\n",
      "loss tf.Tensor(0.0, shape=(), dtype=float32)\n",
      "loss tf.Tensor(0.0, shape=(), dtype=float32)\n",
      "loss tf.Tensor(0.0, shape=(), dtype=float32)\n",
      "loss tf.Tensor(0.0, shape=(), dtype=float32)\n",
      "loss tf.Tensor(0.0, shape=(), dtype=float32)\n"
     ]
    },
    {
     "name": "stderr",
     "output_type": "stream",
     "text": [
      " 52%|█████▏    | 5188/10000 [02:34<02:12, 36.25it/s, episode_reward=0, running_reward=0]"
     ]
    },
    {
     "name": "stdout",
     "output_type": "stream",
     "text": [
      "loss tf.Tensor(0.0, shape=(), dtype=float32)\n",
      "loss tf.Tensor(0.0, shape=(), dtype=float32)\n",
      "loss tf.Tensor(0.0, shape=(), dtype=float32)\n"
     ]
    },
    {
     "name": "stderr",
     "output_type": "stream",
     "text": [
      " 52%|█████▏    | 5195/10000 [02:35<03:19, 24.09it/s, episode_reward=0, running_reward=0]"
     ]
    },
    {
     "name": "stdout",
     "output_type": "stream",
     "text": [
      "loss tf.Tensor(0.0, shape=(), dtype=float32)\n",
      "loss tf.Tensor(0.0, shape=(), dtype=float32)\n",
      "loss tf.Tensor(0.0, shape=(), dtype=float32)\n",
      "loss tf.Tensor(0.0, shape=(), dtype=float32)\n",
      "loss tf.Tensor(0.0, shape=(), dtype=float32)\n"
     ]
    },
    {
     "name": "stderr",
     "output_type": "stream",
     "text": [
      " 52%|█████▏    | 5201/10000 [02:35<03:25, 23.32it/s, episode_reward=0, running_reward=0]"
     ]
    },
    {
     "name": "stdout",
     "output_type": "stream",
     "text": [
      "loss tf.Tensor(0.0, shape=(), dtype=float32)\n",
      "loss tf.Tensor(0.0, shape=(), dtype=float32)\n",
      "loss tf.Tensor(0.0, shape=(), dtype=float32)\n",
      "loss tf.Tensor(0.0, shape=(), dtype=float32)\n",
      "loss tf.Tensor(0.0, shape=(), dtype=float32)\n"
     ]
    },
    {
     "name": "stderr",
     "output_type": "stream",
     "text": [
      " 52%|█████▏    | 5208/10000 [02:35<03:00, 26.49it/s, episode_reward=0, running_reward=0]"
     ]
    },
    {
     "name": "stdout",
     "output_type": "stream",
     "text": [
      "loss tf.Tensor(0.0, shape=(), dtype=float32)\n",
      "loss tf.Tensor(0.0, shape=(), dtype=float32)\n",
      "loss tf.Tensor(0.0, shape=(), dtype=float32)\n",
      "loss tf.Tensor(0.0, shape=(), dtype=float32)\n",
      "loss tf.Tensor(0.0, shape=(), dtype=float32)\n",
      "loss tf.Tensor(0.0, shape=(), dtype=float32)\n",
      "loss tf.Tensor(0.0, shape=(), dtype=float32)\n"
     ]
    },
    {
     "name": "stderr",
     "output_type": "stream",
     "text": [
      " 52%|█████▏    | 5211/10000 [02:35<03:01, 26.38it/s, episode_reward=0, running_reward=0]"
     ]
    },
    {
     "name": "stdout",
     "output_type": "stream",
     "text": [
      "loss tf.Tensor(0.0, shape=(), dtype=float32)\n",
      "loss tf.Tensor(0.0, shape=(), dtype=float32)\n",
      "loss tf.Tensor(0.0, shape=(), dtype=float32)\n",
      "loss tf.Tensor(0.0, shape=(), dtype=float32)\n",
      "loss tf.Tensor(0.0, shape=(), dtype=float32)\n",
      "loss tf.Tensor(0.0, shape=(), dtype=float32)\n"
     ]
    },
    {
     "name": "stderr",
     "output_type": "stream",
     "text": [
      " 52%|█████▏    | 5218/10000 [02:35<02:49, 28.16it/s, episode_reward=0, running_reward=0]"
     ]
    },
    {
     "name": "stdout",
     "output_type": "stream",
     "text": [
      "loss tf.Tensor(0.0, shape=(), dtype=float32)\n",
      "loss tf.Tensor(0.0, shape=(), dtype=float32)\n",
      "loss tf.Tensor(0.0, shape=(), dtype=float32)\n",
      "loss tf.Tensor(0.0, shape=(), dtype=float32)\n",
      "loss tf.Tensor(0.0, shape=(), dtype=float32)\n",
      "loss tf.Tensor(0.0, shape=(), dtype=float32)\n",
      "loss tf.Tensor(0.0, shape=(), dtype=float32)\n"
     ]
    },
    {
     "name": "stderr",
     "output_type": "stream",
     "text": [
      " 52%|█████▏    | 5226/10000 [02:36<02:27, 32.30it/s, episode_reward=0, running_reward=0]"
     ]
    },
    {
     "name": "stdout",
     "output_type": "stream",
     "text": [
      "loss tf.Tensor(0.0, shape=(), dtype=float32)\n",
      "loss tf.Tensor(0.0, shape=(), dtype=float32)\n",
      "loss tf.Tensor(0.0, shape=(), dtype=float32)\n",
      "loss tf.Tensor(0.0, shape=(), dtype=float32)\n",
      "loss tf.Tensor(0.0, shape=(), dtype=float32)\n",
      "loss tf.Tensor(0.0, shape=(), dtype=float32)\n",
      "loss tf.Tensor(0.0, shape=(), dtype=float32)\n",
      "loss tf.Tensor(0.0, shape=(), dtype=float32)\n"
     ]
    },
    {
     "name": "stderr",
     "output_type": "stream",
     "text": [
      " 52%|█████▏    | 5234/10000 [02:36<02:22, 33.46it/s, episode_reward=0, running_reward=0]"
     ]
    },
    {
     "name": "stdout",
     "output_type": "stream",
     "text": [
      "loss tf.Tensor(0.0, shape=(), dtype=float32)\n",
      "loss tf.Tensor(0.0, shape=(), dtype=float32)\n",
      "loss tf.Tensor(0.0, shape=(), dtype=float32)\n",
      "loss tf.Tensor(0.0, shape=(), dtype=float32)\n",
      "loss tf.Tensor(0.0, shape=(), dtype=float32)\n",
      "loss tf.Tensor(0.0, shape=(), dtype=float32)\n",
      "loss tf.Tensor(0.0, shape=(), dtype=float32)\n",
      "loss tf.Tensor(0.0, shape=(), dtype=float32)\n"
     ]
    },
    {
     "name": "stderr",
     "output_type": "stream",
     "text": [
      " 52%|█████▏    | 5242/10000 [02:36<02:17, 34.66it/s, episode_reward=0, running_reward=0]"
     ]
    },
    {
     "name": "stdout",
     "output_type": "stream",
     "text": [
      "loss tf.Tensor(0.0, shape=(), dtype=float32)\n",
      "loss tf.Tensor(0.0, shape=(), dtype=float32)\n",
      "loss tf.Tensor(0.0, shape=(), dtype=float32)\n",
      "loss tf.Tensor(0.0, shape=(), dtype=float32)\n",
      "loss tf.Tensor(0.0, shape=(), dtype=float32)\n",
      "loss tf.Tensor(0.0, shape=(), dtype=float32)\n",
      "loss tf.Tensor(0.0, shape=(), dtype=float32)\n",
      "loss tf.Tensor(0.0, shape=(), dtype=float32)\n"
     ]
    },
    {
     "name": "stderr",
     "output_type": "stream",
     "text": [
      " 52%|█████▎    | 5250/10000 [02:36<02:15, 35.03it/s, episode_reward=0, running_reward=0]"
     ]
    },
    {
     "name": "stdout",
     "output_type": "stream",
     "text": [
      "loss tf.Tensor(0.0, shape=(), dtype=float32)\n",
      "loss tf.Tensor(0.0, shape=(), dtype=float32)\n",
      "loss tf.Tensor(0.0, shape=(), dtype=float32)\n",
      "loss tf.Tensor(0.0, shape=(), dtype=float32)\n",
      "loss tf.Tensor(0.0, shape=(), dtype=float32)\n",
      "loss tf.Tensor(0.0, shape=(), dtype=float32)\n",
      "loss tf.Tensor(0.0, shape=(), dtype=float32)\n",
      "loss tf.Tensor(0.0, shape=(), dtype=float32)\n"
     ]
    },
    {
     "name": "stderr",
     "output_type": "stream",
     "text": [
      " 53%|█████▎    | 5258/10000 [02:37<02:13, 35.44it/s, episode_reward=0, running_reward=0]"
     ]
    },
    {
     "name": "stdout",
     "output_type": "stream",
     "text": [
      "loss tf.Tensor(0.0, shape=(), dtype=float32)\n",
      "loss tf.Tensor(0.0, shape=(), dtype=float32)\n",
      "loss tf.Tensor(0.0, shape=(), dtype=float32)\n",
      "loss tf.Tensor(0.0, shape=(), dtype=float32)\n",
      "loss tf.Tensor(0.0, shape=(), dtype=float32)\n",
      "loss tf.Tensor(0.0, shape=(), dtype=float32)\n",
      "loss tf.Tensor(0.0, shape=(), dtype=float32)\n",
      "loss tf.Tensor(0.0, shape=(), dtype=float32)\n"
     ]
    },
    {
     "name": "stderr",
     "output_type": "stream",
     "text": [
      " 53%|█████▎    | 5262/10000 [02:37<02:12, 35.88it/s, episode_reward=0, running_reward=0]"
     ]
    },
    {
     "name": "stdout",
     "output_type": "stream",
     "text": [
      "loss tf.Tensor(0.0, shape=(), dtype=float32)\n",
      "loss tf.Tensor(0.0, shape=(), dtype=float32)\n",
      "loss tf.Tensor(0.0, shape=(), dtype=float32)\n"
     ]
    },
    {
     "name": "stderr",
     "output_type": "stream",
     "text": [
      " 53%|█████▎    | 5270/10000 [02:37<02:56, 26.87it/s, episode_reward=0, running_reward=0]"
     ]
    },
    {
     "name": "stdout",
     "output_type": "stream",
     "text": [
      "loss tf.Tensor(0.0, shape=(), dtype=float32)\n",
      "loss tf.Tensor(0.0, shape=(), dtype=float32)\n",
      "loss tf.Tensor(0.0, shape=(), dtype=float32)\n",
      "loss tf.Tensor(0.0, shape=(), dtype=float32)\n",
      "loss tf.Tensor(0.0, shape=(), dtype=float32)\n",
      "loss tf.Tensor(0.0, shape=(), dtype=float32)\n",
      "loss tf.Tensor(0.0, shape=(), dtype=float32)\n"
     ]
    },
    {
     "name": "stderr",
     "output_type": "stream",
     "text": [
      " 53%|█████▎    | 5278/10000 [02:37<02:31, 31.12it/s, episode_reward=0, running_reward=0]"
     ]
    },
    {
     "name": "stdout",
     "output_type": "stream",
     "text": [
      "loss tf.Tensor(0.0, shape=(), dtype=float32)\n",
      "loss tf.Tensor(0.0, shape=(), dtype=float32)\n",
      "loss tf.Tensor(0.0, shape=(), dtype=float32)\n",
      "loss tf.Tensor(0.0, shape=(), dtype=float32)\n",
      "loss tf.Tensor(0.0, shape=(), dtype=float32)\n",
      "loss tf.Tensor(0.0, shape=(), dtype=float32)\n",
      "loss tf.Tensor(0.0, shape=(), dtype=float32)\n",
      "loss tf.Tensor(0.0, shape=(), dtype=float32)\n"
     ]
    },
    {
     "name": "stderr",
     "output_type": "stream",
     "text": [
      " 53%|█████▎    | 5286/10000 [02:37<02:23, 32.88it/s, episode_reward=0, running_reward=0]"
     ]
    },
    {
     "name": "stdout",
     "output_type": "stream",
     "text": [
      "loss tf.Tensor(0.0, shape=(), dtype=float32)\n",
      "loss tf.Tensor(0.0, shape=(), dtype=float32)\n",
      "loss tf.Tensor(0.0, shape=(), dtype=float32)\n",
      "loss tf.Tensor(0.0, shape=(), dtype=float32)\n",
      "loss tf.Tensor(0.0, shape=(), dtype=float32)\n",
      "loss tf.Tensor(0.0, shape=(), dtype=float32)\n",
      "loss tf.Tensor(0.0, shape=(), dtype=float32)\n"
     ]
    },
    {
     "name": "stderr",
     "output_type": "stream",
     "text": [
      " 53%|█████▎    | 5294/10000 [02:38<02:15, 34.62it/s, episode_reward=0, running_reward=0]"
     ]
    },
    {
     "name": "stdout",
     "output_type": "stream",
     "text": [
      "loss tf.Tensor(0.0, shape=(), dtype=float32)\n",
      "loss tf.Tensor(0.0, shape=(), dtype=float32)\n",
      "loss tf.Tensor(0.0, shape=(), dtype=float32)\n",
      "loss tf.Tensor(0.0, shape=(), dtype=float32)\n",
      "loss tf.Tensor(0.0, shape=(), dtype=float32)\n",
      "loss tf.Tensor(0.0, shape=(), dtype=float32)\n",
      "loss tf.Tensor(0.0, shape=(), dtype=float32)\n",
      "loss tf.Tensor(0.0, shape=(), dtype=float32)\n"
     ]
    },
    {
     "name": "stderr",
     "output_type": "stream",
     "text": [
      " 53%|█████▎    | 5302/10000 [02:38<02:14, 35.01it/s, episode_reward=0, running_reward=0]"
     ]
    },
    {
     "name": "stdout",
     "output_type": "stream",
     "text": [
      "loss tf.Tensor(0.0, shape=(), dtype=float32)\n",
      "loss tf.Tensor(0.0, shape=(), dtype=float32)\n",
      "loss tf.Tensor(0.0, shape=(), dtype=float32)\n",
      "loss tf.Tensor(0.0, shape=(), dtype=float32)\n",
      "loss tf.Tensor(0.0, shape=(), dtype=float32)\n",
      "loss tf.Tensor(0.0, shape=(), dtype=float32)\n",
      "loss tf.Tensor(0.0, shape=(), dtype=float32)\n",
      "loss tf.Tensor(0.0, shape=(), dtype=float32)\n"
     ]
    },
    {
     "name": "stderr",
     "output_type": "stream",
     "text": [
      " 53%|█████▎    | 5310/10000 [02:38<02:13, 35.14it/s, episode_reward=0, running_reward=0]"
     ]
    },
    {
     "name": "stdout",
     "output_type": "stream",
     "text": [
      "loss tf.Tensor(0.0, shape=(), dtype=float32)\n",
      "loss tf.Tensor(0.0, shape=(), dtype=float32)\n",
      "loss tf.Tensor(0.0, shape=(), dtype=float32)\n",
      "loss tf.Tensor(0.0, shape=(), dtype=float32)\n",
      "loss tf.Tensor(0.0, shape=(), dtype=float32)\n",
      "loss tf.Tensor(0.0, shape=(), dtype=float32)\n",
      "loss tf.Tensor(0.0, shape=(), dtype=float32)\n",
      "loss tf.Tensor(0.0, shape=(), dtype=float32)\n"
     ]
    },
    {
     "name": "stderr",
     "output_type": "stream",
     "text": [
      " 53%|█████▎    | 5318/10000 [02:38<02:11, 35.72it/s, episode_reward=0, running_reward=0]"
     ]
    },
    {
     "name": "stdout",
     "output_type": "stream",
     "text": [
      "loss tf.Tensor(0.0, shape=(), dtype=float32)\n",
      "loss tf.Tensor(0.0, shape=(), dtype=float32)\n",
      "loss tf.Tensor(0.0, shape=(), dtype=float32)\n",
      "loss tf.Tensor(0.0, shape=(), dtype=float32)\n",
      "loss tf.Tensor(0.0, shape=(), dtype=float32)\n",
      "loss tf.Tensor(0.0, shape=(), dtype=float32)\n",
      "loss tf.Tensor(0.0, shape=(), dtype=float32)\n",
      "loss tf.Tensor(0.0, shape=(), dtype=float32)\n"
     ]
    },
    {
     "name": "stderr",
     "output_type": "stream",
     "text": [
      " 53%|█████▎    | 5318/10000 [02:39<02:11, 35.72it/s, episode_reward=0, running_reward=0]"
     ]
    },
    {
     "name": "stdout",
     "output_type": "stream",
     "text": [
      "loss tf.Tensor(0.0, shape=(), dtype=float32)\n",
      "loss tf.Tensor(0.0, shape=(), dtype=float32)\n",
      "loss tf.Tensor(0.0, shape=(), dtype=float32)\n"
     ]
    },
    {
     "name": "stderr",
     "output_type": "stream",
     "text": [
      " 53%|█████▎    | 5325/10000 [02:39<03:07, 24.90it/s, episode_reward=0, running_reward=0]"
     ]
    },
    {
     "name": "stdout",
     "output_type": "stream",
     "text": [
      "loss tf.Tensor(0.0, shape=(), dtype=float32)\n",
      "loss tf.Tensor(0.0, shape=(), dtype=float32)\n",
      "loss tf.Tensor(0.0, shape=(), dtype=float32)\n",
      "loss tf.Tensor(0.0, shape=(), dtype=float32)\n",
      "loss tf.Tensor(0.0, shape=(), dtype=float32)\n"
     ]
    },
    {
     "name": "stderr",
     "output_type": "stream",
     "text": [
      " 53%|█████▎    | 5331/10000 [02:39<03:15, 23.86it/s, episode_reward=0, running_reward=0]"
     ]
    },
    {
     "name": "stdout",
     "output_type": "stream",
     "text": [
      "loss tf.Tensor(0.0, shape=(), dtype=float32)\n",
      "loss tf.Tensor(0.0, shape=(), dtype=float32)\n",
      "loss tf.Tensor(0.0, shape=(), dtype=float32)\n",
      "loss tf.Tensor(0.0, shape=(), dtype=float32)\n",
      "loss tf.Tensor(0.0, shape=(), dtype=float32)\n",
      "loss tf.Tensor(0.0, shape=(), dtype=float32)\n"
     ]
    },
    {
     "name": "stderr",
     "output_type": "stream",
     "text": [
      " 53%|█████▎    | 5338/10000 [02:39<02:44, 28.31it/s, episode_reward=0, running_reward=0]"
     ]
    },
    {
     "name": "stdout",
     "output_type": "stream",
     "text": [
      "loss tf.Tensor(0.0, shape=(), dtype=float32)\n",
      "loss tf.Tensor(0.0, shape=(), dtype=float32)\n",
      "loss tf.Tensor(0.0, shape=(), dtype=float32)\n",
      "loss tf.Tensor(0.0, shape=(), dtype=float32)\n",
      "loss tf.Tensor(0.0, shape=(), dtype=float32)\n",
      "loss tf.Tensor(0.0, shape=(), dtype=float32)\n",
      "loss tf.Tensor(0.0, shape=(), dtype=float32)\n",
      "loss tf.Tensor(0.0, shape=(), dtype=float32)\n"
     ]
    },
    {
     "name": "stderr",
     "output_type": "stream",
     "text": [
      " 53%|█████▎    | 5346/10000 [02:39<02:26, 31.78it/s, episode_reward=0, running_reward=0]"
     ]
    },
    {
     "name": "stdout",
     "output_type": "stream",
     "text": [
      "loss tf.Tensor(0.0, shape=(), dtype=float32)\n",
      "loss tf.Tensor(0.0, shape=(), dtype=float32)\n",
      "loss tf.Tensor(0.0, shape=(), dtype=float32)\n",
      "loss tf.Tensor(0.0, shape=(), dtype=float32)\n",
      "loss tf.Tensor(0.0, shape=(), dtype=float32)\n",
      "loss tf.Tensor(0.0, shape=(), dtype=float32)\n",
      "loss tf.Tensor(0.0, shape=(), dtype=float32)\n",
      "loss tf.Tensor(0.0, shape=(), dtype=float32)\n"
     ]
    },
    {
     "name": "stderr",
     "output_type": "stream",
     "text": [
      " 54%|█████▎    | 5354/10000 [02:40<02:16, 34.06it/s, episode_reward=0, running_reward=0]"
     ]
    },
    {
     "name": "stdout",
     "output_type": "stream",
     "text": [
      "loss tf.Tensor(0.0, shape=(), dtype=float32)\n",
      "loss tf.Tensor(0.0, shape=(), dtype=float32)\n",
      "loss tf.Tensor(0.0, shape=(), dtype=float32)\n",
      "loss tf.Tensor(0.0, shape=(), dtype=float32)\n",
      "loss tf.Tensor(0.0, shape=(), dtype=float32)\n",
      "loss tf.Tensor(0.0, shape=(), dtype=float32)\n",
      "loss tf.Tensor(0.0, shape=(), dtype=float32)\n",
      "loss tf.Tensor(0.0, shape=(), dtype=float32)\n"
     ]
    },
    {
     "name": "stderr",
     "output_type": "stream",
     "text": [
      " 54%|█████▎    | 5362/10000 [02:40<02:12, 34.96it/s, episode_reward=0, running_reward=0]"
     ]
    },
    {
     "name": "stdout",
     "output_type": "stream",
     "text": [
      "loss tf.Tensor(0.0, shape=(), dtype=float32)\n",
      "loss tf.Tensor(0.0, shape=(), dtype=float32)\n",
      "loss tf.Tensor(0.0, shape=(), dtype=float32)\n",
      "loss tf.Tensor(0.0, shape=(), dtype=float32)\n",
      "loss tf.Tensor(0.0, shape=(), dtype=float32)\n",
      "loss tf.Tensor(0.0, shape=(), dtype=float32)\n",
      "loss tf.Tensor(0.0, shape=(), dtype=float32)\n",
      "loss tf.Tensor(0.0, shape=(), dtype=float32)\n"
     ]
    },
    {
     "name": "stderr",
     "output_type": "stream",
     "text": [
      " 54%|█████▎    | 5370/10000 [02:40<02:10, 35.51it/s, episode_reward=0, running_reward=0]"
     ]
    },
    {
     "name": "stdout",
     "output_type": "stream",
     "text": [
      "loss tf.Tensor(0.0, shape=(), dtype=float32)\n",
      "loss tf.Tensor(0.0, shape=(), dtype=float32)\n",
      "loss tf.Tensor(0.0, shape=(), dtype=float32)\n",
      "loss tf.Tensor(0.0, shape=(), dtype=float32)\n",
      "loss tf.Tensor(0.0, shape=(), dtype=float32)\n",
      "loss tf.Tensor(0.0, shape=(), dtype=float32)\n",
      "loss tf.Tensor(0.0, shape=(), dtype=float32)\n",
      "loss tf.Tensor(0.0, shape=(), dtype=float32)\n"
     ]
    },
    {
     "name": "stderr",
     "output_type": "stream",
     "text": [
      " 54%|█████▍    | 5378/10000 [02:40<02:09, 35.81it/s, episode_reward=0, running_reward=0]"
     ]
    },
    {
     "name": "stdout",
     "output_type": "stream",
     "text": [
      "loss tf.Tensor(0.0, shape=(), dtype=float32)\n",
      "loss tf.Tensor(0.0, shape=(), dtype=float32)\n",
      "loss tf.Tensor(0.0, shape=(), dtype=float32)\n",
      "loss tf.Tensor(0.0, shape=(), dtype=float32)\n",
      "loss tf.Tensor(0.0, shape=(), dtype=float32)\n",
      "loss tf.Tensor(0.0, shape=(), dtype=float32)\n",
      "loss tf.Tensor(0.0, shape=(), dtype=float32)\n",
      "loss tf.Tensor(0.0, shape=(), dtype=float32)\n"
     ]
    },
    {
     "name": "stderr",
     "output_type": "stream",
     "text": [
      " 54%|█████▍    | 5386/10000 [02:41<02:08, 36.00it/s, episode_reward=0, running_reward=0]"
     ]
    },
    {
     "name": "stdout",
     "output_type": "stream",
     "text": [
      "loss tf.Tensor(0.0, shape=(), dtype=float32)\n",
      "loss tf.Tensor(0.0, shape=(), dtype=float32)\n",
      "loss tf.Tensor(0.0, shape=(), dtype=float32)\n",
      "loss tf.Tensor(0.0, shape=(), dtype=float32)\n",
      "loss tf.Tensor(0.0, shape=(), dtype=float32)\n",
      "loss tf.Tensor(0.0, shape=(), dtype=float32)\n",
      "loss tf.Tensor(0.0, shape=(), dtype=float32)\n",
      "loss tf.Tensor(0.0, shape=(), dtype=float32)\n"
     ]
    },
    {
     "name": "stderr",
     "output_type": "stream",
     "text": [
      " 54%|█████▍    | 5394/10000 [02:41<02:47, 27.48it/s, episode_reward=0, running_reward=0]"
     ]
    },
    {
     "name": "stdout",
     "output_type": "stream",
     "text": [
      "loss tf.Tensor(0.0, shape=(), dtype=float32)\n",
      "loss tf.Tensor(0.0, shape=(), dtype=float32)\n",
      "loss tf.Tensor(0.0, shape=(), dtype=float32)\n",
      "loss tf.Tensor(0.0, shape=(), dtype=float32)\n",
      "loss tf.Tensor(0.0, shape=(), dtype=float32)\n",
      "loss tf.Tensor(0.0, shape=(), dtype=float32)\n"
     ]
    },
    {
     "name": "stderr",
     "output_type": "stream",
     "text": [
      " 54%|█████▍    | 5402/10000 [02:41<02:26, 31.47it/s, episode_reward=0, running_reward=0]"
     ]
    },
    {
     "name": "stdout",
     "output_type": "stream",
     "text": [
      "loss tf.Tensor(0.0, shape=(), dtype=float32)\n",
      "loss tf.Tensor(0.0, shape=(), dtype=float32)\n",
      "loss tf.Tensor(0.0, shape=(), dtype=float32)\n",
      "loss tf.Tensor(0.0, shape=(), dtype=float32)\n",
      "loss tf.Tensor(0.0, shape=(), dtype=float32)\n",
      "loss tf.Tensor(0.0, shape=(), dtype=float32)\n",
      "loss tf.Tensor(0.0, shape=(), dtype=float32)\n",
      "loss tf.Tensor(0.0, shape=(), dtype=float32)\n"
     ]
    },
    {
     "name": "stderr",
     "output_type": "stream",
     "text": [
      " 54%|█████▍    | 5410/10000 [02:41<02:16, 33.56it/s, episode_reward=0, running_reward=0]"
     ]
    },
    {
     "name": "stdout",
     "output_type": "stream",
     "text": [
      "loss tf.Tensor(0.0, shape=(), dtype=float32)\n",
      "loss tf.Tensor(0.0, shape=(), dtype=float32)\n",
      "loss tf.Tensor(0.0, shape=(), dtype=float32)\n",
      "loss tf.Tensor(0.0, shape=(), dtype=float32)\n",
      "loss tf.Tensor(0.0, shape=(), dtype=float32)\n",
      "loss tf.Tensor(0.0, shape=(), dtype=float32)\n",
      "loss tf.Tensor(0.0, shape=(), dtype=float32)\n",
      "loss tf.Tensor(0.0, shape=(), dtype=float32)\n"
     ]
    },
    {
     "name": "stderr",
     "output_type": "stream",
     "text": [
      " 54%|█████▍    | 5418/10000 [02:42<02:11, 34.87it/s, episode_reward=0, running_reward=0]"
     ]
    },
    {
     "name": "stdout",
     "output_type": "stream",
     "text": [
      "loss tf.Tensor(0.0, shape=(), dtype=float32)\n",
      "loss tf.Tensor(0.0, shape=(), dtype=float32)\n",
      "loss tf.Tensor(0.0, shape=(), dtype=float32)\n",
      "loss tf.Tensor(0.0, shape=(), dtype=float32)\n",
      "loss tf.Tensor(0.0, shape=(), dtype=float32)\n",
      "loss tf.Tensor(0.0, shape=(), dtype=float32)\n",
      "loss tf.Tensor(0.0, shape=(), dtype=float32)\n",
      "loss tf.Tensor(0.0, shape=(), dtype=float32)\n"
     ]
    },
    {
     "name": "stderr",
     "output_type": "stream",
     "text": [
      " 54%|█████▍    | 5426/10000 [02:42<02:09, 35.41it/s, episode_reward=0, running_reward=0]"
     ]
    },
    {
     "name": "stdout",
     "output_type": "stream",
     "text": [
      "loss tf.Tensor(0.0, shape=(), dtype=float32)\n",
      "loss tf.Tensor(0.0, shape=(), dtype=float32)\n",
      "loss tf.Tensor(0.0, shape=(), dtype=float32)\n",
      "loss tf.Tensor(0.0, shape=(), dtype=float32)\n",
      "loss tf.Tensor(0.0, shape=(), dtype=float32)\n",
      "loss tf.Tensor(0.0, shape=(), dtype=float32)\n",
      "loss tf.Tensor(0.0, shape=(), dtype=float32)\n",
      "loss tf.Tensor(0.0, shape=(), dtype=float32)\n"
     ]
    },
    {
     "name": "stderr",
     "output_type": "stream",
     "text": [
      " 54%|█████▍    | 5434/10000 [02:42<02:07, 35.72it/s, episode_reward=0, running_reward=0]"
     ]
    },
    {
     "name": "stdout",
     "output_type": "stream",
     "text": [
      "loss tf.Tensor(0.0, shape=(), dtype=float32)\n",
      "loss tf.Tensor(0.0, shape=(), dtype=float32)\n",
      "loss tf.Tensor(0.0, shape=(), dtype=float32)\n",
      "loss tf.Tensor(0.0, shape=(), dtype=float32)\n",
      "loss tf.Tensor(0.0, shape=(), dtype=float32)\n",
      "loss tf.Tensor(0.0, shape=(), dtype=float32)\n",
      "loss tf.Tensor(0.0, shape=(), dtype=float32)\n",
      "loss tf.Tensor(0.0, shape=(), dtype=float32)\n"
     ]
    },
    {
     "name": "stderr",
     "output_type": "stream",
     "text": [
      " 54%|█████▍    | 5434/10000 [02:42<02:07, 35.72it/s, episode_reward=0, running_reward=0]"
     ]
    },
    {
     "name": "stdout",
     "output_type": "stream",
     "text": [
      "loss tf.Tensor(0.0, shape=(), dtype=float32)\n",
      "loss tf.Tensor(0.0, shape=(), dtype=float32)\n"
     ]
    },
    {
     "name": "stderr",
     "output_type": "stream",
     "text": [
      " 54%|█████▍    | 5442/10000 [02:42<02:50, 26.68it/s, episode_reward=0, running_reward=0]"
     ]
    },
    {
     "name": "stdout",
     "output_type": "stream",
     "text": [
      "loss tf.Tensor(0.0, shape=(), dtype=float32)\n",
      "loss tf.Tensor(0.0, shape=(), dtype=float32)\n",
      "loss tf.Tensor(0.0, shape=(), dtype=float32)\n",
      "loss tf.Tensor(0.0, shape=(), dtype=float32)\n",
      "loss tf.Tensor(0.0, shape=(), dtype=float32)\n",
      "loss tf.Tensor(0.0, shape=(), dtype=float32)\n",
      "loss tf.Tensor(0.0, shape=(), dtype=float32)\n"
     ]
    },
    {
     "name": "stderr",
     "output_type": "stream",
     "text": [
      " 55%|█████▍    | 5450/10000 [02:43<02:26, 31.00it/s, episode_reward=0, running_reward=0]"
     ]
    },
    {
     "name": "stdout",
     "output_type": "stream",
     "text": [
      "loss tf.Tensor(0.0, shape=(), dtype=float32)\n",
      "loss tf.Tensor(0.0, shape=(), dtype=float32)\n",
      "loss tf.Tensor(0.0, shape=(), dtype=float32)\n",
      "loss tf.Tensor(0.0, shape=(), dtype=float32)\n",
      "loss tf.Tensor(0.0, shape=(), dtype=float32)\n",
      "loss tf.Tensor(0.0, shape=(), dtype=float32)\n",
      "loss tf.Tensor(0.0, shape=(), dtype=float32)\n",
      "loss tf.Tensor(0.0, shape=(), dtype=float32)\n"
     ]
    },
    {
     "name": "stderr",
     "output_type": "stream",
     "text": [
      " 55%|█████▍    | 5458/10000 [02:43<02:16, 33.27it/s, episode_reward=0, running_reward=0]"
     ]
    },
    {
     "name": "stdout",
     "output_type": "stream",
     "text": [
      "loss tf.Tensor(0.0, shape=(), dtype=float32)\n",
      "loss tf.Tensor(0.0, shape=(), dtype=float32)\n",
      "loss tf.Tensor(0.0, shape=(), dtype=float32)\n",
      "loss tf.Tensor(0.0, shape=(), dtype=float32)\n",
      "loss tf.Tensor(0.0, shape=(), dtype=float32)\n",
      "loss tf.Tensor(0.0, shape=(), dtype=float32)\n",
      "loss tf.Tensor(0.0, shape=(), dtype=float32)\n",
      "loss tf.Tensor(0.0, shape=(), dtype=float32)\n"
     ]
    },
    {
     "name": "stderr",
     "output_type": "stream",
     "text": [
      " 55%|█████▍    | 5466/10000 [02:43<02:11, 34.59it/s, episode_reward=0, running_reward=0]"
     ]
    },
    {
     "name": "stdout",
     "output_type": "stream",
     "text": [
      "loss tf.Tensor(0.0, shape=(), dtype=float32)\n",
      "loss tf.Tensor(0.0, shape=(), dtype=float32)\n",
      "loss tf.Tensor(0.0, shape=(), dtype=float32)\n",
      "loss tf.Tensor(0.0, shape=(), dtype=float32)\n",
      "loss tf.Tensor(0.0, shape=(), dtype=float32)\n",
      "loss tf.Tensor(0.0, shape=(), dtype=float32)\n",
      "loss tf.Tensor(0.0, shape=(), dtype=float32)\n",
      "loss tf.Tensor(0.0, shape=(), dtype=float32)\n"
     ]
    },
    {
     "name": "stderr",
     "output_type": "stream",
     "text": [
      " 55%|█████▍    | 5474/10000 [02:43<02:10, 34.73it/s, episode_reward=0, running_reward=0]"
     ]
    },
    {
     "name": "stdout",
     "output_type": "stream",
     "text": [
      "loss tf.Tensor(0.0, shape=(), dtype=float32)\n",
      "loss tf.Tensor(0.0, shape=(), dtype=float32)\n",
      "loss tf.Tensor(0.0, shape=(), dtype=float32)\n",
      "loss tf.Tensor(0.0, shape=(), dtype=float32)\n",
      "loss tf.Tensor(0.0, shape=(), dtype=float32)\n",
      "loss tf.Tensor(0.0, shape=(), dtype=float32)\n",
      "loss tf.Tensor(0.0, shape=(), dtype=float32)\n"
     ]
    },
    {
     "name": "stderr",
     "output_type": "stream",
     "text": [
      " 55%|█████▍    | 5478/10000 [02:44<03:08, 23.94it/s, episode_reward=0, running_reward=0]"
     ]
    },
    {
     "name": "stdout",
     "output_type": "stream",
     "text": [
      "loss tf.Tensor(0.0, shape=(), dtype=float32)\n",
      "loss tf.Tensor(0.0, shape=(), dtype=float32)\n",
      "loss tf.Tensor(0.0, shape=(), dtype=float32)\n",
      "loss tf.Tensor(0.0, shape=(), dtype=float32)\n",
      "loss tf.Tensor(0.0, shape=(), dtype=float32)\n",
      "loss tf.Tensor(0.0, shape=(), dtype=float32)\n",
      "loss tf.Tensor(0.0, shape=(), dtype=float32)\n"
     ]
    },
    {
     "name": "stderr",
     "output_type": "stream",
     "text": [
      " 55%|█████▍    | 5486/10000 [02:44<02:35, 29.00it/s, episode_reward=0, running_reward=0]"
     ]
    },
    {
     "name": "stdout",
     "output_type": "stream",
     "text": [
      "loss tf.Tensor(0.0, shape=(), dtype=float32)\n",
      "loss tf.Tensor(0.0, shape=(), dtype=float32)\n",
      "loss tf.Tensor(0.0, shape=(), dtype=float32)\n",
      "loss tf.Tensor(0.0, shape=(), dtype=float32)\n",
      "loss tf.Tensor(0.0, shape=(), dtype=float32)\n",
      "loss tf.Tensor(0.0, shape=(), dtype=float32)\n",
      "loss tf.Tensor(0.0, shape=(), dtype=float32)\n",
      "loss tf.Tensor(0.0, shape=(), dtype=float32)\n"
     ]
    },
    {
     "name": "stderr",
     "output_type": "stream",
     "text": [
      " 55%|█████▍    | 5494/10000 [02:44<02:21, 31.92it/s, episode_reward=0, running_reward=0]"
     ]
    },
    {
     "name": "stdout",
     "output_type": "stream",
     "text": [
      "loss tf.Tensor(0.0, shape=(), dtype=float32)\n",
      "loss tf.Tensor(0.0, shape=(), dtype=float32)\n",
      "loss tf.Tensor(0.0, shape=(), dtype=float32)\n",
      "loss tf.Tensor(0.0, shape=(), dtype=float32)\n",
      "loss tf.Tensor(0.0, shape=(), dtype=float32)\n",
      "loss tf.Tensor(0.0, shape=(), dtype=float32)\n",
      "loss tf.Tensor(0.0, shape=(), dtype=float32)\n",
      "loss tf.Tensor(0.0, shape=(), dtype=float32)\n"
     ]
    },
    {
     "name": "stderr",
     "output_type": "stream",
     "text": [
      " 55%|█████▌    | 5502/10000 [02:44<02:13, 33.77it/s, episode_reward=0, running_reward=0]"
     ]
    },
    {
     "name": "stdout",
     "output_type": "stream",
     "text": [
      "loss tf.Tensor(0.0, shape=(), dtype=float32)\n",
      "loss tf.Tensor(0.0, shape=(), dtype=float32)\n",
      "loss tf.Tensor(0.0, shape=(), dtype=float32)\n",
      "loss tf.Tensor(0.0, shape=(), dtype=float32)\n",
      "loss tf.Tensor(0.0, shape=(), dtype=float32)\n",
      "loss tf.Tensor(0.0, shape=(), dtype=float32)\n",
      "loss tf.Tensor(0.0, shape=(), dtype=float32)\n",
      "loss tf.Tensor(0.0, shape=(), dtype=float32)\n"
     ]
    },
    {
     "name": "stderr",
     "output_type": "stream",
     "text": [
      " 55%|█████▌    | 5510/10000 [02:45<02:10, 34.51it/s, episode_reward=0, running_reward=0]"
     ]
    },
    {
     "name": "stdout",
     "output_type": "stream",
     "text": [
      "loss tf.Tensor(0.0, shape=(), dtype=float32)\n",
      "loss tf.Tensor(0.0, shape=(), dtype=float32)\n",
      "loss tf.Tensor(0.0, shape=(), dtype=float32)\n",
      "loss tf.Tensor(0.0, shape=(), dtype=float32)\n",
      "loss tf.Tensor(0.0, shape=(), dtype=float32)\n",
      "loss tf.Tensor(0.0, shape=(), dtype=float32)\n",
      "loss tf.Tensor(0.0, shape=(), dtype=float32)\n",
      "loss tf.Tensor(0.0, shape=(), dtype=float32)\n"
     ]
    },
    {
     "name": "stderr",
     "output_type": "stream",
     "text": [
      " 55%|█████▌    | 5518/10000 [02:45<02:14, 33.40it/s, episode_reward=0, running_reward=0]"
     ]
    },
    {
     "name": "stdout",
     "output_type": "stream",
     "text": [
      "loss tf.Tensor(0.0, shape=(), dtype=float32)\n",
      "loss tf.Tensor(0.0, shape=(), dtype=float32)\n",
      "loss tf.Tensor(0.0, shape=(), dtype=float32)\n",
      "loss tf.Tensor(0.0, shape=(), dtype=float32)\n",
      "loss tf.Tensor(0.0, shape=(), dtype=float32)\n",
      "loss tf.Tensor(0.0, shape=(), dtype=float32)\n",
      "loss tf.Tensor(0.0, shape=(), dtype=float32)\n"
     ]
    },
    {
     "name": "stderr",
     "output_type": "stream",
     "text": [
      " 55%|█████▌    | 5522/10000 [02:45<02:59, 25.01it/s, episode_reward=0, running_reward=0]"
     ]
    },
    {
     "name": "stdout",
     "output_type": "stream",
     "text": [
      "loss tf.Tensor(0.0, shape=(), dtype=float32)\n",
      "loss tf.Tensor(0.0, shape=(), dtype=float32)\n",
      "loss tf.Tensor(0.0, shape=(), dtype=float32)\n"
     ]
    },
    {
     "name": "stderr",
     "output_type": "stream",
     "text": [
      " 55%|█████▌    | 5528/10000 [02:45<03:20, 22.35it/s, episode_reward=0, running_reward=0]"
     ]
    },
    {
     "name": "stdout",
     "output_type": "stream",
     "text": [
      "loss tf.Tensor(0.0, shape=(), dtype=float32)\n",
      "loss tf.Tensor(0.0, shape=(), dtype=float32)\n",
      "loss tf.Tensor(0.0, shape=(), dtype=float32)\n",
      "loss tf.Tensor(0.0, shape=(), dtype=float32)\n",
      "loss tf.Tensor(0.0, shape=(), dtype=float32)\n"
     ]
    },
    {
     "name": "stderr",
     "output_type": "stream",
     "text": [
      " 55%|█████▌    | 5531/10000 [02:46<03:18, 22.56it/s, episode_reward=0, running_reward=0]"
     ]
    },
    {
     "name": "stdout",
     "output_type": "stream",
     "text": [
      "loss tf.Tensor(0.0, shape=(), dtype=float32)\n",
      "loss tf.Tensor(0.0, shape=(), dtype=float32)\n",
      "loss tf.Tensor(0.0, shape=(), dtype=float32)\n",
      "loss tf.Tensor(0.0, shape=(), dtype=float32)\n",
      "loss tf.Tensor(0.0, shape=(), dtype=float32)\n"
     ]
    },
    {
     "name": "stderr",
     "output_type": "stream",
     "text": [
      " 55%|█████▌    | 5538/10000 [02:46<02:49, 26.26it/s, episode_reward=0, running_reward=0]"
     ]
    },
    {
     "name": "stdout",
     "output_type": "stream",
     "text": [
      "loss tf.Tensor(0.0, shape=(), dtype=float32)\n",
      "loss tf.Tensor(0.0, shape=(), dtype=float32)\n",
      "loss tf.Tensor(0.0, shape=(), dtype=float32)\n",
      "loss tf.Tensor(0.0, shape=(), dtype=float32)\n",
      "loss tf.Tensor(0.0, shape=(), dtype=float32)\n",
      "loss tf.Tensor(0.0, shape=(), dtype=float32)\n",
      "loss tf.Tensor(0.0, shape=(), dtype=float32)\n",
      "loss tf.Tensor(0.0, shape=(), dtype=float32)\n"
     ]
    },
    {
     "name": "stderr",
     "output_type": "stream",
     "text": [
      " 55%|█████▌    | 5546/10000 [02:46<02:27, 30.15it/s, episode_reward=0, running_reward=0]"
     ]
    },
    {
     "name": "stdout",
     "output_type": "stream",
     "text": [
      "loss tf.Tensor(0.0, shape=(), dtype=float32)\n",
      "loss tf.Tensor(0.0, shape=(), dtype=float32)\n",
      "loss tf.Tensor(0.0, shape=(), dtype=float32)\n",
      "loss tf.Tensor(0.0, shape=(), dtype=float32)\n",
      "loss tf.Tensor(0.0, shape=(), dtype=float32)\n",
      "loss tf.Tensor(0.0, shape=(), dtype=float32)\n",
      "loss tf.Tensor(0.0, shape=(), dtype=float32)\n",
      "loss tf.Tensor(0.0, shape=(), dtype=float32)\n"
     ]
    },
    {
     "name": "stderr",
     "output_type": "stream",
     "text": [
      " 56%|█████▌    | 5554/10000 [02:46<02:14, 32.94it/s, episode_reward=0, running_reward=0]"
     ]
    },
    {
     "name": "stdout",
     "output_type": "stream",
     "text": [
      "loss tf.Tensor(0.0, shape=(), dtype=float32)\n",
      "loss tf.Tensor(0.0, shape=(), dtype=float32)\n",
      "loss tf.Tensor(0.0, shape=(), dtype=float32)\n",
      "loss tf.Tensor(0.0, shape=(), dtype=float32)\n",
      "loss tf.Tensor(0.0, shape=(), dtype=float32)\n",
      "loss tf.Tensor(0.0, shape=(), dtype=float32)\n",
      "loss tf.Tensor(0.0, shape=(), dtype=float32)\n",
      "loss tf.Tensor(0.0, shape=(), dtype=float32)\n"
     ]
    },
    {
     "name": "stderr",
     "output_type": "stream",
     "text": [
      " 56%|█████▌    | 5562/10000 [02:46<02:12, 33.42it/s, episode_reward=0, running_reward=0]"
     ]
    },
    {
     "name": "stdout",
     "output_type": "stream",
     "text": [
      "loss tf.Tensor(0.0, shape=(), dtype=float32)\n",
      "loss tf.Tensor(0.0, shape=(), dtype=float32)\n",
      "loss tf.Tensor(0.0, shape=(), dtype=float32)\n",
      "loss tf.Tensor(0.0, shape=(), dtype=float32)\n",
      "loss tf.Tensor(0.0, shape=(), dtype=float32)\n",
      "loss tf.Tensor(0.0, shape=(), dtype=float32)\n",
      "loss tf.Tensor(0.0, shape=(), dtype=float32)\n"
     ]
    },
    {
     "name": "stderr",
     "output_type": "stream",
     "text": [
      " 56%|█████▌    | 5570/10000 [02:47<02:10, 34.06it/s, episode_reward=0, running_reward=0]"
     ]
    },
    {
     "name": "stdout",
     "output_type": "stream",
     "text": [
      "loss tf.Tensor(0.0, shape=(), dtype=float32)\n",
      "loss tf.Tensor(0.0, shape=(), dtype=float32)\n",
      "loss tf.Tensor(0.0, shape=(), dtype=float32)\n",
      "loss tf.Tensor(0.0, shape=(), dtype=float32)\n",
      "loss tf.Tensor(0.0, shape=(), dtype=float32)\n",
      "loss tf.Tensor(0.0, shape=(), dtype=float32)\n",
      "loss tf.Tensor(0.0, shape=(), dtype=float32)\n",
      "loss tf.Tensor(0.0, shape=(), dtype=float32)\n"
     ]
    },
    {
     "name": "stderr",
     "output_type": "stream",
     "text": [
      " 56%|█████▌    | 5578/10000 [02:47<02:13, 33.23it/s, episode_reward=0, running_reward=0]"
     ]
    },
    {
     "name": "stdout",
     "output_type": "stream",
     "text": [
      "loss tf.Tensor(0.0, shape=(), dtype=float32)\n",
      "loss tf.Tensor(0.0, shape=(), dtype=float32)\n",
      "loss tf.Tensor(0.0, shape=(), dtype=float32)\n",
      "loss tf.Tensor(0.0, shape=(), dtype=float32)\n",
      "loss tf.Tensor(0.0, shape=(), dtype=float32)\n",
      "loss tf.Tensor(0.0, shape=(), dtype=float32)\n",
      "loss tf.Tensor(0.0, shape=(), dtype=float32)\n"
     ]
    },
    {
     "name": "stderr",
     "output_type": "stream",
     "text": [
      " 56%|█████▌    | 5586/10000 [02:47<02:08, 34.23it/s, episode_reward=0, running_reward=0]"
     ]
    },
    {
     "name": "stdout",
     "output_type": "stream",
     "text": [
      "loss tf.Tensor(0.0, shape=(), dtype=float32)\n",
      "loss tf.Tensor(0.0, shape=(), dtype=float32)\n",
      "loss tf.Tensor(0.0, shape=(), dtype=float32)\n",
      "loss tf.Tensor(0.0, shape=(), dtype=float32)\n",
      "loss tf.Tensor(0.0, shape=(), dtype=float32)\n",
      "loss tf.Tensor(0.0, shape=(), dtype=float32)\n",
      "loss tf.Tensor(0.0, shape=(), dtype=float32)\n",
      "loss tf.Tensor(0.0, shape=(), dtype=float32)\n"
     ]
    },
    {
     "name": "stderr",
     "output_type": "stream",
     "text": [
      " 56%|█████▌    | 5594/10000 [02:47<02:05, 35.21it/s, episode_reward=0, running_reward=0]"
     ]
    },
    {
     "name": "stdout",
     "output_type": "stream",
     "text": [
      "loss tf.Tensor(0.0, shape=(), dtype=float32)\n",
      "loss tf.Tensor(0.0, shape=(), dtype=float32)\n",
      "loss tf.Tensor(0.0, shape=(), dtype=float32)\n",
      "loss tf.Tensor(0.0, shape=(), dtype=float32)\n",
      "loss tf.Tensor(0.0, shape=(), dtype=float32)\n",
      "loss tf.Tensor(0.0, shape=(), dtype=float32)\n",
      "loss tf.Tensor(0.0, shape=(), dtype=float32)\n"
     ]
    },
    {
     "name": "stderr",
     "output_type": "stream",
     "text": [
      " 56%|█████▌    | 5598/10000 [02:48<02:55, 25.08it/s, episode_reward=0, running_reward=0]"
     ]
    },
    {
     "name": "stdout",
     "output_type": "stream",
     "text": [
      "loss tf.Tensor(0.0, shape=(), dtype=float32)\n",
      "loss tf.Tensor(0.0, shape=(), dtype=float32)\n",
      "loss tf.Tensor(0.0, shape=(), dtype=float32)\n",
      "loss tf.Tensor(0.0, shape=(), dtype=float32)\n",
      "loss tf.Tensor(0.0, shape=(), dtype=float32)\n",
      "loss tf.Tensor(0.0, shape=(), dtype=float32)\n"
     ]
    },
    {
     "name": "stderr",
     "output_type": "stream",
     "text": [
      " 56%|█████▌    | 5606/10000 [02:48<02:31, 29.00it/s, episode_reward=0, running_reward=0]"
     ]
    },
    {
     "name": "stdout",
     "output_type": "stream",
     "text": [
      "loss tf.Tensor(0.0, shape=(), dtype=float32)\n",
      "loss tf.Tensor(0.0, shape=(), dtype=float32)\n",
      "loss tf.Tensor(0.0, shape=(), dtype=float32)\n",
      "loss tf.Tensor(0.0, shape=(), dtype=float32)\n",
      "loss tf.Tensor(0.0, shape=(), dtype=float32)\n",
      "loss tf.Tensor(0.0, shape=(), dtype=float32)\n",
      "loss tf.Tensor(0.0, shape=(), dtype=float32)\n",
      "loss tf.Tensor(0.0, shape=(), dtype=float32)\n"
     ]
    },
    {
     "name": "stderr",
     "output_type": "stream",
     "text": [
      " 56%|█████▌    | 5614/10000 [02:48<02:16, 32.06it/s, episode_reward=0, running_reward=0]"
     ]
    },
    {
     "name": "stdout",
     "output_type": "stream",
     "text": [
      "loss tf.Tensor(0.0, shape=(), dtype=float32)\n",
      "loss tf.Tensor(0.0, shape=(), dtype=float32)\n",
      "loss tf.Tensor(0.0, shape=(), dtype=float32)\n",
      "loss tf.Tensor(0.0, shape=(), dtype=float32)\n",
      "loss tf.Tensor(0.0, shape=(), dtype=float32)\n",
      "loss tf.Tensor(0.0, shape=(), dtype=float32)\n",
      "loss tf.Tensor(0.0, shape=(), dtype=float32)\n",
      "loss tf.Tensor(0.0, shape=(), dtype=float32)\n"
     ]
    },
    {
     "name": "stderr",
     "output_type": "stream",
     "text": [
      " 56%|█████▌    | 5622/10000 [02:48<02:10, 33.58it/s, episode_reward=0, running_reward=0]"
     ]
    },
    {
     "name": "stdout",
     "output_type": "stream",
     "text": [
      "loss tf.Tensor(0.0, shape=(), dtype=float32)\n",
      "loss tf.Tensor(0.0, shape=(), dtype=float32)\n",
      "loss tf.Tensor(0.0, shape=(), dtype=float32)\n",
      "loss tf.Tensor(0.0, shape=(), dtype=float32)\n",
      "loss tf.Tensor(0.0, shape=(), dtype=float32)\n",
      "loss tf.Tensor(0.0, shape=(), dtype=float32)\n",
      "loss tf.Tensor(0.0, shape=(), dtype=float32)\n",
      "loss tf.Tensor(0.0, shape=(), dtype=float32)\n"
     ]
    },
    {
     "name": "stderr",
     "output_type": "stream",
     "text": [
      " 56%|█████▋    | 5630/10000 [02:49<02:05, 34.76it/s, episode_reward=0, running_reward=0]"
     ]
    },
    {
     "name": "stdout",
     "output_type": "stream",
     "text": [
      "loss tf.Tensor(0.0, shape=(), dtype=float32)\n",
      "loss tf.Tensor(0.0, shape=(), dtype=float32)\n",
      "loss tf.Tensor(0.0, shape=(), dtype=float32)\n",
      "loss tf.Tensor(0.0, shape=(), dtype=float32)\n",
      "loss tf.Tensor(0.0, shape=(), dtype=float32)\n",
      "loss tf.Tensor(0.0, shape=(), dtype=float32)\n",
      "loss tf.Tensor(0.0, shape=(), dtype=float32)\n",
      "loss tf.Tensor(0.0, shape=(), dtype=float32)\n"
     ]
    },
    {
     "name": "stderr",
     "output_type": "stream",
     "text": [
      " 56%|█████▋    | 5638/10000 [02:49<02:03, 35.22it/s, episode_reward=0, running_reward=0]"
     ]
    },
    {
     "name": "stdout",
     "output_type": "stream",
     "text": [
      "loss tf.Tensor(0.0, shape=(), dtype=float32)\n",
      "loss tf.Tensor(0.0, shape=(), dtype=float32)\n",
      "loss tf.Tensor(0.0, shape=(), dtype=float32)\n",
      "loss tf.Tensor(0.0, shape=(), dtype=float32)\n",
      "loss tf.Tensor(0.0, shape=(), dtype=float32)\n",
      "loss tf.Tensor(0.0, shape=(), dtype=float32)\n",
      "loss tf.Tensor(0.0, shape=(), dtype=float32)\n",
      "loss tf.Tensor(0.0, shape=(), dtype=float32)\n"
     ]
    },
    {
     "name": "stderr",
     "output_type": "stream",
     "text": [
      " 56%|█████▋    | 5646/10000 [02:49<02:02, 35.57it/s, episode_reward=0, running_reward=0]"
     ]
    },
    {
     "name": "stdout",
     "output_type": "stream",
     "text": [
      "loss tf.Tensor(0.0, shape=(), dtype=float32)\n",
      "loss tf.Tensor(0.0, shape=(), dtype=float32)\n",
      "loss tf.Tensor(0.0, shape=(), dtype=float32)\n",
      "loss tf.Tensor(0.0, shape=(), dtype=float32)\n",
      "loss tf.Tensor(0.0, shape=(), dtype=float32)\n",
      "loss tf.Tensor(0.0, shape=(), dtype=float32)\n",
      "loss tf.Tensor(0.0, shape=(), dtype=float32)\n"
     ]
    },
    {
     "name": "stderr",
     "output_type": "stream",
     "text": [
      " 57%|█████▋    | 5654/10000 [02:49<02:05, 34.72it/s, episode_reward=0, running_reward=0]"
     ]
    },
    {
     "name": "stdout",
     "output_type": "stream",
     "text": [
      "loss tf.Tensor(0.0, shape=(), dtype=float32)\n",
      "loss tf.Tensor(0.0, shape=(), dtype=float32)\n",
      "loss tf.Tensor(0.0, shape=(), dtype=float32)\n",
      "loss tf.Tensor(0.0, shape=(), dtype=float32)\n",
      "loss tf.Tensor(0.0, shape=(), dtype=float32)\n",
      "loss tf.Tensor(0.0, shape=(), dtype=float32)\n",
      "loss tf.Tensor(0.0, shape=(), dtype=float32)\n",
      "loss tf.Tensor(0.0, shape=(), dtype=float32)\n"
     ]
    },
    {
     "name": "stderr",
     "output_type": "stream",
     "text": [
      " 57%|█████▋    | 5658/10000 [02:49<02:20, 30.97it/s, episode_reward=0, running_reward=0]"
     ]
    },
    {
     "name": "stdout",
     "output_type": "stream",
     "text": [
      "loss tf.Tensor(0.0, shape=(), dtype=float32)\n",
      "loss tf.Tensor(0.0, shape=(), dtype=float32)\n",
      "loss tf.Tensor(0.0, shape=(), dtype=float32)\n",
      "loss tf.Tensor(0.0, shape=(), dtype=float32)\n"
     ]
    },
    {
     "name": "stderr",
     "output_type": "stream",
     "text": [
      " 57%|█████▋    | 5662/10000 [02:50<03:15, 22.15it/s, episode_reward=0, running_reward=0]"
     ]
    },
    {
     "name": "stdout",
     "output_type": "stream",
     "text": [
      "loss tf.Tensor(0.0, shape=(), dtype=float32)\n",
      "loss tf.Tensor(0.0, shape=(), dtype=float32)\n",
      "loss tf.Tensor(0.0, shape=(), dtype=float32)\n",
      "loss tf.Tensor(0.0, shape=(), dtype=float32)\n"
     ]
    },
    {
     "name": "stderr",
     "output_type": "stream",
     "text": [
      " 57%|█████▋    | 5665/10000 [02:50<03:15, 22.17it/s, episode_reward=0, running_reward=0]"
     ]
    },
    {
     "name": "stdout",
     "output_type": "stream",
     "text": [
      "loss tf.Tensor(0.0, shape=(), dtype=float32)\n",
      "loss tf.Tensor(0.0, shape=(), dtype=float32)\n",
      "loss tf.Tensor(0.0, shape=(), dtype=float32)\n"
     ]
    },
    {
     "name": "stderr",
     "output_type": "stream",
     "text": [
      " 57%|█████▋    | 5672/10000 [02:50<03:14, 22.25it/s, episode_reward=0, running_reward=0]"
     ]
    },
    {
     "name": "stdout",
     "output_type": "stream",
     "text": [
      "loss tf.Tensor(0.0, shape=(), dtype=float32)\n",
      "loss tf.Tensor(0.0, shape=(), dtype=float32)\n",
      "loss tf.Tensor(0.0, shape=(), dtype=float32)\n",
      "loss tf.Tensor(0.0, shape=(), dtype=float32)\n",
      "loss tf.Tensor(0.0, shape=(), dtype=float32)\n",
      "loss tf.Tensor(0.0, shape=(), dtype=float32)\n",
      "loss tf.Tensor(0.0, shape=(), dtype=float32)\n"
     ]
    },
    {
     "name": "stderr",
     "output_type": "stream",
     "text": [
      " 57%|█████▋    | 5680/10000 [02:50<02:34, 27.89it/s, episode_reward=0, running_reward=0]"
     ]
    },
    {
     "name": "stdout",
     "output_type": "stream",
     "text": [
      "loss tf.Tensor(0.0, shape=(), dtype=float32)\n",
      "loss tf.Tensor(0.0, shape=(), dtype=float32)\n",
      "loss tf.Tensor(0.0, shape=(), dtype=float32)\n",
      "loss tf.Tensor(0.0, shape=(), dtype=float32)\n",
      "loss tf.Tensor(0.0, shape=(), dtype=float32)\n",
      "loss tf.Tensor(0.0, shape=(), dtype=float32)\n",
      "loss tf.Tensor(0.0, shape=(), dtype=float32)\n",
      "loss tf.Tensor(0.0, shape=(), dtype=float32)\n"
     ]
    },
    {
     "name": "stderr",
     "output_type": "stream",
     "text": [
      " 57%|█████▋    | 5688/10000 [02:51<02:16, 31.65it/s, episode_reward=0, running_reward=0]"
     ]
    },
    {
     "name": "stdout",
     "output_type": "stream",
     "text": [
      "loss tf.Tensor(0.0, shape=(), dtype=float32)\n",
      "loss tf.Tensor(0.0, shape=(), dtype=float32)\n",
      "loss tf.Tensor(0.0, shape=(), dtype=float32)\n",
      "loss tf.Tensor(0.0, shape=(), dtype=float32)\n",
      "loss tf.Tensor(0.0, shape=(), dtype=float32)\n",
      "loss tf.Tensor(0.0, shape=(), dtype=float32)\n",
      "loss tf.Tensor(0.0, shape=(), dtype=float32)\n",
      "loss tf.Tensor(0.0, shape=(), dtype=float32)\n"
     ]
    },
    {
     "name": "stderr",
     "output_type": "stream",
     "text": [
      " 57%|█████▋    | 5696/10000 [02:51<02:07, 33.66it/s, episode_reward=0, running_reward=0]"
     ]
    },
    {
     "name": "stdout",
     "output_type": "stream",
     "text": [
      "loss tf.Tensor(0.0, shape=(), dtype=float32)\n",
      "loss tf.Tensor(0.0, shape=(), dtype=float32)\n",
      "loss tf.Tensor(0.0, shape=(), dtype=float32)\n",
      "loss tf.Tensor(0.0, shape=(), dtype=float32)\n",
      "loss tf.Tensor(0.0, shape=(), dtype=float32)\n",
      "loss tf.Tensor(0.0, shape=(), dtype=float32)\n",
      "loss tf.Tensor(0.0, shape=(), dtype=float32)\n",
      "loss tf.Tensor(0.0, shape=(), dtype=float32)\n"
     ]
    },
    {
     "name": "stderr",
     "output_type": "stream",
     "text": [
      " 57%|█████▋    | 5704/10000 [02:51<02:03, 34.68it/s, episode_reward=0, running_reward=0]"
     ]
    },
    {
     "name": "stdout",
     "output_type": "stream",
     "text": [
      "loss tf.Tensor(0.0, shape=(), dtype=float32)\n",
      "loss tf.Tensor(0.0, shape=(), dtype=float32)\n",
      "loss tf.Tensor(0.0, shape=(), dtype=float32)\n",
      "loss tf.Tensor(0.0, shape=(), dtype=float32)\n",
      "loss tf.Tensor(0.0, shape=(), dtype=float32)\n",
      "loss tf.Tensor(0.0, shape=(), dtype=float32)\n",
      "loss tf.Tensor(0.0, shape=(), dtype=float32)\n",
      "loss tf.Tensor(0.0, shape=(), dtype=float32)\n"
     ]
    },
    {
     "name": "stderr",
     "output_type": "stream",
     "text": [
      " 57%|█████▋    | 5712/10000 [02:51<02:00, 35.55it/s, episode_reward=0, running_reward=0]"
     ]
    },
    {
     "name": "stdout",
     "output_type": "stream",
     "text": [
      "loss tf.Tensor(0.0, shape=(), dtype=float32)\n",
      "loss tf.Tensor(0.0, shape=(), dtype=float32)\n",
      "loss tf.Tensor(0.0, shape=(), dtype=float32)\n",
      "loss tf.Tensor(0.0, shape=(), dtype=float32)\n",
      "loss tf.Tensor(0.0, shape=(), dtype=float32)\n",
      "loss tf.Tensor(0.0, shape=(), dtype=float32)\n",
      "loss tf.Tensor(0.0, shape=(), dtype=float32)\n",
      "loss tf.Tensor(0.0, shape=(), dtype=float32)\n"
     ]
    },
    {
     "name": "stderr",
     "output_type": "stream",
     "text": [
      " 57%|█████▋    | 5720/10000 [02:51<01:59, 35.96it/s, episode_reward=0, running_reward=0]"
     ]
    },
    {
     "name": "stdout",
     "output_type": "stream",
     "text": [
      "loss tf.Tensor(0.0, shape=(), dtype=float32)\n",
      "loss tf.Tensor(0.0, shape=(), dtype=float32)\n",
      "loss tf.Tensor(0.0, shape=(), dtype=float32)\n",
      "loss tf.Tensor(0.0, shape=(), dtype=float32)\n",
      "loss tf.Tensor(0.0, shape=(), dtype=float32)\n",
      "loss tf.Tensor(0.0, shape=(), dtype=float32)\n",
      "loss tf.Tensor(0.0, shape=(), dtype=float32)\n",
      "loss tf.Tensor(0.0, shape=(), dtype=float32)\n"
     ]
    },
    {
     "name": "stderr",
     "output_type": "stream",
     "text": [
      " 57%|█████▋    | 5728/10000 [02:52<01:58, 36.02it/s, episode_reward=0, running_reward=0]"
     ]
    },
    {
     "name": "stdout",
     "output_type": "stream",
     "text": [
      "loss tf.Tensor(0.0, shape=(), dtype=float32)\n",
      "loss tf.Tensor(0.0, shape=(), dtype=float32)\n",
      "loss tf.Tensor(0.0, shape=(), dtype=float32)\n",
      "loss tf.Tensor(0.0, shape=(), dtype=float32)\n",
      "loss tf.Tensor(0.0, shape=(), dtype=float32)\n",
      "loss tf.Tensor(0.0, shape=(), dtype=float32)\n",
      "loss tf.Tensor(0.0, shape=(), dtype=float32)\n",
      "loss tf.Tensor(0.0, shape=(), dtype=float32)\n"
     ]
    },
    {
     "name": "stderr",
     "output_type": "stream",
     "text": [
      " 57%|█████▋    | 5732/10000 [02:52<02:05, 33.90it/s, episode_reward=0, running_reward=0]"
     ]
    },
    {
     "name": "stdout",
     "output_type": "stream",
     "text": [
      "loss tf.Tensor(0.0, shape=(), dtype=float32)\n",
      "loss tf.Tensor(0.0, shape=(), dtype=float32)\n",
      "loss tf.Tensor(0.0, shape=(), dtype=float32)\n",
      "loss tf.Tensor(0.0, shape=(), dtype=float32)\n",
      "loss tf.Tensor(0.0, shape=(), dtype=float32)\n"
     ]
    },
    {
     "name": "stderr",
     "output_type": "stream",
     "text": [
      " 57%|█████▋    | 5740/10000 [02:52<02:35, 27.43it/s, episode_reward=0, running_reward=0]"
     ]
    },
    {
     "name": "stdout",
     "output_type": "stream",
     "text": [
      "loss tf.Tensor(0.0, shape=(), dtype=float32)\n",
      "loss tf.Tensor(0.0, shape=(), dtype=float32)\n",
      "loss tf.Tensor(0.0, shape=(), dtype=float32)\n",
      "loss tf.Tensor(0.0, shape=(), dtype=float32)\n",
      "loss tf.Tensor(0.0, shape=(), dtype=float32)\n",
      "loss tf.Tensor(0.0, shape=(), dtype=float32)\n",
      "loss tf.Tensor(0.0, shape=(), dtype=float32)\n"
     ]
    },
    {
     "name": "stderr",
     "output_type": "stream",
     "text": [
      " 57%|█████▋    | 5748/10000 [02:52<02:18, 30.77it/s, episode_reward=0, running_reward=0]"
     ]
    },
    {
     "name": "stdout",
     "output_type": "stream",
     "text": [
      "loss tf.Tensor(0.0, shape=(), dtype=float32)\n",
      "loss tf.Tensor(0.0, shape=(), dtype=float32)\n",
      "loss tf.Tensor(0.0, shape=(), dtype=float32)\n",
      "loss tf.Tensor(0.0, shape=(), dtype=float32)\n",
      "loss tf.Tensor(0.0, shape=(), dtype=float32)\n",
      "loss tf.Tensor(0.0, shape=(), dtype=float32)\n",
      "loss tf.Tensor(0.0, shape=(), dtype=float32)\n",
      "loss tf.Tensor(0.0, shape=(), dtype=float32)\n"
     ]
    },
    {
     "name": "stderr",
     "output_type": "stream",
     "text": [
      " 58%|█████▊    | 5756/10000 [02:53<02:09, 32.84it/s, episode_reward=0, running_reward=0]"
     ]
    },
    {
     "name": "stdout",
     "output_type": "stream",
     "text": [
      "loss tf.Tensor(0.0, shape=(), dtype=float32)\n",
      "loss tf.Tensor(0.0, shape=(), dtype=float32)\n",
      "loss tf.Tensor(0.0, shape=(), dtype=float32)\n",
      "loss tf.Tensor(0.0, shape=(), dtype=float32)\n",
      "loss tf.Tensor(0.0, shape=(), dtype=float32)\n",
      "loss tf.Tensor(0.0, shape=(), dtype=float32)\n",
      "loss tf.Tensor(0.0, shape=(), dtype=float32)\n",
      "loss tf.Tensor(0.0, shape=(), dtype=float32)\n"
     ]
    },
    {
     "name": "stderr",
     "output_type": "stream",
     "text": [
      " 58%|█████▊    | 5764/10000 [02:53<02:02, 34.50it/s, episode_reward=0, running_reward=0]"
     ]
    },
    {
     "name": "stdout",
     "output_type": "stream",
     "text": [
      "loss tf.Tensor(0.0, shape=(), dtype=float32)\n",
      "loss tf.Tensor(0.0, shape=(), dtype=float32)\n",
      "loss tf.Tensor(0.0, shape=(), dtype=float32)\n",
      "loss tf.Tensor(0.0, shape=(), dtype=float32)\n",
      "loss tf.Tensor(0.0, shape=(), dtype=float32)\n",
      "loss tf.Tensor(0.0, shape=(), dtype=float32)\n",
      "loss tf.Tensor(0.0, shape=(), dtype=float32)\n",
      "loss tf.Tensor(0.0, shape=(), dtype=float32)\n"
     ]
    },
    {
     "name": "stderr",
     "output_type": "stream",
     "text": [
      " 58%|█████▊    | 5772/10000 [02:53<02:00, 35.15it/s, episode_reward=0, running_reward=0]"
     ]
    },
    {
     "name": "stdout",
     "output_type": "stream",
     "text": [
      "loss tf.Tensor(0.0, shape=(), dtype=float32)\n",
      "loss tf.Tensor(0.0, shape=(), dtype=float32)\n",
      "loss tf.Tensor(0.0, shape=(), dtype=float32)\n",
      "loss tf.Tensor(0.0, shape=(), dtype=float32)\n",
      "loss tf.Tensor(0.0, shape=(), dtype=float32)\n",
      "loss tf.Tensor(0.0, shape=(), dtype=float32)\n",
      "loss tf.Tensor(0.0, shape=(), dtype=float32)\n",
      "loss tf.Tensor(0.0, shape=(), dtype=float32)\n"
     ]
    },
    {
     "name": "stderr",
     "output_type": "stream",
     "text": [
      " 58%|█████▊    | 5780/10000 [02:53<01:58, 35.63it/s, episode_reward=0, running_reward=0]"
     ]
    },
    {
     "name": "stdout",
     "output_type": "stream",
     "text": [
      "loss tf.Tensor(0.0, shape=(), dtype=float32)\n",
      "loss tf.Tensor(0.0, shape=(), dtype=float32)\n",
      "loss tf.Tensor(0.0, shape=(), dtype=float32)\n",
      "loss tf.Tensor(0.0, shape=(), dtype=float32)\n",
      "loss tf.Tensor(0.0, shape=(), dtype=float32)\n",
      "loss tf.Tensor(0.0, shape=(), dtype=float32)\n",
      "loss tf.Tensor(0.0, shape=(), dtype=float32)\n",
      "loss tf.Tensor(0.0, shape=(), dtype=float32)\n"
     ]
    },
    {
     "name": "stderr",
     "output_type": "stream",
     "text": [
      " 58%|█████▊    | 5780/10000 [02:54<01:58, 35.63it/s, episode_reward=0, running_reward=0]"
     ]
    },
    {
     "name": "stdout",
     "output_type": "stream",
     "text": [
      "loss tf.Tensor(0.0, shape=(), dtype=float32)\n",
      "loss tf.Tensor(0.0, shape=(), dtype=float32)\n"
     ]
    },
    {
     "name": "stderr",
     "output_type": "stream",
     "text": [
      " 58%|█████▊    | 5788/10000 [02:54<02:41, 26.01it/s, episode_reward=0, running_reward=0]"
     ]
    },
    {
     "name": "stdout",
     "output_type": "stream",
     "text": [
      "loss tf.Tensor(0.0, shape=(), dtype=float32)\n",
      "loss tf.Tensor(0.0, shape=(), dtype=float32)\n",
      "loss tf.Tensor(0.0, shape=(), dtype=float32)\n",
      "loss tf.Tensor(0.0, shape=(), dtype=float32)\n",
      "loss tf.Tensor(0.0, shape=(), dtype=float32)\n",
      "loss tf.Tensor(0.0, shape=(), dtype=float32)\n",
      "loss tf.Tensor(0.0, shape=(), dtype=float32)\n"
     ]
    },
    {
     "name": "stderr",
     "output_type": "stream",
     "text": [
      " 58%|█████▊    | 5796/10000 [02:54<02:17, 30.50it/s, episode_reward=0, running_reward=0]"
     ]
    },
    {
     "name": "stdout",
     "output_type": "stream",
     "text": [
      "loss tf.Tensor(0.0, shape=(), dtype=float32)\n",
      "loss tf.Tensor(0.0, shape=(), dtype=float32)\n",
      "loss tf.Tensor(0.0, shape=(), dtype=float32)\n",
      "loss tf.Tensor(0.0, shape=(), dtype=float32)\n",
      "loss tf.Tensor(0.0, shape=(), dtype=float32)\n",
      "loss tf.Tensor(0.0, shape=(), dtype=float32)\n",
      "loss tf.Tensor(0.0, shape=(), dtype=float32)\n",
      "loss tf.Tensor(0.0, shape=(), dtype=float32)\n"
     ]
    },
    {
     "name": "stderr",
     "output_type": "stream",
     "text": [
      " 58%|█████▊    | 5804/10000 [02:54<02:06, 33.22it/s, episode_reward=0, running_reward=0]"
     ]
    },
    {
     "name": "stdout",
     "output_type": "stream",
     "text": [
      "loss tf.Tensor(0.0, shape=(), dtype=float32)\n",
      "loss tf.Tensor(0.0, shape=(), dtype=float32)\n",
      "loss tf.Tensor(0.0, shape=(), dtype=float32)\n",
      "loss tf.Tensor(0.0, shape=(), dtype=float32)\n",
      "loss tf.Tensor(0.0, shape=(), dtype=float32)\n",
      "loss tf.Tensor(0.0, shape=(), dtype=float32)\n",
      "loss tf.Tensor(0.0, shape=(), dtype=float32)\n",
      "loss tf.Tensor(0.0, shape=(), dtype=float32)\n"
     ]
    },
    {
     "name": "stderr",
     "output_type": "stream",
     "text": [
      " 58%|█████▊    | 5812/10000 [02:54<02:01, 34.34it/s, episode_reward=0, running_reward=0]"
     ]
    },
    {
     "name": "stdout",
     "output_type": "stream",
     "text": [
      "loss tf.Tensor(0.0, shape=(), dtype=float32)\n",
      "loss tf.Tensor(0.0, shape=(), dtype=float32)\n",
      "loss tf.Tensor(0.0, shape=(), dtype=float32)\n",
      "loss tf.Tensor(0.0, shape=(), dtype=float32)\n",
      "loss tf.Tensor(0.0, shape=(), dtype=float32)\n",
      "loss tf.Tensor(0.0, shape=(), dtype=float32)\n",
      "loss tf.Tensor(0.0, shape=(), dtype=float32)\n",
      "loss tf.Tensor(0.0, shape=(), dtype=float32)\n"
     ]
    },
    {
     "name": "stderr",
     "output_type": "stream",
     "text": [
      " 58%|█████▊    | 5820/10000 [02:55<01:58, 35.35it/s, episode_reward=0, running_reward=0]"
     ]
    },
    {
     "name": "stdout",
     "output_type": "stream",
     "text": [
      "loss tf.Tensor(0.0, shape=(), dtype=float32)\n",
      "loss tf.Tensor(0.0, shape=(), dtype=float32)\n",
      "loss tf.Tensor(0.0, shape=(), dtype=float32)\n",
      "loss tf.Tensor(0.0, shape=(), dtype=float32)\n",
      "loss tf.Tensor(0.0, shape=(), dtype=float32)\n",
      "loss tf.Tensor(0.0, shape=(), dtype=float32)\n",
      "loss tf.Tensor(0.0, shape=(), dtype=float32)\n",
      "loss tf.Tensor(0.0, shape=(), dtype=float32)\n"
     ]
    },
    {
     "name": "stderr",
     "output_type": "stream",
     "text": [
      " 58%|█████▊    | 5828/10000 [02:55<01:57, 35.45it/s, episode_reward=0, running_reward=0]"
     ]
    },
    {
     "name": "stdout",
     "output_type": "stream",
     "text": [
      "loss tf.Tensor(0.0, shape=(), dtype=float32)\n",
      "loss tf.Tensor(0.0, shape=(), dtype=float32)\n",
      "loss tf.Tensor(0.0, shape=(), dtype=float32)\n",
      "loss tf.Tensor(0.0, shape=(), dtype=float32)\n",
      "loss tf.Tensor(0.0, shape=(), dtype=float32)\n",
      "loss tf.Tensor(0.0, shape=(), dtype=float32)\n",
      "loss tf.Tensor(0.0, shape=(), dtype=float32)\n",
      "loss tf.Tensor(0.0, shape=(), dtype=float32)\n"
     ]
    },
    {
     "name": "stderr",
     "output_type": "stream",
     "text": [
      " 58%|█████▊    | 5836/10000 [02:55<02:32, 27.24it/s, episode_reward=0, running_reward=0]"
     ]
    },
    {
     "name": "stdout",
     "output_type": "stream",
     "text": [
      "loss tf.Tensor(0.0, shape=(), dtype=float32)\n",
      "loss tf.Tensor(0.0, shape=(), dtype=float32)\n",
      "loss tf.Tensor(0.0, shape=(), dtype=float32)\n",
      "loss tf.Tensor(0.0, shape=(), dtype=float32)\n",
      "loss tf.Tensor(0.0, shape=(), dtype=float32)\n",
      "loss tf.Tensor(0.0, shape=(), dtype=float32)\n",
      "loss tf.Tensor(0.0, shape=(), dtype=float32)\n"
     ]
    },
    {
     "name": "stderr",
     "output_type": "stream",
     "text": [
      " 58%|█████▊    | 5844/10000 [02:55<02:13, 31.08it/s, episode_reward=0, running_reward=0]"
     ]
    },
    {
     "name": "stdout",
     "output_type": "stream",
     "text": [
      "loss tf.Tensor(0.0, shape=(), dtype=float32)\n",
      "loss tf.Tensor(0.0, shape=(), dtype=float32)\n",
      "loss tf.Tensor(0.0, shape=(), dtype=float32)\n",
      "loss tf.Tensor(0.0, shape=(), dtype=float32)\n",
      "loss tf.Tensor(0.0, shape=(), dtype=float32)\n",
      "loss tf.Tensor(0.0, shape=(), dtype=float32)\n",
      "loss tf.Tensor(0.0, shape=(), dtype=float32)\n",
      "loss tf.Tensor(0.0, shape=(), dtype=float32)\n"
     ]
    },
    {
     "name": "stderr",
     "output_type": "stream",
     "text": [
      " 59%|█████▊    | 5852/10000 [02:56<02:04, 33.21it/s, episode_reward=0, running_reward=0]"
     ]
    },
    {
     "name": "stdout",
     "output_type": "stream",
     "text": [
      "loss tf.Tensor(0.0, shape=(), dtype=float32)\n",
      "loss tf.Tensor(0.0, shape=(), dtype=float32)\n",
      "loss tf.Tensor(0.0, shape=(), dtype=float32)\n",
      "loss tf.Tensor(0.0, shape=(), dtype=float32)\n",
      "loss tf.Tensor(0.0, shape=(), dtype=float32)\n",
      "loss tf.Tensor(0.0, shape=(), dtype=float32)\n",
      "loss tf.Tensor(0.0, shape=(), dtype=float32)\n",
      "loss tf.Tensor(0.0, shape=(), dtype=float32)\n"
     ]
    },
    {
     "name": "stderr",
     "output_type": "stream",
     "text": [
      " 59%|█████▊    | 5860/10000 [02:56<02:02, 33.75it/s, episode_reward=0, running_reward=0]"
     ]
    },
    {
     "name": "stdout",
     "output_type": "stream",
     "text": [
      "loss tf.Tensor(0.0, shape=(), dtype=float32)\n",
      "loss tf.Tensor(0.0, shape=(), dtype=float32)\n",
      "loss tf.Tensor(0.0, shape=(), dtype=float32)\n",
      "loss tf.Tensor(0.0, shape=(), dtype=float32)\n",
      "loss tf.Tensor(0.0, shape=(), dtype=float32)\n",
      "loss tf.Tensor(0.0, shape=(), dtype=float32)\n",
      "loss tf.Tensor(0.0, shape=(), dtype=float32)\n"
     ]
    },
    {
     "name": "stderr",
     "output_type": "stream",
     "text": [
      " 59%|█████▊    | 5868/10000 [02:56<01:57, 35.12it/s, episode_reward=0, running_reward=0]"
     ]
    },
    {
     "name": "stdout",
     "output_type": "stream",
     "text": [
      "loss tf.Tensor(0.0, shape=(), dtype=float32)\n",
      "loss tf.Tensor(0.0, shape=(), dtype=float32)\n",
      "loss tf.Tensor(0.0, shape=(), dtype=float32)\n",
      "loss tf.Tensor(0.0, shape=(), dtype=float32)\n",
      "loss tf.Tensor(0.0, shape=(), dtype=float32)\n",
      "loss tf.Tensor(0.0, shape=(), dtype=float32)\n",
      "loss tf.Tensor(0.0, shape=(), dtype=float32)\n",
      "loss tf.Tensor(0.0, shape=(), dtype=float32)\n"
     ]
    },
    {
     "name": "stderr",
     "output_type": "stream",
     "text": [
      " 59%|█████▉    | 5876/10000 [02:56<01:56, 35.39it/s, episode_reward=0, running_reward=0]"
     ]
    },
    {
     "name": "stdout",
     "output_type": "stream",
     "text": [
      "loss tf.Tensor(0.0, shape=(), dtype=float32)\n",
      "loss tf.Tensor(0.0, shape=(), dtype=float32)\n",
      "loss tf.Tensor(0.0, shape=(), dtype=float32)\n",
      "loss tf.Tensor(0.0, shape=(), dtype=float32)\n",
      "loss tf.Tensor(0.0, shape=(), dtype=float32)\n",
      "loss tf.Tensor(0.0, shape=(), dtype=float32)\n",
      "loss tf.Tensor(0.0, shape=(), dtype=float32)\n",
      "loss tf.Tensor(0.0, shape=(), dtype=float32)\n"
     ]
    },
    {
     "name": "stderr",
     "output_type": "stream",
     "text": [
      " 59%|█████▉    | 5884/10000 [02:57<01:55, 35.50it/s, episode_reward=0, running_reward=0]"
     ]
    },
    {
     "name": "stdout",
     "output_type": "stream",
     "text": [
      "loss tf.Tensor(0.0, shape=(), dtype=float32)\n",
      "loss tf.Tensor(0.0, shape=(), dtype=float32)\n",
      "loss tf.Tensor(0.0, shape=(), dtype=float32)\n",
      "loss tf.Tensor(0.0, shape=(), dtype=float32)\n",
      "loss tf.Tensor(0.0, shape=(), dtype=float32)\n",
      "loss tf.Tensor(0.0, shape=(), dtype=float32)\n",
      "loss tf.Tensor(0.0, shape=(), dtype=float32)\n",
      "loss tf.Tensor(0.0, shape=(), dtype=float32)\n"
     ]
    },
    {
     "name": "stderr",
     "output_type": "stream",
     "text": [
      " 59%|█████▉    | 5892/10000 [02:57<01:55, 35.72it/s, episode_reward=0, running_reward=0]"
     ]
    },
    {
     "name": "stdout",
     "output_type": "stream",
     "text": [
      "loss tf.Tensor(0.0, shape=(), dtype=float32)\n",
      "loss tf.Tensor(0.0, shape=(), dtype=float32)\n",
      "loss tf.Tensor(0.0, shape=(), dtype=float32)\n",
      "loss tf.Tensor(0.0, shape=(), dtype=float32)\n",
      "loss tf.Tensor(0.0, shape=(), dtype=float32)\n",
      "loss tf.Tensor(0.0, shape=(), dtype=float32)\n",
      "loss tf.Tensor(0.0, shape=(), dtype=float32)\n",
      "loss tf.Tensor(0.0, shape=(), dtype=float32)\n"
     ]
    },
    {
     "name": "stderr",
     "output_type": "stream",
     "text": [
      " 59%|█████▉    | 5896/10000 [02:57<02:24, 28.38it/s, episode_reward=0, running_reward=0]"
     ]
    },
    {
     "name": "stdout",
     "output_type": "stream",
     "text": [
      "loss tf.Tensor(0.0, shape=(), dtype=float32)\n",
      "loss tf.Tensor(0.0, shape=(), dtype=float32)\n",
      "loss tf.Tensor(0.0, shape=(), dtype=float32)\n",
      "loss tf.Tensor(0.0, shape=(), dtype=float32)\n"
     ]
    },
    {
     "name": "stderr",
     "output_type": "stream",
     "text": [
      " 59%|█████▉    | 5900/10000 [02:57<02:39, 25.68it/s, episode_reward=0, running_reward=0]"
     ]
    },
    {
     "name": "stdout",
     "output_type": "stream",
     "text": [
      "loss tf.Tensor(0.0, shape=(), dtype=float32)\n",
      "loss tf.Tensor(0.0, shape=(), dtype=float32)\n",
      "loss tf.Tensor(0.0, shape=(), dtype=float32)\n",
      "loss tf.Tensor(0.0, shape=(), dtype=float32)\n",
      "loss tf.Tensor(0.0, shape=(), dtype=float32)\n",
      "loss tf.Tensor(0.0, shape=(), dtype=float32)\n"
     ]
    },
    {
     "name": "stderr",
     "output_type": "stream",
     "text": [
      " 59%|█████▉    | 5908/10000 [02:57<02:15, 30.29it/s, episode_reward=0, running_reward=0]"
     ]
    },
    {
     "name": "stdout",
     "output_type": "stream",
     "text": [
      "loss tf.Tensor(0.0, shape=(), dtype=float32)\n",
      "loss tf.Tensor(0.0, shape=(), dtype=float32)\n",
      "loss tf.Tensor(0.0, shape=(), dtype=float32)\n",
      "loss tf.Tensor(0.0, shape=(), dtype=float32)\n",
      "loss tf.Tensor(0.0, shape=(), dtype=float32)\n",
      "loss tf.Tensor(0.0, shape=(), dtype=float32)\n",
      "loss tf.Tensor(0.0, shape=(), dtype=float32)\n",
      "loss tf.Tensor(0.0, shape=(), dtype=float32)\n"
     ]
    },
    {
     "name": "stderr",
     "output_type": "stream",
     "text": [
      " 59%|█████▉    | 5916/10000 [02:58<02:04, 32.83it/s, episode_reward=0, running_reward=0]"
     ]
    },
    {
     "name": "stdout",
     "output_type": "stream",
     "text": [
      "loss tf.Tensor(0.0, shape=(), dtype=float32)\n",
      "loss tf.Tensor(0.0, shape=(), dtype=float32)\n",
      "loss tf.Tensor(0.0, shape=(), dtype=float32)\n",
      "loss tf.Tensor(0.0, shape=(), dtype=float32)\n",
      "loss tf.Tensor(0.0, shape=(), dtype=float32)\n",
      "loss tf.Tensor(0.0, shape=(), dtype=float32)\n",
      "loss tf.Tensor(0.0, shape=(), dtype=float32)\n",
      "loss tf.Tensor(0.0, shape=(), dtype=float32)\n"
     ]
    },
    {
     "name": "stderr",
     "output_type": "stream",
     "text": [
      " 59%|█████▉    | 5924/10000 [02:58<02:00, 33.85it/s, episode_reward=0, running_reward=0]"
     ]
    },
    {
     "name": "stdout",
     "output_type": "stream",
     "text": [
      "loss tf.Tensor(0.0, shape=(), dtype=float32)\n",
      "loss tf.Tensor(0.0, shape=(), dtype=float32)\n",
      "loss tf.Tensor(0.0, shape=(), dtype=float32)\n",
      "loss tf.Tensor(0.0, shape=(), dtype=float32)\n",
      "loss tf.Tensor(0.0, shape=(), dtype=float32)\n",
      "loss tf.Tensor(0.0, shape=(), dtype=float32)\n",
      "loss tf.Tensor(0.0, shape=(), dtype=float32)\n",
      "loss tf.Tensor(0.0, shape=(), dtype=float32)\n"
     ]
    },
    {
     "name": "stderr",
     "output_type": "stream",
     "text": [
      " 59%|█████▉    | 5932/10000 [02:58<01:58, 34.42it/s, episode_reward=0, running_reward=0]"
     ]
    },
    {
     "name": "stdout",
     "output_type": "stream",
     "text": [
      "loss tf.Tensor(0.0, shape=(), dtype=float32)\n",
      "loss tf.Tensor(0.0, shape=(), dtype=float32)\n",
      "loss tf.Tensor(0.0, shape=(), dtype=float32)\n",
      "loss tf.Tensor(0.0, shape=(), dtype=float32)\n",
      "loss tf.Tensor(0.0, shape=(), dtype=float32)\n",
      "loss tf.Tensor(0.0, shape=(), dtype=float32)\n",
      "loss tf.Tensor(0.0, shape=(), dtype=float32)\n",
      "loss tf.Tensor(0.0, shape=(), dtype=float32)\n"
     ]
    },
    {
     "name": "stderr",
     "output_type": "stream",
     "text": [
      " 59%|█████▉    | 5940/10000 [02:58<01:58, 34.32it/s, episode_reward=0, running_reward=0]"
     ]
    },
    {
     "name": "stdout",
     "output_type": "stream",
     "text": [
      "loss tf.Tensor(0.0, shape=(), dtype=float32)\n",
      "loss tf.Tensor(0.0, shape=(), dtype=float32)\n",
      "loss tf.Tensor(0.0, shape=(), dtype=float32)\n",
      "loss tf.Tensor(0.0, shape=(), dtype=float32)\n",
      "loss tf.Tensor(0.0, shape=(), dtype=float32)\n",
      "loss tf.Tensor(0.0, shape=(), dtype=float32)\n",
      "loss tf.Tensor(0.0, shape=(), dtype=float32)\n"
     ]
    },
    {
     "name": "stderr",
     "output_type": "stream",
     "text": [
      " 59%|█████▉    | 5948/10000 [02:59<01:55, 35.20it/s, episode_reward=0, running_reward=0]"
     ]
    },
    {
     "name": "stdout",
     "output_type": "stream",
     "text": [
      "loss tf.Tensor(0.0, shape=(), dtype=float32)\n",
      "loss tf.Tensor(0.0, shape=(), dtype=float32)\n",
      "loss tf.Tensor(0.0, shape=(), dtype=float32)\n",
      "loss tf.Tensor(0.0, shape=(), dtype=float32)\n",
      "loss tf.Tensor(0.0, shape=(), dtype=float32)\n",
      "loss tf.Tensor(0.0, shape=(), dtype=float32)\n",
      "loss tf.Tensor(0.0, shape=(), dtype=float32)\n",
      "loss tf.Tensor(0.0, shape=(), dtype=float32)\n"
     ]
    },
    {
     "name": "stderr",
     "output_type": "stream",
     "text": [
      " 60%|█████▉    | 5956/10000 [02:59<01:54, 35.41it/s, episode_reward=0, running_reward=0]"
     ]
    },
    {
     "name": "stdout",
     "output_type": "stream",
     "text": [
      "loss tf.Tensor(0.0, shape=(), dtype=float32)\n",
      "loss tf.Tensor(0.0, shape=(), dtype=float32)\n",
      "loss tf.Tensor(0.0, shape=(), dtype=float32)\n",
      "loss tf.Tensor(0.0, shape=(), dtype=float32)\n",
      "loss tf.Tensor(0.0, shape=(), dtype=float32)\n",
      "loss tf.Tensor(0.0, shape=(), dtype=float32)\n",
      "loss tf.Tensor(0.0, shape=(), dtype=float32)\n",
      "loss tf.Tensor(0.0, shape=(), dtype=float32)\n"
     ]
    },
    {
     "name": "stderr",
     "output_type": "stream",
     "text": [
      " 60%|█████▉    | 5960/10000 [02:59<01:56, 34.75it/s, episode_reward=0, running_reward=0]"
     ]
    },
    {
     "name": "stdout",
     "output_type": "stream",
     "text": [
      "loss tf.Tensor(0.0, shape=(), dtype=float32)\n",
      "loss tf.Tensor(0.0, shape=(), dtype=float32)\n",
      "loss tf.Tensor(0.0, shape=(), dtype=float32)\n",
      "loss tf.Tensor(0.0, shape=(), dtype=float32)\n"
     ]
    },
    {
     "name": "stderr",
     "output_type": "stream",
     "text": [
      " 60%|█████▉    | 5968/10000 [02:59<02:28, 27.06it/s, episode_reward=0, running_reward=0]"
     ]
    },
    {
     "name": "stdout",
     "output_type": "stream",
     "text": [
      "loss tf.Tensor(0.0, shape=(), dtype=float32)\n",
      "loss tf.Tensor(0.0, shape=(), dtype=float32)\n",
      "loss tf.Tensor(0.0, shape=(), dtype=float32)\n",
      "loss tf.Tensor(0.0, shape=(), dtype=float32)\n",
      "loss tf.Tensor(0.0, shape=(), dtype=float32)\n",
      "loss tf.Tensor(0.0, shape=(), dtype=float32)\n",
      "loss tf.Tensor(0.0, shape=(), dtype=float32)\n"
     ]
    },
    {
     "name": "stderr",
     "output_type": "stream",
     "text": [
      " 60%|█████▉    | 5976/10000 [03:00<02:13, 30.10it/s, episode_reward=0, running_reward=0]"
     ]
    },
    {
     "name": "stdout",
     "output_type": "stream",
     "text": [
      "loss tf.Tensor(0.0, shape=(), dtype=float32)\n",
      "loss tf.Tensor(0.0, shape=(), dtype=float32)\n",
      "loss tf.Tensor(0.0, shape=(), dtype=float32)\n",
      "loss tf.Tensor(0.0, shape=(), dtype=float32)\n",
      "loss tf.Tensor(0.0, shape=(), dtype=float32)\n",
      "loss tf.Tensor(0.0, shape=(), dtype=float32)\n",
      "loss tf.Tensor(0.0, shape=(), dtype=float32)\n",
      "loss tf.Tensor(0.0, shape=(), dtype=float32)\n"
     ]
    },
    {
     "name": "stderr",
     "output_type": "stream",
     "text": [
      " 60%|█████▉    | 5980/10000 [03:00<02:14, 29.89it/s, episode_reward=0, running_reward=0]"
     ]
    },
    {
     "name": "stdout",
     "output_type": "stream",
     "text": [
      "loss tf.Tensor(0.0, shape=(), dtype=float32)\n",
      "loss tf.Tensor(0.0, shape=(), dtype=float32)\n",
      "loss tf.Tensor(0.0, shape=(), dtype=float32)\n",
      "loss tf.Tensor(0.0, shape=(), dtype=float32)\n",
      "loss tf.Tensor(0.0, shape=(), dtype=float32)\n",
      "loss tf.Tensor(0.0, shape=(), dtype=float32)\n",
      "loss tf.Tensor(0.0, shape=(), dtype=float32)\n",
      "loss tf.Tensor(0.0, shape=(), dtype=float32)\n"
     ]
    },
    {
     "name": "stderr",
     "output_type": "stream",
     "text": [
      " 60%|█████▉    | 5992/10000 [03:00<01:59, 33.63it/s, episode_reward=0, running_reward=0]"
     ]
    },
    {
     "name": "stdout",
     "output_type": "stream",
     "text": [
      "loss tf.Tensor(0.0, shape=(), dtype=float32)\n",
      "loss tf.Tensor(0.0, shape=(), dtype=float32)\n",
      "loss tf.Tensor(0.0, shape=(), dtype=float32)\n",
      "loss tf.Tensor(0.0, shape=(), dtype=float32)\n",
      "loss tf.Tensor(0.0, shape=(), dtype=float32)\n",
      "loss tf.Tensor(0.0, shape=(), dtype=float32)\n",
      "loss tf.Tensor(0.0, shape=(), dtype=float32)\n",
      "loss tf.Tensor(0.0, shape=(), dtype=float32)\n"
     ]
    },
    {
     "name": "stderr",
     "output_type": "stream",
     "text": [
      " 60%|██████    | 6000/10000 [03:00<01:55, 34.61it/s, episode_reward=0, running_reward=0]"
     ]
    },
    {
     "name": "stdout",
     "output_type": "stream",
     "text": [
      "loss tf.Tensor(0.0, shape=(), dtype=float32)\n",
      "loss tf.Tensor(0.0, shape=(), dtype=float32)\n",
      "loss tf.Tensor(0.0, shape=(), dtype=float32)\n",
      "loss tf.Tensor(0.0, shape=(), dtype=float32)\n",
      "loss tf.Tensor(0.0, shape=(), dtype=float32)\n",
      "loss tf.Tensor(0.0, shape=(), dtype=float32)\n",
      "loss tf.Tensor(0.0, shape=(), dtype=float32)\n",
      "loss tf.Tensor(0.0, shape=(), dtype=float32)\n"
     ]
    },
    {
     "name": "stderr",
     "output_type": "stream",
     "text": [
      " 60%|██████    | 6008/10000 [03:00<01:52, 35.35it/s, episode_reward=0, running_reward=0]"
     ]
    },
    {
     "name": "stdout",
     "output_type": "stream",
     "text": [
      "loss tf.Tensor(0.0, shape=(), dtype=float32)\n",
      "loss tf.Tensor(0.0, shape=(), dtype=float32)\n",
      "loss tf.Tensor(0.0, shape=(), dtype=float32)\n",
      "loss tf.Tensor(0.0, shape=(), dtype=float32)\n",
      "loss tf.Tensor(0.0, shape=(), dtype=float32)\n",
      "loss tf.Tensor(0.0, shape=(), dtype=float32)\n",
      "loss tf.Tensor(0.0, shape=(), dtype=float32)\n",
      "loss tf.Tensor(0.0, shape=(), dtype=float32)\n"
     ]
    },
    {
     "name": "stderr",
     "output_type": "stream",
     "text": [
      " 60%|██████    | 6016/10000 [03:01<01:51, 35.74it/s, episode_reward=0, running_reward=0]"
     ]
    },
    {
     "name": "stdout",
     "output_type": "stream",
     "text": [
      "loss tf.Tensor(0.0, shape=(), dtype=float32)\n",
      "loss tf.Tensor(0.0, shape=(), dtype=float32)\n",
      "loss tf.Tensor(0.0, shape=(), dtype=float32)\n",
      "loss tf.Tensor(0.0, shape=(), dtype=float32)\n",
      "loss tf.Tensor(0.0, shape=(), dtype=float32)\n",
      "loss tf.Tensor(0.0, shape=(), dtype=float32)\n",
      "loss tf.Tensor(0.0, shape=(), dtype=float32)\n",
      "loss tf.Tensor(0.0, shape=(), dtype=float32)\n"
     ]
    },
    {
     "name": "stderr",
     "output_type": "stream",
     "text": [
      " 60%|██████    | 6024/10000 [03:01<01:51, 35.70it/s, episode_reward=0, running_reward=0]"
     ]
    },
    {
     "name": "stdout",
     "output_type": "stream",
     "text": [
      "loss tf.Tensor(0.0, shape=(), dtype=float32)\n",
      "loss tf.Tensor(0.0, shape=(), dtype=float32)\n",
      "loss tf.Tensor(0.0, shape=(), dtype=float32)\n",
      "loss tf.Tensor(0.0, shape=(), dtype=float32)\n",
      "loss tf.Tensor(0.0, shape=(), dtype=float32)\n",
      "loss tf.Tensor(0.0, shape=(), dtype=float32)\n",
      "loss tf.Tensor(0.0, shape=(), dtype=float32)\n",
      "loss tf.Tensor(0.0, shape=(), dtype=float32)\n"
     ]
    },
    {
     "name": "stderr",
     "output_type": "stream",
     "text": [
      " 60%|██████    | 6032/10000 [03:01<01:50, 36.00it/s, episode_reward=0, running_reward=0]"
     ]
    },
    {
     "name": "stdout",
     "output_type": "stream",
     "text": [
      "loss tf.Tensor(0.0, shape=(), dtype=float32)\n",
      "loss tf.Tensor(0.0, shape=(), dtype=float32)\n",
      "loss tf.Tensor(0.0, shape=(), dtype=float32)\n",
      "loss tf.Tensor(0.0, shape=(), dtype=float32)\n",
      "loss tf.Tensor(0.0, shape=(), dtype=float32)\n",
      "loss tf.Tensor(0.0, shape=(), dtype=float32)\n",
      "loss tf.Tensor(0.0, shape=(), dtype=float32)\n",
      "loss tf.Tensor(0.0, shape=(), dtype=float32)\n"
     ]
    },
    {
     "name": "stderr",
     "output_type": "stream",
     "text": [
      " 60%|██████    | 6036/10000 [03:01<02:29, 26.56it/s, episode_reward=0, running_reward=0]"
     ]
    },
    {
     "name": "stdout",
     "output_type": "stream",
     "text": [
      "loss tf.Tensor(0.0, shape=(), dtype=float32)\n",
      "loss tf.Tensor(0.0, shape=(), dtype=float32)\n",
      "loss tf.Tensor(0.0, shape=(), dtype=float32)\n",
      "loss tf.Tensor(0.0, shape=(), dtype=float32)\n",
      "loss tf.Tensor(0.0, shape=(), dtype=float32)\n",
      "loss tf.Tensor(0.0, shape=(), dtype=float32)\n"
     ]
    },
    {
     "name": "stderr",
     "output_type": "stream",
     "text": [
      " 60%|██████    | 6044/10000 [03:02<02:12, 29.91it/s, episode_reward=0, running_reward=0]"
     ]
    },
    {
     "name": "stdout",
     "output_type": "stream",
     "text": [
      "loss tf.Tensor(0.0, shape=(), dtype=float32)\n",
      "loss tf.Tensor(0.0, shape=(), dtype=float32)\n",
      "loss tf.Tensor(0.0, shape=(), dtype=float32)\n",
      "loss tf.Tensor(0.0, shape=(), dtype=float32)\n",
      "loss tf.Tensor(0.0, shape=(), dtype=float32)\n",
      "loss tf.Tensor(0.0, shape=(), dtype=float32)\n",
      "loss tf.Tensor(0.0, shape=(), dtype=float32)\n"
     ]
    },
    {
     "name": "stderr",
     "output_type": "stream",
     "text": [
      " 61%|██████    | 6052/10000 [03:02<02:00, 32.84it/s, episode_reward=0, running_reward=0]"
     ]
    },
    {
     "name": "stdout",
     "output_type": "stream",
     "text": [
      "loss tf.Tensor(0.0, shape=(), dtype=float32)\n",
      "loss tf.Tensor(0.0, shape=(), dtype=float32)\n",
      "loss tf.Tensor(0.0, shape=(), dtype=float32)\n",
      "loss tf.Tensor(0.0, shape=(), dtype=float32)\n",
      "loss tf.Tensor(0.0, shape=(), dtype=float32)\n",
      "loss tf.Tensor(0.0, shape=(), dtype=float32)\n",
      "loss tf.Tensor(0.0, shape=(), dtype=float32)\n",
      "loss tf.Tensor(0.0, shape=(), dtype=float32)\n"
     ]
    },
    {
     "name": "stderr",
     "output_type": "stream",
     "text": [
      " 61%|██████    | 6060/10000 [03:02<01:54, 34.28it/s, episode_reward=0, running_reward=0]"
     ]
    },
    {
     "name": "stdout",
     "output_type": "stream",
     "text": [
      "loss tf.Tensor(0.0, shape=(), dtype=float32)\n",
      "loss tf.Tensor(0.0, shape=(), dtype=float32)\n",
      "loss tf.Tensor(0.0, shape=(), dtype=float32)\n",
      "loss tf.Tensor(0.0, shape=(), dtype=float32)\n",
      "loss tf.Tensor(0.0, shape=(), dtype=float32)\n",
      "loss tf.Tensor(0.0, shape=(), dtype=float32)\n",
      "loss tf.Tensor(0.0, shape=(), dtype=float32)\n",
      "loss tf.Tensor(0.0, shape=(), dtype=float32)\n"
     ]
    },
    {
     "name": "stderr",
     "output_type": "stream",
     "text": [
      " 61%|██████    | 6068/10000 [03:02<01:53, 34.78it/s, episode_reward=0, running_reward=0]"
     ]
    },
    {
     "name": "stdout",
     "output_type": "stream",
     "text": [
      "loss tf.Tensor(0.0, shape=(), dtype=float32)\n",
      "loss tf.Tensor(0.0, shape=(), dtype=float32)\n",
      "loss tf.Tensor(0.0, shape=(), dtype=float32)\n",
      "loss tf.Tensor(0.0, shape=(), dtype=float32)\n",
      "loss tf.Tensor(0.0, shape=(), dtype=float32)\n",
      "loss tf.Tensor(0.0, shape=(), dtype=float32)\n",
      "loss tf.Tensor(0.0, shape=(), dtype=float32)\n",
      "loss tf.Tensor(0.0, shape=(), dtype=float32)\n"
     ]
    },
    {
     "name": "stderr",
     "output_type": "stream",
     "text": [
      " 61%|██████    | 6076/10000 [03:03<01:53, 34.55it/s, episode_reward=0, running_reward=0]"
     ]
    },
    {
     "name": "stdout",
     "output_type": "stream",
     "text": [
      "loss tf.Tensor(0.0, shape=(), dtype=float32)\n",
      "loss tf.Tensor(0.0, shape=(), dtype=float32)\n",
      "loss tf.Tensor(0.0, shape=(), dtype=float32)\n",
      "loss tf.Tensor(0.0, shape=(), dtype=float32)\n",
      "loss tf.Tensor(0.0, shape=(), dtype=float32)\n",
      "loss tf.Tensor(0.0, shape=(), dtype=float32)\n",
      "loss tf.Tensor(0.0, shape=(), dtype=float32)\n"
     ]
    },
    {
     "name": "stderr",
     "output_type": "stream",
     "text": [
      " 61%|██████    | 6084/10000 [03:03<01:50, 35.55it/s, episode_reward=0, running_reward=0]"
     ]
    },
    {
     "name": "stdout",
     "output_type": "stream",
     "text": [
      "loss tf.Tensor(0.0, shape=(), dtype=float32)\n",
      "loss tf.Tensor(0.0, shape=(), dtype=float32)\n",
      "loss tf.Tensor(0.0, shape=(), dtype=float32)\n",
      "loss tf.Tensor(0.0, shape=(), dtype=float32)\n",
      "loss tf.Tensor(0.0, shape=(), dtype=float32)\n",
      "loss tf.Tensor(0.0, shape=(), dtype=float32)\n",
      "loss tf.Tensor(0.0, shape=(), dtype=float32)\n",
      "loss tf.Tensor(0.0, shape=(), dtype=float32)\n"
     ]
    },
    {
     "name": "stderr",
     "output_type": "stream",
     "text": [
      " 61%|██████    | 6088/10000 [03:03<02:20, 27.87it/s, episode_reward=0, running_reward=0]"
     ]
    },
    {
     "name": "stdout",
     "output_type": "stream",
     "text": [
      "loss tf.Tensor(0.0, shape=(), dtype=float32)\n",
      "loss tf.Tensor(0.0, shape=(), dtype=float32)\n",
      "loss tf.Tensor(0.0, shape=(), dtype=float32)\n",
      "loss tf.Tensor(0.0, shape=(), dtype=float32)\n"
     ]
    },
    {
     "name": "stderr",
     "output_type": "stream",
     "text": [
      " 61%|██████    | 6092/10000 [03:03<02:24, 27.05it/s, episode_reward=0, running_reward=0]"
     ]
    },
    {
     "name": "stdout",
     "output_type": "stream",
     "text": [
      "loss tf.Tensor(0.0, shape=(), dtype=float32)\n",
      "loss tf.Tensor(0.0, shape=(), dtype=float32)\n",
      "loss tf.Tensor(0.0, shape=(), dtype=float32)\n",
      "loss tf.Tensor(0.0, shape=(), dtype=float32)\n",
      "loss tf.Tensor(0.0, shape=(), dtype=float32)\n",
      "loss tf.Tensor(0.0, shape=(), dtype=float32)\n"
     ]
    },
    {
     "name": "stderr",
     "output_type": "stream",
     "text": [
      " 61%|██████    | 6100/10000 [03:03<02:05, 30.95it/s, episode_reward=0, running_reward=0]"
     ]
    },
    {
     "name": "stdout",
     "output_type": "stream",
     "text": [
      "loss tf.Tensor(0.0, shape=(), dtype=float32)\n",
      "loss tf.Tensor(0.0, shape=(), dtype=float32)\n",
      "loss tf.Tensor(0.0, shape=(), dtype=float32)\n",
      "loss tf.Tensor(0.0, shape=(), dtype=float32)\n",
      "loss tf.Tensor(0.0, shape=(), dtype=float32)\n",
      "loss tf.Tensor(0.0, shape=(), dtype=float32)\n",
      "loss tf.Tensor(0.0, shape=(), dtype=float32)\n",
      "loss tf.Tensor(0.0, shape=(), dtype=float32)\n"
     ]
    },
    {
     "name": "stderr",
     "output_type": "stream",
     "text": [
      " 61%|██████    | 6108/10000 [03:04<01:57, 33.12it/s, episode_reward=0, running_reward=0]"
     ]
    },
    {
     "name": "stdout",
     "output_type": "stream",
     "text": [
      "loss tf.Tensor(0.0, shape=(), dtype=float32)\n",
      "loss tf.Tensor(0.0, shape=(), dtype=float32)\n",
      "loss tf.Tensor(0.0, shape=(), dtype=float32)\n",
      "loss tf.Tensor(0.0, shape=(), dtype=float32)\n",
      "loss tf.Tensor(0.0, shape=(), dtype=float32)\n",
      "loss tf.Tensor(0.0, shape=(), dtype=float32)\n",
      "loss tf.Tensor(0.0, shape=(), dtype=float32)\n",
      "loss tf.Tensor(0.0, shape=(), dtype=float32)\n"
     ]
    },
    {
     "name": "stderr",
     "output_type": "stream",
     "text": [
      " 61%|██████    | 6116/10000 [03:04<01:52, 34.61it/s, episode_reward=0, running_reward=0]"
     ]
    },
    {
     "name": "stdout",
     "output_type": "stream",
     "text": [
      "loss tf.Tensor(0.0, shape=(), dtype=float32)\n",
      "loss tf.Tensor(0.0, shape=(), dtype=float32)\n",
      "loss tf.Tensor(0.0, shape=(), dtype=float32)\n",
      "loss tf.Tensor(0.0, shape=(), dtype=float32)\n",
      "loss tf.Tensor(0.0, shape=(), dtype=float32)\n",
      "loss tf.Tensor(0.0, shape=(), dtype=float32)\n",
      "loss tf.Tensor(0.0, shape=(), dtype=float32)\n",
      "loss tf.Tensor(0.0, shape=(), dtype=float32)\n"
     ]
    },
    {
     "name": "stderr",
     "output_type": "stream",
     "text": [
      " 61%|██████    | 6124/10000 [03:04<01:51, 34.77it/s, episode_reward=0, running_reward=0]"
     ]
    },
    {
     "name": "stdout",
     "output_type": "stream",
     "text": [
      "loss tf.Tensor(0.0, shape=(), dtype=float32)\n",
      "loss tf.Tensor(0.0, shape=(), dtype=float32)\n",
      "loss tf.Tensor(0.0, shape=(), dtype=float32)\n",
      "loss tf.Tensor(0.0, shape=(), dtype=float32)\n",
      "loss tf.Tensor(0.0, shape=(), dtype=float32)\n",
      "loss tf.Tensor(0.0, shape=(), dtype=float32)\n",
      "loss tf.Tensor(0.0, shape=(), dtype=float32)\n"
     ]
    },
    {
     "name": "stderr",
     "output_type": "stream",
     "text": [
      " 61%|██████▏   | 6132/10000 [03:04<01:47, 35.82it/s, episode_reward=0, running_reward=0]"
     ]
    },
    {
     "name": "stdout",
     "output_type": "stream",
     "text": [
      "loss tf.Tensor(0.0, shape=(), dtype=float32)\n",
      "loss tf.Tensor(0.0, shape=(), dtype=float32)\n",
      "loss tf.Tensor(0.0, shape=(), dtype=float32)\n",
      "loss tf.Tensor(0.0, shape=(), dtype=float32)\n",
      "loss tf.Tensor(0.0, shape=(), dtype=float32)\n",
      "loss tf.Tensor(0.0, shape=(), dtype=float32)\n",
      "loss tf.Tensor(0.0, shape=(), dtype=float32)\n",
      "loss tf.Tensor(0.0, shape=(), dtype=float32)\n"
     ]
    },
    {
     "name": "stderr",
     "output_type": "stream",
     "text": [
      " 61%|██████▏   | 6136/10000 [03:04<01:49, 35.40it/s, episode_reward=0, running_reward=0]"
     ]
    },
    {
     "name": "stdout",
     "output_type": "stream",
     "text": [
      "loss tf.Tensor(0.0, shape=(), dtype=float32)\n",
      "loss tf.Tensor(0.0, shape=(), dtype=float32)\n",
      "loss tf.Tensor(0.0, shape=(), dtype=float32)\n",
      "loss tf.Tensor(0.0, shape=(), dtype=float32)\n"
     ]
    },
    {
     "name": "stderr",
     "output_type": "stream",
     "text": [
      " 61%|██████▏   | 6140/10000 [03:05<02:25, 26.45it/s, episode_reward=0, running_reward=0]"
     ]
    },
    {
     "name": "stdout",
     "output_type": "stream",
     "text": [
      "loss tf.Tensor(0.0, shape=(), dtype=float32)\n",
      "loss tf.Tensor(0.0, shape=(), dtype=float32)\n",
      "loss tf.Tensor(0.0, shape=(), dtype=float32)\n",
      "loss tf.Tensor(0.0, shape=(), dtype=float32)\n",
      "loss tf.Tensor(0.0, shape=(), dtype=float32)\n",
      "loss tf.Tensor(0.0, shape=(), dtype=float32)\n"
     ]
    },
    {
     "name": "stderr",
     "output_type": "stream",
     "text": [
      " 61%|██████▏   | 6148/10000 [03:05<02:09, 29.82it/s, episode_reward=0, running_reward=0]"
     ]
    },
    {
     "name": "stdout",
     "output_type": "stream",
     "text": [
      "loss tf.Tensor(0.0, shape=(), dtype=float32)\n",
      "loss tf.Tensor(0.0, shape=(), dtype=float32)\n",
      "loss tf.Tensor(0.0, shape=(), dtype=float32)\n",
      "loss tf.Tensor(0.0, shape=(), dtype=float32)\n",
      "loss tf.Tensor(0.0, shape=(), dtype=float32)\n",
      "loss tf.Tensor(0.0, shape=(), dtype=float32)\n",
      "loss tf.Tensor(0.0, shape=(), dtype=float32)\n",
      "loss tf.Tensor(0.0, shape=(), dtype=float32)\n"
     ]
    },
    {
     "name": "stderr",
     "output_type": "stream",
     "text": [
      " 62%|██████▏   | 6156/10000 [03:05<02:01, 31.61it/s, episode_reward=0, running_reward=0]"
     ]
    },
    {
     "name": "stdout",
     "output_type": "stream",
     "text": [
      "loss tf.Tensor(0.0, shape=(), dtype=float32)\n",
      "loss tf.Tensor(0.0, shape=(), dtype=float32)\n",
      "loss tf.Tensor(0.0, shape=(), dtype=float32)\n",
      "loss tf.Tensor(0.0, shape=(), dtype=float32)\n",
      "loss tf.Tensor(0.0, shape=(), dtype=float32)\n",
      "loss tf.Tensor(0.0, shape=(), dtype=float32)\n",
      "loss tf.Tensor(0.0, shape=(), dtype=float32)\n",
      "loss tf.Tensor(0.0, shape=(), dtype=float32)\n"
     ]
    },
    {
     "name": "stderr",
     "output_type": "stream",
     "text": [
      " 62%|██████▏   | 6164/10000 [03:05<01:55, 33.32it/s, episode_reward=0, running_reward=0]"
     ]
    },
    {
     "name": "stdout",
     "output_type": "stream",
     "text": [
      "loss tf.Tensor(0.0, shape=(), dtype=float32)\n",
      "loss tf.Tensor(0.0, shape=(), dtype=float32)\n",
      "loss tf.Tensor(0.0, shape=(), dtype=float32)\n",
      "loss tf.Tensor(0.0, shape=(), dtype=float32)\n",
      "loss tf.Tensor(0.0, shape=(), dtype=float32)\n",
      "loss tf.Tensor(0.0, shape=(), dtype=float32)\n",
      "loss tf.Tensor(0.0, shape=(), dtype=float32)\n",
      "loss tf.Tensor(0.0, shape=(), dtype=float32)\n"
     ]
    },
    {
     "name": "stderr",
     "output_type": "stream",
     "text": [
      " 62%|██████▏   | 6172/10000 [03:06<01:51, 34.42it/s, episode_reward=0, running_reward=0]"
     ]
    },
    {
     "name": "stdout",
     "output_type": "stream",
     "text": [
      "loss tf.Tensor(0.0, shape=(), dtype=float32)\n",
      "loss tf.Tensor(0.0, shape=(), dtype=float32)\n",
      "loss tf.Tensor(0.0, shape=(), dtype=float32)\n",
      "loss tf.Tensor(0.0, shape=(), dtype=float32)\n",
      "loss tf.Tensor(0.0, shape=(), dtype=float32)\n",
      "loss tf.Tensor(0.0, shape=(), dtype=float32)\n",
      "loss tf.Tensor(0.0, shape=(), dtype=float32)\n",
      "loss tf.Tensor(0.0, shape=(), dtype=float32)\n"
     ]
    },
    {
     "name": "stderr",
     "output_type": "stream",
     "text": [
      " 62%|██████▏   | 6176/10000 [03:06<01:49, 34.88it/s, episode_reward=0, running_reward=0]"
     ]
    },
    {
     "name": "stdout",
     "output_type": "stream",
     "text": [
      "loss tf.Tensor(0.0, shape=(), dtype=float32)\n",
      "loss tf.Tensor(0.0, shape=(), dtype=float32)\n"
     ]
    },
    {
     "name": "stderr",
     "output_type": "stream",
     "text": [
      " 62%|██████▏   | 6180/10000 [03:06<02:46, 22.94it/s, episode_reward=0, running_reward=0]"
     ]
    },
    {
     "name": "stdout",
     "output_type": "stream",
     "text": [
      "loss tf.Tensor(0.0, shape=(), dtype=float32)\n",
      "loss tf.Tensor(0.0, shape=(), dtype=float32)\n",
      "loss tf.Tensor(0.0, shape=(), dtype=float32)\n",
      "loss tf.Tensor(0.0, shape=(), dtype=float32)\n"
     ]
    },
    {
     "name": "stderr",
     "output_type": "stream",
     "text": [
      " 62%|██████▏   | 6187/10000 [03:06<02:36, 24.37it/s, episode_reward=0, running_reward=0]"
     ]
    },
    {
     "name": "stdout",
     "output_type": "stream",
     "text": [
      "loss tf.Tensor(0.0, shape=(), dtype=float32)\n",
      "loss tf.Tensor(0.0, shape=(), dtype=float32)\n",
      "loss tf.Tensor(0.0, shape=(), dtype=float32)\n",
      "loss tf.Tensor(0.0, shape=(), dtype=float32)\n",
      "loss tf.Tensor(0.0, shape=(), dtype=float32)\n",
      "loss tf.Tensor(0.0, shape=(), dtype=float32)\n",
      "loss tf.Tensor(0.0, shape=(), dtype=float32)\n",
      "loss tf.Tensor(0.0, shape=(), dtype=float32)\n"
     ]
    },
    {
     "name": "stderr",
     "output_type": "stream",
     "text": [
      " 62%|██████▏   | 6195/10000 [03:07<02:10, 29.14it/s, episode_reward=0, running_reward=0]"
     ]
    },
    {
     "name": "stdout",
     "output_type": "stream",
     "text": [
      "loss tf.Tensor(0.0, shape=(), dtype=float32)\n",
      "loss tf.Tensor(0.0, shape=(), dtype=float32)\n",
      "loss tf.Tensor(0.0, shape=(), dtype=float32)\n",
      "loss tf.Tensor(0.0, shape=(), dtype=float32)\n",
      "loss tf.Tensor(0.0, shape=(), dtype=float32)\n",
      "loss tf.Tensor(0.0, shape=(), dtype=float32)\n",
      "loss tf.Tensor(0.0, shape=(), dtype=float32)\n",
      "loss tf.Tensor(0.0, shape=(), dtype=float32)\n"
     ]
    },
    {
     "name": "stderr",
     "output_type": "stream",
     "text": [
      " 62%|██████▏   | 6203/10000 [03:07<01:58, 32.17it/s, episode_reward=0, running_reward=0]"
     ]
    },
    {
     "name": "stdout",
     "output_type": "stream",
     "text": [
      "loss tf.Tensor(0.0, shape=(), dtype=float32)\n",
      "loss tf.Tensor(0.0, shape=(), dtype=float32)\n",
      "loss tf.Tensor(0.0, shape=(), dtype=float32)\n",
      "loss tf.Tensor(0.0, shape=(), dtype=float32)\n",
      "loss tf.Tensor(0.0, shape=(), dtype=float32)\n",
      "loss tf.Tensor(0.0, shape=(), dtype=float32)\n",
      "loss tf.Tensor(0.0, shape=(), dtype=float32)\n",
      "loss tf.Tensor(0.0, shape=(), dtype=float32)\n"
     ]
    },
    {
     "name": "stderr",
     "output_type": "stream",
     "text": [
      " 62%|██████▏   | 6211/10000 [03:07<01:50, 34.21it/s, episode_reward=0, running_reward=0]"
     ]
    },
    {
     "name": "stdout",
     "output_type": "stream",
     "text": [
      "loss tf.Tensor(0.0, shape=(), dtype=float32)\n",
      "loss tf.Tensor(0.0, shape=(), dtype=float32)\n",
      "loss tf.Tensor(0.0, shape=(), dtype=float32)\n",
      "loss tf.Tensor(0.0, shape=(), dtype=float32)\n",
      "loss tf.Tensor(0.0, shape=(), dtype=float32)\n",
      "loss tf.Tensor(0.0, shape=(), dtype=float32)\n",
      "loss tf.Tensor(0.0, shape=(), dtype=float32)\n",
      "loss tf.Tensor(0.0, shape=(), dtype=float32)\n"
     ]
    },
    {
     "name": "stderr",
     "output_type": "stream",
     "text": [
      " 62%|██████▏   | 6218/10000 [03:07<02:30, 25.21it/s, episode_reward=0, running_reward=0]"
     ]
    },
    {
     "name": "stdout",
     "output_type": "stream",
     "text": [
      "loss tf.Tensor(0.0, shape=(), dtype=float32)\n",
      "loss tf.Tensor(0.0, shape=(), dtype=float32)\n",
      "loss tf.Tensor(0.0, shape=(), dtype=float32)\n",
      "loss tf.Tensor(0.0, shape=(), dtype=float32)\n",
      "loss tf.Tensor(0.0, shape=(), dtype=float32)\n",
      "loss tf.Tensor(0.0, shape=(), dtype=float32)\n",
      "loss tf.Tensor(0.0, shape=(), dtype=float32)\n"
     ]
    },
    {
     "name": "stderr",
     "output_type": "stream",
     "text": [
      " 62%|██████▏   | 6226/10000 [03:08<02:06, 29.82it/s, episode_reward=0, running_reward=0]"
     ]
    },
    {
     "name": "stdout",
     "output_type": "stream",
     "text": [
      "loss tf.Tensor(0.0, shape=(), dtype=float32)\n",
      "loss tf.Tensor(0.0, shape=(), dtype=float32)\n",
      "loss tf.Tensor(0.0, shape=(), dtype=float32)\n",
      "loss tf.Tensor(0.0, shape=(), dtype=float32)\n",
      "loss tf.Tensor(0.0, shape=(), dtype=float32)\n",
      "loss tf.Tensor(0.0, shape=(), dtype=float32)\n",
      "loss tf.Tensor(0.0, shape=(), dtype=float32)\n",
      "loss tf.Tensor(0.0, shape=(), dtype=float32)\n"
     ]
    },
    {
     "name": "stderr",
     "output_type": "stream",
     "text": [
      " 62%|██████▏   | 6234/10000 [03:08<01:58, 31.85it/s, episode_reward=0, running_reward=0]"
     ]
    },
    {
     "name": "stdout",
     "output_type": "stream",
     "text": [
      "loss tf.Tensor(0.0, shape=(), dtype=float32)\n",
      "loss tf.Tensor(0.0, shape=(), dtype=float32)\n",
      "loss tf.Tensor(0.0, shape=(), dtype=float32)\n",
      "loss tf.Tensor(0.0, shape=(), dtype=float32)\n",
      "loss tf.Tensor(0.0, shape=(), dtype=float32)\n",
      "loss tf.Tensor(0.0, shape=(), dtype=float32)\n",
      "loss tf.Tensor(0.0, shape=(), dtype=float32)\n",
      "loss tf.Tensor(0.0, shape=(), dtype=float32)\n"
     ]
    },
    {
     "name": "stderr",
     "output_type": "stream",
     "text": [
      " 62%|██████▏   | 6242/10000 [03:08<01:50, 33.90it/s, episode_reward=0, running_reward=0]"
     ]
    },
    {
     "name": "stdout",
     "output_type": "stream",
     "text": [
      "loss tf.Tensor(0.0, shape=(), dtype=float32)\n",
      "loss tf.Tensor(0.0, shape=(), dtype=float32)\n",
      "loss tf.Tensor(0.0, shape=(), dtype=float32)\n",
      "loss tf.Tensor(0.0, shape=(), dtype=float32)\n",
      "loss tf.Tensor(0.0, shape=(), dtype=float32)\n",
      "loss tf.Tensor(0.0, shape=(), dtype=float32)\n",
      "loss tf.Tensor(0.0, shape=(), dtype=float32)\n",
      "loss tf.Tensor(0.0, shape=(), dtype=float32)\n"
     ]
    },
    {
     "name": "stderr",
     "output_type": "stream",
     "text": [
      " 62%|██████▎   | 6250/10000 [03:08<01:52, 33.45it/s, episode_reward=0, running_reward=0]"
     ]
    },
    {
     "name": "stdout",
     "output_type": "stream",
     "text": [
      "loss tf.Tensor(0.0, shape=(), dtype=float32)\n",
      "loss tf.Tensor(0.0, shape=(), dtype=float32)\n",
      "loss tf.Tensor(0.0, shape=(), dtype=float32)\n",
      "loss tf.Tensor(0.0, shape=(), dtype=float32)\n",
      "loss tf.Tensor(0.0, shape=(), dtype=float32)\n",
      "loss tf.Tensor(0.0, shape=(), dtype=float32)\n"
     ]
    },
    {
     "name": "stderr",
     "output_type": "stream",
     "text": [
      " 63%|██████▎   | 6254/10000 [03:09<02:37, 23.81it/s, episode_reward=0, running_reward=0]"
     ]
    },
    {
     "name": "stdout",
     "output_type": "stream",
     "text": [
      "loss tf.Tensor(0.0, shape=(), dtype=float32)\n",
      "loss tf.Tensor(0.0, shape=(), dtype=float32)\n",
      "loss tf.Tensor(0.0, shape=(), dtype=float32)\n",
      "loss tf.Tensor(0.0, shape=(), dtype=float32)\n",
      "loss tf.Tensor(0.0, shape=(), dtype=float32)\n",
      "loss tf.Tensor(0.0, shape=(), dtype=float32)\n"
     ]
    },
    {
     "name": "stderr",
     "output_type": "stream",
     "text": [
      " 63%|██████▎   | 6262/10000 [03:09<02:08, 29.07it/s, episode_reward=0, running_reward=0]"
     ]
    },
    {
     "name": "stdout",
     "output_type": "stream",
     "text": [
      "loss tf.Tensor(0.0, shape=(), dtype=float32)\n",
      "loss tf.Tensor(0.0, shape=(), dtype=float32)\n",
      "loss tf.Tensor(0.0, shape=(), dtype=float32)\n",
      "loss tf.Tensor(0.0, shape=(), dtype=float32)\n",
      "loss tf.Tensor(0.0, shape=(), dtype=float32)\n",
      "loss tf.Tensor(0.0, shape=(), dtype=float32)\n",
      "loss tf.Tensor(0.0, shape=(), dtype=float32)\n",
      "loss tf.Tensor(0.0, shape=(), dtype=float32)\n"
     ]
    },
    {
     "name": "stderr",
     "output_type": "stream",
     "text": [
      " 63%|██████▎   | 6270/10000 [03:09<01:56, 31.97it/s, episode_reward=0, running_reward=0]"
     ]
    },
    {
     "name": "stdout",
     "output_type": "stream",
     "text": [
      "loss tf.Tensor(0.0, shape=(), dtype=float32)\n",
      "loss tf.Tensor(0.0, shape=(), dtype=float32)\n",
      "loss tf.Tensor(0.0, shape=(), dtype=float32)\n",
      "loss tf.Tensor(0.0, shape=(), dtype=float32)\n",
      "loss tf.Tensor(0.0, shape=(), dtype=float32)\n",
      "loss tf.Tensor(0.0, shape=(), dtype=float32)\n",
      "loss tf.Tensor(0.0, shape=(), dtype=float32)\n",
      "loss tf.Tensor(0.0, shape=(), dtype=float32)\n"
     ]
    },
    {
     "name": "stderr",
     "output_type": "stream",
     "text": [
      " 63%|██████▎   | 6278/10000 [03:09<01:50, 33.71it/s, episode_reward=0, running_reward=0]"
     ]
    },
    {
     "name": "stdout",
     "output_type": "stream",
     "text": [
      "loss tf.Tensor(0.0, shape=(), dtype=float32)\n",
      "loss tf.Tensor(0.0, shape=(), dtype=float32)\n",
      "loss tf.Tensor(0.0, shape=(), dtype=float32)\n",
      "loss tf.Tensor(0.0, shape=(), dtype=float32)\n",
      "loss tf.Tensor(0.0, shape=(), dtype=float32)\n",
      "loss tf.Tensor(0.0, shape=(), dtype=float32)\n",
      "loss tf.Tensor(0.0, shape=(), dtype=float32)\n",
      "loss tf.Tensor(0.0, shape=(), dtype=float32)\n"
     ]
    },
    {
     "name": "stderr",
     "output_type": "stream",
     "text": [
      " 63%|██████▎   | 6286/10000 [03:09<01:47, 34.65it/s, episode_reward=0, running_reward=0]"
     ]
    },
    {
     "name": "stdout",
     "output_type": "stream",
     "text": [
      "loss tf.Tensor(0.0, shape=(), dtype=float32)\n",
      "loss tf.Tensor(0.0, shape=(), dtype=float32)\n",
      "loss tf.Tensor(0.0, shape=(), dtype=float32)\n",
      "loss tf.Tensor(0.0, shape=(), dtype=float32)\n",
      "loss tf.Tensor(0.0, shape=(), dtype=float32)\n",
      "loss tf.Tensor(0.0, shape=(), dtype=float32)\n",
      "loss tf.Tensor(0.0, shape=(), dtype=float32)\n",
      "loss tf.Tensor(0.0, shape=(), dtype=float32)\n"
     ]
    },
    {
     "name": "stderr",
     "output_type": "stream",
     "text": [
      " 63%|██████▎   | 6290/10000 [03:10<01:46, 34.73it/s, episode_reward=0, running_reward=0]"
     ]
    },
    {
     "name": "stdout",
     "output_type": "stream",
     "text": [
      "loss tf.Tensor(0.0, shape=(), dtype=float32)\n",
      "loss tf.Tensor(0.0, shape=(), dtype=float32)\n",
      "loss tf.Tensor(0.0, shape=(), dtype=float32)\n"
     ]
    },
    {
     "name": "stderr",
     "output_type": "stream",
     "text": [
      " 63%|██████▎   | 6298/10000 [03:10<02:17, 26.96it/s, episode_reward=0, running_reward=0]"
     ]
    },
    {
     "name": "stdout",
     "output_type": "stream",
     "text": [
      "loss tf.Tensor(0.0, shape=(), dtype=float32)\n",
      "loss tf.Tensor(0.0, shape=(), dtype=float32)\n",
      "loss tf.Tensor(0.0, shape=(), dtype=float32)\n",
      "loss tf.Tensor(0.0, shape=(), dtype=float32)\n",
      "loss tf.Tensor(0.0, shape=(), dtype=float32)\n",
      "loss tf.Tensor(0.0, shape=(), dtype=float32)\n",
      "loss tf.Tensor(0.0, shape=(), dtype=float32)\n"
     ]
    },
    {
     "name": "stderr",
     "output_type": "stream",
     "text": [
      " 63%|██████▎   | 6306/10000 [03:10<01:59, 30.84it/s, episode_reward=0, running_reward=0]"
     ]
    },
    {
     "name": "stdout",
     "output_type": "stream",
     "text": [
      "loss tf.Tensor(0.0, shape=(), dtype=float32)\n",
      "loss tf.Tensor(0.0, shape=(), dtype=float32)\n",
      "loss tf.Tensor(0.0, shape=(), dtype=float32)\n",
      "loss tf.Tensor(0.0, shape=(), dtype=float32)\n",
      "loss tf.Tensor(0.0, shape=(), dtype=float32)\n",
      "loss tf.Tensor(0.0, shape=(), dtype=float32)\n",
      "loss tf.Tensor(0.0, shape=(), dtype=float32)\n",
      "loss tf.Tensor(0.0, shape=(), dtype=float32)\n"
     ]
    },
    {
     "name": "stderr",
     "output_type": "stream",
     "text": [
      " 63%|██████▎   | 6314/10000 [03:10<01:50, 33.45it/s, episode_reward=0, running_reward=0]"
     ]
    },
    {
     "name": "stdout",
     "output_type": "stream",
     "text": [
      "loss tf.Tensor(0.0, shape=(), dtype=float32)\n",
      "loss tf.Tensor(0.0, shape=(), dtype=float32)\n",
      "loss tf.Tensor(0.0, shape=(), dtype=float32)\n",
      "loss tf.Tensor(0.0, shape=(), dtype=float32)\n",
      "loss tf.Tensor(0.0, shape=(), dtype=float32)\n",
      "loss tf.Tensor(0.0, shape=(), dtype=float32)\n",
      "loss tf.Tensor(0.0, shape=(), dtype=float32)\n",
      "loss tf.Tensor(0.0, shape=(), dtype=float32)\n"
     ]
    },
    {
     "name": "stderr",
     "output_type": "stream",
     "text": [
      " 63%|██████▎   | 6322/10000 [03:11<01:46, 34.50it/s, episode_reward=0, running_reward=0]"
     ]
    },
    {
     "name": "stdout",
     "output_type": "stream",
     "text": [
      "loss tf.Tensor(0.0, shape=(), dtype=float32)\n",
      "loss tf.Tensor(0.0, shape=(), dtype=float32)\n",
      "loss tf.Tensor(0.0, shape=(), dtype=float32)\n",
      "loss tf.Tensor(0.0, shape=(), dtype=float32)\n",
      "loss tf.Tensor(0.0, shape=(), dtype=float32)\n",
      "loss tf.Tensor(0.0, shape=(), dtype=float32)\n",
      "loss tf.Tensor(0.0, shape=(), dtype=float32)\n",
      "loss tf.Tensor(0.0, shape=(), dtype=float32)\n"
     ]
    },
    {
     "name": "stderr",
     "output_type": "stream",
     "text": [
      " 63%|██████▎   | 6330/10000 [03:11<01:43, 35.30it/s, episode_reward=0, running_reward=0]"
     ]
    },
    {
     "name": "stdout",
     "output_type": "stream",
     "text": [
      "loss tf.Tensor(0.0, shape=(), dtype=float32)\n",
      "loss tf.Tensor(0.0, shape=(), dtype=float32)\n",
      "loss tf.Tensor(0.0, shape=(), dtype=float32)\n",
      "loss tf.Tensor(0.0, shape=(), dtype=float32)\n",
      "loss tf.Tensor(0.0, shape=(), dtype=float32)\n",
      "loss tf.Tensor(0.0, shape=(), dtype=float32)\n",
      "loss tf.Tensor(0.0, shape=(), dtype=float32)\n",
      "loss tf.Tensor(0.0, shape=(), dtype=float32)\n"
     ]
    },
    {
     "name": "stderr",
     "output_type": "stream",
     "text": [
      " 63%|██████▎   | 6338/10000 [03:11<01:44, 35.18it/s, episode_reward=0, running_reward=0]"
     ]
    },
    {
     "name": "stdout",
     "output_type": "stream",
     "text": [
      "loss tf.Tensor(0.0, shape=(), dtype=float32)\n",
      "loss tf.Tensor(0.0, shape=(), dtype=float32)\n",
      "loss tf.Tensor(0.0, shape=(), dtype=float32)\n",
      "loss tf.Tensor(0.0, shape=(), dtype=float32)\n",
      "loss tf.Tensor(0.0, shape=(), dtype=float32)\n",
      "loss tf.Tensor(0.0, shape=(), dtype=float32)\n",
      "loss tf.Tensor(0.0, shape=(), dtype=float32)\n",
      "loss tf.Tensor(0.0, shape=(), dtype=float32)\n"
     ]
    },
    {
     "name": "stderr",
     "output_type": "stream",
     "text": [
      " 63%|██████▎   | 6346/10000 [03:11<01:41, 35.97it/s, episode_reward=0, running_reward=0]"
     ]
    },
    {
     "name": "stdout",
     "output_type": "stream",
     "text": [
      "loss tf.Tensor(0.0, shape=(), dtype=float32)\n",
      "loss tf.Tensor(0.0, shape=(), dtype=float32)\n",
      "loss tf.Tensor(0.0, shape=(), dtype=float32)\n",
      "loss tf.Tensor(0.0, shape=(), dtype=float32)\n",
      "loss tf.Tensor(0.0, shape=(), dtype=float32)\n",
      "loss tf.Tensor(0.0, shape=(), dtype=float32)\n",
      "loss tf.Tensor(0.0, shape=(), dtype=float32)\n",
      "loss tf.Tensor(0.0, shape=(), dtype=float32)\n"
     ]
    },
    {
     "name": "stderr",
     "output_type": "stream",
     "text": [
      " 64%|██████▎   | 6354/10000 [03:12<01:42, 35.53it/s, episode_reward=0, running_reward=0]"
     ]
    },
    {
     "name": "stdout",
     "output_type": "stream",
     "text": [
      "loss tf.Tensor(0.0, shape=(), dtype=float32)\n",
      "loss tf.Tensor(0.0, shape=(), dtype=float32)\n",
      "loss tf.Tensor(0.0, shape=(), dtype=float32)\n",
      "loss tf.Tensor(0.0, shape=(), dtype=float32)\n",
      "loss tf.Tensor(0.0, shape=(), dtype=float32)\n",
      "loss tf.Tensor(0.0, shape=(), dtype=float32)\n",
      "loss tf.Tensor(0.0, shape=(), dtype=float32)\n",
      "loss tf.Tensor(0.0, shape=(), dtype=float32)\n"
     ]
    },
    {
     "name": "stderr",
     "output_type": "stream",
     "text": [
      " 64%|██████▎   | 6362/10000 [03:12<01:41, 35.71it/s, episode_reward=0, running_reward=0]"
     ]
    },
    {
     "name": "stdout",
     "output_type": "stream",
     "text": [
      "loss tf.Tensor(0.0, shape=(), dtype=float32)\n",
      "loss tf.Tensor(0.0, shape=(), dtype=float32)\n",
      "loss tf.Tensor(0.0, shape=(), dtype=float32)\n",
      "loss tf.Tensor(0.0, shape=(), dtype=float32)\n",
      "loss tf.Tensor(0.0, shape=(), dtype=float32)\n",
      "loss tf.Tensor(0.0, shape=(), dtype=float32)\n",
      "loss tf.Tensor(0.0, shape=(), dtype=float32)\n",
      "loss tf.Tensor(0.0, shape=(), dtype=float32)\n"
     ]
    },
    {
     "name": "stderr",
     "output_type": "stream",
     "text": [
      " 64%|██████▎   | 6370/10000 [03:12<01:41, 35.90it/s, episode_reward=0, running_reward=0]"
     ]
    },
    {
     "name": "stdout",
     "output_type": "stream",
     "text": [
      "loss tf.Tensor(0.0, shape=(), dtype=float32)\n",
      "loss tf.Tensor(0.0, shape=(), dtype=float32)\n",
      "loss tf.Tensor(0.0, shape=(), dtype=float32)\n",
      "loss tf.Tensor(0.0, shape=(), dtype=float32)\n",
      "loss tf.Tensor(0.0, shape=(), dtype=float32)\n",
      "loss tf.Tensor(0.0, shape=(), dtype=float32)\n",
      "loss tf.Tensor(0.0, shape=(), dtype=float32)\n",
      "loss tf.Tensor(0.0, shape=(), dtype=float32)\n"
     ]
    },
    {
     "name": "stderr",
     "output_type": "stream",
     "text": [
      " 64%|██████▍   | 6378/10000 [03:12<01:40, 36.09it/s, episode_reward=0, running_reward=0]"
     ]
    },
    {
     "name": "stdout",
     "output_type": "stream",
     "text": [
      "loss tf.Tensor(0.0, shape=(), dtype=float32)\n",
      "loss tf.Tensor(0.0, shape=(), dtype=float32)\n",
      "loss tf.Tensor(0.0, shape=(), dtype=float32)\n",
      "loss tf.Tensor(0.0, shape=(), dtype=float32)\n",
      "loss tf.Tensor(0.0, shape=(), dtype=float32)\n",
      "loss tf.Tensor(0.0, shape=(), dtype=float32)\n",
      "loss tf.Tensor(0.0, shape=(), dtype=float32)\n",
      "loss tf.Tensor(0.0, shape=(), dtype=float32)\n"
     ]
    },
    {
     "name": "stderr",
     "output_type": "stream",
     "text": [
      " 64%|██████▍   | 6382/10000 [03:12<01:43, 34.87it/s, episode_reward=0, running_reward=0]"
     ]
    },
    {
     "name": "stdout",
     "output_type": "stream",
     "text": [
      "loss tf.Tensor(0.0, shape=(), dtype=float32)\n",
      "loss tf.Tensor(0.0, shape=(), dtype=float32)\n",
      "loss tf.Tensor(0.0, shape=(), dtype=float32)\n",
      "loss tf.Tensor(0.0, shape=(), dtype=float32)\n",
      "loss tf.Tensor(0.0, shape=(), dtype=float32)\n",
      "loss tf.Tensor(0.0, shape=(), dtype=float32)\n",
      "loss tf.Tensor(0.0, shape=(), dtype=float32)\n"
     ]
    },
    {
     "name": "stderr",
     "output_type": "stream",
     "text": [
      " 64%|██████▍   | 6390/10000 [03:13<01:41, 35.53it/s, episode_reward=0, running_reward=0]"
     ]
    },
    {
     "name": "stdout",
     "output_type": "stream",
     "text": [
      "loss tf.Tensor(0.0, shape=(), dtype=float32)\n",
      "loss tf.Tensor(0.0, shape=(), dtype=float32)\n",
      "loss tf.Tensor(0.0, shape=(), dtype=float32)\n",
      "loss tf.Tensor(0.0, shape=(), dtype=float32)\n",
      "loss tf.Tensor(0.0, shape=(), dtype=float32)\n",
      "loss tf.Tensor(0.0, shape=(), dtype=float32)\n",
      "loss tf.Tensor(0.0, shape=(), dtype=float32)\n",
      "loss tf.Tensor(0.0, shape=(), dtype=float32)\n"
     ]
    },
    {
     "name": "stderr",
     "output_type": "stream",
     "text": [
      " 64%|██████▍   | 6398/10000 [03:13<01:42, 35.31it/s, episode_reward=0, running_reward=0]"
     ]
    },
    {
     "name": "stdout",
     "output_type": "stream",
     "text": [
      "loss tf.Tensor(0.0, shape=(), dtype=float32)\n",
      "loss tf.Tensor(0.0, shape=(), dtype=float32)\n",
      "loss tf.Tensor(0.0, shape=(), dtype=float32)\n",
      "loss tf.Tensor(0.0, shape=(), dtype=float32)\n",
      "loss tf.Tensor(0.0, shape=(), dtype=float32)\n",
      "loss tf.Tensor(0.0, shape=(), dtype=float32)\n",
      "loss tf.Tensor(0.0, shape=(), dtype=float32)\n",
      "loss tf.Tensor(0.0, shape=(), dtype=float32)\n"
     ]
    },
    {
     "name": "stderr",
     "output_type": "stream",
     "text": [
      " 64%|██████▍   | 6406/10000 [03:13<01:41, 35.56it/s, episode_reward=0, running_reward=0]"
     ]
    },
    {
     "name": "stdout",
     "output_type": "stream",
     "text": [
      "loss tf.Tensor(0.0, shape=(), dtype=float32)\n",
      "loss tf.Tensor(0.0, shape=(), dtype=float32)\n",
      "loss tf.Tensor(0.0, shape=(), dtype=float32)\n",
      "loss tf.Tensor(0.0, shape=(), dtype=float32)\n",
      "loss tf.Tensor(0.0, shape=(), dtype=float32)\n",
      "loss tf.Tensor(0.0, shape=(), dtype=float32)\n",
      "loss tf.Tensor(0.0, shape=(), dtype=float32)\n",
      "loss tf.Tensor(0.0, shape=(), dtype=float32)\n"
     ]
    },
    {
     "name": "stderr",
     "output_type": "stream",
     "text": [
      " 64%|██████▍   | 6410/10000 [03:13<01:40, 35.89it/s, episode_reward=0, running_reward=0]"
     ]
    },
    {
     "name": "stdout",
     "output_type": "stream",
     "text": [
      "loss tf.Tensor(0.0, shape=(), dtype=float32)\n",
      "loss tf.Tensor(0.0, shape=(), dtype=float32)\n",
      "loss tf.Tensor(0.0, shape=(), dtype=float32)\n",
      "loss tf.Tensor(0.0, shape=(), dtype=float32)\n"
     ]
    },
    {
     "name": "stderr",
     "output_type": "stream",
     "text": [
      " 64%|██████▍   | 6417/10000 [03:14<02:19, 25.76it/s, episode_reward=0, running_reward=0]"
     ]
    },
    {
     "name": "stdout",
     "output_type": "stream",
     "text": [
      "loss tf.Tensor(0.0, shape=(), dtype=float32)\n",
      "loss tf.Tensor(0.0, shape=(), dtype=float32)\n",
      "loss tf.Tensor(0.0, shape=(), dtype=float32)\n",
      "loss tf.Tensor(0.0, shape=(), dtype=float32)\n",
      "loss tf.Tensor(0.0, shape=(), dtype=float32)\n",
      "loss tf.Tensor(0.0, shape=(), dtype=float32)\n",
      "loss tf.Tensor(0.0, shape=(), dtype=float32)\n"
     ]
    },
    {
     "name": "stderr",
     "output_type": "stream",
     "text": [
      " 64%|██████▍   | 6425/10000 [03:14<01:57, 30.31it/s, episode_reward=0, running_reward=0]"
     ]
    },
    {
     "name": "stdout",
     "output_type": "stream",
     "text": [
      "loss tf.Tensor(0.0, shape=(), dtype=float32)\n",
      "loss tf.Tensor(0.0, shape=(), dtype=float32)\n",
      "loss tf.Tensor(0.0, shape=(), dtype=float32)\n",
      "loss tf.Tensor(0.0, shape=(), dtype=float32)\n",
      "loss tf.Tensor(0.0, shape=(), dtype=float32)\n",
      "loss tf.Tensor(0.0, shape=(), dtype=float32)\n",
      "loss tf.Tensor(0.0, shape=(), dtype=float32)\n",
      "loss tf.Tensor(0.0, shape=(), dtype=float32)\n"
     ]
    },
    {
     "name": "stderr",
     "output_type": "stream",
     "text": [
      " 64%|██████▍   | 6433/10000 [03:14<01:48, 32.98it/s, episode_reward=0, running_reward=0]"
     ]
    },
    {
     "name": "stdout",
     "output_type": "stream",
     "text": [
      "loss tf.Tensor(0.0, shape=(), dtype=float32)\n",
      "loss tf.Tensor(0.0, shape=(), dtype=float32)\n",
      "loss tf.Tensor(0.0, shape=(), dtype=float32)\n",
      "loss tf.Tensor(0.0, shape=(), dtype=float32)\n",
      "loss tf.Tensor(0.0, shape=(), dtype=float32)\n",
      "loss tf.Tensor(0.0, shape=(), dtype=float32)\n",
      "loss tf.Tensor(0.0, shape=(), dtype=float32)\n",
      "loss tf.Tensor(0.0, shape=(), dtype=float32)\n"
     ]
    },
    {
     "name": "stderr",
     "output_type": "stream",
     "text": [
      " 64%|██████▍   | 6441/10000 [03:14<01:44, 34.01it/s, episode_reward=0, running_reward=0]"
     ]
    },
    {
     "name": "stdout",
     "output_type": "stream",
     "text": [
      "loss tf.Tensor(0.0, shape=(), dtype=float32)\n",
      "loss tf.Tensor(0.0, shape=(), dtype=float32)\n",
      "loss tf.Tensor(0.0, shape=(), dtype=float32)\n",
      "loss tf.Tensor(0.0, shape=(), dtype=float32)\n",
      "loss tf.Tensor(0.0, shape=(), dtype=float32)\n",
      "loss tf.Tensor(0.0, shape=(), dtype=float32)\n",
      "loss tf.Tensor(0.0, shape=(), dtype=float32)\n",
      "loss tf.Tensor(0.0, shape=(), dtype=float32)\n"
     ]
    },
    {
     "name": "stderr",
     "output_type": "stream",
     "text": [
      " 64%|██████▍   | 6449/10000 [03:14<01:41, 34.99it/s, episode_reward=0, running_reward=0]"
     ]
    },
    {
     "name": "stdout",
     "output_type": "stream",
     "text": [
      "loss tf.Tensor(0.0, shape=(), dtype=float32)\n",
      "loss tf.Tensor(0.0, shape=(), dtype=float32)\n",
      "loss tf.Tensor(0.0, shape=(), dtype=float32)\n",
      "loss tf.Tensor(0.0, shape=(), dtype=float32)\n",
      "loss tf.Tensor(0.0, shape=(), dtype=float32)\n",
      "loss tf.Tensor(0.0, shape=(), dtype=float32)\n",
      "loss tf.Tensor(0.0, shape=(), dtype=float32)\n",
      "loss tf.Tensor(0.0, shape=(), dtype=float32)\n"
     ]
    },
    {
     "name": "stderr",
     "output_type": "stream",
     "text": [
      " 65%|██████▍   | 6457/10000 [03:15<02:13, 26.52it/s, episode_reward=0, running_reward=0]"
     ]
    },
    {
     "name": "stdout",
     "output_type": "stream",
     "text": [
      "loss tf.Tensor(0.0, shape=(), dtype=float32)\n",
      "loss tf.Tensor(0.0, shape=(), dtype=float32)\n",
      "loss tf.Tensor(0.0, shape=(), dtype=float32)\n",
      "loss tf.Tensor(0.0, shape=(), dtype=float32)\n",
      "loss tf.Tensor(0.0, shape=(), dtype=float32)\n",
      "loss tf.Tensor(0.0, shape=(), dtype=float32)\n",
      "loss tf.Tensor(0.0, shape=(), dtype=float32)\n",
      "loss tf.Tensor(0.0, shape=(), dtype=float32)\n"
     ]
    },
    {
     "name": "stderr",
     "output_type": "stream",
     "text": [
      " 65%|██████▍   | 6465/10000 [03:15<01:57, 30.02it/s, episode_reward=0, running_reward=0]"
     ]
    },
    {
     "name": "stdout",
     "output_type": "stream",
     "text": [
      "loss tf.Tensor(0.0, shape=(), dtype=float32)\n",
      "loss tf.Tensor(0.0, shape=(), dtype=float32)\n",
      "loss tf.Tensor(0.0, shape=(), dtype=float32)\n",
      "loss tf.Tensor(0.0, shape=(), dtype=float32)\n",
      "loss tf.Tensor(0.0, shape=(), dtype=float32)\n",
      "loss tf.Tensor(0.0, shape=(), dtype=float32)\n",
      "loss tf.Tensor(0.0, shape=(), dtype=float32)\n",
      "loss tf.Tensor(0.0, shape=(), dtype=float32)\n"
     ]
    },
    {
     "name": "stderr",
     "output_type": "stream",
     "text": [
      " 65%|██████▍   | 6473/10000 [03:15<01:48, 32.49it/s, episode_reward=0, running_reward=0]"
     ]
    },
    {
     "name": "stdout",
     "output_type": "stream",
     "text": [
      "loss tf.Tensor(0.0, shape=(), dtype=float32)\n",
      "loss tf.Tensor(0.0, shape=(), dtype=float32)\n",
      "loss tf.Tensor(0.0, shape=(), dtype=float32)\n",
      "loss tf.Tensor(0.0, shape=(), dtype=float32)\n",
      "loss tf.Tensor(0.0, shape=(), dtype=float32)\n",
      "loss tf.Tensor(0.0, shape=(), dtype=float32)\n",
      "loss tf.Tensor(0.0, shape=(), dtype=float32)\n",
      "loss tf.Tensor(0.0, shape=(), dtype=float32)\n"
     ]
    },
    {
     "name": "stderr",
     "output_type": "stream",
     "text": [
      " 65%|██████▍   | 6481/10000 [03:16<01:43, 34.10it/s, episode_reward=0, running_reward=0]"
     ]
    },
    {
     "name": "stdout",
     "output_type": "stream",
     "text": [
      "loss tf.Tensor(0.0, shape=(), dtype=float32)\n",
      "loss tf.Tensor(0.0, shape=(), dtype=float32)\n",
      "loss tf.Tensor(0.0, shape=(), dtype=float32)\n",
      "loss tf.Tensor(0.0, shape=(), dtype=float32)\n",
      "loss tf.Tensor(0.0, shape=(), dtype=float32)\n",
      "loss tf.Tensor(0.0, shape=(), dtype=float32)\n",
      "loss tf.Tensor(0.0, shape=(), dtype=float32)\n",
      "loss tf.Tensor(0.0, shape=(), dtype=float32)\n"
     ]
    },
    {
     "name": "stderr",
     "output_type": "stream",
     "text": [
      " 65%|██████▍   | 6489/10000 [03:16<01:40, 34.87it/s, episode_reward=0, running_reward=0]"
     ]
    },
    {
     "name": "stdout",
     "output_type": "stream",
     "text": [
      "loss tf.Tensor(0.0, shape=(), dtype=float32)\n",
      "loss tf.Tensor(0.0, shape=(), dtype=float32)\n",
      "loss tf.Tensor(0.0, shape=(), dtype=float32)\n",
      "loss tf.Tensor(0.0, shape=(), dtype=float32)\n",
      "loss tf.Tensor(0.0, shape=(), dtype=float32)\n",
      "loss tf.Tensor(0.0, shape=(), dtype=float32)\n",
      "loss tf.Tensor(0.0, shape=(), dtype=float32)\n",
      "loss tf.Tensor(0.0, shape=(), dtype=float32)\n"
     ]
    },
    {
     "name": "stderr",
     "output_type": "stream",
     "text": [
      " 65%|██████▍   | 6493/10000 [03:16<01:39, 35.18it/s, episode_reward=0, running_reward=0]"
     ]
    },
    {
     "name": "stdout",
     "output_type": "stream",
     "text": [
      "loss tf.Tensor(0.0, shape=(), dtype=float32)\n",
      "loss tf.Tensor(0.0, shape=(), dtype=float32)\n",
      "loss tf.Tensor(0.0, shape=(), dtype=float32)\n",
      "loss tf.Tensor(0.0, shape=(), dtype=float32)\n"
     ]
    },
    {
     "name": "stderr",
     "output_type": "stream",
     "text": [
      " 65%|██████▌   | 6500/10000 [03:16<02:14, 26.07it/s, episode_reward=0, running_reward=0]"
     ]
    },
    {
     "name": "stdout",
     "output_type": "stream",
     "text": [
      "loss tf.Tensor(0.0, shape=(), dtype=float32)\n",
      "loss tf.Tensor(0.0, shape=(), dtype=float32)\n",
      "loss tf.Tensor(0.0, shape=(), dtype=float32)\n",
      "loss tf.Tensor(0.0, shape=(), dtype=float32)\n",
      "loss tf.Tensor(0.0, shape=(), dtype=float32)\n",
      "loss tf.Tensor(0.0, shape=(), dtype=float32)\n",
      "loss tf.Tensor(0.0, shape=(), dtype=float32)\n"
     ]
    },
    {
     "name": "stderr",
     "output_type": "stream",
     "text": [
      " 65%|██████▌   | 6508/10000 [03:16<01:55, 30.13it/s, episode_reward=0, running_reward=0]"
     ]
    },
    {
     "name": "stdout",
     "output_type": "stream",
     "text": [
      "loss tf.Tensor(0.0, shape=(), dtype=float32)\n",
      "loss tf.Tensor(0.0, shape=(), dtype=float32)\n",
      "loss tf.Tensor(0.0, shape=(), dtype=float32)\n",
      "loss tf.Tensor(0.0, shape=(), dtype=float32)\n",
      "loss tf.Tensor(0.0, shape=(), dtype=float32)\n",
      "loss tf.Tensor(0.0, shape=(), dtype=float32)\n",
      "loss tf.Tensor(0.0, shape=(), dtype=float32)\n",
      "loss tf.Tensor(0.0, shape=(), dtype=float32)\n"
     ]
    },
    {
     "name": "stderr",
     "output_type": "stream",
     "text": [
      " 65%|██████▌   | 6516/10000 [03:17<01:44, 33.30it/s, episode_reward=0, running_reward=0]"
     ]
    },
    {
     "name": "stdout",
     "output_type": "stream",
     "text": [
      "loss tf.Tensor(0.0, shape=(), dtype=float32)\n",
      "loss tf.Tensor(0.0, shape=(), dtype=float32)\n",
      "loss tf.Tensor(0.0, shape=(), dtype=float32)\n",
      "loss tf.Tensor(0.0, shape=(), dtype=float32)\n",
      "loss tf.Tensor(0.0, shape=(), dtype=float32)\n",
      "loss tf.Tensor(0.0, shape=(), dtype=float32)\n",
      "loss tf.Tensor(0.0, shape=(), dtype=float32)\n",
      "loss tf.Tensor(0.0, shape=(), dtype=float32)\n"
     ]
    },
    {
     "name": "stderr",
     "output_type": "stream",
     "text": [
      " 65%|██████▌   | 6524/10000 [03:17<01:41, 34.35it/s, episode_reward=0, running_reward=0]"
     ]
    },
    {
     "name": "stdout",
     "output_type": "stream",
     "text": [
      "loss tf.Tensor(0.0, shape=(), dtype=float32)\n",
      "loss tf.Tensor(0.0, shape=(), dtype=float32)\n",
      "loss tf.Tensor(0.0, shape=(), dtype=float32)\n",
      "loss tf.Tensor(0.0, shape=(), dtype=float32)\n",
      "loss tf.Tensor(0.0, shape=(), dtype=float32)\n",
      "loss tf.Tensor(0.0, shape=(), dtype=float32)\n",
      "loss tf.Tensor(0.0, shape=(), dtype=float32)\n",
      "loss tf.Tensor(0.0, shape=(), dtype=float32)\n"
     ]
    },
    {
     "name": "stderr",
     "output_type": "stream",
     "text": [
      " 65%|██████▌   | 6532/10000 [03:17<01:39, 35.00it/s, episode_reward=0, running_reward=0]"
     ]
    },
    {
     "name": "stdout",
     "output_type": "stream",
     "text": [
      "loss tf.Tensor(0.0, shape=(), dtype=float32)\n",
      "loss tf.Tensor(0.0, shape=(), dtype=float32)\n",
      "loss tf.Tensor(0.0, shape=(), dtype=float32)\n",
      "loss tf.Tensor(0.0, shape=(), dtype=float32)\n",
      "loss tf.Tensor(0.0, shape=(), dtype=float32)\n",
      "loss tf.Tensor(0.0, shape=(), dtype=float32)\n",
      "loss tf.Tensor(0.0, shape=(), dtype=float32)\n",
      "loss tf.Tensor(0.0, shape=(), dtype=float32)\n"
     ]
    },
    {
     "name": "stderr",
     "output_type": "stream",
     "text": [
      " 65%|██████▌   | 6540/10000 [03:17<01:37, 35.54it/s, episode_reward=0, running_reward=0]"
     ]
    },
    {
     "name": "stdout",
     "output_type": "stream",
     "text": [
      "loss tf.Tensor(0.0, shape=(), dtype=float32)\n",
      "loss tf.Tensor(0.0, shape=(), dtype=float32)\n",
      "loss tf.Tensor(0.0, shape=(), dtype=float32)\n",
      "loss tf.Tensor(0.0, shape=(), dtype=float32)\n",
      "loss tf.Tensor(0.0, shape=(), dtype=float32)\n",
      "loss tf.Tensor(0.0, shape=(), dtype=float32)\n",
      "loss tf.Tensor(0.0, shape=(), dtype=float32)\n",
      "loss tf.Tensor(0.0, shape=(), dtype=float32)\n"
     ]
    },
    {
     "name": "stderr",
     "output_type": "stream",
     "text": [
      " 65%|██████▌   | 6544/10000 [03:18<01:36, 35.95it/s, episode_reward=0, running_reward=0]"
     ]
    },
    {
     "name": "stdout",
     "output_type": "stream",
     "text": [
      "loss tf.Tensor(0.0, shape=(), dtype=float32)\n",
      "loss tf.Tensor(0.0, shape=(), dtype=float32)\n"
     ]
    },
    {
     "name": "stderr",
     "output_type": "stream",
     "text": [
      " 66%|██████▌   | 6552/10000 [03:18<02:09, 26.62it/s, episode_reward=0, running_reward=0]"
     ]
    },
    {
     "name": "stdout",
     "output_type": "stream",
     "text": [
      "loss tf.Tensor(0.0, shape=(), dtype=float32)\n",
      "loss tf.Tensor(0.0, shape=(), dtype=float32)\n",
      "loss tf.Tensor(0.0, shape=(), dtype=float32)\n",
      "loss tf.Tensor(0.0, shape=(), dtype=float32)\n",
      "loss tf.Tensor(0.0, shape=(), dtype=float32)\n",
      "loss tf.Tensor(0.0, shape=(), dtype=float32)\n",
      "loss tf.Tensor(0.0, shape=(), dtype=float32)\n",
      "loss tf.Tensor(0.0, shape=(), dtype=float32)\n"
     ]
    },
    {
     "name": "stderr",
     "output_type": "stream",
     "text": [
      " 66%|██████▌   | 6560/10000 [03:18<01:51, 30.77it/s, episode_reward=0, running_reward=0]"
     ]
    },
    {
     "name": "stdout",
     "output_type": "stream",
     "text": [
      "loss tf.Tensor(0.0, shape=(), dtype=float32)\n",
      "loss tf.Tensor(0.0, shape=(), dtype=float32)\n",
      "loss tf.Tensor(0.0, shape=(), dtype=float32)\n",
      "loss tf.Tensor(0.0, shape=(), dtype=float32)\n",
      "loss tf.Tensor(0.0, shape=(), dtype=float32)\n",
      "loss tf.Tensor(0.0, shape=(), dtype=float32)\n",
      "loss tf.Tensor(0.0, shape=(), dtype=float32)\n",
      "loss tf.Tensor(0.0, shape=(), dtype=float32)\n"
     ]
    },
    {
     "name": "stderr",
     "output_type": "stream",
     "text": [
      " 66%|██████▌   | 6568/10000 [03:18<01:43, 33.27it/s, episode_reward=0, running_reward=0]"
     ]
    },
    {
     "name": "stdout",
     "output_type": "stream",
     "text": [
      "loss tf.Tensor(0.0, shape=(), dtype=float32)\n",
      "loss tf.Tensor(0.0, shape=(), dtype=float32)\n",
      "loss tf.Tensor(0.0, shape=(), dtype=float32)\n",
      "loss tf.Tensor(0.0, shape=(), dtype=float32)\n",
      "loss tf.Tensor(0.0, shape=(), dtype=float32)\n",
      "loss tf.Tensor(0.0, shape=(), dtype=float32)\n",
      "loss tf.Tensor(0.0, shape=(), dtype=float32)\n",
      "loss tf.Tensor(0.0, shape=(), dtype=float32)\n"
     ]
    },
    {
     "name": "stderr",
     "output_type": "stream",
     "text": [
      " 66%|██████▌   | 6576/10000 [03:18<01:39, 34.51it/s, episode_reward=0, running_reward=0]"
     ]
    },
    {
     "name": "stdout",
     "output_type": "stream",
     "text": [
      "loss tf.Tensor(0.0, shape=(), dtype=float32)\n",
      "loss tf.Tensor(0.0, shape=(), dtype=float32)\n",
      "loss tf.Tensor(0.0, shape=(), dtype=float32)\n",
      "loss tf.Tensor(0.0, shape=(), dtype=float32)\n",
      "loss tf.Tensor(0.0, shape=(), dtype=float32)\n",
      "loss tf.Tensor(0.0, shape=(), dtype=float32)\n",
      "loss tf.Tensor(0.0, shape=(), dtype=float32)\n",
      "loss tf.Tensor(0.0, shape=(), dtype=float32)\n"
     ]
    },
    {
     "name": "stderr",
     "output_type": "stream",
     "text": [
      " 66%|██████▌   | 6584/10000 [03:19<01:37, 35.18it/s, episode_reward=0, running_reward=0]"
     ]
    },
    {
     "name": "stdout",
     "output_type": "stream",
     "text": [
      "loss tf.Tensor(0.0, shape=(), dtype=float32)\n",
      "loss tf.Tensor(0.0, shape=(), dtype=float32)\n",
      "loss tf.Tensor(0.0, shape=(), dtype=float32)\n",
      "loss tf.Tensor(0.0, shape=(), dtype=float32)\n",
      "loss tf.Tensor(0.0, shape=(), dtype=float32)\n",
      "loss tf.Tensor(0.0, shape=(), dtype=float32)\n",
      "loss tf.Tensor(0.0, shape=(), dtype=float32)\n",
      "loss tf.Tensor(0.0, shape=(), dtype=float32)\n"
     ]
    },
    {
     "name": "stderr",
     "output_type": "stream",
     "text": [
      " 66%|██████▌   | 6588/10000 [03:19<02:06, 26.90it/s, episode_reward=0, running_reward=0]"
     ]
    },
    {
     "name": "stdout",
     "output_type": "stream",
     "text": [
      "loss tf.Tensor(0.0, shape=(), dtype=float32)\n",
      "loss tf.Tensor(0.0, shape=(), dtype=float32)\n",
      "loss tf.Tensor(0.0, shape=(), dtype=float32)\n",
      "loss tf.Tensor(0.0, shape=(), dtype=float32)\n",
      "loss tf.Tensor(0.0, shape=(), dtype=float32)\n",
      "loss tf.Tensor(0.0, shape=(), dtype=float32)\n"
     ]
    },
    {
     "name": "stderr",
     "output_type": "stream",
     "text": [
      " 66%|██████▌   | 6596/10000 [03:19<01:54, 29.72it/s, episode_reward=0, running_reward=0]"
     ]
    },
    {
     "name": "stdout",
     "output_type": "stream",
     "text": [
      "loss tf.Tensor(0.0, shape=(), dtype=float32)\n",
      "loss tf.Tensor(0.0, shape=(), dtype=float32)\n",
      "loss tf.Tensor(0.0, shape=(), dtype=float32)\n",
      "loss tf.Tensor(0.0, shape=(), dtype=float32)\n",
      "loss tf.Tensor(0.0, shape=(), dtype=float32)\n",
      "loss tf.Tensor(0.0, shape=(), dtype=float32)\n",
      "loss tf.Tensor(0.0, shape=(), dtype=float32)\n",
      "loss tf.Tensor(0.0, shape=(), dtype=float32)\n"
     ]
    },
    {
     "name": "stderr",
     "output_type": "stream",
     "text": [
      " 66%|██████▌   | 6604/10000 [03:19<01:43, 32.71it/s, episode_reward=0, running_reward=0]"
     ]
    },
    {
     "name": "stdout",
     "output_type": "stream",
     "text": [
      "loss tf.Tensor(0.0, shape=(), dtype=float32)\n",
      "loss tf.Tensor(0.0, shape=(), dtype=float32)\n",
      "loss tf.Tensor(0.0, shape=(), dtype=float32)\n",
      "loss tf.Tensor(0.0, shape=(), dtype=float32)\n",
      "loss tf.Tensor(0.0, shape=(), dtype=float32)\n",
      "loss tf.Tensor(0.0, shape=(), dtype=float32)\n",
      "loss tf.Tensor(0.0, shape=(), dtype=float32)\n",
      "loss tf.Tensor(0.0, shape=(), dtype=float32)\n"
     ]
    },
    {
     "name": "stderr",
     "output_type": "stream",
     "text": [
      " 66%|██████▌   | 6612/10000 [03:20<01:39, 34.04it/s, episode_reward=0, running_reward=0]"
     ]
    },
    {
     "name": "stdout",
     "output_type": "stream",
     "text": [
      "loss tf.Tensor(0.0, shape=(), dtype=float32)\n",
      "loss tf.Tensor(0.0, shape=(), dtype=float32)\n",
      "loss tf.Tensor(0.0, shape=(), dtype=float32)\n",
      "loss tf.Tensor(0.0, shape=(), dtype=float32)\n",
      "loss tf.Tensor(0.0, shape=(), dtype=float32)\n",
      "loss tf.Tensor(0.0, shape=(), dtype=float32)\n",
      "loss tf.Tensor(0.0, shape=(), dtype=float32)\n",
      "loss tf.Tensor(0.0, shape=(), dtype=float32)\n"
     ]
    },
    {
     "name": "stderr",
     "output_type": "stream",
     "text": [
      " 66%|██████▌   | 6620/10000 [03:20<01:37, 34.79it/s, episode_reward=0, running_reward=0]"
     ]
    },
    {
     "name": "stdout",
     "output_type": "stream",
     "text": [
      "loss tf.Tensor(0.0, shape=(), dtype=float32)\n",
      "loss tf.Tensor(0.0, shape=(), dtype=float32)\n",
      "loss tf.Tensor(0.0, shape=(), dtype=float32)\n",
      "loss tf.Tensor(0.0, shape=(), dtype=float32)\n",
      "loss tf.Tensor(0.0, shape=(), dtype=float32)\n",
      "loss tf.Tensor(0.0, shape=(), dtype=float32)\n",
      "loss tf.Tensor(0.0, shape=(), dtype=float32)\n",
      "loss tf.Tensor(0.0, shape=(), dtype=float32)\n"
     ]
    },
    {
     "name": "stderr",
     "output_type": "stream",
     "text": [
      " 66%|██████▋   | 6628/10000 [03:20<01:35, 35.38it/s, episode_reward=0, running_reward=0]"
     ]
    },
    {
     "name": "stdout",
     "output_type": "stream",
     "text": [
      "loss tf.Tensor(0.0, shape=(), dtype=float32)\n",
      "loss tf.Tensor(0.0, shape=(), dtype=float32)\n",
      "loss tf.Tensor(0.0, shape=(), dtype=float32)\n",
      "loss tf.Tensor(0.0, shape=(), dtype=float32)\n",
      "loss tf.Tensor(0.0, shape=(), dtype=float32)\n",
      "loss tf.Tensor(0.0, shape=(), dtype=float32)\n",
      "loss tf.Tensor(0.0, shape=(), dtype=float32)\n",
      "loss tf.Tensor(0.0, shape=(), dtype=float32)\n"
     ]
    },
    {
     "name": "stderr",
     "output_type": "stream",
     "text": [
      " 66%|██████▋   | 6632/10000 [03:20<01:34, 35.52it/s, episode_reward=0, running_reward=0]"
     ]
    },
    {
     "name": "stdout",
     "output_type": "stream",
     "text": [
      "loss tf.Tensor(0.0, shape=(), dtype=float32)\n",
      "loss tf.Tensor(0.0, shape=(), dtype=float32)\n",
      "loss tf.Tensor(0.0, shape=(), dtype=float32)\n"
     ]
    },
    {
     "name": "stderr",
     "output_type": "stream",
     "text": [
      " 66%|██████▋   | 6640/10000 [03:21<02:06, 26.64it/s, episode_reward=0, running_reward=0]"
     ]
    },
    {
     "name": "stdout",
     "output_type": "stream",
     "text": [
      "loss tf.Tensor(0.0, shape=(), dtype=float32)\n",
      "loss tf.Tensor(0.0, shape=(), dtype=float32)\n",
      "loss tf.Tensor(0.0, shape=(), dtype=float32)\n",
      "loss tf.Tensor(0.0, shape=(), dtype=float32)\n",
      "loss tf.Tensor(0.0, shape=(), dtype=float32)\n",
      "loss tf.Tensor(0.0, shape=(), dtype=float32)\n"
     ]
    },
    {
     "name": "stderr",
     "output_type": "stream",
     "text": [
      " 66%|██████▋   | 6648/10000 [03:21<01:48, 30.87it/s, episode_reward=0, running_reward=0]"
     ]
    },
    {
     "name": "stdout",
     "output_type": "stream",
     "text": [
      "loss tf.Tensor(0.0, shape=(), dtype=float32)\n",
      "loss tf.Tensor(0.0, shape=(), dtype=float32)\n",
      "loss tf.Tensor(0.0, shape=(), dtype=float32)\n",
      "loss tf.Tensor(0.0, shape=(), dtype=float32)\n",
      "loss tf.Tensor(0.0, shape=(), dtype=float32)\n",
      "loss tf.Tensor(0.0, shape=(), dtype=float32)\n",
      "loss tf.Tensor(0.0, shape=(), dtype=float32)\n",
      "loss tf.Tensor(0.0, shape=(), dtype=float32)\n"
     ]
    },
    {
     "name": "stderr",
     "output_type": "stream",
     "text": [
      " 67%|██████▋   | 6656/10000 [03:21<01:39, 33.52it/s, episode_reward=0, running_reward=0]"
     ]
    },
    {
     "name": "stdout",
     "output_type": "stream",
     "text": [
      "loss tf.Tensor(0.0, shape=(), dtype=float32)\n",
      "loss tf.Tensor(0.0, shape=(), dtype=float32)\n",
      "loss tf.Tensor(0.0, shape=(), dtype=float32)\n",
      "loss tf.Tensor(0.0, shape=(), dtype=float32)\n",
      "loss tf.Tensor(0.0, shape=(), dtype=float32)\n",
      "loss tf.Tensor(0.0, shape=(), dtype=float32)\n",
      "loss tf.Tensor(0.0, shape=(), dtype=float32)\n",
      "loss tf.Tensor(0.0, shape=(), dtype=float32)\n"
     ]
    },
    {
     "name": "stderr",
     "output_type": "stream",
     "text": [
      " 67%|██████▋   | 6664/10000 [03:21<01:36, 34.53it/s, episode_reward=0, running_reward=0]"
     ]
    },
    {
     "name": "stdout",
     "output_type": "stream",
     "text": [
      "loss tf.Tensor(0.0, shape=(), dtype=float32)\n",
      "loss tf.Tensor(0.0, shape=(), dtype=float32)\n",
      "loss tf.Tensor(0.0, shape=(), dtype=float32)\n",
      "loss tf.Tensor(0.0, shape=(), dtype=float32)\n",
      "loss tf.Tensor(0.0, shape=(), dtype=float32)\n",
      "loss tf.Tensor(0.0, shape=(), dtype=float32)\n",
      "loss tf.Tensor(0.0, shape=(), dtype=float32)\n",
      "loss tf.Tensor(0.0, shape=(), dtype=float32)\n"
     ]
    },
    {
     "name": "stderr",
     "output_type": "stream",
     "text": [
      " 67%|██████▋   | 6668/10000 [03:21<01:39, 33.63it/s, episode_reward=0, running_reward=0]"
     ]
    },
    {
     "name": "stdout",
     "output_type": "stream",
     "text": [
      "loss tf.Tensor(0.0, shape=(), dtype=float32)\n",
      "loss tf.Tensor(0.0, shape=(), dtype=float32)\n",
      "loss tf.Tensor(0.0, shape=(), dtype=float32)\n",
      "loss tf.Tensor(0.0, shape=(), dtype=float32)\n",
      "loss tf.Tensor(0.0, shape=(), dtype=float32)\n",
      "loss tf.Tensor(0.0, shape=(), dtype=float32)\n",
      "loss tf.Tensor(0.0, shape=(), dtype=float32)\n"
     ]
    },
    {
     "name": "stderr",
     "output_type": "stream",
     "text": [
      " 67%|██████▋   | 6672/10000 [03:22<01:35, 34.72it/s, episode_reward=0, running_reward=0]"
     ]
    },
    {
     "name": "stdout",
     "output_type": "stream",
     "text": [
      "loss tf.Tensor(0.0, shape=(), dtype=float32)\n",
      "loss tf.Tensor(0.0, shape=(), dtype=float32)\n",
      "loss tf.Tensor(0.0, shape=(), dtype=float32)\n",
      "loss tf.Tensor(0.0, shape=(), dtype=float32)\n"
     ]
    },
    {
     "name": "stderr",
     "output_type": "stream",
     "text": [
      " 67%|██████▋   | 6680/10000 [03:22<01:57, 28.21it/s, episode_reward=0, running_reward=0]"
     ]
    },
    {
     "name": "stdout",
     "output_type": "stream",
     "text": [
      "loss tf.Tensor(0.0, shape=(), dtype=float32)\n",
      "loss tf.Tensor(0.0, shape=(), dtype=float32)\n",
      "loss tf.Tensor(0.0, shape=(), dtype=float32)\n",
      "loss tf.Tensor(0.0, shape=(), dtype=float32)\n",
      "loss tf.Tensor(0.0, shape=(), dtype=float32)\n",
      "loss tf.Tensor(0.0, shape=(), dtype=float32)\n",
      "loss tf.Tensor(0.0, shape=(), dtype=float32)\n",
      "loss tf.Tensor(0.0, shape=(), dtype=float32)\n"
     ]
    },
    {
     "name": "stderr",
     "output_type": "stream",
     "text": [
      " 67%|██████▋   | 6688/10000 [03:22<01:44, 31.58it/s, episode_reward=0, running_reward=0]"
     ]
    },
    {
     "name": "stdout",
     "output_type": "stream",
     "text": [
      "loss tf.Tensor(0.0, shape=(), dtype=float32)\n",
      "loss tf.Tensor(0.0, shape=(), dtype=float32)\n",
      "loss tf.Tensor(0.0, shape=(), dtype=float32)\n",
      "loss tf.Tensor(0.0, shape=(), dtype=float32)\n",
      "loss tf.Tensor(0.0, shape=(), dtype=float32)\n",
      "loss tf.Tensor(0.0, shape=(), dtype=float32)\n",
      "loss tf.Tensor(0.0, shape=(), dtype=float32)\n",
      "loss tf.Tensor(0.0, shape=(), dtype=float32)\n"
     ]
    },
    {
     "name": "stderr",
     "output_type": "stream",
     "text": [
      " 67%|██████▋   | 6696/10000 [03:22<01:39, 33.34it/s, episode_reward=0, running_reward=0]"
     ]
    },
    {
     "name": "stdout",
     "output_type": "stream",
     "text": [
      "loss tf.Tensor(0.0, shape=(), dtype=float32)\n",
      "loss tf.Tensor(0.0, shape=(), dtype=float32)\n",
      "loss tf.Tensor(0.0, shape=(), dtype=float32)\n",
      "loss tf.Tensor(0.0, shape=(), dtype=float32)\n",
      "loss tf.Tensor(0.0, shape=(), dtype=float32)\n",
      "loss tf.Tensor(0.0, shape=(), dtype=float32)\n",
      "loss tf.Tensor(0.0, shape=(), dtype=float32)\n",
      "loss tf.Tensor(0.0, shape=(), dtype=float32)\n"
     ]
    },
    {
     "name": "stderr",
     "output_type": "stream",
     "text": [
      " 67%|██████▋   | 6704/10000 [03:23<01:35, 34.46it/s, episode_reward=0, running_reward=0]"
     ]
    },
    {
     "name": "stdout",
     "output_type": "stream",
     "text": [
      "loss tf.Tensor(0.0, shape=(), dtype=float32)\n",
      "loss tf.Tensor(0.0, shape=(), dtype=float32)\n",
      "loss tf.Tensor(0.0, shape=(), dtype=float32)\n",
      "loss tf.Tensor(0.0, shape=(), dtype=float32)\n",
      "loss tf.Tensor(0.0, shape=(), dtype=float32)\n",
      "loss tf.Tensor(0.0, shape=(), dtype=float32)\n",
      "loss tf.Tensor(0.0, shape=(), dtype=float32)\n",
      "loss tf.Tensor(0.0, shape=(), dtype=float32)\n"
     ]
    },
    {
     "name": "stderr",
     "output_type": "stream",
     "text": [
      " 67%|██████▋   | 6712/10000 [03:23<01:34, 34.84it/s, episode_reward=0, running_reward=0]"
     ]
    },
    {
     "name": "stdout",
     "output_type": "stream",
     "text": [
      "loss tf.Tensor(0.0, shape=(), dtype=float32)\n",
      "loss tf.Tensor(0.0, shape=(), dtype=float32)\n",
      "loss tf.Tensor(0.0, shape=(), dtype=float32)\n",
      "loss tf.Tensor(0.0, shape=(), dtype=float32)\n",
      "loss tf.Tensor(0.0, shape=(), dtype=float32)\n",
      "loss tf.Tensor(0.0, shape=(), dtype=float32)\n",
      "loss tf.Tensor(0.0, shape=(), dtype=float32)\n"
     ]
    },
    {
     "name": "stderr",
     "output_type": "stream",
     "text": [
      " 67%|██████▋   | 6720/10000 [03:23<02:05, 26.11it/s, episode_reward=0, running_reward=0]"
     ]
    },
    {
     "name": "stdout",
     "output_type": "stream",
     "text": [
      "loss tf.Tensor(0.0, shape=(), dtype=float32)\n",
      "loss tf.Tensor(0.0, shape=(), dtype=float32)\n",
      "loss tf.Tensor(0.0, shape=(), dtype=float32)\n",
      "loss tf.Tensor(0.0, shape=(), dtype=float32)\n",
      "loss tf.Tensor(0.0, shape=(), dtype=float32)\n",
      "loss tf.Tensor(0.0, shape=(), dtype=float32)\n",
      "loss tf.Tensor(0.0, shape=(), dtype=float32)\n"
     ]
    },
    {
     "name": "stderr",
     "output_type": "stream",
     "text": [
      " 67%|██████▋   | 6728/10000 [03:23<01:47, 30.46it/s, episode_reward=0, running_reward=0]"
     ]
    },
    {
     "name": "stdout",
     "output_type": "stream",
     "text": [
      "loss tf.Tensor(0.0, shape=(), dtype=float32)\n",
      "loss tf.Tensor(0.0, shape=(), dtype=float32)\n",
      "loss tf.Tensor(0.0, shape=(), dtype=float32)\n",
      "loss tf.Tensor(0.0, shape=(), dtype=float32)\n",
      "loss tf.Tensor(0.0, shape=(), dtype=float32)\n",
      "loss tf.Tensor(0.0, shape=(), dtype=float32)\n",
      "loss tf.Tensor(0.0, shape=(), dtype=float32)\n",
      "loss tf.Tensor(0.0, shape=(), dtype=float32)\n"
     ]
    },
    {
     "name": "stderr",
     "output_type": "stream",
     "text": [
      " 67%|██████▋   | 6736/10000 [03:24<01:38, 33.06it/s, episode_reward=0, running_reward=0]"
     ]
    },
    {
     "name": "stdout",
     "output_type": "stream",
     "text": [
      "loss tf.Tensor(0.0, shape=(), dtype=float32)\n",
      "loss tf.Tensor(0.0, shape=(), dtype=float32)\n",
      "loss tf.Tensor(0.0, shape=(), dtype=float32)\n",
      "loss tf.Tensor(0.0, shape=(), dtype=float32)\n",
      "loss tf.Tensor(0.0, shape=(), dtype=float32)\n",
      "loss tf.Tensor(0.0, shape=(), dtype=float32)\n",
      "loss tf.Tensor(0.0, shape=(), dtype=float32)\n",
      "loss tf.Tensor(0.0, shape=(), dtype=float32)\n"
     ]
    },
    {
     "name": "stderr",
     "output_type": "stream",
     "text": [
      " 67%|██████▋   | 6740/10000 [03:24<01:37, 33.42it/s, episode_reward=0, running_reward=0]"
     ]
    },
    {
     "name": "stdout",
     "output_type": "stream",
     "text": [
      "loss tf.Tensor(0.0, shape=(), dtype=float32)\n",
      "loss tf.Tensor(0.0, shape=(), dtype=float32)\n",
      "loss tf.Tensor(0.0, shape=(), dtype=float32)\n",
      "loss tf.Tensor(0.0, shape=(), dtype=float32)\n",
      "loss tf.Tensor(0.0, shape=(), dtype=float32)\n",
      "loss tf.Tensor(0.0, shape=(), dtype=float32)\n"
     ]
    },
    {
     "name": "stderr",
     "output_type": "stream",
     "text": [
      " 67%|██████▋   | 6748/10000 [03:24<02:04, 26.03it/s, episode_reward=0, running_reward=0]"
     ]
    },
    {
     "name": "stdout",
     "output_type": "stream",
     "text": [
      "loss tf.Tensor(0.0, shape=(), dtype=float32)\n",
      "loss tf.Tensor(0.0, shape=(), dtype=float32)\n",
      "loss tf.Tensor(0.0, shape=(), dtype=float32)\n",
      "loss tf.Tensor(0.0, shape=(), dtype=float32)\n",
      "loss tf.Tensor(0.0, shape=(), dtype=float32)\n",
      "loss tf.Tensor(0.0, shape=(), dtype=float32)\n",
      "loss tf.Tensor(0.0, shape=(), dtype=float32)\n",
      "loss tf.Tensor(0.0, shape=(), dtype=float32)\n"
     ]
    },
    {
     "name": "stderr",
     "output_type": "stream",
     "text": [
      " 68%|██████▊   | 6756/10000 [03:24<01:47, 30.31it/s, episode_reward=0, running_reward=0]"
     ]
    },
    {
     "name": "stdout",
     "output_type": "stream",
     "text": [
      "loss tf.Tensor(0.0, shape=(), dtype=float32)\n",
      "loss tf.Tensor(0.0, shape=(), dtype=float32)\n",
      "loss tf.Tensor(0.0, shape=(), dtype=float32)\n",
      "loss tf.Tensor(0.0, shape=(), dtype=float32)\n",
      "loss tf.Tensor(0.0, shape=(), dtype=float32)\n",
      "loss tf.Tensor(0.0, shape=(), dtype=float32)\n",
      "loss tf.Tensor(0.0, shape=(), dtype=float32)\n",
      "loss tf.Tensor(0.0, shape=(), dtype=float32)\n"
     ]
    },
    {
     "name": "stderr",
     "output_type": "stream",
     "text": [
      " 68%|██████▊   | 6764/10000 [03:25<01:39, 32.56it/s, episode_reward=0, running_reward=0]"
     ]
    },
    {
     "name": "stdout",
     "output_type": "stream",
     "text": [
      "loss tf.Tensor(0.0, shape=(), dtype=float32)\n",
      "loss tf.Tensor(0.0, shape=(), dtype=float32)\n",
      "loss tf.Tensor(0.0, shape=(), dtype=float32)\n",
      "loss tf.Tensor(0.0, shape=(), dtype=float32)\n",
      "loss tf.Tensor(0.0, shape=(), dtype=float32)\n",
      "loss tf.Tensor(0.0, shape=(), dtype=float32)\n",
      "loss tf.Tensor(0.0, shape=(), dtype=float32)\n",
      "loss tf.Tensor(0.0, shape=(), dtype=float32)\n"
     ]
    },
    {
     "name": "stderr",
     "output_type": "stream",
     "text": [
      " 68%|██████▊   | 6772/10000 [03:25<01:34, 34.17it/s, episode_reward=0, running_reward=0]"
     ]
    },
    {
     "name": "stdout",
     "output_type": "stream",
     "text": [
      "loss tf.Tensor(0.0, shape=(), dtype=float32)\n",
      "loss tf.Tensor(0.0, shape=(), dtype=float32)\n",
      "loss tf.Tensor(0.0, shape=(), dtype=float32)\n",
      "loss tf.Tensor(0.0, shape=(), dtype=float32)\n",
      "loss tf.Tensor(0.0, shape=(), dtype=float32)\n",
      "loss tf.Tensor(0.0, shape=(), dtype=float32)\n"
     ]
    },
    {
     "name": "stderr",
     "output_type": "stream",
     "text": [
      " 68%|██████▊   | 6780/10000 [03:25<02:02, 26.23it/s, episode_reward=0, running_reward=0]"
     ]
    },
    {
     "name": "stdout",
     "output_type": "stream",
     "text": [
      "loss tf.Tensor(0.0, shape=(), dtype=float32)\n",
      "loss tf.Tensor(0.0, shape=(), dtype=float32)\n",
      "loss tf.Tensor(0.0, shape=(), dtype=float32)\n",
      "loss tf.Tensor(0.0, shape=(), dtype=float32)\n",
      "loss tf.Tensor(0.0, shape=(), dtype=float32)\n",
      "loss tf.Tensor(0.0, shape=(), dtype=float32)\n",
      "loss tf.Tensor(0.0, shape=(), dtype=float32)\n"
     ]
    },
    {
     "name": "stderr",
     "output_type": "stream",
     "text": [
      " 68%|██████▊   | 6788/10000 [03:25<01:44, 30.76it/s, episode_reward=0, running_reward=0]"
     ]
    },
    {
     "name": "stdout",
     "output_type": "stream",
     "text": [
      "loss tf.Tensor(0.0, shape=(), dtype=float32)\n",
      "loss tf.Tensor(0.0, shape=(), dtype=float32)\n",
      "loss tf.Tensor(0.0, shape=(), dtype=float32)\n",
      "loss tf.Tensor(0.0, shape=(), dtype=float32)\n",
      "loss tf.Tensor(0.0, shape=(), dtype=float32)\n",
      "loss tf.Tensor(0.0, shape=(), dtype=float32)\n",
      "loss tf.Tensor(0.0, shape=(), dtype=float32)\n",
      "loss tf.Tensor(0.0, shape=(), dtype=float32)\n"
     ]
    },
    {
     "name": "stderr",
     "output_type": "stream",
     "text": [
      " 68%|██████▊   | 6796/10000 [03:26<01:35, 33.50it/s, episode_reward=0, running_reward=0]"
     ]
    },
    {
     "name": "stdout",
     "output_type": "stream",
     "text": [
      "loss tf.Tensor(0.0, shape=(), dtype=float32)\n",
      "loss tf.Tensor(0.0, shape=(), dtype=float32)\n",
      "loss tf.Tensor(0.0, shape=(), dtype=float32)\n",
      "loss tf.Tensor(0.0, shape=(), dtype=float32)\n",
      "loss tf.Tensor(0.0, shape=(), dtype=float32)\n",
      "loss tf.Tensor(0.0, shape=(), dtype=float32)\n",
      "loss tf.Tensor(0.0, shape=(), dtype=float32)\n",
      "loss tf.Tensor(0.0, shape=(), dtype=float32)\n"
     ]
    },
    {
     "name": "stderr",
     "output_type": "stream",
     "text": [
      " 68%|██████▊   | 6800/10000 [03:26<01:34, 33.70it/s, episode_reward=0, running_reward=0]"
     ]
    },
    {
     "name": "stdout",
     "output_type": "stream",
     "text": [
      "loss tf.Tensor(0.0, shape=(), dtype=float32)\n",
      "loss tf.Tensor(0.0, shape=(), dtype=float32)\n",
      "loss tf.Tensor(0.0, shape=(), dtype=float32)\n",
      "loss tf.Tensor(0.0, shape=(), dtype=float32)\n",
      "loss tf.Tensor(0.0, shape=(), dtype=float32)\n",
      "loss tf.Tensor(0.0, shape=(), dtype=float32)\n",
      "loss tf.Tensor(0.0, shape=(), dtype=float32)\n",
      "loss tf.Tensor(0.0, shape=(), dtype=float32)\n"
     ]
    },
    {
     "name": "stderr",
     "output_type": "stream",
     "text": [
      " 68%|██████▊   | 6808/10000 [03:26<01:31, 34.77it/s, episode_reward=0, running_reward=0]"
     ]
    },
    {
     "name": "stdout",
     "output_type": "stream",
     "text": [
      "loss tf.Tensor(0.0, shape=(), dtype=float32)\n",
      "loss tf.Tensor(0.0, shape=(), dtype=float32)\n",
      "loss tf.Tensor(0.0, shape=(), dtype=float32)\n",
      "loss tf.Tensor(0.0, shape=(), dtype=float32)\n"
     ]
    },
    {
     "name": "stderr",
     "output_type": "stream",
     "text": [
      " 68%|██████▊   | 6812/10000 [03:26<02:12, 24.15it/s, episode_reward=0, running_reward=0]"
     ]
    },
    {
     "name": "stdout",
     "output_type": "stream",
     "text": [
      "loss tf.Tensor(0.0, shape=(), dtype=float32)\n",
      "loss tf.Tensor(0.0, shape=(), dtype=float32)\n",
      "loss tf.Tensor(0.0, shape=(), dtype=float32)\n",
      "loss tf.Tensor(0.0, shape=(), dtype=float32)\n",
      "loss tf.Tensor(0.0, shape=(), dtype=float32)\n",
      "loss tf.Tensor(0.0, shape=(), dtype=float32)\n"
     ]
    },
    {
     "name": "stderr",
     "output_type": "stream",
     "text": [
      " 68%|██████▊   | 6820/10000 [03:27<01:49, 28.92it/s, episode_reward=0, running_reward=0]"
     ]
    },
    {
     "name": "stdout",
     "output_type": "stream",
     "text": [
      "loss tf.Tensor(0.0, shape=(), dtype=float32)\n",
      "loss tf.Tensor(0.0, shape=(), dtype=float32)\n",
      "loss tf.Tensor(0.0, shape=(), dtype=float32)\n",
      "loss tf.Tensor(0.0, shape=(), dtype=float32)\n",
      "loss tf.Tensor(0.0, shape=(), dtype=float32)\n",
      "loss tf.Tensor(0.0, shape=(), dtype=float32)\n",
      "loss tf.Tensor(0.0, shape=(), dtype=float32)\n",
      "loss tf.Tensor(0.0, shape=(), dtype=float32)\n"
     ]
    },
    {
     "name": "stderr",
     "output_type": "stream",
     "text": [
      " 68%|██████▊   | 6828/10000 [03:27<01:41, 31.38it/s, episode_reward=0, running_reward=0]"
     ]
    },
    {
     "name": "stdout",
     "output_type": "stream",
     "text": [
      "loss tf.Tensor(0.0, shape=(), dtype=float32)\n",
      "loss tf.Tensor(0.0, shape=(), dtype=float32)\n",
      "loss tf.Tensor(0.0, shape=(), dtype=float32)\n",
      "loss tf.Tensor(0.0, shape=(), dtype=float32)\n",
      "loss tf.Tensor(0.0, shape=(), dtype=float32)\n",
      "loss tf.Tensor(0.0, shape=(), dtype=float32)\n",
      "loss tf.Tensor(0.0, shape=(), dtype=float32)\n"
     ]
    },
    {
     "name": "stderr",
     "output_type": "stream",
     "text": [
      " 68%|██████▊   | 6836/10000 [03:27<01:32, 34.11it/s, episode_reward=0, running_reward=0]"
     ]
    },
    {
     "name": "stdout",
     "output_type": "stream",
     "text": [
      "loss tf.Tensor(0.0, shape=(), dtype=float32)\n",
      "loss tf.Tensor(0.0, shape=(), dtype=float32)\n",
      "loss tf.Tensor(0.0, shape=(), dtype=float32)\n",
      "loss tf.Tensor(0.0, shape=(), dtype=float32)\n",
      "loss tf.Tensor(0.0, shape=(), dtype=float32)\n",
      "loss tf.Tensor(0.0, shape=(), dtype=float32)\n",
      "loss tf.Tensor(0.0, shape=(), dtype=float32)\n",
      "loss tf.Tensor(0.0, shape=(), dtype=float32)\n"
     ]
    },
    {
     "name": "stderr",
     "output_type": "stream",
     "text": [
      " 68%|██████▊   | 6844/10000 [03:27<01:30, 35.00it/s, episode_reward=0, running_reward=0]"
     ]
    },
    {
     "name": "stdout",
     "output_type": "stream",
     "text": [
      "loss tf.Tensor(0.0, shape=(), dtype=float32)\n",
      "loss tf.Tensor(0.0, shape=(), dtype=float32)\n",
      "loss tf.Tensor(0.0, shape=(), dtype=float32)\n",
      "loss tf.Tensor(0.0, shape=(), dtype=float32)\n",
      "loss tf.Tensor(0.0, shape=(), dtype=float32)\n",
      "loss tf.Tensor(0.0, shape=(), dtype=float32)\n",
      "loss tf.Tensor(0.0, shape=(), dtype=float32)\n",
      "loss tf.Tensor(0.0, shape=(), dtype=float32)\n"
     ]
    },
    {
     "name": "stderr",
     "output_type": "stream",
     "text": [
      " 69%|██████▊   | 6852/10000 [03:27<01:28, 35.74it/s, episode_reward=0, running_reward=0]"
     ]
    },
    {
     "name": "stdout",
     "output_type": "stream",
     "text": [
      "loss tf.Tensor(0.0, shape=(), dtype=float32)\n",
      "loss tf.Tensor(0.0, shape=(), dtype=float32)\n",
      "loss tf.Tensor(0.0, shape=(), dtype=float32)\n",
      "loss tf.Tensor(0.0, shape=(), dtype=float32)\n",
      "loss tf.Tensor(0.0, shape=(), dtype=float32)\n",
      "loss tf.Tensor(0.0, shape=(), dtype=float32)\n",
      "loss tf.Tensor(0.0, shape=(), dtype=float32)\n",
      "loss tf.Tensor(0.0, shape=(), dtype=float32)\n"
     ]
    },
    {
     "name": "stderr",
     "output_type": "stream",
     "text": [
      " 69%|██████▊   | 6852/10000 [03:28<01:28, 35.74it/s, episode_reward=0, running_reward=0]"
     ]
    },
    {
     "name": "stdout",
     "output_type": "stream",
     "text": [
      "loss tf.Tensor(0.0, shape=(), dtype=float32)\n",
      "loss tf.Tensor(0.0, shape=(), dtype=float32)\n"
     ]
    },
    {
     "name": "stderr",
     "output_type": "stream",
     "text": [
      " 69%|██████▊   | 6860/10000 [03:28<01:59, 26.23it/s, episode_reward=0, running_reward=0]"
     ]
    },
    {
     "name": "stdout",
     "output_type": "stream",
     "text": [
      "loss tf.Tensor(0.0, shape=(), dtype=float32)\n",
      "loss tf.Tensor(0.0, shape=(), dtype=float32)\n",
      "loss tf.Tensor(0.0, shape=(), dtype=float32)\n",
      "loss tf.Tensor(0.0, shape=(), dtype=float32)\n",
      "loss tf.Tensor(0.0, shape=(), dtype=float32)\n",
      "loss tf.Tensor(0.0, shape=(), dtype=float32)\n",
      "loss tf.Tensor(0.0, shape=(), dtype=float32)\n"
     ]
    },
    {
     "name": "stderr",
     "output_type": "stream",
     "text": [
      " 69%|██████▊   | 6868/10000 [03:28<01:42, 30.47it/s, episode_reward=0, running_reward=0]"
     ]
    },
    {
     "name": "stdout",
     "output_type": "stream",
     "text": [
      "loss tf.Tensor(0.0, shape=(), dtype=float32)\n",
      "loss tf.Tensor(0.0, shape=(), dtype=float32)\n",
      "loss tf.Tensor(0.0, shape=(), dtype=float32)\n",
      "loss tf.Tensor(0.0, shape=(), dtype=float32)\n",
      "loss tf.Tensor(0.0, shape=(), dtype=float32)\n",
      "loss tf.Tensor(0.0, shape=(), dtype=float32)\n",
      "loss tf.Tensor(0.0, shape=(), dtype=float32)\n",
      "loss tf.Tensor(0.0, shape=(), dtype=float32)\n"
     ]
    },
    {
     "name": "stderr",
     "output_type": "stream",
     "text": [
      " 69%|██████▉   | 6876/10000 [03:28<01:34, 33.04it/s, episode_reward=0, running_reward=0]"
     ]
    },
    {
     "name": "stdout",
     "output_type": "stream",
     "text": [
      "loss tf.Tensor(0.0, shape=(), dtype=float32)\n",
      "loss tf.Tensor(0.0, shape=(), dtype=float32)\n",
      "loss tf.Tensor(0.0, shape=(), dtype=float32)\n",
      "loss tf.Tensor(0.0, shape=(), dtype=float32)\n",
      "loss tf.Tensor(0.0, shape=(), dtype=float32)\n",
      "loss tf.Tensor(0.0, shape=(), dtype=float32)\n",
      "loss tf.Tensor(0.0, shape=(), dtype=float32)\n",
      "loss tf.Tensor(0.0, shape=(), dtype=float32)\n"
     ]
    },
    {
     "name": "stderr",
     "output_type": "stream",
     "text": [
      " 69%|██████▉   | 6884/10000 [03:28<01:30, 34.42it/s, episode_reward=0, running_reward=0]"
     ]
    },
    {
     "name": "stdout",
     "output_type": "stream",
     "text": [
      "loss tf.Tensor(0.0, shape=(), dtype=float32)\n",
      "loss tf.Tensor(0.0, shape=(), dtype=float32)\n",
      "loss tf.Tensor(0.0, shape=(), dtype=float32)\n",
      "loss tf.Tensor(0.0, shape=(), dtype=float32)\n",
      "loss tf.Tensor(0.0, shape=(), dtype=float32)\n",
      "loss tf.Tensor(0.0, shape=(), dtype=float32)\n",
      "loss tf.Tensor(0.0, shape=(), dtype=float32)\n",
      "loss tf.Tensor(0.0, shape=(), dtype=float32)\n"
     ]
    },
    {
     "name": "stderr",
     "output_type": "stream",
     "text": [
      " 69%|██████▉   | 6892/10000 [03:29<01:28, 35.15it/s, episode_reward=0, running_reward=0]"
     ]
    },
    {
     "name": "stdout",
     "output_type": "stream",
     "text": [
      "loss tf.Tensor(0.0, shape=(), dtype=float32)\n",
      "loss tf.Tensor(0.0, shape=(), dtype=float32)\n",
      "loss tf.Tensor(0.0, shape=(), dtype=float32)\n",
      "loss tf.Tensor(0.0, shape=(), dtype=float32)\n",
      "loss tf.Tensor(0.0, shape=(), dtype=float32)\n",
      "loss tf.Tensor(0.0, shape=(), dtype=float32)\n",
      "loss tf.Tensor(0.0, shape=(), dtype=float32)\n",
      "loss tf.Tensor(0.0, shape=(), dtype=float32)\n"
     ]
    },
    {
     "name": "stderr",
     "output_type": "stream",
     "text": [
      " 69%|██████▉   | 6896/10000 [03:29<01:27, 35.31it/s, episode_reward=0, running_reward=0]"
     ]
    },
    {
     "name": "stdout",
     "output_type": "stream",
     "text": [
      "loss tf.Tensor(0.0, shape=(), dtype=float32)\n",
      "loss tf.Tensor(0.0, shape=(), dtype=float32)\n",
      "loss tf.Tensor(0.0, shape=(), dtype=float32)\n",
      "loss tf.Tensor(0.0, shape=(), dtype=float32)\n",
      "loss tf.Tensor(0.0, shape=(), dtype=float32)\n"
     ]
    },
    {
     "name": "stderr",
     "output_type": "stream",
     "text": [
      " 69%|██████▉   | 6904/10000 [03:29<01:49, 28.36it/s, episode_reward=0, running_reward=0]"
     ]
    },
    {
     "name": "stdout",
     "output_type": "stream",
     "text": [
      "loss tf.Tensor(0.0, shape=(), dtype=float32)\n",
      "loss tf.Tensor(0.0, shape=(), dtype=float32)\n",
      "loss tf.Tensor(0.0, shape=(), dtype=float32)\n",
      "loss tf.Tensor(0.0, shape=(), dtype=float32)\n",
      "loss tf.Tensor(0.0, shape=(), dtype=float32)\n",
      "loss tf.Tensor(0.0, shape=(), dtype=float32)\n",
      "loss tf.Tensor(0.0, shape=(), dtype=float32)\n"
     ]
    },
    {
     "name": "stderr",
     "output_type": "stream",
     "text": [
      " 69%|██████▉   | 6912/10000 [03:29<01:36, 31.87it/s, episode_reward=0, running_reward=0]"
     ]
    },
    {
     "name": "stdout",
     "output_type": "stream",
     "text": [
      "loss tf.Tensor(0.0, shape=(), dtype=float32)\n",
      "loss tf.Tensor(0.0, shape=(), dtype=float32)\n",
      "loss tf.Tensor(0.0, shape=(), dtype=float32)\n",
      "loss tf.Tensor(0.0, shape=(), dtype=float32)\n",
      "loss tf.Tensor(0.0, shape=(), dtype=float32)\n",
      "loss tf.Tensor(0.0, shape=(), dtype=float32)\n",
      "loss tf.Tensor(0.0, shape=(), dtype=float32)\n",
      "loss tf.Tensor(0.0, shape=(), dtype=float32)\n"
     ]
    },
    {
     "name": "stderr",
     "output_type": "stream",
     "text": [
      " 69%|██████▉   | 6920/10000 [03:30<01:31, 33.84it/s, episode_reward=0, running_reward=0]"
     ]
    },
    {
     "name": "stdout",
     "output_type": "stream",
     "text": [
      "loss tf.Tensor(0.0, shape=(), dtype=float32)\n",
      "loss tf.Tensor(0.0, shape=(), dtype=float32)\n",
      "loss tf.Tensor(0.0, shape=(), dtype=float32)\n",
      "loss tf.Tensor(0.0, shape=(), dtype=float32)\n",
      "loss tf.Tensor(0.0, shape=(), dtype=float32)\n",
      "loss tf.Tensor(0.0, shape=(), dtype=float32)\n",
      "loss tf.Tensor(0.0, shape=(), dtype=float32)\n",
      "loss tf.Tensor(0.0, shape=(), dtype=float32)\n"
     ]
    },
    {
     "name": "stderr",
     "output_type": "stream",
     "text": [
      " 69%|██████▉   | 6928/10000 [03:30<01:28, 34.75it/s, episode_reward=0, running_reward=0]"
     ]
    },
    {
     "name": "stdout",
     "output_type": "stream",
     "text": [
      "loss tf.Tensor(0.0, shape=(), dtype=float32)\n",
      "loss tf.Tensor(0.0, shape=(), dtype=float32)\n",
      "loss tf.Tensor(0.0, shape=(), dtype=float32)\n",
      "loss tf.Tensor(0.0, shape=(), dtype=float32)\n",
      "loss tf.Tensor(0.0, shape=(), dtype=float32)\n",
      "loss tf.Tensor(0.0, shape=(), dtype=float32)\n",
      "loss tf.Tensor(0.0, shape=(), dtype=float32)\n",
      "loss tf.Tensor(0.0, shape=(), dtype=float32)\n"
     ]
    },
    {
     "name": "stderr",
     "output_type": "stream",
     "text": [
      " 69%|██████▉   | 6936/10000 [03:30<01:26, 35.22it/s, episode_reward=0, running_reward=0]"
     ]
    },
    {
     "name": "stdout",
     "output_type": "stream",
     "text": [
      "loss tf.Tensor(0.0, shape=(), dtype=float32)\n",
      "loss tf.Tensor(0.0, shape=(), dtype=float32)\n",
      "loss tf.Tensor(0.0, shape=(), dtype=float32)\n",
      "loss tf.Tensor(0.0, shape=(), dtype=float32)\n",
      "loss tf.Tensor(0.0, shape=(), dtype=float32)\n",
      "loss tf.Tensor(0.0, shape=(), dtype=float32)\n",
      "loss tf.Tensor(0.0, shape=(), dtype=float32)\n",
      "loss tf.Tensor(0.0, shape=(), dtype=float32)\n"
     ]
    },
    {
     "name": "stderr",
     "output_type": "stream",
     "text": [
      " 69%|██████▉   | 6944/10000 [03:30<01:25, 35.74it/s, episode_reward=0, running_reward=0]"
     ]
    },
    {
     "name": "stdout",
     "output_type": "stream",
     "text": [
      "loss tf.Tensor(0.0, shape=(), dtype=float32)\n",
      "loss tf.Tensor(0.0, shape=(), dtype=float32)\n",
      "loss tf.Tensor(0.0, shape=(), dtype=float32)\n",
      "loss tf.Tensor(0.0, shape=(), dtype=float32)\n",
      "loss tf.Tensor(0.0, shape=(), dtype=float32)\n",
      "loss tf.Tensor(0.0, shape=(), dtype=float32)\n",
      "loss tf.Tensor(0.0, shape=(), dtype=float32)\n",
      "loss tf.Tensor(0.0, shape=(), dtype=float32)\n"
     ]
    },
    {
     "name": "stderr",
     "output_type": "stream",
     "text": [
      " 69%|██████▉   | 6948/10000 [03:30<01:56, 26.29it/s, episode_reward=0, running_reward=0]"
     ]
    },
    {
     "name": "stdout",
     "output_type": "stream",
     "text": [
      "loss tf.Tensor(0.0, shape=(), dtype=float32)\n",
      "loss tf.Tensor(0.0, shape=(), dtype=float32)\n",
      "loss tf.Tensor(0.0, shape=(), dtype=float32)\n"
     ]
    },
    {
     "name": "stderr",
     "output_type": "stream",
     "text": [
      " 70%|██████▉   | 6956/10000 [03:31<01:44, 29.22it/s, episode_reward=0, running_reward=0]"
     ]
    },
    {
     "name": "stdout",
     "output_type": "stream",
     "text": [
      "loss tf.Tensor(0.0, shape=(), dtype=float32)\n",
      "loss tf.Tensor(0.0, shape=(), dtype=float32)\n",
      "loss tf.Tensor(0.0, shape=(), dtype=float32)\n",
      "loss tf.Tensor(0.0, shape=(), dtype=float32)\n",
      "loss tf.Tensor(0.0, shape=(), dtype=float32)\n",
      "loss tf.Tensor(0.0, shape=(), dtype=float32)\n",
      "loss tf.Tensor(0.0, shape=(), dtype=float32)\n",
      "loss tf.Tensor(0.0, shape=(), dtype=float32)\n"
     ]
    },
    {
     "name": "stderr",
     "output_type": "stream",
     "text": [
      " 70%|██████▉   | 6964/10000 [03:31<01:33, 32.60it/s, episode_reward=0, running_reward=0]"
     ]
    },
    {
     "name": "stdout",
     "output_type": "stream",
     "text": [
      "loss tf.Tensor(0.0, shape=(), dtype=float32)\n",
      "loss tf.Tensor(0.0, shape=(), dtype=float32)\n",
      "loss tf.Tensor(0.0, shape=(), dtype=float32)\n",
      "loss tf.Tensor(0.0, shape=(), dtype=float32)\n",
      "loss tf.Tensor(0.0, shape=(), dtype=float32)\n",
      "loss tf.Tensor(0.0, shape=(), dtype=float32)\n",
      "loss tf.Tensor(0.0, shape=(), dtype=float32)\n",
      "loss tf.Tensor(0.0, shape=(), dtype=float32)\n"
     ]
    },
    {
     "name": "stderr",
     "output_type": "stream",
     "text": [
      " 70%|██████▉   | 6972/10000 [03:31<01:28, 34.11it/s, episode_reward=0, running_reward=0]"
     ]
    },
    {
     "name": "stdout",
     "output_type": "stream",
     "text": [
      "loss tf.Tensor(0.0, shape=(), dtype=float32)\n",
      "loss tf.Tensor(0.0, shape=(), dtype=float32)\n",
      "loss tf.Tensor(0.0, shape=(), dtype=float32)\n",
      "loss tf.Tensor(0.0, shape=(), dtype=float32)\n",
      "loss tf.Tensor(0.0, shape=(), dtype=float32)\n",
      "loss tf.Tensor(0.0, shape=(), dtype=float32)\n",
      "loss tf.Tensor(0.0, shape=(), dtype=float32)\n",
      "loss tf.Tensor(0.0, shape=(), dtype=float32)\n"
     ]
    },
    {
     "name": "stderr",
     "output_type": "stream",
     "text": [
      " 70%|██████▉   | 6980/10000 [03:31<01:26, 35.06it/s, episode_reward=0, running_reward=0]"
     ]
    },
    {
     "name": "stdout",
     "output_type": "stream",
     "text": [
      "loss tf.Tensor(0.0, shape=(), dtype=float32)\n",
      "loss tf.Tensor(0.0, shape=(), dtype=float32)\n",
      "loss tf.Tensor(0.0, shape=(), dtype=float32)\n",
      "loss tf.Tensor(0.0, shape=(), dtype=float32)\n",
      "loss tf.Tensor(0.0, shape=(), dtype=float32)\n",
      "loss tf.Tensor(0.0, shape=(), dtype=float32)\n",
      "loss tf.Tensor(0.0, shape=(), dtype=float32)\n",
      "loss tf.Tensor(0.0, shape=(), dtype=float32)\n"
     ]
    },
    {
     "name": "stderr",
     "output_type": "stream",
     "text": [
      " 70%|██████▉   | 6984/10000 [03:32<01:57, 25.77it/s, episode_reward=0, running_reward=0]"
     ]
    },
    {
     "name": "stdout",
     "output_type": "stream",
     "text": [
      "loss tf.Tensor(0.0, shape=(), dtype=float32)\n",
      "loss tf.Tensor(0.0, shape=(), dtype=float32)\n",
      "loss tf.Tensor(0.0, shape=(), dtype=float32)\n"
     ]
    },
    {
     "name": "stderr",
     "output_type": "stream",
     "text": [
      " 70%|██████▉   | 6991/10000 [03:32<01:45, 28.41it/s, episode_reward=0, running_reward=0]"
     ]
    },
    {
     "name": "stdout",
     "output_type": "stream",
     "text": [
      "loss tf.Tensor(0.0, shape=(), dtype=float32)\n",
      "loss tf.Tensor(0.0, shape=(), dtype=float32)\n",
      "loss tf.Tensor(0.0, shape=(), dtype=float32)\n",
      "loss tf.Tensor(0.0, shape=(), dtype=float32)\n",
      "loss tf.Tensor(0.0, shape=(), dtype=float32)\n",
      "loss tf.Tensor(0.0, shape=(), dtype=float32)\n",
      "loss tf.Tensor(0.0, shape=(), dtype=float32)\n"
     ]
    },
    {
     "name": "stderr",
     "output_type": "stream",
     "text": [
      " 70%|██████▉   | 6999/10000 [03:32<01:33, 32.22it/s, episode_reward=0, running_reward=0]"
     ]
    },
    {
     "name": "stdout",
     "output_type": "stream",
     "text": [
      "loss tf.Tensor(0.0, shape=(), dtype=float32)\n",
      "loss tf.Tensor(0.0, shape=(), dtype=float32)\n",
      "loss tf.Tensor(0.0, shape=(), dtype=float32)\n",
      "loss tf.Tensor(0.0, shape=(), dtype=float32)\n",
      "loss tf.Tensor(0.0, shape=(), dtype=float32)\n",
      "loss tf.Tensor(0.0, shape=(), dtype=float32)\n",
      "loss tf.Tensor(0.0, shape=(), dtype=float32)\n",
      "loss tf.Tensor(0.0, shape=(), dtype=float32)\n"
     ]
    },
    {
     "name": "stderr",
     "output_type": "stream",
     "text": [
      " 70%|███████   | 7007/10000 [03:32<01:28, 33.98it/s, episode_reward=0, running_reward=0]"
     ]
    },
    {
     "name": "stdout",
     "output_type": "stream",
     "text": [
      "loss tf.Tensor(0.0, shape=(), dtype=float32)\n",
      "loss tf.Tensor(0.0, shape=(), dtype=float32)\n",
      "loss tf.Tensor(0.0, shape=(), dtype=float32)\n",
      "loss tf.Tensor(0.0, shape=(), dtype=float32)\n",
      "loss tf.Tensor(0.0, shape=(), dtype=float32)\n",
      "loss tf.Tensor(0.0, shape=(), dtype=float32)\n",
      "loss tf.Tensor(0.0, shape=(), dtype=float32)\n",
      "loss tf.Tensor(0.0, shape=(), dtype=float32)\n"
     ]
    },
    {
     "name": "stderr",
     "output_type": "stream",
     "text": [
      " 70%|███████   | 7015/10000 [03:33<01:24, 35.25it/s, episode_reward=0, running_reward=0]"
     ]
    },
    {
     "name": "stdout",
     "output_type": "stream",
     "text": [
      "loss tf.Tensor(0.0, shape=(), dtype=float32)\n",
      "loss tf.Tensor(0.0, shape=(), dtype=float32)\n",
      "loss tf.Tensor(0.0, shape=(), dtype=float32)\n",
      "loss tf.Tensor(0.0, shape=(), dtype=float32)\n",
      "loss tf.Tensor(0.0, shape=(), dtype=float32)\n",
      "loss tf.Tensor(0.0, shape=(), dtype=float32)\n",
      "loss tf.Tensor(0.0, shape=(), dtype=float32)\n",
      "loss tf.Tensor(0.0, shape=(), dtype=float32)\n"
     ]
    },
    {
     "name": "stderr",
     "output_type": "stream",
     "text": [
      " 70%|███████   | 7023/10000 [03:33<01:24, 35.33it/s, episode_reward=0, running_reward=0]"
     ]
    },
    {
     "name": "stdout",
     "output_type": "stream",
     "text": [
      "loss tf.Tensor(0.0, shape=(), dtype=float32)\n",
      "loss tf.Tensor(0.0, shape=(), dtype=float32)\n",
      "loss tf.Tensor(0.0, shape=(), dtype=float32)\n",
      "loss tf.Tensor(0.0, shape=(), dtype=float32)\n",
      "loss tf.Tensor(0.0, shape=(), dtype=float32)\n",
      "loss tf.Tensor(0.0, shape=(), dtype=float32)\n",
      "loss tf.Tensor(0.0, shape=(), dtype=float32)\n",
      "loss tf.Tensor(0.0, shape=(), dtype=float32)\n"
     ]
    },
    {
     "name": "stderr",
     "output_type": "stream",
     "text": [
      " 70%|███████   | 7023/10000 [03:33<01:24, 35.33it/s, episode_reward=0, running_reward=0]"
     ]
    },
    {
     "name": "stdout",
     "output_type": "stream",
     "text": [
      "loss tf.Tensor(0.0, shape=(), dtype=float32)\n",
      "loss tf.Tensor(0.0, shape=(), dtype=float32)\n"
     ]
    },
    {
     "name": "stderr",
     "output_type": "stream",
     "text": [
      " 70%|███████   | 7031/10000 [03:33<01:52, 26.46it/s, episode_reward=0, running_reward=0]"
     ]
    },
    {
     "name": "stdout",
     "output_type": "stream",
     "text": [
      "loss tf.Tensor(0.0, shape=(), dtype=float32)\n",
      "loss tf.Tensor(0.0, shape=(), dtype=float32)\n",
      "loss tf.Tensor(0.0, shape=(), dtype=float32)\n",
      "loss tf.Tensor(0.0, shape=(), dtype=float32)\n",
      "loss tf.Tensor(0.0, shape=(), dtype=float32)\n",
      "loss tf.Tensor(0.0, shape=(), dtype=float32)\n",
      "loss tf.Tensor(0.0, shape=(), dtype=float32)\n"
     ]
    },
    {
     "name": "stderr",
     "output_type": "stream",
     "text": [
      " 70%|███████   | 7039/10000 [03:33<01:35, 30.84it/s, episode_reward=0, running_reward=0]"
     ]
    },
    {
     "name": "stdout",
     "output_type": "stream",
     "text": [
      "loss tf.Tensor(0.0, shape=(), dtype=float32)\n",
      "loss tf.Tensor(0.0, shape=(), dtype=float32)\n",
      "loss tf.Tensor(0.0, shape=(), dtype=float32)\n",
      "loss tf.Tensor(0.0, shape=(), dtype=float32)\n",
      "loss tf.Tensor(0.0, shape=(), dtype=float32)\n",
      "loss tf.Tensor(0.0, shape=(), dtype=float32)\n",
      "loss tf.Tensor(0.0, shape=(), dtype=float32)\n",
      "loss tf.Tensor(0.0, shape=(), dtype=float32)\n"
     ]
    },
    {
     "name": "stderr",
     "output_type": "stream",
     "text": [
      " 70%|███████   | 7047/10000 [03:34<01:28, 33.30it/s, episode_reward=0, running_reward=0]"
     ]
    },
    {
     "name": "stdout",
     "output_type": "stream",
     "text": [
      "loss tf.Tensor(0.0, shape=(), dtype=float32)\n",
      "loss tf.Tensor(0.0, shape=(), dtype=float32)\n",
      "loss tf.Tensor(0.0, shape=(), dtype=float32)\n",
      "loss tf.Tensor(0.0, shape=(), dtype=float32)\n",
      "loss tf.Tensor(0.0, shape=(), dtype=float32)\n",
      "loss tf.Tensor(0.0, shape=(), dtype=float32)\n",
      "loss tf.Tensor(0.0, shape=(), dtype=float32)\n",
      "loss tf.Tensor(0.0, shape=(), dtype=float32)\n"
     ]
    },
    {
     "name": "stderr",
     "output_type": "stream",
     "text": [
      " 71%|███████   | 7055/10000 [03:34<01:24, 34.65it/s, episode_reward=0, running_reward=0]"
     ]
    },
    {
     "name": "stdout",
     "output_type": "stream",
     "text": [
      "loss tf.Tensor(0.0, shape=(), dtype=float32)\n",
      "loss tf.Tensor(0.0, shape=(), dtype=float32)\n",
      "loss tf.Tensor(0.0, shape=(), dtype=float32)\n",
      "loss tf.Tensor(0.0, shape=(), dtype=float32)\n",
      "loss tf.Tensor(0.0, shape=(), dtype=float32)\n",
      "loss tf.Tensor(0.0, shape=(), dtype=float32)\n",
      "loss tf.Tensor(0.0, shape=(), dtype=float32)\n",
      "loss tf.Tensor(0.0, shape=(), dtype=float32)\n"
     ]
    },
    {
     "name": "stderr",
     "output_type": "stream",
     "text": [
      " 71%|███████   | 7063/10000 [03:34<01:23, 35.36it/s, episode_reward=0, running_reward=0]"
     ]
    },
    {
     "name": "stdout",
     "output_type": "stream",
     "text": [
      "loss tf.Tensor(0.0, shape=(), dtype=float32)\n",
      "loss tf.Tensor(0.0, shape=(), dtype=float32)\n",
      "loss tf.Tensor(0.0, shape=(), dtype=float32)\n",
      "loss tf.Tensor(0.0, shape=(), dtype=float32)\n",
      "loss tf.Tensor(0.0, shape=(), dtype=float32)\n",
      "loss tf.Tensor(0.0, shape=(), dtype=float32)\n",
      "loss tf.Tensor(0.0, shape=(), dtype=float32)\n"
     ]
    },
    {
     "name": "stderr",
     "output_type": "stream",
     "text": [
      " 71%|███████   | 7067/10000 [03:34<02:08, 22.78it/s, episode_reward=0, running_reward=0]"
     ]
    },
    {
     "name": "stdout",
     "output_type": "stream",
     "text": [
      "loss tf.Tensor(0.0, shape=(), dtype=float32)\n",
      "loss tf.Tensor(0.0, shape=(), dtype=float32)\n",
      "loss tf.Tensor(0.0, shape=(), dtype=float32)\n",
      "loss tf.Tensor(0.0, shape=(), dtype=float32)\n",
      "loss tf.Tensor(0.0, shape=(), dtype=float32)\n",
      "loss tf.Tensor(0.0, shape=(), dtype=float32)\n",
      "loss tf.Tensor(0.0, shape=(), dtype=float32)\n"
     ]
    },
    {
     "name": "stderr",
     "output_type": "stream",
     "text": [
      " 71%|███████   | 7075/10000 [03:35<01:44, 27.96it/s, episode_reward=0, running_reward=0]"
     ]
    },
    {
     "name": "stdout",
     "output_type": "stream",
     "text": [
      "loss tf.Tensor(0.0, shape=(), dtype=float32)\n",
      "loss tf.Tensor(0.0, shape=(), dtype=float32)\n",
      "loss tf.Tensor(0.0, shape=(), dtype=float32)\n",
      "loss tf.Tensor(0.0, shape=(), dtype=float32)\n",
      "loss tf.Tensor(0.0, shape=(), dtype=float32)\n",
      "loss tf.Tensor(0.0, shape=(), dtype=float32)\n",
      "loss tf.Tensor(0.0, shape=(), dtype=float32)\n",
      "loss tf.Tensor(0.0, shape=(), dtype=float32)\n"
     ]
    },
    {
     "name": "stderr",
     "output_type": "stream",
     "text": [
      " 71%|███████   | 7083/10000 [03:35<01:32, 31.39it/s, episode_reward=0, running_reward=0]"
     ]
    },
    {
     "name": "stdout",
     "output_type": "stream",
     "text": [
      "loss tf.Tensor(0.0, shape=(), dtype=float32)\n",
      "loss tf.Tensor(0.0, shape=(), dtype=float32)\n",
      "loss tf.Tensor(0.0, shape=(), dtype=float32)\n",
      "loss tf.Tensor(0.0, shape=(), dtype=float32)\n",
      "loss tf.Tensor(0.0, shape=(), dtype=float32)\n",
      "loss tf.Tensor(0.0, shape=(), dtype=float32)\n",
      "loss tf.Tensor(0.0, shape=(), dtype=float32)\n",
      "loss tf.Tensor(0.0, shape=(), dtype=float32)\n"
     ]
    },
    {
     "name": "stderr",
     "output_type": "stream",
     "text": [
      " 71%|███████   | 7091/10000 [03:35<01:27, 33.31it/s, episode_reward=0, running_reward=0]"
     ]
    },
    {
     "name": "stdout",
     "output_type": "stream",
     "text": [
      "loss tf.Tensor(0.0, shape=(), dtype=float32)\n",
      "loss tf.Tensor(0.0, shape=(), dtype=float32)\n",
      "loss tf.Tensor(0.0, shape=(), dtype=float32)\n",
      "loss tf.Tensor(0.0, shape=(), dtype=float32)\n",
      "loss tf.Tensor(0.0, shape=(), dtype=float32)\n",
      "loss tf.Tensor(0.0, shape=(), dtype=float32)\n",
      "loss tf.Tensor(0.0, shape=(), dtype=float32)\n",
      "loss tf.Tensor(0.0, shape=(), dtype=float32)\n"
     ]
    },
    {
     "name": "stderr",
     "output_type": "stream",
     "text": [
      " 71%|███████   | 7099/10000 [03:35<01:24, 34.26it/s, episode_reward=0, running_reward=0]"
     ]
    },
    {
     "name": "stdout",
     "output_type": "stream",
     "text": [
      "loss tf.Tensor(0.0, shape=(), dtype=float32)\n",
      "loss tf.Tensor(0.0, shape=(), dtype=float32)\n",
      "loss tf.Tensor(0.0, shape=(), dtype=float32)\n",
      "loss tf.Tensor(0.0, shape=(), dtype=float32)\n",
      "loss tf.Tensor(0.0, shape=(), dtype=float32)\n",
      "loss tf.Tensor(0.0, shape=(), dtype=float32)\n",
      "loss tf.Tensor(0.0, shape=(), dtype=float32)\n",
      "loss tf.Tensor(0.0, shape=(), dtype=float32)\n"
     ]
    },
    {
     "name": "stderr",
     "output_type": "stream",
     "text": [
      " 71%|███████   | 7103/10000 [03:36<01:22, 34.94it/s, episode_reward=0, running_reward=0]"
     ]
    },
    {
     "name": "stdout",
     "output_type": "stream",
     "text": [
      "loss tf.Tensor(0.0, shape=(), dtype=float32)\n",
      "loss tf.Tensor(0.0, shape=(), dtype=float32)\n",
      "loss tf.Tensor(0.0, shape=(), dtype=float32)\n",
      "loss tf.Tensor(0.0, shape=(), dtype=float32)\n"
     ]
    },
    {
     "name": "stderr",
     "output_type": "stream",
     "text": [
      " 71%|███████   | 7111/10000 [03:36<01:48, 26.60it/s, episode_reward=0, running_reward=0]"
     ]
    },
    {
     "name": "stdout",
     "output_type": "stream",
     "text": [
      "loss tf.Tensor(0.0, shape=(), dtype=float32)\n",
      "loss tf.Tensor(0.0, shape=(), dtype=float32)\n",
      "loss tf.Tensor(0.0, shape=(), dtype=float32)\n",
      "loss tf.Tensor(0.0, shape=(), dtype=float32)\n",
      "loss tf.Tensor(0.0, shape=(), dtype=float32)\n",
      "loss tf.Tensor(0.0, shape=(), dtype=float32)\n"
     ]
    },
    {
     "name": "stderr",
     "output_type": "stream",
     "text": [
      " 71%|███████   | 7119/10000 [03:36<01:34, 30.58it/s, episode_reward=0, running_reward=0]"
     ]
    },
    {
     "name": "stdout",
     "output_type": "stream",
     "text": [
      "loss tf.Tensor(0.0, shape=(), dtype=float32)\n",
      "loss tf.Tensor(0.0, shape=(), dtype=float32)\n",
      "loss tf.Tensor(0.0, shape=(), dtype=float32)\n",
      "loss tf.Tensor(0.0, shape=(), dtype=float32)\n",
      "loss tf.Tensor(0.0, shape=(), dtype=float32)\n",
      "loss tf.Tensor(0.0, shape=(), dtype=float32)\n",
      "loss tf.Tensor(0.0, shape=(), dtype=float32)\n",
      "loss tf.Tensor(0.0, shape=(), dtype=float32)\n"
     ]
    },
    {
     "name": "stderr",
     "output_type": "stream",
     "text": [
      " 71%|███████▏  | 7127/10000 [03:36<01:26, 33.19it/s, episode_reward=0, running_reward=0]"
     ]
    },
    {
     "name": "stdout",
     "output_type": "stream",
     "text": [
      "loss tf.Tensor(0.0, shape=(), dtype=float32)\n",
      "loss tf.Tensor(0.0, shape=(), dtype=float32)\n",
      "loss tf.Tensor(0.0, shape=(), dtype=float32)\n",
      "loss tf.Tensor(0.0, shape=(), dtype=float32)\n",
      "loss tf.Tensor(0.0, shape=(), dtype=float32)\n",
      "loss tf.Tensor(0.0, shape=(), dtype=float32)\n",
      "loss tf.Tensor(0.0, shape=(), dtype=float32)\n",
      "loss tf.Tensor(0.0, shape=(), dtype=float32)\n"
     ]
    },
    {
     "name": "stderr",
     "output_type": "stream",
     "text": [
      " 71%|███████▏  | 7135/10000 [03:36<01:22, 34.57it/s, episode_reward=0, running_reward=0]"
     ]
    },
    {
     "name": "stdout",
     "output_type": "stream",
     "text": [
      "loss tf.Tensor(0.0, shape=(), dtype=float32)\n",
      "loss tf.Tensor(0.0, shape=(), dtype=float32)\n",
      "loss tf.Tensor(0.0, shape=(), dtype=float32)\n",
      "loss tf.Tensor(0.0, shape=(), dtype=float32)\n",
      "loss tf.Tensor(0.0, shape=(), dtype=float32)\n",
      "loss tf.Tensor(0.0, shape=(), dtype=float32)\n",
      "loss tf.Tensor(0.0, shape=(), dtype=float32)\n",
      "loss tf.Tensor(0.0, shape=(), dtype=float32)\n"
     ]
    },
    {
     "name": "stderr",
     "output_type": "stream",
     "text": [
      " 71%|███████▏  | 7143/10000 [03:37<01:21, 35.14it/s, episode_reward=0, running_reward=0]"
     ]
    },
    {
     "name": "stdout",
     "output_type": "stream",
     "text": [
      "loss tf.Tensor(0.0, shape=(), dtype=float32)\n",
      "loss tf.Tensor(0.0, shape=(), dtype=float32)\n",
      "loss tf.Tensor(0.0, shape=(), dtype=float32)\n",
      "loss tf.Tensor(0.0, shape=(), dtype=float32)\n",
      "loss tf.Tensor(0.0, shape=(), dtype=float32)\n",
      "loss tf.Tensor(0.0, shape=(), dtype=float32)\n",
      "loss tf.Tensor(0.0, shape=(), dtype=float32)\n",
      "loss tf.Tensor(0.0, shape=(), dtype=float32)\n"
     ]
    },
    {
     "name": "stderr",
     "output_type": "stream",
     "text": [
      " 71%|███████▏  | 7147/10000 [03:37<01:22, 34.78it/s, episode_reward=0, running_reward=0]"
     ]
    },
    {
     "name": "stdout",
     "output_type": "stream",
     "text": [
      "loss tf.Tensor(0.0, shape=(), dtype=float32)\n",
      "loss tf.Tensor(0.0, shape=(), dtype=float32)\n",
      "loss tf.Tensor(0.0, shape=(), dtype=float32)\n",
      "loss tf.Tensor(0.0, shape=(), dtype=float32)\n"
     ]
    },
    {
     "name": "stderr",
     "output_type": "stream",
     "text": [
      " 72%|███████▏  | 7155/10000 [03:37<01:41, 28.00it/s, episode_reward=0, running_reward=0]"
     ]
    },
    {
     "name": "stdout",
     "output_type": "stream",
     "text": [
      "loss tf.Tensor(0.0, shape=(), dtype=float32)\n",
      "loss tf.Tensor(0.0, shape=(), dtype=float32)\n",
      "loss tf.Tensor(0.0, shape=(), dtype=float32)\n",
      "loss tf.Tensor(0.0, shape=(), dtype=float32)\n",
      "loss tf.Tensor(0.0, shape=(), dtype=float32)\n",
      "loss tf.Tensor(0.0, shape=(), dtype=float32)\n",
      "loss tf.Tensor(0.0, shape=(), dtype=float32)\n"
     ]
    },
    {
     "name": "stderr",
     "output_type": "stream",
     "text": [
      " 72%|███████▏  | 7159/10000 [03:37<01:37, 29.10it/s, episode_reward=0, running_reward=0]"
     ]
    },
    {
     "name": "stdout",
     "output_type": "stream",
     "text": [
      "loss tf.Tensor(0.0, shape=(), dtype=float32)\n",
      "loss tf.Tensor(0.0, shape=(), dtype=float32)\n",
      "loss tf.Tensor(0.0, shape=(), dtype=float32)\n",
      "loss tf.Tensor(0.0, shape=(), dtype=float32)\n",
      "loss tf.Tensor(0.0, shape=(), dtype=float32)\n",
      "loss tf.Tensor(0.0, shape=(), dtype=float32)\n",
      "loss tf.Tensor(0.0, shape=(), dtype=float32)\n",
      "loss tf.Tensor(0.0, shape=(), dtype=float32)\n"
     ]
    },
    {
     "name": "stderr",
     "output_type": "stream",
     "text": [
      " 72%|███████▏  | 7171/10000 [03:38<01:24, 33.63it/s, episode_reward=0, running_reward=0]"
     ]
    },
    {
     "name": "stdout",
     "output_type": "stream",
     "text": [
      "loss tf.Tensor(0.0, shape=(), dtype=float32)\n",
      "loss tf.Tensor(0.0, shape=(), dtype=float32)\n",
      "loss tf.Tensor(0.0, shape=(), dtype=float32)\n",
      "loss tf.Tensor(0.0, shape=(), dtype=float32)\n",
      "loss tf.Tensor(0.0, shape=(), dtype=float32)\n",
      "loss tf.Tensor(0.0, shape=(), dtype=float32)\n",
      "loss tf.Tensor(0.0, shape=(), dtype=float32)\n",
      "loss tf.Tensor(0.0, shape=(), dtype=float32)\n"
     ]
    },
    {
     "name": "stderr",
     "output_type": "stream",
     "text": [
      " 72%|███████▏  | 7179/10000 [03:38<01:21, 34.71it/s, episode_reward=0, running_reward=0]"
     ]
    },
    {
     "name": "stdout",
     "output_type": "stream",
     "text": [
      "loss tf.Tensor(0.0, shape=(), dtype=float32)\n",
      "loss tf.Tensor(0.0, shape=(), dtype=float32)\n",
      "loss tf.Tensor(0.0, shape=(), dtype=float32)\n",
      "loss tf.Tensor(0.0, shape=(), dtype=float32)\n",
      "loss tf.Tensor(0.0, shape=(), dtype=float32)\n",
      "loss tf.Tensor(0.0, shape=(), dtype=float32)\n",
      "loss tf.Tensor(0.0, shape=(), dtype=float32)\n",
      "loss tf.Tensor(0.0, shape=(), dtype=float32)\n"
     ]
    },
    {
     "name": "stderr",
     "output_type": "stream",
     "text": [
      " 72%|███████▏  | 7187/10000 [03:38<01:19, 35.55it/s, episode_reward=0, running_reward=0]"
     ]
    },
    {
     "name": "stdout",
     "output_type": "stream",
     "text": [
      "loss tf.Tensor(0.0, shape=(), dtype=float32)\n",
      "loss tf.Tensor(0.0, shape=(), dtype=float32)\n",
      "loss tf.Tensor(0.0, shape=(), dtype=float32)\n",
      "loss tf.Tensor(0.0, shape=(), dtype=float32)\n",
      "loss tf.Tensor(0.0, shape=(), dtype=float32)\n",
      "loss tf.Tensor(0.0, shape=(), dtype=float32)\n",
      "loss tf.Tensor(0.0, shape=(), dtype=float32)\n",
      "loss tf.Tensor(0.0, shape=(), dtype=float32)\n"
     ]
    },
    {
     "name": "stderr",
     "output_type": "stream",
     "text": [
      " 72%|███████▏  | 7195/10000 [03:38<01:18, 35.55it/s, episode_reward=0, running_reward=0]"
     ]
    },
    {
     "name": "stdout",
     "output_type": "stream",
     "text": [
      "loss tf.Tensor(0.0, shape=(), dtype=float32)\n",
      "loss tf.Tensor(0.0, shape=(), dtype=float32)\n",
      "loss tf.Tensor(0.0, shape=(), dtype=float32)\n",
      "loss tf.Tensor(0.0, shape=(), dtype=float32)\n",
      "loss tf.Tensor(0.0, shape=(), dtype=float32)\n",
      "loss tf.Tensor(0.0, shape=(), dtype=float32)\n",
      "loss tf.Tensor(0.0, shape=(), dtype=float32)\n",
      "loss tf.Tensor(0.0, shape=(), dtype=float32)\n"
     ]
    },
    {
     "name": "stderr",
     "output_type": "stream",
     "text": [
      " 72%|███████▏  | 7203/10000 [03:39<01:18, 35.73it/s, episode_reward=0, running_reward=0]"
     ]
    },
    {
     "name": "stdout",
     "output_type": "stream",
     "text": [
      "loss tf.Tensor(0.0, shape=(), dtype=float32)\n",
      "loss tf.Tensor(0.0, shape=(), dtype=float32)\n",
      "loss tf.Tensor(0.0, shape=(), dtype=float32)\n",
      "loss tf.Tensor(0.0, shape=(), dtype=float32)\n",
      "loss tf.Tensor(0.0, shape=(), dtype=float32)\n",
      "loss tf.Tensor(0.0, shape=(), dtype=float32)\n",
      "loss tf.Tensor(0.0, shape=(), dtype=float32)\n",
      "loss tf.Tensor(0.0, shape=(), dtype=float32)\n"
     ]
    },
    {
     "name": "stderr",
     "output_type": "stream",
     "text": [
      " 72%|███████▏  | 7211/10000 [03:39<01:17, 35.80it/s, episode_reward=0, running_reward=0]"
     ]
    },
    {
     "name": "stdout",
     "output_type": "stream",
     "text": [
      "loss tf.Tensor(0.0, shape=(), dtype=float32)\n",
      "loss tf.Tensor(0.0, shape=(), dtype=float32)\n",
      "loss tf.Tensor(0.0, shape=(), dtype=float32)\n",
      "loss tf.Tensor(0.0, shape=(), dtype=float32)\n",
      "loss tf.Tensor(0.0, shape=(), dtype=float32)\n",
      "loss tf.Tensor(0.0, shape=(), dtype=float32)\n",
      "loss tf.Tensor(0.0, shape=(), dtype=float32)\n",
      "loss tf.Tensor(0.0, shape=(), dtype=float32)\n"
     ]
    },
    {
     "name": "stderr",
     "output_type": "stream",
     "text": [
      " 72%|███████▏  | 7219/10000 [03:39<01:17, 35.94it/s, episode_reward=0, running_reward=0]"
     ]
    },
    {
     "name": "stdout",
     "output_type": "stream",
     "text": [
      "loss tf.Tensor(0.0, shape=(), dtype=float32)\n",
      "loss tf.Tensor(0.0, shape=(), dtype=float32)\n",
      "loss tf.Tensor(0.0, shape=(), dtype=float32)\n",
      "loss tf.Tensor(0.0, shape=(), dtype=float32)\n",
      "loss tf.Tensor(0.0, shape=(), dtype=float32)\n",
      "loss tf.Tensor(0.0, shape=(), dtype=float32)\n",
      "loss tf.Tensor(0.0, shape=(), dtype=float32)\n",
      "loss tf.Tensor(0.0, shape=(), dtype=float32)\n"
     ]
    },
    {
     "name": "stderr",
     "output_type": "stream",
     "text": [
      " 72%|███████▏  | 7227/10000 [03:39<01:17, 35.78it/s, episode_reward=0, running_reward=0]"
     ]
    },
    {
     "name": "stdout",
     "output_type": "stream",
     "text": [
      "loss tf.Tensor(0.0, shape=(), dtype=float32)\n",
      "loss tf.Tensor(0.0, shape=(), dtype=float32)\n",
      "loss tf.Tensor(0.0, shape=(), dtype=float32)\n",
      "loss tf.Tensor(0.0, shape=(), dtype=float32)\n",
      "loss tf.Tensor(0.0, shape=(), dtype=float32)\n",
      "loss tf.Tensor(0.0, shape=(), dtype=float32)\n",
      "loss tf.Tensor(0.0, shape=(), dtype=float32)\n",
      "loss tf.Tensor(0.0, shape=(), dtype=float32)\n"
     ]
    },
    {
     "name": "stderr",
     "output_type": "stream",
     "text": [
      " 72%|███████▏  | 7235/10000 [03:39<01:17, 35.89it/s, episode_reward=0, running_reward=0]"
     ]
    },
    {
     "name": "stdout",
     "output_type": "stream",
     "text": [
      "loss tf.Tensor(0.0, shape=(), dtype=float32)\n",
      "loss tf.Tensor(0.0, shape=(), dtype=float32)\n",
      "loss tf.Tensor(0.0, shape=(), dtype=float32)\n",
      "loss tf.Tensor(0.0, shape=(), dtype=float32)\n",
      "loss tf.Tensor(0.0, shape=(), dtype=float32)\n",
      "loss tf.Tensor(0.0, shape=(), dtype=float32)\n",
      "loss tf.Tensor(0.0, shape=(), dtype=float32)\n",
      "loss tf.Tensor(0.0, shape=(), dtype=float32)\n"
     ]
    },
    {
     "name": "stderr",
     "output_type": "stream",
     "text": [
      " 72%|███████▏  | 7243/10000 [03:40<01:16, 35.84it/s, episode_reward=0, running_reward=0]"
     ]
    },
    {
     "name": "stdout",
     "output_type": "stream",
     "text": [
      "loss tf.Tensor(0.0, shape=(), dtype=float32)\n",
      "loss tf.Tensor(0.0, shape=(), dtype=float32)\n",
      "loss tf.Tensor(0.0, shape=(), dtype=float32)\n",
      "loss tf.Tensor(0.0, shape=(), dtype=float32)\n",
      "loss tf.Tensor(0.0, shape=(), dtype=float32)\n",
      "loss tf.Tensor(0.0, shape=(), dtype=float32)\n",
      "loss tf.Tensor(0.0, shape=(), dtype=float32)\n",
      "loss tf.Tensor(0.0, shape=(), dtype=float32)\n"
     ]
    },
    {
     "name": "stderr",
     "output_type": "stream",
     "text": [
      " 73%|███████▎  | 7251/10000 [03:40<01:15, 36.37it/s, episode_reward=0, running_reward=0]"
     ]
    },
    {
     "name": "stdout",
     "output_type": "stream",
     "text": [
      "loss tf.Tensor(0.0, shape=(), dtype=float32)\n",
      "loss tf.Tensor(0.0, shape=(), dtype=float32)\n",
      "loss tf.Tensor(0.0, shape=(), dtype=float32)\n",
      "loss tf.Tensor(0.0, shape=(), dtype=float32)\n",
      "loss tf.Tensor(0.0, shape=(), dtype=float32)\n",
      "loss tf.Tensor(0.0, shape=(), dtype=float32)\n",
      "loss tf.Tensor(0.0, shape=(), dtype=float32)\n",
      "loss tf.Tensor(0.0, shape=(), dtype=float32)\n"
     ]
    },
    {
     "name": "stderr",
     "output_type": "stream",
     "text": [
      " 73%|███████▎  | 7259/10000 [03:40<01:15, 36.31it/s, episode_reward=0, running_reward=0]"
     ]
    },
    {
     "name": "stdout",
     "output_type": "stream",
     "text": [
      "loss tf.Tensor(0.0, shape=(), dtype=float32)\n",
      "loss tf.Tensor(0.0, shape=(), dtype=float32)\n",
      "loss tf.Tensor(0.0, shape=(), dtype=float32)\n",
      "loss tf.Tensor(0.0, shape=(), dtype=float32)\n",
      "loss tf.Tensor(0.0, shape=(), dtype=float32)\n",
      "loss tf.Tensor(0.0, shape=(), dtype=float32)\n",
      "loss tf.Tensor(0.0, shape=(), dtype=float32)\n",
      "loss tf.Tensor(0.0, shape=(), dtype=float32)\n"
     ]
    },
    {
     "name": "stderr",
     "output_type": "stream",
     "text": [
      " 73%|███████▎  | 7259/10000 [03:40<01:15, 36.31it/s, episode_reward=0, running_reward=0]"
     ]
    },
    {
     "name": "stdout",
     "output_type": "stream",
     "text": [
      "loss tf.Tensor(0.0, shape=(), dtype=float32)\n",
      "loss tf.Tensor(0.0, shape=(), dtype=float32)\n"
     ]
    },
    {
     "name": "stderr",
     "output_type": "stream",
     "text": [
      " 73%|███████▎  | 7267/10000 [03:41<01:41, 26.90it/s, episode_reward=0, running_reward=0]"
     ]
    },
    {
     "name": "stdout",
     "output_type": "stream",
     "text": [
      "loss tf.Tensor(0.0, shape=(), dtype=float32)\n",
      "loss tf.Tensor(0.0, shape=(), dtype=float32)\n",
      "loss tf.Tensor(0.0, shape=(), dtype=float32)\n",
      "loss tf.Tensor(0.0, shape=(), dtype=float32)\n",
      "loss tf.Tensor(0.0, shape=(), dtype=float32)\n",
      "loss tf.Tensor(0.0, shape=(), dtype=float32)\n",
      "loss tf.Tensor(0.0, shape=(), dtype=float32)\n"
     ]
    },
    {
     "name": "stderr",
     "output_type": "stream",
     "text": [
      " 73%|███████▎  | 7275/10000 [03:41<01:28, 30.81it/s, episode_reward=0, running_reward=0]"
     ]
    },
    {
     "name": "stdout",
     "output_type": "stream",
     "text": [
      "loss tf.Tensor(0.0, shape=(), dtype=float32)\n",
      "loss tf.Tensor(0.0, shape=(), dtype=float32)\n",
      "loss tf.Tensor(0.0, shape=(), dtype=float32)\n",
      "loss tf.Tensor(0.0, shape=(), dtype=float32)\n",
      "loss tf.Tensor(0.0, shape=(), dtype=float32)\n",
      "loss tf.Tensor(0.0, shape=(), dtype=float32)\n",
      "loss tf.Tensor(0.0, shape=(), dtype=float32)\n",
      "loss tf.Tensor(0.0, shape=(), dtype=float32)\n"
     ]
    },
    {
     "name": "stderr",
     "output_type": "stream",
     "text": [
      " 73%|███████▎  | 7283/10000 [03:41<01:21, 33.37it/s, episode_reward=0, running_reward=0]"
     ]
    },
    {
     "name": "stdout",
     "output_type": "stream",
     "text": [
      "loss tf.Tensor(0.0, shape=(), dtype=float32)\n",
      "loss tf.Tensor(0.0, shape=(), dtype=float32)\n",
      "loss tf.Tensor(0.0, shape=(), dtype=float32)\n",
      "loss tf.Tensor(0.0, shape=(), dtype=float32)\n",
      "loss tf.Tensor(0.0, shape=(), dtype=float32)\n",
      "loss tf.Tensor(0.0, shape=(), dtype=float32)\n",
      "loss tf.Tensor(0.0, shape=(), dtype=float32)\n",
      "loss tf.Tensor(0.0, shape=(), dtype=float32)\n"
     ]
    },
    {
     "name": "stderr",
     "output_type": "stream",
     "text": [
      " 73%|███████▎  | 7291/10000 [03:41<01:18, 34.59it/s, episode_reward=0, running_reward=0]"
     ]
    },
    {
     "name": "stdout",
     "output_type": "stream",
     "text": [
      "loss tf.Tensor(0.0, shape=(), dtype=float32)\n",
      "loss tf.Tensor(0.0, shape=(), dtype=float32)\n",
      "loss tf.Tensor(0.0, shape=(), dtype=float32)\n",
      "loss tf.Tensor(0.0, shape=(), dtype=float32)\n",
      "loss tf.Tensor(0.0, shape=(), dtype=float32)\n",
      "loss tf.Tensor(0.0, shape=(), dtype=float32)\n",
      "loss tf.Tensor(0.0, shape=(), dtype=float32)\n",
      "loss tf.Tensor(0.0, shape=(), dtype=float32)\n"
     ]
    },
    {
     "name": "stderr",
     "output_type": "stream",
     "text": [
      " 73%|███████▎  | 7299/10000 [03:41<01:16, 35.24it/s, episode_reward=0, running_reward=0]"
     ]
    },
    {
     "name": "stdout",
     "output_type": "stream",
     "text": [
      "loss tf.Tensor(0.0, shape=(), dtype=float32)\n",
      "loss tf.Tensor(0.0, shape=(), dtype=float32)\n",
      "loss tf.Tensor(0.0, shape=(), dtype=float32)\n",
      "loss tf.Tensor(0.0, shape=(), dtype=float32)\n",
      "loss tf.Tensor(0.0, shape=(), dtype=float32)\n",
      "loss tf.Tensor(0.0, shape=(), dtype=float32)\n",
      "loss tf.Tensor(0.0, shape=(), dtype=float32)\n",
      "loss tf.Tensor(0.0, shape=(), dtype=float32)\n"
     ]
    },
    {
     "name": "stderr",
     "output_type": "stream",
     "text": [
      " 73%|███████▎  | 7303/10000 [03:42<01:41, 26.54it/s, episode_reward=0, running_reward=0]"
     ]
    },
    {
     "name": "stdout",
     "output_type": "stream",
     "text": [
      "loss tf.Tensor(0.0, shape=(), dtype=float32)\n",
      "loss tf.Tensor(0.0, shape=(), dtype=float32)\n",
      "loss tf.Tensor(0.0, shape=(), dtype=float32)\n",
      "loss tf.Tensor(0.0, shape=(), dtype=float32)\n",
      "loss tf.Tensor(0.0, shape=(), dtype=float32)\n",
      "loss tf.Tensor(0.0, shape=(), dtype=float32)\n"
     ]
    },
    {
     "name": "stderr",
     "output_type": "stream",
     "text": [
      " 73%|███████▎  | 7311/10000 [03:42<01:30, 29.88it/s, episode_reward=0, running_reward=0]"
     ]
    },
    {
     "name": "stdout",
     "output_type": "stream",
     "text": [
      "loss tf.Tensor(0.0, shape=(), dtype=float32)\n",
      "loss tf.Tensor(0.0, shape=(), dtype=float32)\n",
      "loss tf.Tensor(0.0, shape=(), dtype=float32)\n",
      "loss tf.Tensor(0.0, shape=(), dtype=float32)\n",
      "loss tf.Tensor(0.0, shape=(), dtype=float32)\n",
      "loss tf.Tensor(0.0, shape=(), dtype=float32)\n",
      "loss tf.Tensor(0.0, shape=(), dtype=float32)\n",
      "loss tf.Tensor(0.0, shape=(), dtype=float32)\n"
     ]
    },
    {
     "name": "stderr",
     "output_type": "stream",
     "text": [
      " 73%|███████▎  | 7319/10000 [03:42<01:22, 32.44it/s, episode_reward=0, running_reward=0]"
     ]
    },
    {
     "name": "stdout",
     "output_type": "stream",
     "text": [
      "loss tf.Tensor(0.0, shape=(), dtype=float32)\n",
      "loss tf.Tensor(0.0, shape=(), dtype=float32)\n",
      "loss tf.Tensor(0.0, shape=(), dtype=float32)\n",
      "loss tf.Tensor(0.0, shape=(), dtype=float32)\n",
      "loss tf.Tensor(0.0, shape=(), dtype=float32)\n",
      "loss tf.Tensor(0.0, shape=(), dtype=float32)\n",
      "loss tf.Tensor(0.0, shape=(), dtype=float32)\n",
      "loss tf.Tensor(0.0, shape=(), dtype=float32)\n"
     ]
    },
    {
     "name": "stderr",
     "output_type": "stream",
     "text": [
      " 73%|███████▎  | 7327/10000 [03:42<01:18, 33.98it/s, episode_reward=0, running_reward=0]"
     ]
    },
    {
     "name": "stdout",
     "output_type": "stream",
     "text": [
      "loss tf.Tensor(0.0, shape=(), dtype=float32)\n",
      "loss tf.Tensor(0.0, shape=(), dtype=float32)\n",
      "loss tf.Tensor(0.0, shape=(), dtype=float32)\n",
      "loss tf.Tensor(0.0, shape=(), dtype=float32)\n",
      "loss tf.Tensor(0.0, shape=(), dtype=float32)\n",
      "loss tf.Tensor(0.0, shape=(), dtype=float32)\n",
      "loss tf.Tensor(0.0, shape=(), dtype=float32)\n",
      "loss tf.Tensor(0.0, shape=(), dtype=float32)\n"
     ]
    },
    {
     "name": "stderr",
     "output_type": "stream",
     "text": [
      " 73%|███████▎  | 7331/10000 [03:43<01:16, 34.99it/s, episode_reward=0, running_reward=0]"
     ]
    },
    {
     "name": "stdout",
     "output_type": "stream",
     "text": [
      "loss tf.Tensor(0.0, shape=(), dtype=float32)\n",
      "loss tf.Tensor(0.0, shape=(), dtype=float32)\n",
      "loss tf.Tensor(0.0, shape=(), dtype=float32)\n",
      "loss tf.Tensor(0.0, shape=(), dtype=float32)\n"
     ]
    },
    {
     "name": "stderr",
     "output_type": "stream",
     "text": [
      " 73%|███████▎  | 7339/10000 [03:43<01:31, 29.02it/s, episode_reward=0, running_reward=0]"
     ]
    },
    {
     "name": "stdout",
     "output_type": "stream",
     "text": [
      "loss tf.Tensor(0.0, shape=(), dtype=float32)\n",
      "loss tf.Tensor(0.0, shape=(), dtype=float32)\n",
      "loss tf.Tensor(0.0, shape=(), dtype=float32)\n",
      "loss tf.Tensor(0.0, shape=(), dtype=float32)\n",
      "loss tf.Tensor(0.0, shape=(), dtype=float32)\n",
      "loss tf.Tensor(0.0, shape=(), dtype=float32)\n",
      "loss tf.Tensor(0.0, shape=(), dtype=float32)\n"
     ]
    },
    {
     "name": "stderr",
     "output_type": "stream",
     "text": [
      " 73%|███████▎  | 7347/10000 [03:43<01:24, 31.40it/s, episode_reward=0, running_reward=0]"
     ]
    },
    {
     "name": "stdout",
     "output_type": "stream",
     "text": [
      "loss tf.Tensor(0.0, shape=(), dtype=float32)\n",
      "loss tf.Tensor(0.0, shape=(), dtype=float32)\n",
      "loss tf.Tensor(0.0, shape=(), dtype=float32)\n",
      "loss tf.Tensor(0.0, shape=(), dtype=float32)\n",
      "loss tf.Tensor(0.0, shape=(), dtype=float32)\n",
      "loss tf.Tensor(0.0, shape=(), dtype=float32)\n",
      "loss tf.Tensor(0.0, shape=(), dtype=float32)\n",
      "loss tf.Tensor(0.0, shape=(), dtype=float32)\n"
     ]
    },
    {
     "name": "stderr",
     "output_type": "stream",
     "text": [
      " 74%|███████▎  | 7355/10000 [03:43<01:18, 33.74it/s, episode_reward=0, running_reward=0]"
     ]
    },
    {
     "name": "stdout",
     "output_type": "stream",
     "text": [
      "loss tf.Tensor(0.0, shape=(), dtype=float32)\n",
      "loss tf.Tensor(0.0, shape=(), dtype=float32)\n",
      "loss tf.Tensor(0.0, shape=(), dtype=float32)\n",
      "loss tf.Tensor(0.0, shape=(), dtype=float32)\n",
      "loss tf.Tensor(0.0, shape=(), dtype=float32)\n",
      "loss tf.Tensor(0.0, shape=(), dtype=float32)\n",
      "loss tf.Tensor(0.0, shape=(), dtype=float32)\n",
      "loss tf.Tensor(0.0, shape=(), dtype=float32)\n"
     ]
    },
    {
     "name": "stderr",
     "output_type": "stream",
     "text": [
      " 74%|███████▎  | 7363/10000 [03:43<01:16, 34.62it/s, episode_reward=0, running_reward=0]"
     ]
    },
    {
     "name": "stdout",
     "output_type": "stream",
     "text": [
      "loss tf.Tensor(0.0, shape=(), dtype=float32)\n",
      "loss tf.Tensor(0.0, shape=(), dtype=float32)\n",
      "loss tf.Tensor(0.0, shape=(), dtype=float32)\n",
      "loss tf.Tensor(0.0, shape=(), dtype=float32)\n",
      "loss tf.Tensor(0.0, shape=(), dtype=float32)\n",
      "loss tf.Tensor(0.0, shape=(), dtype=float32)\n",
      "loss tf.Tensor(0.0, shape=(), dtype=float32)\n",
      "loss tf.Tensor(0.0, shape=(), dtype=float32)\n"
     ]
    },
    {
     "name": "stderr",
     "output_type": "stream",
     "text": [
      " 74%|███████▎  | 7371/10000 [03:44<01:14, 35.24it/s, episode_reward=0, running_reward=0]"
     ]
    },
    {
     "name": "stdout",
     "output_type": "stream",
     "text": [
      "loss tf.Tensor(0.0, shape=(), dtype=float32)\n",
      "loss tf.Tensor(0.0, shape=(), dtype=float32)\n",
      "loss tf.Tensor(0.0, shape=(), dtype=float32)\n",
      "loss tf.Tensor(0.0, shape=(), dtype=float32)\n",
      "loss tf.Tensor(0.0, shape=(), dtype=float32)\n",
      "loss tf.Tensor(0.0, shape=(), dtype=float32)\n",
      "loss tf.Tensor(0.0, shape=(), dtype=float32)\n",
      "loss tf.Tensor(0.0, shape=(), dtype=float32)\n"
     ]
    },
    {
     "name": "stderr",
     "output_type": "stream",
     "text": [
      " 74%|███████▍  | 7379/10000 [03:44<01:14, 35.10it/s, episode_reward=0, running_reward=0]"
     ]
    },
    {
     "name": "stdout",
     "output_type": "stream",
     "text": [
      "loss tf.Tensor(0.0, shape=(), dtype=float32)\n",
      "loss tf.Tensor(0.0, shape=(), dtype=float32)\n",
      "loss tf.Tensor(0.0, shape=(), dtype=float32)\n",
      "loss tf.Tensor(0.0, shape=(), dtype=float32)\n",
      "loss tf.Tensor(0.0, shape=(), dtype=float32)\n",
      "loss tf.Tensor(0.0, shape=(), dtype=float32)\n",
      "loss tf.Tensor(0.0, shape=(), dtype=float32)\n",
      "loss tf.Tensor(0.0, shape=(), dtype=float32)\n"
     ]
    },
    {
     "name": "stderr",
     "output_type": "stream",
     "text": [
      " 74%|███████▍  | 7387/10000 [03:44<01:13, 35.31it/s, episode_reward=0, running_reward=0]"
     ]
    },
    {
     "name": "stdout",
     "output_type": "stream",
     "text": [
      "loss tf.Tensor(0.0, shape=(), dtype=float32)\n",
      "loss tf.Tensor(0.0, shape=(), dtype=float32)\n",
      "loss tf.Tensor(0.0, shape=(), dtype=float32)\n",
      "loss tf.Tensor(0.0, shape=(), dtype=float32)\n",
      "loss tf.Tensor(0.0, shape=(), dtype=float32)\n",
      "loss tf.Tensor(0.0, shape=(), dtype=float32)\n",
      "loss tf.Tensor(0.0, shape=(), dtype=float32)\n",
      "loss tf.Tensor(0.0, shape=(), dtype=float32)\n"
     ]
    },
    {
     "name": "stderr",
     "output_type": "stream",
     "text": [
      " 74%|███████▍  | 7395/10000 [03:44<01:13, 35.50it/s, episode_reward=0, running_reward=0]"
     ]
    },
    {
     "name": "stdout",
     "output_type": "stream",
     "text": [
      "loss tf.Tensor(0.0, shape=(), dtype=float32)\n",
      "loss tf.Tensor(0.0, shape=(), dtype=float32)\n",
      "loss tf.Tensor(0.0, shape=(), dtype=float32)\n",
      "loss tf.Tensor(0.0, shape=(), dtype=float32)\n",
      "loss tf.Tensor(0.0, shape=(), dtype=float32)\n",
      "loss tf.Tensor(0.0, shape=(), dtype=float32)\n",
      "loss tf.Tensor(0.0, shape=(), dtype=float32)\n",
      "loss tf.Tensor(0.0, shape=(), dtype=float32)\n"
     ]
    },
    {
     "name": "stderr",
     "output_type": "stream",
     "text": [
      " 74%|███████▍  | 7399/10000 [03:45<01:13, 35.33it/s, episode_reward=0, running_reward=0]"
     ]
    },
    {
     "name": "stdout",
     "output_type": "stream",
     "text": [
      "loss tf.Tensor(0.0, shape=(), dtype=float32)\n",
      "loss tf.Tensor(0.0, shape=(), dtype=float32)\n",
      "loss tf.Tensor(0.0, shape=(), dtype=float32)\n",
      "loss tf.Tensor(0.0, shape=(), dtype=float32)\n",
      "loss tf.Tensor(0.0, shape=(), dtype=float32)\n"
     ]
    },
    {
     "name": "stderr",
     "output_type": "stream",
     "text": [
      " 74%|███████▍  | 7406/10000 [03:45<01:41, 25.66it/s, episode_reward=0, running_reward=0]"
     ]
    },
    {
     "name": "stdout",
     "output_type": "stream",
     "text": [
      "loss tf.Tensor(0.0, shape=(), dtype=float32)\n",
      "loss tf.Tensor(0.0, shape=(), dtype=float32)\n",
      "loss tf.Tensor(0.0, shape=(), dtype=float32)\n",
      "loss tf.Tensor(0.0, shape=(), dtype=float32)\n",
      "loss tf.Tensor(0.0, shape=(), dtype=float32)\n",
      "loss tf.Tensor(0.0, shape=(), dtype=float32)\n",
      "loss tf.Tensor(0.0, shape=(), dtype=float32)\n"
     ]
    },
    {
     "name": "stderr",
     "output_type": "stream",
     "text": [
      " 74%|███████▍  | 7414/10000 [03:45<01:26, 29.93it/s, episode_reward=0, running_reward=0]"
     ]
    },
    {
     "name": "stdout",
     "output_type": "stream",
     "text": [
      "loss tf.Tensor(0.0, shape=(), dtype=float32)\n",
      "loss tf.Tensor(0.0, shape=(), dtype=float32)\n",
      "loss tf.Tensor(0.0, shape=(), dtype=float32)\n",
      "loss tf.Tensor(0.0, shape=(), dtype=float32)\n",
      "loss tf.Tensor(0.0, shape=(), dtype=float32)\n",
      "loss tf.Tensor(0.0, shape=(), dtype=float32)\n",
      "loss tf.Tensor(0.0, shape=(), dtype=float32)\n",
      "loss tf.Tensor(0.0, shape=(), dtype=float32)\n"
     ]
    },
    {
     "name": "stderr",
     "output_type": "stream",
     "text": [
      " 74%|███████▍  | 7422/10000 [03:45<01:19, 32.49it/s, episode_reward=0, running_reward=0]"
     ]
    },
    {
     "name": "stdout",
     "output_type": "stream",
     "text": [
      "loss tf.Tensor(0.0, shape=(), dtype=float32)\n",
      "loss tf.Tensor(0.0, shape=(), dtype=float32)\n",
      "loss tf.Tensor(0.0, shape=(), dtype=float32)\n",
      "loss tf.Tensor(0.0, shape=(), dtype=float32)\n",
      "loss tf.Tensor(0.0, shape=(), dtype=float32)\n",
      "loss tf.Tensor(0.0, shape=(), dtype=float32)\n",
      "loss tf.Tensor(0.0, shape=(), dtype=float32)\n",
      "loss tf.Tensor(0.0, shape=(), dtype=float32)\n"
     ]
    },
    {
     "name": "stderr",
     "output_type": "stream",
     "text": [
      " 74%|███████▍  | 7430/10000 [03:46<01:15, 34.01it/s, episode_reward=0, running_reward=0]"
     ]
    },
    {
     "name": "stdout",
     "output_type": "stream",
     "text": [
      "loss tf.Tensor(0.0, shape=(), dtype=float32)\n",
      "loss tf.Tensor(0.0, shape=(), dtype=float32)\n",
      "loss tf.Tensor(0.0, shape=(), dtype=float32)\n",
      "loss tf.Tensor(0.0, shape=(), dtype=float32)\n",
      "loss tf.Tensor(0.0, shape=(), dtype=float32)\n",
      "loss tf.Tensor(0.0, shape=(), dtype=float32)\n",
      "loss tf.Tensor(0.0, shape=(), dtype=float32)\n",
      "loss tf.Tensor(0.0, shape=(), dtype=float32)\n"
     ]
    },
    {
     "name": "stderr",
     "output_type": "stream",
     "text": [
      " 74%|███████▍  | 7434/10000 [03:46<01:14, 34.64it/s, episode_reward=0, running_reward=0]"
     ]
    },
    {
     "name": "stdout",
     "output_type": "stream",
     "text": [
      "loss tf.Tensor(0.0, shape=(), dtype=float32)\n",
      "loss tf.Tensor(0.0, shape=(), dtype=float32)\n",
      "loss tf.Tensor(0.0, shape=(), dtype=float32)\n",
      "loss tf.Tensor(0.0, shape=(), dtype=float32)\n"
     ]
    },
    {
     "name": "stderr",
     "output_type": "stream",
     "text": [
      " 74%|███████▍  | 7441/10000 [03:46<01:37, 26.17it/s, episode_reward=0, running_reward=0]"
     ]
    },
    {
     "name": "stdout",
     "output_type": "stream",
     "text": [
      "loss tf.Tensor(0.0, shape=(), dtype=float32)\n",
      "loss tf.Tensor(0.0, shape=(), dtype=float32)\n",
      "loss tf.Tensor(0.0, shape=(), dtype=float32)\n",
      "loss tf.Tensor(0.0, shape=(), dtype=float32)\n",
      "loss tf.Tensor(0.0, shape=(), dtype=float32)\n",
      "loss tf.Tensor(0.0, shape=(), dtype=float32)\n",
      "loss tf.Tensor(0.0, shape=(), dtype=float32)\n"
     ]
    },
    {
     "name": "stderr",
     "output_type": "stream",
     "text": [
      " 74%|███████▍  | 7449/10000 [03:46<01:24, 30.07it/s, episode_reward=0, running_reward=0]"
     ]
    },
    {
     "name": "stdout",
     "output_type": "stream",
     "text": [
      "loss tf.Tensor(0.0, shape=(), dtype=float32)\n",
      "loss tf.Tensor(0.0, shape=(), dtype=float32)\n",
      "loss tf.Tensor(0.0, shape=(), dtype=float32)\n",
      "loss tf.Tensor(0.0, shape=(), dtype=float32)\n",
      "loss tf.Tensor(0.0, shape=(), dtype=float32)\n",
      "loss tf.Tensor(0.0, shape=(), dtype=float32)\n",
      "loss tf.Tensor(0.0, shape=(), dtype=float32)\n"
     ]
    },
    {
     "name": "stderr",
     "output_type": "stream",
     "text": [
      " 75%|███████▍  | 7457/10000 [03:46<01:16, 33.15it/s, episode_reward=0, running_reward=0]"
     ]
    },
    {
     "name": "stdout",
     "output_type": "stream",
     "text": [
      "loss tf.Tensor(0.0, shape=(), dtype=float32)\n",
      "loss tf.Tensor(0.0, shape=(), dtype=float32)\n",
      "loss tf.Tensor(0.0, shape=(), dtype=float32)\n",
      "loss tf.Tensor(0.0, shape=(), dtype=float32)\n",
      "loss tf.Tensor(0.0, shape=(), dtype=float32)\n",
      "loss tf.Tensor(0.0, shape=(), dtype=float32)\n",
      "loss tf.Tensor(0.0, shape=(), dtype=float32)\n",
      "loss tf.Tensor(0.0, shape=(), dtype=float32)\n"
     ]
    },
    {
     "name": "stderr",
     "output_type": "stream",
     "text": [
      " 75%|███████▍  | 7465/10000 [03:47<01:13, 34.36it/s, episode_reward=0, running_reward=0]"
     ]
    },
    {
     "name": "stdout",
     "output_type": "stream",
     "text": [
      "loss tf.Tensor(0.0, shape=(), dtype=float32)\n",
      "loss tf.Tensor(0.0, shape=(), dtype=float32)\n",
      "loss tf.Tensor(0.0, shape=(), dtype=float32)\n",
      "loss tf.Tensor(0.0, shape=(), dtype=float32)\n",
      "loss tf.Tensor(0.0, shape=(), dtype=float32)\n",
      "loss tf.Tensor(0.0, shape=(), dtype=float32)\n",
      "loss tf.Tensor(0.0, shape=(), dtype=float32)\n",
      "loss tf.Tensor(0.0, shape=(), dtype=float32)\n"
     ]
    },
    {
     "name": "stderr",
     "output_type": "stream",
     "text": [
      " 75%|███████▍  | 7473/10000 [03:47<01:13, 34.60it/s, episode_reward=0, running_reward=0]"
     ]
    },
    {
     "name": "stdout",
     "output_type": "stream",
     "text": [
      "loss tf.Tensor(0.0, shape=(), dtype=float32)\n",
      "loss tf.Tensor(0.0, shape=(), dtype=float32)\n",
      "loss tf.Tensor(0.0, shape=(), dtype=float32)\n",
      "loss tf.Tensor(0.0, shape=(), dtype=float32)\n",
      "loss tf.Tensor(0.0, shape=(), dtype=float32)\n",
      "loss tf.Tensor(0.0, shape=(), dtype=float32)\n",
      "loss tf.Tensor(0.0, shape=(), dtype=float32)\n"
     ]
    },
    {
     "name": "stderr",
     "output_type": "stream",
     "text": [
      " 75%|███████▍  | 7481/10000 [03:47<01:11, 35.48it/s, episode_reward=0, running_reward=0]"
     ]
    },
    {
     "name": "stdout",
     "output_type": "stream",
     "text": [
      "loss tf.Tensor(0.0, shape=(), dtype=float32)\n",
      "loss tf.Tensor(0.0, shape=(), dtype=float32)\n",
      "loss tf.Tensor(0.0, shape=(), dtype=float32)\n",
      "loss tf.Tensor(0.0, shape=(), dtype=float32)\n",
      "loss tf.Tensor(0.0, shape=(), dtype=float32)\n",
      "loss tf.Tensor(0.0, shape=(), dtype=float32)\n",
      "loss tf.Tensor(0.0, shape=(), dtype=float32)\n",
      "loss tf.Tensor(0.0, shape=(), dtype=float32)\n"
     ]
    },
    {
     "name": "stderr",
     "output_type": "stream",
     "text": [
      " 75%|███████▍  | 7485/10000 [03:47<01:37, 25.74it/s, episode_reward=0, running_reward=0]"
     ]
    },
    {
     "name": "stdout",
     "output_type": "stream",
     "text": [
      "loss tf.Tensor(0.0, shape=(), dtype=float32)\n",
      "loss tf.Tensor(0.0, shape=(), dtype=float32)\n",
      "loss tf.Tensor(0.0, shape=(), dtype=float32)\n",
      "loss tf.Tensor(0.0, shape=(), dtype=float32)\n",
      "loss tf.Tensor(0.0, shape=(), dtype=float32)\n"
     ]
    },
    {
     "name": "stderr",
     "output_type": "stream",
     "text": [
      " 75%|███████▍  | 7492/10000 [03:48<01:27, 28.55it/s, episode_reward=0, running_reward=0]"
     ]
    },
    {
     "name": "stdout",
     "output_type": "stream",
     "text": [
      "loss tf.Tensor(0.0, shape=(), dtype=float32)\n",
      "loss tf.Tensor(0.0, shape=(), dtype=float32)\n",
      "loss tf.Tensor(0.0, shape=(), dtype=float32)\n",
      "loss tf.Tensor(0.0, shape=(), dtype=float32)\n",
      "loss tf.Tensor(0.0, shape=(), dtype=float32)\n",
      "loss tf.Tensor(0.0, shape=(), dtype=float32)\n",
      "loss tf.Tensor(0.0, shape=(), dtype=float32)\n",
      "loss tf.Tensor(0.0, shape=(), dtype=float32)\n"
     ]
    },
    {
     "name": "stderr",
     "output_type": "stream",
     "text": [
      " 75%|███████▌  | 7500/10000 [03:48<01:21, 30.73it/s, episode_reward=0, running_reward=0]"
     ]
    },
    {
     "name": "stdout",
     "output_type": "stream",
     "text": [
      "loss tf.Tensor(0.0, shape=(), dtype=float32)\n",
      "loss tf.Tensor(0.0, shape=(), dtype=float32)\n",
      "loss tf.Tensor(0.0, shape=(), dtype=float32)\n",
      "loss tf.Tensor(0.0, shape=(), dtype=float32)\n",
      "loss tf.Tensor(0.0, shape=(), dtype=float32)\n",
      "loss tf.Tensor(0.0, shape=(), dtype=float32)\n",
      "loss tf.Tensor(0.0, shape=(), dtype=float32)\n"
     ]
    },
    {
     "name": "stderr",
     "output_type": "stream",
     "text": [
      " 75%|███████▌  | 7508/10000 [03:48<01:14, 33.51it/s, episode_reward=0, running_reward=0]"
     ]
    },
    {
     "name": "stdout",
     "output_type": "stream",
     "text": [
      "loss tf.Tensor(0.0, shape=(), dtype=float32)\n",
      "loss tf.Tensor(0.0, shape=(), dtype=float32)\n",
      "loss tf.Tensor(0.0, shape=(), dtype=float32)\n",
      "loss tf.Tensor(0.0, shape=(), dtype=float32)\n",
      "loss tf.Tensor(0.0, shape=(), dtype=float32)\n",
      "loss tf.Tensor(0.0, shape=(), dtype=float32)\n",
      "loss tf.Tensor(0.0, shape=(), dtype=float32)\n",
      "loss tf.Tensor(0.0, shape=(), dtype=float32)\n"
     ]
    },
    {
     "name": "stderr",
     "output_type": "stream",
     "text": [
      " 75%|███████▌  | 7516/10000 [03:48<01:12, 34.06it/s, episode_reward=0, running_reward=0]"
     ]
    },
    {
     "name": "stdout",
     "output_type": "stream",
     "text": [
      "loss tf.Tensor(0.0, shape=(), dtype=float32)\n",
      "loss tf.Tensor(0.0, shape=(), dtype=float32)\n",
      "loss tf.Tensor(0.0, shape=(), dtype=float32)\n",
      "loss tf.Tensor(0.0, shape=(), dtype=float32)\n",
      "loss tf.Tensor(0.0, shape=(), dtype=float32)\n",
      "loss tf.Tensor(0.0, shape=(), dtype=float32)\n",
      "loss tf.Tensor(0.0, shape=(), dtype=float32)\n",
      "loss tf.Tensor(0.0, shape=(), dtype=float32)\n"
     ]
    },
    {
     "name": "stderr",
     "output_type": "stream",
     "text": [
      " 75%|███████▌  | 7524/10000 [03:48<01:10, 35.31it/s, episode_reward=0, running_reward=0]"
     ]
    },
    {
     "name": "stdout",
     "output_type": "stream",
     "text": [
      "loss tf.Tensor(0.0, shape=(), dtype=float32)\n",
      "loss tf.Tensor(0.0, shape=(), dtype=float32)\n",
      "loss tf.Tensor(0.0, shape=(), dtype=float32)\n",
      "loss tf.Tensor(0.0, shape=(), dtype=float32)\n",
      "loss tf.Tensor(0.0, shape=(), dtype=float32)\n",
      "loss tf.Tensor(0.0, shape=(), dtype=float32)\n"
     ]
    },
    {
     "name": "stderr",
     "output_type": "stream",
     "text": [
      " 75%|███████▌  | 7528/10000 [03:49<01:43, 23.86it/s, episode_reward=0, running_reward=0]"
     ]
    },
    {
     "name": "stdout",
     "output_type": "stream",
     "text": [
      "loss tf.Tensor(0.0, shape=(), dtype=float32)\n",
      "loss tf.Tensor(0.0, shape=(), dtype=float32)\n",
      "loss tf.Tensor(0.0, shape=(), dtype=float32)\n",
      "loss tf.Tensor(0.0, shape=(), dtype=float32)\n",
      "loss tf.Tensor(0.0, shape=(), dtype=float32)\n",
      "loss tf.Tensor(0.0, shape=(), dtype=float32)\n",
      "loss tf.Tensor(0.0, shape=(), dtype=float32)\n"
     ]
    },
    {
     "name": "stderr",
     "output_type": "stream",
     "text": [
      " 75%|███████▌  | 7536/10000 [03:49<01:25, 28.70it/s, episode_reward=0, running_reward=0]"
     ]
    },
    {
     "name": "stdout",
     "output_type": "stream",
     "text": [
      "loss tf.Tensor(0.0, shape=(), dtype=float32)\n",
      "loss tf.Tensor(0.0, shape=(), dtype=float32)\n",
      "loss tf.Tensor(0.0, shape=(), dtype=float32)\n",
      "loss tf.Tensor(0.0, shape=(), dtype=float32)\n",
      "loss tf.Tensor(0.0, shape=(), dtype=float32)\n",
      "loss tf.Tensor(0.0, shape=(), dtype=float32)\n",
      "loss tf.Tensor(0.0, shape=(), dtype=float32)\n",
      "loss tf.Tensor(0.0, shape=(), dtype=float32)\n"
     ]
    },
    {
     "name": "stderr",
     "output_type": "stream",
     "text": [
      " 75%|███████▌  | 7544/10000 [03:49<01:17, 31.77it/s, episode_reward=0, running_reward=0]"
     ]
    },
    {
     "name": "stdout",
     "output_type": "stream",
     "text": [
      "loss tf.Tensor(0.0, shape=(), dtype=float32)\n",
      "loss tf.Tensor(0.0, shape=(), dtype=float32)\n",
      "loss tf.Tensor(0.0, shape=(), dtype=float32)\n",
      "loss tf.Tensor(0.0, shape=(), dtype=float32)\n",
      "loss tf.Tensor(0.0, shape=(), dtype=float32)\n",
      "loss tf.Tensor(0.0, shape=(), dtype=float32)\n",
      "loss tf.Tensor(0.0, shape=(), dtype=float32)\n",
      "loss tf.Tensor(0.0, shape=(), dtype=float32)\n"
     ]
    },
    {
     "name": "stderr",
     "output_type": "stream",
     "text": [
      " 76%|███████▌  | 7552/10000 [03:50<01:14, 32.99it/s, episode_reward=0, running_reward=0]"
     ]
    },
    {
     "name": "stdout",
     "output_type": "stream",
     "text": [
      "loss tf.Tensor(0.0, shape=(), dtype=float32)\n",
      "loss tf.Tensor(0.0, shape=(), dtype=float32)\n",
      "loss tf.Tensor(0.0, shape=(), dtype=float32)\n",
      "loss tf.Tensor(0.0, shape=(), dtype=float32)\n",
      "loss tf.Tensor(0.0, shape=(), dtype=float32)\n",
      "loss tf.Tensor(0.0, shape=(), dtype=float32)\n",
      "loss tf.Tensor(0.0, shape=(), dtype=float32)\n"
     ]
    },
    {
     "name": "stderr",
     "output_type": "stream",
     "text": [
      " 76%|███████▌  | 7560/10000 [03:50<01:10, 34.39it/s, episode_reward=0, running_reward=0]"
     ]
    },
    {
     "name": "stdout",
     "output_type": "stream",
     "text": [
      "loss tf.Tensor(0.0, shape=(), dtype=float32)\n",
      "loss tf.Tensor(0.0, shape=(), dtype=float32)\n",
      "loss tf.Tensor(0.0, shape=(), dtype=float32)\n",
      "loss tf.Tensor(0.0, shape=(), dtype=float32)\n",
      "loss tf.Tensor(0.0, shape=(), dtype=float32)\n",
      "loss tf.Tensor(0.0, shape=(), dtype=float32)\n",
      "loss tf.Tensor(0.0, shape=(), dtype=float32)\n",
      "loss tf.Tensor(0.0, shape=(), dtype=float32)\n"
     ]
    },
    {
     "name": "stderr",
     "output_type": "stream",
     "text": [
      " 76%|███████▌  | 7567/10000 [03:50<01:34, 25.88it/s, episode_reward=0, running_reward=0]"
     ]
    },
    {
     "name": "stdout",
     "output_type": "stream",
     "text": [
      "loss tf.Tensor(0.0, shape=(), dtype=float32)\n",
      "loss tf.Tensor(0.0, shape=(), dtype=float32)\n",
      "loss tf.Tensor(0.0, shape=(), dtype=float32)\n",
      "loss tf.Tensor(0.0, shape=(), dtype=float32)\n",
      "loss tf.Tensor(0.0, shape=(), dtype=float32)\n",
      "loss tf.Tensor(0.0, shape=(), dtype=float32)\n",
      "loss tf.Tensor(0.0, shape=(), dtype=float32)\n"
     ]
    },
    {
     "name": "stderr",
     "output_type": "stream",
     "text": [
      " 76%|███████▌  | 7575/10000 [03:50<01:21, 29.64it/s, episode_reward=0, running_reward=0]"
     ]
    },
    {
     "name": "stdout",
     "output_type": "stream",
     "text": [
      "loss tf.Tensor(0.0, shape=(), dtype=float32)\n",
      "loss tf.Tensor(0.0, shape=(), dtype=float32)\n",
      "loss tf.Tensor(0.0, shape=(), dtype=float32)\n",
      "loss tf.Tensor(0.0, shape=(), dtype=float32)\n",
      "loss tf.Tensor(0.0, shape=(), dtype=float32)\n",
      "loss tf.Tensor(0.0, shape=(), dtype=float32)\n",
      "loss tf.Tensor(0.0, shape=(), dtype=float32)\n"
     ]
    },
    {
     "name": "stderr",
     "output_type": "stream",
     "text": [
      " 76%|███████▌  | 7583/10000 [03:51<01:16, 31.72it/s, episode_reward=0, running_reward=0]"
     ]
    },
    {
     "name": "stdout",
     "output_type": "stream",
     "text": [
      "loss tf.Tensor(0.0, shape=(), dtype=float32)\n",
      "loss tf.Tensor(0.0, shape=(), dtype=float32)\n",
      "loss tf.Tensor(0.0, shape=(), dtype=float32)\n",
      "loss tf.Tensor(0.0, shape=(), dtype=float32)\n",
      "loss tf.Tensor(0.0, shape=(), dtype=float32)\n",
      "loss tf.Tensor(0.0, shape=(), dtype=float32)\n",
      "loss tf.Tensor(0.0, shape=(), dtype=float32)\n"
     ]
    },
    {
     "name": "stderr",
     "output_type": "stream",
     "text": [
      " 76%|███████▌  | 7591/10000 [03:51<01:10, 33.99it/s, episode_reward=0, running_reward=0]"
     ]
    },
    {
     "name": "stdout",
     "output_type": "stream",
     "text": [
      "loss tf.Tensor(0.0, shape=(), dtype=float32)\n",
      "loss tf.Tensor(0.0, shape=(), dtype=float32)\n",
      "loss tf.Tensor(0.0, shape=(), dtype=float32)\n",
      "loss tf.Tensor(0.0, shape=(), dtype=float32)\n",
      "loss tf.Tensor(0.0, shape=(), dtype=float32)\n",
      "loss tf.Tensor(0.0, shape=(), dtype=float32)\n",
      "loss tf.Tensor(0.0, shape=(), dtype=float32)\n",
      "loss tf.Tensor(0.0, shape=(), dtype=float32)\n"
     ]
    },
    {
     "name": "stderr",
     "output_type": "stream",
     "text": [
      " 76%|███████▌  | 7599/10000 [03:51<01:09, 34.71it/s, episode_reward=0, running_reward=0]"
     ]
    },
    {
     "name": "stdout",
     "output_type": "stream",
     "text": [
      "loss tf.Tensor(0.0, shape=(), dtype=float32)\n",
      "loss tf.Tensor(0.0, shape=(), dtype=float32)\n",
      "loss tf.Tensor(0.0, shape=(), dtype=float32)\n",
      "loss tf.Tensor(0.0, shape=(), dtype=float32)\n",
      "loss tf.Tensor(0.0, shape=(), dtype=float32)\n",
      "loss tf.Tensor(0.0, shape=(), dtype=float32)\n",
      "loss tf.Tensor(0.0, shape=(), dtype=float32)\n",
      "loss tf.Tensor(0.0, shape=(), dtype=float32)\n"
     ]
    },
    {
     "name": "stderr",
     "output_type": "stream",
     "text": [
      " 76%|███████▌  | 7603/10000 [03:51<01:10, 34.22it/s, episode_reward=0, running_reward=0]"
     ]
    },
    {
     "name": "stdout",
     "output_type": "stream",
     "text": [
      "loss tf.Tensor(0.0, shape=(), dtype=float32)\n",
      "loss tf.Tensor(0.0, shape=(), dtype=float32)\n",
      "loss tf.Tensor(0.0, shape=(), dtype=float32)\n",
      "loss tf.Tensor(0.0, shape=(), dtype=float32)\n",
      "loss tf.Tensor(0.0, shape=(), dtype=float32)\n"
     ]
    },
    {
     "name": "stderr",
     "output_type": "stream",
     "text": [
      " 76%|███████▌  | 7611/10000 [03:51<01:29, 26.74it/s, episode_reward=0, running_reward=0]"
     ]
    },
    {
     "name": "stdout",
     "output_type": "stream",
     "text": [
      "loss tf.Tensor(0.0, shape=(), dtype=float32)\n",
      "loss tf.Tensor(0.0, shape=(), dtype=float32)\n",
      "loss tf.Tensor(0.0, shape=(), dtype=float32)\n",
      "loss tf.Tensor(0.0, shape=(), dtype=float32)\n",
      "loss tf.Tensor(0.0, shape=(), dtype=float32)\n",
      "loss tf.Tensor(0.0, shape=(), dtype=float32)\n",
      "loss tf.Tensor(0.0, shape=(), dtype=float32)\n"
     ]
    },
    {
     "name": "stderr",
     "output_type": "stream",
     "text": [
      " 76%|███████▌  | 7619/10000 [03:52<01:17, 30.79it/s, episode_reward=0, running_reward=0]"
     ]
    },
    {
     "name": "stdout",
     "output_type": "stream",
     "text": [
      "loss tf.Tensor(0.0, shape=(), dtype=float32)\n",
      "loss tf.Tensor(0.0, shape=(), dtype=float32)\n",
      "loss tf.Tensor(0.0, shape=(), dtype=float32)\n",
      "loss tf.Tensor(0.0, shape=(), dtype=float32)\n",
      "loss tf.Tensor(0.0, shape=(), dtype=float32)\n",
      "loss tf.Tensor(0.0, shape=(), dtype=float32)\n",
      "loss tf.Tensor(0.0, shape=(), dtype=float32)\n",
      "loss tf.Tensor(0.0, shape=(), dtype=float32)\n"
     ]
    },
    {
     "name": "stderr",
     "output_type": "stream",
     "text": [
      " 76%|███████▋  | 7627/10000 [03:52<01:11, 33.20it/s, episode_reward=0, running_reward=0]"
     ]
    },
    {
     "name": "stdout",
     "output_type": "stream",
     "text": [
      "loss tf.Tensor(0.0, shape=(), dtype=float32)\n",
      "loss tf.Tensor(0.0, shape=(), dtype=float32)\n",
      "loss tf.Tensor(0.0, shape=(), dtype=float32)\n",
      "loss tf.Tensor(0.0, shape=(), dtype=float32)\n",
      "loss tf.Tensor(0.0, shape=(), dtype=float32)\n",
      "loss tf.Tensor(0.0, shape=(), dtype=float32)\n",
      "loss tf.Tensor(0.0, shape=(), dtype=float32)\n",
      "loss tf.Tensor(0.0, shape=(), dtype=float32)\n"
     ]
    },
    {
     "name": "stderr",
     "output_type": "stream",
     "text": [
      " 76%|███████▋  | 7635/10000 [03:52<01:08, 34.53it/s, episode_reward=0, running_reward=0]"
     ]
    },
    {
     "name": "stdout",
     "output_type": "stream",
     "text": [
      "loss tf.Tensor(0.0, shape=(), dtype=float32)\n",
      "loss tf.Tensor(0.0, shape=(), dtype=float32)\n",
      "loss tf.Tensor(0.0, shape=(), dtype=float32)\n",
      "loss tf.Tensor(0.0, shape=(), dtype=float32)\n",
      "loss tf.Tensor(0.0, shape=(), dtype=float32)\n",
      "loss tf.Tensor(0.0, shape=(), dtype=float32)\n",
      "loss tf.Tensor(0.0, shape=(), dtype=float32)\n",
      "loss tf.Tensor(0.0, shape=(), dtype=float32)\n"
     ]
    },
    {
     "name": "stderr",
     "output_type": "stream",
     "text": [
      " 76%|███████▋  | 7639/10000 [03:52<01:08, 34.41it/s, episode_reward=0, running_reward=0]"
     ]
    },
    {
     "name": "stdout",
     "output_type": "stream",
     "text": [
      "loss tf.Tensor(0.0, shape=(), dtype=float32)\n",
      "loss tf.Tensor(0.0, shape=(), dtype=float32)\n",
      "loss tf.Tensor(0.0, shape=(), dtype=float32)\n",
      "loss tf.Tensor(0.0, shape=(), dtype=float32)\n",
      "loss tf.Tensor(0.0, shape=(), dtype=float32)\n",
      "loss tf.Tensor(0.0, shape=(), dtype=float32)\n"
     ]
    },
    {
     "name": "stderr",
     "output_type": "stream",
     "text": [
      " 76%|███████▋  | 7647/10000 [03:53<01:30, 26.10it/s, episode_reward=0, running_reward=0]"
     ]
    },
    {
     "name": "stdout",
     "output_type": "stream",
     "text": [
      "loss tf.Tensor(0.0, shape=(), dtype=float32)\n",
      "loss tf.Tensor(0.0, shape=(), dtype=float32)\n",
      "loss tf.Tensor(0.0, shape=(), dtype=float32)\n",
      "loss tf.Tensor(0.0, shape=(), dtype=float32)\n",
      "loss tf.Tensor(0.0, shape=(), dtype=float32)\n",
      "loss tf.Tensor(0.0, shape=(), dtype=float32)\n",
      "loss tf.Tensor(0.0, shape=(), dtype=float32)\n"
     ]
    },
    {
     "name": "stderr",
     "output_type": "stream",
     "text": [
      " 77%|███████▋  | 7655/10000 [03:53<01:19, 29.50it/s, episode_reward=0, running_reward=0]"
     ]
    },
    {
     "name": "stdout",
     "output_type": "stream",
     "text": [
      "loss tf.Tensor(0.0, shape=(), dtype=float32)\n",
      "loss tf.Tensor(0.0, shape=(), dtype=float32)\n",
      "loss tf.Tensor(0.0, shape=(), dtype=float32)\n",
      "loss tf.Tensor(0.0, shape=(), dtype=float32)\n",
      "loss tf.Tensor(0.0, shape=(), dtype=float32)\n",
      "loss tf.Tensor(0.0, shape=(), dtype=float32)\n",
      "loss tf.Tensor(0.0, shape=(), dtype=float32)\n"
     ]
    },
    {
     "name": "stderr",
     "output_type": "stream",
     "text": [
      " 77%|███████▋  | 7663/10000 [03:53<01:12, 32.41it/s, episode_reward=0, running_reward=0]"
     ]
    },
    {
     "name": "stdout",
     "output_type": "stream",
     "text": [
      "loss tf.Tensor(0.0, shape=(), dtype=float32)\n",
      "loss tf.Tensor(0.0, shape=(), dtype=float32)\n",
      "loss tf.Tensor(0.0, shape=(), dtype=float32)\n",
      "loss tf.Tensor(0.0, shape=(), dtype=float32)\n",
      "loss tf.Tensor(0.0, shape=(), dtype=float32)\n",
      "loss tf.Tensor(0.0, shape=(), dtype=float32)\n",
      "loss tf.Tensor(0.0, shape=(), dtype=float32)\n",
      "loss tf.Tensor(0.0, shape=(), dtype=float32)\n"
     ]
    },
    {
     "name": "stderr",
     "output_type": "stream",
     "text": [
      " 77%|███████▋  | 7671/10000 [03:53<01:08, 33.88it/s, episode_reward=0, running_reward=0]"
     ]
    },
    {
     "name": "stdout",
     "output_type": "stream",
     "text": [
      "loss tf.Tensor(0.0, shape=(), dtype=float32)\n",
      "loss tf.Tensor(0.0, shape=(), dtype=float32)\n",
      "loss tf.Tensor(0.0, shape=(), dtype=float32)\n",
      "loss tf.Tensor(0.0, shape=(), dtype=float32)\n",
      "loss tf.Tensor(0.0, shape=(), dtype=float32)\n",
      "loss tf.Tensor(0.0, shape=(), dtype=float32)\n",
      "loss tf.Tensor(0.0, shape=(), dtype=float32)\n",
      "loss tf.Tensor(0.0, shape=(), dtype=float32)\n"
     ]
    },
    {
     "name": "stderr",
     "output_type": "stream",
     "text": [
      " 77%|███████▋  | 7675/10000 [03:54<01:34, 24.57it/s, episode_reward=0, running_reward=0]"
     ]
    },
    {
     "name": "stdout",
     "output_type": "stream",
     "text": [
      "loss tf.Tensor(0.0, shape=(), dtype=float32)\n",
      "loss tf.Tensor(0.0, shape=(), dtype=float32)\n",
      "loss tf.Tensor(0.0, shape=(), dtype=float32)\n",
      "loss tf.Tensor(0.0, shape=(), dtype=float32)\n",
      "loss tf.Tensor(0.0, shape=(), dtype=float32)\n",
      "loss tf.Tensor(0.0, shape=(), dtype=float32)\n"
     ]
    },
    {
     "name": "stderr",
     "output_type": "stream",
     "text": [
      " 77%|███████▋  | 7683/10000 [03:54<01:19, 29.16it/s, episode_reward=0, running_reward=0]"
     ]
    },
    {
     "name": "stdout",
     "output_type": "stream",
     "text": [
      "loss tf.Tensor(0.0, shape=(), dtype=float32)\n",
      "loss tf.Tensor(0.0, shape=(), dtype=float32)\n",
      "loss tf.Tensor(0.0, shape=(), dtype=float32)\n",
      "loss tf.Tensor(0.0, shape=(), dtype=float32)\n",
      "loss tf.Tensor(0.0, shape=(), dtype=float32)\n",
      "loss tf.Tensor(0.0, shape=(), dtype=float32)\n",
      "loss tf.Tensor(0.0, shape=(), dtype=float32)\n",
      "loss tf.Tensor(0.0, shape=(), dtype=float32)\n"
     ]
    },
    {
     "name": "stderr",
     "output_type": "stream",
     "text": [
      " 77%|███████▋  | 7691/10000 [03:54<01:15, 30.75it/s, episode_reward=0, running_reward=0]"
     ]
    },
    {
     "name": "stdout",
     "output_type": "stream",
     "text": [
      "loss tf.Tensor(0.0, shape=(), dtype=float32)\n",
      "loss tf.Tensor(0.0, shape=(), dtype=float32)\n",
      "loss tf.Tensor(0.0, shape=(), dtype=float32)\n",
      "loss tf.Tensor(0.0, shape=(), dtype=float32)\n",
      "loss tf.Tensor(0.0, shape=(), dtype=float32)\n",
      "loss tf.Tensor(0.0, shape=(), dtype=float32)\n",
      "loss tf.Tensor(0.0, shape=(), dtype=float32)\n"
     ]
    },
    {
     "name": "stderr",
     "output_type": "stream",
     "text": [
      " 77%|███████▋  | 7699/10000 [03:54<01:09, 33.15it/s, episode_reward=0, running_reward=0]"
     ]
    },
    {
     "name": "stdout",
     "output_type": "stream",
     "text": [
      "loss tf.Tensor(0.0, shape=(), dtype=float32)\n",
      "loss tf.Tensor(0.0, shape=(), dtype=float32)\n",
      "loss tf.Tensor(0.0, shape=(), dtype=float32)\n",
      "loss tf.Tensor(0.0, shape=(), dtype=float32)\n",
      "loss tf.Tensor(0.0, shape=(), dtype=float32)\n",
      "loss tf.Tensor(0.0, shape=(), dtype=float32)\n",
      "loss tf.Tensor(0.0, shape=(), dtype=float32)\n",
      "loss tf.Tensor(0.0, shape=(), dtype=float32)\n"
     ]
    },
    {
     "name": "stderr",
     "output_type": "stream",
     "text": [
      " 77%|███████▋  | 7703/10000 [03:54<01:09, 33.18it/s, episode_reward=0, running_reward=0]"
     ]
    },
    {
     "name": "stdout",
     "output_type": "stream",
     "text": [
      "loss tf.Tensor(0.0, shape=(), dtype=float32)\n",
      "loss tf.Tensor(0.0, shape=(), dtype=float32)\n",
      "loss tf.Tensor(0.0, shape=(), dtype=float32)\n",
      "loss tf.Tensor(0.0, shape=(), dtype=float32)\n"
     ]
    },
    {
     "name": "stderr",
     "output_type": "stream",
     "text": [
      " 77%|███████▋  | 7711/10000 [03:55<01:27, 26.13it/s, episode_reward=0, running_reward=0]"
     ]
    },
    {
     "name": "stdout",
     "output_type": "stream",
     "text": [
      "loss tf.Tensor(0.0, shape=(), dtype=float32)\n",
      "loss tf.Tensor(0.0, shape=(), dtype=float32)\n",
      "loss tf.Tensor(0.0, shape=(), dtype=float32)\n",
      "loss tf.Tensor(0.0, shape=(), dtype=float32)\n",
      "loss tf.Tensor(0.0, shape=(), dtype=float32)\n",
      "loss tf.Tensor(0.0, shape=(), dtype=float32)\n",
      "loss tf.Tensor(0.0, shape=(), dtype=float32)\n"
     ]
    },
    {
     "name": "stderr",
     "output_type": "stream",
     "text": [
      " 77%|███████▋  | 7719/10000 [03:55<01:15, 30.32it/s, episode_reward=0, running_reward=0]"
     ]
    },
    {
     "name": "stdout",
     "output_type": "stream",
     "text": [
      "loss tf.Tensor(0.0, shape=(), dtype=float32)\n",
      "loss tf.Tensor(0.0, shape=(), dtype=float32)\n",
      "loss tf.Tensor(0.0, shape=(), dtype=float32)\n",
      "loss tf.Tensor(0.0, shape=(), dtype=float32)\n",
      "loss tf.Tensor(0.0, shape=(), dtype=float32)\n",
      "loss tf.Tensor(0.0, shape=(), dtype=float32)\n",
      "loss tf.Tensor(0.0, shape=(), dtype=float32)\n",
      "loss tf.Tensor(0.0, shape=(), dtype=float32)\n"
     ]
    },
    {
     "name": "stderr",
     "output_type": "stream",
     "text": [
      " 77%|███████▋  | 7727/10000 [03:55<01:09, 32.89it/s, episode_reward=0, running_reward=0]"
     ]
    },
    {
     "name": "stdout",
     "output_type": "stream",
     "text": [
      "loss tf.Tensor(0.0, shape=(), dtype=float32)\n",
      "loss tf.Tensor(0.0, shape=(), dtype=float32)\n",
      "loss tf.Tensor(0.0, shape=(), dtype=float32)\n",
      "loss tf.Tensor(0.0, shape=(), dtype=float32)\n",
      "loss tf.Tensor(0.0, shape=(), dtype=float32)\n",
      "loss tf.Tensor(0.0, shape=(), dtype=float32)\n",
      "loss tf.Tensor(0.0, shape=(), dtype=float32)\n",
      "loss tf.Tensor(0.0, shape=(), dtype=float32)\n"
     ]
    },
    {
     "name": "stderr",
     "output_type": "stream",
     "text": [
      " 77%|███████▋  | 7731/10000 [03:56<01:12, 31.47it/s, episode_reward=0, running_reward=0]"
     ]
    },
    {
     "name": "stdout",
     "output_type": "stream",
     "text": [
      "loss tf.Tensor(0.0, shape=(), dtype=float32)\n",
      "loss tf.Tensor(0.0, shape=(), dtype=float32)\n",
      "loss tf.Tensor(0.0, shape=(), dtype=float32)\n",
      "loss tf.Tensor(0.0, shape=(), dtype=float32)\n",
      "loss tf.Tensor(0.0, shape=(), dtype=float32)\n",
      "loss tf.Tensor(0.0, shape=(), dtype=float32)\n",
      "loss tf.Tensor(0.0, shape=(), dtype=float32)\n"
     ]
    },
    {
     "name": "stderr",
     "output_type": "stream",
     "text": [
      " 77%|███████▋  | 7739/10000 [03:56<01:08, 33.01it/s, episode_reward=0, running_reward=0]"
     ]
    },
    {
     "name": "stdout",
     "output_type": "stream",
     "text": [
      "loss tf.Tensor(0.0, shape=(), dtype=float32)\n",
      "loss tf.Tensor(0.0, shape=(), dtype=float32)\n",
      "loss tf.Tensor(0.0, shape=(), dtype=float32)\n",
      "loss tf.Tensor(0.0, shape=(), dtype=float32)\n",
      "loss tf.Tensor(0.0, shape=(), dtype=float32)\n",
      "loss tf.Tensor(0.0, shape=(), dtype=float32)\n",
      "loss tf.Tensor(0.0, shape=(), dtype=float32)\n",
      "loss tf.Tensor(0.0, shape=(), dtype=float32)\n"
     ]
    },
    {
     "name": "stderr",
     "output_type": "stream",
     "text": [
      " 77%|███████▋  | 7747/10000 [03:56<01:06, 33.82it/s, episode_reward=0, running_reward=0]"
     ]
    },
    {
     "name": "stdout",
     "output_type": "stream",
     "text": [
      "loss tf.Tensor(0.0, shape=(), dtype=float32)\n",
      "loss tf.Tensor(0.0, shape=(), dtype=float32)\n",
      "loss tf.Tensor(0.0, shape=(), dtype=float32)\n",
      "loss tf.Tensor(0.0, shape=(), dtype=float32)\n",
      "loss tf.Tensor(0.0, shape=(), dtype=float32)\n",
      "loss tf.Tensor(0.0, shape=(), dtype=float32)\n",
      "loss tf.Tensor(0.0, shape=(), dtype=float32)\n",
      "loss tf.Tensor(0.0, shape=(), dtype=float32)\n"
     ]
    },
    {
     "name": "stderr",
     "output_type": "stream",
     "text": [
      " 78%|███████▊  | 7755/10000 [03:56<01:06, 33.59it/s, episode_reward=0, running_reward=0]"
     ]
    },
    {
     "name": "stdout",
     "output_type": "stream",
     "text": [
      "loss tf.Tensor(0.0, shape=(), dtype=float32)\n",
      "loss tf.Tensor(0.0, shape=(), dtype=float32)\n",
      "loss tf.Tensor(0.0, shape=(), dtype=float32)\n",
      "loss tf.Tensor(0.0, shape=(), dtype=float32)\n",
      "loss tf.Tensor(0.0, shape=(), dtype=float32)\n",
      "loss tf.Tensor(0.0, shape=(), dtype=float32)\n",
      "loss tf.Tensor(0.0, shape=(), dtype=float32)\n"
     ]
    },
    {
     "name": "stderr",
     "output_type": "stream",
     "text": [
      " 78%|███████▊  | 7763/10000 [03:56<01:03, 35.08it/s, episode_reward=0, running_reward=0]"
     ]
    },
    {
     "name": "stdout",
     "output_type": "stream",
     "text": [
      "loss tf.Tensor(0.0, shape=(), dtype=float32)\n",
      "loss tf.Tensor(0.0, shape=(), dtype=float32)\n",
      "loss tf.Tensor(0.0, shape=(), dtype=float32)\n",
      "loss tf.Tensor(0.0, shape=(), dtype=float32)\n",
      "loss tf.Tensor(0.0, shape=(), dtype=float32)\n",
      "loss tf.Tensor(0.0, shape=(), dtype=float32)\n",
      "loss tf.Tensor(0.0, shape=(), dtype=float32)\n",
      "loss tf.Tensor(0.0, shape=(), dtype=float32)\n"
     ]
    },
    {
     "name": "stderr",
     "output_type": "stream",
     "text": [
      " 78%|███████▊  | 7767/10000 [03:57<01:33, 23.82it/s, episode_reward=0, running_reward=0]"
     ]
    },
    {
     "name": "stdout",
     "output_type": "stream",
     "text": [
      "loss tf.Tensor(0.0, shape=(), dtype=float32)\n",
      "loss tf.Tensor(0.0, shape=(), dtype=float32)\n"
     ]
    },
    {
     "name": "stderr",
     "output_type": "stream",
     "text": [
      " 78%|███████▊  | 7770/10000 [03:57<01:37, 22.98it/s, episode_reward=0, running_reward=0]"
     ]
    },
    {
     "name": "stdout",
     "output_type": "stream",
     "text": [
      "loss tf.Tensor(0.0, shape=(), dtype=float32)\n",
      "loss tf.Tensor(0.0, shape=(), dtype=float32)\n",
      "loss tf.Tensor(0.0, shape=(), dtype=float32)\n",
      "loss tf.Tensor(0.0, shape=(), dtype=float32)\n"
     ]
    },
    {
     "name": "stderr",
     "output_type": "stream",
     "text": [
      " 78%|███████▊  | 7773/10000 [03:57<01:52, 19.77it/s, episode_reward=0, running_reward=0]"
     ]
    },
    {
     "name": "stdout",
     "output_type": "stream",
     "text": [
      "loss tf.Tensor(0.0, shape=(), dtype=float32)\n",
      "loss tf.Tensor(0.0, shape=(), dtype=float32)\n",
      "loss tf.Tensor(0.0, shape=(), dtype=float32)\n",
      "loss tf.Tensor(0.0, shape=(), dtype=float32)\n",
      "loss tf.Tensor(0.0, shape=(), dtype=float32)\n"
     ]
    },
    {
     "name": "stderr",
     "output_type": "stream",
     "text": [
      " 78%|███████▊  | 7784/10000 [03:57<01:23, 26.54it/s, episode_reward=0, running_reward=0]"
     ]
    },
    {
     "name": "stdout",
     "output_type": "stream",
     "text": [
      "loss tf.Tensor(0.0, shape=(), dtype=float32)\n",
      "loss tf.Tensor(0.0, shape=(), dtype=float32)\n",
      "loss tf.Tensor(0.0, shape=(), dtype=float32)\n",
      "loss tf.Tensor(0.0, shape=(), dtype=float32)\n",
      "loss tf.Tensor(0.0, shape=(), dtype=float32)\n",
      "loss tf.Tensor(0.0, shape=(), dtype=float32)\n",
      "loss tf.Tensor(0.0, shape=(), dtype=float32)\n",
      "loss tf.Tensor(0.0, shape=(), dtype=float32)\n"
     ]
    },
    {
     "name": "stderr",
     "output_type": "stream",
     "text": [
      " 78%|███████▊  | 7792/10000 [03:58<01:11, 30.72it/s, episode_reward=0, running_reward=0]"
     ]
    },
    {
     "name": "stdout",
     "output_type": "stream",
     "text": [
      "loss tf.Tensor(0.0, shape=(), dtype=float32)\n",
      "loss tf.Tensor(0.0, shape=(), dtype=float32)\n",
      "loss tf.Tensor(0.0, shape=(), dtype=float32)\n",
      "loss tf.Tensor(0.0, shape=(), dtype=float32)\n",
      "loss tf.Tensor(0.0, shape=(), dtype=float32)\n",
      "loss tf.Tensor(0.0, shape=(), dtype=float32)\n",
      "loss tf.Tensor(0.0, shape=(), dtype=float32)\n",
      "loss tf.Tensor(0.0, shape=(), dtype=float32)\n"
     ]
    },
    {
     "name": "stderr",
     "output_type": "stream",
     "text": [
      " 78%|███████▊  | 7796/10000 [03:58<01:09, 31.50it/s, episode_reward=0, running_reward=0]"
     ]
    },
    {
     "name": "stdout",
     "output_type": "stream",
     "text": [
      "loss tf.Tensor(0.0, shape=(), dtype=float32)\n",
      "loss tf.Tensor(0.0, shape=(), dtype=float32)\n",
      "loss tf.Tensor(0.0, shape=(), dtype=float32)\n",
      "loss tf.Tensor(0.0, shape=(), dtype=float32)\n",
      "loss tf.Tensor(0.0, shape=(), dtype=float32)\n"
     ]
    },
    {
     "name": "stderr",
     "output_type": "stream",
     "text": [
      " 78%|███████▊  | 7804/10000 [03:58<01:27, 25.15it/s, episode_reward=0, running_reward=0]"
     ]
    },
    {
     "name": "stdout",
     "output_type": "stream",
     "text": [
      "loss tf.Tensor(0.0, shape=(), dtype=float32)\n",
      "loss tf.Tensor(0.0, shape=(), dtype=float32)\n",
      "loss tf.Tensor(0.0, shape=(), dtype=float32)\n",
      "loss tf.Tensor(0.0, shape=(), dtype=float32)\n",
      "loss tf.Tensor(0.0, shape=(), dtype=float32)\n",
      "loss tf.Tensor(0.0, shape=(), dtype=float32)\n",
      "loss tf.Tensor(0.0, shape=(), dtype=float32)\n"
     ]
    },
    {
     "name": "stderr",
     "output_type": "stream",
     "text": [
      " 78%|███████▊  | 7807/10000 [03:58<01:28, 24.68it/s, episode_reward=0, running_reward=0]"
     ]
    },
    {
     "name": "stdout",
     "output_type": "stream",
     "text": [
      "loss tf.Tensor(0.0, shape=(), dtype=float32)\n",
      "loss tf.Tensor(0.0, shape=(), dtype=float32)\n",
      "loss tf.Tensor(0.0, shape=(), dtype=float32)\n",
      "loss tf.Tensor(0.0, shape=(), dtype=float32)\n",
      "loss tf.Tensor(0.0, shape=(), dtype=float32)\n",
      "loss tf.Tensor(0.0, shape=(), dtype=float32)\n"
     ]
    },
    {
     "name": "stderr",
     "output_type": "stream",
     "text": [
      " 78%|███████▊  | 7815/10000 [03:59<01:18, 27.97it/s, episode_reward=0, running_reward=0]"
     ]
    },
    {
     "name": "stdout",
     "output_type": "stream",
     "text": [
      "loss tf.Tensor(0.0, shape=(), dtype=float32)\n",
      "loss tf.Tensor(0.0, shape=(), dtype=float32)\n",
      "loss tf.Tensor(0.0, shape=(), dtype=float32)\n",
      "loss tf.Tensor(0.0, shape=(), dtype=float32)\n",
      "loss tf.Tensor(0.0, shape=(), dtype=float32)\n",
      "loss tf.Tensor(0.0, shape=(), dtype=float32)\n",
      "loss tf.Tensor(0.0, shape=(), dtype=float32)\n"
     ]
    },
    {
     "name": "stderr",
     "output_type": "stream",
     "text": [
      " 78%|███████▊  | 7819/10000 [03:59<01:15, 28.75it/s, episode_reward=0, running_reward=0]"
     ]
    },
    {
     "name": "stdout",
     "output_type": "stream",
     "text": [
      "loss tf.Tensor(0.0, shape=(), dtype=float32)\n",
      "loss tf.Tensor(0.0, shape=(), dtype=float32)\n",
      "loss tf.Tensor(0.0, shape=(), dtype=float32)\n",
      "loss tf.Tensor(0.0, shape=(), dtype=float32)\n"
     ]
    },
    {
     "name": "stderr",
     "output_type": "stream",
     "text": [
      " 78%|███████▊  | 7825/10000 [03:59<01:31, 23.86it/s, episode_reward=0, running_reward=0]"
     ]
    },
    {
     "name": "stdout",
     "output_type": "stream",
     "text": [
      "loss tf.Tensor(0.0, shape=(), dtype=float32)\n",
      "loss tf.Tensor(0.0, shape=(), dtype=float32)\n",
      "loss tf.Tensor(0.0, shape=(), dtype=float32)\n",
      "loss tf.Tensor(0.0, shape=(), dtype=float32)\n",
      "loss tf.Tensor(0.0, shape=(), dtype=float32)\n",
      "loss tf.Tensor(0.0, shape=(), dtype=float32)\n"
     ]
    },
    {
     "name": "stderr",
     "output_type": "stream",
     "text": [
      " 78%|███████▊  | 7833/10000 [03:59<01:18, 27.77it/s, episode_reward=0, running_reward=0]"
     ]
    },
    {
     "name": "stdout",
     "output_type": "stream",
     "text": [
      "loss tf.Tensor(0.0, shape=(), dtype=float32)\n",
      "loss tf.Tensor(0.0, shape=(), dtype=float32)\n",
      "loss tf.Tensor(0.0, shape=(), dtype=float32)\n",
      "loss tf.Tensor(0.0, shape=(), dtype=float32)\n",
      "loss tf.Tensor(0.0, shape=(), dtype=float32)\n",
      "loss tf.Tensor(0.0, shape=(), dtype=float32)\n",
      "loss tf.Tensor(0.0, shape=(), dtype=float32)\n"
     ]
    },
    {
     "name": "stderr",
     "output_type": "stream",
     "text": [
      " 78%|███████▊  | 7840/10000 [03:59<01:12, 29.80it/s, episode_reward=0, running_reward=0]"
     ]
    },
    {
     "name": "stdout",
     "output_type": "stream",
     "text": [
      "loss tf.Tensor(0.0, shape=(), dtype=float32)\n",
      "loss tf.Tensor(0.0, shape=(), dtype=float32)\n",
      "loss tf.Tensor(0.0, shape=(), dtype=float32)\n",
      "loss tf.Tensor(0.0, shape=(), dtype=float32)\n",
      "loss tf.Tensor(0.0, shape=(), dtype=float32)\n",
      "loss tf.Tensor(0.0, shape=(), dtype=float32)\n",
      "loss tf.Tensor(0.0, shape=(), dtype=float32)\n"
     ]
    },
    {
     "name": "stderr",
     "output_type": "stream",
     "text": [
      " 78%|███████▊  | 7848/10000 [04:00<01:08, 31.37it/s, episode_reward=0, running_reward=0]"
     ]
    },
    {
     "name": "stdout",
     "output_type": "stream",
     "text": [
      "loss tf.Tensor(0.0, shape=(), dtype=float32)\n",
      "loss tf.Tensor(0.0, shape=(), dtype=float32)\n",
      "loss tf.Tensor(0.0, shape=(), dtype=float32)\n",
      "loss tf.Tensor(0.0, shape=(), dtype=float32)\n",
      "loss tf.Tensor(0.0, shape=(), dtype=float32)\n",
      "loss tf.Tensor(0.0, shape=(), dtype=float32)\n",
      "loss tf.Tensor(0.0, shape=(), dtype=float32)\n"
     ]
    },
    {
     "name": "stderr",
     "output_type": "stream",
     "text": [
      " 79%|███████▊  | 7852/10000 [04:00<01:07, 31.72it/s, episode_reward=0, running_reward=0]"
     ]
    },
    {
     "name": "stdout",
     "output_type": "stream",
     "text": [
      "loss tf.Tensor(0.0, shape=(), dtype=float32)\n",
      "loss tf.Tensor(0.0, shape=(), dtype=float32)\n",
      "loss tf.Tensor(0.0, shape=(), dtype=float32)\n",
      "loss tf.Tensor(0.0, shape=(), dtype=float32)\n",
      "loss tf.Tensor(0.0, shape=(), dtype=float32)\n",
      "loss tf.Tensor(0.0, shape=(), dtype=float32)\n",
      "loss tf.Tensor(0.0, shape=(), dtype=float32)\n"
     ]
    },
    {
     "name": "stderr",
     "output_type": "stream",
     "text": [
      " 79%|███████▊  | 7860/10000 [04:00<01:03, 33.51it/s, episode_reward=0, running_reward=0]"
     ]
    },
    {
     "name": "stdout",
     "output_type": "stream",
     "text": [
      "loss tf.Tensor(0.0, shape=(), dtype=float32)\n",
      "loss tf.Tensor(0.0, shape=(), dtype=float32)\n",
      "loss tf.Tensor(0.0, shape=(), dtype=float32)\n",
      "loss tf.Tensor(0.0, shape=(), dtype=float32)\n",
      "loss tf.Tensor(0.0, shape=(), dtype=float32)\n",
      "loss tf.Tensor(0.0, shape=(), dtype=float32)\n",
      "loss tf.Tensor(0.0, shape=(), dtype=float32)\n",
      "loss tf.Tensor(0.0, shape=(), dtype=float32)\n"
     ]
    },
    {
     "name": "stderr",
     "output_type": "stream",
     "text": [
      " 79%|███████▊  | 7868/10000 [04:00<01:02, 34.35it/s, episode_reward=0, running_reward=0]"
     ]
    },
    {
     "name": "stdout",
     "output_type": "stream",
     "text": [
      "loss tf.Tensor(0.0, shape=(), dtype=float32)\n",
      "loss tf.Tensor(0.0, shape=(), dtype=float32)\n",
      "loss tf.Tensor(0.0, shape=(), dtype=float32)\n",
      "loss tf.Tensor(0.0, shape=(), dtype=float32)\n",
      "loss tf.Tensor(0.0, shape=(), dtype=float32)\n",
      "loss tf.Tensor(0.0, shape=(), dtype=float32)\n",
      "loss tf.Tensor(0.0, shape=(), dtype=float32)\n",
      "loss tf.Tensor(0.0, shape=(), dtype=float32)\n"
     ]
    },
    {
     "name": "stderr",
     "output_type": "stream",
     "text": [
      " 79%|███████▊  | 7872/10000 [04:00<01:00, 34.99it/s, episode_reward=0, running_reward=0]"
     ]
    },
    {
     "name": "stdout",
     "output_type": "stream",
     "text": [
      "loss tf.Tensor(0.0, shape=(), dtype=float32)\n",
      "loss tf.Tensor(0.0, shape=(), dtype=float32)\n"
     ]
    },
    {
     "name": "stderr",
     "output_type": "stream",
     "text": [
      " 79%|███████▉  | 7880/10000 [04:01<01:18, 26.84it/s, episode_reward=0, running_reward=0]"
     ]
    },
    {
     "name": "stdout",
     "output_type": "stream",
     "text": [
      "loss tf.Tensor(0.0, shape=(), dtype=float32)\n",
      "loss tf.Tensor(0.0, shape=(), dtype=float32)\n",
      "loss tf.Tensor(0.0, shape=(), dtype=float32)\n",
      "loss tf.Tensor(0.0, shape=(), dtype=float32)\n",
      "loss tf.Tensor(0.0, shape=(), dtype=float32)\n",
      "loss tf.Tensor(0.0, shape=(), dtype=float32)\n",
      "loss tf.Tensor(0.0, shape=(), dtype=float32)\n",
      "loss tf.Tensor(0.0, shape=(), dtype=float32)\n"
     ]
    },
    {
     "name": "stderr",
     "output_type": "stream",
     "text": [
      " 79%|███████▉  | 7888/10000 [04:01<01:09, 30.57it/s, episode_reward=0, running_reward=0]"
     ]
    },
    {
     "name": "stdout",
     "output_type": "stream",
     "text": [
      "loss tf.Tensor(0.0, shape=(), dtype=float32)\n",
      "loss tf.Tensor(0.0, shape=(), dtype=float32)\n",
      "loss tf.Tensor(0.0, shape=(), dtype=float32)\n",
      "loss tf.Tensor(0.0, shape=(), dtype=float32)\n",
      "loss tf.Tensor(0.0, shape=(), dtype=float32)\n",
      "loss tf.Tensor(0.0, shape=(), dtype=float32)\n",
      "loss tf.Tensor(0.0, shape=(), dtype=float32)\n"
     ]
    },
    {
     "name": "stderr",
     "output_type": "stream",
     "text": [
      " 79%|███████▉  | 7892/10000 [04:01<01:09, 30.32it/s, episode_reward=0, running_reward=0]"
     ]
    },
    {
     "name": "stdout",
     "output_type": "stream",
     "text": [
      "loss tf.Tensor(0.0, shape=(), dtype=float32)\n",
      "loss tf.Tensor(0.0, shape=(), dtype=float32)\n",
      "loss tf.Tensor(0.0, shape=(), dtype=float32)\n",
      "loss tf.Tensor(0.0, shape=(), dtype=float32)\n",
      "loss tf.Tensor(0.0, shape=(), dtype=float32)\n",
      "loss tf.Tensor(0.0, shape=(), dtype=float32)\n",
      "loss tf.Tensor(0.0, shape=(), dtype=float32)\n"
     ]
    },
    {
     "name": "stderr",
     "output_type": "stream",
     "text": [
      " 79%|███████▉  | 7900/10000 [04:01<01:03, 32.96it/s, episode_reward=0, running_reward=0]"
     ]
    },
    {
     "name": "stdout",
     "output_type": "stream",
     "text": [
      "loss tf.Tensor(0.0, shape=(), dtype=float32)\n",
      "loss tf.Tensor(0.0, shape=(), dtype=float32)\n",
      "loss tf.Tensor(0.0, shape=(), dtype=float32)\n",
      "loss tf.Tensor(0.0, shape=(), dtype=float32)\n",
      "loss tf.Tensor(0.0, shape=(), dtype=float32)\n",
      "loss tf.Tensor(0.0, shape=(), dtype=float32)\n",
      "loss tf.Tensor(0.0, shape=(), dtype=float32)\n",
      "loss tf.Tensor(0.0, shape=(), dtype=float32)\n"
     ]
    },
    {
     "name": "stderr",
     "output_type": "stream",
     "text": [
      " 79%|███████▉  | 7908/10000 [04:02<01:01, 33.84it/s, episode_reward=0, running_reward=0]"
     ]
    },
    {
     "name": "stdout",
     "output_type": "stream",
     "text": [
      "loss tf.Tensor(0.0, shape=(), dtype=float32)\n",
      "loss tf.Tensor(0.0, shape=(), dtype=float32)\n",
      "loss tf.Tensor(0.0, shape=(), dtype=float32)\n",
      "loss tf.Tensor(0.0, shape=(), dtype=float32)\n",
      "loss tf.Tensor(0.0, shape=(), dtype=float32)\n",
      "loss tf.Tensor(0.0, shape=(), dtype=float32)\n",
      "loss tf.Tensor(0.0, shape=(), dtype=float32)\n",
      "loss tf.Tensor(0.0, shape=(), dtype=float32)\n"
     ]
    },
    {
     "name": "stderr",
     "output_type": "stream",
     "text": [
      " 79%|███████▉  | 7912/10000 [04:02<01:00, 34.43it/s, episode_reward=0, running_reward=0]"
     ]
    },
    {
     "name": "stdout",
     "output_type": "stream",
     "text": [
      "loss tf.Tensor(0.0, shape=(), dtype=float32)\n",
      "loss tf.Tensor(0.0, shape=(), dtype=float32)\n",
      "loss tf.Tensor(0.0, shape=(), dtype=float32)\n"
     ]
    },
    {
     "name": "stderr",
     "output_type": "stream",
     "text": [
      " 79%|███████▉  | 7920/10000 [04:02<01:16, 27.12it/s, episode_reward=0, running_reward=0]"
     ]
    },
    {
     "name": "stdout",
     "output_type": "stream",
     "text": [
      "loss tf.Tensor(0.0, shape=(), dtype=float32)\n",
      "loss tf.Tensor(0.0, shape=(), dtype=float32)\n",
      "loss tf.Tensor(0.0, shape=(), dtype=float32)\n",
      "loss tf.Tensor(0.0, shape=(), dtype=float32)\n",
      "loss tf.Tensor(0.0, shape=(), dtype=float32)\n",
      "loss tf.Tensor(0.0, shape=(), dtype=float32)\n",
      "loss tf.Tensor(0.0, shape=(), dtype=float32)\n"
     ]
    },
    {
     "name": "stderr",
     "output_type": "stream",
     "text": [
      " 79%|███████▉  | 7928/10000 [04:02<01:06, 30.97it/s, episode_reward=0, running_reward=0]"
     ]
    },
    {
     "name": "stdout",
     "output_type": "stream",
     "text": [
      "loss tf.Tensor(0.0, shape=(), dtype=float32)\n",
      "loss tf.Tensor(0.0, shape=(), dtype=float32)\n",
      "loss tf.Tensor(0.0, shape=(), dtype=float32)\n",
      "loss tf.Tensor(0.0, shape=(), dtype=float32)\n",
      "loss tf.Tensor(0.0, shape=(), dtype=float32)\n",
      "loss tf.Tensor(0.0, shape=(), dtype=float32)\n",
      "loss tf.Tensor(0.0, shape=(), dtype=float32)\n",
      "loss tf.Tensor(0.0, shape=(), dtype=float32)\n"
     ]
    },
    {
     "name": "stderr",
     "output_type": "stream",
     "text": [
      " 79%|███████▉  | 7936/10000 [04:03<01:02, 33.04it/s, episode_reward=0, running_reward=0]"
     ]
    },
    {
     "name": "stdout",
     "output_type": "stream",
     "text": [
      "loss tf.Tensor(0.0, shape=(), dtype=float32)\n",
      "loss tf.Tensor(0.0, shape=(), dtype=float32)\n",
      "loss tf.Tensor(0.0, shape=(), dtype=float32)\n",
      "loss tf.Tensor(0.0, shape=(), dtype=float32)\n",
      "loss tf.Tensor(0.0, shape=(), dtype=float32)\n",
      "loss tf.Tensor(0.0, shape=(), dtype=float32)\n",
      "loss tf.Tensor(0.0, shape=(), dtype=float32)\n",
      "loss tf.Tensor(0.0, shape=(), dtype=float32)\n"
     ]
    },
    {
     "name": "stderr",
     "output_type": "stream",
     "text": [
      " 79%|███████▉  | 7944/10000 [04:03<00:59, 34.43it/s, episode_reward=0, running_reward=0]"
     ]
    },
    {
     "name": "stdout",
     "output_type": "stream",
     "text": [
      "loss tf.Tensor(0.0, shape=(), dtype=float32)\n",
      "loss tf.Tensor(0.0, shape=(), dtype=float32)\n",
      "loss tf.Tensor(0.0, shape=(), dtype=float32)\n",
      "loss tf.Tensor(0.0, shape=(), dtype=float32)\n",
      "loss tf.Tensor(0.0, shape=(), dtype=float32)\n",
      "loss tf.Tensor(0.0, shape=(), dtype=float32)\n",
      "loss tf.Tensor(0.0, shape=(), dtype=float32)\n",
      "loss tf.Tensor(0.0, shape=(), dtype=float32)\n"
     ]
    },
    {
     "name": "stderr",
     "output_type": "stream",
     "text": [
      " 79%|███████▉  | 7948/10000 [04:03<00:59, 34.29it/s, episode_reward=0, running_reward=0]"
     ]
    },
    {
     "name": "stdout",
     "output_type": "stream",
     "text": [
      "loss tf.Tensor(0.0, shape=(), dtype=float32)\n",
      "loss tf.Tensor(0.0, shape=(), dtype=float32)\n",
      "loss tf.Tensor(0.0, shape=(), dtype=float32)\n",
      "loss tf.Tensor(0.0, shape=(), dtype=float32)\n",
      "loss tf.Tensor(0.0, shape=(), dtype=float32)\n"
     ]
    },
    {
     "name": "stderr",
     "output_type": "stream",
     "text": [
      " 80%|███████▉  | 7956/10000 [04:03<01:18, 26.03it/s, episode_reward=0, running_reward=0]"
     ]
    },
    {
     "name": "stdout",
     "output_type": "stream",
     "text": [
      "loss tf.Tensor(0.0, shape=(), dtype=float32)\n",
      "loss tf.Tensor(0.0, shape=(), dtype=float32)\n",
      "loss tf.Tensor(0.0, shape=(), dtype=float32)\n",
      "loss tf.Tensor(0.0, shape=(), dtype=float32)\n",
      "loss tf.Tensor(0.0, shape=(), dtype=float32)\n",
      "loss tf.Tensor(0.0, shape=(), dtype=float32)\n",
      "loss tf.Tensor(0.0, shape=(), dtype=float32)\n"
     ]
    },
    {
     "name": "stderr",
     "output_type": "stream",
     "text": [
      " 80%|███████▉  | 7964/10000 [04:04<01:07, 29.97it/s, episode_reward=0, running_reward=0]"
     ]
    },
    {
     "name": "stdout",
     "output_type": "stream",
     "text": [
      "loss tf.Tensor(0.0, shape=(), dtype=float32)\n",
      "loss tf.Tensor(0.0, shape=(), dtype=float32)\n",
      "loss tf.Tensor(0.0, shape=(), dtype=float32)\n",
      "loss tf.Tensor(0.0, shape=(), dtype=float32)\n",
      "loss tf.Tensor(0.0, shape=(), dtype=float32)\n",
      "loss tf.Tensor(0.0, shape=(), dtype=float32)\n",
      "loss tf.Tensor(0.0, shape=(), dtype=float32)\n",
      "loss tf.Tensor(0.0, shape=(), dtype=float32)\n"
     ]
    },
    {
     "name": "stderr",
     "output_type": "stream",
     "text": [
      " 80%|███████▉  | 7972/10000 [04:04<01:02, 32.51it/s, episode_reward=0, running_reward=0]"
     ]
    },
    {
     "name": "stdout",
     "output_type": "stream",
     "text": [
      "loss tf.Tensor(0.0, shape=(), dtype=float32)\n",
      "loss tf.Tensor(0.0, shape=(), dtype=float32)\n",
      "loss tf.Tensor(0.0, shape=(), dtype=float32)\n",
      "loss tf.Tensor(0.0, shape=(), dtype=float32)\n",
      "loss tf.Tensor(0.0, shape=(), dtype=float32)\n",
      "loss tf.Tensor(0.0, shape=(), dtype=float32)\n",
      "loss tf.Tensor(0.0, shape=(), dtype=float32)\n",
      "loss tf.Tensor(0.0, shape=(), dtype=float32)\n"
     ]
    },
    {
     "name": "stderr",
     "output_type": "stream",
     "text": [
      " 80%|███████▉  | 7976/10000 [04:04<01:01, 32.82it/s, episode_reward=0, running_reward=0]"
     ]
    },
    {
     "name": "stdout",
     "output_type": "stream",
     "text": [
      "loss tf.Tensor(0.0, shape=(), dtype=float32)\n",
      "loss tf.Tensor(0.0, shape=(), dtype=float32)\n",
      "loss tf.Tensor(0.0, shape=(), dtype=float32)\n"
     ]
    },
    {
     "name": "stderr",
     "output_type": "stream",
     "text": [
      " 80%|███████▉  | 7980/10000 [04:04<01:24, 23.88it/s, episode_reward=0, running_reward=0]"
     ]
    },
    {
     "name": "stdout",
     "output_type": "stream",
     "text": [
      "loss tf.Tensor(0.0, shape=(), dtype=float32)\n",
      "loss tf.Tensor(0.0, shape=(), dtype=float32)\n",
      "loss tf.Tensor(0.0, shape=(), dtype=float32)\n",
      "loss tf.Tensor(0.0, shape=(), dtype=float32)\n",
      "loss tf.Tensor(0.0, shape=(), dtype=float32)\n",
      "loss tf.Tensor(0.0, shape=(), dtype=float32)\n"
     ]
    },
    {
     "name": "stderr",
     "output_type": "stream",
     "text": [
      " 80%|███████▉  | 7988/10000 [04:04<01:09, 28.85it/s, episode_reward=0, running_reward=0]"
     ]
    },
    {
     "name": "stdout",
     "output_type": "stream",
     "text": [
      "loss tf.Tensor(0.0, shape=(), dtype=float32)\n",
      "loss tf.Tensor(0.0, shape=(), dtype=float32)\n",
      "loss tf.Tensor(0.0, shape=(), dtype=float32)\n",
      "loss tf.Tensor(0.0, shape=(), dtype=float32)\n",
      "loss tf.Tensor(0.0, shape=(), dtype=float32)\n",
      "loss tf.Tensor(0.0, shape=(), dtype=float32)\n",
      "loss tf.Tensor(0.0, shape=(), dtype=float32)\n",
      "loss tf.Tensor(0.0, shape=(), dtype=float32)\n"
     ]
    },
    {
     "name": "stderr",
     "output_type": "stream",
     "text": [
      " 80%|███████▉  | 7996/10000 [04:05<01:03, 31.62it/s, episode_reward=0, running_reward=0]"
     ]
    },
    {
     "name": "stdout",
     "output_type": "stream",
     "text": [
      "loss tf.Tensor(0.0, shape=(), dtype=float32)\n",
      "loss tf.Tensor(0.0, shape=(), dtype=float32)\n",
      "loss tf.Tensor(0.0, shape=(), dtype=float32)\n",
      "loss tf.Tensor(0.0, shape=(), dtype=float32)\n",
      "loss tf.Tensor(0.0, shape=(), dtype=float32)\n",
      "loss tf.Tensor(0.0, shape=(), dtype=float32)\n",
      "loss tf.Tensor(0.0, shape=(), dtype=float32)\n"
     ]
    },
    {
     "name": "stderr",
     "output_type": "stream",
     "text": [
      " 80%|████████  | 8004/10000 [04:05<00:58, 33.86it/s, episode_reward=0, running_reward=0]"
     ]
    },
    {
     "name": "stdout",
     "output_type": "stream",
     "text": [
      "loss tf.Tensor(0.0, shape=(), dtype=float32)\n",
      "loss tf.Tensor(0.0, shape=(), dtype=float32)\n",
      "loss tf.Tensor(0.0, shape=(), dtype=float32)\n",
      "loss tf.Tensor(0.0, shape=(), dtype=float32)\n",
      "loss tf.Tensor(0.0, shape=(), dtype=float32)\n",
      "loss tf.Tensor(0.0, shape=(), dtype=float32)\n",
      "loss tf.Tensor(0.0, shape=(), dtype=float32)\n",
      "loss tf.Tensor(0.0, shape=(), dtype=float32)\n"
     ]
    },
    {
     "name": "stderr",
     "output_type": "stream",
     "text": [
      " 80%|████████  | 8012/10000 [04:05<00:58, 34.10it/s, episode_reward=0, running_reward=0]"
     ]
    },
    {
     "name": "stdout",
     "output_type": "stream",
     "text": [
      "loss tf.Tensor(0.0, shape=(), dtype=float32)\n",
      "loss tf.Tensor(0.0, shape=(), dtype=float32)\n",
      "loss tf.Tensor(0.0, shape=(), dtype=float32)\n",
      "loss tf.Tensor(0.0, shape=(), dtype=float32)\n",
      "loss tf.Tensor(0.0, shape=(), dtype=float32)\n",
      "loss tf.Tensor(0.0, shape=(), dtype=float32)\n",
      "loss tf.Tensor(0.0, shape=(), dtype=float32)\n"
     ]
    },
    {
     "name": "stderr",
     "output_type": "stream",
     "text": [
      " 80%|████████  | 8020/10000 [04:05<00:56, 35.21it/s, episode_reward=0, running_reward=0]"
     ]
    },
    {
     "name": "stdout",
     "output_type": "stream",
     "text": [
      "loss tf.Tensor(0.0, shape=(), dtype=float32)\n",
      "loss tf.Tensor(0.0, shape=(), dtype=float32)\n",
      "loss tf.Tensor(0.0, shape=(), dtype=float32)\n",
      "loss tf.Tensor(0.0, shape=(), dtype=float32)\n",
      "loss tf.Tensor(0.0, shape=(), dtype=float32)\n",
      "loss tf.Tensor(0.0, shape=(), dtype=float32)\n",
      "loss tf.Tensor(0.0, shape=(), dtype=float32)\n",
      "loss tf.Tensor(0.0, shape=(), dtype=float32)\n"
     ]
    },
    {
     "name": "stderr",
     "output_type": "stream",
     "text": [
      " 80%|████████  | 8020/10000 [04:05<00:56, 35.21it/s, episode_reward=0, running_reward=0]"
     ]
    },
    {
     "name": "stdout",
     "output_type": "stream",
     "text": [
      "loss tf.Tensor(0.0, shape=(), dtype=float32)\n",
      "loss tf.Tensor(0.0, shape=(), dtype=float32)\n"
     ]
    },
    {
     "name": "stderr",
     "output_type": "stream",
     "text": [
      " 80%|████████  | 8027/10000 [04:06<01:37, 20.18it/s, episode_reward=0, running_reward=0]"
     ]
    },
    {
     "name": "stdout",
     "output_type": "stream",
     "text": [
      "loss tf.Tensor(0.0, shape=(), dtype=float32)\n",
      "loss tf.Tensor(0.0, shape=(), dtype=float32)\n",
      "loss tf.Tensor(0.0, shape=(), dtype=float32)\n",
      "loss tf.Tensor(0.0, shape=(), dtype=float32)\n",
      "loss tf.Tensor(0.0, shape=(), dtype=float32)\n"
     ]
    },
    {
     "name": "stderr",
     "output_type": "stream",
     "text": [
      " 80%|████████  | 8034/10000 [04:06<01:23, 23.68it/s, episode_reward=0, running_reward=0]"
     ]
    },
    {
     "name": "stdout",
     "output_type": "stream",
     "text": [
      "loss tf.Tensor(0.0, shape=(), dtype=float32)\n",
      "loss tf.Tensor(0.0, shape=(), dtype=float32)\n",
      "loss tf.Tensor(0.0, shape=(), dtype=float32)\n",
      "loss tf.Tensor(0.0, shape=(), dtype=float32)\n",
      "loss tf.Tensor(0.0, shape=(), dtype=float32)\n",
      "loss tf.Tensor(0.0, shape=(), dtype=float32)\n",
      "loss tf.Tensor(0.0, shape=(), dtype=float32)\n",
      "loss tf.Tensor(0.0, shape=(), dtype=float32)\n"
     ]
    },
    {
     "name": "stderr",
     "output_type": "stream",
     "text": [
      " 80%|████████  | 8042/10000 [04:06<01:08, 28.75it/s, episode_reward=0, running_reward=0]"
     ]
    },
    {
     "name": "stdout",
     "output_type": "stream",
     "text": [
      "loss tf.Tensor(0.0, shape=(), dtype=float32)\n",
      "loss tf.Tensor(0.0, shape=(), dtype=float32)\n",
      "loss tf.Tensor(0.0, shape=(), dtype=float32)\n",
      "loss tf.Tensor(0.0, shape=(), dtype=float32)\n",
      "loss tf.Tensor(0.0, shape=(), dtype=float32)\n",
      "loss tf.Tensor(0.0, shape=(), dtype=float32)\n",
      "loss tf.Tensor(0.0, shape=(), dtype=float32)\n",
      "loss tf.Tensor(0.0, shape=(), dtype=float32)\n"
     ]
    },
    {
     "name": "stderr",
     "output_type": "stream",
     "text": [
      " 80%|████████  | 8050/10000 [04:07<01:00, 32.03it/s, episode_reward=0, running_reward=0]"
     ]
    },
    {
     "name": "stdout",
     "output_type": "stream",
     "text": [
      "loss tf.Tensor(0.0, shape=(), dtype=float32)\n",
      "loss tf.Tensor(0.0, shape=(), dtype=float32)\n",
      "loss tf.Tensor(0.0, shape=(), dtype=float32)\n",
      "loss tf.Tensor(0.0, shape=(), dtype=float32)\n",
      "loss tf.Tensor(0.0, shape=(), dtype=float32)\n",
      "loss tf.Tensor(0.0, shape=(), dtype=float32)\n",
      "loss tf.Tensor(0.0, shape=(), dtype=float32)\n",
      "loss tf.Tensor(0.0, shape=(), dtype=float32)\n"
     ]
    },
    {
     "name": "stderr",
     "output_type": "stream",
     "text": [
      " 80%|████████  | 8050/10000 [04:07<01:00, 32.03it/s, episode_reward=0, running_reward=0]"
     ]
    },
    {
     "name": "stdout",
     "output_type": "stream",
     "text": [
      "loss tf.Tensor(0.0, shape=(), dtype=float32)\n",
      "loss tf.Tensor(0.0, shape=(), dtype=float32)\n",
      "loss tf.Tensor(0.0, shape=(), dtype=float32)\n"
     ]
    },
    {
     "name": "stderr",
     "output_type": "stream",
     "text": [
      " 81%|████████  | 8061/10000 [04:07<01:10, 27.46it/s, episode_reward=0, running_reward=0]"
     ]
    },
    {
     "name": "stdout",
     "output_type": "stream",
     "text": [
      "loss tf.Tensor(0.0, shape=(), dtype=float32)\n",
      "loss tf.Tensor(0.0, shape=(), dtype=float32)\n",
      "loss tf.Tensor(0.0, shape=(), dtype=float32)\n",
      "loss tf.Tensor(0.0, shape=(), dtype=float32)\n",
      "loss tf.Tensor(0.0, shape=(), dtype=float32)\n",
      "loss tf.Tensor(0.0, shape=(), dtype=float32)\n",
      "loss tf.Tensor(0.0, shape=(), dtype=float32)\n",
      "loss tf.Tensor(0.0, shape=(), dtype=float32)\n"
     ]
    },
    {
     "name": "stderr",
     "output_type": "stream",
     "text": [
      " 81%|████████  | 8069/10000 [04:07<01:00, 31.87it/s, episode_reward=0, running_reward=0]"
     ]
    },
    {
     "name": "stdout",
     "output_type": "stream",
     "text": [
      "loss tf.Tensor(0.0, shape=(), dtype=float32)\n",
      "loss tf.Tensor(0.0, shape=(), dtype=float32)\n",
      "loss tf.Tensor(0.0, shape=(), dtype=float32)\n",
      "loss tf.Tensor(0.0, shape=(), dtype=float32)\n",
      "loss tf.Tensor(0.0, shape=(), dtype=float32)\n",
      "loss tf.Tensor(0.0, shape=(), dtype=float32)\n",
      "loss tf.Tensor(0.0, shape=(), dtype=float32)\n",
      "loss tf.Tensor(0.0, shape=(), dtype=float32)\n"
     ]
    },
    {
     "name": "stderr",
     "output_type": "stream",
     "text": [
      " 81%|████████  | 8077/10000 [04:07<00:58, 33.01it/s, episode_reward=0, running_reward=0]"
     ]
    },
    {
     "name": "stdout",
     "output_type": "stream",
     "text": [
      "loss tf.Tensor(0.0, shape=(), dtype=float32)\n",
      "loss tf.Tensor(0.0, shape=(), dtype=float32)\n",
      "loss tf.Tensor(0.0, shape=(), dtype=float32)\n",
      "loss tf.Tensor(0.0, shape=(), dtype=float32)\n",
      "loss tf.Tensor(0.0, shape=(), dtype=float32)\n",
      "loss tf.Tensor(0.0, shape=(), dtype=float32)\n",
      "loss tf.Tensor(0.0, shape=(), dtype=float32)\n",
      "loss tf.Tensor(0.0, shape=(), dtype=float32)\n"
     ]
    },
    {
     "name": "stderr",
     "output_type": "stream",
     "text": [
      " 81%|████████  | 8085/10000 [04:08<00:56, 33.90it/s, episode_reward=0, running_reward=0]"
     ]
    },
    {
     "name": "stdout",
     "output_type": "stream",
     "text": [
      "loss tf.Tensor(0.0, shape=(), dtype=float32)\n",
      "loss tf.Tensor(0.0, shape=(), dtype=float32)\n",
      "loss tf.Tensor(0.0, shape=(), dtype=float32)\n",
      "loss tf.Tensor(0.0, shape=(), dtype=float32)\n",
      "loss tf.Tensor(0.0, shape=(), dtype=float32)\n",
      "loss tf.Tensor(0.0, shape=(), dtype=float32)\n",
      "loss tf.Tensor(0.0, shape=(), dtype=float32)\n"
     ]
    },
    {
     "name": "stderr",
     "output_type": "stream",
     "text": [
      " 81%|████████  | 8093/10000 [04:08<00:54, 35.12it/s, episode_reward=0, running_reward=0]"
     ]
    },
    {
     "name": "stdout",
     "output_type": "stream",
     "text": [
      "loss tf.Tensor(0.0, shape=(), dtype=float32)\n",
      "loss tf.Tensor(0.0, shape=(), dtype=float32)\n",
      "loss tf.Tensor(0.0, shape=(), dtype=float32)\n",
      "loss tf.Tensor(0.0, shape=(), dtype=float32)\n",
      "loss tf.Tensor(0.0, shape=(), dtype=float32)\n",
      "loss tf.Tensor(0.0, shape=(), dtype=float32)\n",
      "loss tf.Tensor(0.0, shape=(), dtype=float32)\n",
      "loss tf.Tensor(0.0, shape=(), dtype=float32)\n"
     ]
    },
    {
     "name": "stderr",
     "output_type": "stream",
     "text": [
      " 81%|████████  | 8093/10000 [04:08<00:54, 35.12it/s, episode_reward=0, running_reward=0]"
     ]
    },
    {
     "name": "stdout",
     "output_type": "stream",
     "text": [
      "loss tf.Tensor(0.0, shape=(), dtype=float32)\n",
      "loss tf.Tensor(0.0, shape=(), dtype=float32)\n",
      "loss tf.Tensor(0.0, shape=(), dtype=float32)\n"
     ]
    },
    {
     "name": "stderr",
     "output_type": "stream",
     "text": [
      " 81%|████████  | 8101/10000 [04:08<01:11, 26.48it/s, episode_reward=0, running_reward=0]"
     ]
    },
    {
     "name": "stdout",
     "output_type": "stream",
     "text": [
      "loss tf.Tensor(0.0, shape=(), dtype=float32)\n",
      "loss tf.Tensor(0.0, shape=(), dtype=float32)\n",
      "loss tf.Tensor(0.0, shape=(), dtype=float32)\n",
      "loss tf.Tensor(0.0, shape=(), dtype=float32)\n",
      "loss tf.Tensor(0.0, shape=(), dtype=float32)\n",
      "loss tf.Tensor(0.0, shape=(), dtype=float32)\n",
      "loss tf.Tensor(0.0, shape=(), dtype=float32)\n",
      "loss tf.Tensor(0.0, shape=(), dtype=float32)\n"
     ]
    },
    {
     "name": "stderr",
     "output_type": "stream",
     "text": [
      " 81%|████████  | 8109/10000 [04:09<01:02, 30.06it/s, episode_reward=0, running_reward=0]"
     ]
    },
    {
     "name": "stdout",
     "output_type": "stream",
     "text": [
      "loss tf.Tensor(0.0, shape=(), dtype=float32)\n",
      "loss tf.Tensor(0.0, shape=(), dtype=float32)\n",
      "loss tf.Tensor(0.0, shape=(), dtype=float32)\n",
      "loss tf.Tensor(0.0, shape=(), dtype=float32)\n",
      "loss tf.Tensor(0.0, shape=(), dtype=float32)\n",
      "loss tf.Tensor(0.0, shape=(), dtype=float32)\n",
      "loss tf.Tensor(0.0, shape=(), dtype=float32)\n"
     ]
    },
    {
     "name": "stderr",
     "output_type": "stream",
     "text": [
      " 81%|████████  | 8117/10000 [04:09<00:57, 32.97it/s, episode_reward=0, running_reward=0]"
     ]
    },
    {
     "name": "stdout",
     "output_type": "stream",
     "text": [
      "loss tf.Tensor(0.0, shape=(), dtype=float32)\n",
      "loss tf.Tensor(0.0, shape=(), dtype=float32)\n",
      "loss tf.Tensor(0.0, shape=(), dtype=float32)\n",
      "loss tf.Tensor(0.0, shape=(), dtype=float32)\n",
      "loss tf.Tensor(0.0, shape=(), dtype=float32)\n",
      "loss tf.Tensor(0.0, shape=(), dtype=float32)\n",
      "loss tf.Tensor(0.0, shape=(), dtype=float32)\n",
      "loss tf.Tensor(0.0, shape=(), dtype=float32)\n"
     ]
    },
    {
     "name": "stderr",
     "output_type": "stream",
     "text": [
      " 81%|████████▏ | 8125/10000 [04:09<00:54, 34.23it/s, episode_reward=0, running_reward=0]"
     ]
    },
    {
     "name": "stdout",
     "output_type": "stream",
     "text": [
      "loss tf.Tensor(0.0, shape=(), dtype=float32)\n",
      "loss tf.Tensor(0.0, shape=(), dtype=float32)\n",
      "loss tf.Tensor(0.0, shape=(), dtype=float32)\n",
      "loss tf.Tensor(0.0, shape=(), dtype=float32)\n",
      "loss tf.Tensor(0.0, shape=(), dtype=float32)\n",
      "loss tf.Tensor(0.0, shape=(), dtype=float32)\n",
      "loss tf.Tensor(0.0, shape=(), dtype=float32)\n",
      "loss tf.Tensor(0.0, shape=(), dtype=float32)\n"
     ]
    },
    {
     "name": "stderr",
     "output_type": "stream",
     "text": [
      " 81%|████████▏ | 8133/10000 [04:09<01:08, 27.40it/s, episode_reward=0, running_reward=0]"
     ]
    },
    {
     "name": "stdout",
     "output_type": "stream",
     "text": [
      "loss tf.Tensor(0.0, shape=(), dtype=float32)\n",
      "loss tf.Tensor(0.0, shape=(), dtype=float32)\n",
      "loss tf.Tensor(0.0, shape=(), dtype=float32)\n",
      "loss tf.Tensor(0.0, shape=(), dtype=float32)\n",
      "loss tf.Tensor(0.0, shape=(), dtype=float32)\n",
      "loss tf.Tensor(0.0, shape=(), dtype=float32)\n"
     ]
    },
    {
     "name": "stderr",
     "output_type": "stream",
     "text": [
      " 81%|████████▏ | 8141/10000 [04:10<01:00, 30.87it/s, episode_reward=0, running_reward=0]"
     ]
    },
    {
     "name": "stdout",
     "output_type": "stream",
     "text": [
      "loss tf.Tensor(0.0, shape=(), dtype=float32)\n",
      "loss tf.Tensor(0.0, shape=(), dtype=float32)\n",
      "loss tf.Tensor(0.0, shape=(), dtype=float32)\n",
      "loss tf.Tensor(0.0, shape=(), dtype=float32)\n",
      "loss tf.Tensor(0.0, shape=(), dtype=float32)\n",
      "loss tf.Tensor(0.0, shape=(), dtype=float32)\n",
      "loss tf.Tensor(0.0, shape=(), dtype=float32)\n",
      "loss tf.Tensor(0.0, shape=(), dtype=float32)\n"
     ]
    },
    {
     "name": "stderr",
     "output_type": "stream",
     "text": [
      " 81%|████████▏ | 8145/10000 [04:10<01:00, 30.75it/s, episode_reward=0, running_reward=0]"
     ]
    },
    {
     "name": "stdout",
     "output_type": "stream",
     "text": [
      "loss tf.Tensor(0.0, shape=(), dtype=float32)\n",
      "loss tf.Tensor(0.0, shape=(), dtype=float32)\n",
      "loss tf.Tensor(0.0, shape=(), dtype=float32)\n",
      "loss tf.Tensor(0.0, shape=(), dtype=float32)\n",
      "loss tf.Tensor(0.0, shape=(), dtype=float32)\n",
      "loss tf.Tensor(0.0, shape=(), dtype=float32)\n",
      "loss tf.Tensor(0.0, shape=(), dtype=float32)\n"
     ]
    },
    {
     "name": "stderr",
     "output_type": "stream",
     "text": [
      " 82%|████████▏ | 8153/10000 [04:10<00:58, 31.33it/s, episode_reward=0, running_reward=0]"
     ]
    },
    {
     "name": "stdout",
     "output_type": "stream",
     "text": [
      "loss tf.Tensor(0.0, shape=(), dtype=float32)\n",
      "loss tf.Tensor(0.0, shape=(), dtype=float32)\n",
      "loss tf.Tensor(0.0, shape=(), dtype=float32)\n",
      "loss tf.Tensor(0.0, shape=(), dtype=float32)\n",
      "loss tf.Tensor(0.0, shape=(), dtype=float32)\n",
      "loss tf.Tensor(0.0, shape=(), dtype=float32)\n",
      "loss tf.Tensor(0.0, shape=(), dtype=float32)\n"
     ]
    },
    {
     "name": "stderr",
     "output_type": "stream",
     "text": [
      " 82%|████████▏ | 8161/10000 [04:10<00:56, 32.75it/s, episode_reward=0, running_reward=0]"
     ]
    },
    {
     "name": "stdout",
     "output_type": "stream",
     "text": [
      "loss tf.Tensor(0.0, shape=(), dtype=float32)\n",
      "loss tf.Tensor(0.0, shape=(), dtype=float32)\n",
      "loss tf.Tensor(0.0, shape=(), dtype=float32)\n",
      "loss tf.Tensor(0.0, shape=(), dtype=float32)\n",
      "loss tf.Tensor(0.0, shape=(), dtype=float32)\n",
      "loss tf.Tensor(0.0, shape=(), dtype=float32)\n",
      "loss tf.Tensor(0.0, shape=(), dtype=float32)\n"
     ]
    },
    {
     "name": "stderr",
     "output_type": "stream",
     "text": [
      " 82%|████████▏ | 8169/10000 [04:10<00:52, 34.63it/s, episode_reward=0, running_reward=0]"
     ]
    },
    {
     "name": "stdout",
     "output_type": "stream",
     "text": [
      "loss tf.Tensor(0.0, shape=(), dtype=float32)\n",
      "loss tf.Tensor(0.0, shape=(), dtype=float32)\n",
      "loss tf.Tensor(0.0, shape=(), dtype=float32)\n",
      "loss tf.Tensor(0.0, shape=(), dtype=float32)\n",
      "loss tf.Tensor(0.0, shape=(), dtype=float32)\n",
      "loss tf.Tensor(0.0, shape=(), dtype=float32)\n",
      "loss tf.Tensor(0.0, shape=(), dtype=float32)\n",
      "loss tf.Tensor(0.0, shape=(), dtype=float32)\n"
     ]
    },
    {
     "name": "stderr",
     "output_type": "stream",
     "text": [
      " 82%|████████▏ | 8177/10000 [04:11<01:08, 26.64it/s, episode_reward=0, running_reward=0]"
     ]
    },
    {
     "name": "stdout",
     "output_type": "stream",
     "text": [
      "loss tf.Tensor(0.0, shape=(), dtype=float32)\n",
      "loss tf.Tensor(0.0, shape=(), dtype=float32)\n",
      "loss tf.Tensor(0.0, shape=(), dtype=float32)\n",
      "loss tf.Tensor(0.0, shape=(), dtype=float32)\n",
      "loss tf.Tensor(0.0, shape=(), dtype=float32)\n",
      "loss tf.Tensor(0.0, shape=(), dtype=float32)\n",
      "loss tf.Tensor(0.0, shape=(), dtype=float32)\n"
     ]
    },
    {
     "name": "stderr",
     "output_type": "stream",
     "text": [
      " 82%|████████▏ | 8185/10000 [04:11<00:59, 30.69it/s, episode_reward=0, running_reward=0]"
     ]
    },
    {
     "name": "stdout",
     "output_type": "stream",
     "text": [
      "loss tf.Tensor(0.0, shape=(), dtype=float32)\n",
      "loss tf.Tensor(0.0, shape=(), dtype=float32)\n",
      "loss tf.Tensor(0.0, shape=(), dtype=float32)\n",
      "loss tf.Tensor(0.0, shape=(), dtype=float32)\n",
      "loss tf.Tensor(0.0, shape=(), dtype=float32)\n",
      "loss tf.Tensor(0.0, shape=(), dtype=float32)\n",
      "loss tf.Tensor(0.0, shape=(), dtype=float32)\n",
      "loss tf.Tensor(0.0, shape=(), dtype=float32)\n"
     ]
    },
    {
     "name": "stderr",
     "output_type": "stream",
     "text": [
      " 82%|████████▏ | 8189/10000 [04:11<00:57, 31.26it/s, episode_reward=0, running_reward=0]"
     ]
    },
    {
     "name": "stdout",
     "output_type": "stream",
     "text": [
      "loss tf.Tensor(0.0, shape=(), dtype=float32)\n",
      "loss tf.Tensor(0.0, shape=(), dtype=float32)\n",
      "loss tf.Tensor(0.0, shape=(), dtype=float32)\n",
      "loss tf.Tensor(0.0, shape=(), dtype=float32)\n",
      "loss tf.Tensor(0.0, shape=(), dtype=float32)\n",
      "loss tf.Tensor(0.0, shape=(), dtype=float32)\n",
      "loss tf.Tensor(0.0, shape=(), dtype=float32)\n",
      "loss tf.Tensor(0.0, shape=(), dtype=float32)\n"
     ]
    },
    {
     "name": "stderr",
     "output_type": "stream",
     "text": [
      " 82%|████████▏ | 8201/10000 [04:12<00:52, 34.52it/s, episode_reward=0, running_reward=0]"
     ]
    },
    {
     "name": "stdout",
     "output_type": "stream",
     "text": [
      "loss tf.Tensor(0.0, shape=(), dtype=float32)\n",
      "loss tf.Tensor(0.0, shape=(), dtype=float32)\n",
      "loss tf.Tensor(0.0, shape=(), dtype=float32)\n",
      "loss tf.Tensor(0.0, shape=(), dtype=float32)\n",
      "loss tf.Tensor(0.0, shape=(), dtype=float32)\n",
      "loss tf.Tensor(0.0, shape=(), dtype=float32)\n",
      "loss tf.Tensor(0.0, shape=(), dtype=float32)\n",
      "loss tf.Tensor(0.0, shape=(), dtype=float32)\n"
     ]
    },
    {
     "name": "stderr",
     "output_type": "stream",
     "text": [
      " 82%|████████▏ | 8209/10000 [04:12<00:50, 35.12it/s, episode_reward=0, running_reward=0]"
     ]
    },
    {
     "name": "stdout",
     "output_type": "stream",
     "text": [
      "loss tf.Tensor(0.0, shape=(), dtype=float32)\n",
      "loss tf.Tensor(0.0, shape=(), dtype=float32)\n",
      "loss tf.Tensor(0.0, shape=(), dtype=float32)\n",
      "loss tf.Tensor(0.0, shape=(), dtype=float32)\n",
      "loss tf.Tensor(0.0, shape=(), dtype=float32)\n",
      "loss tf.Tensor(0.0, shape=(), dtype=float32)\n",
      "loss tf.Tensor(0.0, shape=(), dtype=float32)\n",
      "loss tf.Tensor(0.0, shape=(), dtype=float32)\n"
     ]
    },
    {
     "name": "stderr",
     "output_type": "stream",
     "text": [
      " 82%|████████▏ | 8213/10000 [04:12<00:51, 34.78it/s, episode_reward=0, running_reward=0]"
     ]
    },
    {
     "name": "stdout",
     "output_type": "stream",
     "text": [
      "loss tf.Tensor(0.0, shape=(), dtype=float32)\n",
      "loss tf.Tensor(0.0, shape=(), dtype=float32)\n",
      "loss tf.Tensor(0.0, shape=(), dtype=float32)\n",
      "loss tf.Tensor(0.0, shape=(), dtype=float32)\n",
      "loss tf.Tensor(0.0, shape=(), dtype=float32)\n",
      "loss tf.Tensor(0.0, shape=(), dtype=float32)\n"
     ]
    },
    {
     "name": "stderr",
     "output_type": "stream",
     "text": [
      " 82%|████████▏ | 8220/10000 [04:12<01:09, 25.77it/s, episode_reward=0, running_reward=0]"
     ]
    },
    {
     "name": "stdout",
     "output_type": "stream",
     "text": [
      "loss tf.Tensor(0.0, shape=(), dtype=float32)\n",
      "loss tf.Tensor(0.0, shape=(), dtype=float32)\n",
      "loss tf.Tensor(0.0, shape=(), dtype=float32)\n",
      "loss tf.Tensor(0.0, shape=(), dtype=float32)\n",
      "loss tf.Tensor(0.0, shape=(), dtype=float32)\n",
      "loss tf.Tensor(0.0, shape=(), dtype=float32)\n"
     ]
    },
    {
     "name": "stderr",
     "output_type": "stream",
     "text": [
      " 82%|████████▏ | 8228/10000 [04:12<00:59, 29.97it/s, episode_reward=0, running_reward=0]"
     ]
    },
    {
     "name": "stdout",
     "output_type": "stream",
     "text": [
      "loss tf.Tensor(0.0, shape=(), dtype=float32)\n",
      "loss tf.Tensor(0.0, shape=(), dtype=float32)\n",
      "loss tf.Tensor(0.0, shape=(), dtype=float32)\n",
      "loss tf.Tensor(0.0, shape=(), dtype=float32)\n",
      "loss tf.Tensor(0.0, shape=(), dtype=float32)\n",
      "loss tf.Tensor(0.0, shape=(), dtype=float32)\n",
      "loss tf.Tensor(0.0, shape=(), dtype=float32)\n"
     ]
    },
    {
     "name": "stderr",
     "output_type": "stream",
     "text": [
      " 82%|████████▏ | 8236/10000 [04:13<00:53, 32.95it/s, episode_reward=0, running_reward=0]"
     ]
    },
    {
     "name": "stdout",
     "output_type": "stream",
     "text": [
      "loss tf.Tensor(0.0, shape=(), dtype=float32)\n",
      "loss tf.Tensor(0.0, shape=(), dtype=float32)\n",
      "loss tf.Tensor(0.0, shape=(), dtype=float32)\n",
      "loss tf.Tensor(0.0, shape=(), dtype=float32)\n",
      "loss tf.Tensor(0.0, shape=(), dtype=float32)\n",
      "loss tf.Tensor(0.0, shape=(), dtype=float32)\n",
      "loss tf.Tensor(0.0, shape=(), dtype=float32)\n",
      "loss tf.Tensor(0.0, shape=(), dtype=float32)\n"
     ]
    },
    {
     "name": "stderr",
     "output_type": "stream",
     "text": [
      " 82%|████████▏ | 8244/10000 [04:13<00:51, 34.31it/s, episode_reward=0, running_reward=0]"
     ]
    },
    {
     "name": "stdout",
     "output_type": "stream",
     "text": [
      "loss tf.Tensor(0.0, shape=(), dtype=float32)\n",
      "loss tf.Tensor(0.0, shape=(), dtype=float32)\n",
      "loss tf.Tensor(0.0, shape=(), dtype=float32)\n",
      "loss tf.Tensor(0.0, shape=(), dtype=float32)\n",
      "loss tf.Tensor(0.0, shape=(), dtype=float32)\n",
      "loss tf.Tensor(0.0, shape=(), dtype=float32)\n",
      "loss tf.Tensor(0.0, shape=(), dtype=float32)\n",
      "loss tf.Tensor(0.0, shape=(), dtype=float32)\n"
     ]
    },
    {
     "name": "stderr",
     "output_type": "stream",
     "text": [
      " 83%|████████▎ | 8252/10000 [04:13<00:49, 35.10it/s, episode_reward=0, running_reward=0]"
     ]
    },
    {
     "name": "stdout",
     "output_type": "stream",
     "text": [
      "loss tf.Tensor(0.0, shape=(), dtype=float32)\n",
      "loss tf.Tensor(0.0, shape=(), dtype=float32)\n",
      "loss tf.Tensor(0.0, shape=(), dtype=float32)\n",
      "loss tf.Tensor(0.0, shape=(), dtype=float32)\n",
      "loss tf.Tensor(0.0, shape=(), dtype=float32)\n",
      "loss tf.Tensor(0.0, shape=(), dtype=float32)\n",
      "loss tf.Tensor(0.0, shape=(), dtype=float32)\n",
      "loss tf.Tensor(0.0, shape=(), dtype=float32)\n"
     ]
    },
    {
     "name": "stderr",
     "output_type": "stream",
     "text": [
      " 83%|████████▎ | 8252/10000 [04:13<00:49, 35.10it/s, episode_reward=0, running_reward=0]"
     ]
    },
    {
     "name": "stdout",
     "output_type": "stream",
     "text": [
      "loss tf.Tensor(0.0, shape=(), dtype=float32)\n",
      "loss tf.Tensor(0.0, shape=(), dtype=float32)\n",
      "loss tf.Tensor(0.0, shape=(), dtype=float32)\n"
     ]
    },
    {
     "name": "stderr",
     "output_type": "stream",
     "text": [
      " 83%|████████▎ | 8259/10000 [04:14<01:12, 24.12it/s, episode_reward=0, running_reward=0]"
     ]
    },
    {
     "name": "stdout",
     "output_type": "stream",
     "text": [
      "loss tf.Tensor(0.0, shape=(), dtype=float32)\n",
      "loss tf.Tensor(0.0, shape=(), dtype=float32)\n",
      "loss tf.Tensor(0.0, shape=(), dtype=float32)\n",
      "loss tf.Tensor(0.0, shape=(), dtype=float32)\n",
      "loss tf.Tensor(0.0, shape=(), dtype=float32)\n",
      "loss tf.Tensor(0.0, shape=(), dtype=float32)\n"
     ]
    },
    {
     "name": "stderr",
     "output_type": "stream",
     "text": [
      " 83%|████████▎ | 8267/10000 [04:14<01:01, 28.20it/s, episode_reward=0, running_reward=0]"
     ]
    },
    {
     "name": "stdout",
     "output_type": "stream",
     "text": [
      "loss tf.Tensor(0.0, shape=(), dtype=float32)\n",
      "loss tf.Tensor(0.0, shape=(), dtype=float32)\n",
      "loss tf.Tensor(0.0, shape=(), dtype=float32)\n",
      "loss tf.Tensor(0.0, shape=(), dtype=float32)\n",
      "loss tf.Tensor(0.0, shape=(), dtype=float32)\n",
      "loss tf.Tensor(0.0, shape=(), dtype=float32)\n",
      "loss tf.Tensor(0.0, shape=(), dtype=float32)\n"
     ]
    },
    {
     "name": "stderr",
     "output_type": "stream",
     "text": [
      " 83%|████████▎ | 8275/10000 [04:14<00:53, 32.01it/s, episode_reward=0, running_reward=0]"
     ]
    },
    {
     "name": "stdout",
     "output_type": "stream",
     "text": [
      "loss tf.Tensor(0.0, shape=(), dtype=float32)\n",
      "loss tf.Tensor(0.0, shape=(), dtype=float32)\n",
      "loss tf.Tensor(0.0, shape=(), dtype=float32)\n",
      "loss tf.Tensor(0.0, shape=(), dtype=float32)\n",
      "loss tf.Tensor(0.0, shape=(), dtype=float32)\n",
      "loss tf.Tensor(0.0, shape=(), dtype=float32)\n",
      "loss tf.Tensor(0.0, shape=(), dtype=float32)\n",
      "loss tf.Tensor(0.0, shape=(), dtype=float32)\n"
     ]
    },
    {
     "name": "stderr",
     "output_type": "stream",
     "text": [
      " 83%|████████▎ | 8283/10000 [04:14<00:51, 33.53it/s, episode_reward=0, running_reward=0]"
     ]
    },
    {
     "name": "stdout",
     "output_type": "stream",
     "text": [
      "loss tf.Tensor(0.0, shape=(), dtype=float32)\n",
      "loss tf.Tensor(0.0, shape=(), dtype=float32)\n",
      "loss tf.Tensor(0.0, shape=(), dtype=float32)\n",
      "loss tf.Tensor(0.0, shape=(), dtype=float32)\n",
      "loss tf.Tensor(0.0, shape=(), dtype=float32)\n",
      "loss tf.Tensor(0.0, shape=(), dtype=float32)\n",
      "loss tf.Tensor(0.0, shape=(), dtype=float32)\n",
      "loss tf.Tensor(0.0, shape=(), dtype=float32)\n"
     ]
    },
    {
     "name": "stderr",
     "output_type": "stream",
     "text": [
      " 83%|████████▎ | 8291/10000 [04:15<01:05, 26.17it/s, episode_reward=0, running_reward=0]"
     ]
    },
    {
     "name": "stdout",
     "output_type": "stream",
     "text": [
      "loss tf.Tensor(0.0, shape=(), dtype=float32)\n",
      "loss tf.Tensor(0.0, shape=(), dtype=float32)\n",
      "loss tf.Tensor(0.0, shape=(), dtype=float32)\n",
      "loss tf.Tensor(0.0, shape=(), dtype=float32)\n",
      "loss tf.Tensor(0.0, shape=(), dtype=float32)\n",
      "loss tf.Tensor(0.0, shape=(), dtype=float32)\n",
      "loss tf.Tensor(0.0, shape=(), dtype=float32)\n"
     ]
    },
    {
     "name": "stderr",
     "output_type": "stream",
     "text": [
      " 83%|████████▎ | 8299/10000 [04:15<00:56, 30.12it/s, episode_reward=0, running_reward=0]"
     ]
    },
    {
     "name": "stdout",
     "output_type": "stream",
     "text": [
      "loss tf.Tensor(0.0, shape=(), dtype=float32)\n",
      "loss tf.Tensor(0.0, shape=(), dtype=float32)\n",
      "loss tf.Tensor(0.0, shape=(), dtype=float32)\n",
      "loss tf.Tensor(0.0, shape=(), dtype=float32)\n",
      "loss tf.Tensor(0.0, shape=(), dtype=float32)\n",
      "loss tf.Tensor(0.0, shape=(), dtype=float32)\n",
      "loss tf.Tensor(0.0, shape=(), dtype=float32)\n",
      "loss tf.Tensor(0.0, shape=(), dtype=float32)\n"
     ]
    },
    {
     "name": "stderr",
     "output_type": "stream",
     "text": [
      " 83%|████████▎ | 8307/10000 [04:15<00:52, 32.25it/s, episode_reward=0, running_reward=0]"
     ]
    },
    {
     "name": "stdout",
     "output_type": "stream",
     "text": [
      "loss tf.Tensor(0.0, shape=(), dtype=float32)\n",
      "loss tf.Tensor(0.0, shape=(), dtype=float32)\n",
      "loss tf.Tensor(0.0, shape=(), dtype=float32)\n",
      "loss tf.Tensor(0.0, shape=(), dtype=float32)\n",
      "loss tf.Tensor(0.0, shape=(), dtype=float32)\n",
      "loss tf.Tensor(0.0, shape=(), dtype=float32)\n",
      "loss tf.Tensor(0.0, shape=(), dtype=float32)\n",
      "loss tf.Tensor(0.0, shape=(), dtype=float32)\n"
     ]
    },
    {
     "name": "stderr",
     "output_type": "stream",
     "text": [
      " 83%|████████▎ | 8311/10000 [04:15<00:52, 32.07it/s, episode_reward=0, running_reward=0]"
     ]
    },
    {
     "name": "stdout",
     "output_type": "stream",
     "text": [
      "loss tf.Tensor(0.0, shape=(), dtype=float32)\n",
      "loss tf.Tensor(0.0, shape=(), dtype=float32)\n",
      "loss tf.Tensor(0.0, shape=(), dtype=float32)\n",
      "loss tf.Tensor(0.0, shape=(), dtype=float32)\n",
      "loss tf.Tensor(0.0, shape=(), dtype=float32)\n",
      "loss tf.Tensor(0.0, shape=(), dtype=float32)\n",
      "loss tf.Tensor(0.0, shape=(), dtype=float32)\n"
     ]
    },
    {
     "name": "stderr",
     "output_type": "stream",
     "text": [
      " 83%|████████▎ | 8319/10000 [04:16<00:49, 33.90it/s, episode_reward=0, running_reward=0]"
     ]
    },
    {
     "name": "stdout",
     "output_type": "stream",
     "text": [
      "loss tf.Tensor(0.0, shape=(), dtype=float32)\n",
      "loss tf.Tensor(0.0, shape=(), dtype=float32)\n",
      "loss tf.Tensor(0.0, shape=(), dtype=float32)\n",
      "loss tf.Tensor(0.0, shape=(), dtype=float32)\n",
      "loss tf.Tensor(0.0, shape=(), dtype=float32)\n",
      "loss tf.Tensor(0.0, shape=(), dtype=float32)\n",
      "loss tf.Tensor(0.0, shape=(), dtype=float32)\n",
      "loss tf.Tensor(0.0, shape=(), dtype=float32)\n"
     ]
    },
    {
     "name": "stderr",
     "output_type": "stream",
     "text": [
      " 83%|████████▎ | 8327/10000 [04:16<00:48, 34.43it/s, episode_reward=0, running_reward=0]"
     ]
    },
    {
     "name": "stdout",
     "output_type": "stream",
     "text": [
      "loss tf.Tensor(0.0, shape=(), dtype=float32)\n",
      "loss tf.Tensor(0.0, shape=(), dtype=float32)\n",
      "loss tf.Tensor(0.0, shape=(), dtype=float32)\n",
      "loss tf.Tensor(0.0, shape=(), dtype=float32)\n",
      "loss tf.Tensor(0.0, shape=(), dtype=float32)\n",
      "loss tf.Tensor(0.0, shape=(), dtype=float32)\n",
      "loss tf.Tensor(0.0, shape=(), dtype=float32)\n",
      "loss tf.Tensor(0.0, shape=(), dtype=float32)\n"
     ]
    },
    {
     "name": "stderr",
     "output_type": "stream",
     "text": [
      " 83%|████████▎ | 8335/10000 [04:16<00:48, 34.63it/s, episode_reward=0, running_reward=0]"
     ]
    },
    {
     "name": "stdout",
     "output_type": "stream",
     "text": [
      "loss tf.Tensor(0.0, shape=(), dtype=float32)\n",
      "loss tf.Tensor(0.0, shape=(), dtype=float32)\n",
      "loss tf.Tensor(0.0, shape=(), dtype=float32)\n",
      "loss tf.Tensor(0.0, shape=(), dtype=float32)\n",
      "loss tf.Tensor(0.0, shape=(), dtype=float32)\n",
      "loss tf.Tensor(0.0, shape=(), dtype=float32)\n",
      "loss tf.Tensor(0.0, shape=(), dtype=float32)\n",
      "loss tf.Tensor(0.0, shape=(), dtype=float32)\n"
     ]
    },
    {
     "name": "stderr",
     "output_type": "stream",
     "text": [
      " 83%|████████▎ | 8339/10000 [04:16<00:50, 33.13it/s, episode_reward=0, running_reward=0]"
     ]
    },
    {
     "name": "stdout",
     "output_type": "stream",
     "text": [
      "loss tf.Tensor(0.0, shape=(), dtype=float32)\n",
      "loss tf.Tensor(0.0, shape=(), dtype=float32)\n",
      "loss tf.Tensor(0.0, shape=(), dtype=float32)\n",
      "loss tf.Tensor(0.0, shape=(), dtype=float32)\n"
     ]
    },
    {
     "name": "stderr",
     "output_type": "stream",
     "text": [
      " 83%|████████▎ | 8346/10000 [04:16<01:11, 23.27it/s, episode_reward=0, running_reward=0]"
     ]
    },
    {
     "name": "stdout",
     "output_type": "stream",
     "text": [
      "loss tf.Tensor(0.0, shape=(), dtype=float32)\n",
      "loss tf.Tensor(0.0, shape=(), dtype=float32)\n",
      "loss tf.Tensor(0.0, shape=(), dtype=float32)\n",
      "loss tf.Tensor(0.0, shape=(), dtype=float32)\n"
     ]
    },
    {
     "name": "stderr",
     "output_type": "stream",
     "text": [
      " 84%|████████▎ | 8350/10000 [04:17<01:02, 26.38it/s, episode_reward=0, running_reward=0]"
     ]
    },
    {
     "name": "stdout",
     "output_type": "stream",
     "text": [
      "loss tf.Tensor(0.0, shape=(), dtype=float32)\n",
      "loss tf.Tensor(0.0, shape=(), dtype=float32)\n",
      "loss tf.Tensor(0.0, shape=(), dtype=float32)\n",
      "loss tf.Tensor(0.0, shape=(), dtype=float32)\n",
      "loss tf.Tensor(0.0, shape=(), dtype=float32)\n",
      "loss tf.Tensor(0.0, shape=(), dtype=float32)\n"
     ]
    },
    {
     "name": "stderr",
     "output_type": "stream",
     "text": [
      " 84%|████████▎ | 8356/10000 [04:17<01:15, 21.70it/s, episode_reward=0, running_reward=0]"
     ]
    },
    {
     "name": "stdout",
     "output_type": "stream",
     "text": [
      "loss tf.Tensor(0.0, shape=(), dtype=float32)\n",
      "loss tf.Tensor(0.0, shape=(), dtype=float32)\n",
      "loss tf.Tensor(0.0, shape=(), dtype=float32)\n",
      "loss tf.Tensor(0.0, shape=(), dtype=float32)\n",
      "loss tf.Tensor(0.0, shape=(), dtype=float32)\n",
      "loss tf.Tensor(0.0, shape=(), dtype=float32)\n",
      "loss tf.Tensor(0.0, shape=(), dtype=float32)\n"
     ]
    },
    {
     "name": "stderr",
     "output_type": "stream",
     "text": [
      " 84%|████████▎ | 8364/10000 [04:17<00:59, 27.65it/s, episode_reward=0, running_reward=0]"
     ]
    },
    {
     "name": "stdout",
     "output_type": "stream",
     "text": [
      "loss tf.Tensor(0.0, shape=(), dtype=float32)\n",
      "loss tf.Tensor(0.0, shape=(), dtype=float32)\n",
      "loss tf.Tensor(0.0, shape=(), dtype=float32)\n",
      "loss tf.Tensor(0.0, shape=(), dtype=float32)\n",
      "loss tf.Tensor(0.0, shape=(), dtype=float32)\n",
      "loss tf.Tensor(0.0, shape=(), dtype=float32)\n",
      "loss tf.Tensor(0.0, shape=(), dtype=float32)\n",
      "loss tf.Tensor(0.0, shape=(), dtype=float32)\n"
     ]
    },
    {
     "name": "stderr",
     "output_type": "stream",
     "text": [
      " 84%|████████▎ | 8372/10000 [04:17<00:52, 31.13it/s, episode_reward=0, running_reward=0]"
     ]
    },
    {
     "name": "stdout",
     "output_type": "stream",
     "text": [
      "loss tf.Tensor(0.0, shape=(), dtype=float32)\n",
      "loss tf.Tensor(0.0, shape=(), dtype=float32)\n",
      "loss tf.Tensor(0.0, shape=(), dtype=float32)\n",
      "loss tf.Tensor(0.0, shape=(), dtype=float32)\n",
      "loss tf.Tensor(0.0, shape=(), dtype=float32)\n",
      "loss tf.Tensor(0.0, shape=(), dtype=float32)\n",
      "loss tf.Tensor(0.0, shape=(), dtype=float32)\n",
      "loss tf.Tensor(0.0, shape=(), dtype=float32)\n"
     ]
    },
    {
     "name": "stderr",
     "output_type": "stream",
     "text": [
      " 84%|████████▍ | 8380/10000 [04:18<00:48, 33.59it/s, episode_reward=0, running_reward=0]"
     ]
    },
    {
     "name": "stdout",
     "output_type": "stream",
     "text": [
      "loss tf.Tensor(0.0, shape=(), dtype=float32)\n",
      "loss tf.Tensor(0.0, shape=(), dtype=float32)\n",
      "loss tf.Tensor(0.0, shape=(), dtype=float32)\n",
      "loss tf.Tensor(0.0, shape=(), dtype=float32)\n",
      "loss tf.Tensor(0.0, shape=(), dtype=float32)\n",
      "loss tf.Tensor(0.0, shape=(), dtype=float32)\n"
     ]
    },
    {
     "name": "stderr",
     "output_type": "stream",
     "text": [
      " 84%|████████▍ | 8384/10000 [04:18<01:10, 23.03it/s, episode_reward=0, running_reward=0]"
     ]
    },
    {
     "name": "stdout",
     "output_type": "stream",
     "text": [
      "loss tf.Tensor(0.0, shape=(), dtype=float32)\n",
      "loss tf.Tensor(0.0, shape=(), dtype=float32)\n",
      "loss tf.Tensor(0.0, shape=(), dtype=float32)\n",
      "loss tf.Tensor(0.0, shape=(), dtype=float32)\n",
      "loss tf.Tensor(0.0, shape=(), dtype=float32)\n",
      "loss tf.Tensor(0.0, shape=(), dtype=float32)\n"
     ]
    },
    {
     "name": "stderr",
     "output_type": "stream",
     "text": [
      " 84%|████████▍ | 8392/10000 [04:18<00:58, 27.52it/s, episode_reward=0, running_reward=0]"
     ]
    },
    {
     "name": "stdout",
     "output_type": "stream",
     "text": [
      "loss tf.Tensor(0.0, shape=(), dtype=float32)\n",
      "loss tf.Tensor(0.0, shape=(), dtype=float32)\n",
      "loss tf.Tensor(0.0, shape=(), dtype=float32)\n",
      "loss tf.Tensor(0.0, shape=(), dtype=float32)\n",
      "loss tf.Tensor(0.0, shape=(), dtype=float32)\n",
      "loss tf.Tensor(0.0, shape=(), dtype=float32)\n",
      "loss tf.Tensor(0.0, shape=(), dtype=float32)\n",
      "loss tf.Tensor(0.0, shape=(), dtype=float32)\n"
     ]
    },
    {
     "name": "stderr",
     "output_type": "stream",
     "text": [
      " 84%|████████▍ | 8400/10000 [04:18<00:50, 31.42it/s, episode_reward=0, running_reward=0]"
     ]
    },
    {
     "name": "stdout",
     "output_type": "stream",
     "text": [
      "loss tf.Tensor(0.0, shape=(), dtype=float32)\n",
      "loss tf.Tensor(0.0, shape=(), dtype=float32)\n",
      "loss tf.Tensor(0.0, shape=(), dtype=float32)\n",
      "loss tf.Tensor(0.0, shape=(), dtype=float32)\n",
      "loss tf.Tensor(0.0, shape=(), dtype=float32)\n",
      "loss tf.Tensor(0.0, shape=(), dtype=float32)\n",
      "loss tf.Tensor(0.0, shape=(), dtype=float32)\n",
      "loss tf.Tensor(0.0, shape=(), dtype=float32)\n"
     ]
    },
    {
     "name": "stderr",
     "output_type": "stream",
     "text": [
      " 84%|████████▍ | 8408/10000 [04:19<00:47, 33.31it/s, episode_reward=0, running_reward=0]"
     ]
    },
    {
     "name": "stdout",
     "output_type": "stream",
     "text": [
      "loss tf.Tensor(0.0, shape=(), dtype=float32)\n",
      "loss tf.Tensor(0.0, shape=(), dtype=float32)\n",
      "loss tf.Tensor(0.0, shape=(), dtype=float32)\n",
      "loss tf.Tensor(0.0, shape=(), dtype=float32)\n",
      "loss tf.Tensor(0.0, shape=(), dtype=float32)\n",
      "loss tf.Tensor(0.0, shape=(), dtype=float32)\n",
      "loss tf.Tensor(0.0, shape=(), dtype=float32)\n",
      "loss tf.Tensor(0.0, shape=(), dtype=float32)\n"
     ]
    },
    {
     "name": "stderr",
     "output_type": "stream",
     "text": [
      " 84%|████████▍ | 8416/10000 [04:19<00:46, 34.37it/s, episode_reward=0, running_reward=0]"
     ]
    },
    {
     "name": "stdout",
     "output_type": "stream",
     "text": [
      "loss tf.Tensor(0.0, shape=(), dtype=float32)\n",
      "loss tf.Tensor(0.0, shape=(), dtype=float32)\n",
      "loss tf.Tensor(0.0, shape=(), dtype=float32)\n",
      "loss tf.Tensor(0.0, shape=(), dtype=float32)\n",
      "loss tf.Tensor(0.0, shape=(), dtype=float32)\n",
      "loss tf.Tensor(0.0, shape=(), dtype=float32)\n",
      "loss tf.Tensor(0.0, shape=(), dtype=float32)\n",
      "loss tf.Tensor(0.0, shape=(), dtype=float32)\n"
     ]
    },
    {
     "name": "stderr",
     "output_type": "stream",
     "text": [
      " 84%|████████▍ | 8420/10000 [04:19<00:45, 34.93it/s, episode_reward=0, running_reward=0]"
     ]
    },
    {
     "name": "stdout",
     "output_type": "stream",
     "text": [
      "loss tf.Tensor(0.0, shape=(), dtype=float32)\n",
      "loss tf.Tensor(0.0, shape=(), dtype=float32)\n",
      "loss tf.Tensor(0.0, shape=(), dtype=float32)\n",
      "loss tf.Tensor(0.0, shape=(), dtype=float32)\n"
     ]
    },
    {
     "name": "stderr",
     "output_type": "stream",
     "text": [
      " 84%|████████▍ | 8428/10000 [04:19<00:55, 28.13it/s, episode_reward=0, running_reward=0]"
     ]
    },
    {
     "name": "stdout",
     "output_type": "stream",
     "text": [
      "loss tf.Tensor(0.0, shape=(), dtype=float32)\n",
      "loss tf.Tensor(0.0, shape=(), dtype=float32)\n",
      "loss tf.Tensor(0.0, shape=(), dtype=float32)\n",
      "loss tf.Tensor(0.0, shape=(), dtype=float32)\n",
      "loss tf.Tensor(0.0, shape=(), dtype=float32)\n",
      "loss tf.Tensor(0.0, shape=(), dtype=float32)\n",
      "loss tf.Tensor(0.0, shape=(), dtype=float32)\n"
     ]
    },
    {
     "name": "stderr",
     "output_type": "stream",
     "text": [
      " 84%|████████▍ | 8436/10000 [04:20<00:51, 30.56it/s, episode_reward=0, running_reward=0]"
     ]
    },
    {
     "name": "stdout",
     "output_type": "stream",
     "text": [
      "loss tf.Tensor(0.0, shape=(), dtype=float32)\n",
      "loss tf.Tensor(0.0, shape=(), dtype=float32)\n",
      "loss tf.Tensor(0.0, shape=(), dtype=float32)\n",
      "loss tf.Tensor(0.0, shape=(), dtype=float32)\n",
      "loss tf.Tensor(0.0, shape=(), dtype=float32)\n",
      "loss tf.Tensor(0.0, shape=(), dtype=float32)\n",
      "loss tf.Tensor(0.0, shape=(), dtype=float32)\n",
      "loss tf.Tensor(0.0, shape=(), dtype=float32)\n"
     ]
    },
    {
     "name": "stderr",
     "output_type": "stream",
     "text": [
      " 84%|████████▍ | 8444/10000 [04:20<00:47, 32.71it/s, episode_reward=0, running_reward=0]"
     ]
    },
    {
     "name": "stdout",
     "output_type": "stream",
     "text": [
      "loss tf.Tensor(0.0, shape=(), dtype=float32)\n",
      "loss tf.Tensor(0.0, shape=(), dtype=float32)\n",
      "loss tf.Tensor(0.0, shape=(), dtype=float32)\n",
      "loss tf.Tensor(0.0, shape=(), dtype=float32)\n",
      "loss tf.Tensor(0.0, shape=(), dtype=float32)\n",
      "loss tf.Tensor(0.0, shape=(), dtype=float32)\n",
      "loss tf.Tensor(0.0, shape=(), dtype=float32)\n",
      "loss tf.Tensor(0.0, shape=(), dtype=float32)\n"
     ]
    },
    {
     "name": "stderr",
     "output_type": "stream",
     "text": [
      " 85%|████████▍ | 8452/10000 [04:20<00:45, 34.06it/s, episode_reward=0, running_reward=0]"
     ]
    },
    {
     "name": "stdout",
     "output_type": "stream",
     "text": [
      "loss tf.Tensor(0.0, shape=(), dtype=float32)\n",
      "loss tf.Tensor(0.0, shape=(), dtype=float32)\n",
      "loss tf.Tensor(0.0, shape=(), dtype=float32)\n",
      "loss tf.Tensor(0.0, shape=(), dtype=float32)\n",
      "loss tf.Tensor(0.0, shape=(), dtype=float32)\n",
      "loss tf.Tensor(0.0, shape=(), dtype=float32)\n",
      "loss tf.Tensor(0.0, shape=(), dtype=float32)\n",
      "loss tf.Tensor(0.0, shape=(), dtype=float32)\n"
     ]
    },
    {
     "name": "stderr",
     "output_type": "stream",
     "text": [
      " 85%|████████▍ | 8460/10000 [04:20<00:44, 34.50it/s, episode_reward=0, running_reward=0]"
     ]
    },
    {
     "name": "stdout",
     "output_type": "stream",
     "text": [
      "loss tf.Tensor(0.0, shape=(), dtype=float32)\n",
      "loss tf.Tensor(0.0, shape=(), dtype=float32)\n",
      "loss tf.Tensor(0.0, shape=(), dtype=float32)\n",
      "loss tf.Tensor(0.0, shape=(), dtype=float32)\n",
      "loss tf.Tensor(0.0, shape=(), dtype=float32)\n",
      "loss tf.Tensor(0.0, shape=(), dtype=float32)\n",
      "loss tf.Tensor(0.0, shape=(), dtype=float32)\n",
      "loss tf.Tensor(0.0, shape=(), dtype=float32)\n"
     ]
    },
    {
     "name": "stderr",
     "output_type": "stream",
     "text": [
      " 85%|████████▍ | 8468/10000 [04:21<00:57, 26.81it/s, episode_reward=0, running_reward=0]"
     ]
    },
    {
     "name": "stdout",
     "output_type": "stream",
     "text": [
      "loss tf.Tensor(0.0, shape=(), dtype=float32)\n",
      "loss tf.Tensor(0.0, shape=(), dtype=float32)\n",
      "loss tf.Tensor(0.0, shape=(), dtype=float32)\n",
      "loss tf.Tensor(0.0, shape=(), dtype=float32)\n",
      "loss tf.Tensor(0.0, shape=(), dtype=float32)\n",
      "loss tf.Tensor(0.0, shape=(), dtype=float32)\n"
     ]
    },
    {
     "name": "stderr",
     "output_type": "stream",
     "text": [
      " 85%|████████▍ | 8476/10000 [04:21<00:48, 31.13it/s, episode_reward=0, running_reward=0]"
     ]
    },
    {
     "name": "stdout",
     "output_type": "stream",
     "text": [
      "loss tf.Tensor(0.0, shape=(), dtype=float32)\n",
      "loss tf.Tensor(0.0, shape=(), dtype=float32)\n",
      "loss tf.Tensor(0.0, shape=(), dtype=float32)\n",
      "loss tf.Tensor(0.0, shape=(), dtype=float32)\n",
      "loss tf.Tensor(0.0, shape=(), dtype=float32)\n",
      "loss tf.Tensor(0.0, shape=(), dtype=float32)\n",
      "loss tf.Tensor(0.0, shape=(), dtype=float32)\n",
      "loss tf.Tensor(0.0, shape=(), dtype=float32)\n"
     ]
    },
    {
     "name": "stderr",
     "output_type": "stream",
     "text": [
      " 85%|████████▍ | 8484/10000 [04:21<00:45, 33.03it/s, episode_reward=0, running_reward=0]"
     ]
    },
    {
     "name": "stdout",
     "output_type": "stream",
     "text": [
      "loss tf.Tensor(0.0, shape=(), dtype=float32)\n",
      "loss tf.Tensor(0.0, shape=(), dtype=float32)\n",
      "loss tf.Tensor(0.0, shape=(), dtype=float32)\n",
      "loss tf.Tensor(0.0, shape=(), dtype=float32)\n",
      "loss tf.Tensor(0.0, shape=(), dtype=float32)\n",
      "loss tf.Tensor(0.0, shape=(), dtype=float32)\n",
      "loss tf.Tensor(0.0, shape=(), dtype=float32)\n",
      "loss tf.Tensor(0.0, shape=(), dtype=float32)\n"
     ]
    },
    {
     "name": "stderr",
     "output_type": "stream",
     "text": [
      " 85%|████████▍ | 8492/10000 [04:21<00:44, 34.23it/s, episode_reward=0, running_reward=0]"
     ]
    },
    {
     "name": "stdout",
     "output_type": "stream",
     "text": [
      "loss tf.Tensor(0.0, shape=(), dtype=float32)\n",
      "loss tf.Tensor(0.0, shape=(), dtype=float32)\n",
      "loss tf.Tensor(0.0, shape=(), dtype=float32)\n",
      "loss tf.Tensor(0.0, shape=(), dtype=float32)\n",
      "loss tf.Tensor(0.0, shape=(), dtype=float32)\n",
      "loss tf.Tensor(0.0, shape=(), dtype=float32)\n",
      "loss tf.Tensor(0.0, shape=(), dtype=float32)\n",
      "loss tf.Tensor(0.0, shape=(), dtype=float32)\n"
     ]
    },
    {
     "name": "stderr",
     "output_type": "stream",
     "text": [
      " 85%|████████▍ | 8496/10000 [04:21<00:52, 28.59it/s, episode_reward=0, running_reward=0]"
     ]
    },
    {
     "name": "stdout",
     "output_type": "stream",
     "text": [
      "loss tf.Tensor(0.0, shape=(), dtype=float32)\n",
      "loss tf.Tensor(0.0, shape=(), dtype=float32)\n",
      "loss tf.Tensor(0.0, shape=(), dtype=float32)\n",
      "loss tf.Tensor(0.0, shape=(), dtype=float32)\n",
      "loss tf.Tensor(0.0, shape=(), dtype=float32)\n"
     ]
    },
    {
     "name": "stderr",
     "output_type": "stream",
     "text": [
      " 85%|████████▌ | 8503/10000 [04:22<00:53, 28.07it/s, episode_reward=0, running_reward=0]"
     ]
    },
    {
     "name": "stdout",
     "output_type": "stream",
     "text": [
      "loss tf.Tensor(0.0, shape=(), dtype=float32)\n",
      "loss tf.Tensor(0.0, shape=(), dtype=float32)\n",
      "loss tf.Tensor(0.0, shape=(), dtype=float32)\n",
      "loss tf.Tensor(0.0, shape=(), dtype=float32)\n",
      "loss tf.Tensor(0.0, shape=(), dtype=float32)\n",
      "loss tf.Tensor(0.0, shape=(), dtype=float32)\n",
      "loss tf.Tensor(0.0, shape=(), dtype=float32)\n"
     ]
    },
    {
     "name": "stderr",
     "output_type": "stream",
     "text": [
      " 85%|████████▌ | 8511/10000 [04:22<00:47, 31.20it/s, episode_reward=0, running_reward=0]"
     ]
    },
    {
     "name": "stdout",
     "output_type": "stream",
     "text": [
      "loss tf.Tensor(0.0, shape=(), dtype=float32)\n",
      "loss tf.Tensor(0.0, shape=(), dtype=float32)\n",
      "loss tf.Tensor(0.0, shape=(), dtype=float32)\n",
      "loss tf.Tensor(0.0, shape=(), dtype=float32)\n",
      "loss tf.Tensor(0.0, shape=(), dtype=float32)\n",
      "loss tf.Tensor(0.0, shape=(), dtype=float32)\n",
      "loss tf.Tensor(0.0, shape=(), dtype=float32)\n"
     ]
    },
    {
     "name": "stderr",
     "output_type": "stream",
     "text": [
      " 85%|████████▌ | 8519/10000 [04:22<00:43, 33.84it/s, episode_reward=0, running_reward=0]"
     ]
    },
    {
     "name": "stdout",
     "output_type": "stream",
     "text": [
      "loss tf.Tensor(0.0, shape=(), dtype=float32)\n",
      "loss tf.Tensor(0.0, shape=(), dtype=float32)\n",
      "loss tf.Tensor(0.0, shape=(), dtype=float32)\n",
      "loss tf.Tensor(0.0, shape=(), dtype=float32)\n",
      "loss tf.Tensor(0.0, shape=(), dtype=float32)\n",
      "loss tf.Tensor(0.0, shape=(), dtype=float32)\n",
      "loss tf.Tensor(0.0, shape=(), dtype=float32)\n",
      "loss tf.Tensor(0.0, shape=(), dtype=float32)\n"
     ]
    },
    {
     "name": "stderr",
     "output_type": "stream",
     "text": [
      " 85%|████████▌ | 8523/10000 [04:22<00:44, 33.18it/s, episode_reward=0, running_reward=0]"
     ]
    },
    {
     "name": "stdout",
     "output_type": "stream",
     "text": [
      "loss tf.Tensor(0.0, shape=(), dtype=float32)\n",
      "loss tf.Tensor(0.0, shape=(), dtype=float32)\n",
      "loss tf.Tensor(0.0, shape=(), dtype=float32)\n",
      "loss tf.Tensor(0.0, shape=(), dtype=float32)\n",
      "loss tf.Tensor(0.0, shape=(), dtype=float32)\n",
      "loss tf.Tensor(0.0, shape=(), dtype=float32)\n",
      "loss tf.Tensor(0.0, shape=(), dtype=float32)\n",
      "loss tf.Tensor(0.0, shape=(), dtype=float32)\n"
     ]
    },
    {
     "name": "stderr",
     "output_type": "stream",
     "text": [
      " 85%|████████▌ | 8535/10000 [04:23<00:41, 35.53it/s, episode_reward=0, running_reward=0]"
     ]
    },
    {
     "name": "stdout",
     "output_type": "stream",
     "text": [
      "loss tf.Tensor(0.0, shape=(), dtype=float32)\n",
      "loss tf.Tensor(0.0, shape=(), dtype=float32)\n",
      "loss tf.Tensor(0.0, shape=(), dtype=float32)\n",
      "loss tf.Tensor(0.0, shape=(), dtype=float32)\n",
      "loss tf.Tensor(0.0, shape=(), dtype=float32)\n",
      "loss tf.Tensor(0.0, shape=(), dtype=float32)\n",
      "loss tf.Tensor(0.0, shape=(), dtype=float32)\n",
      "loss tf.Tensor(0.0, shape=(), dtype=float32)\n"
     ]
    },
    {
     "name": "stderr",
     "output_type": "stream",
     "text": [
      " 85%|████████▌ | 8539/10000 [04:23<00:42, 34.03it/s, episode_reward=0, running_reward=0]"
     ]
    },
    {
     "name": "stdout",
     "output_type": "stream",
     "text": [
      "loss tf.Tensor(0.0, shape=(), dtype=float32)\n",
      "loss tf.Tensor(0.0, shape=(), dtype=float32)\n",
      "loss tf.Tensor(0.0, shape=(), dtype=float32)\n",
      "loss tf.Tensor(0.0, shape=(), dtype=float32)\n",
      "loss tf.Tensor(0.0, shape=(), dtype=float32)\n",
      "loss tf.Tensor(0.0, shape=(), dtype=float32)\n",
      "loss tf.Tensor(0.0, shape=(), dtype=float32)\n"
     ]
    },
    {
     "name": "stderr",
     "output_type": "stream",
     "text": [
      " 85%|████████▌ | 8543/10000 [04:23<00:41, 34.94it/s, episode_reward=0, running_reward=0]"
     ]
    },
    {
     "name": "stdout",
     "output_type": "stream",
     "text": [
      "loss tf.Tensor(0.0, shape=(), dtype=float32)\n",
      "loss tf.Tensor(0.0, shape=(), dtype=float32)\n"
     ]
    },
    {
     "name": "stderr",
     "output_type": "stream",
     "text": [
      " 86%|████████▌ | 8551/10000 [04:23<00:54, 26.40it/s, episode_reward=0, running_reward=0]"
     ]
    },
    {
     "name": "stdout",
     "output_type": "stream",
     "text": [
      "loss tf.Tensor(0.0, shape=(), dtype=float32)\n",
      "loss tf.Tensor(0.0, shape=(), dtype=float32)\n",
      "loss tf.Tensor(0.0, shape=(), dtype=float32)\n",
      "loss tf.Tensor(0.0, shape=(), dtype=float32)\n",
      "loss tf.Tensor(0.0, shape=(), dtype=float32)\n",
      "loss tf.Tensor(0.0, shape=(), dtype=float32)\n",
      "loss tf.Tensor(0.0, shape=(), dtype=float32)\n"
     ]
    },
    {
     "name": "stderr",
     "output_type": "stream",
     "text": [
      " 86%|████████▌ | 8559/10000 [04:23<00:47, 30.46it/s, episode_reward=0, running_reward=0]"
     ]
    },
    {
     "name": "stdout",
     "output_type": "stream",
     "text": [
      "loss tf.Tensor(0.0, shape=(), dtype=float32)\n",
      "loss tf.Tensor(0.0, shape=(), dtype=float32)\n",
      "loss tf.Tensor(0.0, shape=(), dtype=float32)\n",
      "loss tf.Tensor(0.0, shape=(), dtype=float32)\n",
      "loss tf.Tensor(0.0, shape=(), dtype=float32)\n",
      "loss tf.Tensor(0.0, shape=(), dtype=float32)\n",
      "loss tf.Tensor(0.0, shape=(), dtype=float32)\n",
      "loss tf.Tensor(0.0, shape=(), dtype=float32)\n"
     ]
    },
    {
     "name": "stderr",
     "output_type": "stream",
     "text": [
      " 86%|████████▌ | 8567/10000 [04:24<00:44, 32.11it/s, episode_reward=0, running_reward=0]"
     ]
    },
    {
     "name": "stdout",
     "output_type": "stream",
     "text": [
      "loss tf.Tensor(0.0, shape=(), dtype=float32)\n",
      "loss tf.Tensor(0.0, shape=(), dtype=float32)\n",
      "loss tf.Tensor(0.0, shape=(), dtype=float32)\n",
      "loss tf.Tensor(0.0, shape=(), dtype=float32)\n",
      "loss tf.Tensor(0.0, shape=(), dtype=float32)\n",
      "loss tf.Tensor(0.0, shape=(), dtype=float32)\n",
      "loss tf.Tensor(0.0, shape=(), dtype=float32)\n",
      "loss tf.Tensor(0.0, shape=(), dtype=float32)\n"
     ]
    },
    {
     "name": "stderr",
     "output_type": "stream",
     "text": [
      " 86%|████████▌ | 8575/10000 [04:24<00:41, 34.03it/s, episode_reward=0, running_reward=0]"
     ]
    },
    {
     "name": "stdout",
     "output_type": "stream",
     "text": [
      "loss tf.Tensor(0.0, shape=(), dtype=float32)\n",
      "loss tf.Tensor(0.0, shape=(), dtype=float32)\n",
      "loss tf.Tensor(0.0, shape=(), dtype=float32)\n",
      "loss tf.Tensor(0.0, shape=(), dtype=float32)\n",
      "loss tf.Tensor(0.0, shape=(), dtype=float32)\n",
      "loss tf.Tensor(0.0, shape=(), dtype=float32)\n",
      "loss tf.Tensor(0.0, shape=(), dtype=float32)\n",
      "loss tf.Tensor(0.0, shape=(), dtype=float32)\n"
     ]
    },
    {
     "name": "stderr",
     "output_type": "stream",
     "text": [
      " 86%|████████▌ | 8579/10000 [04:24<00:53, 26.72it/s, episode_reward=0, running_reward=0]"
     ]
    },
    {
     "name": "stdout",
     "output_type": "stream",
     "text": [
      "loss tf.Tensor(0.0, shape=(), dtype=float32)\n",
      "loss tf.Tensor(0.0, shape=(), dtype=float32)\n",
      "loss tf.Tensor(0.0, shape=(), dtype=float32)\n",
      "loss tf.Tensor(0.0, shape=(), dtype=float32)\n",
      "loss tf.Tensor(0.0, shape=(), dtype=float32)\n",
      "loss tf.Tensor(0.0, shape=(), dtype=float32)\n"
     ]
    },
    {
     "name": "stderr",
     "output_type": "stream",
     "text": [
      " 86%|████████▌ | 8587/10000 [04:24<00:47, 29.45it/s, episode_reward=0, running_reward=0]"
     ]
    },
    {
     "name": "stdout",
     "output_type": "stream",
     "text": [
      "loss tf.Tensor(0.0, shape=(), dtype=float32)\n",
      "loss tf.Tensor(0.0, shape=(), dtype=float32)\n",
      "loss tf.Tensor(0.0, shape=(), dtype=float32)\n",
      "loss tf.Tensor(0.0, shape=(), dtype=float32)\n",
      "loss tf.Tensor(0.0, shape=(), dtype=float32)\n",
      "loss tf.Tensor(0.0, shape=(), dtype=float32)\n",
      "loss tf.Tensor(0.0, shape=(), dtype=float32)\n"
     ]
    },
    {
     "name": "stderr",
     "output_type": "stream",
     "text": [
      " 86%|████████▌ | 8595/10000 [04:25<00:42, 32.87it/s, episode_reward=0, running_reward=0]"
     ]
    },
    {
     "name": "stdout",
     "output_type": "stream",
     "text": [
      "loss tf.Tensor(0.0, shape=(), dtype=float32)\n",
      "loss tf.Tensor(0.0, shape=(), dtype=float32)\n",
      "loss tf.Tensor(0.0, shape=(), dtype=float32)\n",
      "loss tf.Tensor(0.0, shape=(), dtype=float32)\n",
      "loss tf.Tensor(0.0, shape=(), dtype=float32)\n",
      "loss tf.Tensor(0.0, shape=(), dtype=float32)\n",
      "loss tf.Tensor(0.0, shape=(), dtype=float32)\n",
      "loss tf.Tensor(0.0, shape=(), dtype=float32)\n"
     ]
    },
    {
     "name": "stderr",
     "output_type": "stream",
     "text": [
      " 86%|████████▌ | 8603/10000 [04:25<00:40, 34.15it/s, episode_reward=0, running_reward=0]"
     ]
    },
    {
     "name": "stdout",
     "output_type": "stream",
     "text": [
      "loss tf.Tensor(0.0, shape=(), dtype=float32)\n",
      "loss tf.Tensor(0.0, shape=(), dtype=float32)\n",
      "loss tf.Tensor(0.0, shape=(), dtype=float32)\n",
      "loss tf.Tensor(0.0, shape=(), dtype=float32)\n",
      "loss tf.Tensor(0.0, shape=(), dtype=float32)\n",
      "loss tf.Tensor(0.0, shape=(), dtype=float32)\n",
      "loss tf.Tensor(0.0, shape=(), dtype=float32)\n",
      "loss tf.Tensor(0.0, shape=(), dtype=float32)\n"
     ]
    },
    {
     "name": "stderr",
     "output_type": "stream",
     "text": [
      " 86%|████████▌ | 8611/10000 [04:25<00:39, 34.79it/s, episode_reward=0, running_reward=0]"
     ]
    },
    {
     "name": "stdout",
     "output_type": "stream",
     "text": [
      "loss tf.Tensor(0.0, shape=(), dtype=float32)\n",
      "loss tf.Tensor(0.0, shape=(), dtype=float32)\n",
      "loss tf.Tensor(0.0, shape=(), dtype=float32)\n",
      "loss tf.Tensor(0.0, shape=(), dtype=float32)\n",
      "loss tf.Tensor(0.0, shape=(), dtype=float32)\n",
      "loss tf.Tensor(0.0, shape=(), dtype=float32)\n",
      "loss tf.Tensor(0.0, shape=(), dtype=float32)\n",
      "loss tf.Tensor(0.0, shape=(), dtype=float32)\n"
     ]
    },
    {
     "name": "stderr",
     "output_type": "stream",
     "text": [
      " 86%|████████▌ | 8615/10000 [04:25<00:52, 26.63it/s, episode_reward=0, running_reward=0]"
     ]
    },
    {
     "name": "stdout",
     "output_type": "stream",
     "text": [
      "loss tf.Tensor(0.0, shape=(), dtype=float32)\n",
      "loss tf.Tensor(0.0, shape=(), dtype=float32)\n",
      "loss tf.Tensor(0.0, shape=(), dtype=float32)\n"
     ]
    },
    {
     "name": "stderr",
     "output_type": "stream",
     "text": [
      " 86%|████████▌ | 8618/10000 [04:25<00:53, 25.87it/s, episode_reward=0, running_reward=0]"
     ]
    },
    {
     "name": "stdout",
     "output_type": "stream",
     "text": [
      "loss tf.Tensor(0.0, shape=(), dtype=float32)\n",
      "loss tf.Tensor(0.0, shape=(), dtype=float32)\n",
      "loss tf.Tensor(0.0, shape=(), dtype=float32)\n",
      "loss tf.Tensor(0.0, shape=(), dtype=float32)\n",
      "loss tf.Tensor(0.0, shape=(), dtype=float32)\n",
      "loss tf.Tensor(0.0, shape=(), dtype=float32)\n"
     ]
    },
    {
     "name": "stderr",
     "output_type": "stream",
     "text": [
      " 86%|████████▋ | 8626/10000 [04:26<00:45, 30.18it/s, episode_reward=0, running_reward=0]"
     ]
    },
    {
     "name": "stdout",
     "output_type": "stream",
     "text": [
      "loss tf.Tensor(0.0, shape=(), dtype=float32)\n",
      "loss tf.Tensor(0.0, shape=(), dtype=float32)\n",
      "loss tf.Tensor(0.0, shape=(), dtype=float32)\n",
      "loss tf.Tensor(0.0, shape=(), dtype=float32)\n",
      "loss tf.Tensor(0.0, shape=(), dtype=float32)\n",
      "loss tf.Tensor(0.0, shape=(), dtype=float32)\n",
      "loss tf.Tensor(0.0, shape=(), dtype=float32)\n",
      "loss tf.Tensor(0.0, shape=(), dtype=float32)\n"
     ]
    },
    {
     "name": "stderr",
     "output_type": "stream",
     "text": [
      " 86%|████████▋ | 8634/10000 [04:26<00:44, 30.96it/s, episode_reward=0, running_reward=0]"
     ]
    },
    {
     "name": "stdout",
     "output_type": "stream",
     "text": [
      "loss tf.Tensor(0.0, shape=(), dtype=float32)\n",
      "loss tf.Tensor(0.0, shape=(), dtype=float32)\n",
      "loss tf.Tensor(0.0, shape=(), dtype=float32)\n",
      "loss tf.Tensor(0.0, shape=(), dtype=float32)\n",
      "loss tf.Tensor(0.0, shape=(), dtype=float32)\n",
      "loss tf.Tensor(0.0, shape=(), dtype=float32)\n",
      "loss tf.Tensor(0.0, shape=(), dtype=float32)\n"
     ]
    },
    {
     "name": "stderr",
     "output_type": "stream",
     "text": [
      " 86%|████████▋ | 8642/10000 [04:26<00:41, 32.84it/s, episode_reward=0, running_reward=0]"
     ]
    },
    {
     "name": "stdout",
     "output_type": "stream",
     "text": [
      "loss tf.Tensor(0.0, shape=(), dtype=float32)\n",
      "loss tf.Tensor(0.0, shape=(), dtype=float32)\n",
      "loss tf.Tensor(0.0, shape=(), dtype=float32)\n",
      "loss tf.Tensor(0.0, shape=(), dtype=float32)\n",
      "loss tf.Tensor(0.0, shape=(), dtype=float32)\n",
      "loss tf.Tensor(0.0, shape=(), dtype=float32)\n",
      "loss tf.Tensor(0.0, shape=(), dtype=float32)\n",
      "loss tf.Tensor(0.0, shape=(), dtype=float32)\n"
     ]
    },
    {
     "name": "stderr",
     "output_type": "stream",
     "text": [
      " 86%|████████▋ | 8646/10000 [04:26<00:47, 28.61it/s, episode_reward=0, running_reward=0]"
     ]
    },
    {
     "name": "stdout",
     "output_type": "stream",
     "text": [
      "loss tf.Tensor(0.0, shape=(), dtype=float32)\n",
      "loss tf.Tensor(0.0, shape=(), dtype=float32)\n",
      "loss tf.Tensor(0.0, shape=(), dtype=float32)\n",
      "loss tf.Tensor(0.0, shape=(), dtype=float32)\n"
     ]
    },
    {
     "name": "stderr",
     "output_type": "stream",
     "text": [
      " 86%|████████▋ | 8650/10000 [04:27<01:07, 19.88it/s, episode_reward=0, running_reward=0]"
     ]
    },
    {
     "name": "stdout",
     "output_type": "stream",
     "text": [
      "loss tf.Tensor(0.0, shape=(), dtype=float32)\n",
      "loss tf.Tensor(0.0, shape=(), dtype=float32)\n",
      "loss tf.Tensor(0.0, shape=(), dtype=float32)\n"
     ]
    },
    {
     "name": "stderr",
     "output_type": "stream",
     "text": [
      " 87%|████████▋ | 8656/10000 [04:27<00:58, 23.04it/s, episode_reward=0, running_reward=0]"
     ]
    },
    {
     "name": "stdout",
     "output_type": "stream",
     "text": [
      "loss tf.Tensor(0.0, shape=(), dtype=float32)\n",
      "loss tf.Tensor(0.0, shape=(), dtype=float32)\n",
      "loss tf.Tensor(0.0, shape=(), dtype=float32)\n",
      "loss tf.Tensor(0.0, shape=(), dtype=float32)\n",
      "loss tf.Tensor(0.0, shape=(), dtype=float32)\n",
      "loss tf.Tensor(0.0, shape=(), dtype=float32)\n"
     ]
    },
    {
     "name": "stderr",
     "output_type": "stream",
     "text": [
      " 87%|████████▋ | 8664/10000 [04:27<00:48, 27.72it/s, episode_reward=0, running_reward=0]"
     ]
    },
    {
     "name": "stdout",
     "output_type": "stream",
     "text": [
      "loss tf.Tensor(0.0, shape=(), dtype=float32)\n",
      "loss tf.Tensor(0.0, shape=(), dtype=float32)\n",
      "loss tf.Tensor(0.0, shape=(), dtype=float32)\n",
      "loss tf.Tensor(0.0, shape=(), dtype=float32)\n",
      "loss tf.Tensor(0.0, shape=(), dtype=float32)\n",
      "loss tf.Tensor(0.0, shape=(), dtype=float32)\n",
      "loss tf.Tensor(0.0, shape=(), dtype=float32)\n"
     ]
    },
    {
     "name": "stderr",
     "output_type": "stream",
     "text": [
      " 87%|████████▋ | 8672/10000 [04:27<00:41, 31.73it/s, episode_reward=0, running_reward=0]"
     ]
    },
    {
     "name": "stdout",
     "output_type": "stream",
     "text": [
      "loss tf.Tensor(0.0, shape=(), dtype=float32)\n",
      "loss tf.Tensor(0.0, shape=(), dtype=float32)\n",
      "loss tf.Tensor(0.0, shape=(), dtype=float32)\n",
      "loss tf.Tensor(0.0, shape=(), dtype=float32)\n",
      "loss tf.Tensor(0.0, shape=(), dtype=float32)\n",
      "loss tf.Tensor(0.0, shape=(), dtype=float32)\n",
      "loss tf.Tensor(0.0, shape=(), dtype=float32)\n",
      "loss tf.Tensor(0.0, shape=(), dtype=float32)\n"
     ]
    },
    {
     "name": "stderr",
     "output_type": "stream",
     "text": [
      " 87%|████████▋ | 8680/10000 [04:28<00:39, 33.82it/s, episode_reward=0, running_reward=0]"
     ]
    },
    {
     "name": "stdout",
     "output_type": "stream",
     "text": [
      "loss tf.Tensor(0.0, shape=(), dtype=float32)\n",
      "loss tf.Tensor(0.0, shape=(), dtype=float32)\n",
      "loss tf.Tensor(0.0, shape=(), dtype=float32)\n",
      "loss tf.Tensor(0.0, shape=(), dtype=float32)\n",
      "loss tf.Tensor(0.0, shape=(), dtype=float32)\n",
      "loss tf.Tensor(0.0, shape=(), dtype=float32)\n",
      "loss tf.Tensor(0.0, shape=(), dtype=float32)\n",
      "loss tf.Tensor(0.0, shape=(), dtype=float32)\n"
     ]
    },
    {
     "name": "stderr",
     "output_type": "stream",
     "text": [
      " 87%|████████▋ | 8684/10000 [04:28<00:55, 23.91it/s, episode_reward=0, running_reward=0]"
     ]
    },
    {
     "name": "stdout",
     "output_type": "stream",
     "text": [
      "loss tf.Tensor(0.0, shape=(), dtype=float32)\n",
      "loss tf.Tensor(0.0, shape=(), dtype=float32)\n",
      "loss tf.Tensor(0.0, shape=(), dtype=float32)\n",
      "loss tf.Tensor(0.0, shape=(), dtype=float32)\n",
      "loss tf.Tensor(0.0, shape=(), dtype=float32)\n",
      "loss tf.Tensor(0.0, shape=(), dtype=float32)\n",
      "loss tf.Tensor(0.0, shape=(), dtype=float32)\n"
     ]
    },
    {
     "name": "stderr",
     "output_type": "stream",
     "text": [
      " 87%|████████▋ | 8692/10000 [04:28<00:46, 27.89it/s, episode_reward=0, running_reward=0]"
     ]
    },
    {
     "name": "stdout",
     "output_type": "stream",
     "text": [
      "loss tf.Tensor(0.0, shape=(), dtype=float32)\n",
      "loss tf.Tensor(0.0, shape=(), dtype=float32)\n",
      "loss tf.Tensor(0.0, shape=(), dtype=float32)\n",
      "loss tf.Tensor(0.0, shape=(), dtype=float32)\n",
      "loss tf.Tensor(0.0, shape=(), dtype=float32)\n",
      "loss tf.Tensor(0.0, shape=(), dtype=float32)\n",
      "loss tf.Tensor(0.0, shape=(), dtype=float32)\n",
      "loss tf.Tensor(0.0, shape=(), dtype=float32)\n"
     ]
    },
    {
     "name": "stderr",
     "output_type": "stream",
     "text": [
      " 87%|████████▋ | 8700/10000 [04:28<00:41, 31.43it/s, episode_reward=0, running_reward=0]"
     ]
    },
    {
     "name": "stdout",
     "output_type": "stream",
     "text": [
      "loss tf.Tensor(0.0, shape=(), dtype=float32)\n",
      "loss tf.Tensor(0.0, shape=(), dtype=float32)\n",
      "loss tf.Tensor(0.0, shape=(), dtype=float32)\n",
      "loss tf.Tensor(0.0, shape=(), dtype=float32)\n",
      "loss tf.Tensor(0.0, shape=(), dtype=float32)\n",
      "loss tf.Tensor(0.0, shape=(), dtype=float32)\n",
      "loss tf.Tensor(0.0, shape=(), dtype=float32)\n",
      "loss tf.Tensor(0.0, shape=(), dtype=float32)\n"
     ]
    },
    {
     "name": "stderr",
     "output_type": "stream",
     "text": [
      " 87%|████████▋ | 8708/10000 [04:29<00:39, 33.12it/s, episode_reward=0, running_reward=0]"
     ]
    },
    {
     "name": "stdout",
     "output_type": "stream",
     "text": [
      "loss tf.Tensor(0.0, shape=(), dtype=float32)\n",
      "loss tf.Tensor(0.0, shape=(), dtype=float32)\n",
      "loss tf.Tensor(0.0, shape=(), dtype=float32)\n",
      "loss tf.Tensor(0.0, shape=(), dtype=float32)\n",
      "loss tf.Tensor(0.0, shape=(), dtype=float32)\n",
      "loss tf.Tensor(0.0, shape=(), dtype=float32)\n",
      "loss tf.Tensor(0.0, shape=(), dtype=float32)\n",
      "loss tf.Tensor(0.0, shape=(), dtype=float32)\n"
     ]
    },
    {
     "name": "stderr",
     "output_type": "stream",
     "text": [
      " 87%|████████▋ | 8716/10000 [04:29<00:37, 34.11it/s, episode_reward=0, running_reward=0]"
     ]
    },
    {
     "name": "stdout",
     "output_type": "stream",
     "text": [
      "loss tf.Tensor(0.0, shape=(), dtype=float32)\n",
      "loss tf.Tensor(0.0, shape=(), dtype=float32)\n",
      "loss tf.Tensor(0.0, shape=(), dtype=float32)\n",
      "loss tf.Tensor(0.0, shape=(), dtype=float32)\n",
      "loss tf.Tensor(0.0, shape=(), dtype=float32)\n",
      "loss tf.Tensor(0.0, shape=(), dtype=float32)\n",
      "loss tf.Tensor(0.0, shape=(), dtype=float32)\n",
      "loss tf.Tensor(0.0, shape=(), dtype=float32)\n"
     ]
    },
    {
     "name": "stderr",
     "output_type": "stream",
     "text": [
      " 87%|████████▋ | 8720/10000 [04:29<00:38, 33.63it/s, episode_reward=0, running_reward=0]"
     ]
    },
    {
     "name": "stdout",
     "output_type": "stream",
     "text": [
      "loss tf.Tensor(0.0, shape=(), dtype=float32)\n",
      "loss tf.Tensor(0.0, shape=(), dtype=float32)\n"
     ]
    },
    {
     "name": "stderr",
     "output_type": "stream",
     "text": [
      " 87%|████████▋ | 8728/10000 [04:29<00:49, 25.81it/s, episode_reward=0, running_reward=0]"
     ]
    },
    {
     "name": "stdout",
     "output_type": "stream",
     "text": [
      "loss tf.Tensor(0.0, shape=(), dtype=float32)\n",
      "loss tf.Tensor(0.0, shape=(), dtype=float32)\n",
      "loss tf.Tensor(0.0, shape=(), dtype=float32)\n",
      "loss tf.Tensor(0.0, shape=(), dtype=float32)\n",
      "loss tf.Tensor(0.0, shape=(), dtype=float32)\n",
      "loss tf.Tensor(0.0, shape=(), dtype=float32)\n",
      "loss tf.Tensor(0.0, shape=(), dtype=float32)\n"
     ]
    },
    {
     "name": "stderr",
     "output_type": "stream",
     "text": [
      " 87%|████████▋ | 8736/10000 [04:29<00:41, 30.14it/s, episode_reward=0, running_reward=0]"
     ]
    },
    {
     "name": "stdout",
     "output_type": "stream",
     "text": [
      "loss tf.Tensor(0.0, shape=(), dtype=float32)\n",
      "loss tf.Tensor(0.0, shape=(), dtype=float32)\n",
      "loss tf.Tensor(0.0, shape=(), dtype=float32)\n",
      "loss tf.Tensor(0.0, shape=(), dtype=float32)\n",
      "loss tf.Tensor(0.0, shape=(), dtype=float32)\n",
      "loss tf.Tensor(0.0, shape=(), dtype=float32)\n",
      "loss tf.Tensor(0.0, shape=(), dtype=float32)\n",
      "loss tf.Tensor(0.0, shape=(), dtype=float32)\n"
     ]
    },
    {
     "name": "stderr",
     "output_type": "stream",
     "text": [
      " 87%|████████▋ | 8744/10000 [04:30<00:38, 32.55it/s, episode_reward=0, running_reward=0]"
     ]
    },
    {
     "name": "stdout",
     "output_type": "stream",
     "text": [
      "loss tf.Tensor(0.0, shape=(), dtype=float32)\n",
      "loss tf.Tensor(0.0, shape=(), dtype=float32)\n",
      "loss tf.Tensor(0.0, shape=(), dtype=float32)\n",
      "loss tf.Tensor(0.0, shape=(), dtype=float32)\n",
      "loss tf.Tensor(0.0, shape=(), dtype=float32)\n",
      "loss tf.Tensor(0.0, shape=(), dtype=float32)\n",
      "loss tf.Tensor(0.0, shape=(), dtype=float32)\n",
      "loss tf.Tensor(0.0, shape=(), dtype=float32)\n"
     ]
    },
    {
     "name": "stderr",
     "output_type": "stream",
     "text": [
      " 88%|████████▊ | 8752/10000 [04:30<00:36, 34.01it/s, episode_reward=0, running_reward=0]"
     ]
    },
    {
     "name": "stdout",
     "output_type": "stream",
     "text": [
      "loss tf.Tensor(0.0, shape=(), dtype=float32)\n",
      "loss tf.Tensor(0.0, shape=(), dtype=float32)\n",
      "loss tf.Tensor(0.0, shape=(), dtype=float32)\n",
      "loss tf.Tensor(0.0, shape=(), dtype=float32)\n",
      "loss tf.Tensor(0.0, shape=(), dtype=float32)\n",
      "loss tf.Tensor(0.0, shape=(), dtype=float32)\n",
      "loss tf.Tensor(0.0, shape=(), dtype=float32)\n",
      "loss tf.Tensor(0.0, shape=(), dtype=float32)\n"
     ]
    },
    {
     "name": "stderr",
     "output_type": "stream",
     "text": [
      " 88%|████████▊ | 8752/10000 [04:30<00:36, 34.01it/s, episode_reward=0, running_reward=0]"
     ]
    },
    {
     "name": "stdout",
     "output_type": "stream",
     "text": [
      "loss tf.Tensor(0.0, shape=(), dtype=float32)\n",
      "loss tf.Tensor(0.0, shape=(), dtype=float32)\n",
      "loss tf.Tensor(0.0, shape=(), dtype=float32)\n"
     ]
    },
    {
     "name": "stderr",
     "output_type": "stream",
     "text": [
      " 88%|████████▊ | 8759/10000 [04:30<00:52, 23.81it/s, episode_reward=0, running_reward=0]"
     ]
    },
    {
     "name": "stdout",
     "output_type": "stream",
     "text": [
      "loss tf.Tensor(0.0, shape=(), dtype=float32)\n",
      "loss tf.Tensor(0.0, shape=(), dtype=float32)\n",
      "loss tf.Tensor(0.0, shape=(), dtype=float32)\n",
      "loss tf.Tensor(0.0, shape=(), dtype=float32)\n",
      "loss tf.Tensor(0.0, shape=(), dtype=float32)\n",
      "loss tf.Tensor(0.0, shape=(), dtype=float32)\n"
     ]
    },
    {
     "name": "stderr",
     "output_type": "stream",
     "text": [
      " 88%|████████▊ | 8767/10000 [04:31<00:43, 28.52it/s, episode_reward=0, running_reward=0]"
     ]
    },
    {
     "name": "stdout",
     "output_type": "stream",
     "text": [
      "loss tf.Tensor(0.0, shape=(), dtype=float32)\n",
      "loss tf.Tensor(0.0, shape=(), dtype=float32)\n",
      "loss tf.Tensor(0.0, shape=(), dtype=float32)\n",
      "loss tf.Tensor(0.0, shape=(), dtype=float32)\n",
      "loss tf.Tensor(0.0, shape=(), dtype=float32)\n",
      "loss tf.Tensor(0.0, shape=(), dtype=float32)\n",
      "loss tf.Tensor(0.0, shape=(), dtype=float32)\n",
      "loss tf.Tensor(0.0, shape=(), dtype=float32)\n"
     ]
    },
    {
     "name": "stderr",
     "output_type": "stream",
     "text": [
      " 88%|████████▊ | 8775/10000 [04:31<00:38, 31.76it/s, episode_reward=0, running_reward=0]"
     ]
    },
    {
     "name": "stdout",
     "output_type": "stream",
     "text": [
      "loss tf.Tensor(0.0, shape=(), dtype=float32)\n",
      "loss tf.Tensor(0.0, shape=(), dtype=float32)\n",
      "loss tf.Tensor(0.0, shape=(), dtype=float32)\n",
      "loss tf.Tensor(0.0, shape=(), dtype=float32)\n",
      "loss tf.Tensor(0.0, shape=(), dtype=float32)\n",
      "loss tf.Tensor(0.0, shape=(), dtype=float32)\n",
      "loss tf.Tensor(0.0, shape=(), dtype=float32)\n",
      "loss tf.Tensor(0.0, shape=(), dtype=float32)\n"
     ]
    },
    {
     "name": "stderr",
     "output_type": "stream",
     "text": [
      " 88%|████████▊ | 8783/10000 [04:31<00:36, 33.45it/s, episode_reward=0, running_reward=0]"
     ]
    },
    {
     "name": "stdout",
     "output_type": "stream",
     "text": [
      "loss tf.Tensor(0.0, shape=(), dtype=float32)\n",
      "loss tf.Tensor(0.0, shape=(), dtype=float32)\n",
      "loss tf.Tensor(0.0, shape=(), dtype=float32)\n",
      "loss tf.Tensor(0.0, shape=(), dtype=float32)\n",
      "loss tf.Tensor(0.0, shape=(), dtype=float32)\n",
      "loss tf.Tensor(0.0, shape=(), dtype=float32)\n",
      "loss tf.Tensor(0.0, shape=(), dtype=float32)\n",
      "loss tf.Tensor(0.0, shape=(), dtype=float32)\n"
     ]
    },
    {
     "name": "stderr",
     "output_type": "stream",
     "text": [
      " 88%|████████▊ | 8787/10000 [04:31<00:35, 33.83it/s, episode_reward=0, running_reward=0]"
     ]
    },
    {
     "name": "stdout",
     "output_type": "stream",
     "text": [
      "loss tf.Tensor(0.0, shape=(), dtype=float32)\n",
      "loss tf.Tensor(0.0, shape=(), dtype=float32)\n",
      "loss tf.Tensor(0.0, shape=(), dtype=float32)\n",
      "loss tf.Tensor(0.0, shape=(), dtype=float32)\n",
      "loss tf.Tensor(0.0, shape=(), dtype=float32)\n"
     ]
    },
    {
     "name": "stderr",
     "output_type": "stream",
     "text": [
      " 88%|████████▊ | 8794/10000 [04:31<00:45, 26.66it/s, episode_reward=0, running_reward=0]"
     ]
    },
    {
     "name": "stdout",
     "output_type": "stream",
     "text": [
      "loss tf.Tensor(0.0, shape=(), dtype=float32)\n",
      "loss tf.Tensor(0.0, shape=(), dtype=float32)\n",
      "loss tf.Tensor(0.0, shape=(), dtype=float32)\n",
      "loss tf.Tensor(0.0, shape=(), dtype=float32)\n",
      "loss tf.Tensor(0.0, shape=(), dtype=float32)\n"
     ]
    },
    {
     "name": "stderr",
     "output_type": "stream",
     "text": [
      " 88%|████████▊ | 8797/10000 [04:32<01:08, 17.53it/s, episode_reward=0, running_reward=0]"
     ]
    },
    {
     "name": "stdout",
     "output_type": "stream",
     "text": [
      "loss tf.Tensor(0.0, shape=(), dtype=float32)\n",
      "loss tf.Tensor(0.0, shape=(), dtype=float32)\n",
      "loss tf.Tensor(0.0, shape=(), dtype=float32)\n",
      "loss tf.Tensor(0.0, shape=(), dtype=float32)\n"
     ]
    },
    {
     "name": "stderr",
     "output_type": "stream",
     "text": [
      " 88%|████████▊ | 8803/10000 [04:32<01:05, 18.24it/s, episode_reward=0, running_reward=0]"
     ]
    },
    {
     "name": "stdout",
     "output_type": "stream",
     "text": [
      "loss tf.Tensor(0.0, shape=(), dtype=float32)\n",
      "loss tf.Tensor(0.0, shape=(), dtype=float32)\n",
      "loss tf.Tensor(0.0, shape=(), dtype=float32)\n",
      "loss tf.Tensor(0.0, shape=(), dtype=float32)\n",
      "loss tf.Tensor(0.0, shape=(), dtype=float32)\n"
     ]
    },
    {
     "name": "stderr",
     "output_type": "stream",
     "text": [
      " 88%|████████▊ | 8810/10000 [04:32<00:53, 22.07it/s, episode_reward=0, running_reward=0]"
     ]
    },
    {
     "name": "stdout",
     "output_type": "stream",
     "text": [
      "loss tf.Tensor(0.0, shape=(), dtype=float32)\n",
      "loss tf.Tensor(0.0, shape=(), dtype=float32)\n",
      "loss tf.Tensor(0.0, shape=(), dtype=float32)\n",
      "loss tf.Tensor(0.0, shape=(), dtype=float32)\n",
      "loss tf.Tensor(0.0, shape=(), dtype=float32)\n",
      "loss tf.Tensor(0.0, shape=(), dtype=float32)\n",
      "loss tf.Tensor(0.0, shape=(), dtype=float32)\n",
      "loss tf.Tensor(0.0, shape=(), dtype=float32)\n"
     ]
    },
    {
     "name": "stderr",
     "output_type": "stream",
     "text": [
      " 88%|████████▊ | 8817/10000 [04:33<00:50, 23.25it/s, episode_reward=0, running_reward=0]"
     ]
    },
    {
     "name": "stdout",
     "output_type": "stream",
     "text": [
      "loss tf.Tensor(0.0, shape=(), dtype=float32)\n",
      "loss tf.Tensor(0.0, shape=(), dtype=float32)\n",
      "loss tf.Tensor(0.0, shape=(), dtype=float32)\n",
      "loss tf.Tensor(0.0, shape=(), dtype=float32)\n",
      "loss tf.Tensor(0.0, shape=(), dtype=float32)\n"
     ]
    },
    {
     "name": "stderr",
     "output_type": "stream",
     "text": [
      " 88%|████████▊ | 8820/10000 [04:33<01:07, 17.49it/s, episode_reward=0, running_reward=0]"
     ]
    },
    {
     "name": "stdout",
     "output_type": "stream",
     "text": [
      "loss tf.Tensor(0.0, shape=(), dtype=float32)\n",
      "loss tf.Tensor(0.0, shape=(), dtype=float32)\n",
      "loss tf.Tensor(0.0, shape=(), dtype=float32)\n"
     ]
    },
    {
     "name": "stderr",
     "output_type": "stream",
     "text": [
      " 88%|████████▊ | 8827/10000 [04:33<00:50, 23.02it/s, episode_reward=0, running_reward=0]"
     ]
    },
    {
     "name": "stdout",
     "output_type": "stream",
     "text": [
      "loss tf.Tensor(0.0, shape=(), dtype=float32)\n",
      "loss tf.Tensor(0.0, shape=(), dtype=float32)\n",
      "loss tf.Tensor(0.0, shape=(), dtype=float32)\n",
      "loss tf.Tensor(0.0, shape=(), dtype=float32)\n",
      "loss tf.Tensor(0.0, shape=(), dtype=float32)\n",
      "loss tf.Tensor(0.0, shape=(), dtype=float32)\n",
      "loss tf.Tensor(0.0, shape=(), dtype=float32)\n"
     ]
    },
    {
     "name": "stderr",
     "output_type": "stream",
     "text": [
      " 88%|████████▊ | 8835/10000 [04:33<00:40, 28.91it/s, episode_reward=0, running_reward=0]"
     ]
    },
    {
     "name": "stdout",
     "output_type": "stream",
     "text": [
      "loss tf.Tensor(0.0, shape=(), dtype=float32)\n",
      "loss tf.Tensor(0.0, shape=(), dtype=float32)\n",
      "loss tf.Tensor(0.0, shape=(), dtype=float32)\n",
      "loss tf.Tensor(0.0, shape=(), dtype=float32)\n",
      "loss tf.Tensor(0.0, shape=(), dtype=float32)\n",
      "loss tf.Tensor(0.0, shape=(), dtype=float32)\n",
      "loss tf.Tensor(0.0, shape=(), dtype=float32)\n",
      "loss tf.Tensor(0.0, shape=(), dtype=float32)\n"
     ]
    },
    {
     "name": "stderr",
     "output_type": "stream",
     "text": [
      " 88%|████████▊ | 8839/10000 [04:34<00:44, 25.84it/s, episode_reward=0, running_reward=0]"
     ]
    },
    {
     "name": "stdout",
     "output_type": "stream",
     "text": [
      "loss tf.Tensor(0.0, shape=(), dtype=float32)\n",
      "loss tf.Tensor(0.0, shape=(), dtype=float32)\n",
      "loss tf.Tensor(0.0, shape=(), dtype=float32)\n",
      "loss tf.Tensor(0.0, shape=(), dtype=float32)\n"
     ]
    },
    {
     "name": "stderr",
     "output_type": "stream",
     "text": [
      " 88%|████████▊ | 8839/10000 [04:34<00:44, 25.84it/s, episode_reward=0, running_reward=0]"
     ]
    },
    {
     "name": "stdout",
     "output_type": "stream",
     "text": [
      "loss tf.Tensor(0.0, shape=(), dtype=float32)\n",
      "loss tf.Tensor(0.0, shape=(), dtype=float32)\n"
     ]
    },
    {
     "name": "stderr",
     "output_type": "stream",
     "text": [
      " 88%|████████▊ | 8842/10000 [04:34<01:01, 18.80it/s, episode_reward=0, running_reward=0]"
     ]
    },
    {
     "name": "stdout",
     "output_type": "stream",
     "text": [
      "loss tf.Tensor(0.0, shape=(), dtype=float32)\n",
      "loss tf.Tensor(0.0, shape=(), dtype=float32)\n",
      "loss tf.Tensor(0.0, shape=(), dtype=float32)\n"
     ]
    },
    {
     "name": "stderr",
     "output_type": "stream",
     "text": [
      " 88%|████████▊ | 8849/10000 [04:34<01:01, 18.70it/s, episode_reward=0, running_reward=0]"
     ]
    },
    {
     "name": "stdout",
     "output_type": "stream",
     "text": [
      "loss tf.Tensor(0.0, shape=(), dtype=float32)\n",
      "loss tf.Tensor(0.0, shape=(), dtype=float32)\n",
      "loss tf.Tensor(0.0, shape=(), dtype=float32)\n",
      "loss tf.Tensor(0.0, shape=(), dtype=float32)\n",
      "loss tf.Tensor(0.0, shape=(), dtype=float32)\n",
      "loss tf.Tensor(0.0, shape=(), dtype=float32)\n"
     ]
    },
    {
     "name": "stderr",
     "output_type": "stream",
     "text": [
      " 89%|████████▊ | 8852/10000 [04:34<01:00, 19.09it/s, episode_reward=0, running_reward=0]"
     ]
    },
    {
     "name": "stdout",
     "output_type": "stream",
     "text": [
      "loss tf.Tensor(0.0, shape=(), dtype=float32)\n",
      "loss tf.Tensor(0.0, shape=(), dtype=float32)\n"
     ]
    },
    {
     "name": "stderr",
     "output_type": "stream",
     "text": [
      " 89%|████████▊ | 8855/10000 [04:35<01:16, 14.93it/s, episode_reward=0, running_reward=0]"
     ]
    },
    {
     "name": "stdout",
     "output_type": "stream",
     "text": [
      "loss tf.Tensor(0.0, shape=(), dtype=float32)\n",
      "loss tf.Tensor(0.0, shape=(), dtype=float32)\n",
      "loss tf.Tensor(0.0, shape=(), dtype=float32)\n"
     ]
    },
    {
     "name": "stderr",
     "output_type": "stream",
     "text": [
      " 89%|████████▊ | 8858/10000 [04:35<01:10, 16.18it/s, episode_reward=0, running_reward=0]"
     ]
    },
    {
     "name": "stdout",
     "output_type": "stream",
     "text": [
      "loss tf.Tensor(0.0, shape=(), dtype=float32)\n",
      "loss tf.Tensor(0.0, shape=(), dtype=float32)\n",
      "loss tf.Tensor(0.0, shape=(), dtype=float32)\n",
      "loss tf.Tensor(0.0, shape=(), dtype=float32)\n",
      "loss tf.Tensor(0.0, shape=(), dtype=float32)\n"
     ]
    },
    {
     "name": "stderr",
     "output_type": "stream",
     "text": [
      " 89%|████████▊ | 8863/10000 [04:35<01:00, 18.80it/s, episode_reward=0, running_reward=0]"
     ]
    },
    {
     "name": "stdout",
     "output_type": "stream",
     "text": [
      "loss tf.Tensor(0.0, shape=(), dtype=float32)\n",
      "loss tf.Tensor(0.0, shape=(), dtype=float32)\n",
      "loss tf.Tensor(0.0, shape=(), dtype=float32)\n",
      "loss tf.Tensor(0.0, shape=(), dtype=float32)\n"
     ]
    },
    {
     "name": "stderr",
     "output_type": "stream",
     "text": [
      " 89%|████████▊ | 8866/10000 [04:36<01:15, 14.98it/s, episode_reward=0, running_reward=0]"
     ]
    },
    {
     "name": "stdout",
     "output_type": "stream",
     "text": [
      "loss tf.Tensor(0.0, shape=(), dtype=float32)\n",
      "loss tf.Tensor(0.0, shape=(), dtype=float32)\n",
      "loss tf.Tensor(0.0, shape=(), dtype=float32)\n"
     ]
    },
    {
     "name": "stderr",
     "output_type": "stream",
     "text": [
      " 89%|████████▊ | 8870/10000 [04:36<01:22, 13.62it/s, episode_reward=0, running_reward=0]"
     ]
    },
    {
     "name": "stdout",
     "output_type": "stream",
     "text": [
      "loss tf.Tensor(0.0, shape=(), dtype=float32)\n",
      "loss tf.Tensor(0.0, shape=(), dtype=float32)\n",
      "loss tf.Tensor(0.0, shape=(), dtype=float32)\n"
     ]
    },
    {
     "name": "stderr",
     "output_type": "stream",
     "text": [
      " 89%|████████▉ | 8875/10000 [04:36<01:07, 16.77it/s, episode_reward=0, running_reward=0]"
     ]
    },
    {
     "name": "stdout",
     "output_type": "stream",
     "text": [
      "loss tf.Tensor(0.0, shape=(), dtype=float32)\n",
      "loss tf.Tensor(0.0, shape=(), dtype=float32)\n",
      "loss tf.Tensor(0.0, shape=(), dtype=float32)\n",
      "loss tf.Tensor(0.0, shape=(), dtype=float32)\n",
      "loss tf.Tensor(0.0, shape=(), dtype=float32)\n"
     ]
    },
    {
     "name": "stderr",
     "output_type": "stream",
     "text": [
      " 89%|████████▉ | 8880/10000 [04:36<01:06, 16.75it/s, episode_reward=0, running_reward=0]"
     ]
    },
    {
     "name": "stdout",
     "output_type": "stream",
     "text": [
      "loss tf.Tensor(0.0, shape=(), dtype=float32)\n",
      "loss tf.Tensor(0.0, shape=(), dtype=float32)\n",
      "loss tf.Tensor(0.0, shape=(), dtype=float32)\n",
      "loss tf.Tensor(0.0, shape=(), dtype=float32)\n",
      "loss tf.Tensor(0.0, shape=(), dtype=float32)\n",
      "loss tf.Tensor(0.0, shape=(), dtype=float32)\n"
     ]
    },
    {
     "name": "stderr",
     "output_type": "stream",
     "text": [
      " 89%|████████▉ | 8887/10000 [04:37<00:47, 23.27it/s, episode_reward=0, running_reward=0]"
     ]
    },
    {
     "name": "stdout",
     "output_type": "stream",
     "text": [
      "loss tf.Tensor(0.0, shape=(), dtype=float32)\n",
      "loss tf.Tensor(0.0, shape=(), dtype=float32)\n",
      "loss tf.Tensor(0.0, shape=(), dtype=float32)\n",
      "loss tf.Tensor(0.0, shape=(), dtype=float32)\n",
      "loss tf.Tensor(0.0, shape=(), dtype=float32)\n",
      "loss tf.Tensor(0.0, shape=(), dtype=float32)\n",
      "loss tf.Tensor(0.0, shape=(), dtype=float32)\n"
     ]
    },
    {
     "name": "stderr",
     "output_type": "stream",
     "text": [
      " 89%|████████▉ | 8895/10000 [04:37<00:37, 29.18it/s, episode_reward=0, running_reward=0]"
     ]
    },
    {
     "name": "stdout",
     "output_type": "stream",
     "text": [
      "loss tf.Tensor(0.0, shape=(), dtype=float32)\n",
      "loss tf.Tensor(0.0, shape=(), dtype=float32)\n",
      "loss tf.Tensor(0.0, shape=(), dtype=float32)\n",
      "loss tf.Tensor(0.0, shape=(), dtype=float32)\n",
      "loss tf.Tensor(0.0, shape=(), dtype=float32)\n",
      "loss tf.Tensor(0.0, shape=(), dtype=float32)\n",
      "loss tf.Tensor(0.0, shape=(), dtype=float32)\n",
      "loss tf.Tensor(0.0, shape=(), dtype=float32)\n"
     ]
    },
    {
     "name": "stderr",
     "output_type": "stream",
     "text": [
      " 89%|████████▉ | 8903/10000 [04:37<00:34, 31.64it/s, episode_reward=0, running_reward=0]"
     ]
    },
    {
     "name": "stdout",
     "output_type": "stream",
     "text": [
      "loss tf.Tensor(0.0, shape=(), dtype=float32)\n",
      "loss tf.Tensor(0.0, shape=(), dtype=float32)\n",
      "loss tf.Tensor(0.0, shape=(), dtype=float32)\n",
      "loss tf.Tensor(0.0, shape=(), dtype=float32)\n",
      "loss tf.Tensor(0.0, shape=(), dtype=float32)\n",
      "loss tf.Tensor(0.0, shape=(), dtype=float32)\n",
      "loss tf.Tensor(0.0, shape=(), dtype=float32)\n"
     ]
    },
    {
     "name": "stderr",
     "output_type": "stream",
     "text": [
      " 89%|████████▉ | 8911/10000 [04:37<00:32, 33.25it/s, episode_reward=0, running_reward=0]"
     ]
    },
    {
     "name": "stdout",
     "output_type": "stream",
     "text": [
      "loss tf.Tensor(0.0, shape=(), dtype=float32)\n",
      "loss tf.Tensor(0.0, shape=(), dtype=float32)\n",
      "loss tf.Tensor(0.0, shape=(), dtype=float32)\n",
      "loss tf.Tensor(0.0, shape=(), dtype=float32)\n",
      "loss tf.Tensor(0.0, shape=(), dtype=float32)\n",
      "loss tf.Tensor(0.0, shape=(), dtype=float32)\n",
      "loss tf.Tensor(0.0, shape=(), dtype=float32)\n",
      "loss tf.Tensor(0.0, shape=(), dtype=float32)\n"
     ]
    },
    {
     "name": "stderr",
     "output_type": "stream",
     "text": [
      " 89%|████████▉ | 8919/10000 [04:37<00:31, 34.54it/s, episode_reward=0, running_reward=0]"
     ]
    },
    {
     "name": "stdout",
     "output_type": "stream",
     "text": [
      "loss tf.Tensor(0.0, shape=(), dtype=float32)\n",
      "loss tf.Tensor(0.0, shape=(), dtype=float32)\n",
      "loss tf.Tensor(0.0, shape=(), dtype=float32)\n",
      "loss tf.Tensor(0.0, shape=(), dtype=float32)\n",
      "loss tf.Tensor(0.0, shape=(), dtype=float32)\n",
      "loss tf.Tensor(0.0, shape=(), dtype=float32)\n",
      "loss tf.Tensor(0.0, shape=(), dtype=float32)\n",
      "loss tf.Tensor(0.0, shape=(), dtype=float32)\n"
     ]
    },
    {
     "name": "stderr",
     "output_type": "stream",
     "text": [
      " 89%|████████▉ | 8923/10000 [04:38<00:31, 33.78it/s, episode_reward=0, running_reward=0]"
     ]
    },
    {
     "name": "stdout",
     "output_type": "stream",
     "text": [
      "loss tf.Tensor(0.0, shape=(), dtype=float32)\n",
      "loss tf.Tensor(0.0, shape=(), dtype=float32)\n",
      "loss tf.Tensor(0.0, shape=(), dtype=float32)\n",
      "loss tf.Tensor(0.0, shape=(), dtype=float32)\n",
      "loss tf.Tensor(0.0, shape=(), dtype=float32)\n",
      "loss tf.Tensor(0.0, shape=(), dtype=float32)\n",
      "loss tf.Tensor(0.0, shape=(), dtype=float32)\n",
      "loss tf.Tensor(0.0, shape=(), dtype=float32)\n"
     ]
    },
    {
     "name": "stderr",
     "output_type": "stream",
     "text": [
      " 89%|████████▉ | 8935/10000 [04:38<00:30, 35.22it/s, episode_reward=0, running_reward=0]"
     ]
    },
    {
     "name": "stdout",
     "output_type": "stream",
     "text": [
      "loss tf.Tensor(0.0, shape=(), dtype=float32)\n",
      "loss tf.Tensor(0.0, shape=(), dtype=float32)\n",
      "loss tf.Tensor(0.0, shape=(), dtype=float32)\n",
      "loss tf.Tensor(0.0, shape=(), dtype=float32)\n",
      "loss tf.Tensor(0.0, shape=(), dtype=float32)\n",
      "loss tf.Tensor(0.0, shape=(), dtype=float32)\n",
      "loss tf.Tensor(0.0, shape=(), dtype=float32)\n",
      "loss tf.Tensor(0.0, shape=(), dtype=float32)\n"
     ]
    },
    {
     "name": "stderr",
     "output_type": "stream",
     "text": [
      " 89%|████████▉ | 8939/10000 [04:38<00:30, 34.33it/s, episode_reward=0, running_reward=0]"
     ]
    },
    {
     "name": "stdout",
     "output_type": "stream",
     "text": [
      "loss tf.Tensor(0.0, shape=(), dtype=float32)\n",
      "loss tf.Tensor(0.0, shape=(), dtype=float32)\n",
      "loss tf.Tensor(0.0, shape=(), dtype=float32)\n",
      "loss tf.Tensor(0.0, shape=(), dtype=float32)\n",
      "loss tf.Tensor(0.0, shape=(), dtype=float32)\n",
      "loss tf.Tensor(0.0, shape=(), dtype=float32)\n",
      "loss tf.Tensor(0.0, shape=(), dtype=float32)\n",
      "loss tf.Tensor(0.0, shape=(), dtype=float32)\n"
     ]
    },
    {
     "name": "stderr",
     "output_type": "stream",
     "text": [
      " 90%|████████▉ | 8951/10000 [04:38<00:29, 36.00it/s, episode_reward=0, running_reward=0]"
     ]
    },
    {
     "name": "stdout",
     "output_type": "stream",
     "text": [
      "loss tf.Tensor(0.0, shape=(), dtype=float32)\n",
      "loss tf.Tensor(0.0, shape=(), dtype=float32)\n",
      "loss tf.Tensor(0.0, shape=(), dtype=float32)\n",
      "loss tf.Tensor(0.0, shape=(), dtype=float32)\n",
      "loss tf.Tensor(0.0, shape=(), dtype=float32)\n",
      "loss tf.Tensor(0.0, shape=(), dtype=float32)\n",
      "loss tf.Tensor(0.0, shape=(), dtype=float32)\n",
      "loss tf.Tensor(0.0, shape=(), dtype=float32)\n"
     ]
    },
    {
     "name": "stderr",
     "output_type": "stream",
     "text": [
      " 90%|████████▉ | 8959/10000 [04:39<00:29, 35.60it/s, episode_reward=0, running_reward=0]"
     ]
    },
    {
     "name": "stdout",
     "output_type": "stream",
     "text": [
      "loss tf.Tensor(0.0, shape=(), dtype=float32)\n",
      "loss tf.Tensor(0.0, shape=(), dtype=float32)\n",
      "loss tf.Tensor(0.0, shape=(), dtype=float32)\n",
      "loss tf.Tensor(0.0, shape=(), dtype=float32)\n",
      "loss tf.Tensor(0.0, shape=(), dtype=float32)\n",
      "loss tf.Tensor(0.0, shape=(), dtype=float32)\n",
      "loss tf.Tensor(0.0, shape=(), dtype=float32)\n",
      "loss tf.Tensor(0.0, shape=(), dtype=float32)\n"
     ]
    },
    {
     "name": "stderr",
     "output_type": "stream",
     "text": [
      " 90%|████████▉ | 8967/10000 [04:39<00:29, 34.72it/s, episode_reward=0, running_reward=0]"
     ]
    },
    {
     "name": "stdout",
     "output_type": "stream",
     "text": [
      "loss tf.Tensor(0.0, shape=(), dtype=float32)\n",
      "loss tf.Tensor(0.0, shape=(), dtype=float32)\n",
      "loss tf.Tensor(0.0, shape=(), dtype=float32)\n",
      "loss tf.Tensor(0.0, shape=(), dtype=float32)\n",
      "loss tf.Tensor(0.0, shape=(), dtype=float32)\n",
      "loss tf.Tensor(0.0, shape=(), dtype=float32)\n",
      "loss tf.Tensor(0.0, shape=(), dtype=float32)\n",
      "loss tf.Tensor(0.0, shape=(), dtype=float32)\n"
     ]
    },
    {
     "name": "stderr",
     "output_type": "stream",
     "text": [
      " 90%|████████▉ | 8975/10000 [04:39<00:29, 35.04it/s, episode_reward=0, running_reward=0]"
     ]
    },
    {
     "name": "stdout",
     "output_type": "stream",
     "text": [
      "loss tf.Tensor(0.0, shape=(), dtype=float32)\n",
      "loss tf.Tensor(0.0, shape=(), dtype=float32)\n",
      "loss tf.Tensor(0.0, shape=(), dtype=float32)\n",
      "loss tf.Tensor(0.0, shape=(), dtype=float32)\n",
      "loss tf.Tensor(0.0, shape=(), dtype=float32)\n",
      "loss tf.Tensor(0.0, shape=(), dtype=float32)\n",
      "loss tf.Tensor(0.0, shape=(), dtype=float32)\n",
      "loss tf.Tensor(0.0, shape=(), dtype=float32)\n"
     ]
    },
    {
     "name": "stderr",
     "output_type": "stream",
     "text": [
      " 90%|████████▉ | 8983/10000 [04:39<00:28, 35.62it/s, episode_reward=0, running_reward=0]"
     ]
    },
    {
     "name": "stdout",
     "output_type": "stream",
     "text": [
      "loss tf.Tensor(0.0, shape=(), dtype=float32)\n",
      "loss tf.Tensor(0.0, shape=(), dtype=float32)\n",
      "loss tf.Tensor(0.0, shape=(), dtype=float32)\n",
      "loss tf.Tensor(0.0, shape=(), dtype=float32)\n",
      "loss tf.Tensor(0.0, shape=(), dtype=float32)\n",
      "loss tf.Tensor(0.0, shape=(), dtype=float32)\n",
      "loss tf.Tensor(0.0, shape=(), dtype=float32)\n",
      "loss tf.Tensor(0.0, shape=(), dtype=float32)\n"
     ]
    },
    {
     "name": "stderr",
     "output_type": "stream",
     "text": [
      " 90%|████████▉ | 8991/10000 [04:40<00:28, 35.58it/s, episode_reward=0, running_reward=0]"
     ]
    },
    {
     "name": "stdout",
     "output_type": "stream",
     "text": [
      "loss tf.Tensor(0.0, shape=(), dtype=float32)\n",
      "loss tf.Tensor(0.0, shape=(), dtype=float32)\n",
      "loss tf.Tensor(0.0, shape=(), dtype=float32)\n",
      "loss tf.Tensor(0.0, shape=(), dtype=float32)\n",
      "loss tf.Tensor(0.0, shape=(), dtype=float32)\n",
      "loss tf.Tensor(0.0, shape=(), dtype=float32)\n",
      "loss tf.Tensor(0.0, shape=(), dtype=float32)\n",
      "loss tf.Tensor(0.0, shape=(), dtype=float32)\n"
     ]
    },
    {
     "name": "stderr",
     "output_type": "stream",
     "text": [
      " 90%|████████▉ | 8995/10000 [04:40<00:29, 34.29it/s, episode_reward=0, running_reward=0]"
     ]
    },
    {
     "name": "stdout",
     "output_type": "stream",
     "text": [
      "loss tf.Tensor(0.0, shape=(), dtype=float32)\n",
      "loss tf.Tensor(0.0, shape=(), dtype=float32)\n",
      "loss tf.Tensor(0.0, shape=(), dtype=float32)\n",
      "loss tf.Tensor(0.0, shape=(), dtype=float32)\n",
      "loss tf.Tensor(0.0, shape=(), dtype=float32)\n",
      "loss tf.Tensor(0.0, shape=(), dtype=float32)\n",
      "loss tf.Tensor(0.0, shape=(), dtype=float32)\n"
     ]
    },
    {
     "name": "stderr",
     "output_type": "stream",
     "text": [
      " 90%|█████████ | 9003/10000 [04:40<00:28, 35.36it/s, episode_reward=0, running_reward=0]"
     ]
    },
    {
     "name": "stdout",
     "output_type": "stream",
     "text": [
      "loss tf.Tensor(0.0, shape=(), dtype=float32)\n",
      "loss tf.Tensor(0.0, shape=(), dtype=float32)\n",
      "loss tf.Tensor(0.0, shape=(), dtype=float32)\n",
      "loss tf.Tensor(0.0, shape=(), dtype=float32)\n",
      "loss tf.Tensor(0.0, shape=(), dtype=float32)\n",
      "loss tf.Tensor(0.0, shape=(), dtype=float32)\n",
      "loss tf.Tensor(0.0, shape=(), dtype=float32)\n",
      "loss tf.Tensor(0.0, shape=(), dtype=float32)\n"
     ]
    },
    {
     "name": "stderr",
     "output_type": "stream",
     "text": [
      " 90%|█████████ | 9011/10000 [04:40<00:28, 34.89it/s, episode_reward=0, running_reward=0]"
     ]
    },
    {
     "name": "stdout",
     "output_type": "stream",
     "text": [
      "loss tf.Tensor(0.0, shape=(), dtype=float32)\n",
      "loss tf.Tensor(0.0, shape=(), dtype=float32)\n",
      "loss tf.Tensor(0.0, shape=(), dtype=float32)\n",
      "loss tf.Tensor(0.0, shape=(), dtype=float32)\n",
      "loss tf.Tensor(0.0, shape=(), dtype=float32)\n",
      "loss tf.Tensor(0.0, shape=(), dtype=float32)\n",
      "loss tf.Tensor(0.0, shape=(), dtype=float32)\n",
      "loss tf.Tensor(0.0, shape=(), dtype=float32)\n"
     ]
    },
    {
     "name": "stderr",
     "output_type": "stream",
     "text": [
      " 90%|█████████ | 9019/10000 [04:40<00:28, 34.61it/s, episode_reward=0, running_reward=0]"
     ]
    },
    {
     "name": "stdout",
     "output_type": "stream",
     "text": [
      "loss tf.Tensor(0.0, shape=(), dtype=float32)\n",
      "loss tf.Tensor(0.0, shape=(), dtype=float32)\n",
      "loss tf.Tensor(0.0, shape=(), dtype=float32)\n",
      "loss tf.Tensor(0.0, shape=(), dtype=float32)\n",
      "loss tf.Tensor(0.0, shape=(), dtype=float32)\n",
      "loss tf.Tensor(0.0, shape=(), dtype=float32)\n",
      "loss tf.Tensor(0.0, shape=(), dtype=float32)\n"
     ]
    },
    {
     "name": "stderr",
     "output_type": "stream",
     "text": [
      " 90%|█████████ | 9027/10000 [04:41<00:27, 34.92it/s, episode_reward=0, running_reward=0]"
     ]
    },
    {
     "name": "stdout",
     "output_type": "stream",
     "text": [
      "loss tf.Tensor(0.0, shape=(), dtype=float32)\n",
      "loss tf.Tensor(0.0, shape=(), dtype=float32)\n",
      "loss tf.Tensor(0.0, shape=(), dtype=float32)\n",
      "loss tf.Tensor(0.0, shape=(), dtype=float32)\n",
      "loss tf.Tensor(0.0, shape=(), dtype=float32)\n",
      "loss tf.Tensor(0.0, shape=(), dtype=float32)\n",
      "loss tf.Tensor(0.0, shape=(), dtype=float32)\n",
      "loss tf.Tensor(0.0, shape=(), dtype=float32)\n"
     ]
    },
    {
     "name": "stderr",
     "output_type": "stream",
     "text": [
      " 90%|█████████ | 9031/10000 [04:41<00:27, 34.74it/s, episode_reward=0, running_reward=0]"
     ]
    },
    {
     "name": "stdout",
     "output_type": "stream",
     "text": [
      "loss tf.Tensor(0.0, shape=(), dtype=float32)\n",
      "loss tf.Tensor(0.0, shape=(), dtype=float32)\n",
      "loss tf.Tensor(0.0, shape=(), dtype=float32)\n"
     ]
    },
    {
     "name": "stderr",
     "output_type": "stream",
     "text": [
      " 90%|█████████ | 9035/10000 [04:41<00:42, 22.97it/s, episode_reward=0, running_reward=0]"
     ]
    },
    {
     "name": "stdout",
     "output_type": "stream",
     "text": [
      "loss tf.Tensor(0.0, shape=(), dtype=float32)\n",
      "loss tf.Tensor(0.0, shape=(), dtype=float32)\n",
      "loss tf.Tensor(0.0, shape=(), dtype=float32)\n",
      "loss tf.Tensor(0.0, shape=(), dtype=float32)\n",
      "loss tf.Tensor(0.0, shape=(), dtype=float32)\n"
     ]
    },
    {
     "name": "stderr",
     "output_type": "stream",
     "text": [
      " 90%|█████████ | 9043/10000 [04:41<00:34, 27.93it/s, episode_reward=0, running_reward=0]"
     ]
    },
    {
     "name": "stdout",
     "output_type": "stream",
     "text": [
      "loss tf.Tensor(0.0, shape=(), dtype=float32)\n",
      "loss tf.Tensor(0.0, shape=(), dtype=float32)\n",
      "loss tf.Tensor(0.0, shape=(), dtype=float32)\n",
      "loss tf.Tensor(0.0, shape=(), dtype=float32)\n",
      "loss tf.Tensor(0.0, shape=(), dtype=float32)\n",
      "loss tf.Tensor(0.0, shape=(), dtype=float32)\n",
      "loss tf.Tensor(0.0, shape=(), dtype=float32)\n",
      "loss tf.Tensor(0.0, shape=(), dtype=float32)\n"
     ]
    },
    {
     "name": "stderr",
     "output_type": "stream",
     "text": [
      " 90%|█████████ | 9047/10000 [04:42<00:38, 24.48it/s, episode_reward=0, running_reward=0]"
     ]
    },
    {
     "name": "stdout",
     "output_type": "stream",
     "text": [
      "loss tf.Tensor(0.0, shape=(), dtype=float32)\n",
      "loss tf.Tensor(0.0, shape=(), dtype=float32)\n",
      "loss tf.Tensor(0.0, shape=(), dtype=float32)\n",
      "loss tf.Tensor(0.0, shape=(), dtype=float32)\n"
     ]
    },
    {
     "name": "stderr",
     "output_type": "stream",
     "text": [
      " 91%|█████████ | 9053/10000 [04:42<00:46, 20.56it/s, episode_reward=0, running_reward=0]"
     ]
    },
    {
     "name": "stdout",
     "output_type": "stream",
     "text": [
      "loss tf.Tensor(0.0, shape=(), dtype=float32)\n",
      "loss tf.Tensor(0.0, shape=(), dtype=float32)\n",
      "loss tf.Tensor(0.0, shape=(), dtype=float32)\n",
      "loss tf.Tensor(0.0, shape=(), dtype=float32)\n"
     ]
    },
    {
     "name": "stderr",
     "output_type": "stream",
     "text": [
      " 91%|█████████ | 9061/10000 [04:42<00:34, 26.98it/s, episode_reward=0, running_reward=0]"
     ]
    },
    {
     "name": "stdout",
     "output_type": "stream",
     "text": [
      "loss tf.Tensor(0.0, shape=(), dtype=float32)\n",
      "loss tf.Tensor(0.0, shape=(), dtype=float32)\n",
      "loss tf.Tensor(0.0, shape=(), dtype=float32)\n",
      "loss tf.Tensor(0.0, shape=(), dtype=float32)\n",
      "loss tf.Tensor(0.0, shape=(), dtype=float32)\n",
      "loss tf.Tensor(0.0, shape=(), dtype=float32)\n",
      "loss tf.Tensor(0.0, shape=(), dtype=float32)\n",
      "loss tf.Tensor(0.0, shape=(), dtype=float32)\n"
     ]
    },
    {
     "name": "stderr",
     "output_type": "stream",
     "text": [
      " 91%|█████████ | 9067/10000 [04:42<00:38, 24.33it/s, episode_reward=0, running_reward=0]"
     ]
    },
    {
     "name": "stdout",
     "output_type": "stream",
     "text": [
      "loss tf.Tensor(0.0, shape=(), dtype=float32)\n",
      "loss tf.Tensor(0.0, shape=(), dtype=float32)\n",
      "loss tf.Tensor(0.0, shape=(), dtype=float32)\n",
      "loss tf.Tensor(0.0, shape=(), dtype=float32)\n",
      "loss tf.Tensor(0.0, shape=(), dtype=float32)\n",
      "loss tf.Tensor(0.0, shape=(), dtype=float32)\n",
      "loss tf.Tensor(0.0, shape=(), dtype=float32)\n"
     ]
    },
    {
     "name": "stderr",
     "output_type": "stream",
     "text": [
      " 91%|█████████ | 9075/10000 [04:43<00:31, 29.39it/s, episode_reward=0, running_reward=0]"
     ]
    },
    {
     "name": "stdout",
     "output_type": "stream",
     "text": [
      "loss tf.Tensor(0.0, shape=(), dtype=float32)\n",
      "loss tf.Tensor(0.0, shape=(), dtype=float32)\n",
      "loss tf.Tensor(0.0, shape=(), dtype=float32)\n",
      "loss tf.Tensor(0.0, shape=(), dtype=float32)\n",
      "loss tf.Tensor(0.0, shape=(), dtype=float32)\n",
      "loss tf.Tensor(0.0, shape=(), dtype=float32)\n",
      "loss tf.Tensor(0.0, shape=(), dtype=float32)\n",
      "loss tf.Tensor(0.0, shape=(), dtype=float32)\n"
     ]
    },
    {
     "name": "stderr",
     "output_type": "stream",
     "text": [
      " 91%|█████████ | 9083/10000 [04:43<00:28, 31.96it/s, episode_reward=0, running_reward=0]"
     ]
    },
    {
     "name": "stdout",
     "output_type": "stream",
     "text": [
      "loss tf.Tensor(0.0, shape=(), dtype=float32)\n",
      "loss tf.Tensor(0.0, shape=(), dtype=float32)\n",
      "loss tf.Tensor(0.0, shape=(), dtype=float32)\n",
      "loss tf.Tensor(0.0, shape=(), dtype=float32)\n",
      "loss tf.Tensor(0.0, shape=(), dtype=float32)\n",
      "loss tf.Tensor(0.0, shape=(), dtype=float32)\n",
      "loss tf.Tensor(0.0, shape=(), dtype=float32)\n",
      "loss tf.Tensor(0.0, shape=(), dtype=float32)\n"
     ]
    },
    {
     "name": "stderr",
     "output_type": "stream",
     "text": [
      " 91%|█████████ | 9091/10000 [04:43<00:26, 34.11it/s, episode_reward=0, running_reward=0]"
     ]
    },
    {
     "name": "stdout",
     "output_type": "stream",
     "text": [
      "loss tf.Tensor(0.0, shape=(), dtype=float32)\n",
      "loss tf.Tensor(0.0, shape=(), dtype=float32)\n",
      "loss tf.Tensor(0.0, shape=(), dtype=float32)\n",
      "loss tf.Tensor(0.0, shape=(), dtype=float32)\n",
      "loss tf.Tensor(0.0, shape=(), dtype=float32)\n",
      "loss tf.Tensor(0.0, shape=(), dtype=float32)\n",
      "loss tf.Tensor(0.0, shape=(), dtype=float32)\n",
      "loss tf.Tensor(0.0, shape=(), dtype=float32)\n"
     ]
    },
    {
     "name": "stderr",
     "output_type": "stream",
     "text": [
      " 91%|█████████ | 9095/10000 [04:43<00:26, 34.19it/s, episode_reward=0, running_reward=0]"
     ]
    },
    {
     "name": "stdout",
     "output_type": "stream",
     "text": [
      "loss tf.Tensor(0.0, shape=(), dtype=float32)\n",
      "loss tf.Tensor(0.0, shape=(), dtype=float32)\n",
      "loss tf.Tensor(0.0, shape=(), dtype=float32)\n",
      "loss tf.Tensor(0.0, shape=(), dtype=float32)\n",
      "loss tf.Tensor(0.0, shape=(), dtype=float32)\n",
      "loss tf.Tensor(0.0, shape=(), dtype=float32)\n"
     ]
    },
    {
     "name": "stderr",
     "output_type": "stream",
     "text": [
      " 91%|█████████ | 9103/10000 [04:44<00:34, 26.10it/s, episode_reward=0, running_reward=0]"
     ]
    },
    {
     "name": "stdout",
     "output_type": "stream",
     "text": [
      "loss tf.Tensor(0.0, shape=(), dtype=float32)\n",
      "loss tf.Tensor(0.0, shape=(), dtype=float32)\n",
      "loss tf.Tensor(0.0, shape=(), dtype=float32)\n",
      "loss tf.Tensor(0.0, shape=(), dtype=float32)\n",
      "loss tf.Tensor(0.0, shape=(), dtype=float32)\n",
      "loss tf.Tensor(0.0, shape=(), dtype=float32)\n",
      "loss tf.Tensor(0.0, shape=(), dtype=float32)\n"
     ]
    },
    {
     "name": "stderr",
     "output_type": "stream",
     "text": [
      " 91%|█████████ | 9111/10000 [04:44<00:29, 30.29it/s, episode_reward=0, running_reward=0]"
     ]
    },
    {
     "name": "stdout",
     "output_type": "stream",
     "text": [
      "loss tf.Tensor(0.0, shape=(), dtype=float32)\n",
      "loss tf.Tensor(0.0, shape=(), dtype=float32)\n",
      "loss tf.Tensor(0.0, shape=(), dtype=float32)\n",
      "loss tf.Tensor(0.0, shape=(), dtype=float32)\n",
      "loss tf.Tensor(0.0, shape=(), dtype=float32)\n",
      "loss tf.Tensor(0.0, shape=(), dtype=float32)\n",
      "loss tf.Tensor(0.0, shape=(), dtype=float32)\n",
      "loss tf.Tensor(0.0, shape=(), dtype=float32)\n"
     ]
    },
    {
     "name": "stderr",
     "output_type": "stream",
     "text": [
      " 91%|█████████ | 9119/10000 [04:44<00:26, 32.95it/s, episode_reward=0, running_reward=0]"
     ]
    },
    {
     "name": "stdout",
     "output_type": "stream",
     "text": [
      "loss tf.Tensor(0.0, shape=(), dtype=float32)\n",
      "loss tf.Tensor(0.0, shape=(), dtype=float32)\n",
      "loss tf.Tensor(0.0, shape=(), dtype=float32)\n",
      "loss tf.Tensor(0.0, shape=(), dtype=float32)\n",
      "loss tf.Tensor(0.0, shape=(), dtype=float32)\n",
      "loss tf.Tensor(0.0, shape=(), dtype=float32)\n",
      "loss tf.Tensor(0.0, shape=(), dtype=float32)\n",
      "loss tf.Tensor(0.0, shape=(), dtype=float32)\n"
     ]
    },
    {
     "name": "stderr",
     "output_type": "stream",
     "text": [
      " 91%|█████████▏| 9127/10000 [04:44<00:25, 33.98it/s, episode_reward=0, running_reward=0]"
     ]
    },
    {
     "name": "stdout",
     "output_type": "stream",
     "text": [
      "loss tf.Tensor(0.0, shape=(), dtype=float32)\n",
      "loss tf.Tensor(0.0, shape=(), dtype=float32)\n",
      "loss tf.Tensor(0.0, shape=(), dtype=float32)\n",
      "loss tf.Tensor(0.0, shape=(), dtype=float32)\n",
      "loss tf.Tensor(0.0, shape=(), dtype=float32)\n",
      "loss tf.Tensor(0.0, shape=(), dtype=float32)\n",
      "loss tf.Tensor(0.0, shape=(), dtype=float32)\n",
      "loss tf.Tensor(0.0, shape=(), dtype=float32)\n"
     ]
    },
    {
     "name": "stderr",
     "output_type": "stream",
     "text": [
      " 91%|█████████▏| 9135/10000 [04:44<00:25, 34.32it/s, episode_reward=0, running_reward=0]"
     ]
    },
    {
     "name": "stdout",
     "output_type": "stream",
     "text": [
      "loss tf.Tensor(0.0, shape=(), dtype=float32)\n",
      "loss tf.Tensor(0.0, shape=(), dtype=float32)\n",
      "loss tf.Tensor(0.0, shape=(), dtype=float32)\n",
      "loss tf.Tensor(0.0, shape=(), dtype=float32)\n",
      "loss tf.Tensor(0.0, shape=(), dtype=float32)\n",
      "loss tf.Tensor(0.0, shape=(), dtype=float32)\n",
      "loss tf.Tensor(0.0, shape=(), dtype=float32)\n",
      "loss tf.Tensor(0.0, shape=(), dtype=float32)\n"
     ]
    },
    {
     "name": "stderr",
     "output_type": "stream",
     "text": [
      " 91%|█████████▏| 9143/10000 [04:45<00:24, 34.96it/s, episode_reward=0, running_reward=0]"
     ]
    },
    {
     "name": "stdout",
     "output_type": "stream",
     "text": [
      "loss tf.Tensor(0.0, shape=(), dtype=float32)\n",
      "loss tf.Tensor(0.0, shape=(), dtype=float32)\n",
      "loss tf.Tensor(0.0, shape=(), dtype=float32)\n",
      "loss tf.Tensor(0.0, shape=(), dtype=float32)\n",
      "loss tf.Tensor(0.0, shape=(), dtype=float32)\n",
      "loss tf.Tensor(0.0, shape=(), dtype=float32)\n",
      "loss tf.Tensor(0.0, shape=(), dtype=float32)\n",
      "loss tf.Tensor(0.0, shape=(), dtype=float32)\n"
     ]
    },
    {
     "name": "stderr",
     "output_type": "stream",
     "text": [
      " 92%|█████████▏| 9151/10000 [04:45<00:24, 35.27it/s, episode_reward=0, running_reward=0]"
     ]
    },
    {
     "name": "stdout",
     "output_type": "stream",
     "text": [
      "loss tf.Tensor(0.0, shape=(), dtype=float32)\n",
      "loss tf.Tensor(0.0, shape=(), dtype=float32)\n",
      "loss tf.Tensor(0.0, shape=(), dtype=float32)\n",
      "loss tf.Tensor(0.0, shape=(), dtype=float32)\n",
      "loss tf.Tensor(0.0, shape=(), dtype=float32)\n",
      "loss tf.Tensor(0.0, shape=(), dtype=float32)\n",
      "loss tf.Tensor(0.0, shape=(), dtype=float32)\n",
      "loss tf.Tensor(0.0, shape=(), dtype=float32)\n"
     ]
    },
    {
     "name": "stderr",
     "output_type": "stream",
     "text": [
      " 92%|█████████▏| 9159/10000 [04:45<00:23, 35.36it/s, episode_reward=0, running_reward=0]"
     ]
    },
    {
     "name": "stdout",
     "output_type": "stream",
     "text": [
      "loss tf.Tensor(0.0, shape=(), dtype=float32)\n",
      "loss tf.Tensor(0.0, shape=(), dtype=float32)\n",
      "loss tf.Tensor(0.0, shape=(), dtype=float32)\n",
      "loss tf.Tensor(0.0, shape=(), dtype=float32)\n",
      "loss tf.Tensor(0.0, shape=(), dtype=float32)\n",
      "loss tf.Tensor(0.0, shape=(), dtype=float32)\n",
      "loss tf.Tensor(0.0, shape=(), dtype=float32)\n"
     ]
    },
    {
     "name": "stderr",
     "output_type": "stream",
     "text": [
      " 92%|█████████▏| 9163/10000 [04:45<00:24, 34.14it/s, episode_reward=0, running_reward=0]"
     ]
    },
    {
     "name": "stdout",
     "output_type": "stream",
     "text": [
      "loss tf.Tensor(0.0, shape=(), dtype=float32)\n",
      "loss tf.Tensor(0.0, shape=(), dtype=float32)\n",
      "loss tf.Tensor(0.0, shape=(), dtype=float32)\n",
      "loss tf.Tensor(0.0, shape=(), dtype=float32)\n"
     ]
    },
    {
     "name": "stderr",
     "output_type": "stream",
     "text": [
      " 92%|█████████▏| 9171/10000 [04:46<00:32, 25.79it/s, episode_reward=0, running_reward=0]"
     ]
    },
    {
     "name": "stdout",
     "output_type": "stream",
     "text": [
      "loss tf.Tensor(0.0, shape=(), dtype=float32)\n",
      "loss tf.Tensor(0.0, shape=(), dtype=float32)\n",
      "loss tf.Tensor(0.0, shape=(), dtype=float32)\n",
      "loss tf.Tensor(0.0, shape=(), dtype=float32)\n",
      "loss tf.Tensor(0.0, shape=(), dtype=float32)\n",
      "loss tf.Tensor(0.0, shape=(), dtype=float32)\n",
      "loss tf.Tensor(0.0, shape=(), dtype=float32)\n"
     ]
    },
    {
     "name": "stderr",
     "output_type": "stream",
     "text": [
      " 92%|█████████▏| 9175/10000 [04:46<00:30, 27.47it/s, episode_reward=0, running_reward=0]"
     ]
    },
    {
     "name": "stdout",
     "output_type": "stream",
     "text": [
      "loss tf.Tensor(0.0, shape=(), dtype=float32)\n",
      "loss tf.Tensor(0.0, shape=(), dtype=float32)\n",
      "loss tf.Tensor(0.0, shape=(), dtype=float32)\n",
      "loss tf.Tensor(0.0, shape=(), dtype=float32)\n",
      "loss tf.Tensor(0.0, shape=(), dtype=float32)\n",
      "loss tf.Tensor(0.0, shape=(), dtype=float32)\n",
      "loss tf.Tensor(0.0, shape=(), dtype=float32)\n"
     ]
    },
    {
     "name": "stderr",
     "output_type": "stream",
     "text": [
      " 92%|█████████▏| 9183/10000 [04:46<00:26, 30.56it/s, episode_reward=0, running_reward=0]"
     ]
    },
    {
     "name": "stdout",
     "output_type": "stream",
     "text": [
      "loss tf.Tensor(0.0, shape=(), dtype=float32)\n",
      "loss tf.Tensor(0.0, shape=(), dtype=float32)\n",
      "loss tf.Tensor(0.0, shape=(), dtype=float32)\n",
      "loss tf.Tensor(0.0, shape=(), dtype=float32)\n",
      "loss tf.Tensor(0.0, shape=(), dtype=float32)\n",
      "loss tf.Tensor(0.0, shape=(), dtype=float32)\n",
      "loss tf.Tensor(0.0, shape=(), dtype=float32)\n",
      "loss tf.Tensor(0.0, shape=(), dtype=float32)\n"
     ]
    },
    {
     "name": "stderr",
     "output_type": "stream",
     "text": [
      " 92%|█████████▏| 9191/10000 [04:46<00:24, 32.45it/s, episode_reward=0, running_reward=0]"
     ]
    },
    {
     "name": "stdout",
     "output_type": "stream",
     "text": [
      "loss tf.Tensor(0.0, shape=(), dtype=float32)\n",
      "loss tf.Tensor(0.0, shape=(), dtype=float32)\n",
      "loss tf.Tensor(0.0, shape=(), dtype=float32)\n",
      "loss tf.Tensor(0.0, shape=(), dtype=float32)\n",
      "loss tf.Tensor(0.0, shape=(), dtype=float32)\n",
      "loss tf.Tensor(0.0, shape=(), dtype=float32)\n",
      "loss tf.Tensor(0.0, shape=(), dtype=float32)\n",
      "loss tf.Tensor(0.0, shape=(), dtype=float32)\n"
     ]
    },
    {
     "name": "stderr",
     "output_type": "stream",
     "text": [
      " 92%|█████████▏| 9195/10000 [04:46<00:23, 33.59it/s, episode_reward=0, running_reward=0]"
     ]
    },
    {
     "name": "stdout",
     "output_type": "stream",
     "text": [
      "loss tf.Tensor(0.0, shape=(), dtype=float32)\n",
      "loss tf.Tensor(0.0, shape=(), dtype=float32)\n"
     ]
    },
    {
     "name": "stderr",
     "output_type": "stream",
     "text": [
      " 92%|█████████▏| 9199/10000 [04:47<00:36, 22.19it/s, episode_reward=0, running_reward=0]"
     ]
    },
    {
     "name": "stdout",
     "output_type": "stream",
     "text": [
      "loss tf.Tensor(0.0, shape=(), dtype=float32)\n",
      "loss tf.Tensor(0.0, shape=(), dtype=float32)\n",
      "loss tf.Tensor(0.0, shape=(), dtype=float32)\n",
      "loss tf.Tensor(0.0, shape=(), dtype=float32)\n",
      "loss tf.Tensor(0.0, shape=(), dtype=float32)\n",
      "loss tf.Tensor(0.0, shape=(), dtype=float32)\n"
     ]
    },
    {
     "name": "stderr",
     "output_type": "stream",
     "text": [
      " 92%|█████████▏| 9207/10000 [04:47<00:29, 27.03it/s, episode_reward=0, running_reward=0]"
     ]
    },
    {
     "name": "stdout",
     "output_type": "stream",
     "text": [
      "loss tf.Tensor(0.0, shape=(), dtype=float32)\n",
      "loss tf.Tensor(0.0, shape=(), dtype=float32)\n",
      "loss tf.Tensor(0.0, shape=(), dtype=float32)\n",
      "loss tf.Tensor(0.0, shape=(), dtype=float32)\n",
      "loss tf.Tensor(0.0, shape=(), dtype=float32)\n",
      "loss tf.Tensor(0.0, shape=(), dtype=float32)\n",
      "loss tf.Tensor(0.0, shape=(), dtype=float32)\n",
      "loss tf.Tensor(0.0, shape=(), dtype=float32)\n"
     ]
    },
    {
     "name": "stderr",
     "output_type": "stream",
     "text": [
      " 92%|█████████▏| 9215/10000 [04:47<00:25, 31.04it/s, episode_reward=0, running_reward=0]"
     ]
    },
    {
     "name": "stdout",
     "output_type": "stream",
     "text": [
      "loss tf.Tensor(0.0, shape=(), dtype=float32)\n",
      "loss tf.Tensor(0.0, shape=(), dtype=float32)\n",
      "loss tf.Tensor(0.0, shape=(), dtype=float32)\n",
      "loss tf.Tensor(0.0, shape=(), dtype=float32)\n",
      "loss tf.Tensor(0.0, shape=(), dtype=float32)\n",
      "loss tf.Tensor(0.0, shape=(), dtype=float32)\n",
      "loss tf.Tensor(0.0, shape=(), dtype=float32)\n",
      "loss tf.Tensor(0.0, shape=(), dtype=float32)\n"
     ]
    },
    {
     "name": "stderr",
     "output_type": "stream",
     "text": [
      " 92%|█████████▏| 9223/10000 [04:47<00:23, 32.76it/s, episode_reward=0, running_reward=0]"
     ]
    },
    {
     "name": "stdout",
     "output_type": "stream",
     "text": [
      "loss tf.Tensor(0.0, shape=(), dtype=float32)\n",
      "loss tf.Tensor(0.0, shape=(), dtype=float32)\n",
      "loss tf.Tensor(0.0, shape=(), dtype=float32)\n",
      "loss tf.Tensor(0.0, shape=(), dtype=float32)\n",
      "loss tf.Tensor(0.0, shape=(), dtype=float32)\n",
      "loss tf.Tensor(0.0, shape=(), dtype=float32)\n"
     ]
    },
    {
     "name": "stderr",
     "output_type": "stream",
     "text": [
      " 92%|█████████▏| 9231/10000 [04:48<00:29, 26.51it/s, episode_reward=0, running_reward=0]"
     ]
    },
    {
     "name": "stdout",
     "output_type": "stream",
     "text": [
      "loss tf.Tensor(0.0, shape=(), dtype=float32)\n",
      "loss tf.Tensor(0.0, shape=(), dtype=float32)\n",
      "loss tf.Tensor(0.0, shape=(), dtype=float32)\n",
      "loss tf.Tensor(0.0, shape=(), dtype=float32)\n",
      "loss tf.Tensor(0.0, shape=(), dtype=float32)\n",
      "loss tf.Tensor(0.0, shape=(), dtype=float32)\n",
      "loss tf.Tensor(0.0, shape=(), dtype=float32)\n"
     ]
    },
    {
     "name": "stderr",
     "output_type": "stream",
     "text": [
      " 92%|█████████▏| 9239/10000 [04:48<00:24, 30.71it/s, episode_reward=0, running_reward=0]"
     ]
    },
    {
     "name": "stdout",
     "output_type": "stream",
     "text": [
      "loss tf.Tensor(0.0, shape=(), dtype=float32)\n",
      "loss tf.Tensor(0.0, shape=(), dtype=float32)\n",
      "loss tf.Tensor(0.0, shape=(), dtype=float32)\n",
      "loss tf.Tensor(0.0, shape=(), dtype=float32)\n",
      "loss tf.Tensor(0.0, shape=(), dtype=float32)\n",
      "loss tf.Tensor(0.0, shape=(), dtype=float32)\n",
      "loss tf.Tensor(0.0, shape=(), dtype=float32)\n",
      "loss tf.Tensor(0.0, shape=(), dtype=float32)\n"
     ]
    },
    {
     "name": "stderr",
     "output_type": "stream",
     "text": [
      " 92%|█████████▏| 9243/10000 [04:48<00:24, 30.92it/s, episode_reward=0, running_reward=0]"
     ]
    },
    {
     "name": "stdout",
     "output_type": "stream",
     "text": [
      "loss tf.Tensor(0.0, shape=(), dtype=float32)\n",
      "loss tf.Tensor(0.0, shape=(), dtype=float32)\n",
      "loss tf.Tensor(0.0, shape=(), dtype=float32)\n",
      "loss tf.Tensor(0.0, shape=(), dtype=float32)\n",
      "loss tf.Tensor(0.0, shape=(), dtype=float32)\n",
      "loss tf.Tensor(0.0, shape=(), dtype=float32)\n",
      "loss tf.Tensor(0.0, shape=(), dtype=float32)\n"
     ]
    },
    {
     "name": "stderr",
     "output_type": "stream",
     "text": [
      " 93%|█████████▎| 9251/10000 [04:48<00:22, 33.30it/s, episode_reward=0, running_reward=0]"
     ]
    },
    {
     "name": "stdout",
     "output_type": "stream",
     "text": [
      "loss tf.Tensor(0.0, shape=(), dtype=float32)\n",
      "loss tf.Tensor(0.0, shape=(), dtype=float32)\n",
      "loss tf.Tensor(0.0, shape=(), dtype=float32)\n",
      "loss tf.Tensor(0.0, shape=(), dtype=float32)\n",
      "loss tf.Tensor(0.0, shape=(), dtype=float32)\n",
      "loss tf.Tensor(0.0, shape=(), dtype=float32)\n",
      "loss tf.Tensor(0.0, shape=(), dtype=float32)\n",
      "loss tf.Tensor(0.0, shape=(), dtype=float32)\n"
     ]
    },
    {
     "name": "stderr",
     "output_type": "stream",
     "text": [
      " 93%|█████████▎| 9259/10000 [04:49<00:21, 34.05it/s, episode_reward=0, running_reward=0]"
     ]
    },
    {
     "name": "stdout",
     "output_type": "stream",
     "text": [
      "loss tf.Tensor(0.0, shape=(), dtype=float32)\n",
      "loss tf.Tensor(0.0, shape=(), dtype=float32)\n",
      "loss tf.Tensor(0.0, shape=(), dtype=float32)\n",
      "loss tf.Tensor(0.0, shape=(), dtype=float32)\n",
      "loss tf.Tensor(0.0, shape=(), dtype=float32)\n",
      "loss tf.Tensor(0.0, shape=(), dtype=float32)\n",
      "loss tf.Tensor(0.0, shape=(), dtype=float32)\n",
      "loss tf.Tensor(0.0, shape=(), dtype=float32)\n"
     ]
    },
    {
     "name": "stderr",
     "output_type": "stream",
     "text": [
      " 93%|█████████▎| 9267/10000 [04:49<00:21, 34.42it/s, episode_reward=0, running_reward=0]"
     ]
    },
    {
     "name": "stdout",
     "output_type": "stream",
     "text": [
      "loss tf.Tensor(0.0, shape=(), dtype=float32)\n",
      "loss tf.Tensor(0.0, shape=(), dtype=float32)\n",
      "loss tf.Tensor(0.0, shape=(), dtype=float32)\n",
      "loss tf.Tensor(0.0, shape=(), dtype=float32)\n",
      "loss tf.Tensor(0.0, shape=(), dtype=float32)\n",
      "loss tf.Tensor(0.0, shape=(), dtype=float32)\n",
      "loss tf.Tensor(0.0, shape=(), dtype=float32)\n",
      "loss tf.Tensor(0.0, shape=(), dtype=float32)\n"
     ]
    },
    {
     "name": "stderr",
     "output_type": "stream",
     "text": [
      " 93%|█████████▎| 9275/10000 [04:49<00:20, 34.85it/s, episode_reward=0, running_reward=0]"
     ]
    },
    {
     "name": "stdout",
     "output_type": "stream",
     "text": [
      "loss tf.Tensor(0.0, shape=(), dtype=float32)\n",
      "loss tf.Tensor(0.0, shape=(), dtype=float32)\n",
      "loss tf.Tensor(0.0, shape=(), dtype=float32)\n",
      "loss tf.Tensor(0.0, shape=(), dtype=float32)\n",
      "loss tf.Tensor(0.0, shape=(), dtype=float32)\n",
      "loss tf.Tensor(0.0, shape=(), dtype=float32)\n",
      "loss tf.Tensor(0.0, shape=(), dtype=float32)\n",
      "loss tf.Tensor(0.0, shape=(), dtype=float32)\n"
     ]
    },
    {
     "name": "stderr",
     "output_type": "stream",
     "text": [
      " 93%|█████████▎| 9283/10000 [04:49<00:20, 35.52it/s, episode_reward=0, running_reward=0]"
     ]
    },
    {
     "name": "stdout",
     "output_type": "stream",
     "text": [
      "loss tf.Tensor(0.0, shape=(), dtype=float32)\n",
      "loss tf.Tensor(0.0, shape=(), dtype=float32)\n",
      "loss tf.Tensor(0.0, shape=(), dtype=float32)\n",
      "loss tf.Tensor(0.0, shape=(), dtype=float32)\n",
      "loss tf.Tensor(0.0, shape=(), dtype=float32)\n",
      "loss tf.Tensor(0.0, shape=(), dtype=float32)\n",
      "loss tf.Tensor(0.0, shape=(), dtype=float32)\n",
      "loss tf.Tensor(0.0, shape=(), dtype=float32)\n"
     ]
    },
    {
     "name": "stderr",
     "output_type": "stream",
     "text": [
      " 93%|█████████▎| 9291/10000 [04:49<00:20, 34.77it/s, episode_reward=0, running_reward=0]"
     ]
    },
    {
     "name": "stdout",
     "output_type": "stream",
     "text": [
      "loss tf.Tensor(0.0, shape=(), dtype=float32)\n",
      "loss tf.Tensor(0.0, shape=(), dtype=float32)\n",
      "loss tf.Tensor(0.0, shape=(), dtype=float32)\n",
      "loss tf.Tensor(0.0, shape=(), dtype=float32)\n",
      "loss tf.Tensor(0.0, shape=(), dtype=float32)\n",
      "loss tf.Tensor(0.0, shape=(), dtype=float32)\n",
      "loss tf.Tensor(0.0, shape=(), dtype=float32)\n"
     ]
    },
    {
     "name": "stderr",
     "output_type": "stream",
     "text": [
      " 93%|█████████▎| 9299/10000 [04:50<00:19, 35.45it/s, episode_reward=0, running_reward=0]"
     ]
    },
    {
     "name": "stdout",
     "output_type": "stream",
     "text": [
      "loss tf.Tensor(0.0, shape=(), dtype=float32)\n",
      "loss tf.Tensor(0.0, shape=(), dtype=float32)\n",
      "loss tf.Tensor(0.0, shape=(), dtype=float32)\n",
      "loss tf.Tensor(0.0, shape=(), dtype=float32)\n",
      "loss tf.Tensor(0.0, shape=(), dtype=float32)\n",
      "loss tf.Tensor(0.0, shape=(), dtype=float32)\n",
      "loss tf.Tensor(0.0, shape=(), dtype=float32)\n",
      "loss tf.Tensor(0.0, shape=(), dtype=float32)\n"
     ]
    },
    {
     "name": "stderr",
     "output_type": "stream",
     "text": [
      " 93%|█████████▎| 9307/10000 [04:50<00:19, 35.41it/s, episode_reward=0, running_reward=0]"
     ]
    },
    {
     "name": "stdout",
     "output_type": "stream",
     "text": [
      "loss tf.Tensor(0.0, shape=(), dtype=float32)\n",
      "loss tf.Tensor(0.0, shape=(), dtype=float32)\n",
      "loss tf.Tensor(0.0, shape=(), dtype=float32)\n",
      "loss tf.Tensor(0.0, shape=(), dtype=float32)\n",
      "loss tf.Tensor(0.0, shape=(), dtype=float32)\n",
      "loss tf.Tensor(0.0, shape=(), dtype=float32)\n",
      "loss tf.Tensor(0.0, shape=(), dtype=float32)\n",
      "loss tf.Tensor(0.0, shape=(), dtype=float32)\n"
     ]
    },
    {
     "name": "stderr",
     "output_type": "stream",
     "text": [
      " 93%|█████████▎| 9315/10000 [04:50<00:19, 35.46it/s, episode_reward=0, running_reward=0]"
     ]
    },
    {
     "name": "stdout",
     "output_type": "stream",
     "text": [
      "loss tf.Tensor(0.0, shape=(), dtype=float32)\n",
      "loss tf.Tensor(0.0, shape=(), dtype=float32)\n",
      "loss tf.Tensor(0.0, shape=(), dtype=float32)\n",
      "loss tf.Tensor(0.0, shape=(), dtype=float32)\n",
      "loss tf.Tensor(0.0, shape=(), dtype=float32)\n",
      "loss tf.Tensor(0.0, shape=(), dtype=float32)\n",
      "loss tf.Tensor(0.0, shape=(), dtype=float32)\n",
      "loss tf.Tensor(0.0, shape=(), dtype=float32)\n"
     ]
    },
    {
     "name": "stderr",
     "output_type": "stream",
     "text": [
      " 93%|█████████▎| 9323/10000 [04:50<00:19, 35.00it/s, episode_reward=0, running_reward=0]"
     ]
    },
    {
     "name": "stdout",
     "output_type": "stream",
     "text": [
      "loss tf.Tensor(0.0, shape=(), dtype=float32)\n",
      "loss tf.Tensor(0.0, shape=(), dtype=float32)\n",
      "loss tf.Tensor(0.0, shape=(), dtype=float32)\n",
      "loss tf.Tensor(0.0, shape=(), dtype=float32)\n",
      "loss tf.Tensor(0.0, shape=(), dtype=float32)\n",
      "loss tf.Tensor(0.0, shape=(), dtype=float32)\n",
      "loss tf.Tensor(0.0, shape=(), dtype=float32)\n"
     ]
    },
    {
     "name": "stderr",
     "output_type": "stream",
     "text": [
      " 93%|█████████▎| 9327/10000 [04:50<00:19, 34.87it/s, episode_reward=0, running_reward=0]"
     ]
    },
    {
     "name": "stdout",
     "output_type": "stream",
     "text": [
      "loss tf.Tensor(0.0, shape=(), dtype=float32)\n",
      "loss tf.Tensor(0.0, shape=(), dtype=float32)\n",
      "loss tf.Tensor(0.0, shape=(), dtype=float32)\n",
      "loss tf.Tensor(0.0, shape=(), dtype=float32)\n"
     ]
    },
    {
     "name": "stderr",
     "output_type": "stream",
     "text": [
      " 93%|█████████▎| 9335/10000 [04:51<00:23, 28.00it/s, episode_reward=0, running_reward=0]"
     ]
    },
    {
     "name": "stdout",
     "output_type": "stream",
     "text": [
      "loss tf.Tensor(0.0, shape=(), dtype=float32)\n",
      "loss tf.Tensor(0.0, shape=(), dtype=float32)\n",
      "loss tf.Tensor(0.0, shape=(), dtype=float32)\n",
      "loss tf.Tensor(0.0, shape=(), dtype=float32)\n",
      "loss tf.Tensor(0.0, shape=(), dtype=float32)\n",
      "loss tf.Tensor(0.0, shape=(), dtype=float32)\n",
      "loss tf.Tensor(0.0, shape=(), dtype=float32)\n"
     ]
    },
    {
     "name": "stderr",
     "output_type": "stream",
     "text": [
      " 93%|█████████▎| 9339/10000 [04:51<00:26, 24.60it/s, episode_reward=0, running_reward=0]"
     ]
    },
    {
     "name": "stdout",
     "output_type": "stream",
     "text": [
      "loss tf.Tensor(0.0, shape=(), dtype=float32)\n",
      "loss tf.Tensor(0.0, shape=(), dtype=float32)\n",
      "loss tf.Tensor(0.0, shape=(), dtype=float32)\n",
      "loss tf.Tensor(0.0, shape=(), dtype=float32)\n"
     ]
    },
    {
     "name": "stderr",
     "output_type": "stream",
     "text": [
      " 93%|█████████▎| 9342/10000 [04:51<00:31, 21.02it/s, episode_reward=0, running_reward=0]"
     ]
    },
    {
     "name": "stdout",
     "output_type": "stream",
     "text": [
      "loss tf.Tensor(0.0, shape=(), dtype=float32)\n",
      "loss tf.Tensor(0.0, shape=(), dtype=float32)\n",
      "loss tf.Tensor(0.0, shape=(), dtype=float32)\n",
      "loss tf.Tensor(0.0, shape=(), dtype=float32)\n",
      "loss tf.Tensor(0.0, shape=(), dtype=float32)\n"
     ]
    },
    {
     "name": "stderr",
     "output_type": "stream",
     "text": [
      " 93%|█████████▎| 9349/10000 [04:52<00:25, 25.45it/s, episode_reward=0, running_reward=0]"
     ]
    },
    {
     "name": "stdout",
     "output_type": "stream",
     "text": [
      "loss tf.Tensor(0.0, shape=(), dtype=float32)\n",
      "loss tf.Tensor(0.0, shape=(), dtype=float32)\n",
      "loss tf.Tensor(0.0, shape=(), dtype=float32)\n",
      "loss tf.Tensor(0.0, shape=(), dtype=float32)\n",
      "loss tf.Tensor(0.0, shape=(), dtype=float32)\n",
      "loss tf.Tensor(0.0, shape=(), dtype=float32)\n",
      "loss tf.Tensor(0.0, shape=(), dtype=float32)\n",
      "loss tf.Tensor(0.0, shape=(), dtype=float32)\n"
     ]
    },
    {
     "name": "stderr",
     "output_type": "stream",
     "text": [
      " 94%|█████████▎| 9357/10000 [04:52<00:21, 29.69it/s, episode_reward=0, running_reward=0]"
     ]
    },
    {
     "name": "stdout",
     "output_type": "stream",
     "text": [
      "loss tf.Tensor(0.0, shape=(), dtype=float32)\n",
      "loss tf.Tensor(0.0, shape=(), dtype=float32)\n",
      "loss tf.Tensor(0.0, shape=(), dtype=float32)\n",
      "loss tf.Tensor(0.0, shape=(), dtype=float32)\n",
      "loss tf.Tensor(0.0, shape=(), dtype=float32)\n",
      "loss tf.Tensor(0.0, shape=(), dtype=float32)\n",
      "loss tf.Tensor(0.0, shape=(), dtype=float32)\n"
     ]
    },
    {
     "name": "stderr",
     "output_type": "stream",
     "text": [
      " 94%|█████████▎| 9365/10000 [04:52<00:24, 26.29it/s, episode_reward=0, running_reward=0]"
     ]
    },
    {
     "name": "stdout",
     "output_type": "stream",
     "text": [
      "loss tf.Tensor(0.0, shape=(), dtype=float32)\n",
      "loss tf.Tensor(0.0, shape=(), dtype=float32)\n",
      "loss tf.Tensor(0.0, shape=(), dtype=float32)\n",
      "loss tf.Tensor(0.0, shape=(), dtype=float32)\n",
      "loss tf.Tensor(0.0, shape=(), dtype=float32)\n",
      "loss tf.Tensor(0.0, shape=(), dtype=float32)\n"
     ]
    },
    {
     "name": "stderr",
     "output_type": "stream",
     "text": [
      " 94%|█████████▎| 9373/10000 [04:52<00:20, 30.68it/s, episode_reward=0, running_reward=0]"
     ]
    },
    {
     "name": "stdout",
     "output_type": "stream",
     "text": [
      "loss tf.Tensor(0.0, shape=(), dtype=float32)\n",
      "loss tf.Tensor(0.0, shape=(), dtype=float32)\n",
      "loss tf.Tensor(0.0, shape=(), dtype=float32)\n",
      "loss tf.Tensor(0.0, shape=(), dtype=float32)\n",
      "loss tf.Tensor(0.0, shape=(), dtype=float32)\n",
      "loss tf.Tensor(0.0, shape=(), dtype=float32)\n",
      "loss tf.Tensor(0.0, shape=(), dtype=float32)\n",
      "loss tf.Tensor(0.0, shape=(), dtype=float32)\n"
     ]
    },
    {
     "name": "stderr",
     "output_type": "stream",
     "text": [
      " 94%|█████████▍| 9381/10000 [04:52<00:18, 32.75it/s, episode_reward=0, running_reward=0]"
     ]
    },
    {
     "name": "stdout",
     "output_type": "stream",
     "text": [
      "loss tf.Tensor(0.0, shape=(), dtype=float32)\n",
      "loss tf.Tensor(0.0, shape=(), dtype=float32)\n",
      "loss tf.Tensor(0.0, shape=(), dtype=float32)\n",
      "loss tf.Tensor(0.0, shape=(), dtype=float32)\n",
      "loss tf.Tensor(0.0, shape=(), dtype=float32)\n",
      "loss tf.Tensor(0.0, shape=(), dtype=float32)\n",
      "loss tf.Tensor(0.0, shape=(), dtype=float32)\n",
      "loss tf.Tensor(0.0, shape=(), dtype=float32)\n"
     ]
    },
    {
     "name": "stderr",
     "output_type": "stream",
     "text": [
      " 94%|█████████▍| 9389/10000 [04:53<00:17, 34.06it/s, episode_reward=0, running_reward=0]"
     ]
    },
    {
     "name": "stdout",
     "output_type": "stream",
     "text": [
      "loss tf.Tensor(0.0, shape=(), dtype=float32)\n",
      "loss tf.Tensor(0.0, shape=(), dtype=float32)\n",
      "loss tf.Tensor(0.0, shape=(), dtype=float32)\n",
      "loss tf.Tensor(0.0, shape=(), dtype=float32)\n",
      "loss tf.Tensor(0.0, shape=(), dtype=float32)\n",
      "loss tf.Tensor(0.0, shape=(), dtype=float32)\n",
      "loss tf.Tensor(0.0, shape=(), dtype=float32)\n",
      "loss tf.Tensor(0.0, shape=(), dtype=float32)\n"
     ]
    },
    {
     "name": "stderr",
     "output_type": "stream",
     "text": [
      " 94%|█████████▍| 9389/10000 [04:53<00:17, 34.06it/s, episode_reward=0, running_reward=0]"
     ]
    },
    {
     "name": "stdout",
     "output_type": "stream",
     "text": [
      "loss tf.Tensor(0.0, shape=(), dtype=float32)\n",
      "loss tf.Tensor(0.0, shape=(), dtype=float32)\n",
      "loss tf.Tensor(0.0, shape=(), dtype=float32)\n"
     ]
    },
    {
     "name": "stderr",
     "output_type": "stream",
     "text": [
      " 94%|█████████▍| 9396/10000 [04:53<00:23, 26.16it/s, episode_reward=0, running_reward=0]"
     ]
    },
    {
     "name": "stdout",
     "output_type": "stream",
     "text": [
      "loss tf.Tensor(0.0, shape=(), dtype=float32)\n",
      "loss tf.Tensor(0.0, shape=(), dtype=float32)\n",
      "loss tf.Tensor(0.0, shape=(), dtype=float32)\n",
      "loss tf.Tensor(0.0, shape=(), dtype=float32)\n",
      "loss tf.Tensor(0.0, shape=(), dtype=float32)\n",
      "loss tf.Tensor(0.0, shape=(), dtype=float32)\n",
      "loss tf.Tensor(0.0, shape=(), dtype=float32)\n"
     ]
    },
    {
     "name": "stderr",
     "output_type": "stream",
     "text": [
      " 94%|█████████▍| 9404/10000 [04:53<00:19, 30.08it/s, episode_reward=0, running_reward=0]"
     ]
    },
    {
     "name": "stdout",
     "output_type": "stream",
     "text": [
      "loss tf.Tensor(0.0, shape=(), dtype=float32)\n",
      "loss tf.Tensor(0.0, shape=(), dtype=float32)\n",
      "loss tf.Tensor(0.0, shape=(), dtype=float32)\n",
      "loss tf.Tensor(0.0, shape=(), dtype=float32)\n",
      "loss tf.Tensor(0.0, shape=(), dtype=float32)\n",
      "loss tf.Tensor(0.0, shape=(), dtype=float32)\n",
      "loss tf.Tensor(0.0, shape=(), dtype=float32)\n",
      "loss tf.Tensor(0.0, shape=(), dtype=float32)\n"
     ]
    },
    {
     "name": "stderr",
     "output_type": "stream",
     "text": [
      " 94%|█████████▍| 9412/10000 [04:54<00:18, 32.54it/s, episode_reward=0, running_reward=0]"
     ]
    },
    {
     "name": "stdout",
     "output_type": "stream",
     "text": [
      "loss tf.Tensor(0.0, shape=(), dtype=float32)\n",
      "loss tf.Tensor(0.0, shape=(), dtype=float32)\n",
      "loss tf.Tensor(0.0, shape=(), dtype=float32)\n",
      "loss tf.Tensor(0.0, shape=(), dtype=float32)\n",
      "loss tf.Tensor(0.0, shape=(), dtype=float32)\n",
      "loss tf.Tensor(0.0, shape=(), dtype=float32)\n",
      "loss tf.Tensor(0.0, shape=(), dtype=float32)\n",
      "loss tf.Tensor(0.0, shape=(), dtype=float32)\n"
     ]
    },
    {
     "name": "stderr",
     "output_type": "stream",
     "text": [
      " 94%|█████████▍| 9420/10000 [04:54<00:17, 33.85it/s, episode_reward=0, running_reward=0]"
     ]
    },
    {
     "name": "stdout",
     "output_type": "stream",
     "text": [
      "loss tf.Tensor(0.0, shape=(), dtype=float32)\n",
      "loss tf.Tensor(0.0, shape=(), dtype=float32)\n",
      "loss tf.Tensor(0.0, shape=(), dtype=float32)\n",
      "loss tf.Tensor(0.0, shape=(), dtype=float32)\n",
      "loss tf.Tensor(0.0, shape=(), dtype=float32)\n"
     ]
    },
    {
     "name": "stderr",
     "output_type": "stream",
     "text": [
      " 94%|█████████▍| 9424/10000 [04:54<00:23, 24.76it/s, episode_reward=0, running_reward=0]"
     ]
    },
    {
     "name": "stdout",
     "output_type": "stream",
     "text": [
      "loss tf.Tensor(0.0, shape=(), dtype=float32)\n",
      "loss tf.Tensor(0.0, shape=(), dtype=float32)\n",
      "loss tf.Tensor(0.0, shape=(), dtype=float32)\n",
      "loss tf.Tensor(0.0, shape=(), dtype=float32)\n",
      "loss tf.Tensor(0.0, shape=(), dtype=float32)\n",
      "loss tf.Tensor(0.0, shape=(), dtype=float32)\n",
      "loss tf.Tensor(0.0, shape=(), dtype=float32)\n"
     ]
    },
    {
     "name": "stderr",
     "output_type": "stream",
     "text": [
      " 94%|█████████▍| 9432/10000 [04:54<00:19, 28.60it/s, episode_reward=0, running_reward=0]"
     ]
    },
    {
     "name": "stdout",
     "output_type": "stream",
     "text": [
      "loss tf.Tensor(0.0, shape=(), dtype=float32)\n",
      "loss tf.Tensor(0.0, shape=(), dtype=float32)\n",
      "loss tf.Tensor(0.0, shape=(), dtype=float32)\n",
      "loss tf.Tensor(0.0, shape=(), dtype=float32)\n",
      "loss tf.Tensor(0.0, shape=(), dtype=float32)\n",
      "loss tf.Tensor(0.0, shape=(), dtype=float32)\n",
      "loss tf.Tensor(0.0, shape=(), dtype=float32)\n",
      "loss tf.Tensor(0.0, shape=(), dtype=float32)\n"
     ]
    },
    {
     "name": "stderr",
     "output_type": "stream",
     "text": [
      " 94%|█████████▍| 9440/10000 [04:55<00:17, 31.60it/s, episode_reward=0, running_reward=0]"
     ]
    },
    {
     "name": "stdout",
     "output_type": "stream",
     "text": [
      "loss tf.Tensor(0.0, shape=(), dtype=float32)\n",
      "loss tf.Tensor(0.0, shape=(), dtype=float32)\n",
      "loss tf.Tensor(0.0, shape=(), dtype=float32)\n",
      "loss tf.Tensor(0.0, shape=(), dtype=float32)\n",
      "loss tf.Tensor(0.0, shape=(), dtype=float32)\n",
      "loss tf.Tensor(0.0, shape=(), dtype=float32)\n",
      "loss tf.Tensor(0.0, shape=(), dtype=float32)\n",
      "loss tf.Tensor(0.0, shape=(), dtype=float32)\n"
     ]
    },
    {
     "name": "stderr",
     "output_type": "stream",
     "text": [
      " 94%|█████████▍| 9444/10000 [04:55<00:16, 32.86it/s, episode_reward=0, running_reward=0]"
     ]
    },
    {
     "name": "stdout",
     "output_type": "stream",
     "text": [
      "loss tf.Tensor(0.0, shape=(), dtype=float32)\n",
      "loss tf.Tensor(0.0, shape=(), dtype=float32)\n",
      "loss tf.Tensor(0.0, shape=(), dtype=float32)\n",
      "loss tf.Tensor(0.0, shape=(), dtype=float32)\n"
     ]
    },
    {
     "name": "stderr",
     "output_type": "stream",
     "text": [
      " 95%|█████████▍| 9451/10000 [04:55<00:20, 27.18it/s, episode_reward=0, running_reward=0]"
     ]
    },
    {
     "name": "stdout",
     "output_type": "stream",
     "text": [
      "loss tf.Tensor(0.0, shape=(), dtype=float32)\n",
      "loss tf.Tensor(0.0, shape=(), dtype=float32)\n",
      "loss tf.Tensor(0.0, shape=(), dtype=float32)\n",
      "loss tf.Tensor(0.0, shape=(), dtype=float32)\n",
      "loss tf.Tensor(0.0, shape=(), dtype=float32)\n",
      "loss tf.Tensor(0.0, shape=(), dtype=float32)\n",
      "loss tf.Tensor(0.0, shape=(), dtype=float32)\n"
     ]
    },
    {
     "name": "stderr",
     "output_type": "stream",
     "text": [
      " 95%|█████████▍| 9459/10000 [04:55<00:17, 30.25it/s, episode_reward=0, running_reward=0]"
     ]
    },
    {
     "name": "stdout",
     "output_type": "stream",
     "text": [
      "loss tf.Tensor(0.0, shape=(), dtype=float32)\n",
      "loss tf.Tensor(0.0, shape=(), dtype=float32)\n",
      "loss tf.Tensor(0.0, shape=(), dtype=float32)\n",
      "loss tf.Tensor(0.0, shape=(), dtype=float32)\n",
      "loss tf.Tensor(0.0, shape=(), dtype=float32)\n",
      "loss tf.Tensor(0.0, shape=(), dtype=float32)\n",
      "loss tf.Tensor(0.0, shape=(), dtype=float32)\n",
      "loss tf.Tensor(0.0, shape=(), dtype=float32)\n"
     ]
    },
    {
     "name": "stderr",
     "output_type": "stream",
     "text": [
      " 95%|█████████▍| 9467/10000 [04:55<00:16, 32.47it/s, episode_reward=0, running_reward=0]"
     ]
    },
    {
     "name": "stdout",
     "output_type": "stream",
     "text": [
      "loss tf.Tensor(0.0, shape=(), dtype=float32)\n",
      "loss tf.Tensor(0.0, shape=(), dtype=float32)\n",
      "loss tf.Tensor(0.0, shape=(), dtype=float32)\n",
      "loss tf.Tensor(0.0, shape=(), dtype=float32)\n",
      "loss tf.Tensor(0.0, shape=(), dtype=float32)\n",
      "loss tf.Tensor(0.0, shape=(), dtype=float32)\n",
      "loss tf.Tensor(0.0, shape=(), dtype=float32)\n",
      "loss tf.Tensor(0.0, shape=(), dtype=float32)\n"
     ]
    },
    {
     "name": "stderr",
     "output_type": "stream",
     "text": [
      " 95%|█████████▍| 9475/10000 [04:56<00:15, 32.91it/s, episode_reward=0, running_reward=0]"
     ]
    },
    {
     "name": "stdout",
     "output_type": "stream",
     "text": [
      "loss tf.Tensor(0.0, shape=(), dtype=float32)\n",
      "loss tf.Tensor(0.0, shape=(), dtype=float32)\n",
      "loss tf.Tensor(0.0, shape=(), dtype=float32)\n",
      "loss tf.Tensor(0.0, shape=(), dtype=float32)\n",
      "loss tf.Tensor(0.0, shape=(), dtype=float32)\n",
      "loss tf.Tensor(0.0, shape=(), dtype=float32)\n",
      "loss tf.Tensor(0.0, shape=(), dtype=float32)\n",
      "loss tf.Tensor(0.0, shape=(), dtype=float32)\n"
     ]
    },
    {
     "name": "stderr",
     "output_type": "stream",
     "text": [
      " 95%|█████████▍| 9483/10000 [04:56<00:15, 33.10it/s, episode_reward=0, running_reward=0]"
     ]
    },
    {
     "name": "stdout",
     "output_type": "stream",
     "text": [
      "loss tf.Tensor(0.0, shape=(), dtype=float32)\n",
      "loss tf.Tensor(0.0, shape=(), dtype=float32)\n",
      "loss tf.Tensor(0.0, shape=(), dtype=float32)\n",
      "loss tf.Tensor(0.0, shape=(), dtype=float32)\n",
      "loss tf.Tensor(0.0, shape=(), dtype=float32)\n",
      "loss tf.Tensor(0.0, shape=(), dtype=float32)\n",
      "loss tf.Tensor(0.0, shape=(), dtype=float32)\n"
     ]
    },
    {
     "name": "stderr",
     "output_type": "stream",
     "text": [
      " 95%|█████████▍| 9491/10000 [04:56<00:14, 34.80it/s, episode_reward=0, running_reward=0]"
     ]
    },
    {
     "name": "stdout",
     "output_type": "stream",
     "text": [
      "loss tf.Tensor(0.0, shape=(), dtype=float32)\n",
      "loss tf.Tensor(0.0, shape=(), dtype=float32)\n",
      "loss tf.Tensor(0.0, shape=(), dtype=float32)\n",
      "loss tf.Tensor(0.0, shape=(), dtype=float32)\n",
      "loss tf.Tensor(0.0, shape=(), dtype=float32)\n",
      "loss tf.Tensor(0.0, shape=(), dtype=float32)\n",
      "loss tf.Tensor(0.0, shape=(), dtype=float32)\n",
      "loss tf.Tensor(0.0, shape=(), dtype=float32)\n"
     ]
    },
    {
     "name": "stderr",
     "output_type": "stream",
     "text": [
      " 95%|█████████▍| 9499/10000 [04:56<00:14, 35.13it/s, episode_reward=0, running_reward=0]"
     ]
    },
    {
     "name": "stdout",
     "output_type": "stream",
     "text": [
      "loss tf.Tensor(0.0, shape=(), dtype=float32)\n",
      "loss tf.Tensor(0.0, shape=(), dtype=float32)\n",
      "loss tf.Tensor(0.0, shape=(), dtype=float32)\n",
      "loss tf.Tensor(0.0, shape=(), dtype=float32)\n",
      "loss tf.Tensor(0.0, shape=(), dtype=float32)\n",
      "loss tf.Tensor(0.0, shape=(), dtype=float32)\n",
      "loss tf.Tensor(0.0, shape=(), dtype=float32)\n",
      "loss tf.Tensor(0.0, shape=(), dtype=float32)\n"
     ]
    },
    {
     "name": "stderr",
     "output_type": "stream",
     "text": [
      " 95%|█████████▌| 9507/10000 [04:57<00:13, 35.49it/s, episode_reward=0, running_reward=0]"
     ]
    },
    {
     "name": "stdout",
     "output_type": "stream",
     "text": [
      "loss tf.Tensor(0.0, shape=(), dtype=float32)\n",
      "loss tf.Tensor(0.0, shape=(), dtype=float32)\n",
      "loss tf.Tensor(0.0, shape=(), dtype=float32)\n",
      "loss tf.Tensor(0.0, shape=(), dtype=float32)\n",
      "loss tf.Tensor(0.0, shape=(), dtype=float32)\n",
      "loss tf.Tensor(0.0, shape=(), dtype=float32)\n",
      "loss tf.Tensor(0.0, shape=(), dtype=float32)\n",
      "loss tf.Tensor(0.0, shape=(), dtype=float32)\n"
     ]
    },
    {
     "name": "stderr",
     "output_type": "stream",
     "text": [
      " 95%|█████████▌| 9515/10000 [04:57<00:13, 35.57it/s, episode_reward=0, running_reward=0]"
     ]
    },
    {
     "name": "stdout",
     "output_type": "stream",
     "text": [
      "loss tf.Tensor(0.0, shape=(), dtype=float32)\n",
      "loss tf.Tensor(0.0, shape=(), dtype=float32)\n",
      "loss tf.Tensor(0.0, shape=(), dtype=float32)\n",
      "loss tf.Tensor(0.0, shape=(), dtype=float32)\n",
      "loss tf.Tensor(0.0, shape=(), dtype=float32)\n",
      "loss tf.Tensor(0.0, shape=(), dtype=float32)\n",
      "loss tf.Tensor(0.0, shape=(), dtype=float32)\n",
      "loss tf.Tensor(0.0, shape=(), dtype=float32)\n"
     ]
    },
    {
     "name": "stderr",
     "output_type": "stream",
     "text": [
      " 95%|█████████▌| 9523/10000 [04:57<00:13, 34.38it/s, episode_reward=0, running_reward=0]"
     ]
    },
    {
     "name": "stdout",
     "output_type": "stream",
     "text": [
      "loss tf.Tensor(0.0, shape=(), dtype=float32)\n",
      "loss tf.Tensor(0.0, shape=(), dtype=float32)\n",
      "loss tf.Tensor(0.0, shape=(), dtype=float32)\n",
      "loss tf.Tensor(0.0, shape=(), dtype=float32)\n",
      "loss tf.Tensor(0.0, shape=(), dtype=float32)\n",
      "loss tf.Tensor(0.0, shape=(), dtype=float32)\n",
      "loss tf.Tensor(0.0, shape=(), dtype=float32)\n",
      "loss tf.Tensor(0.0, shape=(), dtype=float32)\n"
     ]
    },
    {
     "name": "stderr",
     "output_type": "stream",
     "text": [
      " 95%|█████████▌| 9531/10000 [04:57<00:13, 34.99it/s, episode_reward=0, running_reward=0]"
     ]
    },
    {
     "name": "stdout",
     "output_type": "stream",
     "text": [
      "loss tf.Tensor(0.0, shape=(), dtype=float32)\n",
      "loss tf.Tensor(0.0, shape=(), dtype=float32)\n",
      "loss tf.Tensor(0.0, shape=(), dtype=float32)\n",
      "loss tf.Tensor(0.0, shape=(), dtype=float32)\n",
      "loss tf.Tensor(0.0, shape=(), dtype=float32)\n",
      "loss tf.Tensor(0.0, shape=(), dtype=float32)\n",
      "loss tf.Tensor(0.0, shape=(), dtype=float32)\n",
      "loss tf.Tensor(0.0, shape=(), dtype=float32)\n"
     ]
    },
    {
     "name": "stderr",
     "output_type": "stream",
     "text": [
      " 95%|█████████▌| 9539/10000 [04:58<00:13, 35.10it/s, episode_reward=0, running_reward=0]"
     ]
    },
    {
     "name": "stdout",
     "output_type": "stream",
     "text": [
      "loss tf.Tensor(0.0, shape=(), dtype=float32)\n",
      "loss tf.Tensor(0.0, shape=(), dtype=float32)\n",
      "loss tf.Tensor(0.0, shape=(), dtype=float32)\n",
      "loss tf.Tensor(0.0, shape=(), dtype=float32)\n",
      "loss tf.Tensor(0.0, shape=(), dtype=float32)\n",
      "loss tf.Tensor(0.0, shape=(), dtype=float32)\n",
      "loss tf.Tensor(0.0, shape=(), dtype=float32)\n",
      "loss tf.Tensor(0.0, shape=(), dtype=float32)\n"
     ]
    },
    {
     "name": "stderr",
     "output_type": "stream",
     "text": [
      " 95%|█████████▌| 9547/10000 [04:58<00:12, 35.54it/s, episode_reward=0, running_reward=0]"
     ]
    },
    {
     "name": "stdout",
     "output_type": "stream",
     "text": [
      "loss tf.Tensor(0.0, shape=(), dtype=float32)\n",
      "loss tf.Tensor(0.0, shape=(), dtype=float32)\n",
      "loss tf.Tensor(0.0, shape=(), dtype=float32)\n",
      "loss tf.Tensor(0.0, shape=(), dtype=float32)\n",
      "loss tf.Tensor(0.0, shape=(), dtype=float32)\n",
      "loss tf.Tensor(0.0, shape=(), dtype=float32)\n",
      "loss tf.Tensor(0.0, shape=(), dtype=float32)\n",
      "loss tf.Tensor(0.0, shape=(), dtype=float32)\n"
     ]
    },
    {
     "name": "stderr",
     "output_type": "stream",
     "text": [
      " 96%|█████████▌| 9555/10000 [04:58<00:12, 35.13it/s, episode_reward=0, running_reward=0]"
     ]
    },
    {
     "name": "stdout",
     "output_type": "stream",
     "text": [
      "loss tf.Tensor(0.0, shape=(), dtype=float32)\n",
      "loss tf.Tensor(0.0, shape=(), dtype=float32)\n",
      "loss tf.Tensor(0.0, shape=(), dtype=float32)\n",
      "loss tf.Tensor(0.0, shape=(), dtype=float32)\n",
      "loss tf.Tensor(0.0, shape=(), dtype=float32)\n",
      "loss tf.Tensor(0.0, shape=(), dtype=float32)\n",
      "loss tf.Tensor(0.0, shape=(), dtype=float32)\n",
      "loss tf.Tensor(0.0, shape=(), dtype=float32)\n"
     ]
    },
    {
     "name": "stderr",
     "output_type": "stream",
     "text": [
      " 96%|█████████▌| 9563/10000 [04:58<00:12, 35.40it/s, episode_reward=0, running_reward=0]"
     ]
    },
    {
     "name": "stdout",
     "output_type": "stream",
     "text": [
      "loss tf.Tensor(0.0, shape=(), dtype=float32)\n",
      "loss tf.Tensor(0.0, shape=(), dtype=float32)\n",
      "loss tf.Tensor(0.0, shape=(), dtype=float32)\n",
      "loss tf.Tensor(0.0, shape=(), dtype=float32)\n",
      "loss tf.Tensor(0.0, shape=(), dtype=float32)\n",
      "loss tf.Tensor(0.0, shape=(), dtype=float32)\n",
      "loss tf.Tensor(0.0, shape=(), dtype=float32)\n",
      "loss tf.Tensor(0.0, shape=(), dtype=float32)\n"
     ]
    },
    {
     "name": "stderr",
     "output_type": "stream",
     "text": [
      " 96%|█████████▌| 9571/10000 [04:58<00:12, 33.45it/s, episode_reward=0, running_reward=0]"
     ]
    },
    {
     "name": "stdout",
     "output_type": "stream",
     "text": [
      "loss tf.Tensor(0.0, shape=(), dtype=float32)\n",
      "loss tf.Tensor(0.0, shape=(), dtype=float32)\n",
      "loss tf.Tensor(0.0, shape=(), dtype=float32)\n",
      "loss tf.Tensor(0.0, shape=(), dtype=float32)\n",
      "loss tf.Tensor(0.0, shape=(), dtype=float32)\n",
      "loss tf.Tensor(0.0, shape=(), dtype=float32)\n",
      "loss tf.Tensor(0.0, shape=(), dtype=float32)\n"
     ]
    },
    {
     "name": "stderr",
     "output_type": "stream",
     "text": [
      " 96%|█████████▌| 9579/10000 [04:59<00:12, 34.69it/s, episode_reward=0, running_reward=0]"
     ]
    },
    {
     "name": "stdout",
     "output_type": "stream",
     "text": [
      "loss tf.Tensor(0.0, shape=(), dtype=float32)\n",
      "loss tf.Tensor(0.0, shape=(), dtype=float32)\n",
      "loss tf.Tensor(0.0, shape=(), dtype=float32)\n",
      "loss tf.Tensor(0.0, shape=(), dtype=float32)\n",
      "loss tf.Tensor(0.0, shape=(), dtype=float32)\n",
      "loss tf.Tensor(0.0, shape=(), dtype=float32)\n",
      "loss tf.Tensor(0.0, shape=(), dtype=float32)\n",
      "loss tf.Tensor(0.0, shape=(), dtype=float32)\n"
     ]
    },
    {
     "name": "stderr",
     "output_type": "stream",
     "text": [
      " 96%|█████████▌| 9583/10000 [04:59<00:16, 24.74it/s, episode_reward=0, running_reward=0]"
     ]
    },
    {
     "name": "stdout",
     "output_type": "stream",
     "text": [
      "loss tf.Tensor(0.0, shape=(), dtype=float32)\n",
      "loss tf.Tensor(0.0, shape=(), dtype=float32)\n",
      "loss tf.Tensor(0.0, shape=(), dtype=float32)\n",
      "loss tf.Tensor(0.0, shape=(), dtype=float32)\n",
      "loss tf.Tensor(0.0, shape=(), dtype=float32)\n"
     ]
    },
    {
     "name": "stderr",
     "output_type": "stream",
     "text": [
      " 96%|█████████▌| 9591/10000 [04:59<00:14, 28.14it/s, episode_reward=0, running_reward=0]"
     ]
    },
    {
     "name": "stdout",
     "output_type": "stream",
     "text": [
      "loss tf.Tensor(0.0, shape=(), dtype=float32)\n",
      "loss tf.Tensor(0.0, shape=(), dtype=float32)\n",
      "loss tf.Tensor(0.0, shape=(), dtype=float32)\n",
      "loss tf.Tensor(0.0, shape=(), dtype=float32)\n",
      "loss tf.Tensor(0.0, shape=(), dtype=float32)\n",
      "loss tf.Tensor(0.0, shape=(), dtype=float32)\n",
      "loss tf.Tensor(0.0, shape=(), dtype=float32)\n"
     ]
    },
    {
     "name": "stderr",
     "output_type": "stream",
     "text": [
      " 96%|█████████▌| 9599/10000 [04:59<00:12, 31.97it/s, episode_reward=0, running_reward=0]"
     ]
    },
    {
     "name": "stdout",
     "output_type": "stream",
     "text": [
      "loss tf.Tensor(0.0, shape=(), dtype=float32)\n",
      "loss tf.Tensor(0.0, shape=(), dtype=float32)\n",
      "loss tf.Tensor(0.0, shape=(), dtype=float32)\n",
      "loss tf.Tensor(0.0, shape=(), dtype=float32)\n",
      "loss tf.Tensor(0.0, shape=(), dtype=float32)\n",
      "loss tf.Tensor(0.0, shape=(), dtype=float32)\n",
      "loss tf.Tensor(0.0, shape=(), dtype=float32)\n",
      "loss tf.Tensor(0.0, shape=(), dtype=float32)\n"
     ]
    },
    {
     "name": "stderr",
     "output_type": "stream",
     "text": [
      " 96%|█████████▌| 9603/10000 [05:00<00:16, 24.80it/s, episode_reward=0, running_reward=0]"
     ]
    },
    {
     "name": "stdout",
     "output_type": "stream",
     "text": [
      "loss tf.Tensor(0.0, shape=(), dtype=float32)\n",
      "loss tf.Tensor(0.0, shape=(), dtype=float32)\n",
      "loss tf.Tensor(0.0, shape=(), dtype=float32)\n"
     ]
    },
    {
     "name": "stderr",
     "output_type": "stream",
     "text": [
      " 96%|█████████▌| 9606/10000 [05:00<00:18, 20.83it/s, episode_reward=0, running_reward=0]"
     ]
    },
    {
     "name": "stdout",
     "output_type": "stream",
     "text": [
      "loss tf.Tensor(0.0, shape=(), dtype=float32)\n",
      "loss tf.Tensor(0.0, shape=(), dtype=float32)\n",
      "loss tf.Tensor(0.0, shape=(), dtype=float32)\n",
      "loss tf.Tensor(0.0, shape=(), dtype=float32)\n"
     ]
    },
    {
     "name": "stderr",
     "output_type": "stream",
     "text": [
      " 96%|█████████▌| 9613/10000 [05:00<00:19, 19.85it/s, episode_reward=0, running_reward=0]"
     ]
    },
    {
     "name": "stdout",
     "output_type": "stream",
     "text": [
      "loss tf.Tensor(0.0, shape=(), dtype=float32)\n",
      "loss tf.Tensor(0.0, shape=(), dtype=float32)\n",
      "loss tf.Tensor(0.0, shape=(), dtype=float32)\n",
      "loss tf.Tensor(0.0, shape=(), dtype=float32)\n",
      "loss tf.Tensor(0.0, shape=(), dtype=float32)\n",
      "loss tf.Tensor(0.0, shape=(), dtype=float32)\n",
      "loss tf.Tensor(0.0, shape=(), dtype=float32)\n",
      "loss tf.Tensor(0.0, shape=(), dtype=float32)\n"
     ]
    },
    {
     "name": "stderr",
     "output_type": "stream",
     "text": [
      " 96%|█████████▌| 9621/10000 [05:00<00:14, 25.75it/s, episode_reward=0, running_reward=0]"
     ]
    },
    {
     "name": "stdout",
     "output_type": "stream",
     "text": [
      "loss tf.Tensor(0.0, shape=(), dtype=float32)\n",
      "loss tf.Tensor(0.0, shape=(), dtype=float32)\n",
      "loss tf.Tensor(0.0, shape=(), dtype=float32)\n",
      "loss tf.Tensor(0.0, shape=(), dtype=float32)\n",
      "loss tf.Tensor(0.0, shape=(), dtype=float32)\n",
      "loss tf.Tensor(0.0, shape=(), dtype=float32)\n",
      "loss tf.Tensor(0.0, shape=(), dtype=float32)\n",
      "loss tf.Tensor(0.0, shape=(), dtype=float32)\n"
     ]
    },
    {
     "name": "stderr",
     "output_type": "stream",
     "text": [
      " 96%|█████████▋| 9629/10000 [05:01<00:12, 30.36it/s, episode_reward=0, running_reward=0]"
     ]
    },
    {
     "name": "stdout",
     "output_type": "stream",
     "text": [
      "loss tf.Tensor(0.0, shape=(), dtype=float32)\n",
      "loss tf.Tensor(0.0, shape=(), dtype=float32)\n",
      "loss tf.Tensor(0.0, shape=(), dtype=float32)\n",
      "loss tf.Tensor(0.0, shape=(), dtype=float32)\n",
      "loss tf.Tensor(0.0, shape=(), dtype=float32)\n",
      "loss tf.Tensor(0.0, shape=(), dtype=float32)\n",
      "loss tf.Tensor(0.0, shape=(), dtype=float32)\n",
      "loss tf.Tensor(0.0, shape=(), dtype=float32)\n"
     ]
    },
    {
     "name": "stderr",
     "output_type": "stream",
     "text": [
      " 96%|█████████▋| 9637/10000 [05:01<00:11, 32.63it/s, episode_reward=0, running_reward=0]"
     ]
    },
    {
     "name": "stdout",
     "output_type": "stream",
     "text": [
      "loss tf.Tensor(0.0, shape=(), dtype=float32)\n",
      "loss tf.Tensor(0.0, shape=(), dtype=float32)\n",
      "loss tf.Tensor(0.0, shape=(), dtype=float32)\n",
      "loss tf.Tensor(0.0, shape=(), dtype=float32)\n",
      "loss tf.Tensor(0.0, shape=(), dtype=float32)\n",
      "loss tf.Tensor(0.0, shape=(), dtype=float32)\n",
      "loss tf.Tensor(0.0, shape=(), dtype=float32)\n",
      "loss tf.Tensor(0.0, shape=(), dtype=float32)\n"
     ]
    },
    {
     "name": "stderr",
     "output_type": "stream",
     "text": [
      " 96%|█████████▋| 9645/10000 [05:01<00:10, 33.48it/s, episode_reward=0, running_reward=0]"
     ]
    },
    {
     "name": "stdout",
     "output_type": "stream",
     "text": [
      "loss tf.Tensor(0.0, shape=(), dtype=float32)\n",
      "loss tf.Tensor(0.0, shape=(), dtype=float32)\n",
      "loss tf.Tensor(0.0, shape=(), dtype=float32)\n",
      "loss tf.Tensor(0.0, shape=(), dtype=float32)\n",
      "loss tf.Tensor(0.0, shape=(), dtype=float32)\n",
      "loss tf.Tensor(0.0, shape=(), dtype=float32)\n",
      "loss tf.Tensor(0.0, shape=(), dtype=float32)\n",
      "loss tf.Tensor(0.0, shape=(), dtype=float32)\n"
     ]
    },
    {
     "name": "stderr",
     "output_type": "stream",
     "text": [
      " 97%|█████████▋| 9653/10000 [05:01<00:09, 35.22it/s, episode_reward=0, running_reward=0]"
     ]
    },
    {
     "name": "stdout",
     "output_type": "stream",
     "text": [
      "loss tf.Tensor(0.0, shape=(), dtype=float32)\n",
      "loss tf.Tensor(0.0, shape=(), dtype=float32)\n",
      "loss tf.Tensor(0.0, shape=(), dtype=float32)\n",
      "loss tf.Tensor(0.0, shape=(), dtype=float32)\n",
      "loss tf.Tensor(0.0, shape=(), dtype=float32)\n",
      "loss tf.Tensor(0.0, shape=(), dtype=float32)\n",
      "loss tf.Tensor(0.0, shape=(), dtype=float32)\n",
      "loss tf.Tensor(0.0, shape=(), dtype=float32)\n"
     ]
    },
    {
     "name": "stderr",
     "output_type": "stream",
     "text": [
      " 97%|█████████▋| 9661/10000 [05:02<00:09, 34.78it/s, episode_reward=0, running_reward=0]"
     ]
    },
    {
     "name": "stdout",
     "output_type": "stream",
     "text": [
      "loss tf.Tensor(0.0, shape=(), dtype=float32)\n",
      "loss tf.Tensor(0.0, shape=(), dtype=float32)\n",
      "loss tf.Tensor(0.0, shape=(), dtype=float32)\n",
      "loss tf.Tensor(0.0, shape=(), dtype=float32)\n",
      "loss tf.Tensor(0.0, shape=(), dtype=float32)\n",
      "loss tf.Tensor(0.0, shape=(), dtype=float32)\n",
      "loss tf.Tensor(0.0, shape=(), dtype=float32)\n"
     ]
    },
    {
     "name": "stderr",
     "output_type": "stream",
     "text": [
      " 97%|█████████▋| 9669/10000 [05:02<00:09, 35.71it/s, episode_reward=0, running_reward=0]"
     ]
    },
    {
     "name": "stdout",
     "output_type": "stream",
     "text": [
      "loss tf.Tensor(0.0, shape=(), dtype=float32)\n",
      "loss tf.Tensor(0.0, shape=(), dtype=float32)\n",
      "loss tf.Tensor(0.0, shape=(), dtype=float32)\n",
      "loss tf.Tensor(0.0, shape=(), dtype=float32)\n",
      "loss tf.Tensor(0.0, shape=(), dtype=float32)\n",
      "loss tf.Tensor(0.0, shape=(), dtype=float32)\n",
      "loss tf.Tensor(0.0, shape=(), dtype=float32)\n",
      "loss tf.Tensor(0.0, shape=(), dtype=float32)\n"
     ]
    },
    {
     "name": "stderr",
     "output_type": "stream",
     "text": [
      " 97%|█████████▋| 9677/10000 [05:02<00:08, 35.92it/s, episode_reward=0, running_reward=0]"
     ]
    },
    {
     "name": "stdout",
     "output_type": "stream",
     "text": [
      "loss tf.Tensor(0.0, shape=(), dtype=float32)\n",
      "loss tf.Tensor(0.0, shape=(), dtype=float32)\n",
      "loss tf.Tensor(0.0, shape=(), dtype=float32)\n",
      "loss tf.Tensor(0.0, shape=(), dtype=float32)\n",
      "loss tf.Tensor(0.0, shape=(), dtype=float32)\n",
      "loss tf.Tensor(0.0, shape=(), dtype=float32)\n",
      "loss tf.Tensor(0.0, shape=(), dtype=float32)\n",
      "loss tf.Tensor(0.0, shape=(), dtype=float32)\n"
     ]
    },
    {
     "name": "stderr",
     "output_type": "stream",
     "text": [
      " 97%|█████████▋| 9677/10000 [05:02<00:08, 35.92it/s, episode_reward=0, running_reward=0]"
     ]
    },
    {
     "name": "stdout",
     "output_type": "stream",
     "text": [
      "loss tf.Tensor(0.0, shape=(), dtype=float32)\n",
      "loss tf.Tensor(0.0, shape=(), dtype=float32)\n"
     ]
    },
    {
     "name": "stderr",
     "output_type": "stream",
     "text": [
      " 97%|█████████▋| 9684/10000 [05:02<00:12, 24.33it/s, episode_reward=0, running_reward=0]"
     ]
    },
    {
     "name": "stdout",
     "output_type": "stream",
     "text": [
      "loss tf.Tensor(0.0, shape=(), dtype=float32)\n",
      "loss tf.Tensor(0.0, shape=(), dtype=float32)\n",
      "loss tf.Tensor(0.0, shape=(), dtype=float32)\n",
      "loss tf.Tensor(0.0, shape=(), dtype=float32)\n",
      "loss tf.Tensor(0.0, shape=(), dtype=float32)\n",
      "loss tf.Tensor(0.0, shape=(), dtype=float32)\n"
     ]
    },
    {
     "name": "stderr",
     "output_type": "stream",
     "text": [
      " 97%|█████████▋| 9692/10000 [05:03<00:10, 29.07it/s, episode_reward=0, running_reward=0]"
     ]
    },
    {
     "name": "stdout",
     "output_type": "stream",
     "text": [
      "loss tf.Tensor(0.0, shape=(), dtype=float32)\n",
      "loss tf.Tensor(0.0, shape=(), dtype=float32)\n",
      "loss tf.Tensor(0.0, shape=(), dtype=float32)\n",
      "loss tf.Tensor(0.0, shape=(), dtype=float32)\n",
      "loss tf.Tensor(0.0, shape=(), dtype=float32)\n",
      "loss tf.Tensor(0.0, shape=(), dtype=float32)\n",
      "loss tf.Tensor(0.0, shape=(), dtype=float32)\n",
      "loss tf.Tensor(0.0, shape=(), dtype=float32)\n"
     ]
    },
    {
     "name": "stderr",
     "output_type": "stream",
     "text": [
      " 97%|█████████▋| 9700/10000 [05:03<00:09, 32.08it/s, episode_reward=0, running_reward=0]"
     ]
    },
    {
     "name": "stdout",
     "output_type": "stream",
     "text": [
      "loss tf.Tensor(0.0, shape=(), dtype=float32)\n",
      "loss tf.Tensor(0.0, shape=(), dtype=float32)\n",
      "loss tf.Tensor(0.0, shape=(), dtype=float32)\n",
      "loss tf.Tensor(0.0, shape=(), dtype=float32)\n",
      "loss tf.Tensor(0.0, shape=(), dtype=float32)\n",
      "loss tf.Tensor(0.0, shape=(), dtype=float32)\n",
      "loss tf.Tensor(0.0, shape=(), dtype=float32)\n",
      "loss tf.Tensor(0.0, shape=(), dtype=float32)\n"
     ]
    },
    {
     "name": "stderr",
     "output_type": "stream",
     "text": [
      " 97%|█████████▋| 9704/10000 [05:03<00:08, 33.09it/s, episode_reward=0, running_reward=0]"
     ]
    },
    {
     "name": "stdout",
     "output_type": "stream",
     "text": [
      "loss tf.Tensor(0.0, shape=(), dtype=float32)\n",
      "loss tf.Tensor(0.0, shape=(), dtype=float32)\n",
      "loss tf.Tensor(0.0, shape=(), dtype=float32)\n"
     ]
    },
    {
     "name": "stderr",
     "output_type": "stream",
     "text": [
      " 97%|█████████▋| 9708/10000 [05:03<00:13, 22.36it/s, episode_reward=0, running_reward=0]"
     ]
    },
    {
     "name": "stdout",
     "output_type": "stream",
     "text": [
      "loss tf.Tensor(0.0, shape=(), dtype=float32)\n",
      "loss tf.Tensor(0.0, shape=(), dtype=float32)\n",
      "loss tf.Tensor(0.0, shape=(), dtype=float32)\n",
      "loss tf.Tensor(0.0, shape=(), dtype=float32)\n",
      "loss tf.Tensor(0.0, shape=(), dtype=float32)\n",
      "loss tf.Tensor(0.0, shape=(), dtype=float32)\n"
     ]
    },
    {
     "name": "stderr",
     "output_type": "stream",
     "text": [
      " 97%|█████████▋| 9716/10000 [05:04<00:10, 27.45it/s, episode_reward=0, running_reward=0]"
     ]
    },
    {
     "name": "stdout",
     "output_type": "stream",
     "text": [
      "loss tf.Tensor(0.0, shape=(), dtype=float32)\n",
      "loss tf.Tensor(0.0, shape=(), dtype=float32)\n",
      "loss tf.Tensor(0.0, shape=(), dtype=float32)\n",
      "loss tf.Tensor(0.0, shape=(), dtype=float32)\n",
      "loss tf.Tensor(0.0, shape=(), dtype=float32)\n",
      "loss tf.Tensor(0.0, shape=(), dtype=float32)\n",
      "loss tf.Tensor(0.0, shape=(), dtype=float32)\n",
      "loss tf.Tensor(0.0, shape=(), dtype=float32)\n"
     ]
    },
    {
     "name": "stderr",
     "output_type": "stream",
     "text": [
      " 97%|█████████▋| 9724/10000 [05:04<00:08, 31.24it/s, episode_reward=0, running_reward=0]"
     ]
    },
    {
     "name": "stdout",
     "output_type": "stream",
     "text": [
      "loss tf.Tensor(0.0, shape=(), dtype=float32)\n",
      "loss tf.Tensor(0.0, shape=(), dtype=float32)\n",
      "loss tf.Tensor(0.0, shape=(), dtype=float32)\n",
      "loss tf.Tensor(0.0, shape=(), dtype=float32)\n",
      "loss tf.Tensor(0.0, shape=(), dtype=float32)\n",
      "loss tf.Tensor(0.0, shape=(), dtype=float32)\n",
      "loss tf.Tensor(0.0, shape=(), dtype=float32)\n",
      "loss tf.Tensor(0.0, shape=(), dtype=float32)\n"
     ]
    },
    {
     "name": "stderr",
     "output_type": "stream",
     "text": [
      " 97%|█████████▋| 9732/10000 [05:04<00:08, 33.24it/s, episode_reward=0, running_reward=0]"
     ]
    },
    {
     "name": "stdout",
     "output_type": "stream",
     "text": [
      "loss tf.Tensor(0.0, shape=(), dtype=float32)\n",
      "loss tf.Tensor(0.0, shape=(), dtype=float32)\n",
      "loss tf.Tensor(0.0, shape=(), dtype=float32)\n",
      "loss tf.Tensor(0.0, shape=(), dtype=float32)\n",
      "loss tf.Tensor(0.0, shape=(), dtype=float32)\n",
      "loss tf.Tensor(0.0, shape=(), dtype=float32)\n",
      "loss tf.Tensor(0.0, shape=(), dtype=float32)\n",
      "loss tf.Tensor(0.0, shape=(), dtype=float32)\n"
     ]
    },
    {
     "name": "stderr",
     "output_type": "stream",
     "text": [
      " 97%|█████████▋| 9736/10000 [05:04<00:07, 33.98it/s, episode_reward=0, running_reward=0]"
     ]
    },
    {
     "name": "stdout",
     "output_type": "stream",
     "text": [
      "loss tf.Tensor(0.0, shape=(), dtype=float32)\n",
      "loss tf.Tensor(0.0, shape=(), dtype=float32)\n",
      "loss tf.Tensor(0.0, shape=(), dtype=float32)\n",
      "loss tf.Tensor(0.0, shape=(), dtype=float32)\n"
     ]
    },
    {
     "name": "stderr",
     "output_type": "stream",
     "text": [
      " 97%|█████████▋| 9743/10000 [05:04<00:10, 24.65it/s, episode_reward=0, running_reward=0]"
     ]
    },
    {
     "name": "stdout",
     "output_type": "stream",
     "text": [
      "loss tf.Tensor(0.0, shape=(), dtype=float32)\n",
      "loss tf.Tensor(0.0, shape=(), dtype=float32)\n",
      "loss tf.Tensor(0.0, shape=(), dtype=float32)\n",
      "loss tf.Tensor(0.0, shape=(), dtype=float32)\n",
      "loss tf.Tensor(0.0, shape=(), dtype=float32)\n",
      "loss tf.Tensor(0.0, shape=(), dtype=float32)\n"
     ]
    },
    {
     "name": "stderr",
     "output_type": "stream",
     "text": [
      " 98%|█████████▊| 9751/10000 [05:05<00:08, 29.77it/s, episode_reward=0, running_reward=0]"
     ]
    },
    {
     "name": "stdout",
     "output_type": "stream",
     "text": [
      "loss tf.Tensor(0.0, shape=(), dtype=float32)\n",
      "loss tf.Tensor(0.0, shape=(), dtype=float32)\n",
      "loss tf.Tensor(0.0, shape=(), dtype=float32)\n",
      "loss tf.Tensor(0.0, shape=(), dtype=float32)\n",
      "loss tf.Tensor(0.0, shape=(), dtype=float32)\n",
      "loss tf.Tensor(0.0, shape=(), dtype=float32)\n",
      "loss tf.Tensor(0.0, shape=(), dtype=float32)\n",
      "loss tf.Tensor(0.0, shape=(), dtype=float32)\n"
     ]
    },
    {
     "name": "stderr",
     "output_type": "stream",
     "text": [
      " 98%|█████████▊| 9759/10000 [05:05<00:07, 32.85it/s, episode_reward=0, running_reward=0]"
     ]
    },
    {
     "name": "stdout",
     "output_type": "stream",
     "text": [
      "loss tf.Tensor(0.0, shape=(), dtype=float32)\n",
      "loss tf.Tensor(0.0, shape=(), dtype=float32)\n",
      "loss tf.Tensor(0.0, shape=(), dtype=float32)\n",
      "loss tf.Tensor(0.0, shape=(), dtype=float32)\n",
      "loss tf.Tensor(0.0, shape=(), dtype=float32)\n",
      "loss tf.Tensor(0.0, shape=(), dtype=float32)\n",
      "loss tf.Tensor(0.0, shape=(), dtype=float32)\n",
      "loss tf.Tensor(0.0, shape=(), dtype=float32)\n"
     ]
    },
    {
     "name": "stderr",
     "output_type": "stream",
     "text": [
      " 98%|█████████▊| 9767/10000 [05:05<00:06, 34.09it/s, episode_reward=0, running_reward=0]"
     ]
    },
    {
     "name": "stdout",
     "output_type": "stream",
     "text": [
      "loss tf.Tensor(0.0, shape=(), dtype=float32)\n",
      "loss tf.Tensor(0.0, shape=(), dtype=float32)\n",
      "loss tf.Tensor(0.0, shape=(), dtype=float32)\n",
      "loss tf.Tensor(0.0, shape=(), dtype=float32)\n",
      "loss tf.Tensor(0.0, shape=(), dtype=float32)\n",
      "loss tf.Tensor(0.0, shape=(), dtype=float32)\n",
      "loss tf.Tensor(0.0, shape=(), dtype=float32)\n"
     ]
    },
    {
     "name": "stderr",
     "output_type": "stream",
     "text": [
      " 98%|█████████▊| 9771/10000 [05:05<00:07, 32.13it/s, episode_reward=0, running_reward=0]"
     ]
    },
    {
     "name": "stdout",
     "output_type": "stream",
     "text": [
      "loss tf.Tensor(0.0, shape=(), dtype=float32)\n",
      "loss tf.Tensor(0.0, shape=(), dtype=float32)\n",
      "loss tf.Tensor(0.0, shape=(), dtype=float32)\n",
      "loss tf.Tensor(0.0, shape=(), dtype=float32)\n",
      "loss tf.Tensor(0.0, shape=(), dtype=float32)\n"
     ]
    },
    {
     "name": "stderr",
     "output_type": "stream",
     "text": [
      " 98%|█████████▊| 9778/10000 [05:06<00:08, 24.78it/s, episode_reward=0, running_reward=0]"
     ]
    },
    {
     "name": "stdout",
     "output_type": "stream",
     "text": [
      "loss tf.Tensor(0.0, shape=(), dtype=float32)\n",
      "loss tf.Tensor(0.0, shape=(), dtype=float32)\n",
      "loss tf.Tensor(0.0, shape=(), dtype=float32)\n",
      "loss tf.Tensor(0.0, shape=(), dtype=float32)\n",
      "loss tf.Tensor(0.0, shape=(), dtype=float32)\n"
     ]
    },
    {
     "name": "stderr",
     "output_type": "stream",
     "text": [
      " 98%|█████████▊| 9782/10000 [05:06<00:08, 26.10it/s, episode_reward=0, running_reward=0]"
     ]
    },
    {
     "name": "stdout",
     "output_type": "stream",
     "text": [
      "loss tf.Tensor(0.0, shape=(), dtype=float32)\n",
      "loss tf.Tensor(0.0, shape=(), dtype=float32)\n",
      "loss tf.Tensor(0.0, shape=(), dtype=float32)\n",
      "loss tf.Tensor(0.0, shape=(), dtype=float32)\n",
      "loss tf.Tensor(0.0, shape=(), dtype=float32)\n",
      "loss tf.Tensor(0.0, shape=(), dtype=float32)\n"
     ]
    },
    {
     "name": "stderr",
     "output_type": "stream",
     "text": [
      " 98%|█████████▊| 9790/10000 [05:06<00:07, 29.97it/s, episode_reward=0, running_reward=0]"
     ]
    },
    {
     "name": "stdout",
     "output_type": "stream",
     "text": [
      "loss tf.Tensor(0.0, shape=(), dtype=float32)\n",
      "loss tf.Tensor(0.0, shape=(), dtype=float32)\n",
      "loss tf.Tensor(0.0, shape=(), dtype=float32)\n",
      "loss tf.Tensor(0.0, shape=(), dtype=float32)\n",
      "loss tf.Tensor(0.0, shape=(), dtype=float32)\n",
      "loss tf.Tensor(0.0, shape=(), dtype=float32)\n",
      "loss tf.Tensor(0.0, shape=(), dtype=float32)\n"
     ]
    },
    {
     "name": "stderr",
     "output_type": "stream",
     "text": [
      " 98%|█████████▊| 9794/10000 [05:06<00:07, 27.03it/s, episode_reward=0, running_reward=0]"
     ]
    },
    {
     "name": "stdout",
     "output_type": "stream",
     "text": [
      "loss tf.Tensor(0.0, shape=(), dtype=float32)\n",
      "loss tf.Tensor(0.0, shape=(), dtype=float32)\n",
      "loss tf.Tensor(0.0, shape=(), dtype=float32)\n",
      "loss tf.Tensor(0.0, shape=(), dtype=float32)\n",
      "loss tf.Tensor(0.0, shape=(), dtype=float32)\n",
      "loss tf.Tensor(0.0, shape=(), dtype=float32)\n"
     ]
    },
    {
     "name": "stderr",
     "output_type": "stream",
     "text": [
      " 98%|█████████▊| 9802/10000 [05:06<00:06, 30.13it/s, episode_reward=0, running_reward=0]"
     ]
    },
    {
     "name": "stdout",
     "output_type": "stream",
     "text": [
      "loss tf.Tensor(0.0, shape=(), dtype=float32)\n",
      "loss tf.Tensor(0.0, shape=(), dtype=float32)\n",
      "loss tf.Tensor(0.0, shape=(), dtype=float32)\n",
      "loss tf.Tensor(0.0, shape=(), dtype=float32)\n",
      "loss tf.Tensor(0.0, shape=(), dtype=float32)\n",
      "loss tf.Tensor(0.0, shape=(), dtype=float32)\n",
      "loss tf.Tensor(0.0, shape=(), dtype=float32)\n"
     ]
    },
    {
     "name": "stderr",
     "output_type": "stream",
     "text": [
      " 98%|█████████▊| 9810/10000 [05:07<00:05, 33.15it/s, episode_reward=0, running_reward=0]"
     ]
    },
    {
     "name": "stdout",
     "output_type": "stream",
     "text": [
      "loss tf.Tensor(0.0, shape=(), dtype=float32)\n",
      "loss tf.Tensor(0.0, shape=(), dtype=float32)\n",
      "loss tf.Tensor(0.0, shape=(), dtype=float32)\n",
      "loss tf.Tensor(0.0, shape=(), dtype=float32)\n",
      "loss tf.Tensor(0.0, shape=(), dtype=float32)\n",
      "loss tf.Tensor(0.0, shape=(), dtype=float32)\n",
      "loss tf.Tensor(0.0, shape=(), dtype=float32)\n",
      "loss tf.Tensor(0.0, shape=(), dtype=float32)\n"
     ]
    },
    {
     "name": "stderr",
     "output_type": "stream",
     "text": [
      " 98%|█████████▊| 9818/10000 [05:07<00:05, 34.34it/s, episode_reward=0, running_reward=0]"
     ]
    },
    {
     "name": "stdout",
     "output_type": "stream",
     "text": [
      "loss tf.Tensor(0.0, shape=(), dtype=float32)\n",
      "loss tf.Tensor(0.0, shape=(), dtype=float32)\n",
      "loss tf.Tensor(0.0, shape=(), dtype=float32)\n",
      "loss tf.Tensor(0.0, shape=(), dtype=float32)\n",
      "loss tf.Tensor(0.0, shape=(), dtype=float32)\n",
      "loss tf.Tensor(0.0, shape=(), dtype=float32)\n",
      "loss tf.Tensor(0.0, shape=(), dtype=float32)\n",
      "loss tf.Tensor(0.0, shape=(), dtype=float32)\n"
     ]
    },
    {
     "name": "stderr",
     "output_type": "stream",
     "text": [
      " 98%|█████████▊| 9826/10000 [05:07<00:04, 34.98it/s, episode_reward=0, running_reward=0]"
     ]
    },
    {
     "name": "stdout",
     "output_type": "stream",
     "text": [
      "loss tf.Tensor(0.0, shape=(), dtype=float32)\n",
      "loss tf.Tensor(0.0, shape=(), dtype=float32)\n",
      "loss tf.Tensor(0.0, shape=(), dtype=float32)\n",
      "loss tf.Tensor(0.0, shape=(), dtype=float32)\n",
      "loss tf.Tensor(0.0, shape=(), dtype=float32)\n",
      "loss tf.Tensor(0.0, shape=(), dtype=float32)\n",
      "loss tf.Tensor(0.0, shape=(), dtype=float32)\n",
      "loss tf.Tensor(0.0, shape=(), dtype=float32)\n"
     ]
    },
    {
     "name": "stderr",
     "output_type": "stream",
     "text": [
      " 98%|█████████▊| 9834/10000 [05:07<00:04, 33.35it/s, episode_reward=0, running_reward=0]"
     ]
    },
    {
     "name": "stdout",
     "output_type": "stream",
     "text": [
      "loss tf.Tensor(0.0, shape=(), dtype=float32)\n",
      "loss tf.Tensor(0.0, shape=(), dtype=float32)\n",
      "loss tf.Tensor(0.0, shape=(), dtype=float32)\n",
      "loss tf.Tensor(0.0, shape=(), dtype=float32)\n",
      "loss tf.Tensor(0.0, shape=(), dtype=float32)\n",
      "loss tf.Tensor(0.0, shape=(), dtype=float32)\n",
      "loss tf.Tensor(0.0, shape=(), dtype=float32)\n"
     ]
    },
    {
     "name": "stderr",
     "output_type": "stream",
     "text": [
      " 98%|█████████▊| 9842/10000 [05:08<00:04, 34.01it/s, episode_reward=0, running_reward=0]"
     ]
    },
    {
     "name": "stdout",
     "output_type": "stream",
     "text": [
      "loss tf.Tensor(0.0, shape=(), dtype=float32)\n",
      "loss tf.Tensor(0.0, shape=(), dtype=float32)\n",
      "loss tf.Tensor(0.0, shape=(), dtype=float32)\n",
      "loss tf.Tensor(0.0, shape=(), dtype=float32)\n",
      "loss tf.Tensor(0.0, shape=(), dtype=float32)\n",
      "loss tf.Tensor(0.0, shape=(), dtype=float32)\n",
      "loss tf.Tensor(0.0, shape=(), dtype=float32)\n"
     ]
    },
    {
     "name": "stderr",
     "output_type": "stream",
     "text": [
      " 98%|█████████▊| 9850/10000 [05:08<00:04, 35.49it/s, episode_reward=0, running_reward=0]"
     ]
    },
    {
     "name": "stdout",
     "output_type": "stream",
     "text": [
      "loss tf.Tensor(0.0, shape=(), dtype=float32)\n",
      "loss tf.Tensor(0.0, shape=(), dtype=float32)\n",
      "loss tf.Tensor(0.0, shape=(), dtype=float32)\n",
      "loss tf.Tensor(0.0, shape=(), dtype=float32)\n",
      "loss tf.Tensor(0.0, shape=(), dtype=float32)\n",
      "loss tf.Tensor(0.0, shape=(), dtype=float32)\n",
      "loss tf.Tensor(0.0, shape=(), dtype=float32)\n",
      "loss tf.Tensor(0.0, shape=(), dtype=float32)\n"
     ]
    },
    {
     "name": "stderr",
     "output_type": "stream",
     "text": [
      " 99%|█████████▊| 9854/10000 [05:08<00:04, 34.42it/s, episode_reward=0, running_reward=0]"
     ]
    },
    {
     "name": "stdout",
     "output_type": "stream",
     "text": [
      "loss tf.Tensor(0.0, shape=(), dtype=float32)\n",
      "loss tf.Tensor(0.0, shape=(), dtype=float32)\n",
      "loss tf.Tensor(0.0, shape=(), dtype=float32)\n",
      "loss tf.Tensor(0.0, shape=(), dtype=float32)\n",
      "loss tf.Tensor(0.0, shape=(), dtype=float32)\n",
      "loss tf.Tensor(0.0, shape=(), dtype=float32)\n",
      "loss tf.Tensor(0.0, shape=(), dtype=float32)\n",
      "loss tf.Tensor(0.0, shape=(), dtype=float32)\n"
     ]
    },
    {
     "name": "stderr",
     "output_type": "stream",
     "text": [
      " 99%|█████████▊| 9866/10000 [05:08<00:03, 35.91it/s, episode_reward=0, running_reward=0]"
     ]
    },
    {
     "name": "stdout",
     "output_type": "stream",
     "text": [
      "loss tf.Tensor(0.0, shape=(), dtype=float32)\n",
      "loss tf.Tensor(0.0, shape=(), dtype=float32)\n",
      "loss tf.Tensor(0.0, shape=(), dtype=float32)\n",
      "loss tf.Tensor(0.0, shape=(), dtype=float32)\n",
      "loss tf.Tensor(0.0, shape=(), dtype=float32)\n",
      "loss tf.Tensor(0.0, shape=(), dtype=float32)\n",
      "loss tf.Tensor(0.0, shape=(), dtype=float32)\n",
      "loss tf.Tensor(0.0, shape=(), dtype=float32)\n"
     ]
    },
    {
     "name": "stderr",
     "output_type": "stream",
     "text": [
      " 99%|█████████▊| 9870/10000 [05:08<00:03, 33.38it/s, episode_reward=0, running_reward=0]"
     ]
    },
    {
     "name": "stdout",
     "output_type": "stream",
     "text": [
      "loss tf.Tensor(0.0, shape=(), dtype=float32)\n",
      "loss tf.Tensor(0.0, shape=(), dtype=float32)\n",
      "loss tf.Tensor(0.0, shape=(), dtype=float32)\n",
      "loss tf.Tensor(0.0, shape=(), dtype=float32)\n",
      "loss tf.Tensor(0.0, shape=(), dtype=float32)\n",
      "loss tf.Tensor(0.0, shape=(), dtype=float32)\n",
      "loss tf.Tensor(0.0, shape=(), dtype=float32)\n"
     ]
    },
    {
     "name": "stderr",
     "output_type": "stream",
     "text": [
      " 99%|█████████▉| 9878/10000 [05:09<00:03, 34.39it/s, episode_reward=0, running_reward=0]"
     ]
    },
    {
     "name": "stdout",
     "output_type": "stream",
     "text": [
      "loss tf.Tensor(0.0, shape=(), dtype=float32)\n",
      "loss tf.Tensor(0.0, shape=(), dtype=float32)\n",
      "loss tf.Tensor(0.0, shape=(), dtype=float32)\n",
      "loss tf.Tensor(0.0, shape=(), dtype=float32)\n",
      "loss tf.Tensor(0.0, shape=(), dtype=float32)\n",
      "loss tf.Tensor(0.0, shape=(), dtype=float32)\n",
      "loss tf.Tensor(0.0, shape=(), dtype=float32)\n",
      "loss tf.Tensor(0.0, shape=(), dtype=float32)\n"
     ]
    },
    {
     "name": "stderr",
     "output_type": "stream",
     "text": [
      " 99%|█████████▉| 9882/10000 [05:09<00:03, 35.17it/s, episode_reward=0, running_reward=0]"
     ]
    },
    {
     "name": "stdout",
     "output_type": "stream",
     "text": [
      "loss tf.Tensor(0.0, shape=(), dtype=float32)\n",
      "loss tf.Tensor(0.0, shape=(), dtype=float32)\n",
      "loss tf.Tensor(0.0, shape=(), dtype=float32)\n"
     ]
    },
    {
     "name": "stderr",
     "output_type": "stream",
     "text": [
      " 99%|█████████▉| 9886/10000 [05:09<00:04, 24.96it/s, episode_reward=0, running_reward=0]"
     ]
    },
    {
     "name": "stdout",
     "output_type": "stream",
     "text": [
      "loss tf.Tensor(0.0, shape=(), dtype=float32)\n",
      "loss tf.Tensor(0.0, shape=(), dtype=float32)\n",
      "loss tf.Tensor(0.0, shape=(), dtype=float32)\n",
      "loss tf.Tensor(0.0, shape=(), dtype=float32)\n"
     ]
    },
    {
     "name": "stderr",
     "output_type": "stream",
     "text": [
      " 99%|█████████▉| 9893/10000 [05:09<00:04, 23.88it/s, episode_reward=0, running_reward=0]"
     ]
    },
    {
     "name": "stdout",
     "output_type": "stream",
     "text": [
      "loss tf.Tensor(0.0, shape=(), dtype=float32)\n",
      "loss tf.Tensor(0.0, shape=(), dtype=float32)\n",
      "loss tf.Tensor(0.0, shape=(), dtype=float32)\n",
      "loss tf.Tensor(0.0, shape=(), dtype=float32)\n",
      "loss tf.Tensor(0.0, shape=(), dtype=float32)\n",
      "loss tf.Tensor(0.0, shape=(), dtype=float32)\n",
      "loss tf.Tensor(0.0, shape=(), dtype=float32)\n",
      "loss tf.Tensor(0.0, shape=(), dtype=float32)\n"
     ]
    },
    {
     "name": "stderr",
     "output_type": "stream",
     "text": [
      " 99%|█████████▉| 9901/10000 [05:10<00:03, 28.76it/s, episode_reward=0, running_reward=0]"
     ]
    },
    {
     "name": "stdout",
     "output_type": "stream",
     "text": [
      "loss tf.Tensor(0.0, shape=(), dtype=float32)\n",
      "loss tf.Tensor(0.0, shape=(), dtype=float32)\n",
      "loss tf.Tensor(0.0, shape=(), dtype=float32)\n",
      "loss tf.Tensor(0.0, shape=(), dtype=float32)\n",
      "loss tf.Tensor(0.0, shape=(), dtype=float32)\n",
      "loss tf.Tensor(0.0, shape=(), dtype=float32)\n",
      "loss tf.Tensor(0.0, shape=(), dtype=float32)\n"
     ]
    },
    {
     "name": "stderr",
     "output_type": "stream",
     "text": [
      " 99%|█████████▉| 9909/10000 [05:10<00:03, 25.03it/s, episode_reward=0, running_reward=0]"
     ]
    },
    {
     "name": "stdout",
     "output_type": "stream",
     "text": [
      "loss tf.Tensor(0.0, shape=(), dtype=float32)\n",
      "loss tf.Tensor(0.0, shape=(), dtype=float32)\n",
      "loss tf.Tensor(0.0, shape=(), dtype=float32)\n",
      "loss tf.Tensor(0.0, shape=(), dtype=float32)\n",
      "loss tf.Tensor(0.0, shape=(), dtype=float32)\n",
      "loss tf.Tensor(0.0, shape=(), dtype=float32)\n",
      "loss tf.Tensor(0.0, shape=(), dtype=float32)\n"
     ]
    },
    {
     "name": "stderr",
     "output_type": "stream",
     "text": [
      " 99%|█████████▉| 9917/10000 [05:10<00:02, 28.88it/s, episode_reward=0, running_reward=0]"
     ]
    },
    {
     "name": "stdout",
     "output_type": "stream",
     "text": [
      "loss tf.Tensor(0.0, shape=(), dtype=float32)\n",
      "loss tf.Tensor(0.0, shape=(), dtype=float32)\n",
      "loss tf.Tensor(0.0, shape=(), dtype=float32)\n",
      "loss tf.Tensor(0.0, shape=(), dtype=float32)\n",
      "loss tf.Tensor(0.0, shape=(), dtype=float32)\n",
      "loss tf.Tensor(0.0, shape=(), dtype=float32)\n",
      "loss tf.Tensor(0.0, shape=(), dtype=float32)\n"
     ]
    },
    {
     "name": "stderr",
     "output_type": "stream",
     "text": [
      " 99%|█████████▉| 9925/10000 [05:10<00:02, 32.28it/s, episode_reward=0, running_reward=0]"
     ]
    },
    {
     "name": "stdout",
     "output_type": "stream",
     "text": [
      "loss tf.Tensor(0.0, shape=(), dtype=float32)\n",
      "loss tf.Tensor(0.0, shape=(), dtype=float32)\n",
      "loss tf.Tensor(0.0, shape=(), dtype=float32)\n",
      "loss tf.Tensor(0.0, shape=(), dtype=float32)\n",
      "loss tf.Tensor(0.0, shape=(), dtype=float32)\n",
      "loss tf.Tensor(0.0, shape=(), dtype=float32)\n",
      "loss tf.Tensor(0.0, shape=(), dtype=float32)\n",
      "loss tf.Tensor(0.0, shape=(), dtype=float32)\n"
     ]
    },
    {
     "name": "stderr",
     "output_type": "stream",
     "text": [
      " 99%|█████████▉| 9933/10000 [05:11<00:01, 34.35it/s, episode_reward=0, running_reward=0]"
     ]
    },
    {
     "name": "stdout",
     "output_type": "stream",
     "text": [
      "loss tf.Tensor(0.0, shape=(), dtype=float32)\n",
      "loss tf.Tensor(0.0, shape=(), dtype=float32)\n",
      "loss tf.Tensor(0.0, shape=(), dtype=float32)\n",
      "loss tf.Tensor(0.0, shape=(), dtype=float32)\n",
      "loss tf.Tensor(0.0, shape=(), dtype=float32)\n",
      "loss tf.Tensor(0.0, shape=(), dtype=float32)\n",
      "loss tf.Tensor(0.0, shape=(), dtype=float32)\n",
      "loss tf.Tensor(0.0, shape=(), dtype=float32)\n"
     ]
    },
    {
     "name": "stderr",
     "output_type": "stream",
     "text": [
      " 99%|█████████▉| 9941/10000 [05:11<00:01, 35.38it/s, episode_reward=0, running_reward=0]"
     ]
    },
    {
     "name": "stdout",
     "output_type": "stream",
     "text": [
      "loss tf.Tensor(0.0, shape=(), dtype=float32)\n",
      "loss tf.Tensor(0.0, shape=(), dtype=float32)\n",
      "loss tf.Tensor(0.0, shape=(), dtype=float32)\n",
      "loss tf.Tensor(0.0, shape=(), dtype=float32)\n",
      "loss tf.Tensor(0.0, shape=(), dtype=float32)\n",
      "loss tf.Tensor(0.0, shape=(), dtype=float32)\n",
      "loss tf.Tensor(0.0, shape=(), dtype=float32)\n",
      "loss tf.Tensor(0.0, shape=(), dtype=float32)\n"
     ]
    },
    {
     "name": "stderr",
     "output_type": "stream",
     "text": [
      " 99%|█████████▉| 9945/10000 [05:11<00:02, 25.56it/s, episode_reward=0, running_reward=0]"
     ]
    },
    {
     "name": "stdout",
     "output_type": "stream",
     "text": [
      "loss tf.Tensor(0.0, shape=(), dtype=float32)\n",
      "loss tf.Tensor(0.0, shape=(), dtype=float32)\n",
      "loss tf.Tensor(0.0, shape=(), dtype=float32)\n",
      "loss tf.Tensor(0.0, shape=(), dtype=float32)\n",
      "loss tf.Tensor(0.0, shape=(), dtype=float32)\n",
      "loss tf.Tensor(0.0, shape=(), dtype=float32)\n"
     ]
    },
    {
     "name": "stderr",
     "output_type": "stream",
     "text": [
      "100%|█████████▉| 9953/10000 [05:11<00:01, 29.94it/s, episode_reward=0, running_reward=0]"
     ]
    },
    {
     "name": "stdout",
     "output_type": "stream",
     "text": [
      "loss tf.Tensor(0.0, shape=(), dtype=float32)\n",
      "loss tf.Tensor(0.0, shape=(), dtype=float32)\n",
      "loss tf.Tensor(0.0, shape=(), dtype=float32)\n",
      "loss tf.Tensor(0.0, shape=(), dtype=float32)\n",
      "loss tf.Tensor(0.0, shape=(), dtype=float32)\n",
      "loss tf.Tensor(0.0, shape=(), dtype=float32)\n",
      "loss tf.Tensor(0.0, shape=(), dtype=float32)\n",
      "loss tf.Tensor(0.0, shape=(), dtype=float32)\n"
     ]
    },
    {
     "name": "stderr",
     "output_type": "stream",
     "text": [
      "100%|█████████▉| 9961/10000 [05:12<00:01, 32.01it/s, episode_reward=0, running_reward=0]"
     ]
    },
    {
     "name": "stdout",
     "output_type": "stream",
     "text": [
      "loss tf.Tensor(0.0, shape=(), dtype=float32)\n",
      "loss tf.Tensor(0.0, shape=(), dtype=float32)\n",
      "loss tf.Tensor(0.0, shape=(), dtype=float32)\n",
      "loss tf.Tensor(0.0, shape=(), dtype=float32)\n",
      "loss tf.Tensor(0.0, shape=(), dtype=float32)\n",
      "loss tf.Tensor(0.0, shape=(), dtype=float32)\n",
      "loss tf.Tensor(0.0, shape=(), dtype=float32)\n"
     ]
    },
    {
     "name": "stderr",
     "output_type": "stream",
     "text": [
      "100%|█████████▉| 9969/10000 [05:12<00:00, 33.70it/s, episode_reward=0, running_reward=0]"
     ]
    },
    {
     "name": "stdout",
     "output_type": "stream",
     "text": [
      "loss tf.Tensor(0.0, shape=(), dtype=float32)\n",
      "loss tf.Tensor(0.0, shape=(), dtype=float32)\n",
      "loss tf.Tensor(0.0, shape=(), dtype=float32)\n",
      "loss tf.Tensor(0.0, shape=(), dtype=float32)\n",
      "loss tf.Tensor(0.0, shape=(), dtype=float32)\n",
      "loss tf.Tensor(0.0, shape=(), dtype=float32)\n",
      "loss tf.Tensor(0.0, shape=(), dtype=float32)\n",
      "loss tf.Tensor(0.0, shape=(), dtype=float32)\n"
     ]
    },
    {
     "name": "stderr",
     "output_type": "stream",
     "text": [
      "100%|█████████▉| 9973/10000 [05:12<00:00, 33.63it/s, episode_reward=0, running_reward=0]"
     ]
    },
    {
     "name": "stdout",
     "output_type": "stream",
     "text": [
      "loss tf.Tensor(0.0, shape=(), dtype=float32)\n",
      "loss tf.Tensor(0.0, shape=(), dtype=float32)\n",
      "loss tf.Tensor(0.0, shape=(), dtype=float32)\n"
     ]
    },
    {
     "name": "stderr",
     "output_type": "stream",
     "text": [
      "100%|█████████▉| 9977/10000 [05:12<00:00, 24.54it/s, episode_reward=0, running_reward=0]"
     ]
    },
    {
     "name": "stdout",
     "output_type": "stream",
     "text": [
      "loss tf.Tensor(0.0, shape=(), dtype=float32)\n",
      "loss tf.Tensor(0.0, shape=(), dtype=float32)\n",
      "loss tf.Tensor(0.0, shape=(), dtype=float32)\n",
      "loss tf.Tensor(0.0, shape=(), dtype=float32)\n",
      "loss tf.Tensor(0.0, shape=(), dtype=float32)\n",
      "loss tf.Tensor(0.0, shape=(), dtype=float32)\n",
      "loss tf.Tensor(0.0, shape=(), dtype=float32)\n"
     ]
    },
    {
     "name": "stderr",
     "output_type": "stream",
     "text": [
      "100%|█████████▉| 9985/10000 [05:12<00:00, 28.61it/s, episode_reward=0, running_reward=0]"
     ]
    },
    {
     "name": "stdout",
     "output_type": "stream",
     "text": [
      "loss tf.Tensor(0.0, shape=(), dtype=float32)\n",
      "loss tf.Tensor(0.0, shape=(), dtype=float32)\n",
      "loss tf.Tensor(0.0, shape=(), dtype=float32)\n",
      "loss tf.Tensor(0.0, shape=(), dtype=float32)\n",
      "loss tf.Tensor(0.0, shape=(), dtype=float32)\n",
      "loss tf.Tensor(0.0, shape=(), dtype=float32)\n",
      "loss tf.Tensor(0.0, shape=(), dtype=float32)\n",
      "loss tf.Tensor(0.0, shape=(), dtype=float32)\n"
     ]
    },
    {
     "name": "stderr",
     "output_type": "stream",
     "text": [
      "100%|█████████▉| 9993/10000 [05:13<00:00, 31.59it/s, episode_reward=0, running_reward=0]"
     ]
    },
    {
     "name": "stdout",
     "output_type": "stream",
     "text": [
      "loss tf.Tensor(0.0, shape=(), dtype=float32)\n",
      "loss tf.Tensor(0.0, shape=(), dtype=float32)\n",
      "loss tf.Tensor(0.0, shape=(), dtype=float32)\n",
      "loss tf.Tensor(0.0, shape=(), dtype=float32)\n",
      "loss tf.Tensor(0.0, shape=(), dtype=float32)\n",
      "loss tf.Tensor(0.0, shape=(), dtype=float32)\n",
      "loss tf.Tensor(0.0, shape=(), dtype=float32)\n",
      "loss tf.Tensor(0.0, shape=(), dtype=float32)\n"
     ]
    },
    {
     "name": "stderr",
     "output_type": "stream",
     "text": [
      "100%|██████████| 10000/10000 [05:13<00:00, 31.92it/s, episode_reward=0, running_reward=0]\n"
     ]
    },
    {
     "name": "stdout",
     "output_type": "stream",
     "text": [
      "loss tf.Tensor(0.0, shape=(), dtype=float32)\n",
      "loss tf.Tensor(0.0, shape=(), dtype=float32)\n",
      "loss tf.Tensor(0.0, shape=(), dtype=float32)\n",
      "loss tf.Tensor(0.0, shape=(), dtype=float32)\n",
      "\n",
      "Solved at episode 9999: average reward: 0.00!\n",
      "CPU times: user 4min 11s, sys: 10.8 s, total: 4min 22s\n",
      "Wall time: 5min 13s\n"
     ]
    }
   ],
   "source": [
    "%%time\n",
    "\n",
    "min_episodes_criterion = 100\n",
    "max_episodes = 10000\n",
    "max_steps_per_episode = 500\n",
    "\n",
    "# `CartPole-v1` is considered solved if average reward is >= 475 over 500\n",
    "# consecutive trials\n",
    "reward_threshold = 475\n",
    "running_reward = 0\n",
    "\n",
    "# The discount factor for future rewards\n",
    "gamma = 0.99\n",
    "\n",
    "# Keep the last episodes reward\n",
    "episodes_reward: collections.deque = collections.deque(maxlen=min_episodes_criterion)\n",
    "\n",
    "t = tqdm.trange(max_episodes)\n",
    "for i in t:\n",
    "    initial_state_info = EnvTest._reset()\n",
    "    initial_state =initial_state_info.observation\n",
    "   \n",
    "    initial_state = tf.constant(initial_state, dtype=tf.float32)\n",
    "    episode_reward, loss = train_step(\n",
    "        initial_state, model, optimizer, gamma, max_steps_per_episode)\n",
    "    \n",
    "    print(\"loss\", loss)\n",
    "    episode_reward = int(episode_reward)\n",
    "    episodes_reward.append(episode_reward)\n",
    "    running_reward = statistics.mean(episodes_reward)\n",
    "\n",
    "\n",
    "    t.set_postfix(\n",
    "        episode_reward=episode_reward, running_reward=running_reward)\n",
    "\n",
    "    # Show the average episode reward every 10 episodes\n",
    "    if i % 10 == 0:\n",
    "      pass # print(f'Episode {i}: average reward: {avg_reward}')\n",
    "\n",
    "    if running_reward > reward_threshold and i >= min_episodes_criterion:\n",
    "        break\n",
    "\n",
    "print(f'\\nSolved at episode {i}: average reward: {running_reward:.2f}!')"
   ]
  },
  {
   "cell_type": "code",
   "execution_count": null,
   "id": "6f5ca7c3",
   "metadata": {},
   "outputs": [],
   "source": []
  }
 ],
 "metadata": {
  "kernelspec": {
   "display_name": "rlEnv",
   "language": "python",
   "name": "python3"
  },
  "language_info": {
   "codemirror_mode": {
    "name": "ipython",
    "version": 3
   },
   "file_extension": ".py",
   "mimetype": "text/x-python",
   "name": "python",
   "nbconvert_exporter": "python",
   "pygments_lexer": "ipython3",
   "version": "3.10.16"
  }
 },
 "nbformat": 4,
 "nbformat_minor": 5
}
